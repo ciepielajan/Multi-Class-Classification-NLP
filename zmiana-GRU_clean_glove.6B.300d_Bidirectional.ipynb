{
  "nbformat": 4,
  "nbformat_minor": 0,
  "metadata": {
    "colab": {
      "name": "Detecting_intentions_MLP",
      "provenance": [],
      "collapsed_sections": [],
      "authorship_tag": "ABX9TyNbkgKKhCiG4Y7vlCM43YW/",
      "include_colab_link": true
    },
    "kernelspec": {
      "name": "python3",
      "display_name": "Python 3"
    },
    "language_info": {
      "name": "python"
    }
  },
  "cells": [
    {
      "cell_type": "markdown",
      "metadata": {
        "id": "view-in-github",
        "colab_type": "text"
      },
      "source": [
        "<a href=\"https://colab.research.google.com/github/ciepielajan/Multi-Class-Classification-NLP/blob/main/zmiana-GRU_clean_glove.6B.300d_Bidirectional.ipynb\" target=\"_parent\"><img src=\"https://colab.research.google.com/assets/colab-badge.svg\" alt=\"Open In Colab\"/></a>"
      ]
    },
    {
      "cell_type": "markdown",
      "metadata": {
        "id": "LsNqh1BptrXp"
      },
      "source": [
        "GRU_clean_glove.6B.300d_Bidirectional"
      ]
    },
    {
      "cell_type": "markdown",
      "metadata": {
        "id": "us7PJ6w-n8ge"
      },
      "source": [
        "#### Pobranie danych"
      ]
    },
    {
      "cell_type": "code",
      "metadata": {
        "colab": {
          "base_uri": "https://localhost:8080/"
        },
        "id": "cZ_7ET22CAsA",
        "outputId": "b9426294-e46e-4e2d-f2c0-6ecb56d83d0b"
      },
      "source": [
        "# https://drive.google.com/file/d/1fI6EXyD9TMTC1jzdu206ljXOGNjdHprq/view?usp=sharing\n",
        "!gdown --id \"1fI6EXyD9TMTC1jzdu206ljXOGNjdHprq\""
      ],
      "execution_count": 1,
      "outputs": [
        {
          "output_type": "stream",
          "text": [
            "Downloading...\n",
            "From: https://drive.google.com/uc?id=1fI6EXyD9TMTC1jzdu206ljXOGNjdHprq\n",
            "To: /content/user_intent.zip\n",
            "\r  0% 0.00/271k [00:00<?, ?B/s]\r100% 271k/271k [00:00<00:00, 2.55MB/s]\n"
          ],
          "name": "stdout"
        }
      ]
    },
    {
      "cell_type": "code",
      "metadata": {
        "colab": {
          "base_uri": "https://localhost:8080/"
        },
        "id": "uWusnzuPCHqv",
        "outputId": "f8dc4d9b-9a57-41dc-a757-81838636f11b"
      },
      "source": [
        "!unzip \"user_intent.zip\""
      ],
      "execution_count": 105,
      "outputs": [
        {
          "output_type": "stream",
          "text": [
            "Archive:  user_intent.zip\n",
            "replace train.csv? [y]es, [n]o, [A]ll, [N]one, [r]ename: n\n",
            "replace __MACOSX/._train.csv? [y]es, [n]o, [A]ll, [N]one, [r]ename: N\n"
          ],
          "name": "stdout"
        }
      ]
    },
    {
      "cell_type": "code",
      "metadata": {
        "id": "9CI1LZgj-Kin"
      },
      "source": [
        ""
      ],
      "execution_count": 644,
      "outputs": []
    },
    {
      "cell_type": "code",
      "metadata": {
        "id": "NUKeVYWfCOdU",
        "colab": {
          "base_uri": "https://localhost:8080/"
        },
        "outputId": "476fe5f3-768c-4501-ac52-f49b7c5bcaf6"
      },
      "source": [
        "import pandas as pd\n",
        "import numpy as np\n",
        "from datetime import datetime\n",
        "\n",
        "data_set_train = pd.read_csv(\"train.csv\")\n",
        "data_set_valid = pd.read_csv(\"validation.csv\")\n",
        "\n",
        "print(data_set_train.shape)\n",
        "print(data_set_valid.shape)\n",
        "\n",
        "print(data_set_train.columns)\n",
        "print(data_set_valid.columns)"
      ],
      "execution_count": 645,
      "outputs": [
        {
          "output_type": "stream",
          "text": [
            "(13784, 2)\n",
            "(700, 2)\n",
            "Index(['text', 'label'], dtype='object')\n",
            "Index(['text', 'label'], dtype='object')\n"
          ],
          "name": "stdout"
        }
      ]
    },
    {
      "cell_type": "markdown",
      "metadata": {
        "id": "8Vg1fqbGoCrp"
      },
      "source": [
        "#### Podstawowy process text"
      ]
    },
    {
      "cell_type": "code",
      "metadata": {
        "id": "5GQNuCjSlz0F"
      },
      "source": [
        "import re\n",
        "def process_text(sentence):\n",
        "    sentence = re.sub('[A-Za-z0-9]+@[a-zA-z].[a-zA-Z]+', '', sentence)  # maile\n",
        "    sentence = re.sub('(http[s]*:[/][/])[a-zA-Z0-9]+', '', sentence)  # linki\n",
        "    sentence = re.sub(r\"<[^>]+>\", \" \", sentence) # remove html tag\n",
        "    sentence = re.sub(r\"[^a-zA-Z\\s]\", \"\", sentence)  # remove punctuations and numbers   \n",
        "    sentence = re.sub(r\"\\b[A-Za-z]{1}\\b\", \"\", sentence)  # remove single characters\n",
        "\n",
        "    sentence = re.sub(\"^\\s+|\\s+$\", \"\", sentence, flags=re.UNICODE) # Remove spaces both in the BEGINNING and in the END of a string:\n",
        "    sentence = \" \".join(re.split(\"\\s+\", sentence, flags=re.UNICODE))  # Remove ONLY DUPLICATE spaces:\n",
        "    sentence = sentence.lower()\n",
        "    \n",
        "    return sentence"
      ],
      "execution_count": 646,
      "outputs": []
    },
    {
      "cell_type": "code",
      "metadata": {
        "id": "RZJOju1sFOwp"
      },
      "source": [
        "data_set_train[\"clean_text\"] = data_set_train[\"text\"].apply(lambda x: process_text(x))"
      ],
      "execution_count": 647,
      "outputs": []
    },
    {
      "cell_type": "markdown",
      "metadata": {
        "id": "7epaW5cXoXef"
      },
      "source": [
        "#### `LabelEncoder` oraz `to_categorical`"
      ]
    },
    {
      "cell_type": "code",
      "metadata": {
        "id": "022rNoaL-xbl",
        "colab": {
          "base_uri": "https://localhost:8080/",
          "height": 204
        },
        "outputId": "3c536a8b-0bf8-42cf-9c25-12424b0986de"
      },
      "source": [
        "from sklearn.preprocessing import LabelEncoder\n",
        "from keras.utils import to_categorical \n",
        "\n",
        "\n",
        "labelencoder = LabelEncoder()\n",
        "data_set_train[\"labelencoder\"] = labelencoder.fit_transform(data_set_train[\"label\"])\n",
        "\n",
        "dummy_y = to_categorical(data_set_train[\"labelencoder\"], dtype =\"float32\")\n",
        "\n",
        "data_set_train[[\"clean_text\",\"label\",\"labelencoder\"]].head(5)"
      ],
      "execution_count": 648,
      "outputs": [
        {
          "output_type": "execute_result",
          "data": {
            "text/html": [
              "<div>\n",
              "<style scoped>\n",
              "    .dataframe tbody tr th:only-of-type {\n",
              "        vertical-align: middle;\n",
              "    }\n",
              "\n",
              "    .dataframe tbody tr th {\n",
              "        vertical-align: top;\n",
              "    }\n",
              "\n",
              "    .dataframe thead th {\n",
              "        text-align: right;\n",
              "    }\n",
              "</style>\n",
              "<table border=\"1\" class=\"dataframe\">\n",
              "  <thead>\n",
              "    <tr style=\"text-align: right;\">\n",
              "      <th></th>\n",
              "      <th>clean_text</th>\n",
              "      <th>label</th>\n",
              "      <th>labelencoder</th>\n",
              "    </tr>\n",
              "  </thead>\n",
              "  <tbody>\n",
              "    <tr>\n",
              "      <th>0</th>\n",
              "      <td>find cinema nearest for films</td>\n",
              "      <td>SearchScreeningEvent</td>\n",
              "      <td>6</td>\n",
              "    </tr>\n",
              "    <tr>\n",
              "      <th>1</th>\n",
              "      <td>give the current series two stars</td>\n",
              "      <td>RateBook</td>\n",
              "      <td>4</td>\n",
              "    </tr>\n",
              "    <tr>\n",
              "      <th>2</th>\n",
              "      <td>find the good girl at movie house</td>\n",
              "      <td>SearchScreeningEvent</td>\n",
              "      <td>6</td>\n",
              "    </tr>\n",
              "    <tr>\n",
              "      <th>3</th>\n",
              "      <td>please make reservations for three at kosher t...</td>\n",
              "      <td>BookRestaurant</td>\n",
              "      <td>1</td>\n",
              "    </tr>\n",
              "    <tr>\n",
              "      <th>4</th>\n",
              "      <td>what is the forecast for here one second from now</td>\n",
              "      <td>GetWeather</td>\n",
              "      <td>2</td>\n",
              "    </tr>\n",
              "  </tbody>\n",
              "</table>\n",
              "</div>"
            ],
            "text/plain": [
              "                                          clean_text  ... labelencoder\n",
              "0                      find cinema nearest for films  ...            6\n",
              "1                  give the current series two stars  ...            4\n",
              "2                  find the good girl at movie house  ...            6\n",
              "3  please make reservations for three at kosher t...  ...            1\n",
              "4  what is the forecast for here one second from now  ...            2\n",
              "\n",
              "[5 rows x 3 columns]"
            ]
          },
          "metadata": {
            "tags": []
          },
          "execution_count": 648
        }
      ]
    },
    {
      "cell_type": "code",
      "metadata": {
        "id": "-RfsD1LSpSag",
        "colab": {
          "base_uri": "https://localhost:8080/"
        },
        "outputId": "8523fc0b-063b-4db6-8e43-8c86946b11f0"
      },
      "source": [
        "dummy_y.shape"
      ],
      "execution_count": 649,
      "outputs": [
        {
          "output_type": "execute_result",
          "data": {
            "text/plain": [
              "(13784, 7)"
            ]
          },
          "metadata": {
            "tags": []
          },
          "execution_count": 649
        }
      ]
    },
    {
      "cell_type": "code",
      "metadata": {
        "id": "S4dq1macoeQC",
        "colab": {
          "base_uri": "https://localhost:8080/"
        },
        "outputId": "b80cd45b-1280-4d1a-adf5-900f84fd0811"
      },
      "source": [
        "id_intention = 6\n",
        "print(\"Sprawdzenie poprawności LabelEncoder i to_categorical \\n\")\n",
        "print(\"Label - \", data_set_train[\"label\"].iloc[id_intention])\n",
        "print(\"LabelEncoder - \", data_set_train[\"labelencoder\"].iloc[id_intention])\n",
        "print()\n",
        "print(\"to_categorical - \", dummy_y[id_intention])\n",
        "print()\n",
        "print(\"return to LabelEncoder - \",np.argmax(dummy_y[id_intention], axis=-1))\n",
        "print(\"return to Label - \",labelencoder.inverse_transform([np.argmax(dummy_y[id_intention], axis=-1)]))"
      ],
      "execution_count": 650,
      "outputs": [
        {
          "output_type": "stream",
          "text": [
            "Sprawdzenie poprawności LabelEncoder i to_categorical \n",
            "\n",
            "Label -  BookRestaurant\n",
            "LabelEncoder -  1\n",
            "\n",
            "to_categorical -  [0. 1. 0. 0. 0. 0. 0.]\n",
            "\n",
            "return to LabelEncoder -  1\n",
            "return to Label -  ['BookRestaurant']\n"
          ],
          "name": "stdout"
        }
      ]
    },
    {
      "cell_type": "markdown",
      "metadata": {
        "id": "-lZTDFgGoSmT"
      },
      "source": [
        "#### Zdefiniowanie X i y"
      ]
    },
    {
      "cell_type": "code",
      "metadata": {
        "id": "JWd9mEjfBAS2"
      },
      "source": [
        "X = data_set_train[\"clean_text\"]\n",
        "y = dummy_y"
      ],
      "execution_count": 651,
      "outputs": []
    },
    {
      "cell_type": "code",
      "metadata": {
        "id": "8jUlcX2npzFs",
        "colab": {
          "base_uri": "https://localhost:8080/"
        },
        "outputId": "ae754767-f68a-4e8f-defa-5b07e0793363"
      },
      "source": [
        "X.shape, y.shape"
      ],
      "execution_count": 652,
      "outputs": [
        {
          "output_type": "execute_result",
          "data": {
            "text/plain": [
              "((13784,), (13784, 7))"
            ]
          },
          "metadata": {
            "tags": []
          },
          "execution_count": 652
        }
      ]
    },
    {
      "cell_type": "markdown",
      "metadata": {
        "id": "9mS_l8wZoO2R"
      },
      "source": [
        "#### Podział zbioru "
      ]
    },
    {
      "cell_type": "code",
      "metadata": {
        "id": "A18D02x5sjFd"
      },
      "source": [
        "from sklearn.model_selection import train_test_split\n",
        "\n",
        "X_train, X_test, y_train, y_test = train_test_split(X, y, test_size=0.2, random_state=42)"
      ],
      "execution_count": 653,
      "outputs": []
    },
    {
      "cell_type": "code",
      "metadata": {
        "id": "i_xH9XIGuYCG",
        "colab": {
          "base_uri": "https://localhost:8080/"
        },
        "outputId": "6dd19a0d-2812-45a1-cf3a-f0bfe91bf04b"
      },
      "source": [
        "X_train.shape, X_test.shape, y_train.shape, y_test.shape"
      ],
      "execution_count": 654,
      "outputs": [
        {
          "output_type": "execute_result",
          "data": {
            "text/plain": [
              "((11027,), (2757,), (11027, 7), (2757, 7))"
            ]
          },
          "metadata": {
            "tags": []
          },
          "execution_count": 654
        }
      ]
    },
    {
      "cell_type": "code",
      "metadata": {
        "id": "-DR0gkd1_Uv0"
      },
      "source": [
        "X_train = X\n",
        "y_train = y"
      ],
      "execution_count": 655,
      "outputs": []
    },
    {
      "cell_type": "markdown",
      "metadata": {
        "id": "chWlDg9Mtmya"
      },
      "source": [
        "#### `Tokenizer` i `pad_sequences`"
      ]
    },
    {
      "cell_type": "code",
      "metadata": {
        "id": "LCm-rbaus6QG"
      },
      "source": [
        "from keras.preprocessing.sequence import pad_sequences\n",
        "from keras.preprocessing.text import Tokenizer"
      ],
      "execution_count": 656,
      "outputs": []
    },
    {
      "cell_type": "code",
      "metadata": {
        "id": "U-ihmlc-s6QG"
      },
      "source": [
        "tokenizer = Tokenizer()  # było 5 tys a domyślne chyba jest 10 tys          <------------------------------------------------\n",
        "tokenizer.fit_on_texts(X_train)\n",
        "\n",
        "X_train = tokenizer.texts_to_sequences(X_train)\n",
        "# X_test = tokenizer.texts_to_sequences(X_test)\n",
        "\n",
        "maxlen = 13              # <------------------------------------------------\n",
        "vocab_size = len(tokenizer.word_index) + 1\n",
        "\n",
        "X_train = pad_sequences(X_train, padding=\"post\", truncating=\"post\", maxlen=maxlen)\n",
        "# X_test = pad_sequences(X_test, padding=\"post\", truncating=\"post\", maxlen=maxlen)"
      ],
      "execution_count": 657,
      "outputs": []
    },
    {
      "cell_type": "markdown",
      "metadata": {
        "id": "s1-W369vaxPo"
      },
      "source": [
        "#### Pobranie Glove"
      ]
    },
    {
      "cell_type": "code",
      "metadata": {
        "id": "GXlya8aOa1d_"
      },
      "source": [
        "# !gdown \"http://nlp.stanford.edu/data/glove.6B.zip\""
      ],
      "execution_count": 658,
      "outputs": []
    },
    {
      "cell_type": "code",
      "metadata": {
        "id": "G_AltESOjY3d"
      },
      "source": [
        "# !unzip \"glove.6B.zip\""
      ],
      "execution_count": 659,
      "outputs": []
    },
    {
      "cell_type": "code",
      "metadata": {
        "colab": {
          "base_uri": "https://localhost:8080/"
        },
        "id": "dZKjZoqJXw4F",
        "outputId": "b41f51ac-343e-4d97-f8d0-86eef4e4cc26"
      },
      "source": [
        "!head -2 \"glove.6B.300d.txt\""
      ],
      "execution_count": 660,
      "outputs": [
        {
          "output_type": "stream",
          "text": [
            "the 0.04656 0.21318 -0.0074364 -0.45854 -0.035639 0.23643 -0.28836 0.21521 -0.13486 -1.6413 -0.26091 0.032434 0.056621 -0.043296 -0.021672 0.22476 -0.075129 -0.067018 -0.14247 0.038825 -0.18951 0.29977 0.39305 0.17887 -0.17343 -0.21178 0.23617 -0.063681 -0.42318 -0.11661 0.093754 0.17296 -0.33073 0.49112 -0.68995 -0.092462 0.24742 -0.17991 0.097908 0.083118 0.15299 -0.27276 -0.038934 0.54453 0.53737 0.29105 -0.0073514 0.04788 -0.4076 -0.026759 0.17919 0.010977 -0.10963 -0.26395 0.07399 0.26236 -0.1508 0.34623 0.25758 0.11971 -0.037135 -0.071593 0.43898 -0.040764 0.016425 -0.4464 0.17197 0.046246 0.058639 0.041499 0.53948 0.52495 0.11361 -0.048315 -0.36385 0.18704 0.092761 -0.11129 -0.42085 0.13992 -0.39338 -0.067945 0.12188 0.16707 0.075169 -0.015529 -0.19499 0.19638 0.053194 0.2517 -0.34845 -0.10638 -0.34692 -0.19024 -0.2004 0.12154 -0.29208 0.023353 -0.11618 -0.35768 0.062304 0.35884 0.02906 0.0073005 0.0049482 -0.15048 -0.12313 0.19337 0.12173 0.44503 0.25147 0.10781 -0.17716 0.038691 0.08153 0.14667 0.063666 0.061332 -0.075569 -0.37724 0.01585 -0.30342 0.28374 -0.042013 -0.040715 -0.15269 0.07498 0.15577 0.10433 0.31393 0.19309 0.19429 0.15185 -0.10192 -0.018785 0.20791 0.13366 0.19038 -0.25558 0.304 -0.01896 0.20147 -0.4211 -0.0075156 -0.27977 -0.19314 0.046204 0.19971 -0.30207 0.25735 0.68107 -0.19409 0.23984 0.22493 0.65224 -0.13561 -0.17383 -0.048209 -0.1186 0.0021588 -0.019525 0.11948 0.19346 -0.4082 -0.082966 0.16626 -0.10601 0.35861 0.16922 0.07259 -0.24803 -0.10024 -0.52491 -0.17745 -0.36647 0.2618 -0.012077 0.08319 -0.21528 0.41045 0.29136 0.30869 0.078864 0.32207 -0.041023 -0.1097 -0.092041 -0.12339 -0.16416 0.35382 -0.082774 0.33171 -0.24738 -0.048928 0.15746 0.18988 -0.026642 0.063315 -0.010673 0.34089 1.4106 0.13417 0.28191 -0.2594 0.055267 -0.052425 -0.25789 0.019127 -0.022084 0.32113 0.068818 0.51207 0.16478 -0.20194 0.29232 0.098575 0.013145 -0.10652 0.1351 -0.045332 0.20697 -0.48425 -0.44706 0.0033305 0.0029264 -0.10975 -0.23325 0.22442 -0.10503 0.12339 0.10978 0.048994 -0.25157 0.40319 0.35318 0.18651 -0.023622 -0.12734 0.11475 0.27359 -0.21866 0.015794 0.81754 -0.023792 -0.85469 -0.16203 0.18076 0.028014 -0.1434 0.0013139 -0.091735 -0.089704 0.11105 -0.16703 0.068377 -0.087388 -0.039789 0.014184 0.21187 0.28579 -0.28797 -0.058996 -0.032436 -0.0047009 -0.17052 -0.034741 -0.11489 0.075093 0.099526 0.048183 -0.073775 -0.41817 0.0041268 0.44414 -0.16062 0.14294 -2.2628 -0.027347 0.81311 0.77417 -0.25639 -0.11576 -0.11982 -0.21363 0.028429 0.27261 0.031026 0.096782 0.0067769 0.14082 -0.013064 -0.29686 -0.079913 0.195 0.031549 0.28506 -0.087461 0.0090611 -0.20989 0.053913\n",
            ", -0.25539 -0.25723 0.13169 -0.042688 0.21817 -0.022702 -0.17854 0.10756 0.058936 -1.3854 0.58509 0.036501 -0.19846 0.19613 0.40929 0.15702 -0.15305 0.050447 0.30045 -0.11295 -0.017043 0.18593 0.19982 0.20053 -0.63141 -0.12622 0.2951 -0.26282 -0.15831 0.0012383 0.011784 0.58758 -0.15914 0.27731 -0.82343 -0.21134 0.013414 0.19637 -0.4147 0.0010276 0.13422 -0.14205 0.051545 0.34993 -0.29868 -0.3209 0.19566 0.47886 0.10744 0.010004 0.18503 0.080694 0.20739 -0.097365 -0.039448 0.020151 -0.17378 0.25679 0.24198 -0.351 0.18759 0.0063857 0.18395 -0.13929 0.0081855 -0.63109 0.29832 0.31731 0.13022 -0.32284 -0.050343 -0.114 0.12097 0.14687 -0.33244 -0.055789 -0.05849 0.27551 -0.043855 0.039664 0.15162 -0.086627 0.067729 0.23146 0.015351 -0.15142 -0.031975 0.45181 -0.068806 -0.077058 0.055193 0.054596 -0.24708 0.031113 -0.12826 0.12782 -0.46708 -0.026264 0.010387 -0.33174 0.17277 -0.26894 0.20467 -0.16181 -0.041519 -0.014878 0.10279 0.18868 -0.23396 -0.018436 -0.14747 -0.32685 -0.022055 -0.054 0.16264 0.27095 -0.22792 -0.0077006 0.11206 -0.039787 -0.11906 0.021773 0.05528 -0.13318 -0.056867 0.008304 -0.027021 0.23447 0.086864 0.12009 -0.30726 0.0024735 0.29041 -0.044887 0.12297 0.13077 0.090807 -0.39141 0.080546 0.18724 -0.097481 0.10397 0.11492 0.17775 -0.18167 0.24652 0.20136 -0.23395 -0.35018 -0.14061 0.17091 -0.095465 -0.10962 -0.09836 0.15344 0.08868 -0.22048 -0.13803 -0.11288 -0.08534 0.072735 -0.12732 -0.1964 -0.10586 0.0020616 0.13496 0.058912 -0.043979 -0.091375 0.24408 0.16872 0.24297 -0.43983 0.47089 -0.018595 0.16146 0.19828 -0.17237 -0.0026998 0.52097 -0.080197 0.43324 -0.066261 0.04324 0.084954 -0.14836 -0.41936 0.15988 -0.18411 0.1321 0.27476 0.27279 -0.13465 -0.091238 -0.32523 0.27936 0.023296 -0.33472 0.016878 -0.055544 0.92915 -0.33914 -0.14791 0.017301 0.18272 0.35108 -0.11438 0.13228 -0.021064 -0.27453 -0.10081 -0.046296 0.21689 -0.056319 0.14651 -0.023536 0.068026 -0.045453 -0.23851 -0.33868 0.31396 -0.031914 -0.019217 0.0018715 -0.13328 0.070148 -0.039761 0.070801 0.0018422 -0.12646 0.028675 -0.095728 0.26673 -0.35536 0.15286 0.064565 0.12647 0.23397 -0.046058 0.13519 -0.14549 0.23031 0.42066 0.16267 -0.16541 -0.0020155 0.080653 -0.30025 -0.076014 0.070612 0.3157 0.05352 -0.10721 -0.1366 0.32214 0.2004 0.11609 -0.22501 0.12155 -0.10851 -0.063187 -0.24553 -0.059751 0.068787 -0.11627 -0.0083402 0.0052044 -0.20159 -0.023663 0.17562 -0.31475 -0.11162 -0.12492 0.10949 -0.26913 0.34893 -1.6997 -0.2447 0.30292 0.05672 -0.31737 0.083612 0.095949 -0.1759 0.10235 0.36808 -0.3438 0.20607 0.19135 0.10992 0.075968 -0.014359 -0.073794 0.22176 0.14652 0.56686 0.053307 -0.2329 -0.12226 0.35499\n"
          ],
          "name": "stdout"
        }
      ]
    },
    {
      "cell_type": "markdown",
      "metadata": {
        "id": "QNM1TtFvbLzp"
      },
      "source": [
        "#### Utworzenie Embedding matrix"
      ]
    },
    {
      "cell_type": "code",
      "metadata": {
        "id": "2VJ63sXjhY26"
      },
      "source": [
        "import numpy as np\n",
        "\n",
        "def create_embedding_matrix(filepath, word_index, embedding_dim):\n",
        "    vocab_size = len(word_index) + 1  # Adding again 1 because of reserved 0 index\n",
        "    embedding_matrix = np.zeros((vocab_size, embedding_dim))\n",
        "\n",
        "    with open(filepath) as f:\n",
        "        for line in f:\n",
        "            word, *vector = line.split()\n",
        "            if word in word_index:\n",
        "                idx = word_index[word] \n",
        "                embedding_matrix[idx] = np.array(\n",
        "                    vector, dtype=np.float32)[:embedding_dim]\n",
        "\n",
        "    return embedding_matrix"
      ],
      "execution_count": 661,
      "outputs": []
    },
    {
      "cell_type": "code",
      "metadata": {
        "id": "Fqz69PLnheBy"
      },
      "source": [
        "embedding_dim = 300\n",
        "embedding_matrix = create_embedding_matrix('glove.6B.300d.txt', tokenizer.word_index, embedding_dim) "
      ],
      "execution_count": 662,
      "outputs": []
    },
    {
      "cell_type": "markdown",
      "metadata": {
        "id": "VHakANxM9lOb"
      },
      "source": [
        "#### Model"
      ]
    },
    {
      "cell_type": "code",
      "metadata": {
        "id": "voT_0sglDTN7"
      },
      "source": [
        "from keras.models import Sequential\n",
        "from keras.layers import GRU, Dense\n",
        "from keras.layers.embeddings import Embedding\n",
        "from keras.models import Model\n",
        "from tensorflow.keras.callbacks import EarlyStopping"
      ],
      "execution_count": 663,
      "outputs": []
    },
    {
      "cell_type": "markdown",
      "metadata": {
        "id": "dlehhRzS_ADA"
      },
      "source": [
        "`Bidirectional` / `dwukierunkowe warstwy rekurencyjne`\n",
        "\n",
        "warstwy przedstawiające te same informacje w sieci rekurencyjnej, ale robiące to na różne sposoby; rozwiązanie to zwiększa dokładność i rozwiązuje problemy z ginięciem informacji"
      ]
    },
    {
      "cell_type": "code",
      "metadata": {
        "id": "iQbBTgv5-iXp"
      },
      "source": [
        "from keras.layers import Bidirectional"
      ],
      "execution_count": 664,
      "outputs": []
    },
    {
      "cell_type": "code",
      "metadata": {
        "id": "tIvlVQnasO3C",
        "colab": {
          "base_uri": "https://localhost:8080/"
        },
        "outputId": "4f81a193-7555-4031-96c3-17c11f714877"
      },
      "source": [
        "model = Sequential()\n",
        "model.add(Embedding(vocab_size, 300, input_length=maxlen))  \n",
        "model.add(Bidirectional(GRU(64)))\n",
        "model.add(Dense(7, activation=\"softmax\"))\n",
        "model.compile(loss=\"categorical_crossentropy\", optimizer=\"adam\", metrics=[\"accuracy\"])\n",
        "print(model.summary())\n",
        "\n",
        "EarlyStop = EarlyStopping(monitor='val_loss', \n",
        "                          patience=2,   # z 5 na 2 <------------------------------------------------\n",
        "                          verbose=1,\n",
        "                          mode='auto')\n",
        "\n",
        "history = model.fit(X_train, \n",
        "                    y_train, \n",
        "                    epochs=20, \n",
        "                    batch_size=64, \n",
        "                    validation_split=0.2, \n",
        "                    callbacks = [EarlyStop] )\n",
        "# scores = model.evaluate(X_test, y_test)\n",
        "# print(f\"Accuracy {scores[1] * 100}\") "
      ],
      "execution_count": 665,
      "outputs": [
        {
          "output_type": "stream",
          "text": [
            "Model: \"sequential_20\"\n",
            "_________________________________________________________________\n",
            "Layer (type)                 Output Shape              Param #   \n",
            "=================================================================\n",
            "embedding_20 (Embedding)     (None, 13, 300)           3384600   \n",
            "_________________________________________________________________\n",
            "bidirectional_20 (Bidirectio (None, 128)               140544    \n",
            "_________________________________________________________________\n",
            "dense_20 (Dense)             (None, 7)                 903       \n",
            "=================================================================\n",
            "Total params: 3,526,047\n",
            "Trainable params: 3,526,047\n",
            "Non-trainable params: 0\n",
            "_________________________________________________________________\n",
            "None\n",
            "Epoch 1/20\n",
            "173/173 [==============================] - 18s 80ms/step - loss: 1.0297 - accuracy: 0.7454 - val_loss: 0.0565 - val_accuracy: 0.9830\n",
            "Epoch 2/20\n",
            "173/173 [==============================] - 13s 75ms/step - loss: 0.0351 - accuracy: 0.9898 - val_loss: 0.0506 - val_accuracy: 0.9830\n",
            "Epoch 3/20\n",
            "173/173 [==============================] - 13s 74ms/step - loss: 0.0122 - accuracy: 0.9973 - val_loss: 0.0529 - val_accuracy: 0.9830\n",
            "Epoch 4/20\n",
            "173/173 [==============================] - 13s 75ms/step - loss: 0.0053 - accuracy: 0.9988 - val_loss: 0.0620 - val_accuracy: 0.9797\n",
            "Epoch 00004: early stopping\n"
          ],
          "name": "stdout"
        }
      ]
    },
    {
      "cell_type": "code",
      "metadata": {
        "id": "bHv6PlrGrYUr",
        "colab": {
          "base_uri": "https://localhost:8080/",
          "height": 545
        },
        "outputId": "f5a53b08-6e99-4b70-afb5-ec58d57ded2c"
      },
      "source": [
        "import matplotlib.pyplot as plt\n",
        "acc = history.history['accuracy']\n",
        "val_acc = history.history['val_accuracy']\n",
        "loss = history.history['loss']\n",
        "val_loss = history.history['val_loss']\n",
        "\n",
        "epochs = range(len(acc))\n",
        "\n",
        "plt.plot(epochs, acc, 'bo', label='Dokladnosc trenowania')\n",
        "plt.plot(epochs, val_acc, 'b', label='Dokladnosc walidacji')\n",
        "plt.title('Dokladnosc trenowania i walidacji')\n",
        "plt.legend()\n",
        "\n",
        "plt.figure()\n",
        "\n",
        "plt.plot(epochs, loss, 'bo', label='Strata trenowania')\n",
        "plt.plot(epochs, val_loss, 'b', label='Strata walidacji')\n",
        "plt.title('Strata trenowania i walidacji')\n",
        "plt.legend()\n",
        "\n",
        "plt.show()"
      ],
      "execution_count": 666,
      "outputs": [
        {
          "output_type": "display_data",
          "data": {
            "image/png": "[encoded data removed]",
            "text/plain": [
              "<Figure size 432x288 with 1 Axes>"
            ]
          },
          "metadata": {
            "tags": [],
            "needs_background": "light"
          }
        },
        {
          "output_type": "display_data",
          "data": {
            "image/png": "[encoded data removed]",
            "text/plain": [
              "<Figure size 432x288 with 1 Axes>"
            ]
          },
          "metadata": {
            "tags": [],
            "needs_background": "light"
          }
        }
      ]
    },
    {
      "cell_type": "code",
      "metadata": {
        "id": "Ui9nW3K0_0bf"
      },
      "source": [
        ""
      ],
      "execution_count": 666,
      "outputs": []
    },
    {
      "cell_type": "code",
      "metadata": {
        "id": "dJtnYTgA_06S"
      },
      "source": [
        ""
      ],
      "execution_count": 666,
      "outputs": []
    },
    {
      "cell_type": "markdown",
      "metadata": {
        "id": "B0IdSKiJtzgd"
      },
      "source": [
        "#### Predykcja na zbiorze validacyjnym"
      ]
    },
    {
      "cell_type": "code",
      "metadata": {
        "id": "27dr_LCO_1IW",
        "colab": {
          "base_uri": "https://localhost:8080/"
        },
        "outputId": "96070a4f-8f84-4d4c-fad5-7b2dd04d3806"
      },
      "source": [
        "# oczysczenie danych\n",
        "data_set_valid[\"clean_text\"] = data_set_valid[\"text\"].apply(lambda x: process_text(x))\n",
        "\n",
        "# labelencoder \n",
        "data_set_valid[\"labelencoder\"] = labelencoder.fit_transform(data_set_valid[\"label\"])\n",
        "\n",
        "# tokenizacja weg przetrenowanego już tokenizera\n",
        "X_validate = tokenizer.texts_to_sequences(data_set_valid[\"clean_text\"])\n",
        "\n",
        "# pad sequel\n",
        "X_validate = pad_sequences(X_validate, padding=\"post\", truncating=\"post\", maxlen=maxlen)\n",
        "X_validate"
      ],
      "execution_count": 667,
      "outputs": [
        {
          "output_type": "execute_result",
          "data": {
            "text/plain": [
              "array([[  15,   42,   50, ...,    0,    0,    0],\n",
              "       [ 242,  184,   21, ...,    0,    0,    0],\n",
              "       [  15,    8,    1, ...,    2,  186, 1253],\n",
              "       ...,\n",
              "       [  26,    1,   83, ...,    0,    0,    0],\n",
              "       [  15,    8,    1, ...,    0,    0,    0],\n",
              "       [  46,   40,    4, ...,    0,    0,    0]], dtype=int32)"
            ]
          },
          "metadata": {
            "tags": []
          },
          "execution_count": 667
        }
      ]
    },
    {
      "cell_type": "code",
      "metadata": {
        "id": "UOPVqktyANNF",
        "colab": {
          "base_uri": "https://localhost:8080/"
        },
        "outputId": "bcf5246c-371d-45de-99d2-7837db717324"
      },
      "source": [
        "dummy_y_valid = data_set_valid[\"labelencoder\"].values\n",
        "dummy_y_valid[:5]"
      ],
      "execution_count": 668,
      "outputs": [
        {
          "output_type": "execute_result",
          "data": {
            "text/plain": [
              "array([6, 3, 2, 0, 6])"
            ]
          },
          "metadata": {
            "tags": []
          },
          "execution_count": 668
        }
      ]
    },
    {
      "cell_type": "code",
      "metadata": {
        "id": "NAiFC304APqL",
        "colab": {
          "base_uri": "https://localhost:8080/"
        },
        "outputId": "e34e9353-408f-4ae5-e013-92dc0a9b48ce"
      },
      "source": [
        "# Sprawdzenie rozmiaru zbiorów validacyjnego\n",
        "X_validate.shape, dummy_y_valid.shape"
      ],
      "execution_count": 669,
      "outputs": [
        {
          "output_type": "execute_result",
          "data": {
            "text/plain": [
              "((700, 13), (700,))"
            ]
          },
          "metadata": {
            "tags": []
          },
          "execution_count": 669
        }
      ]
    },
    {
      "cell_type": "code",
      "metadata": {
        "id": "WRbEdb7AAXGy",
        "colab": {
          "base_uri": "https://localhost:8080/"
        },
        "outputId": "89dfdee4-d635-45d1-9764-ca9f5a43557d"
      },
      "source": [
        "predicted_lstm_val = np.argmax(model.predict(X_validate), axis=-1)\n",
        "predicted_lstm_val[:5]"
      ],
      "execution_count": 670,
      "outputs": [
        {
          "output_type": "execute_result",
          "data": {
            "text/plain": [
              "array([6, 3, 2, 0, 6])"
            ]
          },
          "metadata": {
            "tags": []
          },
          "execution_count": 670
        }
      ]
    },
    {
      "cell_type": "markdown",
      "metadata": {
        "id": "_5wZwn-_uKE9"
      },
      "source": [
        "#### Rozkodowanie przewidzianych i prawidłowych etykiet"
      ]
    },
    {
      "cell_type": "code",
      "metadata": {
        "id": "G4U9hYvnBJ9F",
        "colab": {
          "base_uri": "https://localhost:8080/"
        },
        "outputId": "7038711f-e7af-4ec8-f376-6f6963b16b76"
      },
      "source": [
        "y_pred = labelencoder.inverse_transform(predicted_lstm_val)\n",
        "y_pred = pd.Series(y_pred)\n",
        "y_pred.head()"
      ],
      "execution_count": 671,
      "outputs": [
        {
          "output_type": "execute_result",
          "data": {
            "text/plain": [
              "0    SearchScreeningEvent\n",
              "1               PlayMusic\n",
              "2              GetWeather\n",
              "3           AddToPlaylist\n",
              "4    SearchScreeningEvent\n",
              "dtype: object"
            ]
          },
          "metadata": {
            "tags": []
          },
          "execution_count": 671
        }
      ]
    },
    {
      "cell_type": "code",
      "metadata": {
        "id": "EW03pUanA729",
        "colab": {
          "base_uri": "https://localhost:8080/"
        },
        "outputId": "4735477a-d1f4-4d7e-9bf7-edead30476ab"
      },
      "source": [
        "y_val = labelencoder.inverse_transform(dummy_y_valid)\n",
        "y_val = pd.Series(y_val)\n",
        "y_val.head()"
      ],
      "execution_count": 672,
      "outputs": [
        {
          "output_type": "execute_result",
          "data": {
            "text/plain": [
              "0    SearchScreeningEvent\n",
              "1               PlayMusic\n",
              "2              GetWeather\n",
              "3           AddToPlaylist\n",
              "4    SearchScreeningEvent\n",
              "dtype: object"
            ]
          },
          "metadata": {
            "tags": []
          },
          "execution_count": 672
        }
      ]
    },
    {
      "cell_type": "markdown",
      "metadata": {
        "id": "RcGfyRgQudTZ"
      },
      "source": [
        "#### `Confusion matrix`"
      ]
    },
    {
      "cell_type": "code",
      "metadata": {
        "id": "GXVwswIsA9RT"
      },
      "source": [
        "from sklearn.metrics import accuracy_score, f1_score, classification_report, confusion_matrix\n",
        "%matplotlib inline\n",
        "from matplotlib import pyplot as plt\n",
        "import seaborn as sns"
      ],
      "execution_count": 673,
      "outputs": []
    },
    {
      "cell_type": "code",
      "metadata": {
        "id": "fGr6-cjzBFLc",
        "colab": {
          "base_uri": "https://localhost:8080/",
          "height": 704
        },
        "outputId": "5cfbcd33-2914-4bd2-c934-8e2477e0d497"
      },
      "source": [
        "classes = np.unique(y_val)\n",
        "\n",
        "print('Accuracy:', round(accuracy_score(y_val, y_pred),2))\n",
        "print('F1_score:', round(f1_score(y_val, y_pred, average='weighted'),2))\n",
        "\n",
        "print(classification_report(y_val, y_pred))\n",
        "# Plot confusion matrix\n",
        "cm = confusion_matrix(y_val, y_pred)\n",
        "fig, ax = plt.subplots()\n",
        "sns.heatmap(cm, annot=True, fmt='d', ax=ax, cmap=plt.cm.Blues, cbar=False)\n",
        "ax.set(xlabel='Pred', ylabel='True', xticklabels=classes, yticklabels=classes, title='Confusion matrix')\n",
        "plt.yticks(rotation=0)\n",
        "plt.xticks(rotation=90)"
      ],
      "execution_count": 674,
      "outputs": [
        {
          "output_type": "stream",
          "text": [
            "Accuracy: 0.98\n",
            "F1_score: 0.98\n",
            "                      precision    recall  f1-score   support\n",
            "\n",
            "       AddToPlaylist       0.97      0.99      0.98       100\n",
            "      BookRestaurant       0.98      1.00      0.99       100\n",
            "          GetWeather       1.00      0.99      0.99       100\n",
            "           PlayMusic       1.00      0.96      0.98       100\n",
            "            RateBook       1.00      0.99      0.99       100\n",
            "  SearchCreativeWork       0.94      0.99      0.97       100\n",
            "SearchScreeningEvent       0.99      0.96      0.97       100\n",
            "\n",
            "            accuracy                           0.98       700\n",
            "           macro avg       0.98      0.98      0.98       700\n",
            "        weighted avg       0.98      0.98      0.98       700\n",
            "\n"
          ],
          "name": "stdout"
        },
        {
          "output_type": "execute_result",
          "data": {
            "text/plain": [
              "(array([0.5, 1.5, 2.5, 3.5, 4.5, 5.5, 6.5]),\n",
              " <a list of 7 Text major ticklabel objects>)"
            ]
          },
          "metadata": {
            "tags": []
          },
          "execution_count": 674
        },
        {
          "output_type": "display_data",
          "data": {
            "image/png": "[encoded data removed]",
            "text/plain": [
              "<Figure size 432x288 with 1 Axes>"
            ]
          },
          "metadata": {
            "tags": [],
            "needs_background": "light"
          }
        }
      ]
    },
    {
      "cell_type": "markdown",
      "metadata": {
        "id": "9uxfqF9uum32"
      },
      "source": [
        "#### Zapoznanie się z błędnymi predykcjami "
      ]
    },
    {
      "cell_type": "code",
      "metadata": {
        "id": "28QYnOPM-mJz",
        "colab": {
          "base_uri": "https://localhost:8080/"
        },
        "outputId": "dc16abfd-37f3-4a11-a053-5f0061cee1a2"
      },
      "source": [
        "indexes = []\n",
        "for i, phrase in enumerate(y_pred):\n",
        "  if phrase == 'SearchCreativeWork':\n",
        "    if y_val[i] == 'SearchScreeningEvent':\n",
        "      indexes.append(i)\n",
        "print(indexes)"
      ],
      "execution_count": 675,
      "outputs": [
        {
          "output_type": "stream",
          "text": [
            "[145, 568, 648, 689]\n"
          ],
          "name": "stdout"
        }
      ]
    },
    {
      "cell_type": "code",
      "metadata": {
        "id": "ouy1yzy8-048",
        "colab": {
          "base_uri": "https://localhost:8080/"
        },
        "outputId": "e719787a-afca-41a1-b117-ee32aac4a04b"
      },
      "source": [
        "for i in indexes:\n",
        "  print(f\"----------------------------\\nTekst komendy:\\n{data_set_valid['text'][i]}\")\n",
        "  print(f\"Oczyszczona komenda:\\n{data_set_valid['clean_text'][i]}\")\n",
        "  print(f'True category: {y_val[i]}')\n",
        "  print(f'Predicted category: {y_pred[i]}')\n",
        "  print(\"\\n\")"
      ],
      "execution_count": 676,
      "outputs": [
        {
          "output_type": "stream",
          "text": [
            "----------------------------\n",
            "Tekst komendy:\n",
            "I want to see Medal for the General\n",
            "Oczyszczona komenda:\n",
            "want to see medal for the general\n",
            "True category: SearchScreeningEvent\n",
            "Predicted category: SearchCreativeWork\n",
            "\n",
            "\n",
            "----------------------------\n",
            "Tekst komendy:\n",
            "Can you check the timings for Super Sweet 16: The Movie?\n",
            "Oczyszczona komenda:\n",
            "can you check the timings for super sweet the movie\n",
            "True category: SearchScreeningEvent\n",
            "Predicted category: SearchCreativeWork\n",
            "\n",
            "\n",
            "----------------------------\n",
            "Tekst komendy:\n",
            "I want to see Outcast.\n",
            "Oczyszczona komenda:\n",
            "want to see outcast\n",
            "True category: SearchScreeningEvent\n",
            "Predicted category: SearchCreativeWork\n",
            "\n",
            "\n",
            "----------------------------\n",
            "Tekst komendy:\n",
            "I want to see Fear Chamber.\n",
            "Oczyszczona komenda:\n",
            "want to see fear chamber\n",
            "True category: SearchScreeningEvent\n",
            "Predicted category: SearchCreativeWork\n",
            "\n",
            "\n"
          ],
          "name": "stdout"
        }
      ]
    },
    {
      "cell_type": "markdown",
      "metadata": {
        "id": "lm61MY9CSpLm"
      },
      "source": [
        "Wnioski:\n",
        ">  "
      ]
    }
  ]
}