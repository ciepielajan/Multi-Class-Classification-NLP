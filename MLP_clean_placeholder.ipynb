{
  "nbformat": 4,
  "nbformat_minor": 0,
  "metadata": {
    "colab": {
      "name": "Detecting_intentions_MLP",
      "provenance": [],
      "collapsed_sections": [],
      "authorship_tag": "ABX9TyMOAPT7CTjvucCFrL3QcIKP",
      "include_colab_link": true
    },
    "kernelspec": {
      "name": "python3",
      "display_name": "Python 3"
    },
    "language_info": {
      "name": "python"
    }
  },
  "cells": [
    {
      "cell_type": "markdown",
      "metadata": {
        "id": "view-in-github",
        "colab_type": "text"
      },
      "source": [
        "<a href=\"https://colab.research.google.com/github/ciepielajan/Multi-Class-Classification-NLP/blob/main/MLP_clean_placeholder.ipynb\" target=\"_parent\"><img src=\"https://colab.research.google.com/assets/colab-badge.svg\" alt=\"Open In Colab\"/></a>"
      ]
    },
    {
      "cell_type": "markdown",
      "metadata": {
        "id": "FeNbiQPho0OC"
      },
      "source": [
        "MLP_clean_placeholder"
      ]
    },
    {
      "cell_type": "markdown",
      "metadata": {
        "id": "us7PJ6w-n8ge"
      },
      "source": [
        "#### Pobranie danych"
      ]
    },
    {
      "cell_type": "code",
      "metadata": {
        "colab": {
          "base_uri": "https://localhost:8080/"
        },
        "id": "cZ_7ET22CAsA",
        "outputId": "d2f9b8d1-1af8-4c8b-e1d9-c7fd8a07fab2"
      },
      "source": [
        "# https://drive.google.com/file/d/1fI6EXyD9TMTC1jzdu206ljXOGNjdHprq/view?usp=sharing\n",
        "!gdown --id \"1fI6EXyD9TMTC1jzdu206ljXOGNjdHprq\""
      ],
      "execution_count": null,
      "outputs": [
        {
          "output_type": "stream",
          "text": [
            "Downloading...\n",
            "From: https://drive.google.com/uc?id=1fI6EXyD9TMTC1jzdu206ljXOGNjdHprq\n",
            "To: /content/user_intent.zip\n",
            "\r  0% 0.00/271k [00:00<?, ?B/s]\r100% 271k/271k [00:00<00:00, 8.77MB/s]\n"
          ],
          "name": "stdout"
        }
      ]
    },
    {
      "cell_type": "code",
      "metadata": {
        "colab": {
          "base_uri": "https://localhost:8080/"
        },
        "id": "uWusnzuPCHqv",
        "outputId": "e0b94ed2-aa0e-4178-b4ef-f9e233cba5bb"
      },
      "source": [
        "!unzip \"user_intent.zip\""
      ],
      "execution_count": null,
      "outputs": [
        {
          "output_type": "stream",
          "text": [
            "Archive:  user_intent.zip\n",
            "  inflating: train.csv               \n",
            "  inflating: __MACOSX/._train.csv    \n",
            "  inflating: validation.csv          \n"
          ],
          "name": "stdout"
        }
      ]
    },
    {
      "cell_type": "code",
      "metadata": {
        "id": "9CI1LZgj-Kin"
      },
      "source": [
        ""
      ],
      "execution_count": null,
      "outputs": []
    },
    {
      "cell_type": "code",
      "metadata": {
        "colab": {
          "base_uri": "https://localhost:8080/"
        },
        "id": "NUKeVYWfCOdU",
        "outputId": "a2fdcd30-73d9-4a5d-d3af-0c0124d42887"
      },
      "source": [
        "import pandas as pd\n",
        "import numpy as np\n",
        "\n",
        "data_set_train = pd.read_csv(\"train.csv\")\n",
        "data_set_valid = pd.read_csv(\"validation.csv\")\n",
        "\n",
        "print(data_set_train.shape)\n",
        "print(data_set_valid.shape)\n",
        "\n",
        "print(data_set_train.columns)\n",
        "print(data_set_valid.columns)"
      ],
      "execution_count": null,
      "outputs": [
        {
          "output_type": "stream",
          "text": [
            "(13784, 2)\n",
            "(700, 2)\n",
            "Index(['text', 'label'], dtype='object')\n",
            "Index(['text', 'label'], dtype='object')\n"
          ],
          "name": "stdout"
        }
      ]
    },
    {
      "cell_type": "markdown",
      "metadata": {
        "id": "8Vg1fqbGoCrp"
      },
      "source": [
        "#### Podstawowy process text"
      ]
    },
    {
      "cell_type": "code",
      "metadata": {
        "id": "5GQNuCjSlz0F"
      },
      "source": [
        "import re\n",
        "def process_text(sentence):\n",
        "    sentence = re.sub('[A-Za-z0-9]+@[a-zA-z].[a-zA-Z]+', '', sentence)  # maile\n",
        "    sentence = re.sub('(http[s]*:[/][/])[a-zA-Z0-9]+', '', sentence)  # linki\n",
        "    sentence = re.sub(r\"<[^>]+>\", \" \", sentence) # remove html tag\n",
        "    sentence = re.sub(r\"[^a-zA-Z\\s]\", \"\", sentence)  # remove punctuations and numbers   \n",
        "    sentence = re.sub(r\"\\b[A-Za-z]{1}\\b\", \"\", sentence)  # remove single characters\n",
        "\n",
        "    sentence = re.sub(\"^\\s+|\\s+$\", \"\", sentence, flags=re.UNICODE) # Remove spaces both in the BEGINNING and in the END of a string:\n",
        "    sentence = \" \".join(re.split(\"\\s+\", sentence, flags=re.UNICODE))  # Remove ONLY DUPLICATE spaces:\n",
        "    sentence = sentence.lower()\n",
        "    \n",
        "    return sentence"
      ],
      "execution_count": null,
      "outputs": []
    },
    {
      "cell_type": "code",
      "metadata": {
        "id": "RZJOju1sFOwp"
      },
      "source": [
        "data_set_train[\"clean_text\"] = data_set_train[\"text\"].apply(lambda x: process_text(x))"
      ],
      "execution_count": null,
      "outputs": []
    },
    {
      "cell_type": "markdown",
      "metadata": {
        "id": "7epaW5cXoXef"
      },
      "source": [
        "#### `LabelEncoder` oraz `to_categorical`"
      ]
    },
    {
      "cell_type": "code",
      "metadata": {
        "colab": {
          "base_uri": "https://localhost:8080/",
          "height": 202
        },
        "id": "022rNoaL-xbl",
        "outputId": "fea58098-9276-44b7-b224-281dbaf2f232"
      },
      "source": [
        "from sklearn.preprocessing import LabelEncoder\n",
        "from keras.utils import to_categorical \n",
        "\n",
        "\n",
        "labelencoder = LabelEncoder()\n",
        "labelencoder.fit(data_set_train[\"label\"])\n",
        "\n",
        "data_set_train[\"labelencoder\"] = labelencoder.transform(data_set_train[\"label\"])\n",
        "\n",
        "dummy_y = to_categorical(data_set_train[\"labelencoder\"], dtype =\"float32\")\n",
        "\n",
        "data_set_train[[\"clean_text\",\"label\",\"labelencoder\"]].head(5)"
      ],
      "execution_count": null,
      "outputs": [
        {
          "output_type": "execute_result",
          "data": {
            "text/html": [
              "<div>\n",
              "<style scoped>\n",
              "    .dataframe tbody tr th:only-of-type {\n",
              "        vertical-align: middle;\n",
              "    }\n",
              "\n",
              "    .dataframe tbody tr th {\n",
              "        vertical-align: top;\n",
              "    }\n",
              "\n",
              "    .dataframe thead th {\n",
              "        text-align: right;\n",
              "    }\n",
              "</style>\n",
              "<table border=\"1\" class=\"dataframe\">\n",
              "  <thead>\n",
              "    <tr style=\"text-align: right;\">\n",
              "      <th></th>\n",
              "      <th>clean_text</th>\n",
              "      <th>label</th>\n",
              "      <th>labelencoder</th>\n",
              "    </tr>\n",
              "  </thead>\n",
              "  <tbody>\n",
              "    <tr>\n",
              "      <th>0</th>\n",
              "      <td>find cinema nearest for films</td>\n",
              "      <td>SearchScreeningEvent</td>\n",
              "      <td>6</td>\n",
              "    </tr>\n",
              "    <tr>\n",
              "      <th>1</th>\n",
              "      <td>give the current series two stars</td>\n",
              "      <td>RateBook</td>\n",
              "      <td>4</td>\n",
              "    </tr>\n",
              "    <tr>\n",
              "      <th>2</th>\n",
              "      <td>find the good girl at movie house</td>\n",
              "      <td>SearchScreeningEvent</td>\n",
              "      <td>6</td>\n",
              "    </tr>\n",
              "    <tr>\n",
              "      <th>3</th>\n",
              "      <td>please make reservations for three at kosher t...</td>\n",
              "      <td>BookRestaurant</td>\n",
              "      <td>1</td>\n",
              "    </tr>\n",
              "    <tr>\n",
              "      <th>4</th>\n",
              "      <td>what is the forecast for here one second from now</td>\n",
              "      <td>GetWeather</td>\n",
              "      <td>2</td>\n",
              "    </tr>\n",
              "  </tbody>\n",
              "</table>\n",
              "</div>"
            ],
            "text/plain": [
              "                                          clean_text  ... labelencoder\n",
              "0                      find cinema nearest for films  ...            6\n",
              "1                  give the current series two stars  ...            4\n",
              "2                  find the good girl at movie house  ...            6\n",
              "3  please make reservations for three at kosher t...  ...            1\n",
              "4  what is the forecast for here one second from now  ...            2\n",
              "\n",
              "[5 rows x 3 columns]"
            ]
          },
          "metadata": {
            "tags": []
          },
          "execution_count": 6
        }
      ]
    },
    {
      "cell_type": "code",
      "metadata": {
        "colab": {
          "base_uri": "https://localhost:8080/"
        },
        "id": "-RfsD1LSpSag",
        "outputId": "898f29df-aba6-4f64-f7a2-f6274109600b"
      },
      "source": [
        "dummy_y.shape"
      ],
      "execution_count": null,
      "outputs": [
        {
          "output_type": "execute_result",
          "data": {
            "text/plain": [
              "(13784, 7)"
            ]
          },
          "metadata": {
            "tags": []
          },
          "execution_count": 7
        }
      ]
    },
    {
      "cell_type": "code",
      "metadata": {
        "colab": {
          "base_uri": "https://localhost:8080/"
        },
        "id": "S4dq1macoeQC",
        "outputId": "d2a2caa4-22af-4afa-9163-800cf3e4b13f"
      },
      "source": [
        "id_intention = 4\n",
        "print(\"Sprawdzenie poprawności LabelEncoder i to_categorical \\n\")\n",
        "print(\"Label - \", data_set_train[\"label\"].iloc[id_intention])\n",
        "print(\"LabelEncoder - \", data_set_train[\"labelencoder\"].iloc[id_intention])\n",
        "print()\n",
        "print(\"to_categorical - \", dummy_y[id_intention])\n",
        "print()\n",
        "print(\"return to LabelEncoder - \",np.argmax(dummy_y[id_intention], axis=-1))\n",
        "print(\"return to Label - \",labelencoder.inverse_transform([np.argmax(dummy_y[id_intention], axis=-1)]))"
      ],
      "execution_count": null,
      "outputs": [
        {
          "output_type": "stream",
          "text": [
            "Sprawdzenie poprawności LabelEncoder i to_categorical \n",
            "\n",
            "Label -  GetWeather\n",
            "LabelEncoder -  2\n",
            "\n",
            "to_categorical -  [0. 0. 1. 0. 0. 0. 0.]\n",
            "\n",
            "return to LabelEncoder -  2\n",
            "return to Label -  ['GetWeather']\n"
          ],
          "name": "stdout"
        }
      ]
    },
    {
      "cell_type": "markdown",
      "metadata": {
        "id": "-lZTDFgGoSmT"
      },
      "source": [
        "#### Zdefiniowanie X i y"
      ]
    },
    {
      "cell_type": "code",
      "metadata": {
        "id": "JWd9mEjfBAS2"
      },
      "source": [
        "X = data_set_train[\"clean_text\"]\n",
        "y = dummy_y"
      ],
      "execution_count": null,
      "outputs": []
    },
    {
      "cell_type": "code",
      "metadata": {
        "colab": {
          "base_uri": "https://localhost:8080/"
        },
        "id": "8jUlcX2npzFs",
        "outputId": "4430258c-c101-41eb-b7f5-34fcb89133fc"
      },
      "source": [
        "X.shape, y.shape"
      ],
      "execution_count": null,
      "outputs": [
        {
          "output_type": "execute_result",
          "data": {
            "text/plain": [
              "((13784,), (13784, 7))"
            ]
          },
          "metadata": {
            "tags": []
          },
          "execution_count": 10
        }
      ]
    },
    {
      "cell_type": "markdown",
      "metadata": {
        "id": "9mS_l8wZoO2R"
      },
      "source": [
        "#### Podział zbioru "
      ]
    },
    {
      "cell_type": "code",
      "metadata": {
        "id": "A18D02x5sjFd"
      },
      "source": [
        "from sklearn.model_selection import train_test_split\n",
        "\n",
        "X_train, X_test, y_train, y_test = train_test_split(X, y, test_size=0.2, random_state=42)"
      ],
      "execution_count": null,
      "outputs": []
    },
    {
      "cell_type": "code",
      "metadata": {
        "colab": {
          "base_uri": "https://localhost:8080/"
        },
        "id": "i_xH9XIGuYCG",
        "outputId": "235f4b02-046b-484b-abbb-a7122c74fee5"
      },
      "source": [
        "X_train.shape, X_test.shape, y_train.shape, y_test.shape"
      ],
      "execution_count": null,
      "outputs": [
        {
          "output_type": "execute_result",
          "data": {
            "text/plain": [
              "((11027,), (2757,), (11027, 7), (2757, 7))"
            ]
          },
          "metadata": {
            "tags": []
          },
          "execution_count": 12
        }
      ]
    },
    {
      "cell_type": "code",
      "metadata": {
        "id": "-DR0gkd1_Uv0"
      },
      "source": [
        ""
      ],
      "execution_count": null,
      "outputs": []
    },
    {
      "cell_type": "markdown",
      "metadata": {
        "id": "chWlDg9Mtmya"
      },
      "source": [
        "#### `Tokenizer` i `pad_sequences`"
      ]
    },
    {
      "cell_type": "code",
      "metadata": {
        "id": "LCm-rbaus6QG"
      },
      "source": [
        "from keras.preprocessing.sequence import pad_sequences\n",
        "from keras.preprocessing.text import Tokenizer"
      ],
      "execution_count": null,
      "outputs": []
    },
    {
      "cell_type": "code",
      "metadata": {
        "id": "U-ihmlc-s6QG"
      },
      "source": [
        "tokenizer = Tokenizer(num_words=5000)\n",
        "tokenizer.fit_on_texts(X_train)\n",
        "\n",
        "X_train = tokenizer.texts_to_sequences(X_train)\n",
        "X_test = tokenizer.texts_to_sequences(X_test)\n",
        "\n",
        "maxlen = 7\n",
        "vocab_size = len(tokenizer.word_index) + 1\n",
        "\n",
        "X_train = pad_sequences(X_train, padding=\"post\", truncating=\"post\", maxlen=maxlen)\n",
        "X_test = pad_sequences(X_test, padding=\"post\", truncating=\"post\", maxlen=maxlen)"
      ],
      "execution_count": null,
      "outputs": []
    },
    {
      "cell_type": "markdown",
      "metadata": {
        "id": "pbeVSdurn-Ap"
      },
      "source": [
        "#### Model"
      ]
    },
    {
      "cell_type": "code",
      "metadata": {
        "id": "PaRWehbu_VCe"
      },
      "source": [
        "from keras.models import Sequential\n",
        "from keras.layers import Flatten, SimpleRNN, Dense\n",
        "from keras.layers.embeddings import Embedding\n",
        "from keras.models import Model\n",
        "from tensorflow.keras.callbacks import EarlyStopping"
      ],
      "execution_count": null,
      "outputs": []
    },
    {
      "cell_type": "code",
      "metadata": {
        "colab": {
          "base_uri": "https://localhost:8080/"
        },
        "id": "BGt7E_vj_f5D",
        "outputId": "7c686069-7597-4e07-d25c-564ab0f6ab54"
      },
      "source": [
        "model = Sequential()\n",
        "model.add(Embedding(vocab_size, 100, input_length=maxlen))  \n",
        "model.add(Flatten())\n",
        "model.add(Dense(7, activation=\"softmax\")) # sigmoid / softmax\n",
        "model.compile(loss=\"categorical_crossentropy\", optimizer=\"adam\", metrics=[\"accuracy\"])\n",
        "print(model.summary())"
      ],
      "execution_count": null,
      "outputs": [
        {
          "output_type": "stream",
          "text": [
            "Model: \"sequential\"\n",
            "_________________________________________________________________\n",
            "Layer (type)                 Output Shape              Param #   \n",
            "=================================================================\n",
            "embedding (Embedding)        (None, 7, 100)            976800    \n",
            "_________________________________________________________________\n",
            "flatten (Flatten)            (None, 700)               0         \n",
            "_________________________________________________________________\n",
            "dense (Dense)                (None, 7)                 4907      \n",
            "=================================================================\n",
            "Total params: 981,707\n",
            "Trainable params: 981,707\n",
            "Non-trainable params: 0\n",
            "_________________________________________________________________\n",
            "None\n"
          ],
          "name": "stdout"
        }
      ]
    },
    {
      "cell_type": "code",
      "metadata": {
        "colab": {
          "base_uri": "https://localhost:8080/"
        },
        "id": "wdnpnIhd_qLy",
        "outputId": "85162aa6-faae-4ed3-da25-b3871af93d6f"
      },
      "source": [
        "from tensorflow.keras.callbacks import EarlyStopping\n",
        "\n",
        "EarlyStop = EarlyStopping(monitor='val_loss', \n",
        "                          patience=5,\n",
        "                          verbose=1)\n",
        "\n",
        "history = model.fit(X_train, \n",
        "                    y_train, \n",
        "                    epochs=20, \n",
        "                    batch_size=64, \n",
        "                    validation_split=0.2, \n",
        "                    callbacks = [EarlyStop] )\n",
        "scores = model.evaluate(X_test, y_test)\n",
        "print(f\"Accuracy {scores[1] * 100}\")"
      ],
      "execution_count": null,
      "outputs": [
        {
          "output_type": "stream",
          "text": [
            "Epoch 1/20\n",
            "138/138 [==============================] - 4s 21ms/step - loss: 1.5900 - accuracy: 0.6860 - val_loss: 0.3944 - val_accuracy: 0.9347\n",
            "Epoch 2/20\n",
            "138/138 [==============================] - 2s 18ms/step - loss: 0.2751 - accuracy: 0.9534 - val_loss: 0.1586 - val_accuracy: 0.9642\n",
            "Epoch 3/20\n",
            "138/138 [==============================] - 2s 16ms/step - loss: 0.1098 - accuracy: 0.9808 - val_loss: 0.1118 - val_accuracy: 0.9719\n",
            "Epoch 4/20\n",
            "138/138 [==============================] - 2s 16ms/step - loss: 0.0662 - accuracy: 0.9890 - val_loss: 0.0926 - val_accuracy: 0.9746\n",
            "Epoch 5/20\n",
            "138/138 [==============================] - 2s 17ms/step - loss: 0.0409 - accuracy: 0.9943 - val_loss: 0.0836 - val_accuracy: 0.9760\n",
            "Epoch 6/20\n",
            "138/138 [==============================] - 2s 16ms/step - loss: 0.0284 - accuracy: 0.9954 - val_loss: 0.0775 - val_accuracy: 0.9760\n",
            "Epoch 7/20\n",
            "138/138 [==============================] - 2s 16ms/step - loss: 0.0200 - accuracy: 0.9976 - val_loss: 0.0739 - val_accuracy: 0.9764\n",
            "Epoch 8/20\n",
            "138/138 [==============================] - 2s 16ms/step - loss: 0.0156 - accuracy: 0.9977 - val_loss: 0.0723 - val_accuracy: 0.9760\n",
            "Epoch 9/20\n",
            "138/138 [==============================] - 2s 16ms/step - loss: 0.0123 - accuracy: 0.9985 - val_loss: 0.0714 - val_accuracy: 0.9760\n",
            "Epoch 10/20\n",
            "138/138 [==============================] - 2s 16ms/step - loss: 0.0102 - accuracy: 0.9982 - val_loss: 0.0707 - val_accuracy: 0.9760\n",
            "Epoch 11/20\n",
            "138/138 [==============================] - 2s 16ms/step - loss: 0.0076 - accuracy: 0.9996 - val_loss: 0.0706 - val_accuracy: 0.9760\n",
            "Epoch 12/20\n",
            "138/138 [==============================] - 2s 16ms/step - loss: 0.0067 - accuracy: 0.9994 - val_loss: 0.0700 - val_accuracy: 0.9773\n",
            "Epoch 13/20\n",
            "138/138 [==============================] - 2s 16ms/step - loss: 0.0059 - accuracy: 0.9997 - val_loss: 0.0705 - val_accuracy: 0.9773\n",
            "Epoch 14/20\n",
            "138/138 [==============================] - 2s 16ms/step - loss: 0.0048 - accuracy: 0.9999 - val_loss: 0.0709 - val_accuracy: 0.9769\n",
            "Epoch 15/20\n",
            "138/138 [==============================] - 2s 16ms/step - loss: 0.0037 - accuracy: 0.9999 - val_loss: 0.0714 - val_accuracy: 0.9778\n",
            "Epoch 16/20\n",
            "138/138 [==============================] - 2s 16ms/step - loss: 0.0029 - accuracy: 0.9999 - val_loss: 0.0721 - val_accuracy: 0.9769\n",
            "Epoch 17/20\n",
            "138/138 [==============================] - 2s 16ms/step - loss: 0.0028 - accuracy: 0.9999 - val_loss: 0.0725 - val_accuracy: 0.9769\n",
            "Epoch 00017: early stopping\n",
            "87/87 [==============================] - 0s 996us/step - loss: 0.0578 - accuracy: 0.9804\n",
            "Accuracy 98.04134964942932\n"
          ],
          "name": "stdout"
        }
      ]
    },
    {
      "cell_type": "code",
      "metadata": {
        "id": "Ui9nW3K0_0bf"
      },
      "source": [
        ""
      ],
      "execution_count": null,
      "outputs": []
    },
    {
      "cell_type": "markdown",
      "metadata": {
        "id": "bey7f4mAoAdK"
      },
      "source": [
        "#### save all files for develop"
      ]
    },
    {
      "cell_type": "code",
      "metadata": {
        "id": "qVT8bxhLlXsZ"
      },
      "source": [
        "import pickle\n",
        "from keras.models import load_model\n",
        "from datetime import datetime "
      ],
      "execution_count": null,
      "outputs": []
    },
    {
      "cell_type": "code",
      "metadata": {
        "id": "N_MVzdHxtBs8"
      },
      "source": [
        "now = datetime.now().strftime(\"%Y_%m_%d_%H_%M_%S\")"
      ],
      "execution_count": null,
      "outputs": []
    },
    {
      "cell_type": "code",
      "metadata": {
        "id": "JG6dtEb-ozpY"
      },
      "source": [
        "#save and del model \n",
        "model.save(f'MLP_develop_model_{now}.h5')  "
      ],
      "execution_count": null,
      "outputs": []
    },
    {
      "cell_type": "code",
      "metadata": {
        "id": "XTe3wIwslARK"
      },
      "source": [
        "MLP_develop = {\n",
        "    \"tokenizer\" :  tokenizer ,\n",
        "    \"maxlen\" :  maxlen ,\n",
        "    \"labelencoder\" :  labelencoder \n",
        "}"
      ],
      "execution_count": null,
      "outputs": []
    },
    {
      "cell_type": "code",
      "metadata": {
        "id": "WuXDxgailjNp"
      },
      "source": [
        "pickle.dump(MLP_develop, open(f\"MLP_develop_config_{now}.pickle\", \"wb\"))"
      ],
      "execution_count": null,
      "outputs": []
    },
    {
      "cell_type": "markdown",
      "metadata": {
        "id": "B0IdSKiJtzgd"
      },
      "source": [
        "#### Predykcja na zbiorze validacyjnym"
      ]
    },
    {
      "cell_type": "code",
      "metadata": {
        "colab": {
          "base_uri": "https://localhost:8080/"
        },
        "id": "27dr_LCO_1IW",
        "outputId": "ba30fbcb-1b0f-4333-8ae5-e072ec66dbea"
      },
      "source": [
        "# oczysczenie danych\n",
        "data_set_valid[\"clean_text\"] = data_set_valid[\"text\"].apply(lambda x: process_text(x))\n",
        "\n",
        "# labelencoder \n",
        "data_set_valid[\"labelencoder\"] = labelencoder.fit_transform(data_set_valid[\"label\"])\n",
        "\n",
        "# tokenizacja weg przetrenowanego już tokenizera\n",
        "X_validate = tokenizer.texts_to_sequences(data_set_valid[\"clean_text\"])\n",
        "\n",
        "# pad sequel\n",
        "X_validate = pad_sequences(X_validate, padding=\"post\", truncating=\"post\", maxlen=maxlen)\n",
        "X_validate"
      ],
      "execution_count": null,
      "outputs": [
        {
          "output_type": "execute_result",
          "data": {
            "text/plain": [
              "array([[  15,   42,   50, ...,   44,    6,    1],\n",
              "       [ 241,  177,   21, ..., 1593,    3,  738],\n",
              "       [  15,    8,    1, ...,   36,    4,   48],\n",
              "       ...,\n",
              "       [  28,    1,   84, ...,   38,    0,    0],\n",
              "       [  15,    8,    1, ...,   36,    4, 2688],\n",
              "       [  45,   40,    4, ...,  152,  129,  404]], dtype=int32)"
            ]
          },
          "metadata": {
            "tags": []
          },
          "execution_count": 23
        }
      ]
    },
    {
      "cell_type": "code",
      "metadata": {
        "colab": {
          "base_uri": "https://localhost:8080/"
        },
        "id": "UOPVqktyANNF",
        "outputId": "ffe3e52c-2901-409f-b583-0ff5e543b40f"
      },
      "source": [
        "dummy_y_valid = data_set_valid[\"labelencoder\"].values\n",
        "dummy_y_valid[:5]"
      ],
      "execution_count": null,
      "outputs": [
        {
          "output_type": "execute_result",
          "data": {
            "text/plain": [
              "array([6, 3, 2, 0, 6])"
            ]
          },
          "metadata": {
            "tags": []
          },
          "execution_count": 24
        }
      ]
    },
    {
      "cell_type": "code",
      "metadata": {
        "colab": {
          "base_uri": "https://localhost:8080/"
        },
        "id": "NAiFC304APqL",
        "outputId": "b2a16728-f519-4fc0-9370-62856eec206a"
      },
      "source": [
        "# Sprawdzenie rozmiaru zbiorów validacyjnego\n",
        "X_validate.shape, dummy_y_valid.shape"
      ],
      "execution_count": null,
      "outputs": [
        {
          "output_type": "execute_result",
          "data": {
            "text/plain": [
              "((700, 7), (700,))"
            ]
          },
          "metadata": {
            "tags": []
          },
          "execution_count": 25
        }
      ]
    },
    {
      "cell_type": "code",
      "metadata": {
        "colab": {
          "base_uri": "https://localhost:8080/"
        },
        "id": "WRbEdb7AAXGy",
        "outputId": "e9e4663b-be09-415a-e6a8-cb4c7542799a"
      },
      "source": [
        "predicted_lstm_val = np.argmax(model.predict(X_validate), axis=-1)\n",
        "predicted_lstm_val[:5]"
      ],
      "execution_count": null,
      "outputs": [
        {
          "output_type": "execute_result",
          "data": {
            "text/plain": [
              "array([6, 3, 2, 0, 6])"
            ]
          },
          "metadata": {
            "tags": []
          },
          "execution_count": 26
        }
      ]
    },
    {
      "cell_type": "markdown",
      "metadata": {
        "id": "_5wZwn-_uKE9"
      },
      "source": [
        "#### Rozkodowanie przewidzianych i prawidłowych etykiet"
      ]
    },
    {
      "cell_type": "code",
      "metadata": {
        "colab": {
          "base_uri": "https://localhost:8080/"
        },
        "id": "G4U9hYvnBJ9F",
        "outputId": "78c47c03-eaf2-4d27-b31e-1614db3b351b"
      },
      "source": [
        "y_pred = labelencoder.inverse_transform(predicted_lstm_val)\n",
        "y_pred = pd.Series(y_pred)\n",
        "y_pred.head()"
      ],
      "execution_count": null,
      "outputs": [
        {
          "output_type": "execute_result",
          "data": {
            "text/plain": [
              "0    SearchScreeningEvent\n",
              "1               PlayMusic\n",
              "2              GetWeather\n",
              "3           AddToPlaylist\n",
              "4    SearchScreeningEvent\n",
              "dtype: object"
            ]
          },
          "metadata": {
            "tags": []
          },
          "execution_count": 27
        }
      ]
    },
    {
      "cell_type": "code",
      "metadata": {
        "colab": {
          "base_uri": "https://localhost:8080/"
        },
        "id": "EW03pUanA729",
        "outputId": "d1bcc38c-e469-4bb7-c858-e3805b9973bc"
      },
      "source": [
        "y_val = labelencoder.inverse_transform(dummy_y_valid)\n",
        "y_val = pd.Series(y_val)\n",
        "y_val.head()"
      ],
      "execution_count": null,
      "outputs": [
        {
          "output_type": "execute_result",
          "data": {
            "text/plain": [
              "0    SearchScreeningEvent\n",
              "1               PlayMusic\n",
              "2              GetWeather\n",
              "3           AddToPlaylist\n",
              "4    SearchScreeningEvent\n",
              "dtype: object"
            ]
          },
          "metadata": {
            "tags": []
          },
          "execution_count": 28
        }
      ]
    },
    {
      "cell_type": "markdown",
      "metadata": {
        "id": "RcGfyRgQudTZ"
      },
      "source": [
        "#### `Confusion matrix`"
      ]
    },
    {
      "cell_type": "code",
      "metadata": {
        "id": "GXVwswIsA9RT"
      },
      "source": [
        "from sklearn.metrics import accuracy_score, f1_score, classification_report, confusion_matrix\n",
        "%matplotlib inline\n",
        "from matplotlib import pyplot as plt\n",
        "import seaborn as sns"
      ],
      "execution_count": null,
      "outputs": []
    },
    {
      "cell_type": "code",
      "metadata": {
        "colab": {
          "base_uri": "https://localhost:8080/",
          "height": 710
        },
        "id": "fGr6-cjzBFLc",
        "outputId": "d4922b86-67fe-4fb7-a6c2-96cb05c34a3c"
      },
      "source": [
        "classes = np.unique(y_val)\n",
        "\n",
        "print('Accuracy:', round(accuracy_score(y_val, y_pred),2))\n",
        "print('F1_score:', round(f1_score(y_val, y_pred, average='weighted'),2))\n",
        "\n",
        "print(classification_report(y_val, y_pred))\n",
        "# Plot confusion matrix\n",
        "cm = confusion_matrix(y_val, y_pred)\n",
        "fig, ax = plt.subplots()\n",
        "sns.heatmap(cm, annot=True, fmt='d', ax=ax, cmap=plt.cm.Blues, cbar=False)\n",
        "ax.set(xlabel='Pred', ylabel='True', xticklabels=classes, yticklabels=classes, title='Confusion matrix')\n",
        "plt.yticks(rotation=0)\n",
        "plt.xticks(rotation=90)"
      ],
      "execution_count": null,
      "outputs": [
        {
          "output_type": "stream",
          "text": [
            "Accuracy: 0.98\n",
            "F1_score: 0.98\n",
            "                      precision    recall  f1-score   support\n",
            "\n",
            "       AddToPlaylist       0.98      0.99      0.99       100\n",
            "      BookRestaurant       0.99      0.98      0.98       100\n",
            "          GetWeather       0.96      0.98      0.97       100\n",
            "           PlayMusic       1.00      0.97      0.98       100\n",
            "            RateBook       1.00      1.00      1.00       100\n",
            "  SearchCreativeWork       0.92      1.00      0.96       100\n",
            "SearchScreeningEvent       1.00      0.92      0.96       100\n",
            "\n",
            "            accuracy                           0.98       700\n",
            "           macro avg       0.98      0.98      0.98       700\n",
            "        weighted avg       0.98      0.98      0.98       700\n",
            "\n"
          ],
          "name": "stdout"
        },
        {
          "output_type": "execute_result",
          "data": {
            "text/plain": [
              "(array([0.5, 1.5, 2.5, 3.5, 4.5, 5.5, 6.5]),\n",
              " <a list of 7 Text major ticklabel objects>)"
            ]
          },
          "metadata": {
            "tags": []
          },
          "execution_count": 30
        },
        {
          "output_type": "display_data",
          "data": {
            "image/png": "[encoded data removed]",
            "text/plain": [
              "<Figure size 432x288 with 1 Axes>"
            ]
          },
          "metadata": {
            "tags": [],
            "needs_background": "light"
          }
        }
      ]
    },
    {
      "cell_type": "markdown",
      "metadata": {
        "id": "9uxfqF9uum32"
      },
      "source": [
        "#### Zapoznanie się z błędnymi predykcjami "
      ]
    },
    {
      "cell_type": "code",
      "metadata": {
        "colab": {
          "base_uri": "https://localhost:8080/"
        },
        "id": "28QYnOPM-mJz",
        "outputId": "059a5054-c9ac-475a-81d9-e6204057c5e5"
      },
      "source": [
        "# pobranie indexów błędnie przewidzianych etykiet \n",
        "indexes = []\n",
        "for i, phrase in enumerate(y_pred):\n",
        "  if phrase != y_val[i]:                                      #  Wszysktie błędne predykcje\n",
        "    # if phrase == 'SearchCreativeWork':            #  konkretna klasa 1\n",
        "    #   if y_val[i] == 'SearchScreeningEvent':      #  konkretna klasa 2\n",
        "        indexes.append(i)\n",
        "print(indexes)"
      ],
      "execution_count": null,
      "outputs": [
        {
          "output_type": "stream",
          "text": [
            "[6, 240, 252, 336, 378, 451, 481, 483, 499, 519, 557, 567, 615, 648, 671, 689]\n"
          ],
          "name": "stdout"
        }
      ]
    },
    {
      "cell_type": "code",
      "metadata": {
        "id": "8Z_F9W831sYg",
        "colab": {
          "base_uri": "https://localhost:8080/"
        },
        "outputId": "2448e710-b990-4e6e-ecb4-f2d21919cf74"
      },
      "source": [
        "# ustadaryzowanie obliczonego prawdopodobieństwa dla wystapienia danej etykiety \n",
        "import warnings\n",
        "warnings.filterwarnings('ignore')\n",
        "\n",
        "y_proba = [      [  round(j*100, 4) for j in i  ]       for i in model.predict_proba(X_validate)    ]\n",
        "y_proba[:2]"
      ],
      "execution_count": null,
      "outputs": [
        {
          "output_type": "execute_result",
          "data": {
            "text/plain": [
              "[[0.0, 0.0001, 0.0001, 0.0, 0.0, 0.0, 99.9997],\n",
              " [0.0667, 0.0411, 0.0026, 99.8756, 0.0086, 0.0039, 0.0016]]"
            ]
          },
          "metadata": {
            "tags": []
          },
          "execution_count": 43
        }
      ]
    },
    {
      "cell_type": "code",
      "metadata": {
        "colab": {
          "base_uri": "https://localhost:8080/"
        },
        "id": "ouy1yzy8-048",
        "outputId": "84c0e0bc-f3a0-403e-9257-fa790a7033bb"
      },
      "source": [
        "for i in indexes:\n",
        "  print(f\"----------------------------\\nTekst komendy id {i}:\\n{data_set_valid['text'][i]}\\n\")\n",
        "  print(f\"Oczyszczona komenda i skrócona do wartości maxlen={maxlen}:\\n{' '.join(data_set_valid['clean_text'][i].split()[:maxlen])}\\n\")\n",
        "  print(f'True category: {y_val[i]} - probability - {y_proba[i][labelencoder.transform([y_val[i]])[0]]}%')\n",
        "  print(f'Predicted category: {y_pred[i]} - probability - {y_proba[i][labelencoder.transform([y_pred[i]])[0]]}%')\n",
        "  print(\"\\n\")"
      ],
      "execution_count": null,
      "outputs": [
        {
          "output_type": "stream",
          "text": [
            "----------------------------\n",
            "Tekst komendy id 6:\n",
            "I want to see While the Sun Shines at the closest movie house.\n",
            "\n",
            "Oczyszczona komenda i skrócona do wartości maxlen=7:\n",
            "want to see while the sun shines\n",
            "\n",
            "True category: SearchScreeningEvent - probability - 28.5087%\n",
            "Predicted category: SearchCreativeWork - probability - 58.709%\n",
            "\n",
            "\n",
            "----------------------------\n",
            "Tekst komendy id 240:\n",
            "I want to know if there are any movies playing in the area.\n",
            "\n",
            "Oczyszczona komenda i skrócona do wartości maxlen=7:\n",
            "want to know if there are any\n",
            "\n",
            "True category: SearchScreeningEvent - probability - 2.4796%\n",
            "Predicted category: GetWeather - probability - 79.0004%\n",
            "\n",
            "\n",
            "----------------------------\n",
            "Tekst komendy id 252:\n",
            "can you put on Like A Hurricane by Paul Landers\n",
            "\n",
            "Oczyszczona komenda i skrócona do wartości maxlen=7:\n",
            "can you put on like hurricane by\n",
            "\n",
            "True category: PlayMusic - probability - 3.8386%\n",
            "Predicted category: AddToPlaylist - probability - 95.9741%\n",
            "\n",
            "\n",
            "----------------------------\n",
            "Tekst komendy id 336:\n",
            "I'd like for Kasey Chambers's tune to be an addition to my Chips and Salsa playlist.\n",
            "\n",
            "Oczyszczona komenda i skrócona do wartości maxlen=7:\n",
            "id like for kasey chamberss tune to\n",
            "\n",
            "True category: AddToPlaylist - probability - 40.6823%\n",
            "Predicted category: BookRestaurant - probability - 52.6047%\n",
            "\n",
            "\n",
            "----------------------------\n",
            "Tekst komendy id 378:\n",
            "I want to book Oregon Electric Station in North City.\n",
            "\n",
            "Oczyszczona komenda i skrócona do wartości maxlen=7:\n",
            "want to book oregon electric station in\n",
            "\n",
            "True category: BookRestaurant - probability - 11.4794%\n",
            "Predicted category: GetWeather - probability - 82.666%\n",
            "\n",
            "\n",
            "----------------------------\n",
            "Tekst komendy id 451:\n",
            "Can I see Ellis Island Revisited in 1 minute\n",
            "\n",
            "Oczyszczona komenda i skrócona do wartości maxlen=7:\n",
            "can see ellis island revisited in minute\n",
            "\n",
            "True category: SearchScreeningEvent - probability - 20.5295%\n",
            "Predicted category: GetWeather - probability - 43.0179%\n",
            "\n",
            "\n",
            "----------------------------\n",
            "Tekst komendy id 481:\n",
            "Live In L.aJoseph Meyer please\n",
            "\n",
            "Oczyszczona komenda i skrócona do wartości maxlen=7:\n",
            "live in lajoseph meyer please\n",
            "\n",
            "True category: PlayMusic - probability - 11.1111%\n",
            "Predicted category: SearchCreativeWork - probability - 55.2001%\n",
            "\n",
            "\n",
            "----------------------------\n",
            "Tekst komendy id 483:\n",
            "I want to book Albany Pump Station in Buckholts Washington now for a party of 9.\n",
            "\n",
            "Oczyszczona komenda i skrócona do wartości maxlen=7:\n",
            "want to book albany pump station in\n",
            "\n",
            "True category: BookRestaurant - probability - 13.8575%\n",
            "Predicted category: GetWeather - probability - 83.4637%\n",
            "\n",
            "\n",
            "----------------------------\n",
            "Tekst komendy id 499:\n",
            "Put What Color Is Your Sky by Alana Davis on the stereo.\n",
            "\n",
            "Oczyszczona komenda i skrócona do wartości maxlen=7:\n",
            "put what color is your sky by\n",
            "\n",
            "True category: PlayMusic - probability - 0.2265%\n",
            "Predicted category: AddToPlaylist - probability - 98.7111%\n",
            "\n",
            "\n",
            "----------------------------\n",
            "Tekst komendy id 519:\n",
            "i want to see JLA Adventures: Trapped In Time\n",
            "\n",
            "Oczyszczona komenda i skrócona do wartości maxlen=7:\n",
            "want to see jla adventures trapped in\n",
            "\n",
            "True category: SearchScreeningEvent - probability - 1.5781%\n",
            "Predicted category: SearchCreativeWork - probability - 97.753%\n",
            "\n",
            "\n",
            "----------------------------\n",
            "Tekst komendy id 557:\n",
            "I want to see Shattered Image.\n",
            "\n",
            "Oczyszczona komenda i skrócona do wartości maxlen=7:\n",
            "want to see shattered image\n",
            "\n",
            "True category: SearchScreeningEvent - probability - 9.0869%\n",
            "Predicted category: SearchCreativeWork - probability - 89.6964%\n",
            "\n",
            "\n",
            "----------------------------\n",
            "Tekst komendy id 567:\n",
            "Where is Belgium located\n",
            "\n",
            "Oczyszczona komenda i skrócona do wartości maxlen=7:\n",
            "where is belgium located\n",
            "\n",
            "True category: GetWeather - probability - 25.2666%\n",
            "Predicted category: SearchCreativeWork - probability - 54.5341%\n",
            "\n",
            "\n",
            "----------------------------\n",
            "Tekst komendy id 615:\n",
            "Where can I see The Prime Ministers: The Pioneers\n",
            "\n",
            "Oczyszczona komenda i skrócona do wartości maxlen=7:\n",
            "where can see the prime ministers the\n",
            "\n",
            "True category: SearchScreeningEvent - probability - 11.6357%\n",
            "Predicted category: SearchCreativeWork - probability - 88.354%\n",
            "\n",
            "\n",
            "----------------------------\n",
            "Tekst komendy id 648:\n",
            "I want to see Outcast.\n",
            "\n",
            "Oczyszczona komenda i skrócona do wartości maxlen=7:\n",
            "want to see outcast\n",
            "\n",
            "True category: SearchScreeningEvent - probability - 5.1965%\n",
            "Predicted category: SearchCreativeWork - probability - 93.0016%\n",
            "\n",
            "\n",
            "----------------------------\n",
            "Tekst komendy id 671:\n",
            "what is the cold condition of our current position for tomorrow\n",
            "\n",
            "Oczyszczona komenda i skrócona do wartości maxlen=7:\n",
            "what is the cold condition of our\n",
            "\n",
            "True category: GetWeather - probability - 8.4108%\n",
            "Predicted category: SearchCreativeWork - probability - 86.1411%\n",
            "\n",
            "\n",
            "----------------------------\n",
            "Tekst komendy id 689:\n",
            "I want to see Fear Chamber.\n",
            "\n",
            "Oczyszczona komenda i skrócona do wartości maxlen=7:\n",
            "want to see fear chamber\n",
            "\n",
            "True category: SearchScreeningEvent - probability - 10.8192%\n",
            "Predicted category: SearchCreativeWork - probability - 87.8449%\n",
            "\n",
            "\n"
          ],
          "name": "stdout"
        }
      ]
    },
    {
      "cell_type": "markdown",
      "metadata": {
        "id": "lm61MY9CSpLm"
      },
      "source": [
        "Wnioski:\n",
        "> Model ma tendencję do faworyzowania etykiety SearchCreativeWork kosztem SearchScreeningEvent. Świadczy o tym `100% skutczeność predykcji SearchCreativeWork` przy `91% skuteczności predykcji SearchScreeningEvent`. Może to wynikać z przeuczenia modelu. \n",
        "\n",
        "> Błędne predykcje zawieraja takie słowa jak `want` i `see` może lemmatyzacja lub usunięcie stop wrordów poprawi wynik. "
      ]
    },
    {
      "cell_type": "code",
      "metadata": {
        "id": "AWG-60iK8dj8"
      },
      "source": [
        ""
      ],
      "execution_count": null,
      "outputs": []
    }
  ]
}