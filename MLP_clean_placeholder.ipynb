{
  "nbformat": 4,
  "nbformat_minor": 0,
  "metadata": {
    "colab": {
      "name": "Detecting_intentions_MLP",
      "provenance": [],
      "collapsed_sections": [],
      "authorship_tag": "ABX9TyOvRvPxzzNYg4bAldpEtKuG",
      "include_colab_link": true
    },
    "kernelspec": {
      "name": "python3",
      "display_name": "Python 3"
    },
    "language_info": {
      "name": "python"
    }
  },
  "cells": [
    {
      "cell_type": "markdown",
      "metadata": {
        "id": "view-in-github",
        "colab_type": "text"
      },
      "source": [
        "<a href=\"https://colab.research.google.com/github/ciepielajan/Multi-Class-Classification-NLP/blob/main/MLP_clean_placeholder.ipynb\" target=\"_parent\"><img src=\"https://colab.research.google.com/assets/colab-badge.svg\" alt=\"Open In Colab\"/></a>"
      ]
    },
    {
      "cell_type": "markdown",
      "metadata": {
        "id": "FeNbiQPho0OC"
      },
      "source": [
        "MLP_clean_placeholder"
      ]
    },
    {
      "cell_type": "markdown",
      "metadata": {
        "id": "us7PJ6w-n8ge"
      },
      "source": [
        "#### Pobranie danych"
      ]
    },
    {
      "cell_type": "code",
      "metadata": {
        "colab": {
          "base_uri": "https://localhost:8080/"
        },
        "id": "cZ_7ET22CAsA",
        "outputId": "3152de60-68f1-483b-8fc1-44a789ce87c7"
      },
      "source": [
        "# https://drive.google.com/file/d/1fI6EXyD9TMTC1jzdu206ljXOGNjdHprq/view?usp=sharing\n",
        "!gdown --id \"1fI6EXyD9TMTC1jzdu206ljXOGNjdHprq\""
      ],
      "execution_count": 22,
      "outputs": [
        {
          "output_type": "stream",
          "text": [
            "Downloading...\n",
            "From: https://drive.google.com/uc?id=1fI6EXyD9TMTC1jzdu206ljXOGNjdHprq\n",
            "To: /content/user_intent.zip\n",
            "\r  0% 0.00/271k [00:00<?, ?B/s]\r100% 271k/271k [00:00<00:00, 2.51MB/s]\n"
          ],
          "name": "stdout"
        }
      ]
    },
    {
      "cell_type": "code",
      "metadata": {
        "colab": {
          "base_uri": "https://localhost:8080/"
        },
        "id": "uWusnzuPCHqv",
        "outputId": "e09c3a80-b3b3-42e0-ede2-dd3dbbedab78"
      },
      "source": [
        "!unzip \"user_intent.zip\""
      ],
      "execution_count": 23,
      "outputs": [
        {
          "output_type": "stream",
          "text": [
            "Archive:  user_intent.zip\n",
            "  inflating: train.csv               \n",
            "  inflating: __MACOSX/._train.csv    \n",
            "  inflating: validation.csv          \n"
          ],
          "name": "stdout"
        }
      ]
    },
    {
      "cell_type": "code",
      "metadata": {
        "id": "9CI1LZgj-Kin"
      },
      "source": [
        ""
      ],
      "execution_count": null,
      "outputs": []
    },
    {
      "cell_type": "code",
      "metadata": {
        "colab": {
          "base_uri": "https://localhost:8080/"
        },
        "id": "NUKeVYWfCOdU",
        "outputId": "d4be1e36-90cc-4dd6-ba9c-ce57813ace64"
      },
      "source": [
        "import pandas as pd\n",
        "import numpy as np\n",
        "\n",
        "data_set_train = pd.read_csv(\"train.csv\")\n",
        "data_set_valid = pd.read_csv(\"validation.csv\")\n",
        "\n",
        "print(data_set_train.shape)\n",
        "print(data_set_valid.shape)\n",
        "\n",
        "print(data_set_train.columns)\n",
        "print(data_set_valid.columns)"
      ],
      "execution_count": 24,
      "outputs": [
        {
          "output_type": "stream",
          "text": [
            "(13784, 2)\n",
            "(700, 2)\n",
            "Index(['text', 'label'], dtype='object')\n",
            "Index(['text', 'label'], dtype='object')\n"
          ],
          "name": "stdout"
        }
      ]
    },
    {
      "cell_type": "code",
      "metadata": {
        "id": "Hdt7Aw3VtU0n"
      },
      "source": [
        ""
      ],
      "execution_count": null,
      "outputs": []
    },
    {
      "cell_type": "markdown",
      "metadata": {
        "id": "wYy3aseotVWE"
      },
      "source": [
        "#### process text i placeholder"
      ]
    },
    {
      "cell_type": "code",
      "metadata": {
        "id": "g1kzE8fRtaTT"
      },
      "source": [
        "import re\n",
        "def placeholder(sentence):\n",
        "    sentence = re.sub(r\"<[^>]+>\", \" \", sentence) # remove html tag - na początku żeby nie usunął później placeholderów\n",
        "\n",
        "    #placehodlery\n",
        "    sentence = re.sub('[\\w\\.-]+@[\\w\\.-]+', ' <email> ', sentence)  # maile\n",
        "    sentence = re.sub('(https://|http://|)+[A-Za-z]+\\.+[A-Za-z]+(\\S)+', ' <link> ', sentence)  # linki\n",
        "    sentence = re.sub('([0-9]{4}|[0-9]{2}|[0-9]{1})(\\.|\\-|\\/)([0-9]{4}|[0-9]{2}|[0-9]{1})(\\.|\\-|\\/)([0-9]{4}|[0-9]{2}|[0-9]{1})', ' <date> ', sentence)  # date\n",
        "    sentence = re.sub('[0-9]{1,2}(\\:|am|pm| am| pm)([0-9]{1,2}|\\:|am|pm|)([0-9]{1,2}|\\:|am|pm| am| pm|)(([0-9]{1,10})?)', ' <time> ', sentence)  # time\n",
        "    sentence = re.sub('\\s\\d+(,\\d+)*(\\.\\d+)?(\\%)?\\s', ' <number> ', sentence)  # number\n",
        "    sentence = re.sub('@[A-Za-z0-9\\.]+', ' <montion> ', sentence)  # @montion\n",
        "    sentence = re.sub('#[A-Za-z0-9]+', ' <hashtag> ', sentence)  # #hastag\n",
        "\n",
        "    #czyszczenie\n",
        "    sentence = re.sub(r\"[^a-zA-Z\\<\\>\\s]\", \"\", sentence)  # remove punctuations and numbers   nie usuwać <PLACEHOLDERÓW>\n",
        "    sentence = re.sub('[A-Za-z0-9]+@[a-zA-z].[a-zA-Z]+', '', sentence)  # maile\n",
        "    sentence = re.sub('(http[s]*:[/][/])[a-zA-Z0-9]+', '', sentence)  # linki\n",
        "    sentence = re.sub(r\"\\b[A-Za-z]{1}\\b\", \"\", sentence)  # remove single characters\n",
        "    sentence = re.sub(\"^\\s+|\\s+$\", \"\", sentence, flags=re.UNICODE) # Remove spaces both in the BEGINNING and in the END of a string:\n",
        "    sentence = \" \".join(sentence.split(\" \"))  # Remove ONLY DUPLICATE spaces:\n",
        "    sentence = sentence.lower()\n",
        "    return sentence"
      ],
      "execution_count": 64,
      "outputs": []
    },
    {
      "cell_type": "code",
      "metadata": {
        "id": "5GQNuCjSlz0F"
      },
      "source": [
        "# import re\n",
        "# def process_text(sentence, placeholder=False):\n",
        "#     # sentence = re.sub('[A-Za-z0-9]+@[a-zA-z].[a-zA-Z]+', '', sentence)  # maile\n",
        "#     # sentence = re.sub('(http[s]*:[/][/])[a-zA-Z0-9]+', '', sentence)  # linki\n",
        "#     # sentence = re.sub(r\"<[^>]+>\", \" \", sentence) # remove html tag \n",
        "#     # sentence = re.sub(r\"[^a-zA-Z\\<\\>\\s]\", \"\", sentence)  # remove punctuations and numbers   nie usuwać <PLACEHOLDERÓW>\n",
        "#     # sentence = re.sub(r\"[^a-zA-Z\\s]\", \"\", sentence)  # remove punctuations and numbers  usuwać wszytko bo nie ma placeholderów\n",
        "#     # sentence = re.sub(r\"\\b[A-Za-z]{1}\\b\", \"\", sentence)  # remove single characters\n",
        "#     # sentence = re.sub(\"^\\s+|\\s+$\", \"\", sentence, flags=re.UNICODE) # Remove spaces both in the BEGINNING and in the END of a string:\n",
        "#     # sentence = \" \".join(re.split(\"\\s+\", sentence, flags=re.UNICODE))  # Remove ONLY DUPLICATE spaces:\n",
        "#     # sentence = sentence.lower()\n",
        "    \n",
        "#     return sentence"
      ],
      "execution_count": 18,
      "outputs": []
    },
    {
      "cell_type": "code",
      "metadata": {
        "id": "RZJOju1sFOwp"
      },
      "source": [
        "data_set_train[\"clean_text_placeholder\"] = data_set_train[\"text\"].apply(lambda x: placeholder(x))"
      ],
      "execution_count": 67,
      "outputs": []
    },
    {
      "cell_type": "markdown",
      "metadata": {
        "id": "7epaW5cXoXef"
      },
      "source": [
        "#### `LabelEncoder` oraz `to_categorical`"
      ]
    },
    {
      "cell_type": "code",
      "metadata": {
        "colab": {
          "base_uri": "https://localhost:8080/",
          "height": 204
        },
        "id": "022rNoaL-xbl",
        "outputId": "57aafdaf-db30-4a3f-9340-d11351228e7d"
      },
      "source": [
        "from sklearn.preprocessing import LabelEncoder\n",
        "from keras.utils import to_categorical \n",
        "\n",
        "\n",
        "labelencoder = LabelEncoder()\n",
        "labelencoder.fit(data_set_train[\"label\"])\n",
        "\n",
        "data_set_train[\"labelencoder\"] = labelencoder.transform(data_set_train[\"label\"])\n",
        "\n",
        "dummy_y = to_categorical(data_set_train[\"labelencoder\"], dtype =\"float32\")\n",
        "\n",
        "data_set_train.head(5)"
      ],
      "execution_count": 99,
      "outputs": [
        {
          "output_type": "execute_result",
          "data": {
            "text/html": [
              "<div>\n",
              "<style scoped>\n",
              "    .dataframe tbody tr th:only-of-type {\n",
              "        vertical-align: middle;\n",
              "    }\n",
              "\n",
              "    .dataframe tbody tr th {\n",
              "        vertical-align: top;\n",
              "    }\n",
              "\n",
              "    .dataframe thead th {\n",
              "        text-align: right;\n",
              "    }\n",
              "</style>\n",
              "<table border=\"1\" class=\"dataframe\">\n",
              "  <thead>\n",
              "    <tr style=\"text-align: right;\">\n",
              "      <th></th>\n",
              "      <th>text</th>\n",
              "      <th>label</th>\n",
              "      <th>clean_text_placeholder</th>\n",
              "      <th>labelencoder</th>\n",
              "    </tr>\n",
              "  </thead>\n",
              "  <tbody>\n",
              "    <tr>\n",
              "      <th>0</th>\n",
              "      <td>find a cinema nearest for films</td>\n",
              "      <td>SearchScreeningEvent</td>\n",
              "      <td>find  cinema nearest for films</td>\n",
              "      <td>6</td>\n",
              "    </tr>\n",
              "    <tr>\n",
              "      <th>1</th>\n",
              "      <td>Give the current series two stars.</td>\n",
              "      <td>RateBook</td>\n",
              "      <td>give the current series two stars</td>\n",
              "      <td>4</td>\n",
              "    </tr>\n",
              "    <tr>\n",
              "      <th>2</th>\n",
              "      <td>find The Good Girl at a movie house\\n</td>\n",
              "      <td>SearchScreeningEvent</td>\n",
              "      <td>find the good girl at  movie house</td>\n",
              "      <td>6</td>\n",
              "    </tr>\n",
              "    <tr>\n",
              "      <th>3</th>\n",
              "      <td>Please make reservations for three at a kosher...</td>\n",
              "      <td>BookRestaurant</td>\n",
              "      <td>please make reservations for three at  kosher ...</td>\n",
              "      <td>1</td>\n",
              "    </tr>\n",
              "    <tr>\n",
              "      <th>4</th>\n",
              "      <td>what is the forecast for here one second from now</td>\n",
              "      <td>GetWeather</td>\n",
              "      <td>what is the forecast for here one second from now</td>\n",
              "      <td>2</td>\n",
              "    </tr>\n",
              "  </tbody>\n",
              "</table>\n",
              "</div>"
            ],
            "text/plain": [
              "                                                text  ... labelencoder\n",
              "0                    find a cinema nearest for films  ...            6\n",
              "1                 Give the current series two stars.  ...            4\n",
              "2              find The Good Girl at a movie house\\n  ...            6\n",
              "3  Please make reservations for three at a kosher...  ...            1\n",
              "4  what is the forecast for here one second from now  ...            2\n",
              "\n",
              "[5 rows x 4 columns]"
            ]
          },
          "metadata": {
            "tags": []
          },
          "execution_count": 99
        }
      ]
    },
    {
      "cell_type": "code",
      "metadata": {
        "id": "WL2Bw3aKzQ-N",
        "outputId": "c386e302-9c2a-4e7c-b960-b42566d5c07f",
        "colab": {
          "base_uri": "https://localhost:8080/"
        }
      },
      "source": [
        "warunek = data_set_train[\"clean_text_placeholder\"].str.contains(\"<\")\n",
        "data_set_train[warunek][\"clean_text_placeholder\"].size"
      ],
      "execution_count": 100,
      "outputs": [
        {
          "output_type": "execute_result",
          "data": {
            "text/plain": [
              "2622"
            ]
          },
          "metadata": {
            "tags": []
          },
          "execution_count": 100
        }
      ]
    },
    {
      "cell_type": "code",
      "metadata": {
        "id": "B2RRN_Y51any",
        "outputId": "c5a5fb44-cefb-4d16-9799-c0eb20acdf89",
        "colab": {
          "base_uri": "https://localhost:8080/",
          "height": 669
        }
      },
      "source": [
        "data_set_train[warunek].sample(20)"
      ],
      "execution_count": 101,
      "outputs": [
        {
          "output_type": "execute_result",
          "data": {
            "text/html": [
              "<div>\n",
              "<style scoped>\n",
              "    .dataframe tbody tr th:only-of-type {\n",
              "        vertical-align: middle;\n",
              "    }\n",
              "\n",
              "    .dataframe tbody tr th {\n",
              "        vertical-align: top;\n",
              "    }\n",
              "\n",
              "    .dataframe thead th {\n",
              "        text-align: right;\n",
              "    }\n",
              "</style>\n",
              "<table border=\"1\" class=\"dataframe\">\n",
              "  <thead>\n",
              "    <tr style=\"text-align: right;\">\n",
              "      <th></th>\n",
              "      <th>text</th>\n",
              "      <th>label</th>\n",
              "      <th>clean_text_placeholder</th>\n",
              "      <th>labelencoder</th>\n",
              "    </tr>\n",
              "  </thead>\n",
              "  <tbody>\n",
              "    <tr>\n",
              "      <th>1972</th>\n",
              "      <td>Add Step to Me to the 50 Clásicos playlist.</td>\n",
              "      <td>AddToPlaylist</td>\n",
              "      <td>add step to me to the &lt;number&gt; clsicos playlist</td>\n",
              "      <td>0</td>\n",
              "    </tr>\n",
              "    <tr>\n",
              "      <th>5524</th>\n",
              "      <td>Give 2 out of 6 points  to A Tale of Time City</td>\n",
              "      <td>RateBook</td>\n",
              "      <td>give &lt;number&gt; out of &lt;number&gt; points  to  tale...</td>\n",
              "      <td>4</td>\n",
              "    </tr>\n",
              "    <tr>\n",
              "      <th>5589</th>\n",
              "      <td>where is Wild America showing at zero P.M.</td>\n",
              "      <td>SearchScreeningEvent</td>\n",
              "      <td>where is wild america showing at zero  &lt;link&gt;</td>\n",
              "      <td>6</td>\n",
              "    </tr>\n",
              "    <tr>\n",
              "      <th>6762</th>\n",
              "      <td>give 4 out of 6 stars to this textbook</td>\n",
              "      <td>RateBook</td>\n",
              "      <td>give &lt;number&gt; out of &lt;number&gt; stars to this te...</td>\n",
              "      <td>4</td>\n",
              "    </tr>\n",
              "    <tr>\n",
              "      <th>10481</th>\n",
              "      <td>Rate The Warrior Prophet 3 of 6 stars</td>\n",
              "      <td>RateBook</td>\n",
              "      <td>rate the warrior prophet &lt;number&gt; of &lt;number&gt; ...</td>\n",
              "      <td>4</td>\n",
              "    </tr>\n",
              "    <tr>\n",
              "      <th>13100</th>\n",
              "      <td>Will it be overcast in 1 minute within walking...</td>\n",
              "      <td>GetWeather</td>\n",
              "      <td>will it be overcast in &lt;number&gt; minute within ...</td>\n",
              "      <td>2</td>\n",
              "    </tr>\n",
              "    <tr>\n",
              "      <th>1592</th>\n",
              "      <td>Rate the current album 3 points</td>\n",
              "      <td>RateBook</td>\n",
              "      <td>rate the current album &lt;number&gt; points</td>\n",
              "      <td>4</td>\n",
              "    </tr>\n",
              "    <tr>\n",
              "      <th>5601</th>\n",
              "      <td>Show me KurdishMedia.com</td>\n",
              "      <td>SearchCreativeWork</td>\n",
              "      <td>show me  &lt;link&gt;</td>\n",
              "      <td>5</td>\n",
              "    </tr>\n",
              "    <tr>\n",
              "      <th>8362</th>\n",
              "      <td>I want to hear music from carman from the 1966...</td>\n",
              "      <td>PlayMusic</td>\n",
              "      <td>want to hear music from carman from the &lt;numbe...</td>\n",
              "      <td>3</td>\n",
              "    </tr>\n",
              "    <tr>\n",
              "      <th>1140</th>\n",
              "      <td>Can I get the weather forecast for Benin in 32...</td>\n",
              "      <td>GetWeather</td>\n",
              "      <td>can  get the weather forecast for benin in &lt;nu...</td>\n",
              "      <td>2</td>\n",
              "    </tr>\n",
              "    <tr>\n",
              "      <th>800</th>\n",
              "      <td>Give me an album from 1972 to listen to.</td>\n",
              "      <td>PlayMusic</td>\n",
              "      <td>give me an album from &lt;number&gt; to listen to</td>\n",
              "      <td>3</td>\n",
              "    </tr>\n",
              "    <tr>\n",
              "      <th>6324</th>\n",
              "      <td>rate this book 2\\n stars</td>\n",
              "      <td>RateBook</td>\n",
              "      <td>rate this book &lt;number&gt;  stars</td>\n",
              "      <td>4</td>\n",
              "    </tr>\n",
              "    <tr>\n",
              "      <th>6121</th>\n",
              "      <td>I gave The Hand of Zei series three of 6 stars</td>\n",
              "      <td>RateBook</td>\n",
              "      <td>gave the hand of zei series three of &lt;number&gt; ...</td>\n",
              "      <td>4</td>\n",
              "    </tr>\n",
              "    <tr>\n",
              "      <th>11968</th>\n",
              "      <td>Book a table for 1 at Thomas Hynes House.</td>\n",
              "      <td>BookRestaurant</td>\n",
              "      <td>book  table for &lt;number&gt; at thomas hynes house</td>\n",
              "      <td>1</td>\n",
              "    </tr>\n",
              "    <tr>\n",
              "      <th>4530</th>\n",
              "      <td>The current textbook gets a 2 rating.</td>\n",
              "      <td>RateBook</td>\n",
              "      <td>the current textbook gets  &lt;number&gt; rating</td>\n",
              "      <td>4</td>\n",
              "    </tr>\n",
              "    <tr>\n",
              "      <th>5093</th>\n",
              "      <td>Add 12 Odd Future Songs to the Club Hits playl...</td>\n",
              "      <td>AddToPlaylist</td>\n",
              "      <td>add &lt;number&gt; odd future songs to the club hits...</td>\n",
              "      <td>0</td>\n",
              "    </tr>\n",
              "    <tr>\n",
              "      <th>2852</th>\n",
              "      <td>will the weather be cloudy at 0 PM at my curre...</td>\n",
              "      <td>GetWeather</td>\n",
              "      <td>will the weather be cloudy at &lt;number&gt; pm at m...</td>\n",
              "      <td>2</td>\n",
              "    </tr>\n",
              "    <tr>\n",
              "      <th>6764</th>\n",
              "      <td>give 0 points to The Eudaemonic Pie</td>\n",
              "      <td>RateBook</td>\n",
              "      <td>give &lt;number&gt; points to the eudaemonic pie</td>\n",
              "      <td>4</td>\n",
              "    </tr>\n",
              "    <tr>\n",
              "      <th>12780</th>\n",
              "      <td>I want to book an osteria for 9 in Gabon that ...</td>\n",
              "      <td>BookRestaurant</td>\n",
              "      <td>want to book an osteria for &lt;number&gt; in gabon ...</td>\n",
              "      <td>1</td>\n",
              "    </tr>\n",
              "    <tr>\n",
              "      <th>10119</th>\n",
              "      <td>Rate this essay 4 out of 6 stars</td>\n",
              "      <td>RateBook</td>\n",
              "      <td>rate this essay &lt;number&gt; out of &lt;number&gt; stars</td>\n",
              "      <td>4</td>\n",
              "    </tr>\n",
              "  </tbody>\n",
              "</table>\n",
              "</div>"
            ],
            "text/plain": [
              "                                                    text  ... labelencoder\n",
              "1972         Add Step to Me to the 50 Clásicos playlist.  ...            0\n",
              "5524      Give 2 out of 6 points  to A Tale of Time City  ...            4\n",
              "5589          where is Wild America showing at zero P.M.  ...            6\n",
              "6762              give 4 out of 6 stars to this textbook  ...            4\n",
              "10481              Rate The Warrior Prophet 3 of 6 stars  ...            4\n",
              "13100  Will it be overcast in 1 minute within walking...  ...            2\n",
              "1592                     Rate the current album 3 points  ...            4\n",
              "5601                            Show me KurdishMedia.com  ...            5\n",
              "8362   I want to hear music from carman from the 1966...  ...            3\n",
              "1140   Can I get the weather forecast for Benin in 32...  ...            2\n",
              "800             Give me an album from 1972 to listen to.  ...            3\n",
              "6324                            rate this book 2\\n stars  ...            4\n",
              "6121      I gave The Hand of Zei series three of 6 stars  ...            4\n",
              "11968          Book a table for 1 at Thomas Hynes House.  ...            1\n",
              "4530              The current textbook gets a 2 rating.   ...            4\n",
              "5093   Add 12 Odd Future Songs to the Club Hits playl...  ...            0\n",
              "2852   will the weather be cloudy at 0 PM at my curre...  ...            2\n",
              "6764                 give 0 points to The Eudaemonic Pie  ...            4\n",
              "12780  I want to book an osteria for 9 in Gabon that ...  ...            1\n",
              "10119                  Rate this essay 4 out of 6 stars   ...            4\n",
              "\n",
              "[20 rows x 4 columns]"
            ]
          },
          "metadata": {
            "tags": []
          },
          "execution_count": 101
        }
      ]
    },
    {
      "cell_type": "code",
      "metadata": {
        "colab": {
          "base_uri": "https://localhost:8080/"
        },
        "id": "-RfsD1LSpSag",
        "outputId": "c5935a55-4c17-4442-a548-38376faf2660"
      },
      "source": [
        "dummy_y.shape"
      ],
      "execution_count": 102,
      "outputs": [
        {
          "output_type": "execute_result",
          "data": {
            "text/plain": [
              "(13784, 7)"
            ]
          },
          "metadata": {
            "tags": []
          },
          "execution_count": 102
        }
      ]
    },
    {
      "cell_type": "code",
      "metadata": {
        "colab": {
          "base_uri": "https://localhost:8080/"
        },
        "id": "S4dq1macoeQC",
        "outputId": "051e7032-620d-487c-baff-a01566868987"
      },
      "source": [
        "id_intention = 4\n",
        "print(\"Sprawdzenie poprawności LabelEncoder i to_categorical \\n\")\n",
        "print(\"Label - \", data_set_train[\"label\"].iloc[id_intention])\n",
        "print(\"LabelEncoder - \", data_set_train[\"labelencoder\"].iloc[id_intention])\n",
        "print()\n",
        "print(\"to_categorical - \", dummy_y[id_intention])\n",
        "print()\n",
        "print(\"return to LabelEncoder - \",np.argmax(dummy_y[id_intention], axis=-1))\n",
        "print(\"return to Label - \",labelencoder.inverse_transform([np.argmax(dummy_y[id_intention], axis=-1)]))"
      ],
      "execution_count": 103,
      "outputs": [
        {
          "output_type": "stream",
          "text": [
            "Sprawdzenie poprawności LabelEncoder i to_categorical \n",
            "\n",
            "Label -  GetWeather\n",
            "LabelEncoder -  2\n",
            "\n",
            "to_categorical -  [0. 0. 1. 0. 0. 0. 0.]\n",
            "\n",
            "return to LabelEncoder -  2\n",
            "return to Label -  ['GetWeather']\n"
          ],
          "name": "stdout"
        }
      ]
    },
    {
      "cell_type": "markdown",
      "metadata": {
        "id": "-lZTDFgGoSmT"
      },
      "source": [
        "#### Zdefiniowanie X i y"
      ]
    },
    {
      "cell_type": "code",
      "metadata": {
        "id": "JWd9mEjfBAS2"
      },
      "source": [
        "X = data_set_train[\"clean_text_placeholder\"]\n",
        "y = dummy_y"
      ],
      "execution_count": 104,
      "outputs": []
    },
    {
      "cell_type": "code",
      "metadata": {
        "colab": {
          "base_uri": "https://localhost:8080/"
        },
        "id": "8jUlcX2npzFs",
        "outputId": "43384e57-ec30-4518-ed26-0ce5950138bf"
      },
      "source": [
        "X.shape, y.shape"
      ],
      "execution_count": 105,
      "outputs": [
        {
          "output_type": "execute_result",
          "data": {
            "text/plain": [
              "((13784,), (13784, 7))"
            ]
          },
          "metadata": {
            "tags": []
          },
          "execution_count": 105
        }
      ]
    },
    {
      "cell_type": "markdown",
      "metadata": {
        "id": "9mS_l8wZoO2R"
      },
      "source": [
        "#### Podział zbioru "
      ]
    },
    {
      "cell_type": "code",
      "metadata": {
        "id": "A18D02x5sjFd"
      },
      "source": [
        "from sklearn.model_selection import train_test_split\n",
        "\n",
        "X_train, X_test, y_train, y_test = train_test_split(X, y, test_size=0.2, random_state=42)"
      ],
      "execution_count": 106,
      "outputs": []
    },
    {
      "cell_type": "code",
      "metadata": {
        "colab": {
          "base_uri": "https://localhost:8080/"
        },
        "id": "i_xH9XIGuYCG",
        "outputId": "828ec9a2-65ff-461f-ad1f-5099e694d458"
      },
      "source": [
        "X_train.shape, X_test.shape, y_train.shape, y_test.shape"
      ],
      "execution_count": 107,
      "outputs": [
        {
          "output_type": "execute_result",
          "data": {
            "text/plain": [
              "((11027,), (2757,), (11027, 7), (2757, 7))"
            ]
          },
          "metadata": {
            "tags": []
          },
          "execution_count": 107
        }
      ]
    },
    {
      "cell_type": "code",
      "metadata": {
        "id": "-DR0gkd1_Uv0"
      },
      "source": [
        ""
      ],
      "execution_count": 107,
      "outputs": []
    },
    {
      "cell_type": "markdown",
      "metadata": {
        "id": "chWlDg9Mtmya"
      },
      "source": [
        "#### `Tokenizer` i `pad_sequences`"
      ]
    },
    {
      "cell_type": "code",
      "metadata": {
        "id": "LCm-rbaus6QG"
      },
      "source": [
        "from keras.preprocessing.sequence import pad_sequences\n",
        "from keras.preprocessing.text import Tokenizer"
      ],
      "execution_count": 108,
      "outputs": []
    },
    {
      "cell_type": "code",
      "metadata": {
        "id": "U-ihmlc-s6QG"
      },
      "source": [
        "tokenizer = Tokenizer(num_words=5000)\n",
        "tokenizer.fit_on_texts(X_train)\n",
        "\n",
        "X_train = tokenizer.texts_to_sequences(X_train)\n",
        "X_test = tokenizer.texts_to_sequences(X_test)\n",
        "\n",
        "maxlen = 13\n",
        "vocab_size = len(tokenizer.word_index) + 1\n",
        "\n",
        "X_train = pad_sequences(X_train, padding=\"post\", truncating=\"post\", maxlen=maxlen)\n",
        "X_test = pad_sequences(X_test, padding=\"post\", truncating=\"post\", maxlen=maxlen)"
      ],
      "execution_count": 109,
      "outputs": []
    },
    {
      "cell_type": "markdown",
      "metadata": {
        "id": "pbeVSdurn-Ap"
      },
      "source": [
        "#### Model"
      ]
    },
    {
      "cell_type": "code",
      "metadata": {
        "id": "PaRWehbu_VCe"
      },
      "source": [
        "from keras.models import Sequential\n",
        "from keras.layers import Flatten, SimpleRNN, Dense\n",
        "from keras.layers.embeddings import Embedding\n",
        "from keras.models import Model\n",
        "from tensorflow.keras.callbacks import EarlyStopping"
      ],
      "execution_count": 110,
      "outputs": []
    },
    {
      "cell_type": "code",
      "metadata": {
        "colab": {
          "base_uri": "https://localhost:8080/"
        },
        "id": "BGt7E_vj_f5D",
        "outputId": "9279ed6c-5642-45ec-af25-1c5b2140f293"
      },
      "source": [
        "model = Sequential()\n",
        "model.add(Embedding(vocab_size, 100, input_length=maxlen))  \n",
        "model.add(Flatten())\n",
        "model.add(Dense(7, activation=\"softmax\")) # sigmoid / softmax\n",
        "model.compile(loss=\"categorical_crossentropy\", optimizer=\"adam\", metrics=[\"accuracy\"])\n",
        "print(model.summary())"
      ],
      "execution_count": 111,
      "outputs": [
        {
          "output_type": "stream",
          "text": [
            "Model: \"sequential_1\"\n",
            "_________________________________________________________________\n",
            "Layer (type)                 Output Shape              Param #   \n",
            "=================================================================\n",
            "embedding_1 (Embedding)      (None, 13, 100)           976000    \n",
            "_________________________________________________________________\n",
            "flatten_1 (Flatten)          (None, 1300)              0         \n",
            "_________________________________________________________________\n",
            "dense_1 (Dense)              (None, 7)                 9107      \n",
            "=================================================================\n",
            "Total params: 985,107\n",
            "Trainable params: 985,107\n",
            "Non-trainable params: 0\n",
            "_________________________________________________________________\n",
            "None\n"
          ],
          "name": "stdout"
        }
      ]
    },
    {
      "cell_type": "code",
      "metadata": {
        "colab": {
          "base_uri": "https://localhost:8080/"
        },
        "id": "wdnpnIhd_qLy",
        "outputId": "b24bd1cd-e2a6-4873-8369-e384b01b3c25"
      },
      "source": [
        "from tensorflow.keras.callbacks import EarlyStopping\n",
        "\n",
        "EarlyStop = EarlyStopping(monitor='val_loss', \n",
        "                          patience=5,\n",
        "                          verbose=1)\n",
        "\n",
        "history = model.fit(X_train, \n",
        "                    y_train, \n",
        "                    epochs=20, \n",
        "                    batch_size=64, \n",
        "                    validation_split=0.2, \n",
        "                    callbacks = [EarlyStop] )\n",
        "scores = model.evaluate(X_test, y_test)\n",
        "print(f\"Accuracy {scores[1] * 100}\")"
      ],
      "execution_count": 112,
      "outputs": [
        {
          "output_type": "stream",
          "text": [
            "Epoch 1/20\n",
            "138/138 [==============================] - 2s 12ms/step - loss: 1.5871 - accuracy: 0.6196 - val_loss: 0.3465 - val_accuracy: 0.9556\n",
            "Epoch 2/20\n",
            "138/138 [==============================] - 2s 11ms/step - loss: 0.2433 - accuracy: 0.9646 - val_loss: 0.1333 - val_accuracy: 0.9737\n",
            "Epoch 3/20\n",
            "138/138 [==============================] - 2s 11ms/step - loss: 0.0875 - accuracy: 0.9861 - val_loss: 0.0935 - val_accuracy: 0.9787\n",
            "Epoch 4/20\n",
            "138/138 [==============================] - 2s 11ms/step - loss: 0.0486 - accuracy: 0.9916 - val_loss: 0.0785 - val_accuracy: 0.9791\n",
            "Epoch 5/20\n",
            "138/138 [==============================] - 2s 11ms/step - loss: 0.0328 - accuracy: 0.9946 - val_loss: 0.0699 - val_accuracy: 0.9823\n",
            "Epoch 6/20\n",
            "138/138 [==============================] - 2s 11ms/step - loss: 0.0246 - accuracy: 0.9956 - val_loss: 0.0658 - val_accuracy: 0.9814\n",
            "Epoch 7/20\n",
            "138/138 [==============================] - 2s 12ms/step - loss: 0.0177 - accuracy: 0.9980 - val_loss: 0.0630 - val_accuracy: 0.9819\n",
            "Epoch 8/20\n",
            "138/138 [==============================] - 2s 12ms/step - loss: 0.0141 - accuracy: 0.9973 - val_loss: 0.0614 - val_accuracy: 0.9828\n",
            "Epoch 9/20\n",
            "138/138 [==============================] - 2s 12ms/step - loss: 0.0102 - accuracy: 0.9985 - val_loss: 0.0600 - val_accuracy: 0.9828\n",
            "Epoch 10/20\n",
            "138/138 [==============================] - 2s 11ms/step - loss: 0.0072 - accuracy: 0.9993 - val_loss: 0.0596 - val_accuracy: 0.9823\n",
            "Epoch 11/20\n",
            "138/138 [==============================] - 2s 11ms/step - loss: 0.0058 - accuracy: 0.9998 - val_loss: 0.0590 - val_accuracy: 0.9828\n",
            "Epoch 12/20\n",
            "138/138 [==============================] - 2s 11ms/step - loss: 0.0049 - accuracy: 0.9995 - val_loss: 0.0594 - val_accuracy: 0.9828\n",
            "Epoch 13/20\n",
            "138/138 [==============================] - 2s 11ms/step - loss: 0.0042 - accuracy: 0.9997 - val_loss: 0.0590 - val_accuracy: 0.9819\n",
            "Epoch 14/20\n",
            "138/138 [==============================] - 2s 11ms/step - loss: 0.0034 - accuracy: 0.9998 - val_loss: 0.0594 - val_accuracy: 0.9823\n",
            "Epoch 15/20\n",
            "138/138 [==============================] - 2s 11ms/step - loss: 0.0034 - accuracy: 0.9995 - val_loss: 0.0592 - val_accuracy: 0.9819\n",
            "Epoch 16/20\n",
            "138/138 [==============================] - 2s 11ms/step - loss: 0.0026 - accuracy: 0.9999 - val_loss: 0.0625 - val_accuracy: 0.9828\n",
            "Epoch 17/20\n",
            "138/138 [==============================] - 2s 11ms/step - loss: 0.0027 - accuracy: 0.9997 - val_loss: 0.0606 - val_accuracy: 0.9819\n",
            "Epoch 18/20\n",
            "138/138 [==============================] - 2s 11ms/step - loss: 0.0018 - accuracy: 0.9999 - val_loss: 0.0615 - val_accuracy: 0.9828\n",
            "Epoch 00018: early stopping\n",
            "87/87 [==============================] - 0s 1ms/step - loss: 0.0483 - accuracy: 0.9848\n",
            "Accuracy 98.47660660743713\n"
          ],
          "name": "stdout"
        }
      ]
    },
    {
      "cell_type": "code",
      "metadata": {
        "id": "Ui9nW3K0_0bf"
      },
      "source": [
        ""
      ],
      "execution_count": 112,
      "outputs": []
    },
    {
      "cell_type": "markdown",
      "metadata": {
        "id": "bey7f4mAoAdK"
      },
      "source": [
        "#### save all files for develop"
      ]
    },
    {
      "cell_type": "code",
      "metadata": {
        "id": "qVT8bxhLlXsZ"
      },
      "source": [
        "import pickle\n",
        "from keras.models import load_model\n",
        "from datetime import datetime "
      ],
      "execution_count": 113,
      "outputs": []
    },
    {
      "cell_type": "code",
      "metadata": {
        "id": "N_MVzdHxtBs8"
      },
      "source": [
        "now = datetime.now().strftime(\"%Y_%m_%d_%H_%M_%S\")"
      ],
      "execution_count": 114,
      "outputs": []
    },
    {
      "cell_type": "code",
      "metadata": {
        "id": "JG6dtEb-ozpY"
      },
      "source": [
        "#save and del model \n",
        "model.save(f'MLP_develop_model_{now}.h5')  "
      ],
      "execution_count": 115,
      "outputs": []
    },
    {
      "cell_type": "code",
      "metadata": {
        "id": "XTe3wIwslARK"
      },
      "source": [
        "MLP_develop = {\n",
        "    \"tokenizer\" :  tokenizer ,\n",
        "    \"maxlen\" :  maxlen ,\n",
        "    \"labelencoder\" :  labelencoder \n",
        "}"
      ],
      "execution_count": 116,
      "outputs": []
    },
    {
      "cell_type": "code",
      "metadata": {
        "id": "WuXDxgailjNp"
      },
      "source": [
        "pickle.dump(MLP_develop, open(f\"MLP_develop_config_{now}.pickle\", \"wb\"))"
      ],
      "execution_count": 117,
      "outputs": []
    },
    {
      "cell_type": "markdown",
      "metadata": {
        "id": "B0IdSKiJtzgd"
      },
      "source": [
        "#### Predykcja na zbiorze validacyjnym"
      ]
    },
    {
      "cell_type": "code",
      "metadata": {
        "colab": {
          "base_uri": "https://localhost:8080/"
        },
        "id": "27dr_LCO_1IW",
        "outputId": "c1ac8b4b-b163-4622-fa7d-03f22a32e693"
      },
      "source": [
        "# oczysczenie danych\n",
        "data_set_valid[\"clean_text\"] = data_set_valid[\"text\"].apply(lambda x: process_text(x))\n",
        "\n",
        "# labelencoder \n",
        "data_set_valid[\"labelencoder\"] = labelencoder.fit_transform(data_set_valid[\"label\"])\n",
        "\n",
        "# tokenizacja weg przetrenowanego już tokenizera\n",
        "X_validate = tokenizer.texts_to_sequences(data_set_valid[\"clean_text\"])\n",
        "\n",
        "# pad sequel\n",
        "X_validate = pad_sequences(X_validate, padding=\"post\", truncating=\"post\", maxlen=maxlen)\n",
        "X_validate"
      ],
      "execution_count": 118,
      "outputs": [
        {
          "output_type": "execute_result",
          "data": {
            "text/plain": [
              "array([[ 16,  43,  52, ...,   0,   0,   0],\n",
              "       [244, 178,  22, ...,   0,   0,   0],\n",
              "       [ 16,   9,   1, ...,   2, 175, 999],\n",
              "       ...,\n",
              "       [ 29,   1,  84, ...,   0,   0,   0],\n",
              "       [ 16,   9,   1, ...,   0,   0,   0],\n",
              "       [ 47,  41,   4, ...,   0,   0,   0]], dtype=int32)"
            ]
          },
          "metadata": {
            "tags": []
          },
          "execution_count": 118
        }
      ]
    },
    {
      "cell_type": "code",
      "metadata": {
        "colab": {
          "base_uri": "https://localhost:8080/"
        },
        "id": "UOPVqktyANNF",
        "outputId": "317db5ef-2285-4b57-ee9e-c9b04039956b"
      },
      "source": [
        "dummy_y_valid = data_set_valid[\"labelencoder\"].values\n",
        "dummy_y_valid[:5]"
      ],
      "execution_count": 119,
      "outputs": [
        {
          "output_type": "execute_result",
          "data": {
            "text/plain": [
              "array([6, 3, 2, 0, 6])"
            ]
          },
          "metadata": {
            "tags": []
          },
          "execution_count": 119
        }
      ]
    },
    {
      "cell_type": "code",
      "metadata": {
        "colab": {
          "base_uri": "https://localhost:8080/"
        },
        "id": "NAiFC304APqL",
        "outputId": "11fdbfb8-4f6e-4df5-a92a-4dc4a9c6bd07"
      },
      "source": [
        "# Sprawdzenie rozmiaru zbiorów validacyjnego\n",
        "X_validate.shape, dummy_y_valid.shape"
      ],
      "execution_count": 120,
      "outputs": [
        {
          "output_type": "execute_result",
          "data": {
            "text/plain": [
              "((700, 13), (700,))"
            ]
          },
          "metadata": {
            "tags": []
          },
          "execution_count": 120
        }
      ]
    },
    {
      "cell_type": "code",
      "metadata": {
        "colab": {
          "base_uri": "https://localhost:8080/"
        },
        "id": "WRbEdb7AAXGy",
        "outputId": "388cf8b2-e05b-46c4-8fd1-ff3c2670b37b"
      },
      "source": [
        "predicted_lstm_val = np.argmax(model.predict(X_validate), axis=-1)\n",
        "predicted_lstm_val[:5]"
      ],
      "execution_count": 121,
      "outputs": [
        {
          "output_type": "execute_result",
          "data": {
            "text/plain": [
              "array([6, 3, 2, 0, 6])"
            ]
          },
          "metadata": {
            "tags": []
          },
          "execution_count": 121
        }
      ]
    },
    {
      "cell_type": "markdown",
      "metadata": {
        "id": "_5wZwn-_uKE9"
      },
      "source": [
        "#### Rozkodowanie przewidzianych i prawidłowych etykiet"
      ]
    },
    {
      "cell_type": "code",
      "metadata": {
        "colab": {
          "base_uri": "https://localhost:8080/"
        },
        "id": "G4U9hYvnBJ9F",
        "outputId": "e359e115-c5f2-44f2-def9-ecb4874b2e95"
      },
      "source": [
        "y_pred = labelencoder.inverse_transform(predicted_lstm_val)\n",
        "y_pred = pd.Series(y_pred)\n",
        "y_pred.head()"
      ],
      "execution_count": 122,
      "outputs": [
        {
          "output_type": "execute_result",
          "data": {
            "text/plain": [
              "0    SearchScreeningEvent\n",
              "1               PlayMusic\n",
              "2              GetWeather\n",
              "3           AddToPlaylist\n",
              "4    SearchScreeningEvent\n",
              "dtype: object"
            ]
          },
          "metadata": {
            "tags": []
          },
          "execution_count": 122
        }
      ]
    },
    {
      "cell_type": "code",
      "metadata": {
        "colab": {
          "base_uri": "https://localhost:8080/"
        },
        "id": "EW03pUanA729",
        "outputId": "6f552d22-63c3-4ef0-b4b2-b1fa0e395ed7"
      },
      "source": [
        "y_val = labelencoder.inverse_transform(dummy_y_valid)\n",
        "y_val = pd.Series(y_val)\n",
        "y_val.head()"
      ],
      "execution_count": 123,
      "outputs": [
        {
          "output_type": "execute_result",
          "data": {
            "text/plain": [
              "0    SearchScreeningEvent\n",
              "1               PlayMusic\n",
              "2              GetWeather\n",
              "3           AddToPlaylist\n",
              "4    SearchScreeningEvent\n",
              "dtype: object"
            ]
          },
          "metadata": {
            "tags": []
          },
          "execution_count": 123
        }
      ]
    },
    {
      "cell_type": "markdown",
      "metadata": {
        "id": "RcGfyRgQudTZ"
      },
      "source": [
        "#### `Confusion matrix`"
      ]
    },
    {
      "cell_type": "code",
      "metadata": {
        "id": "GXVwswIsA9RT"
      },
      "source": [
        "from sklearn.metrics import accuracy_score, f1_score, classification_report, confusion_matrix\n",
        "%matplotlib inline\n",
        "from matplotlib import pyplot as plt\n",
        "import seaborn as sns"
      ],
      "execution_count": 124,
      "outputs": []
    },
    {
      "cell_type": "code",
      "metadata": {
        "colab": {
          "base_uri": "https://localhost:8080/",
          "height": 704
        },
        "id": "fGr6-cjzBFLc",
        "outputId": "398cdad6-bd0c-49f3-adb7-3638ea2c8a87"
      },
      "source": [
        "classes = np.unique(y_val)\n",
        "\n",
        "print('Accuracy:', round(accuracy_score(y_val, y_pred),2))\n",
        "print('F1_score:', round(f1_score(y_val, y_pred, average='weighted'),2))\n",
        "\n",
        "print(classification_report(y_val, y_pred))\n",
        "# Plot confusion matrix\n",
        "cm = confusion_matrix(y_val, y_pred)\n",
        "fig, ax = plt.subplots()\n",
        "sns.heatmap(cm, annot=True, fmt='d', ax=ax, cmap=plt.cm.Blues, cbar=False)\n",
        "ax.set(xlabel='Pred', ylabel='True', xticklabels=classes, yticklabels=classes, title='Confusion matrix')\n",
        "plt.yticks(rotation=0)\n",
        "plt.xticks(rotation=90)"
      ],
      "execution_count": 125,
      "outputs": [
        {
          "output_type": "stream",
          "text": [
            "Accuracy: 0.98\n",
            "F1_score: 0.98\n",
            "                      precision    recall  f1-score   support\n",
            "\n",
            "       AddToPlaylist       0.98      1.00      0.99       100\n",
            "      BookRestaurant       0.99      1.00      1.00       100\n",
            "          GetWeather       1.00      0.98      0.99       100\n",
            "           PlayMusic       0.99      0.97      0.98       100\n",
            "            RateBook       1.00      0.99      0.99       100\n",
            "  SearchCreativeWork       0.93      1.00      0.97       100\n",
            "SearchScreeningEvent       1.00      0.95      0.97       100\n",
            "\n",
            "            accuracy                           0.98       700\n",
            "           macro avg       0.98      0.98      0.98       700\n",
            "        weighted avg       0.98      0.98      0.98       700\n",
            "\n"
          ],
          "name": "stdout"
        },
        {
          "output_type": "execute_result",
          "data": {
            "text/plain": [
              "(array([0.5, 1.5, 2.5, 3.5, 4.5, 5.5, 6.5]),\n",
              " <a list of 7 Text major ticklabel objects>)"
            ]
          },
          "metadata": {
            "tags": []
          },
          "execution_count": 125
        },
        {
          "output_type": "display_data",
          "data": {
            "image/png": "[encoded data removed]",
            "text/plain": [
              "<Figure size 432x288 with 1 Axes>"
            ]
          },
          "metadata": {
            "tags": [],
            "needs_background": "light"
          }
        }
      ]
    },
    {
      "cell_type": "markdown",
      "metadata": {
        "id": "9uxfqF9uum32"
      },
      "source": [
        "#### Zapoznanie się z błędnymi predykcjami "
      ]
    },
    {
      "cell_type": "code",
      "metadata": {
        "colab": {
          "base_uri": "https://localhost:8080/"
        },
        "id": "28QYnOPM-mJz",
        "outputId": "59efd48f-c6c7-4810-8491-61d94f88ba64"
      },
      "source": [
        "# pobranie indexów błędnie przewidzianych etykiet \n",
        "indexes = []\n",
        "for i, phrase in enumerate(y_pred):\n",
        "  if phrase != y_val[i]:                                      #  Wszysktie błędne predykcje\n",
        "    # if phrase == 'SearchCreativeWork':            #  konkretna klasa 1\n",
        "    #   if y_val[i] == 'SearchScreeningEvent':      #  konkretna klasa 2\n",
        "        indexes.append(i)\n",
        "print(indexes)"
      ],
      "execution_count": 126,
      "outputs": [
        {
          "output_type": "stream",
          "text": [
            "[252, 367, 481, 499, 519, 557, 567, 583, 615, 648, 689]\n"
          ],
          "name": "stdout"
        }
      ]
    },
    {
      "cell_type": "code",
      "metadata": {
        "id": "8Z_F9W831sYg",
        "colab": {
          "base_uri": "https://localhost:8080/"
        },
        "outputId": "eefcec52-3fa0-4f7d-e128-cf21ec1dd190"
      },
      "source": [
        "# ustadaryzowanie obliczonego prawdopodobieństwa dla wystapienia danej etykiety \n",
        "import warnings\n",
        "warnings.filterwarnings('ignore')\n",
        "\n",
        "y_proba = [      [  round(j*100, 4) for j in i  ]       for i in model.predict_proba(X_validate)    ]\n",
        "y_proba[:2]"
      ],
      "execution_count": 127,
      "outputs": [
        {
          "output_type": "execute_result",
          "data": {
            "text/plain": [
              "[[0.0, 0.0, 0.0, 0.0, 0.0, 0.0, 100.0],\n",
              " [0.0119, 0.0182, 0.0011, 99.9565, 0.0044, 0.0074, 0.0005]]"
            ]
          },
          "metadata": {
            "tags": []
          },
          "execution_count": 127
        }
      ]
    },
    {
      "cell_type": "code",
      "metadata": {
        "colab": {
          "base_uri": "https://localhost:8080/"
        },
        "id": "ouy1yzy8-048",
        "outputId": "95067516-500f-4a4e-bd4c-5ae47a8f1048"
      },
      "source": [
        "for i in indexes:\n",
        "  print(f\"----------------------------\\nTekst komendy id {i}:\\n{data_set_valid['text'][i]}\\n\")\n",
        "  print(f\"Oczyszczona komenda i skrócona do wartości maxlen={maxlen}:\\n{' '.join(data_set_valid['clean_text'][i].split()[:maxlen])}\\n\")\n",
        "  print(f'True category: {y_val[i]} - probability - {y_proba[i][labelencoder.transform([y_val[i]])[0]]}%')\n",
        "  print(f'Predicted category: {y_pred[i]} - probability - {y_proba[i][labelencoder.transform([y_pred[i]])[0]]}%')\n",
        "  print(\"\\n\")"
      ],
      "execution_count": 128,
      "outputs": [
        {
          "output_type": "stream",
          "text": [
            "----------------------------\n",
            "Tekst komendy id 252:\n",
            "can you put on Like A Hurricane by Paul Landers\n",
            "\n",
            "Oczyszczona komenda i skrócona do wartości maxlen=13:\n",
            "can you put on like hurricane by paul landers\n",
            "\n",
            "True category: PlayMusic - probability - 25.7653%\n",
            "Predicted category: AddToPlaylist - probability - 73.1233%\n",
            "\n",
            "\n",
            "----------------------------\n",
            "Tekst komendy id 367:\n",
            "overcast on State Holiday in Pawling Nature Reserve  and neighboring places\n",
            "\n",
            "Oczyszczona komenda i skrócona do wartości maxlen=13:\n",
            "overcast on state holiday in pawling nature reserve and neighboring places\n",
            "\n",
            "True category: GetWeather - probability - 43.3957%\n",
            "Predicted category: BookRestaurant - probability - 55.546%\n",
            "\n",
            "\n",
            "----------------------------\n",
            "Tekst komendy id 481:\n",
            "Live In L.aJoseph Meyer please\n",
            "\n",
            "Oczyszczona komenda i skrócona do wartości maxlen=13:\n",
            "live in lajoseph meyer please\n",
            "\n",
            "True category: PlayMusic - probability - 15.4059%\n",
            "Predicted category: SearchCreativeWork - probability - 65.0812%\n",
            "\n",
            "\n",
            "----------------------------\n",
            "Tekst komendy id 499:\n",
            "Put What Color Is Your Sky by Alana Davis on the stereo.\n",
            "\n",
            "Oczyszczona komenda i skrócona do wartości maxlen=13:\n",
            "put what color is your sky by alana davis on the stereo\n",
            "\n",
            "True category: PlayMusic - probability - 0.8229%\n",
            "Predicted category: AddToPlaylist - probability - 97.7772%\n",
            "\n",
            "\n",
            "----------------------------\n",
            "Tekst komendy id 519:\n",
            "i want to see JLA Adventures: Trapped In Time\n",
            "\n",
            "Oczyszczona komenda i skrócona do wartości maxlen=13:\n",
            "want to see jla adventures trapped in time\n",
            "\n",
            "True category: SearchScreeningEvent - probability - 2.338%\n",
            "Predicted category: SearchCreativeWork - probability - 96.4891%\n",
            "\n",
            "\n",
            "----------------------------\n",
            "Tekst komendy id 557:\n",
            "I want to see Shattered Image.\n",
            "\n",
            "Oczyszczona komenda i skrócona do wartości maxlen=13:\n",
            "want to see shattered image\n",
            "\n",
            "True category: SearchScreeningEvent - probability - 5.9757%\n",
            "Predicted category: SearchCreativeWork - probability - 92.9058%\n",
            "\n",
            "\n",
            "----------------------------\n",
            "Tekst komendy id 567:\n",
            "Where is Belgium located\n",
            "\n",
            "Oczyszczona komenda i skrócona do wartości maxlen=13:\n",
            "where is belgium located\n",
            "\n",
            "True category: GetWeather - probability - 30.2704%\n",
            "Predicted category: SearchCreativeWork - probability - 57.9115%\n",
            "\n",
            "\n",
            "----------------------------\n",
            "Tekst komendy id 583:\n",
            "Rate Soul Music a 0.\n",
            "\n",
            "Oczyszczona komenda i skrócona do wartości maxlen=13:\n",
            "rate soul music\n",
            "\n",
            "True category: RateBook - probability - 34.804%\n",
            "Predicted category: PlayMusic - probability - 64.4134%\n",
            "\n",
            "\n",
            "----------------------------\n",
            "Tekst komendy id 615:\n",
            "Where can I see The Prime Ministers: The Pioneers\n",
            "\n",
            "Oczyszczona komenda i skrócona do wartości maxlen=13:\n",
            "where can see the prime ministers the pioneers\n",
            "\n",
            "True category: SearchScreeningEvent - probability - 28.198%\n",
            "Predicted category: SearchCreativeWork - probability - 71.7888%\n",
            "\n",
            "\n",
            "----------------------------\n",
            "Tekst komendy id 648:\n",
            "I want to see Outcast.\n",
            "\n",
            "Oczyszczona komenda i skrócona do wartości maxlen=13:\n",
            "want to see outcast\n",
            "\n",
            "True category: SearchScreeningEvent - probability - 4.4867%\n",
            "Predicted category: SearchCreativeWork - probability - 93.5185%\n",
            "\n",
            "\n",
            "----------------------------\n",
            "Tekst komendy id 689:\n",
            "I want to see Fear Chamber.\n",
            "\n",
            "Oczyszczona komenda i skrócona do wartości maxlen=13:\n",
            "want to see fear chamber\n",
            "\n",
            "True category: SearchScreeningEvent - probability - 11.7668%\n",
            "Predicted category: SearchCreativeWork - probability - 86.5116%\n",
            "\n",
            "\n"
          ],
          "name": "stdout"
        }
      ]
    },
    {
      "cell_type": "markdown",
      "metadata": {
        "id": "lm61MY9CSpLm"
      },
      "source": [
        "Wnioski:\n",
        "> "
      ]
    },
    {
      "cell_type": "code",
      "metadata": {
        "id": "AWG-60iK8dj8"
      },
      "source": [
        ""
      ],
      "execution_count": 128,
      "outputs": []
    }
  ]
}