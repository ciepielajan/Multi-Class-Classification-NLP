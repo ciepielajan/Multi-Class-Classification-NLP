{
  "nbformat": 4,
  "nbformat_minor": 0,
  "metadata": {
    "colab": {
      "name": "Detecting_intentions_MLP",
      "provenance": [],
      "collapsed_sections": [],
      "authorship_tag": "ABX9TyNWS0JGUTW2yPXvhywwAs8B",
      "include_colab_link": true
    },
    "kernelspec": {
      "name": "python3",
      "display_name": "Python 3"
    },
    "language_info": {
      "name": "python"
    }
  },
  "cells": [
    {
      "cell_type": "markdown",
      "metadata": {
        "id": "view-in-github",
        "colab_type": "text"
      },
      "source": [
        "<a href=\"https://colab.research.google.com/github/ciepielajan/Multi-Class-Classification-NLP/blob/main/MLP_clean_placeholder.ipynb\" target=\"_parent\"><img src=\"https://colab.research.google.com/assets/colab-badge.svg\" alt=\"Open In Colab\"/></a>"
      ]
    },
    {
      "cell_type": "markdown",
      "metadata": {
        "id": "FeNbiQPho0OC"
      },
      "source": [
        "MLP_clean_placeholder"
      ]
    },
    {
      "cell_type": "markdown",
      "metadata": {
        "id": "us7PJ6w-n8ge"
      },
      "source": [
        "#### Pobranie danych"
      ]
    },
    {
      "cell_type": "code",
      "metadata": {
        "colab": {
          "base_uri": "https://localhost:8080/"
        },
        "id": "cZ_7ET22CAsA",
        "outputId": "f0491574-a6e7-4dc2-e18d-f789a8172fb8"
      },
      "source": [
        "# https://drive.google.com/file/d/1fI6EXyD9TMTC1jzdu206ljXOGNjdHprq/view?usp=sharing\n",
        "!gdown --id \"1fI6EXyD9TMTC1jzdu206ljXOGNjdHprq\""
      ],
      "execution_count": 1,
      "outputs": [
        {
          "output_type": "stream",
          "text": [
            "Downloading...\n",
            "From: https://drive.google.com/uc?id=1fI6EXyD9TMTC1jzdu206ljXOGNjdHprq\n",
            "To: /content/user_intent.zip\n",
            "\r  0% 0.00/271k [00:00<?, ?B/s]\r100% 271k/271k [00:00<00:00, 38.6MB/s]\n"
          ],
          "name": "stdout"
        }
      ]
    },
    {
      "cell_type": "code",
      "metadata": {
        "colab": {
          "base_uri": "https://localhost:8080/"
        },
        "id": "uWusnzuPCHqv",
        "outputId": "70bc0b07-837d-4d8e-ed72-007f2e4e95be"
      },
      "source": [
        "!unzip \"user_intent.zip\""
      ],
      "execution_count": 2,
      "outputs": [
        {
          "output_type": "stream",
          "text": [
            "Archive:  user_intent.zip\n",
            "  inflating: train.csv               \n",
            "  inflating: __MACOSX/._train.csv    \n",
            "  inflating: validation.csv          \n"
          ],
          "name": "stdout"
        }
      ]
    },
    {
      "cell_type": "code",
      "metadata": {
        "id": "9CI1LZgj-Kin"
      },
      "source": [
        ""
      ],
      "execution_count": 2,
      "outputs": []
    },
    {
      "cell_type": "code",
      "metadata": {
        "colab": {
          "base_uri": "https://localhost:8080/"
        },
        "id": "NUKeVYWfCOdU",
        "outputId": "ba00c8b6-a06b-413e-f65e-92c651fbea4d"
      },
      "source": [
        "import pandas as pd\n",
        "import numpy as np\n",
        "\n",
        "data_set_train = pd.read_csv(\"train.csv\")\n",
        "data_set_valid = pd.read_csv(\"validation.csv\")\n",
        "\n",
        "print(data_set_train.shape)\n",
        "print(data_set_valid.shape)\n",
        "\n",
        "print(data_set_train.columns)\n",
        "print(data_set_valid.columns)"
      ],
      "execution_count": 3,
      "outputs": [
        {
          "output_type": "stream",
          "text": [
            "(13784, 2)\n",
            "(700, 2)\n",
            "Index(['text', 'label'], dtype='object')\n",
            "Index(['text', 'label'], dtype='object')\n"
          ],
          "name": "stdout"
        }
      ]
    },
    {
      "cell_type": "code",
      "metadata": {
        "id": "Hdt7Aw3VtU0n"
      },
      "source": [
        ""
      ],
      "execution_count": 3,
      "outputs": []
    },
    {
      "cell_type": "markdown",
      "metadata": {
        "id": "wYy3aseotVWE"
      },
      "source": [
        "#### process text i placeholder"
      ]
    },
    {
      "cell_type": "code",
      "metadata": {
        "id": "g1kzE8fRtaTT"
      },
      "source": [
        "import re\n",
        "def placeholder(sentence):\n",
        "    sentence = re.sub(r\"<[^>]+>\", \" \", sentence) # remove html tag - na początku żeby nie usunął później placeholderów\n",
        "\n",
        "    #placehodlery\n",
        "    sentence = re.sub('[\\w\\.-]+@[\\w\\.-]+', ' <email> ', sentence)  # maile\n",
        "    sentence = re.sub('(https://|http://|)+[A-Za-z]+\\.+[A-Za-z]+(\\S)+', ' <link> ', sentence)  # linki\n",
        "    sentence = re.sub('([0-9]{4}|[0-9]{2}|[0-9]{1})(\\.|\\-|\\/)([0-9]{4}|[0-9]{2}|[0-9]{1})(\\.|\\-|\\/)([0-9]{4}|[0-9]{2}|[0-9]{1})', ' <date> ', sentence)  # date\n",
        "    sentence = re.sub('[0-9]{1,2}(\\:|am|pm| am| pm)([0-9]{1,2}|\\:|am|pm|)([0-9]{1,2}|\\:|am|pm| am| pm|)(([0-9]{1,10})?)', ' <time> ', sentence)  # time\n",
        "    sentence = re.sub('\\s\\d+(,\\d+)*(\\.\\d+)?(\\%)?\\s', ' <number> ', sentence)  # number\n",
        "    sentence = re.sub('@[A-Za-z0-9\\.]+', ' <montion> ', sentence)  # @montion\n",
        "    sentence = re.sub('#[A-Za-z0-9]+', ' <hashtag> ', sentence)  # #hastag\n",
        "\n",
        "    #czyszczenie\n",
        "    sentence = re.sub(r\"[^a-zA-Z\\<\\>\\s]\", \"\", sentence)  # remove punctuations and numbers   nie usuwać <PLACEHOLDERÓW>\n",
        "    sentence = re.sub('[A-Za-z0-9]+@[a-zA-z].[a-zA-Z]+', '', sentence)  # maile\n",
        "    sentence = re.sub('(http[s]*:[/][/])[a-zA-Z0-9]+', '', sentence)  # linki\n",
        "    sentence = re.sub(r\"\\b[A-Za-z]{1}\\b\", \"\", sentence)  # remove single characters\n",
        "    sentence = re.sub(\"^\\s+|\\s+$\", \"\", sentence, flags=re.UNICODE) # Remove spaces both in the BEGINNING and in the END of a string:\n",
        "    sentence = \" \".join(sentence.split(\" \"))  # Remove ONLY DUPLICATE spaces:\n",
        "    sentence = sentence.lower()\n",
        "    return sentence"
      ],
      "execution_count": 4,
      "outputs": []
    },
    {
      "cell_type": "code",
      "metadata": {
        "id": "5GQNuCjSlz0F"
      },
      "source": [
        "# import re\n",
        "# def process_text(sentence, placeholder=False):\n",
        "#     # sentence = re.sub('[A-Za-z0-9]+@[a-zA-z].[a-zA-Z]+', '', sentence)  # maile\n",
        "#     # sentence = re.sub('(http[s]*:[/][/])[a-zA-Z0-9]+', '', sentence)  # linki\n",
        "#     # sentence = re.sub(r\"<[^>]+>\", \" \", sentence) # remove html tag \n",
        "#     # sentence = re.sub(r\"[^a-zA-Z\\<\\>\\s]\", \"\", sentence)  # remove punctuations and numbers   nie usuwać <PLACEHOLDERÓW>\n",
        "#     # sentence = re.sub(r\"[^a-zA-Z\\s]\", \"\", sentence)  # remove punctuations and numbers  usuwać wszytko bo nie ma placeholderów\n",
        "#     # sentence = re.sub(r\"\\b[A-Za-z]{1}\\b\", \"\", sentence)  # remove single characters\n",
        "#     # sentence = re.sub(\"^\\s+|\\s+$\", \"\", sentence, flags=re.UNICODE) # Remove spaces both in the BEGINNING and in the END of a string:\n",
        "#     # sentence = \" \".join(re.split(\"\\s+\", sentence, flags=re.UNICODE))  # Remove ONLY DUPLICATE spaces:\n",
        "#     # sentence = sentence.lower()\n",
        "    \n",
        "#     return sentence"
      ],
      "execution_count": 5,
      "outputs": []
    },
    {
      "cell_type": "code",
      "metadata": {
        "id": "RZJOju1sFOwp"
      },
      "source": [
        "data_set_train[\"clean_text_placeholder\"] = data_set_train[\"text\"].apply(lambda x: placeholder(x))"
      ],
      "execution_count": 6,
      "outputs": []
    },
    {
      "cell_type": "markdown",
      "metadata": {
        "id": "7epaW5cXoXef"
      },
      "source": [
        "#### `LabelEncoder` oraz `to_categorical`"
      ]
    },
    {
      "cell_type": "code",
      "metadata": {
        "colab": {
          "base_uri": "https://localhost:8080/",
          "height": 204
        },
        "id": "022rNoaL-xbl",
        "outputId": "e9dd5ce8-92d1-4690-c4c0-3b6f7d3ced48"
      },
      "source": [
        "from sklearn.preprocessing import LabelEncoder\n",
        "from keras.utils import to_categorical \n",
        "\n",
        "\n",
        "labelencoder = LabelEncoder()\n",
        "labelencoder.fit(data_set_train[\"label\"])\n",
        "\n",
        "data_set_train[\"labelencoder\"] = labelencoder.transform(data_set_train[\"label\"])\n",
        "\n",
        "dummy_y = to_categorical(data_set_train[\"labelencoder\"], dtype =\"float32\")\n",
        "\n",
        "data_set_train.head(5)"
      ],
      "execution_count": 7,
      "outputs": [
        {
          "output_type": "execute_result",
          "data": {
            "text/html": [
              "<div>\n",
              "<style scoped>\n",
              "    .dataframe tbody tr th:only-of-type {\n",
              "        vertical-align: middle;\n",
              "    }\n",
              "\n",
              "    .dataframe tbody tr th {\n",
              "        vertical-align: top;\n",
              "    }\n",
              "\n",
              "    .dataframe thead th {\n",
              "        text-align: right;\n",
              "    }\n",
              "</style>\n",
              "<table border=\"1\" class=\"dataframe\">\n",
              "  <thead>\n",
              "    <tr style=\"text-align: right;\">\n",
              "      <th></th>\n",
              "      <th>text</th>\n",
              "      <th>label</th>\n",
              "      <th>clean_text_placeholder</th>\n",
              "      <th>labelencoder</th>\n",
              "    </tr>\n",
              "  </thead>\n",
              "  <tbody>\n",
              "    <tr>\n",
              "      <th>0</th>\n",
              "      <td>find a cinema nearest for films</td>\n",
              "      <td>SearchScreeningEvent</td>\n",
              "      <td>find  cinema nearest for films</td>\n",
              "      <td>6</td>\n",
              "    </tr>\n",
              "    <tr>\n",
              "      <th>1</th>\n",
              "      <td>Give the current series two stars.</td>\n",
              "      <td>RateBook</td>\n",
              "      <td>give the current series two stars</td>\n",
              "      <td>4</td>\n",
              "    </tr>\n",
              "    <tr>\n",
              "      <th>2</th>\n",
              "      <td>find The Good Girl at a movie house\\n</td>\n",
              "      <td>SearchScreeningEvent</td>\n",
              "      <td>find the good girl at  movie house</td>\n",
              "      <td>6</td>\n",
              "    </tr>\n",
              "    <tr>\n",
              "      <th>3</th>\n",
              "      <td>Please make reservations for three at a kosher...</td>\n",
              "      <td>BookRestaurant</td>\n",
              "      <td>please make reservations for three at  kosher ...</td>\n",
              "      <td>1</td>\n",
              "    </tr>\n",
              "    <tr>\n",
              "      <th>4</th>\n",
              "      <td>what is the forecast for here one second from now</td>\n",
              "      <td>GetWeather</td>\n",
              "      <td>what is the forecast for here one second from now</td>\n",
              "      <td>2</td>\n",
              "    </tr>\n",
              "  </tbody>\n",
              "</table>\n",
              "</div>"
            ],
            "text/plain": [
              "                                                text  ... labelencoder\n",
              "0                    find a cinema nearest for films  ...            6\n",
              "1                 Give the current series two stars.  ...            4\n",
              "2              find The Good Girl at a movie house\\n  ...            6\n",
              "3  Please make reservations for three at a kosher...  ...            1\n",
              "4  what is the forecast for here one second from now  ...            2\n",
              "\n",
              "[5 rows x 4 columns]"
            ]
          },
          "metadata": {
            "tags": []
          },
          "execution_count": 7
        }
      ]
    },
    {
      "cell_type": "code",
      "metadata": {
        "id": "WL2Bw3aKzQ-N",
        "colab": {
          "base_uri": "https://localhost:8080/"
        },
        "outputId": "81c56c71-17e1-49dc-b7ac-7d28084ed9af"
      },
      "source": [
        "warunek = data_set_train[\"clean_text_placeholder\"].str.contains(\"<\")\n",
        "data_set_train[warunek][\"clean_text_placeholder\"].size"
      ],
      "execution_count": 8,
      "outputs": [
        {
          "output_type": "execute_result",
          "data": {
            "text/plain": [
              "2622"
            ]
          },
          "metadata": {
            "tags": []
          },
          "execution_count": 8
        }
      ]
    },
    {
      "cell_type": "code",
      "metadata": {
        "id": "B2RRN_Y51any",
        "colab": {
          "base_uri": "https://localhost:8080/",
          "height": 669
        },
        "outputId": "f47c23b3-94df-4136-b749-517f65c2f607"
      },
      "source": [
        "data_set_train[warunek].sample(20)"
      ],
      "execution_count": 9,
      "outputs": [
        {
          "output_type": "execute_result",
          "data": {
            "text/html": [
              "<div>\n",
              "<style scoped>\n",
              "    .dataframe tbody tr th:only-of-type {\n",
              "        vertical-align: middle;\n",
              "    }\n",
              "\n",
              "    .dataframe tbody tr th {\n",
              "        vertical-align: top;\n",
              "    }\n",
              "\n",
              "    .dataframe thead th {\n",
              "        text-align: right;\n",
              "    }\n",
              "</style>\n",
              "<table border=\"1\" class=\"dataframe\">\n",
              "  <thead>\n",
              "    <tr style=\"text-align: right;\">\n",
              "      <th></th>\n",
              "      <th>text</th>\n",
              "      <th>label</th>\n",
              "      <th>clean_text_placeholder</th>\n",
              "      <th>labelencoder</th>\n",
              "    </tr>\n",
              "  </thead>\n",
              "  <tbody>\n",
              "    <tr>\n",
              "      <th>8696</th>\n",
              "      <td>Play the 1991 soundtrack from Ian Mcdonald</td>\n",
              "      <td>PlayMusic</td>\n",
              "      <td>play the &lt;number&gt; soundtrack from ian mcdonald</td>\n",
              "      <td>3</td>\n",
              "    </tr>\n",
              "    <tr>\n",
              "      <th>4328</th>\n",
              "      <td>Rate The Fall-Down Artist 5 stars.</td>\n",
              "      <td>RateBook</td>\n",
              "      <td>rate the falldown artist &lt;number&gt; stars</td>\n",
              "      <td>4</td>\n",
              "    </tr>\n",
              "    <tr>\n",
              "      <th>10676</th>\n",
              "      <td>Rate The Hard Life 0 stars</td>\n",
              "      <td>RateBook</td>\n",
              "      <td>rate the hard life &lt;number&gt; stars</td>\n",
              "      <td>4</td>\n",
              "    </tr>\n",
              "    <tr>\n",
              "      <th>6802</th>\n",
              "      <td>Find a reservation for a highly rated steakhou...</td>\n",
              "      <td>BookRestaurant</td>\n",
              "      <td>find  reservation for  highly rated steakhouse...</td>\n",
              "      <td>1</td>\n",
              "    </tr>\n",
              "    <tr>\n",
              "      <th>8416</th>\n",
              "      <td>I rated The Island of Adventure saga a 2 of 6</td>\n",
              "      <td>RateBook</td>\n",
              "      <td>rated the island of adventure saga  &lt;number&gt; of</td>\n",
              "      <td>4</td>\n",
              "    </tr>\n",
              "    <tr>\n",
              "      <th>12317</th>\n",
              "      <td>I want to add un jour dans notre vie to my lis...</td>\n",
              "      <td>AddToPlaylist</td>\n",
              "      <td>want to add un jour dans notre vie to my list ...</td>\n",
              "      <td>0</td>\n",
              "    </tr>\n",
              "    <tr>\n",
              "      <th>12307</th>\n",
              "      <td>I give Benson-Meditation 1 out of 6 stars.</td>\n",
              "      <td>RateBook</td>\n",
              "      <td>give bensonmeditation &lt;number&gt; out of &lt;number&gt;...</td>\n",
              "      <td>4</td>\n",
              "    </tr>\n",
              "    <tr>\n",
              "      <th>2565</th>\n",
              "      <td>rate the book The World Is Full of Divorced Wo...</td>\n",
              "      <td>RateBook</td>\n",
              "      <td>rate the book the world is full of divorced wo...</td>\n",
              "      <td>4</td>\n",
              "    </tr>\n",
              "    <tr>\n",
              "      <th>9690</th>\n",
              "      <td>Rate Sandworms of Dune three out of 6 stars</td>\n",
              "      <td>RateBook</td>\n",
              "      <td>rate sandworms of dune three out of &lt;number&gt; s...</td>\n",
              "      <td>4</td>\n",
              "    </tr>\n",
              "    <tr>\n",
              "      <th>3599</th>\n",
              "      <td>I give Christianity not Mysterious 1 out of 6 ...</td>\n",
              "      <td>RateBook</td>\n",
              "      <td>give christianity not mysterious &lt;number&gt; out ...</td>\n",
              "      <td>4</td>\n",
              "    </tr>\n",
              "    <tr>\n",
              "      <th>4649</th>\n",
              "      <td>Find a reservation for 2 at a restaurant for p...</td>\n",
              "      <td>BookRestaurant</td>\n",
              "      <td>find  reservation for &lt;number&gt; at  restaurant ...</td>\n",
              "      <td>1</td>\n",
              "    </tr>\n",
              "    <tr>\n",
              "      <th>1046</th>\n",
              "      <td>Tell me the forecast for Elderton, Indiana in ...</td>\n",
              "      <td>GetWeather</td>\n",
              "      <td>tell me the forecast for elderton indiana in &lt;...</td>\n",
              "      <td>2</td>\n",
              "    </tr>\n",
              "    <tr>\n",
              "      <th>10096</th>\n",
              "      <td>Book a table for 04:45 pm at a restaurant in W...</td>\n",
              "      <td>BookRestaurant</td>\n",
              "      <td>book  table for  &lt;time&gt;  at  restaurant in was...</td>\n",
              "      <td>1</td>\n",
              "    </tr>\n",
              "    <tr>\n",
              "      <th>13441</th>\n",
              "      <td>play Pop 2017 Picks</td>\n",
              "      <td>PlayMusic</td>\n",
              "      <td>play pop &lt;number&gt; picks</td>\n",
              "      <td>3</td>\n",
              "    </tr>\n",
              "    <tr>\n",
              "      <th>1209</th>\n",
              "      <td>How will the weather be in New Mexico around 0...</td>\n",
              "      <td>GetWeather</td>\n",
              "      <td>how will the weather be in new mexico around  ...</td>\n",
              "      <td>2</td>\n",
              "    </tr>\n",
              "    <tr>\n",
              "      <th>756</th>\n",
              "      <td>Can I rate the book My Life in France not one,...</td>\n",
              "      <td>RateBook</td>\n",
              "      <td>can  rate the book my life in france not one b...</td>\n",
              "      <td>4</td>\n",
              "    </tr>\n",
              "    <tr>\n",
              "      <th>788</th>\n",
              "      <td>I give this album a 0 of 6 stars</td>\n",
              "      <td>RateBook</td>\n",
              "      <td>give this album  &lt;number&gt; of &lt;number&gt; stars</td>\n",
              "      <td>4</td>\n",
              "    </tr>\n",
              "    <tr>\n",
              "      <th>6068</th>\n",
              "      <td>Play the top 1991 sound track</td>\n",
              "      <td>PlayMusic</td>\n",
              "      <td>play the top &lt;number&gt; sound track</td>\n",
              "      <td>3</td>\n",
              "    </tr>\n",
              "    <tr>\n",
              "      <th>8103</th>\n",
              "      <td>rate this novel a 3\\n</td>\n",
              "      <td>RateBook</td>\n",
              "      <td>rate this novel  &lt;number&gt;</td>\n",
              "      <td>4</td>\n",
              "    </tr>\n",
              "    <tr>\n",
              "      <th>9795</th>\n",
              "      <td>Give one out of 6 stars to The Shiva Option</td>\n",
              "      <td>RateBook</td>\n",
              "      <td>give one out of &lt;number&gt; stars to the shiva op...</td>\n",
              "      <td>4</td>\n",
              "    </tr>\n",
              "  </tbody>\n",
              "</table>\n",
              "</div>"
            ],
            "text/plain": [
              "                                                    text  ... labelencoder\n",
              "8696          Play the 1991 soundtrack from Ian Mcdonald  ...            3\n",
              "4328                  Rate The Fall-Down Artist 5 stars.  ...            4\n",
              "10676                        Rate The Hard Life 0 stars   ...            4\n",
              "6802   Find a reservation for a highly rated steakhou...  ...            1\n",
              "8416       I rated The Island of Adventure saga a 2 of 6  ...            4\n",
              "12317  I want to add un jour dans notre vie to my lis...  ...            0\n",
              "12307         I give Benson-Meditation 1 out of 6 stars.  ...            4\n",
              "2565   rate the book The World Is Full of Divorced Wo...  ...            4\n",
              "9690         Rate Sandworms of Dune three out of 6 stars  ...            4\n",
              "3599   I give Christianity not Mysterious 1 out of 6 ...  ...            4\n",
              "4649   Find a reservation for 2 at a restaurant for p...  ...            1\n",
              "1046   Tell me the forecast for Elderton, Indiana in ...  ...            2\n",
              "10096  Book a table for 04:45 pm at a restaurant in W...  ...            1\n",
              "13441                                play Pop 2017 Picks  ...            3\n",
              "1209   How will the weather be in New Mexico around 0...  ...            2\n",
              "756    Can I rate the book My Life in France not one,...  ...            4\n",
              "788                     I give this album a 0 of 6 stars  ...            4\n",
              "6068                       Play the top 1991 sound track  ...            3\n",
              "8103                               rate this novel a 3\\n  ...            4\n",
              "9795         Give one out of 6 stars to The Shiva Option  ...            4\n",
              "\n",
              "[20 rows x 4 columns]"
            ]
          },
          "metadata": {
            "tags": []
          },
          "execution_count": 9
        }
      ]
    },
    {
      "cell_type": "code",
      "metadata": {
        "colab": {
          "base_uri": "https://localhost:8080/"
        },
        "id": "-RfsD1LSpSag",
        "outputId": "a88492ea-5dea-45cc-e6c2-0d826ca7a83b"
      },
      "source": [
        "dummy_y.shape"
      ],
      "execution_count": 10,
      "outputs": [
        {
          "output_type": "execute_result",
          "data": {
            "text/plain": [
              "(13784, 7)"
            ]
          },
          "metadata": {
            "tags": []
          },
          "execution_count": 10
        }
      ]
    },
    {
      "cell_type": "code",
      "metadata": {
        "colab": {
          "base_uri": "https://localhost:8080/"
        },
        "id": "S4dq1macoeQC",
        "outputId": "6ec7bc5e-8e22-423f-aefd-af1a96276ad2"
      },
      "source": [
        "id_intention = 4\n",
        "print(\"Sprawdzenie poprawności LabelEncoder i to_categorical \\n\")\n",
        "print(\"Label - \", data_set_train[\"label\"].iloc[id_intention])\n",
        "print(\"LabelEncoder - \", data_set_train[\"labelencoder\"].iloc[id_intention])\n",
        "print()\n",
        "print(\"to_categorical - \", dummy_y[id_intention])\n",
        "print()\n",
        "print(\"return to LabelEncoder - \",np.argmax(dummy_y[id_intention], axis=-1))\n",
        "print(\"return to Label - \",labelencoder.inverse_transform([np.argmax(dummy_y[id_intention], axis=-1)]))"
      ],
      "execution_count": 11,
      "outputs": [
        {
          "output_type": "stream",
          "text": [
            "Sprawdzenie poprawności LabelEncoder i to_categorical \n",
            "\n",
            "Label -  GetWeather\n",
            "LabelEncoder -  2\n",
            "\n",
            "to_categorical -  [0. 0. 1. 0. 0. 0. 0.]\n",
            "\n",
            "return to LabelEncoder -  2\n",
            "return to Label -  ['GetWeather']\n"
          ],
          "name": "stdout"
        }
      ]
    },
    {
      "cell_type": "markdown",
      "metadata": {
        "id": "-lZTDFgGoSmT"
      },
      "source": [
        "#### Zdefiniowanie X i y"
      ]
    },
    {
      "cell_type": "code",
      "metadata": {
        "id": "JWd9mEjfBAS2"
      },
      "source": [
        "X = data_set_train[\"clean_text_placeholder\"]\n",
        "y = dummy_y"
      ],
      "execution_count": 12,
      "outputs": []
    },
    {
      "cell_type": "code",
      "metadata": {
        "colab": {
          "base_uri": "https://localhost:8080/"
        },
        "id": "8jUlcX2npzFs",
        "outputId": "83fb4612-7d16-4520-c217-26485eec1d61"
      },
      "source": [
        "X.shape, y.shape"
      ],
      "execution_count": 13,
      "outputs": [
        {
          "output_type": "execute_result",
          "data": {
            "text/plain": [
              "((13784,), (13784, 7))"
            ]
          },
          "metadata": {
            "tags": []
          },
          "execution_count": 13
        }
      ]
    },
    {
      "cell_type": "markdown",
      "metadata": {
        "id": "9mS_l8wZoO2R"
      },
      "source": [
        "#### Podział zbioru "
      ]
    },
    {
      "cell_type": "code",
      "metadata": {
        "id": "A18D02x5sjFd"
      },
      "source": [
        "from sklearn.model_selection import train_test_split\n",
        "\n",
        "X_train, X_test, y_train, y_test = train_test_split(X, y, test_size=0.2, random_state=42)"
      ],
      "execution_count": 14,
      "outputs": []
    },
    {
      "cell_type": "code",
      "metadata": {
        "colab": {
          "base_uri": "https://localhost:8080/"
        },
        "id": "i_xH9XIGuYCG",
        "outputId": "788361e7-d172-422c-a562-2aaca85859e9"
      },
      "source": [
        "X_train.shape, X_test.shape, y_train.shape, y_test.shape"
      ],
      "execution_count": 15,
      "outputs": [
        {
          "output_type": "execute_result",
          "data": {
            "text/plain": [
              "((11027,), (2757,), (11027, 7), (2757, 7))"
            ]
          },
          "metadata": {
            "tags": []
          },
          "execution_count": 15
        }
      ]
    },
    {
      "cell_type": "code",
      "metadata": {
        "id": "-DR0gkd1_Uv0"
      },
      "source": [
        ""
      ],
      "execution_count": 15,
      "outputs": []
    },
    {
      "cell_type": "markdown",
      "metadata": {
        "id": "chWlDg9Mtmya"
      },
      "source": [
        "#### `Tokenizer` i `pad_sequences`"
      ]
    },
    {
      "cell_type": "code",
      "metadata": {
        "id": "LCm-rbaus6QG"
      },
      "source": [
        "from keras.preprocessing.sequence import pad_sequences\n",
        "from keras.preprocessing.text import Tokenizer"
      ],
      "execution_count": 16,
      "outputs": []
    },
    {
      "cell_type": "code",
      "metadata": {
        "id": "U-ihmlc-s6QG"
      },
      "source": [
        "tokenizer = Tokenizer(\n",
        "                        #num_words=5000,    \n",
        "                        filters='!\"#$%&()*+,-./:;=?@[\\\\]^_`{|}~\\t\\n',)  # usunięcie z filters  < i > żeby nie usuwało placeholderów ponieważ mogą być później mapowane z glove tweeter)  \n",
        "tokenizer.fit_on_texts(X_train)\n",
        "\n",
        "X_train = tokenizer.texts_to_sequences(X_train)\n",
        "X_test = tokenizer.texts_to_sequences(X_test)\n",
        "\n",
        "maxlen = 13\n",
        "vocab_size = len(tokenizer.word_index) + 1\n",
        "\n",
        "X_train = pad_sequences(X_train, padding=\"post\", truncating=\"post\", maxlen=maxlen)\n",
        "X_test = pad_sequences(X_test, padding=\"post\", truncating=\"post\", maxlen=maxlen)"
      ],
      "execution_count": 17,
      "outputs": []
    },
    {
      "cell_type": "markdown",
      "metadata": {
        "id": "pbeVSdurn-Ap"
      },
      "source": [
        "#### Model"
      ]
    },
    {
      "cell_type": "code",
      "metadata": {
        "id": "PaRWehbu_VCe"
      },
      "source": [
        "from keras.models import Sequential\n",
        "from keras.layers import Flatten, SimpleRNN, Dense\n",
        "from keras.layers.embeddings import Embedding\n",
        "from keras.models import Model\n",
        "from tensorflow.keras.callbacks import EarlyStopping"
      ],
      "execution_count": 18,
      "outputs": []
    },
    {
      "cell_type": "code",
      "metadata": {
        "colab": {
          "base_uri": "https://localhost:8080/"
        },
        "id": "BGt7E_vj_f5D",
        "outputId": "bcddea7c-fbb4-4e64-c640-86b4d8fc0705"
      },
      "source": [
        "model = Sequential()\n",
        "model.add(Embedding(vocab_size, 100, input_length=maxlen))  \n",
        "model.add(Flatten())\n",
        "model.add(Dense(7, activation=\"softmax\")) # sigmoid / softmax\n",
        "model.compile(loss=\"categorical_crossentropy\", optimizer=\"adam\", metrics=[\"accuracy\"])\n",
        "print(model.summary())"
      ],
      "execution_count": 19,
      "outputs": [
        {
          "output_type": "stream",
          "text": [
            "Model: \"sequential\"\n",
            "_________________________________________________________________\n",
            "Layer (type)                 Output Shape              Param #   \n",
            "=================================================================\n",
            "embedding (Embedding)        (None, 13, 100)           976400    \n",
            "_________________________________________________________________\n",
            "flatten (Flatten)            (None, 1300)              0         \n",
            "_________________________________________________________________\n",
            "dense (Dense)                (None, 7)                 9107      \n",
            "=================================================================\n",
            "Total params: 985,507\n",
            "Trainable params: 985,507\n",
            "Non-trainable params: 0\n",
            "_________________________________________________________________\n",
            "None\n"
          ],
          "name": "stdout"
        }
      ]
    },
    {
      "cell_type": "code",
      "metadata": {
        "colab": {
          "base_uri": "https://localhost:8080/"
        },
        "id": "wdnpnIhd_qLy",
        "outputId": "ad9329bd-bfff-4727-9243-ea60fc073a1e"
      },
      "source": [
        "from tensorflow.keras.callbacks import EarlyStopping\n",
        "\n",
        "EarlyStop = EarlyStopping(monitor='val_loss', \n",
        "                          patience=2,  # 2\n",
        "                          verbose=1)\n",
        "\n",
        "history = model.fit(X_train, \n",
        "                    y_train, \n",
        "                    epochs=20, \n",
        "                    batch_size=64, \n",
        "                    validation_split=0.2, \n",
        "                    callbacks = [EarlyStop] )\n",
        "scores = model.evaluate(X_test, y_test)\n",
        "print(f\"Accuracy {scores[1] * 100}\")"
      ],
      "execution_count": 20,
      "outputs": [
        {
          "output_type": "stream",
          "text": [
            "Epoch 1/20\n",
            "138/138 [==============================] - 4s 25ms/step - loss: 1.5837 - accuracy: 0.6440 - val_loss: 0.3492 - val_accuracy: 0.9497\n",
            "Epoch 2/20\n",
            "138/138 [==============================] - 3s 19ms/step - loss: 0.2423 - accuracy: 0.9606 - val_loss: 0.1394 - val_accuracy: 0.9701\n",
            "Epoch 3/20\n",
            "138/138 [==============================] - 3s 20ms/step - loss: 0.0815 - accuracy: 0.9874 - val_loss: 0.0977 - val_accuracy: 0.9751\n",
            "Epoch 4/20\n",
            "138/138 [==============================] - 3s 19ms/step - loss: 0.0477 - accuracy: 0.9912 - val_loss: 0.0814 - val_accuracy: 0.9796\n",
            "Epoch 5/20\n",
            "138/138 [==============================] - 2s 17ms/step - loss: 0.0245 - accuracy: 0.9971 - val_loss: 0.0743 - val_accuracy: 0.9810\n",
            "Epoch 6/20\n",
            "138/138 [==============================] - 2s 16ms/step - loss: 0.0192 - accuracy: 0.9978 - val_loss: 0.0676 - val_accuracy: 0.9819\n",
            "Epoch 7/20\n",
            "138/138 [==============================] - 2s 17ms/step - loss: 0.0131 - accuracy: 0.9989 - val_loss: 0.0652 - val_accuracy: 0.9810\n",
            "Epoch 8/20\n",
            "138/138 [==============================] - 2s 17ms/step - loss: 0.0086 - accuracy: 0.9997 - val_loss: 0.0633 - val_accuracy: 0.9814\n",
            "Epoch 9/20\n",
            "138/138 [==============================] - 2s 16ms/step - loss: 0.0064 - accuracy: 0.9999 - val_loss: 0.0619 - val_accuracy: 0.9823\n",
            "Epoch 10/20\n",
            "138/138 [==============================] - 3s 19ms/step - loss: 0.0048 - accuracy: 0.9999 - val_loss: 0.0613 - val_accuracy: 0.9814\n",
            "Epoch 11/20\n",
            "138/138 [==============================] - 2s 16ms/step - loss: 0.0042 - accuracy: 1.0000 - val_loss: 0.0606 - val_accuracy: 0.9819\n",
            "Epoch 12/20\n",
            "138/138 [==============================] - 2s 16ms/step - loss: 0.0031 - accuracy: 1.0000 - val_loss: 0.0601 - val_accuracy: 0.9823\n",
            "Epoch 13/20\n",
            "138/138 [==============================] - 2s 17ms/step - loss: 0.0027 - accuracy: 1.0000 - val_loss: 0.0599 - val_accuracy: 0.9823\n",
            "Epoch 14/20\n",
            "138/138 [==============================] - 2s 17ms/step - loss: 0.0022 - accuracy: 1.0000 - val_loss: 0.0596 - val_accuracy: 0.9828\n",
            "Epoch 15/20\n",
            "138/138 [==============================] - 2s 16ms/step - loss: 0.0018 - accuracy: 1.0000 - val_loss: 0.0601 - val_accuracy: 0.9828\n",
            "Epoch 16/20\n",
            "138/138 [==============================] - 3s 19ms/step - loss: 0.0016 - accuracy: 1.0000 - val_loss: 0.0602 - val_accuracy: 0.9828\n",
            "Epoch 00016: early stopping\n",
            "87/87 [==============================] - 0s 1ms/step - loss: 0.0475 - accuracy: 0.9830\n",
            "Accuracy 98.29524755477905\n"
          ],
          "name": "stdout"
        }
      ]
    },
    {
      "cell_type": "code",
      "metadata": {
        "id": "Ui9nW3K0_0bf"
      },
      "source": [
        ""
      ],
      "execution_count": 20,
      "outputs": []
    },
    {
      "cell_type": "markdown",
      "metadata": {
        "id": "bey7f4mAoAdK"
      },
      "source": [
        "#### save all files for develop"
      ]
    },
    {
      "cell_type": "code",
      "metadata": {
        "id": "qVT8bxhLlXsZ"
      },
      "source": [
        "import pickle\n",
        "from keras.models import load_model\n",
        "from datetime import datetime "
      ],
      "execution_count": 21,
      "outputs": []
    },
    {
      "cell_type": "code",
      "metadata": {
        "id": "N_MVzdHxtBs8"
      },
      "source": [
        "now = datetime.now().strftime(\"%Y_%m_%d_%H_%M_%S\")"
      ],
      "execution_count": 22,
      "outputs": []
    },
    {
      "cell_type": "code",
      "metadata": {
        "id": "JG6dtEb-ozpY"
      },
      "source": [
        "#save and del model \n",
        "model.save(f'MLP_develop_model_{now}.h5')  "
      ],
      "execution_count": 23,
      "outputs": []
    },
    {
      "cell_type": "code",
      "metadata": {
        "id": "XTe3wIwslARK"
      },
      "source": [
        "MLP_develop = {\n",
        "    \"tokenizer\" :  tokenizer ,\n",
        "    \"maxlen\" :  maxlen ,\n",
        "    \"labelencoder\" :  labelencoder \n",
        "}"
      ],
      "execution_count": 24,
      "outputs": []
    },
    {
      "cell_type": "code",
      "metadata": {
        "id": "WuXDxgailjNp"
      },
      "source": [
        "pickle.dump(MLP_develop, open(f\"MLP_develop_config_{now}.pickle\", \"wb\"))"
      ],
      "execution_count": 25,
      "outputs": []
    },
    {
      "cell_type": "markdown",
      "metadata": {
        "id": "B0IdSKiJtzgd"
      },
      "source": [
        "#### Predykcja na zbiorze validacyjnym"
      ]
    },
    {
      "cell_type": "code",
      "metadata": {
        "colab": {
          "base_uri": "https://localhost:8080/"
        },
        "id": "27dr_LCO_1IW",
        "outputId": "10b79046-2fb1-4a05-cc6a-145e7b07a986"
      },
      "source": [
        "# oczysczenie danych\n",
        "data_set_valid[\"clean_text_placeholder\"] = data_set_valid[\"text\"].apply(lambda x: placeholder(x))\n",
        "\n",
        "# labelencoder \n",
        "data_set_valid[\"labelencoder\"] = labelencoder.fit_transform(data_set_valid[\"label\"])\n",
        "\n",
        "# tokenizacja weg przetrenowanego już tokenizera\n",
        "X_validate = tokenizer.texts_to_sequences(data_set_valid[\"clean_text_placeholder\"])\n",
        "\n",
        "# pad sequel\n",
        "X_validate = pad_sequences(X_validate, padding=\"post\", truncating=\"post\", maxlen=maxlen)\n",
        "X_validate"
      ],
      "execution_count": 26,
      "outputs": [
        {
          "output_type": "execute_result",
          "data": {
            "text/plain": [
              "array([[  16,   43,   51, ...,    0,    0,    0],\n",
              "       [ 245,  179,   22, ...,    0,    0,    0],\n",
              "       [  16,    9,    1, ...,    2,  176, 1000],\n",
              "       ...,\n",
              "       [  29,    1,   85, ...,    0,    0,    0],\n",
              "       [  16,    9,    1, ...,    0,    0,    0],\n",
              "       [  46,   41,    4, ..., 1648,    0,    0]], dtype=int32)"
            ]
          },
          "metadata": {
            "tags": []
          },
          "execution_count": 26
        }
      ]
    },
    {
      "cell_type": "code",
      "metadata": {
        "colab": {
          "base_uri": "https://localhost:8080/"
        },
        "id": "UOPVqktyANNF",
        "outputId": "12e7401d-9155-4584-adcd-9da174386846"
      },
      "source": [
        "dummy_y_valid = data_set_valid[\"labelencoder\"].values\n",
        "dummy_y_valid[:5]"
      ],
      "execution_count": 27,
      "outputs": [
        {
          "output_type": "execute_result",
          "data": {
            "text/plain": [
              "array([6, 3, 2, 0, 6])"
            ]
          },
          "metadata": {
            "tags": []
          },
          "execution_count": 27
        }
      ]
    },
    {
      "cell_type": "code",
      "metadata": {
        "colab": {
          "base_uri": "https://localhost:8080/"
        },
        "id": "NAiFC304APqL",
        "outputId": "7c4d97d1-5fa5-482b-e314-5908bd81a0fa"
      },
      "source": [
        "# Sprawdzenie rozmiaru zbiorów validacyjnego\n",
        "X_validate.shape, dummy_y_valid.shape"
      ],
      "execution_count": 28,
      "outputs": [
        {
          "output_type": "execute_result",
          "data": {
            "text/plain": [
              "((700, 13), (700,))"
            ]
          },
          "metadata": {
            "tags": []
          },
          "execution_count": 28
        }
      ]
    },
    {
      "cell_type": "code",
      "metadata": {
        "colab": {
          "base_uri": "https://localhost:8080/"
        },
        "id": "WRbEdb7AAXGy",
        "outputId": "812ca0f9-37d4-4362-fa90-8cff39d7e6cc"
      },
      "source": [
        "predicted_lstm_val = np.argmax(model.predict(X_validate), axis=-1)\n",
        "predicted_lstm_val[:5]"
      ],
      "execution_count": 29,
      "outputs": [
        {
          "output_type": "execute_result",
          "data": {
            "text/plain": [
              "array([6, 3, 2, 0, 6])"
            ]
          },
          "metadata": {
            "tags": []
          },
          "execution_count": 29
        }
      ]
    },
    {
      "cell_type": "markdown",
      "metadata": {
        "id": "_5wZwn-_uKE9"
      },
      "source": [
        "#### Rozkodowanie przewidzianych i prawidłowych etykiet"
      ]
    },
    {
      "cell_type": "code",
      "metadata": {
        "colab": {
          "base_uri": "https://localhost:8080/"
        },
        "id": "G4U9hYvnBJ9F",
        "outputId": "b0fd367a-63fe-4e57-dee3-197ed21a6165"
      },
      "source": [
        "y_pred = labelencoder.inverse_transform(predicted_lstm_val)\n",
        "y_pred = pd.Series(y_pred)\n",
        "y_pred.head()"
      ],
      "execution_count": 30,
      "outputs": [
        {
          "output_type": "execute_result",
          "data": {
            "text/plain": [
              "0    SearchScreeningEvent\n",
              "1               PlayMusic\n",
              "2              GetWeather\n",
              "3           AddToPlaylist\n",
              "4    SearchScreeningEvent\n",
              "dtype: object"
            ]
          },
          "metadata": {
            "tags": []
          },
          "execution_count": 30
        }
      ]
    },
    {
      "cell_type": "code",
      "metadata": {
        "colab": {
          "base_uri": "https://localhost:8080/"
        },
        "id": "EW03pUanA729",
        "outputId": "4844a3d3-0e77-402b-9ee9-de96eb2c60f2"
      },
      "source": [
        "y_val = labelencoder.inverse_transform(dummy_y_valid)\n",
        "y_val = pd.Series(y_val)\n",
        "y_val.head()"
      ],
      "execution_count": 31,
      "outputs": [
        {
          "output_type": "execute_result",
          "data": {
            "text/plain": [
              "0    SearchScreeningEvent\n",
              "1               PlayMusic\n",
              "2              GetWeather\n",
              "3           AddToPlaylist\n",
              "4    SearchScreeningEvent\n",
              "dtype: object"
            ]
          },
          "metadata": {
            "tags": []
          },
          "execution_count": 31
        }
      ]
    },
    {
      "cell_type": "markdown",
      "metadata": {
        "id": "RcGfyRgQudTZ"
      },
      "source": [
        "#### `Confusion matrix`"
      ]
    },
    {
      "cell_type": "code",
      "metadata": {
        "id": "GXVwswIsA9RT"
      },
      "source": [
        "from sklearn.metrics import accuracy_score, f1_score, classification_report, confusion_matrix\n",
        "%matplotlib inline\n",
        "from matplotlib import pyplot as plt\n",
        "import seaborn as sns"
      ],
      "execution_count": 32,
      "outputs": []
    },
    {
      "cell_type": "code",
      "metadata": {
        "colab": {
          "base_uri": "https://localhost:8080/",
          "height": 704
        },
        "id": "fGr6-cjzBFLc",
        "outputId": "8be3d1d2-fc66-4589-ccd8-1a9552f5d0bc"
      },
      "source": [
        "classes = np.unique(y_val)\n",
        "\n",
        "print('Accuracy:', round(accuracy_score(y_val, y_pred),2))\n",
        "print('F1_score:', round(f1_score(y_val, y_pred, average='weighted'),2))\n",
        "\n",
        "print(classification_report(y_val, y_pred))\n",
        "# Plot confusion matrix\n",
        "cm = confusion_matrix(y_val, y_pred)\n",
        "fig, ax = plt.subplots()\n",
        "sns.heatmap(cm, annot=True, fmt='d', ax=ax, cmap=plt.cm.Blues, cbar=False)\n",
        "ax.set(xlabel='Pred', ylabel='True', xticklabels=classes, yticklabels=classes, title='Confusion matrix')\n",
        "plt.yticks(rotation=0)\n",
        "plt.xticks(rotation=90)"
      ],
      "execution_count": 33,
      "outputs": [
        {
          "output_type": "stream",
          "text": [
            "Accuracy: 0.98\n",
            "F1_score: 0.98\n",
            "                      precision    recall  f1-score   support\n",
            "\n",
            "       AddToPlaylist       0.99      1.00      1.00       100\n",
            "      BookRestaurant       1.00      1.00      1.00       100\n",
            "          GetWeather       0.98      0.99      0.99       100\n",
            "           PlayMusic       0.99      0.98      0.98       100\n",
            "            RateBook       1.00      0.99      0.99       100\n",
            "  SearchCreativeWork       0.93      1.00      0.96       100\n",
            "SearchScreeningEvent       1.00      0.92      0.96       100\n",
            "\n",
            "            accuracy                           0.98       700\n",
            "           macro avg       0.98      0.98      0.98       700\n",
            "        weighted avg       0.98      0.98      0.98       700\n",
            "\n"
          ],
          "name": "stdout"
        },
        {
          "output_type": "execute_result",
          "data": {
            "text/plain": [
              "(array([0.5, 1.5, 2.5, 3.5, 4.5, 5.5, 6.5]),\n",
              " <a list of 7 Text major ticklabel objects>)"
            ]
          },
          "metadata": {
            "tags": []
          },
          "execution_count": 33
        },
        {
          "output_type": "display_data",
          "data": {
            "image/png": "[encoded data removed]",
            "text/plain": [
              "<Figure size 432x288 with 1 Axes>"
            ]
          },
          "metadata": {
            "tags": [],
            "needs_background": "light"
          }
        }
      ]
    },
    {
      "cell_type": "markdown",
      "metadata": {
        "id": "9uxfqF9uum32"
      },
      "source": [
        "#### Zapoznanie się z błędnymi predykcjami "
      ]
    },
    {
      "cell_type": "code",
      "metadata": {
        "colab": {
          "base_uri": "https://localhost:8080/"
        },
        "id": "28QYnOPM-mJz",
        "outputId": "c1a92db8-a1de-45d3-8c74-ff00dd1efa07"
      },
      "source": [
        "# pobranie indexów błędnie przewidzianych etykiet \n",
        "indexes = []\n",
        "for i, phrase in enumerate(y_pred):\n",
        "  if phrase != y_val[i]:                                      #  Wszysktie błędne predykcje\n",
        "    # if phrase == 'SearchCreativeWork':            #  konkretna klasa 1\n",
        "    #   if y_val[i] == 'SearchScreeningEvent':      #  konkretna klasa 2\n",
        "        indexes.append(i)\n",
        "print(indexes)"
      ],
      "execution_count": 34,
      "outputs": [
        {
          "output_type": "stream",
          "text": [
            "[209, 451, 481, 499, 519, 557, 567, 568, 583, 615, 648, 689]\n"
          ],
          "name": "stdout"
        }
      ]
    },
    {
      "cell_type": "code",
      "metadata": {
        "id": "8Z_F9W831sYg",
        "colab": {
          "base_uri": "https://localhost:8080/"
        },
        "outputId": "d233c406-e475-4c84-9625-d51336327942"
      },
      "source": [
        "# ustadaryzowanie obliczonego prawdopodobieństwa dla wystapienia danej etykiety \n",
        "import warnings\n",
        "warnings.filterwarnings('ignore')\n",
        "\n",
        "y_proba = [      [  round(j*100, 4) for j in i  ]       for i in model.predict_proba(X_validate)    ]\n",
        "y_proba[:2]"
      ],
      "execution_count": 35,
      "outputs": [
        {
          "output_type": "execute_result",
          "data": {
            "text/plain": [
              "[[0.0, 0.0, 0.0, 0.0, 0.0, 0.0, 100.0],\n",
              " [0.1348, 0.0424, 0.0072, 99.7334, 0.0098, 0.0694, 0.003]]"
            ]
          },
          "metadata": {
            "tags": []
          },
          "execution_count": 35
        }
      ]
    },
    {
      "cell_type": "code",
      "metadata": {
        "colab": {
          "base_uri": "https://localhost:8080/"
        },
        "id": "ouy1yzy8-048",
        "outputId": "e69a46f1-5e14-4acf-b3b1-698b855a6b38"
      },
      "source": [
        "for i in indexes:\n",
        "  print(f\"----------------------------\\nTekst komendy id {i}:\\n{data_set_valid['text'][i]}\\n\")\n",
        "  print(f\"Oczyszczona komenda trenowana przez model:\\n{tokenizer.sequences_to_texts([X_validate[i]])[0]}\\n\") \n",
        "  print(f'True category: {y_val[i]} - probability - {y_proba[i][labelencoder.transform([y_val[i]])[0]]}%')\n",
        "  print(f'Predicted category: {y_pred[i]} - probability - {y_proba[i][labelencoder.transform([y_pred[i]])[0]]}%')\n",
        "  print(\"\\n\")"
      ],
      "execution_count": 36,
      "outputs": [
        {
          "output_type": "stream",
          "text": [
            "----------------------------\n",
            "Tekst komendy id 209:\n",
            "Will I Think I Do be playing at 7 PM?\n",
            "\n",
            "Oczyszczona komenda trenowana przez model:\n",
            "will think do be playing at <number> pm\n",
            "\n",
            "True category: SearchScreeningEvent - probability - 44.7455%\n",
            "Predicted category: GetWeather - probability - 53.512%\n",
            "\n",
            "\n",
            "----------------------------\n",
            "Tekst komendy id 451:\n",
            "Can I see Ellis Island Revisited in 1 minute\n",
            "\n",
            "Oczyszczona komenda trenowana przez model:\n",
            "can see island revisited in <number> minute\n",
            "\n",
            "True category: SearchScreeningEvent - probability - 20.3727%\n",
            "Predicted category: GetWeather - probability - 54.4993%\n",
            "\n",
            "\n",
            "----------------------------\n",
            "Tekst komendy id 481:\n",
            "Live In L.aJoseph Meyer please\n",
            "\n",
            "Oczyszczona komenda trenowana przez model:\n",
            "live in <link> meyer please\n",
            "\n",
            "True category: PlayMusic - probability - 0.8336%\n",
            "Predicted category: SearchCreativeWork - probability - 87.2178%\n",
            "\n",
            "\n",
            "----------------------------\n",
            "Tekst komendy id 499:\n",
            "Put What Color Is Your Sky by Alana Davis on the stereo.\n",
            "\n",
            "Oczyszczona komenda trenowana przez model:\n",
            "put what is your sky by davis on the stereo\n",
            "\n",
            "True category: PlayMusic - probability - 1.0367%\n",
            "Predicted category: AddToPlaylist - probability - 97.8481%\n",
            "\n",
            "\n",
            "----------------------------\n",
            "Tekst komendy id 519:\n",
            "i want to see JLA Adventures: Trapped In Time\n",
            "\n",
            "Oczyszczona komenda trenowana przez model:\n",
            "want to see adventures in time\n",
            "\n",
            "True category: SearchScreeningEvent - probability - 15.9918%\n",
            "Predicted category: SearchCreativeWork - probability - 79.5395%\n",
            "\n",
            "\n",
            "----------------------------\n",
            "Tekst komendy id 557:\n",
            "I want to see Shattered Image.\n",
            "\n",
            "Oczyszczona komenda trenowana przez model:\n",
            "want to see image\n",
            "\n",
            "True category: SearchScreeningEvent - probability - 30.3977%\n",
            "Predicted category: SearchCreativeWork - probability - 65.3469%\n",
            "\n",
            "\n",
            "----------------------------\n",
            "Tekst komendy id 567:\n",
            "Where is Belgium located\n",
            "\n",
            "Oczyszczona komenda trenowana przez model:\n",
            "where is belgium located\n",
            "\n",
            "True category: GetWeather - probability - 15.4669%\n",
            "Predicted category: SearchCreativeWork - probability - 47.4518%\n",
            "\n",
            "\n",
            "----------------------------\n",
            "Tekst komendy id 568:\n",
            "Can you check the timings for Super Sweet 16: The Movie?\n",
            "\n",
            "Oczyszczona komenda trenowana przez model:\n",
            "can you check the timings for super sweet <time> the movie\n",
            "\n",
            "True category: SearchScreeningEvent - probability - 19.454%\n",
            "Predicted category: SearchCreativeWork - probability - 77.0788%\n",
            "\n",
            "\n",
            "----------------------------\n",
            "Tekst komendy id 583:\n",
            "Rate Soul Music a 0.\n",
            "\n",
            "Oczyszczona komenda trenowana przez model:\n",
            "rate soul music\n",
            "\n",
            "True category: RateBook - probability - 47.6052%\n",
            "Predicted category: PlayMusic - probability - 50.6579%\n",
            "\n",
            "\n",
            "----------------------------\n",
            "Tekst komendy id 615:\n",
            "Where can I see The Prime Ministers: The Pioneers\n",
            "\n",
            "Oczyszczona komenda trenowana przez model:\n",
            "where can see the prime the pioneers\n",
            "\n",
            "True category: SearchScreeningEvent - probability - 46.1185%\n",
            "Predicted category: SearchCreativeWork - probability - 53.8543%\n",
            "\n",
            "\n",
            "----------------------------\n",
            "Tekst komendy id 648:\n",
            "I want to see Outcast.\n",
            "\n",
            "Oczyszczona komenda trenowana przez model:\n",
            "want to see\n",
            "\n",
            "True category: SearchScreeningEvent - probability - 23.1691%\n",
            "Predicted category: SearchCreativeWork - probability - 69.8869%\n",
            "\n",
            "\n",
            "----------------------------\n",
            "Tekst komendy id 689:\n",
            "I want to see Fear Chamber.\n",
            "\n",
            "Oczyszczona komenda trenowana przez model:\n",
            "want to see fear chamber\n",
            "\n",
            "True category: SearchScreeningEvent - probability - 29.8286%\n",
            "Predicted category: SearchCreativeWork - probability - 66.2325%\n",
            "\n",
            "\n"
          ],
          "name": "stdout"
        }
      ]
    },
    {
      "cell_type": "markdown",
      "metadata": {
        "id": "lm61MY9CSpLm"
      },
      "source": [
        "Wnioski:\n",
        "> "
      ]
    },
    {
      "cell_type": "code",
      "metadata": {
        "id": "AWG-60iK8dj8"
      },
      "source": [
        ""
      ],
      "execution_count": 36,
      "outputs": []
    }
  ]
}