{
  "nbformat": 4,
  "nbformat_minor": 0,
  "metadata": {
    "colab": {
      "name": "SDA NLP + RNN  Detekcja intencji  14.03.2021 -v3 praca własny",
      "provenance": [],
      "collapsed_sections": [],
      "authorship_tag": "ABX9TyPApMNx6RdTeeGsSKHjsfSx",
      "include_colab_link": true
    },
    "kernelspec": {
      "name": "python3",
      "display_name": "Python 3"
    },
    "language_info": {
      "name": "python"
    }
  },
  "cells": [
    {
      "cell_type": "markdown",
      "metadata": {
        "id": "view-in-github",
        "colab_type": "text"
      },
      "source": [
        "<a href=\"https://colab.research.google.com/github/ciepielajan/Multi-Class-Classification-NLP/blob/main/MLP-clean-lemma.ipynb\" target=\"_parent\"><img src=\"https://colab.research.google.com/assets/colab-badge.svg\" alt=\"Open In Colab\"/></a>"
      ]
    },
    {
      "cell_type": "markdown",
      "metadata": {
        "id": "7oxDUARt2Guv"
      },
      "source": [
        "MLP-clean-lemma.ipynb"
      ]
    },
    {
      "cell_type": "markdown",
      "metadata": {
        "id": "us7PJ6w-n8ge"
      },
      "source": [
        "#### Pobranie danych"
      ]
    },
    {
      "cell_type": "code",
      "metadata": {
        "colab": {
          "base_uri": "https://localhost:8080/"
        },
        "id": "cZ_7ET22CAsA",
        "outputId": "873d4a28-a175-4e19-b86b-b2cbcc00f59b"
      },
      "source": [
        "# https://drive.google.com/file/d/1fI6EXyD9TMTC1jzdu206ljXOGNjdHprq/view?usp=sharing\n",
        "!gdown --id \"1fI6EXyD9TMTC1jzdu206ljXOGNjdHprq\""
      ],
      "execution_count": 1,
      "outputs": [
        {
          "output_type": "stream",
          "text": [
            "Downloading...\n",
            "From: https://drive.google.com/uc?id=1fI6EXyD9TMTC1jzdu206ljXOGNjdHprq\n",
            "To: /content/user_intent.zip\n",
            "\r  0% 0.00/271k [00:00<?, ?B/s]\r100% 271k/271k [00:00<00:00, 38.5MB/s]\n"
          ],
          "name": "stdout"
        }
      ]
    },
    {
      "cell_type": "code",
      "metadata": {
        "colab": {
          "base_uri": "https://localhost:8080/"
        },
        "id": "uWusnzuPCHqv",
        "outputId": "267b487c-1f23-46f5-f444-d0b2da343964"
      },
      "source": [
        "!unzip \"user_intent.zip\""
      ],
      "execution_count": 2,
      "outputs": [
        {
          "output_type": "stream",
          "text": [
            "Archive:  user_intent.zip\n",
            "  inflating: train.csv               \n",
            "  inflating: __MACOSX/._train.csv    \n",
            "  inflating: validation.csv          \n"
          ],
          "name": "stdout"
        }
      ]
    },
    {
      "cell_type": "code",
      "metadata": {
        "id": "9CI1LZgj-Kin"
      },
      "source": [
        ""
      ],
      "execution_count": 2,
      "outputs": []
    },
    {
      "cell_type": "code",
      "metadata": {
        "colab": {
          "base_uri": "https://localhost:8080/"
        },
        "id": "NUKeVYWfCOdU",
        "outputId": "d0bd9837-66d1-4c9a-9885-a653defa9e34"
      },
      "source": [
        "import pandas as pd\n",
        "import numpy as np\n",
        "from datetime import datetime\n",
        "\n",
        "data_set_train = pd.read_csv(\"train.csv\")\n",
        "data_set_valid = pd.read_csv(\"validation.csv\")\n",
        "\n",
        "print(data_set_train.shape)\n",
        "print(data_set_valid.shape)\n",
        "\n",
        "print(data_set_train.columns)\n",
        "print(data_set_valid.columns)"
      ],
      "execution_count": 3,
      "outputs": [
        {
          "output_type": "stream",
          "text": [
            "(13784, 2)\n",
            "(700, 2)\n",
            "Index(['text', 'label'], dtype='object')\n",
            "Index(['text', 'label'], dtype='object')\n"
          ],
          "name": "stdout"
        }
      ]
    },
    {
      "cell_type": "markdown",
      "metadata": {
        "id": "8Vg1fqbGoCrp"
      },
      "source": [
        "#### Podstawowy process text"
      ]
    },
    {
      "cell_type": "code",
      "metadata": {
        "id": "5GQNuCjSlz0F"
      },
      "source": [
        "import re\n",
        "def process_text(sentence):\n",
        "    sentence = re.sub('[A-Za-z0-9]+@[a-zA-z].[a-zA-Z]+', '', sentence)  # maile\n",
        "    sentence = re.sub('(http[s]*:[/][/])[a-zA-Z0-9]+', '', sentence)  # linki\n",
        "    sentence = re.sub(r\"<[^>]+>\", \" \", sentence) # remove html tag\n",
        "    sentence = re.sub(r\"[^a-zA-Z\\s]\", \"\", sentence)  # remove punctuations and numbers   \n",
        "    sentence = re.sub(r\"\\b[A-Za-z]{1}\\b\", \"\", sentence)  # remove single characters\n",
        "\n",
        "    sentence = re.sub(\"^\\s+|\\s+$\", \"\", sentence, flags=re.UNICODE) # Remove spaces both in the BEGINNING and in the END of a string:\n",
        "    sentence = \" \".join(re.split(\"\\s+\", sentence, flags=re.UNICODE))  # Remove ONLY DUPLICATE spaces:\n",
        "    sentence = sentence.lower()\n",
        "    \n",
        "    return sentence"
      ],
      "execution_count": 4,
      "outputs": []
    },
    {
      "cell_type": "code",
      "metadata": {
        "id": "RZJOju1sFOwp"
      },
      "source": [
        "data_set_train[\"clean_text\"] = data_set_train[\"text\"].apply(lambda x: process_text(x))"
      ],
      "execution_count": 5,
      "outputs": []
    },
    {
      "cell_type": "markdown",
      "metadata": {
        "id": "OdmloYvmy5I2"
      },
      "source": [
        "#### `SpaCy` `Lemmatyzacja` "
      ]
    },
    {
      "cell_type": "code",
      "metadata": {
        "id": "hKacgC9TzJtn"
      },
      "source": [
        "import spacy\n",
        "\n",
        "# załadowanie angielskiego CORE \n",
        "nlp = spacy.load('en_core_web_sm')"
      ],
      "execution_count": 6,
      "outputs": []
    },
    {
      "cell_type": "code",
      "metadata": {
        "colab": {
          "base_uri": "https://localhost:8080/",
          "height": 35
        },
        "id": "gMzwt0bJzpNe",
        "outputId": "6dacc28e-eb56-4894-c0f0-45116b80e080"
      },
      "source": [
        "spacy.__version__"
      ],
      "execution_count": 7,
      "outputs": [
        {
          "output_type": "execute_result",
          "data": {
            "application/vnd.google.colaboratory.intrinsic+json": {
              "type": "string"
            },
            "text/plain": [
              "'2.2.4'"
            ]
          },
          "metadata": {
            "tags": []
          },
          "execution_count": 7
        }
      ]
    },
    {
      "cell_type": "code",
      "metadata": {
        "colab": {
          "base_uri": "https://localhost:8080/"
        },
        "id": "CDGR8xz-zFa7",
        "outputId": "e5abf53c-b5ea-4f13-c0c0-393c0a444121"
      },
      "source": [
        "%%time\n",
        "data_set_train[\"tokens_lemma\"] = data_set_train[\"clean_text\"].apply(lambda x: \" \".join([str(i.lemma_ ) for i in nlp(x) if i.lemma_  != \"-PRON-\"  ]))"
      ],
      "execution_count": 8,
      "outputs": [
        {
          "output_type": "stream",
          "text": [
            "CPU times: user 2min, sys: 222 ms, total: 2min\n",
            "Wall time: 2min\n"
          ],
          "name": "stdout"
        }
      ]
    },
    {
      "cell_type": "code",
      "metadata": {
        "colab": {
          "base_uri": "https://localhost:8080/",
          "height": 195
        },
        "id": "Qm19XsjF1FGx",
        "outputId": "d743c0ba-206e-4b03-cc04-9b644a99cc00"
      },
      "source": [
        "data_set_train.sample(5)"
      ],
      "execution_count": 9,
      "outputs": [
        {
          "output_type": "execute_result",
          "data": {
            "text/html": [
              "<div>\n",
              "<style scoped>\n",
              "    .dataframe tbody tr th:only-of-type {\n",
              "        vertical-align: middle;\n",
              "    }\n",
              "\n",
              "    .dataframe tbody tr th {\n",
              "        vertical-align: top;\n",
              "    }\n",
              "\n",
              "    .dataframe thead th {\n",
              "        text-align: right;\n",
              "    }\n",
              "</style>\n",
              "<table border=\"1\" class=\"dataframe\">\n",
              "  <thead>\n",
              "    <tr style=\"text-align: right;\">\n",
              "      <th></th>\n",
              "      <th>text</th>\n",
              "      <th>label</th>\n",
              "      <th>clean_text</th>\n",
              "      <th>tokens_lemma</th>\n",
              "    </tr>\n",
              "  </thead>\n",
              "  <tbody>\n",
              "    <tr>\n",
              "      <th>12178</th>\n",
              "      <td>Add a Tom Thacker tune to my rock classics</td>\n",
              "      <td>AddToPlaylist</td>\n",
              "      <td>add tom thacker tune to my rock classics</td>\n",
              "      <td>add tom thacker tune to rock classic</td>\n",
              "    </tr>\n",
              "    <tr>\n",
              "      <th>3405</th>\n",
              "      <td>Rate Shadows Alive 3 out of 6 points</td>\n",
              "      <td>RateBook</td>\n",
              "      <td>rate shadows alive out of points</td>\n",
              "      <td>rate shadow alive out of point</td>\n",
              "    </tr>\n",
              "    <tr>\n",
              "      <th>1313</th>\n",
              "      <td>put artist hridaynath mangeshkar onto my night...</td>\n",
              "      <td>AddToPlaylist</td>\n",
              "      <td>put artist hridaynath mangeshkar onto my night...</td>\n",
              "      <td>put artist hridaynath mangeshkar onto night ou...</td>\n",
              "    </tr>\n",
              "    <tr>\n",
              "      <th>2433</th>\n",
              "      <td>What is the weather doing in South Carolina ri...</td>\n",
              "      <td>GetWeather</td>\n",
              "      <td>what is the weather doing in south carolina ri...</td>\n",
              "      <td>what be the weather do in south carolina right...</td>\n",
              "    </tr>\n",
              "    <tr>\n",
              "      <th>1717</th>\n",
              "      <td>Rate the chronicle Tarzan the Terrible a 4 out...</td>\n",
              "      <td>RateBook</td>\n",
              "      <td>rate the chronicle tarzan the terrible out of</td>\n",
              "      <td>rate the chronicle tarzan the terrible out of</td>\n",
              "    </tr>\n",
              "  </tbody>\n",
              "</table>\n",
              "</div>"
            ],
            "text/plain": [
              "                                                    text  ...                                       tokens_lemma\n",
              "12178         Add a Tom Thacker tune to my rock classics  ...               add tom thacker tune to rock classic\n",
              "3405                Rate Shadows Alive 3 out of 6 points  ...                     rate shadow alive out of point\n",
              "1313   put artist hridaynath mangeshkar onto my night...  ...  put artist hridaynath mangeshkar onto night ou...\n",
              "2433   What is the weather doing in South Carolina ri...  ...  what be the weather do in south carolina right...\n",
              "1717   Rate the chronicle Tarzan the Terrible a 4 out...  ...      rate the chronicle tarzan the terrible out of\n",
              "\n",
              "[5 rows x 4 columns]"
            ]
          },
          "metadata": {
            "tags": []
          },
          "execution_count": 9
        }
      ]
    },
    {
      "cell_type": "code",
      "metadata": {
        "colab": {
          "base_uri": "https://localhost:8080/"
        },
        "id": "_dEypyGx0KKL",
        "outputId": "a1e815a5-b653-43a7-89aa-4fe812e0d8a1"
      },
      "source": [
        "id_intention = 6\n",
        "print(\"Surowy tekst\")\n",
        "print(data_set_train[\"text\"].iloc[id_intention])\n",
        "print(\"Po oczyszczeniu\")\n",
        "print(data_set_train[\"clean_text\"].iloc[id_intention])\n",
        "print(\"Po lematyzacji\")\n",
        "print(data_set_train[\"tokens_lemma\"].iloc[id_intention])"
      ],
      "execution_count": 10,
      "outputs": [
        {
          "output_type": "stream",
          "text": [
            "Surowy tekst\n",
            "Book a table for 10 people at a restaurant which offers internet.\n",
            "Po oczyszczeniu\n",
            "book table for people at restaurant which offers internet\n",
            "Po lematyzacji\n",
            "book table for people at restaurant which offer internet\n"
          ],
          "name": "stdout"
        }
      ]
    },
    {
      "cell_type": "markdown",
      "metadata": {
        "id": "7epaW5cXoXef"
      },
      "source": [
        "#### `LabelEncoder` oraz `to_categorical`"
      ]
    },
    {
      "cell_type": "code",
      "metadata": {
        "colab": {
          "base_uri": "https://localhost:8080/",
          "height": 195
        },
        "id": "022rNoaL-xbl",
        "outputId": "c1e2e11c-5a21-4f83-c3c9-587c7b1bb3f2"
      },
      "source": [
        "from sklearn.preprocessing import LabelEncoder\n",
        "from keras.utils import to_categorical \n",
        "\n",
        "\n",
        "labelencoder = LabelEncoder()\n",
        "data_set_train[\"labelencoder\"] = labelencoder.fit_transform(data_set_train[\"label\"])\n",
        "\n",
        "dummy_y = to_categorical(data_set_train[\"labelencoder\"], dtype =\"float32\")\n",
        "\n",
        "data_set_train[[\"clean_text\",\"label\",\"labelencoder\"]].head(5)"
      ],
      "execution_count": 11,
      "outputs": [
        {
          "output_type": "execute_result",
          "data": {
            "text/html": [
              "<div>\n",
              "<style scoped>\n",
              "    .dataframe tbody tr th:only-of-type {\n",
              "        vertical-align: middle;\n",
              "    }\n",
              "\n",
              "    .dataframe tbody tr th {\n",
              "        vertical-align: top;\n",
              "    }\n",
              "\n",
              "    .dataframe thead th {\n",
              "        text-align: right;\n",
              "    }\n",
              "</style>\n",
              "<table border=\"1\" class=\"dataframe\">\n",
              "  <thead>\n",
              "    <tr style=\"text-align: right;\">\n",
              "      <th></th>\n",
              "      <th>clean_text</th>\n",
              "      <th>label</th>\n",
              "      <th>labelencoder</th>\n",
              "    </tr>\n",
              "  </thead>\n",
              "  <tbody>\n",
              "    <tr>\n",
              "      <th>0</th>\n",
              "      <td>find cinema nearest for films</td>\n",
              "      <td>SearchScreeningEvent</td>\n",
              "      <td>6</td>\n",
              "    </tr>\n",
              "    <tr>\n",
              "      <th>1</th>\n",
              "      <td>give the current series two stars</td>\n",
              "      <td>RateBook</td>\n",
              "      <td>4</td>\n",
              "    </tr>\n",
              "    <tr>\n",
              "      <th>2</th>\n",
              "      <td>find the good girl at movie house</td>\n",
              "      <td>SearchScreeningEvent</td>\n",
              "      <td>6</td>\n",
              "    </tr>\n",
              "    <tr>\n",
              "      <th>3</th>\n",
              "      <td>please make reservations for three at kosher t...</td>\n",
              "      <td>BookRestaurant</td>\n",
              "      <td>1</td>\n",
              "    </tr>\n",
              "    <tr>\n",
              "      <th>4</th>\n",
              "      <td>what is the forecast for here one second from now</td>\n",
              "      <td>GetWeather</td>\n",
              "      <td>2</td>\n",
              "    </tr>\n",
              "  </tbody>\n",
              "</table>\n",
              "</div>"
            ],
            "text/plain": [
              "                                          clean_text  ... labelencoder\n",
              "0                      find cinema nearest for films  ...            6\n",
              "1                  give the current series two stars  ...            4\n",
              "2                  find the good girl at movie house  ...            6\n",
              "3  please make reservations for three at kosher t...  ...            1\n",
              "4  what is the forecast for here one second from now  ...            2\n",
              "\n",
              "[5 rows x 3 columns]"
            ]
          },
          "metadata": {
            "tags": []
          },
          "execution_count": 11
        }
      ]
    },
    {
      "cell_type": "code",
      "metadata": {
        "colab": {
          "base_uri": "https://localhost:8080/"
        },
        "id": "-RfsD1LSpSag",
        "outputId": "a42c1fbd-b9ca-4c68-ccef-9a76531db5e2"
      },
      "source": [
        "dummy_y.shape"
      ],
      "execution_count": 12,
      "outputs": [
        {
          "output_type": "execute_result",
          "data": {
            "text/plain": [
              "(13784, 7)"
            ]
          },
          "metadata": {
            "tags": []
          },
          "execution_count": 12
        }
      ]
    },
    {
      "cell_type": "code",
      "metadata": {
        "colab": {
          "base_uri": "https://localhost:8080/"
        },
        "id": "S4dq1macoeQC",
        "outputId": "e8838ed2-e8bf-42c4-8bdc-f15fa07d4260"
      },
      "source": [
        "id_intention = 6\n",
        "print(\"Sprawdzenie poprawności LabelEncoder i to_categorical \\n\")\n",
        "print(\"Label - \", data_set_train[\"label\"].iloc[id_intention])\n",
        "print(\"LabelEncoder - \", data_set_train[\"labelencoder\"].iloc[id_intention])\n",
        "print()\n",
        "print(\"to_categorical - \", dummy_y[id_intention])\n",
        "print()\n",
        "print(\"return to LabelEncoder - \",np.argmax(dummy_y[id_intention], axis=-1))\n",
        "print(\"return to Label - \",labelencoder.inverse_transform([np.argmax(dummy_y[id_intention], axis=-1)]))"
      ],
      "execution_count": 13,
      "outputs": [
        {
          "output_type": "stream",
          "text": [
            "Sprawdzenie poprawności LabelEncoder i to_categorical \n",
            "\n",
            "Label -  BookRestaurant\n",
            "LabelEncoder -  1\n",
            "\n",
            "to_categorical -  [0. 1. 0. 0. 0. 0. 0.]\n",
            "\n",
            "return to LabelEncoder -  1\n",
            "return to Label -  ['BookRestaurant']\n"
          ],
          "name": "stdout"
        }
      ]
    },
    {
      "cell_type": "markdown",
      "metadata": {
        "id": "-lZTDFgGoSmT"
      },
      "source": [
        "#### Zdefiniowanie X i y"
      ]
    },
    {
      "cell_type": "code",
      "metadata": {
        "id": "JWd9mEjfBAS2"
      },
      "source": [
        "X = data_set_train[\"tokens_lemma\"]\n",
        "y = dummy_y"
      ],
      "execution_count": 14,
      "outputs": []
    },
    {
      "cell_type": "code",
      "metadata": {
        "colab": {
          "base_uri": "https://localhost:8080/"
        },
        "id": "8jUlcX2npzFs",
        "outputId": "9a9b488e-30e9-4b4a-f6ac-2051de3f795c"
      },
      "source": [
        "X.shape, y.shape"
      ],
      "execution_count": 15,
      "outputs": [
        {
          "output_type": "execute_result",
          "data": {
            "text/plain": [
              "((13784,), (13784, 7))"
            ]
          },
          "metadata": {
            "tags": []
          },
          "execution_count": 15
        }
      ]
    },
    {
      "cell_type": "markdown",
      "metadata": {
        "id": "9mS_l8wZoO2R"
      },
      "source": [
        "#### Podział zbioru "
      ]
    },
    {
      "cell_type": "code",
      "metadata": {
        "id": "A18D02x5sjFd"
      },
      "source": [
        "from sklearn.model_selection import train_test_split\n",
        "\n",
        "X_train, X_test, y_train, y_test = train_test_split(X, y, test_size=0.2, random_state=42)"
      ],
      "execution_count": 16,
      "outputs": []
    },
    {
      "cell_type": "code",
      "metadata": {
        "colab": {
          "base_uri": "https://localhost:8080/"
        },
        "id": "i_xH9XIGuYCG",
        "outputId": "f3d85529-bc24-41b8-fffc-e8967d3f854f"
      },
      "source": [
        "X_train.shape, X_test.shape, y_train.shape, y_test.shape"
      ],
      "execution_count": 17,
      "outputs": [
        {
          "output_type": "execute_result",
          "data": {
            "text/plain": [
              "((11027,), (2757,), (11027, 7), (2757, 7))"
            ]
          },
          "metadata": {
            "tags": []
          },
          "execution_count": 17
        }
      ]
    },
    {
      "cell_type": "code",
      "metadata": {
        "id": "-DR0gkd1_Uv0"
      },
      "source": [
        ""
      ],
      "execution_count": 17,
      "outputs": []
    },
    {
      "cell_type": "markdown",
      "metadata": {
        "id": "chWlDg9Mtmya"
      },
      "source": [
        "#### `Tokenizer` i `pad_sequences`"
      ]
    },
    {
      "cell_type": "code",
      "metadata": {
        "id": "LCm-rbaus6QG"
      },
      "source": [
        "from keras.preprocessing.sequence import pad_sequences\n",
        "from keras.preprocessing.text import Tokenizer"
      ],
      "execution_count": 18,
      "outputs": []
    },
    {
      "cell_type": "code",
      "metadata": {
        "id": "U-ihmlc-s6QG"
      },
      "source": [
        "tokenizer = Tokenizer(num_words=5000)\n",
        "tokenizer.fit_on_texts(X_train)\n",
        "\n",
        "X_train = tokenizer.texts_to_sequences(X_train)\n",
        "X_test = tokenizer.texts_to_sequences(X_test)\n",
        "\n",
        "maxlen = 13\n",
        "vocab_size = len(tokenizer.word_index) + 1\n",
        "\n",
        "X_train = pad_sequences(X_train, padding=\"post\", truncating=\"post\", maxlen=maxlen)\n",
        "X_test = pad_sequences(X_test, padding=\"post\", truncating=\"post\", maxlen=maxlen)"
      ],
      "execution_count": 19,
      "outputs": []
    },
    {
      "cell_type": "code",
      "metadata": {
        "id": "PaRWehbu_VCe"
      },
      "source": [
        "from keras.models import Sequential\n",
        "from keras.layers import Flatten, SimpleRNN, Dense\n",
        "from keras.layers.embeddings import Embedding\n",
        "from keras.models import Model\n",
        "from tensorflow.keras.callbacks import EarlyStopping"
      ],
      "execution_count": 20,
      "outputs": []
    },
    {
      "cell_type": "code",
      "metadata": {
        "colab": {
          "base_uri": "https://localhost:8080/"
        },
        "id": "BGt7E_vj_f5D",
        "outputId": "d42e185c-d9ea-4d2d-9b60-5af665e986d7"
      },
      "source": [
        "model = Sequential()\n",
        "model.add(Embedding(vocab_size, 100, input_length=maxlen))  \n",
        "model.add(Flatten())\n",
        "model.add(Dense(7, activation=\"softmax\")) # sigmoid / softmax\n",
        "model.compile(loss=\"categorical_crossentropy\", optimizer=\"adam\", metrics=[\"accuracy\"])\n",
        "print(model.summary())"
      ],
      "execution_count": 21,
      "outputs": [
        {
          "output_type": "stream",
          "text": [
            "Model: \"sequential\"\n",
            "_________________________________________________________________\n",
            "Layer (type)                 Output Shape              Param #   \n",
            "=================================================================\n",
            "embedding (Embedding)        (None, 13, 100)           912200    \n",
            "_________________________________________________________________\n",
            "flatten (Flatten)            (None, 1300)              0         \n",
            "_________________________________________________________________\n",
            "dense (Dense)                (None, 7)                 9107      \n",
            "=================================================================\n",
            "Total params: 921,307\n",
            "Trainable params: 921,307\n",
            "Non-trainable params: 0\n",
            "_________________________________________________________________\n",
            "None\n"
          ],
          "name": "stdout"
        }
      ]
    },
    {
      "cell_type": "code",
      "metadata": {
        "colab": {
          "base_uri": "https://localhost:8080/"
        },
        "id": "wdnpnIhd_qLy",
        "outputId": "02ae96d0-7ab6-4cba-ff29-913601665dd1"
      },
      "source": [
        "from tensorflow.keras.callbacks import EarlyStopping\n",
        "\n",
        "EarlyStop = EarlyStopping(monitor='val_loss', \n",
        "                          patience=5,\n",
        "                          verbose=1)\n",
        "\n",
        "history = model.fit(X_train, \n",
        "                    y_train, \n",
        "                    epochs=20, \n",
        "                    batch_size=64, \n",
        "                    validation_split=0.2, \n",
        "                    callbacks = [EarlyStop] )\n",
        "scores = model.evaluate(X_test, y_test)\n",
        "print(f\"Accuracy {scores[1] * 100}\")"
      ],
      "execution_count": 22,
      "outputs": [
        {
          "output_type": "stream",
          "text": [
            "Epoch 1/20\n",
            "138/138 [==============================] - 3s 16ms/step - loss: 1.6074 - accuracy: 0.5913 - val_loss: 0.3895 - val_accuracy: 0.9456\n",
            "Epoch 2/20\n",
            "138/138 [==============================] - 2s 12ms/step - loss: 0.2657 - accuracy: 0.9588 - val_loss: 0.1454 - val_accuracy: 0.9710\n",
            "Epoch 3/20\n",
            "138/138 [==============================] - 2s 12ms/step - loss: 0.0959 - accuracy: 0.9842 - val_loss: 0.1004 - val_accuracy: 0.9773\n",
            "Epoch 4/20\n",
            "138/138 [==============================] - 2s 12ms/step - loss: 0.0525 - accuracy: 0.9909 - val_loss: 0.0837 - val_accuracy: 0.9787\n",
            "Epoch 5/20\n",
            "138/138 [==============================] - 2s 12ms/step - loss: 0.0363 - accuracy: 0.9927 - val_loss: 0.0746 - val_accuracy: 0.9810\n",
            "Epoch 6/20\n",
            "138/138 [==============================] - 2s 12ms/step - loss: 0.0272 - accuracy: 0.9945 - val_loss: 0.0696 - val_accuracy: 0.9814\n",
            "Epoch 7/20\n",
            "138/138 [==============================] - 2s 12ms/step - loss: 0.0196 - accuracy: 0.9962 - val_loss: 0.0670 - val_accuracy: 0.9814\n",
            "Epoch 8/20\n",
            "138/138 [==============================] - 2s 12ms/step - loss: 0.0142 - accuracy: 0.9983 - val_loss: 0.0641 - val_accuracy: 0.9810\n",
            "Epoch 9/20\n",
            "138/138 [==============================] - 2s 12ms/step - loss: 0.0124 - accuracy: 0.9979 - val_loss: 0.0640 - val_accuracy: 0.9823\n",
            "Epoch 10/20\n",
            "138/138 [==============================] - 2s 12ms/step - loss: 0.0091 - accuracy: 0.9989 - val_loss: 0.0651 - val_accuracy: 0.9819\n",
            "Epoch 11/20\n",
            "138/138 [==============================] - 2s 12ms/step - loss: 0.0081 - accuracy: 0.9990 - val_loss: 0.0627 - val_accuracy: 0.9823\n",
            "Epoch 12/20\n",
            "138/138 [==============================] - 2s 12ms/step - loss: 0.0068 - accuracy: 0.9993 - val_loss: 0.0620 - val_accuracy: 0.9823\n",
            "Epoch 13/20\n",
            "138/138 [==============================] - 2s 12ms/step - loss: 0.0049 - accuracy: 0.9999 - val_loss: 0.0638 - val_accuracy: 0.9823\n",
            "Epoch 14/20\n",
            "138/138 [==============================] - 2s 12ms/step - loss: 0.0042 - accuracy: 0.9998 - val_loss: 0.0640 - val_accuracy: 0.9823\n",
            "Epoch 15/20\n",
            "138/138 [==============================] - 2s 12ms/step - loss: 0.0040 - accuracy: 0.9998 - val_loss: 0.0646 - val_accuracy: 0.9819\n",
            "Epoch 16/20\n",
            "138/138 [==============================] - 2s 12ms/step - loss: 0.0032 - accuracy: 0.9998 - val_loss: 0.0650 - val_accuracy: 0.9823\n",
            "Epoch 17/20\n",
            "138/138 [==============================] - 2s 12ms/step - loss: 0.0030 - accuracy: 0.9998 - val_loss: 0.0670 - val_accuracy: 0.9832\n",
            "Epoch 00017: early stopping\n",
            "87/87 [==============================] - 0s 978us/step - loss: 0.0556 - accuracy: 0.9804\n",
            "Accuracy 98.04134964942932\n"
          ],
          "name": "stdout"
        }
      ]
    },
    {
      "cell_type": "code",
      "metadata": {
        "id": "Ui9nW3K0_0bf",
        "colab": {
          "base_uri": "https://localhost:8080/"
        },
        "outputId": "d2387345-f2e0-4e6d-c4a9-15e478119304"
      },
      "source": [
        "print(f\"Accuracy {scores[1] * 100}\")"
      ],
      "execution_count": 23,
      "outputs": [
        {
          "output_type": "stream",
          "text": [
            "Accuracy 98.04134964942932\n"
          ],
          "name": "stdout"
        }
      ]
    },
    {
      "cell_type": "code",
      "metadata": {
        "id": "dJtnYTgA_06S"
      },
      "source": [
        ""
      ],
      "execution_count": 23,
      "outputs": []
    },
    {
      "cell_type": "markdown",
      "metadata": {
        "id": "B0IdSKiJtzgd"
      },
      "source": [
        "#### Predykcja na zbiorze validacyjnym"
      ]
    },
    {
      "cell_type": "code",
      "metadata": {
        "colab": {
          "base_uri": "https://localhost:8080/"
        },
        "id": "27dr_LCO_1IW",
        "outputId": "6b758767-a076-498b-d8d3-3ce00a4403cc"
      },
      "source": [
        "# oczysczenie danych\n",
        "data_set_valid[\"clean_text\"] = data_set_valid[\"text\"].apply(lambda x: process_text(x))\n",
        "\n",
        "# lematyzacja\n",
        "data_set_valid[\"tokens_lemma\"] = data_set_valid[\"clean_text\"].apply(lambda x: \" \".join([str(i.lemma_ ) for i in nlp(x) if i.lemma_  != \"-PRON-\"  ]))\n",
        "\n",
        "# labelencoder \n",
        "data_set_valid[\"labelencoder\"] = labelencoder.fit_transform(data_set_valid[\"label\"])\n",
        "\n",
        "# tokenizacja weg przetrenowanego już tokenizera\n",
        "X_validate = tokenizer.texts_to_sequences(data_set_valid[\"clean_text\"])\n",
        "\n",
        "# pad sequel\n",
        "X_validate = pad_sequences(X_validate, padding=\"post\", truncating=\"post\", maxlen=maxlen)\n",
        "X_validate"
      ],
      "execution_count": 24,
      "outputs": [
        {
          "output_type": "execute_result",
          "data": {
            "text/plain": [
              "array([[ 12, 421,  44, ...,   0,   0,   0],\n",
              "       [220, 285,  19, ...,   0,   0,   0],\n",
              "       [ 12,   1, 254, ..., 167, 963,   0],\n",
              "       ...,\n",
              "       [ 23,   1,  79, ...,   0,   0,   0],\n",
              "       [ 12,   1,  21, ...,   0,   0,   0],\n",
              "       [ 42,  37,   4, ...,   0,   0,   0]], dtype=int32)"
            ]
          },
          "metadata": {
            "tags": []
          },
          "execution_count": 24
        }
      ]
    },
    {
      "cell_type": "code",
      "metadata": {
        "colab": {
          "base_uri": "https://localhost:8080/"
        },
        "id": "UOPVqktyANNF",
        "outputId": "6573f61c-c10e-4b3a-db4e-bca0a8a9ffea"
      },
      "source": [
        "dummy_y_valid = data_set_valid[\"labelencoder\"].values\n",
        "dummy_y_valid[:5]"
      ],
      "execution_count": 25,
      "outputs": [
        {
          "output_type": "execute_result",
          "data": {
            "text/plain": [
              "array([6, 3, 2, 0, 6])"
            ]
          },
          "metadata": {
            "tags": []
          },
          "execution_count": 25
        }
      ]
    },
    {
      "cell_type": "code",
      "metadata": {
        "colab": {
          "base_uri": "https://localhost:8080/"
        },
        "id": "NAiFC304APqL",
        "outputId": "803fa25f-9650-4fa5-bfe3-ca2d30beb056"
      },
      "source": [
        "# Sprawdzenie rozmiaru zbiorów validacyjnego\n",
        "X_validate.shape, dummy_y_valid.shape"
      ],
      "execution_count": 26,
      "outputs": [
        {
          "output_type": "execute_result",
          "data": {
            "text/plain": [
              "((700, 13), (700,))"
            ]
          },
          "metadata": {
            "tags": []
          },
          "execution_count": 26
        }
      ]
    },
    {
      "cell_type": "code",
      "metadata": {
        "colab": {
          "base_uri": "https://localhost:8080/"
        },
        "id": "WRbEdb7AAXGy",
        "outputId": "faabfc53-902d-4e48-cfa8-6a74eea62333"
      },
      "source": [
        "predicted_lstm_val = np.argmax(model.predict(X_validate), axis=-1)\n",
        "predicted_lstm_val[:5]"
      ],
      "execution_count": 27,
      "outputs": [
        {
          "output_type": "execute_result",
          "data": {
            "text/plain": [
              "array([6, 3, 2, 0, 6])"
            ]
          },
          "metadata": {
            "tags": []
          },
          "execution_count": 27
        }
      ]
    },
    {
      "cell_type": "markdown",
      "metadata": {
        "id": "_5wZwn-_uKE9"
      },
      "source": [
        "#### Rozkodowanie przewidzianych i prawidłowych etykiet"
      ]
    },
    {
      "cell_type": "code",
      "metadata": {
        "colab": {
          "base_uri": "https://localhost:8080/"
        },
        "id": "G4U9hYvnBJ9F",
        "outputId": "ab526d2a-90a2-40a5-ceb9-6864fbfa1120"
      },
      "source": [
        "y_pred = labelencoder.inverse_transform(predicted_lstm_val)\n",
        "y_pred = pd.Series(y_pred)\n",
        "y_pred.head()"
      ],
      "execution_count": 28,
      "outputs": [
        {
          "output_type": "execute_result",
          "data": {
            "text/plain": [
              "0    SearchScreeningEvent\n",
              "1               PlayMusic\n",
              "2              GetWeather\n",
              "3           AddToPlaylist\n",
              "4    SearchScreeningEvent\n",
              "dtype: object"
            ]
          },
          "metadata": {
            "tags": []
          },
          "execution_count": 28
        }
      ]
    },
    {
      "cell_type": "code",
      "metadata": {
        "colab": {
          "base_uri": "https://localhost:8080/"
        },
        "id": "EW03pUanA729",
        "outputId": "464e7a9a-9f41-4191-f757-810385359be9"
      },
      "source": [
        "y_val = labelencoder.inverse_transform(dummy_y_valid)\n",
        "y_val = pd.Series(y_val)\n",
        "y_val.head()"
      ],
      "execution_count": 29,
      "outputs": [
        {
          "output_type": "execute_result",
          "data": {
            "text/plain": [
              "0    SearchScreeningEvent\n",
              "1               PlayMusic\n",
              "2              GetWeather\n",
              "3           AddToPlaylist\n",
              "4    SearchScreeningEvent\n",
              "dtype: object"
            ]
          },
          "metadata": {
            "tags": []
          },
          "execution_count": 29
        }
      ]
    },
    {
      "cell_type": "markdown",
      "metadata": {
        "id": "RcGfyRgQudTZ"
      },
      "source": [
        "#### `Confusion matrix`"
      ]
    },
    {
      "cell_type": "code",
      "metadata": {
        "id": "GXVwswIsA9RT"
      },
      "source": [
        "from sklearn.metrics import accuracy_score, f1_score, classification_report, confusion_matrix\n",
        "%matplotlib inline\n",
        "from matplotlib import pyplot as plt\n",
        "import seaborn as sns"
      ],
      "execution_count": 30,
      "outputs": []
    },
    {
      "cell_type": "code",
      "metadata": {
        "colab": {
          "base_uri": "https://localhost:8080/",
          "height": 701
        },
        "id": "fGr6-cjzBFLc",
        "outputId": "ea9d6501-9ffb-469a-bb7f-ea034d07ebc8"
      },
      "source": [
        "classes = np.unique(y_val)\n",
        "\n",
        "print('Accuracy:', round(accuracy_score(y_val, y_pred),2))\n",
        "print('F1_score:', round(f1_score(y_val, y_pred, average='weighted'),2))\n",
        "\n",
        "print(classification_report(y_val, y_pred))\n",
        "# Plot confusion matrix\n",
        "cm = confusion_matrix(y_val, y_pred)\n",
        "fig, ax = plt.subplots()\n",
        "sns.heatmap(cm, annot=True, fmt='d', ax=ax, cmap=plt.cm.Blues, cbar=False)\n",
        "ax.set(xlabel='Pred', ylabel='True', xticklabels=classes, yticklabels=classes, title='Confusion matrix')\n",
        "plt.yticks(rotation=0)\n",
        "plt.xticks(rotation=90)"
      ],
      "execution_count": 31,
      "outputs": [
        {
          "output_type": "stream",
          "text": [
            "Accuracy: 0.97\n",
            "F1_score: 0.97\n",
            "                      precision    recall  f1-score   support\n",
            "\n",
            "       AddToPlaylist       0.98      1.00      0.99       100\n",
            "      BookRestaurant       0.98      0.99      0.99       100\n",
            "          GetWeather       0.96      0.98      0.97       100\n",
            "           PlayMusic       0.99      0.97      0.98       100\n",
            "            RateBook       0.98      1.00      0.99       100\n",
            "  SearchCreativeWork       0.91      0.99      0.95       100\n",
            "SearchScreeningEvent       1.00      0.86      0.92       100\n",
            "\n",
            "            accuracy                           0.97       700\n",
            "           macro avg       0.97      0.97      0.97       700\n",
            "        weighted avg       0.97      0.97      0.97       700\n",
            "\n"
          ],
          "name": "stdout"
        },
        {
          "output_type": "execute_result",
          "data": {
            "text/plain": [
              "(array([0.5, 1.5, 2.5, 3.5, 4.5, 5.5, 6.5]),\n",
              " <a list of 7 Text major ticklabel objects>)"
            ]
          },
          "metadata": {
            "tags": []
          },
          "execution_count": 31
        },
        {
          "output_type": "display_data",
          "data": {
            "image/png": "[encoded data removed]",
            "text/plain": [
              "<Figure size 432x288 with 1 Axes>"
            ]
          },
          "metadata": {
            "tags": [],
            "needs_background": "light"
          }
        }
      ]
    },
    {
      "cell_type": "markdown",
      "metadata": {
        "id": "9uxfqF9uum32"
      },
      "source": [
        "#### Zapoznanie się z błędnymi predykcjami "
      ]
    },
    {
      "cell_type": "code",
      "metadata": {
        "colab": {
          "base_uri": "https://localhost:8080/"
        },
        "id": "28QYnOPM-mJz",
        "outputId": "3a4e7c94-8e74-49bc-f2ed-ca0e83cb57d4"
      },
      "source": [
        "indexes = []\n",
        "for i, phrase in enumerate(y_pred):\n",
        "  if phrase == 'SearchCreativeWork':\n",
        "    if y_val[i] == 'SearchScreeningEvent':\n",
        "      indexes.append(i)\n",
        "print(indexes)"
      ],
      "execution_count": 32,
      "outputs": [
        {
          "output_type": "stream",
          "text": [
            "[125, 381, 557, 568, 590, 615, 648, 689]\n"
          ],
          "name": "stdout"
        }
      ]
    },
    {
      "cell_type": "code",
      "metadata": {
        "colab": {
          "base_uri": "https://localhost:8080/"
        },
        "id": "ouy1yzy8-048",
        "outputId": "fdf549d6-944b-4e51-feab-a44861feb9d1"
      },
      "source": [
        "for i in indexes:\n",
        "  print(f\"----------------------------\\nTekst komendy:\\n{data_set_valid['text'][i]}\")\n",
        "  print(f\"Oczyszczona komenda:\\n{data_set_valid['tokens_lemma'][i]}\")\n",
        "  print(f'True category: {y_val[i]}')\n",
        "  print(f'Predicted category: {y_pred[i]}')\n",
        "  print(\"\\n\")"
      ],
      "execution_count": 33,
      "outputs": [
        {
          "output_type": "stream",
          "text": [
            "----------------------------\n",
            "Tekst komendy:\n",
            "what are the times for The Gingerbread Man\n",
            "Oczyszczona komenda:\n",
            "what be the time for the gingerbread man\n",
            "True category: SearchScreeningEvent\n",
            "Predicted category: SearchCreativeWork\n",
            "\n",
            "\n",
            "----------------------------\n",
            "Tekst komendy:\n",
            "Show me the movies at Harkins Theatres.\n",
            "Oczyszczona komenda:\n",
            "show the movie at harkin theatre\n",
            "True category: SearchScreeningEvent\n",
            "Predicted category: SearchCreativeWork\n",
            "\n",
            "\n",
            "----------------------------\n",
            "Tekst komendy:\n",
            "I want to see Shattered Image.\n",
            "Oczyszczona komenda:\n",
            "want to see shatter image\n",
            "True category: SearchScreeningEvent\n",
            "Predicted category: SearchCreativeWork\n",
            "\n",
            "\n",
            "----------------------------\n",
            "Tekst komendy:\n",
            "Can you check the timings for Super Sweet 16: The Movie?\n",
            "Oczyszczona komenda:\n",
            "can check the timing for super sweet the movie\n",
            "True category: SearchScreeningEvent\n",
            "Predicted category: SearchCreativeWork\n",
            "\n",
            "\n",
            "----------------------------\n",
            "Tekst komendy:\n",
            "Where can I find the movie schedules\n",
            "Oczyszczona komenda:\n",
            "where can find the movie schedule\n",
            "True category: SearchScreeningEvent\n",
            "Predicted category: SearchCreativeWork\n",
            "\n",
            "\n",
            "----------------------------\n",
            "Tekst komendy:\n",
            "Where can I see The Prime Ministers: The Pioneers\n",
            "Oczyszczona komenda:\n",
            "where can see the prime minister the pioneer\n",
            "True category: SearchScreeningEvent\n",
            "Predicted category: SearchCreativeWork\n",
            "\n",
            "\n",
            "----------------------------\n",
            "Tekst komendy:\n",
            "I want to see Outcast.\n",
            "Oczyszczona komenda:\n",
            "want to see outcast\n",
            "True category: SearchScreeningEvent\n",
            "Predicted category: SearchCreativeWork\n",
            "\n",
            "\n",
            "----------------------------\n",
            "Tekst komendy:\n",
            "I want to see Fear Chamber.\n",
            "Oczyszczona komenda:\n",
            "want to see fear chamber\n",
            "True category: SearchScreeningEvent\n",
            "Predicted category: SearchCreativeWork\n",
            "\n",
            "\n"
          ],
          "name": "stdout"
        }
      ]
    },
    {
      "cell_type": "code",
      "metadata": {
        "id": "TZv1iaHXP4kj",
        "colab": {
          "base_uri": "https://localhost:8080/"
        },
        "outputId": "428174a7-3838-453c-def3-de67328a00b1"
      },
      "source": [
        "indexes = data_set_valid[data_set_valid[\"label\"]==\"SearchCreativeWork\"][\"label\"].index\n",
        "\n",
        "for i in indexes:\n",
        "  print(f\"----------------------------\\nTekst komendy:\\n{data_set_valid['text'][i]}\")\n",
        "  print(f\"Oczyszczona komenda:\\n{data_set_valid['tokens_lemma'][i]}\")\n",
        "  print(f'True category: {y_val[i]}')\n",
        "  print(f'Predicted category: {y_pred[i]}')\n",
        "  print(\"\\n\")"
      ],
      "execution_count": 34,
      "outputs": [
        {
          "output_type": "stream",
          "text": [
            "----------------------------\n",
            "Tekst komendy:\n",
            "Find the movie Splendor in the Grass\n",
            "Oczyszczona komenda:\n",
            "find the movie splendor in the grass\n",
            "True category: SearchCreativeWork\n",
            "Predicted category: SearchCreativeWork\n",
            "\n",
            "\n",
            "----------------------------\n",
            "Tekst komendy:\n",
            "Please find me the saga, The Deep Six.\n",
            "Oczyszczona komenda:\n",
            "please find the saga the deep six\n",
            "True category: SearchCreativeWork\n",
            "Predicted category: SearchCreativeWork\n",
            "\n",
            "\n",
            "----------------------------\n",
            "Tekst komendy:\n",
            "Can you find me The Ridiculous 6 book?\n",
            "Oczyszczona komenda:\n",
            "can find the ridiculous book\n",
            "True category: SearchCreativeWork\n",
            "Predicted category: SearchCreativeWork\n",
            "\n",
            "\n",
            "----------------------------\n",
            "Tekst komendy:\n",
            "Please get me the Dead Soul saga.\n",
            "Oczyszczona komenda:\n",
            "please get the dead soul saga\n",
            "True category: SearchCreativeWork\n",
            "Predicted category: SearchCreativeWork\n",
            "\n",
            "\n",
            "----------------------------\n",
            "Tekst komendy:\n",
            "Please look up the song The Mad Magician.\n",
            "Oczyszczona komenda:\n",
            "please look up the song the mad magician\n",
            "True category: SearchCreativeWork\n",
            "Predicted category: SearchCreativeWork\n",
            "\n",
            "\n",
            "----------------------------\n",
            "Tekst komendy:\n",
            "Find a creative work called Fire in the Hole\n",
            "Oczyszczona komenda:\n",
            "find creative work call fire in the hole\n",
            "True category: SearchCreativeWork\n",
            "Predicted category: SearchCreativeWork\n",
            "\n",
            "\n",
            "----------------------------\n",
            "Tekst komendy:\n",
            "Look for the show V-The New Mythology Suite\n",
            "Oczyszczona komenda:\n",
            "look for the show vthe new mythology suite\n",
            "True category: SearchCreativeWork\n",
            "Predicted category: SearchCreativeWork\n",
            "\n",
            "\n",
            "----------------------------\n",
            "Tekst komendy:\n",
            "Looking for a novel called Death March\n",
            "Oczyszczona komenda:\n",
            "look for novel call death march\n",
            "True category: SearchCreativeWork\n",
            "Predicted category: RateBook\n",
            "\n",
            "\n",
            "----------------------------\n",
            "Tekst komendy:\n",
            "Please get me The Sacred and Profane Love Machine game.\n",
            "Oczyszczona komenda:\n",
            "please get the sacred and profane love machine game\n",
            "True category: SearchCreativeWork\n",
            "Predicted category: SearchCreativeWork\n",
            "\n",
            "\n",
            "----------------------------\n",
            "Tekst komendy:\n",
            "Can you find me the Blue Spring trailer?\n",
            "Oczyszczona komenda:\n",
            "can find the blue spring trailer\n",
            "True category: SearchCreativeWork\n",
            "Predicted category: SearchCreativeWork\n",
            "\n",
            "\n",
            "----------------------------\n",
            "Tekst komendy:\n",
            "Please search for Mary.\n",
            "Oczyszczona komenda:\n",
            "please search for mary\n",
            "True category: SearchCreativeWork\n",
            "Predicted category: SearchCreativeWork\n",
            "\n",
            "\n",
            "----------------------------\n",
            "Tekst komendy:\n",
            "get me the trailer of Good Morning Sunshine\n",
            "Oczyszczona komenda:\n",
            "get the trailer of good morning sunshine\n",
            "True category: SearchCreativeWork\n",
            "Predicted category: SearchCreativeWork\n",
            "\n",
            "\n",
            "----------------------------\n",
            "Tekst komendy:\n",
            "Please get me the Compulsive Disclosure song.\n",
            "Oczyszczona komenda:\n",
            "please get the compulsive disclosure song\n",
            "True category: SearchCreativeWork\n",
            "Predicted category: SearchCreativeWork\n",
            "\n",
            "\n",
            "----------------------------\n",
            "Tekst komendy:\n",
            "Find Four Songs\n",
            "Oczyszczona komenda:\n",
            "find four song\n",
            "True category: SearchCreativeWork\n",
            "Predicted category: SearchCreativeWork\n",
            "\n",
            "\n",
            "----------------------------\n",
            "Tekst komendy:\n",
            "Can you please find me the saga Chump Change?\n",
            "Oczyszczona komenda:\n",
            "can please find the saga chump change\n",
            "True category: SearchCreativeWork\n",
            "Predicted category: SearchCreativeWork\n",
            "\n",
            "\n",
            "----------------------------\n",
            "Tekst komendy:\n",
            "Please find me the Projekt: The New Face of Goth.\n",
            "Oczyszczona komenda:\n",
            "please find the projekt the new face of goth\n",
            "True category: SearchCreativeWork\n",
            "Predicted category: SearchCreativeWork\n",
            "\n",
            "\n",
            "----------------------------\n",
            "Tekst komendy:\n",
            "Need a creative work called Hit by Love\n",
            "Oczyszczona komenda:\n",
            "need creative work call hit by love\n",
            "True category: SearchCreativeWork\n",
            "Predicted category: SearchCreativeWork\n",
            "\n",
            "\n",
            "----------------------------\n",
            "Tekst komendy:\n",
            "Find the TV show The Daydreamer\n",
            "Oczyszczona komenda:\n",
            "find the tv show the daydreamer\n",
            "True category: SearchCreativeWork\n",
            "Predicted category: SearchCreativeWork\n",
            "\n",
            "\n",
            "----------------------------\n",
            "Tekst komendy:\n",
            "Please fine me the TV series, Now We Are Married.\n",
            "Oczyszczona komenda:\n",
            "please fine the tv series now be married\n",
            "True category: SearchCreativeWork\n",
            "Predicted category: SearchCreativeWork\n",
            "\n",
            "\n",
            "----------------------------\n",
            "Tekst komendy:\n",
            "look for the book The Girl Who Was Plugged In \n",
            "Oczyszczona komenda:\n",
            "look for the book the girl who be plug in\n",
            "True category: SearchCreativeWork\n",
            "Predicted category: SearchCreativeWork\n",
            "\n",
            "\n",
            "----------------------------\n",
            "Tekst komendy:\n",
            "Search for the TV show, A Lawless Street.\n",
            "Oczyszczona komenda:\n",
            "search for the tv show lawless street\n",
            "True category: SearchCreativeWork\n",
            "Predicted category: SearchCreativeWork\n",
            "\n",
            "\n",
            "----------------------------\n",
            "Tekst komendy:\n",
            "Find me a TV show called Baby Blue\n",
            "Oczyszczona komenda:\n",
            "find tv show call baby blue\n",
            "True category: SearchCreativeWork\n",
            "Predicted category: SearchCreativeWork\n",
            "\n",
            "\n",
            "----------------------------\n",
            "Tekst komendy:\n",
            "Please search for Switched.\n",
            "Oczyszczona komenda:\n",
            "please search for switch\n",
            "True category: SearchCreativeWork\n",
            "Predicted category: SearchCreativeWork\n",
            "\n",
            "\n",
            "----------------------------\n",
            "Tekst komendy:\n",
            "Please look up the work, Bachelor Pad.\n",
            "Oczyszczona komenda:\n",
            "please look up the work bachelor pad\n",
            "True category: SearchCreativeWork\n",
            "Predicted category: SearchCreativeWork\n",
            "\n",
            "\n",
            "----------------------------\n",
            "Tekst komendy:\n",
            "Please find me the Journal of the British Astronomical Association movie.\n",
            "Oczyszczona komenda:\n",
            "please find the journal of the british astronomical association movie\n",
            "True category: SearchCreativeWork\n",
            "Predicted category: SearchCreativeWork\n",
            "\n",
            "\n",
            "----------------------------\n",
            "Tekst komendy:\n",
            "Please search for the Journal of Official Statistics show.\n",
            "Oczyszczona komenda:\n",
            "please search for the journal of official statistic show\n",
            "True category: SearchCreativeWork\n",
            "Predicted category: SearchCreativeWork\n",
            "\n",
            "\n",
            "----------------------------\n",
            "Tekst komendy:\n",
            "Find me the soundtrack Live at the Greek Theatre\n",
            "Oczyszczona komenda:\n",
            "find the soundtrack live at the greek theatre\n",
            "True category: SearchCreativeWork\n",
            "Predicted category: SearchCreativeWork\n",
            "\n",
            "\n",
            "----------------------------\n",
            "Tekst komendy:\n",
            "Please search the Woodsmen of the West.\n",
            "Oczyszczona komenda:\n",
            "please search the woodsman of the west\n",
            "True category: SearchCreativeWork\n",
            "Predicted category: SearchCreativeWork\n",
            "\n",
            "\n",
            "----------------------------\n",
            "Tekst komendy:\n",
            "Please look up Show-Biz Blues photograph.\n",
            "Oczyszczona komenda:\n",
            "please look up showbiz blue photograph\n",
            "True category: SearchCreativeWork\n",
            "Predicted category: SearchCreativeWork\n",
            "\n",
            "\n",
            "----------------------------\n",
            "Tekst komendy:\n",
            "Look for the album Wolves Within\n",
            "Oczyszczona komenda:\n",
            "look for the album wolf within\n",
            "True category: SearchCreativeWork\n",
            "Predicted category: SearchCreativeWork\n",
            "\n",
            "\n",
            "----------------------------\n",
            "Tekst komendy:\n",
            "Can you find the creative works associated with Caryl & Marilyn: Real Friends\n",
            "Oczyszczona komenda:\n",
            "can find the creative work associate with caryl marilyn real friend\n",
            "True category: SearchCreativeWork\n",
            "Predicted category: SearchCreativeWork\n",
            "\n",
            "\n",
            "----------------------------\n",
            "Tekst komendy:\n",
            "Search for the game Difficult Loves\n",
            "Oczyszczona komenda:\n",
            "search for the game difficult love\n",
            "True category: SearchCreativeWork\n",
            "Predicted category: SearchCreativeWork\n",
            "\n",
            "\n",
            "----------------------------\n",
            "Tekst komendy:\n",
            "I'm looking for Welcome to the Canteen\n",
            "Oczyszczona komenda:\n",
            "be look for welcome to the canteen\n",
            "True category: SearchCreativeWork\n",
            "Predicted category: SearchCreativeWork\n",
            "\n",
            "\n",
            "----------------------------\n",
            "Tekst komendy:\n",
            "Please find me the Olympia 74 soundtrack.\n",
            "Oczyszczona komenda:\n",
            "please find the olympia soundtrack\n",
            "True category: SearchCreativeWork\n",
            "Predicted category: SearchCreativeWork\n",
            "\n",
            "\n",
            "----------------------------\n",
            "Tekst komendy:\n",
            "Looking for a game called Phinally Phamous\n",
            "Oczyszczona komenda:\n",
            "look for game call phinally phamous\n",
            "True category: SearchCreativeWork\n",
            "Predicted category: SearchCreativeWork\n",
            "\n",
            "\n",
            "----------------------------\n",
            "Tekst komendy:\n",
            "Find me the novel with the name To Lose My Life…\n",
            "Oczyszczona komenda:\n",
            "find the novel with the name to lose life\n",
            "True category: SearchCreativeWork\n",
            "Predicted category: SearchCreativeWork\n",
            "\n",
            "\n",
            "----------------------------\n",
            "Tekst komendy:\n",
            "Get me the Elvis' Christmas Album TV show.\n",
            "Oczyszczona komenda:\n",
            "get the elvis christmas album tv show\n",
            "True category: SearchCreativeWork\n",
            "Predicted category: SearchCreativeWork\n",
            "\n",
            "\n",
            "----------------------------\n",
            "Tekst komendy:\n",
            "Find the album Orphan Girl at the Cemetery\n",
            "Oczyszczona komenda:\n",
            "find the album orphan girl at the cemetery\n",
            "True category: SearchCreativeWork\n",
            "Predicted category: SearchCreativeWork\n",
            "\n",
            "\n",
            "----------------------------\n",
            "Tekst komendy:\n",
            "Am looking for a book with the title Free to Play\n",
            "Oczyszczona komenda:\n",
            "be look for book with the title free to play\n",
            "True category: SearchCreativeWork\n",
            "Predicted category: SearchCreativeWork\n",
            "\n",
            "\n",
            "----------------------------\n",
            "Tekst komendy:\n",
            "Please look up Three Essays on the Theory of Sexuality show.\n",
            "Oczyszczona komenda:\n",
            "please look up three essay on the theory of sexuality show\n",
            "True category: SearchCreativeWork\n",
            "Predicted category: SearchCreativeWork\n",
            "\n",
            "\n",
            "----------------------------\n",
            "Tekst komendy:\n",
            "Wish to see the photograph with the name Live: Right Here\n",
            "Oczyszczona komenda:\n",
            "wish to see the photograph with the name live right here\n",
            "True category: SearchCreativeWork\n",
            "Predicted category: SearchCreativeWork\n",
            "\n",
            "\n",
            "----------------------------\n",
            "Tekst komendy:\n",
            "Can you search the Daring Youth saga?\n",
            "Oczyszczona komenda:\n",
            "can search the dare youth saga\n",
            "True category: SearchCreativeWork\n",
            "Predicted category: SearchCreativeWork\n",
            "\n",
            "\n",
            "----------------------------\n",
            "Tekst komendy:\n",
            "Can you look up the Molecular Oncology saga?\n",
            "Oczyszczona komenda:\n",
            "can look up the molecular oncology saga\n",
            "True category: SearchCreativeWork\n",
            "Predicted category: SearchCreativeWork\n",
            "\n",
            "\n",
            "----------------------------\n",
            "Tekst komendy:\n",
            "Please help me find, Bend It Like Beckham the Musical.\n",
            "Oczyszczona komenda:\n",
            "please help find bend like beckham the musical\n",
            "True category: SearchCreativeWork\n",
            "Predicted category: SearchCreativeWork\n",
            "\n",
            "\n",
            "----------------------------\n",
            "Tekst komendy:\n",
            "Get me the Procession of Ants TV show.\n",
            "Oczyszczona komenda:\n",
            "get the procession of ant tv show\n",
            "True category: SearchCreativeWork\n",
            "Predicted category: SearchCreativeWork\n",
            "\n",
            "\n",
            "----------------------------\n",
            "Tekst komendy:\n",
            "Look for the album Slave to the Grind\n",
            "Oczyszczona komenda:\n",
            "look for the album slave to the grind\n",
            "True category: SearchCreativeWork\n",
            "Predicted category: SearchCreativeWork\n",
            "\n",
            "\n",
            "----------------------------\n",
            "Tekst komendy:\n",
            "Search for Appalachian Journey\n",
            "Oczyszczona komenda:\n",
            "search for appalachian journey\n",
            "True category: SearchCreativeWork\n",
            "Predicted category: SearchCreativeWork\n",
            "\n",
            "\n",
            "----------------------------\n",
            "Tekst komendy:\n",
            "Look for the TV series Jersey Boys\n",
            "Oczyszczona komenda:\n",
            "look for the tv series jersey boys\n",
            "True category: SearchCreativeWork\n",
            "Predicted category: SearchCreativeWork\n",
            "\n",
            "\n",
            "----------------------------\n",
            "Tekst komendy:\n",
            "Please find me Phineas Redux.\n",
            "Oczyszczona komenda:\n",
            "please find phineas redux\n",
            "True category: SearchCreativeWork\n",
            "Predicted category: SearchCreativeWork\n",
            "\n",
            "\n",
            "----------------------------\n",
            "Tekst komendy:\n",
            "Get me the Secret South song.\n",
            "Oczyszczona komenda:\n",
            "get the secret south song\n",
            "True category: SearchCreativeWork\n",
            "Predicted category: SearchCreativeWork\n",
            "\n",
            "\n",
            "----------------------------\n",
            "Tekst komendy:\n",
            "Looking for a creative work called Plant Ecology\n",
            "Oczyszczona komenda:\n",
            "look for creative work call plant ecology\n",
            "True category: SearchCreativeWork\n",
            "Predicted category: SearchCreativeWork\n",
            "\n",
            "\n",
            "----------------------------\n",
            "Tekst komendy:\n",
            "Can you get me the Message from God saga?\n",
            "Oczyszczona komenda:\n",
            "can get the message from god saga\n",
            "True category: SearchCreativeWork\n",
            "Predicted category: SearchCreativeWork\n",
            "\n",
            "\n",
            "----------------------------\n",
            "Tekst komendy:\n",
            "Please look up the TV show, Vanity.\n",
            "Oczyszczona komenda:\n",
            "please look up the tv show vanity\n",
            "True category: SearchCreativeWork\n",
            "Predicted category: SearchCreativeWork\n",
            "\n",
            "\n",
            "----------------------------\n",
            "Tekst komendy:\n",
            "Can you please get me the book Dracula 5: The Blood Legacy?\n",
            "Oczyszczona komenda:\n",
            "can please get the book dracula the blood legacy\n",
            "True category: SearchCreativeWork\n",
            "Predicted category: SearchCreativeWork\n",
            "\n",
            "\n",
            "----------------------------\n",
            "Tekst komendy:\n",
            "Please get me The Henderson Kids saga.\n",
            "Oczyszczona komenda:\n",
            "please get the henderson kids saga\n",
            "True category: SearchCreativeWork\n",
            "Predicted category: SearchCreativeWork\n",
            "\n",
            "\n",
            "----------------------------\n",
            "Tekst komendy:\n",
            "Can you find the American Bison photograph?\n",
            "Oczyszczona komenda:\n",
            "can find the american bison photograph\n",
            "True category: SearchCreativeWork\n",
            "Predicted category: SearchCreativeWork\n",
            "\n",
            "\n",
            "----------------------------\n",
            "Tekst komendy:\n",
            "Please find me the video game titled 20 Hours in America.\n",
            "Oczyszczona komenda:\n",
            "please find the video game title hour in america\n",
            "True category: SearchCreativeWork\n",
            "Predicted category: SearchCreativeWork\n",
            "\n",
            "\n",
            "----------------------------\n",
            "Tekst komendy:\n",
            "Can you find me the Free for All show?\n",
            "Oczyszczona komenda:\n",
            "can find the free for all show\n",
            "True category: SearchCreativeWork\n",
            "Predicted category: SearchCreativeWork\n",
            "\n",
            "\n",
            "----------------------------\n",
            "Tekst komendy:\n",
            "Please find me the work, Serious Awesomeness!.\n",
            "Oczyszczona komenda:\n",
            "please find the work serious awesomeness\n",
            "True category: SearchCreativeWork\n",
            "Predicted category: SearchCreativeWork\n",
            "\n",
            "\n",
            "----------------------------\n",
            "Tekst komendy:\n",
            "Wish to find the movie the Heart Beat\n",
            "Oczyszczona komenda:\n",
            "wish to find the movie the heart beat\n",
            "True category: SearchCreativeWork\n",
            "Predicted category: SearchCreativeWork\n",
            "\n",
            "\n",
            "----------------------------\n",
            "Tekst komendy:\n",
            "Please search for the TV show, The Best of White Lion.\n",
            "Oczyszczona komenda:\n",
            "please search for the tv show the good of white lion\n",
            "True category: SearchCreativeWork\n",
            "Predicted category: SearchCreativeWork\n",
            "\n",
            "\n",
            "----------------------------\n",
            "Tekst komendy:\n",
            "Could you find the TV series The Approach\n",
            "Oczyszczona komenda:\n",
            "could find the tv series the approach\n",
            "True category: SearchCreativeWork\n",
            "Predicted category: SearchCreativeWork\n",
            "\n",
            "\n",
            "----------------------------\n",
            "Tekst komendy:\n",
            "I wish to watch The Fold trailer, please search.\n",
            "Oczyszczona komenda:\n",
            "wish to watch the fold trailer please search\n",
            "True category: SearchCreativeWork\n",
            "Predicted category: SearchCreativeWork\n",
            "\n",
            "\n",
            "----------------------------\n",
            "Tekst komendy:\n",
            "Please look up and find me Monty Python Live at the Hollywood Bowl.\n",
            "Oczyszczona komenda:\n",
            "please look up and find monty python live at the hollywood bowl\n",
            "True category: SearchCreativeWork\n",
            "Predicted category: SearchCreativeWork\n",
            "\n",
            "\n",
            "----------------------------\n",
            "Tekst komendy:\n",
            "Find the television show To Me\n",
            "Oczyszczona komenda:\n",
            "find the television show to\n",
            "True category: SearchCreativeWork\n",
            "Predicted category: SearchCreativeWork\n",
            "\n",
            "\n",
            "----------------------------\n",
            "Tekst komendy:\n",
            "Please search for the painting titled This Is the Night.\n",
            "Oczyszczona komenda:\n",
            "please search for the painting title this be the night\n",
            "True category: SearchCreativeWork\n",
            "Predicted category: SearchCreativeWork\n",
            "\n",
            "\n",
            "----------------------------\n",
            "Tekst komendy:\n",
            "Find the creative work Face Down\n",
            "Oczyszczona komenda:\n",
            "find the creative work face down\n",
            "True category: SearchCreativeWork\n",
            "Predicted category: SearchCreativeWork\n",
            "\n",
            "\n",
            "----------------------------\n",
            "Tekst komendy:\n",
            "Can you please find me the Harry Hood saga?\n",
            "Oczyszczona komenda:\n",
            "can please find the harry hood saga\n",
            "True category: SearchCreativeWork\n",
            "Predicted category: SearchCreativeWork\n",
            "\n",
            "\n",
            "----------------------------\n",
            "Tekst komendy:\n",
            "Could you locate the Epic Conditions picture?\n",
            "Oczyszczona komenda:\n",
            "could locate the epic condition picture\n",
            "True category: SearchCreativeWork\n",
            "Predicted category: SearchCreativeWork\n",
            "\n",
            "\n",
            "----------------------------\n",
            "Tekst komendy:\n",
            "Can you find me, Hey Man?\n",
            "Oczyszczona komenda:\n",
            "can find hey man\n",
            "True category: SearchCreativeWork\n",
            "Predicted category: SearchCreativeWork\n",
            "\n",
            "\n",
            "----------------------------\n",
            "Tekst komendy:\n",
            "Please look up the TV series Parables for Wooden Ears.\n",
            "Oczyszczona komenda:\n",
            "please look up the tv series parable for wooden ear\n",
            "True category: SearchCreativeWork\n",
            "Predicted category: SearchCreativeWork\n",
            "\n",
            "\n",
            "----------------------------\n",
            "Tekst komendy:\n",
            "Can you find me the work titled Music for Millions?\n",
            "Oczyszczona komenda:\n",
            "can find the work title music for million\n",
            "True category: SearchCreativeWork\n",
            "Predicted category: SearchCreativeWork\n",
            "\n",
            "\n",
            "----------------------------\n",
            "Tekst komendy:\n",
            "Look for the television show Meet the Prince\n",
            "Oczyszczona komenda:\n",
            "look for the television show meet the prince\n",
            "True category: SearchCreativeWork\n",
            "Predicted category: SearchCreativeWork\n",
            "\n",
            "\n",
            "----------------------------\n",
            "Tekst komendy:\n",
            "Can you search the book, Paris - When It Sizzles?\n",
            "Oczyszczona komenda:\n",
            "can search the book paris when sizzle\n",
            "True category: SearchCreativeWork\n",
            "Predicted category: SearchCreativeWork\n",
            "\n",
            "\n",
            "----------------------------\n",
            "Tekst komendy:\n",
            "Please help me search the Hell Money saga.\n",
            "Oczyszczona komenda:\n",
            "please help search the hell money saga\n",
            "True category: SearchCreativeWork\n",
            "Predicted category: SearchCreativeWork\n",
            "\n",
            "\n",
            "----------------------------\n",
            "Tekst komendy:\n",
            "Please find me the Classified book.\n",
            "Oczyszczona komenda:\n",
            "please find the classify book\n",
            "True category: SearchCreativeWork\n",
            "Predicted category: SearchCreativeWork\n",
            "\n",
            "\n",
            "----------------------------\n",
            "Tekst komendy:\n",
            "Can you find me the ALMOST HUMAN painting?\n",
            "Oczyszczona komenda:\n",
            "can find the almost human painting\n",
            "True category: SearchCreativeWork\n",
            "Predicted category: SearchCreativeWork\n",
            "\n",
            "\n",
            "----------------------------\n",
            "Tekst komendy:\n",
            "Please search the game ATLA: All This Life Allows.\n",
            "Oczyszczona komenda:\n",
            "please search the game atla all this life allow\n",
            "True category: SearchCreativeWork\n",
            "Predicted category: SearchCreativeWork\n",
            "\n",
            "\n",
            "----------------------------\n",
            "Tekst komendy:\n",
            "Find the creative work The Devil in Stitches\n",
            "Oczyszczona komenda:\n",
            "find the creative work the devil in stitch\n",
            "True category: SearchCreativeWork\n",
            "Predicted category: SearchCreativeWork\n",
            "\n",
            "\n",
            "----------------------------\n",
            "Tekst komendy:\n",
            "Need the creative work called The Logic of Scientific Discovery\n",
            "Oczyszczona komenda:\n",
            "need the creative work call the logic of scientific discovery\n",
            "True category: SearchCreativeWork\n",
            "Predicted category: SearchCreativeWork\n",
            "\n",
            "\n",
            "----------------------------\n",
            "Tekst komendy:\n",
            "Can you get me the Controlled Conversations TV series?\n",
            "Oczyszczona komenda:\n",
            "can get the control conversation tv series\n",
            "True category: SearchCreativeWork\n",
            "Predicted category: SearchCreativeWork\n",
            "\n",
            "\n",
            "----------------------------\n",
            "Tekst komendy:\n",
            "Can you find me the work, The Curse of Oak Island?\n",
            "Oczyszczona komenda:\n",
            "can find the work the curse of oak island\n",
            "True category: SearchCreativeWork\n",
            "Predicted category: SearchCreativeWork\n",
            "\n",
            "\n",
            "----------------------------\n",
            "Tekst komendy:\n",
            "Looking for the picture with the name of Who Made Stevie Crye?\n",
            "Oczyszczona komenda:\n",
            "look for the picture with the name of who make stevie crye\n",
            "True category: SearchCreativeWork\n",
            "Predicted category: SearchCreativeWork\n",
            "\n",
            "\n",
            "----------------------------\n",
            "Tekst komendy:\n",
            "Please help me find the Late Night Heartbroken Blues television show.\n",
            "Oczyszczona komenda:\n",
            "please help find the late night heartbroken blue television show\n",
            "True category: SearchCreativeWork\n",
            "Predicted category: SearchCreativeWork\n",
            "\n",
            "\n",
            "----------------------------\n",
            "Tekst komendy:\n",
            "search for the trailer for The Office\n",
            "Oczyszczona komenda:\n",
            "search for the trailer for the office\n",
            "True category: SearchCreativeWork\n",
            "Predicted category: SearchCreativeWork\n",
            "\n",
            "\n",
            "----------------------------\n",
            "Tekst komendy:\n",
            "Can you find me the work, Bible translations into Hawaii Pidgin?\n",
            "Oczyszczona komenda:\n",
            "can find the work bible translation into hawaii pidgin\n",
            "True category: SearchCreativeWork\n",
            "Predicted category: SearchCreativeWork\n",
            "\n",
            "\n",
            "----------------------------\n",
            "Tekst komendy:\n",
            "Find me the soundtrack A Honeymoon Adventure\n",
            "Oczyszczona komenda:\n",
            "find the soundtrack honeymoon adventure\n",
            "True category: SearchCreativeWork\n",
            "Predicted category: SearchCreativeWork\n",
            "\n",
            "\n",
            "----------------------------\n",
            "Tekst komendy:\n",
            "Search for The Sound of One Hand Clapping\n",
            "Oczyszczona komenda:\n",
            "search for the sound of one hand clapping\n",
            "True category: SearchCreativeWork\n",
            "Predicted category: SearchCreativeWork\n",
            "\n",
            "\n",
            "----------------------------\n",
            "Tekst komendy:\n",
            "Please look up the work, Prophets.\n",
            "Oczyszczona komenda:\n",
            "please look up the work prophet\n",
            "True category: SearchCreativeWork\n",
            "Predicted category: SearchCreativeWork\n",
            "\n",
            "\n",
            "----------------------------\n",
            "Tekst komendy:\n",
            "Please search for the television show, Episodi di The Blacklist.\n",
            "Oczyszczona komenda:\n",
            "please search for the television show episodi di the blacklist\n",
            "True category: SearchCreativeWork\n",
            "Predicted category: SearchCreativeWork\n",
            "\n",
            "\n",
            "----------------------------\n",
            "Tekst komendy:\n",
            "Can you find me The Sword with No Name trailer?\n",
            "Oczyszczona komenda:\n",
            "can find the sword with no name trailer\n",
            "True category: SearchCreativeWork\n",
            "Predicted category: SearchCreativeWork\n",
            "\n",
            "\n",
            "----------------------------\n",
            "Tekst komendy:\n",
            "Looking for a song with the title of Live at the Kings Center\n",
            "Oczyszczona komenda:\n",
            "look for song with the title of live at the king center\n",
            "True category: SearchCreativeWork\n",
            "Predicted category: SearchCreativeWork\n",
            "\n",
            "\n",
            "----------------------------\n",
            "Tekst komendy:\n",
            "Find the creative work Deadly Weapons\n",
            "Oczyszczona komenda:\n",
            "find the creative work deadly weapon\n",
            "True category: SearchCreativeWork\n",
            "Predicted category: SearchCreativeWork\n",
            "\n",
            "\n",
            "----------------------------\n",
            "Tekst komendy:\n",
            "Please look up the novel, Live to Dance.\n",
            "Oczyszczona komenda:\n",
            "please look up the novel live to dance\n",
            "True category: SearchCreativeWork\n",
            "Predicted category: SearchCreativeWork\n",
            "\n",
            "\n",
            "----------------------------\n",
            "Tekst komendy:\n",
            "Can you find me Cracks the Safe?\n",
            "Oczyszczona komenda:\n",
            "can find crack the safe\n",
            "True category: SearchCreativeWork\n",
            "Predicted category: SearchCreativeWork\n",
            "\n",
            "\n",
            "----------------------------\n",
            "Tekst komendy:\n",
            "Can you find me the National Anthem of the Ancient Britons television show?\n",
            "Oczyszczona komenda:\n",
            "can find the national anthem of the ancient briton television show\n",
            "True category: SearchCreativeWork\n",
            "Predicted category: SearchCreativeWork\n",
            "\n",
            "\n",
            "----------------------------\n",
            "Tekst komendy:\n",
            "Please look up the Johnny English - La rinascita painting.\n",
            "Oczyszczona komenda:\n",
            "please look up the johnny english la rinascita painting\n",
            "True category: SearchCreativeWork\n",
            "Predicted category: SearchCreativeWork\n",
            "\n",
            "\n",
            "----------------------------\n",
            "Tekst komendy:\n",
            "Looking for a painting with the title With You\n",
            "Oczyszczona komenda:\n",
            "look for paint with the title with\n",
            "True category: SearchCreativeWork\n",
            "Predicted category: SearchCreativeWork\n",
            "\n",
            "\n",
            "----------------------------\n",
            "Tekst komendy:\n",
            "Please search the Live from Leeds album.\n",
            "Oczyszczona komenda:\n",
            "please search the live from leeds album\n",
            "True category: SearchCreativeWork\n",
            "Predicted category: SearchCreativeWork\n",
            "\n",
            "\n",
            "----------------------------\n",
            "Tekst komendy:\n",
            "Please search the An Introduction to Karl Marx painting.\n",
            "Oczyszczona komenda:\n",
            "please search the an introduction to karl marx painting\n",
            "True category: SearchCreativeWork\n",
            "Predicted category: SearchCreativeWork\n",
            "\n",
            "\n"
          ],
          "name": "stdout"
        }
      ]
    },
    {
      "cell_type": "markdown",
      "metadata": {
        "id": "IlchnRFT3XPb"
      },
      "source": [
        "\n",
        "#### Wnioski: \n",
        "> Model ma tendencję do faryzowania etykiety `SearchCreativeWork` kosztem `SearchScreeningEvent`. Świadczy o tym 100% skutczeność predykcji `SearchCreativeWork` przy 80% skuteczności predykcji `SearchScreeningEvent`. \n",
        "\n"
      ]
    },
    {
      "cell_type": "code",
      "metadata": {
        "id": "29pYrdfPSNpt"
      },
      "source": [
        ""
      ],
      "execution_count": 34,
      "outputs": []
    }
  ]
}