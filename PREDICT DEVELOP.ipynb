{
  "nbformat": 4,
  "nbformat_minor": 0,
  "metadata": {
    "colab": {
      "name": "Detecting_intentions_MLP",
      "provenance": [],
      "collapsed_sections": [],
      "authorship_tag": "ABX9TyOHb8SaPZ5ujAwwkhjEH276",
      "include_colab_link": true
    },
    "kernelspec": {
      "name": "python3",
      "display_name": "Python 3"
    },
    "language_info": {
      "name": "python"
    }
  },
  "cells": [
    {
      "cell_type": "markdown",
      "metadata": {
        "id": "view-in-github",
        "colab_type": "text"
      },
      "source": [
        "<a href=\"https://colab.research.google.com/github/ciepielajan/Multi-Class-Classification-NLP/blob/main/PREDICT%20DEVELOP.ipynb\" target=\"_parent\"><img src=\"https://colab.research.google.com/assets/colab-badge.svg\" alt=\"Open In Colab\"/></a>"
      ]
    },
    {
      "cell_type": "markdown",
      "metadata": {
        "id": "4DPDYgS6ez12"
      },
      "source": [
        "PREDICT DEVELOP"
      ]
    },
    {
      "cell_type": "markdown",
      "metadata": {
        "id": "lormj7RQu-vl"
      },
      "source": [
        "#### loading the necessary files to predict in develop"
      ]
    },
    {
      "cell_type": "code",
      "metadata": {
        "id": "hhzm9LWSvggi",
        "colab": {
          "base_uri": "https://localhost:8080/"
        },
        "outputId": "31c17a61-375e-4975-8967-dd77c4bae1d8"
      },
      "source": [
        "# model\n",
        "# https://drive.google.com/file/d/1LQzf7_SBpmee41X7ecupKFMGb8n9LXLk/view?usp=sharing\n",
        "!gdown --id \"1LQzf7_SBpmee41X7ecupKFMGb8n9LXLk\" -O \"develop_model.h5\"\n",
        "\n",
        "# config\n",
        "# https://drive.google.com/file/d/11JehTWT6J_oHyVBAcdZtq8PRJ50pRKRz/view?usp=sharing\n",
        "!gdown --id \"11JehTWT6J_oHyVBAcdZtq8PRJ50pRKRz\"  -O \"develop_config.pickle\""
      ],
      "execution_count": 6,
      "outputs": [
        {
          "output_type": "stream",
          "text": [
            "Downloading...\n",
            "From: https://drive.google.com/uc?id=1LQzf7_SBpmee41X7ecupKFMGb8n9LXLk\n",
            "To: /content/develop_model.h5\n",
            "11.8MB [00:00, 70.2MB/s]\n",
            "Downloading...\n",
            "From: https://drive.google.com/uc?id=11JehTWT6J_oHyVBAcdZtq8PRJ50pRKRz\n",
            "To: /content/develop_config.pickle\n",
            "100% 451k/451k [00:00<00:00, 65.9MB/s]\n"
          ],
          "name": "stdout"
        }
      ]
    },
    {
      "cell_type": "code",
      "metadata": {
        "id": "fYLLoqfun65J",
        "colab": {
          "base_uri": "https://localhost:8080/"
        },
        "outputId": "5374eadc-3f73-48d5-d4ab-ed0d36e7f7cf"
      },
      "source": [
        "from keras.models import load_model\n",
        "model = load_model('develop_model.h5')\n",
        "model.summary()"
      ],
      "execution_count": 7,
      "outputs": [
        {
          "output_type": "stream",
          "text": [
            "Model: \"sequential\"\n",
            "_________________________________________________________________\n",
            "Layer (type)                 Output Shape              Param #   \n",
            "=================================================================\n",
            "embedding (Embedding)        (None, 7, 100)            976800    \n",
            "_________________________________________________________________\n",
            "flatten (Flatten)            (None, 700)               0         \n",
            "_________________________________________________________________\n",
            "dense (Dense)                (None, 7)                 4907      \n",
            "=================================================================\n",
            "Total params: 981,707\n",
            "Trainable params: 981,707\n",
            "Non-trainable params: 0\n",
            "_________________________________________________________________\n"
          ],
          "name": "stdout"
        }
      ]
    },
    {
      "cell_type": "code",
      "metadata": {
        "id": "z0o8XoZXlioh",
        "colab": {
          "base_uri": "https://localhost:8080/"
        },
        "outputId": "66388bba-cddb-4f6b-e6fd-ff5e296426bb"
      },
      "source": [
        "import pickle\n",
        "with open('develop_config.pickle', 'rb') as f:\n",
        "  develop_config = pickle.load(f)\n",
        "\n",
        "develop_config"
      ],
      "execution_count": 8,
      "outputs": [
        {
          "output_type": "execute_result",
          "data": {
            "text/plain": [
              "{'labelencoder': LabelEncoder(),\n",
              " 'maxlen': 7,\n",
              " 'tokenizer': <keras_preprocessing.text.Tokenizer at 0x7f8e74759310>}"
            ]
          },
          "metadata": {
            "tags": []
          },
          "execution_count": 8
        }
      ]
    },
    {
      "cell_type": "code",
      "metadata": {
        "id": "H4alhJFBI9yY"
      },
      "source": [
        "labelencoder = develop_config[\"labelencoder\"]\n",
        "maxlen = develop_config[\"maxlen\"]\n",
        "tokenizer = develop_config[\"tokenizer\"]"
      ],
      "execution_count": 9,
      "outputs": []
    },
    {
      "cell_type": "code",
      "metadata": {
        "id": "PxsrsxoBn4lP"
      },
      "source": [
        "import re\n",
        "import numpy as np\n",
        "from sklearn.preprocessing import LabelEncoder\n",
        "from keras.preprocessing.text import Tokenizer\n",
        "from keras.preprocessing.sequence import pad_sequences"
      ],
      "execution_count": 10,
      "outputs": []
    },
    {
      "cell_type": "code",
      "metadata": {
        "id": "gby_0xPSHS4X"
      },
      "source": [
        "def process_text(sentence):\n",
        "    sentence = re.sub('[A-Za-z0-9]+@[a-zA-z].[a-zA-Z]+', '', sentence)  # maile\n",
        "    sentence = re.sub('(http[s]*:[/][/])[a-zA-Z0-9]+', '', sentence)  # linki\n",
        "    sentence = re.sub(r\"<[^>]+>\", \" \", sentence) # remove html tag\n",
        "    sentence = re.sub(r\"[^a-zA-Z\\s]\", \"\", sentence)  # remove punctuations and numbers   \n",
        "    sentence = re.sub(r\"\\b[A-Za-z]{1}\\b\", \"\", sentence)  # remove single characters\n",
        "\n",
        "    sentence = re.sub(\"^\\s+|\\s+$\", \"\", sentence, flags=re.UNICODE) # Remove spaces both in the BEGINNING and in the END of a string:\n",
        "    sentence = \" \".join(re.split(\"\\s+\", sentence, flags=re.UNICODE))  # Remove ONLY DUPLICATE spaces:\n",
        "    sentence = sentence.lower()\n",
        "    \n",
        "    return sentence"
      ],
      "execution_count": 11,
      "outputs": []
    },
    {
      "cell_type": "markdown",
      "metadata": {
        "id": "6m2bG1GCvlT2"
      },
      "source": [
        "#### Predict"
      ]
    },
    {
      "cell_type": "code",
      "metadata": {
        "id": "sByLyoNLiXeS",
        "colab": {
          "base_uri": "https://localhost:8080/"
        },
        "outputId": "c4bd2540-de24-47c2-ab4c-afb7c8375f8d"
      },
      "source": [
        "# wszysktie etykiety\n",
        "print(labelencoder.classes_.tolist())"
      ],
      "execution_count": 12,
      "outputs": [
        {
          "output_type": "stream",
          "text": [
            "['AddToPlaylist', 'BookRestaurant', 'GetWeather', 'PlayMusic', 'RateBook', 'SearchCreativeWork', 'SearchScreeningEvent']\n"
          ],
          "name": "stdout"
        }
      ]
    },
    {
      "cell_type": "code",
      "metadata": {
        "colab": {
          "base_uri": "https://localhost:8080/",
          "height": 35
        },
        "id": "lNQXGA_EYZrP",
        "outputId": "9505f030-9551-4db8-9e0c-ca982ffc3425"
      },
      "source": [
        "# x = \"PLAY <dasf>M</html> my 32 favorite music\"\n",
        "# x = \"find my favorite book\"\n",
        "# x = \"check the 'Red Hot Chili Peppers' discography\"\n",
        "# x = \"play the 'Red Hot Chili Peppers' discography\"\n",
        "x = \"how will its weather today\" #@param {type:\"string\"}\n",
        "\n",
        "x = process_text(x)\n",
        "x = tokenizer.texts_to_sequences([x])\n",
        "x = pad_sequences(x, padding=\"post\", truncating=\"post\", maxlen=maxlen)\n",
        "predicted_lstm_val = np.argmax(model.predict(x), axis=-1)\n",
        "y_pred = labelencoder.inverse_transform(predicted_lstm_val)[0]\n",
        "y_pred"
      ],
      "execution_count": 24,
      "outputs": [
        {
          "output_type": "execute_result",
          "data": {
            "application/vnd.google.colaboratory.intrinsic+json": {
              "type": "string"
            },
            "text/plain": [
              "'GetWeather'"
            ]
          },
          "metadata": {
            "tags": []
          },
          "execution_count": 24
        }
      ]
    },
    {
      "cell_type": "code",
      "metadata": {
        "id": "pAerjFL8MjMi"
      },
      "source": [
        ""
      ],
      "execution_count": null,
      "outputs": []
    }
  ]
}