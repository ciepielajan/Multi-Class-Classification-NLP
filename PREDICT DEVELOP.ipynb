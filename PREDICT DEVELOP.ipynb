{
  "nbformat": 4,
  "nbformat_minor": 0,
  "metadata": {
    "colab": {
      "name": "Detecting_intentions_MLP",
      "provenance": [],
      "collapsed_sections": [],
      "authorship_tag": "ABX9TyN5imXxW98n3LMcwZvTI2sC",
      "include_colab_link": true
    },
    "kernelspec": {
      "name": "python3",
      "display_name": "Python 3"
    },
    "language_info": {
      "name": "python"
    }
  },
  "cells": [
    {
      "cell_type": "markdown",
      "metadata": {
        "id": "view-in-github",
        "colab_type": "text"
      },
      "source": [
        "<a href=\"https://colab.research.google.com/github/ciepielajan/Multi-Class-Classification-NLP/blob/main/PREDICT%20DEVELOP.ipynb\" target=\"_parent\"><img src=\"https://colab.research.google.com/assets/colab-badge.svg\" alt=\"Open In Colab\"/></a>"
      ]
    },
    {
      "cell_type": "markdown",
      "metadata": {
        "id": "4DPDYgS6ez12"
      },
      "source": [
        "PREDICT DEVELOP"
      ]
    },
    {
      "cell_type": "markdown",
      "metadata": {
        "id": "lormj7RQu-vl"
      },
      "source": [
        "#### loading the necessary files to predict in develop"
      ]
    },
    {
      "cell_type": "code",
      "metadata": {
        "id": "iTEPuTnRfWjN"
      },
      "source": [
        "import warnings\n",
        "warnings.filterwarnings('ignore')"
      ],
      "execution_count": null,
      "outputs": []
    },
    {
      "cell_type": "code",
      "metadata": {
        "id": "hhzm9LWSvggi",
        "colab": {
          "base_uri": "https://localhost:8080/"
        },
        "outputId": "1571b358-8413-40de-c5d4-18c9aec2deb7"
      },
      "source": [
        "# model\n",
        "# https://drive.google.com/file/d/1LQzf7_SBpmee41X7ecupKFMGb8n9LXLk/view?usp=sharing\n",
        "!gdown --id \"1LQzf7_SBpmee41X7ecupKFMGb8n9LXLk\" -O \"develop_model.h5\"\n",
        "\n",
        "# config\n",
        "# https://drive.google.com/file/d/11JehTWT6J_oHyVBAcdZtq8PRJ50pRKRz/view?usp=sharing\n",
        "!gdown --id \"11JehTWT6J_oHyVBAcdZtq8PRJ50pRKRz\"  -O \"develop_config.pickle\""
      ],
      "execution_count": null,
      "outputs": [
        {
          "output_type": "stream",
          "text": [
            "Downloading...\n",
            "From: https://drive.google.com/uc?id=1LQzf7_SBpmee41X7ecupKFMGb8n9LXLk\n",
            "To: /content/develop_model.h5\n",
            "11.8MB [00:00, 55.3MB/s]\n",
            "Downloading...\n",
            "From: https://drive.google.com/uc?id=11JehTWT6J_oHyVBAcdZtq8PRJ50pRKRz\n",
            "To: /content/develop_config.pickle\n",
            "100% 451k/451k [00:00<00:00, 60.3MB/s]\n"
          ],
          "name": "stdout"
        }
      ]
    },
    {
      "cell_type": "code",
      "metadata": {
        "id": "fYLLoqfun65J",
        "colab": {
          "base_uri": "https://localhost:8080/"
        },
        "outputId": "a3e3ab79-fbfc-40f4-d779-57ef5599664c"
      },
      "source": [
        "from keras.models import load_model\n",
        "model = load_model('develop_model.h5')\n",
        "model.summary()"
      ],
      "execution_count": null,
      "outputs": [
        {
          "output_type": "stream",
          "text": [
            "Model: \"sequential\"\n",
            "_________________________________________________________________\n",
            "Layer (type)                 Output Shape              Param #   \n",
            "=================================================================\n",
            "embedding (Embedding)        (None, 7, 100)            976800    \n",
            "_________________________________________________________________\n",
            "flatten (Flatten)            (None, 700)               0         \n",
            "_________________________________________________________________\n",
            "dense (Dense)                (None, 7)                 4907      \n",
            "=================================================================\n",
            "Total params: 981,707\n",
            "Trainable params: 981,707\n",
            "Non-trainable params: 0\n",
            "_________________________________________________________________\n"
          ],
          "name": "stdout"
        }
      ]
    },
    {
      "cell_type": "code",
      "metadata": {
        "id": "z0o8XoZXlioh",
        "colab": {
          "base_uri": "https://localhost:8080/"
        },
        "outputId": "7c593d38-bdfc-4491-a2be-89da469d35ed"
      },
      "source": [
        "import pickle\n",
        "with open('develop_config.pickle', 'rb') as f:\n",
        "  develop_config = pickle.load(f)\n",
        "\n",
        "develop_config"
      ],
      "execution_count": null,
      "outputs": [
        {
          "output_type": "execute_result",
          "data": {
            "text/plain": [
              "{'labelencoder': LabelEncoder(),\n",
              " 'maxlen': 7,\n",
              " 'tokenizer': <keras_preprocessing.text.Tokenizer at 0x7f2b8ca88ed0>}"
            ]
          },
          "metadata": {
            "tags": []
          },
          "execution_count": 3
        }
      ]
    },
    {
      "cell_type": "code",
      "metadata": {
        "id": "H4alhJFBI9yY"
      },
      "source": [
        "labelencoder = develop_config[\"labelencoder\"]\n",
        "maxlen = develop_config[\"maxlen\"]\n",
        "tokenizer = develop_config[\"tokenizer\"]"
      ],
      "execution_count": null,
      "outputs": []
    },
    {
      "cell_type": "code",
      "metadata": {
        "id": "PxsrsxoBn4lP"
      },
      "source": [
        "import re\n",
        "import numpy as np\n",
        "from sklearn.preprocessing import LabelEncoder\n",
        "from keras.preprocessing.text import Tokenizer\n",
        "from keras.preprocessing.sequence import pad_sequences"
      ],
      "execution_count": null,
      "outputs": []
    },
    {
      "cell_type": "code",
      "metadata": {
        "id": "gby_0xPSHS4X"
      },
      "source": [
        "def process_text(sentence):\n",
        "    sentence = re.sub('[A-Za-z0-9]+@[a-zA-z].[a-zA-Z]+', '', sentence)  # maile\n",
        "    sentence = re.sub('(http[s]*:[/][/])[a-zA-Z0-9]+', '', sentence)  # linki\n",
        "    sentence = re.sub(r\"<[^>]+>\", \" \", sentence) # remove html tag\n",
        "    sentence = re.sub(r\"[^a-zA-Z\\s]\", \"\", sentence)  # remove punctuations and numbers   \n",
        "    sentence = re.sub(r\"\\b[A-Za-z]{1}\\b\", \"\", sentence)  # remove single characters\n",
        "\n",
        "    sentence = re.sub(\"^\\s+|\\s+$\", \"\", sentence, flags=re.UNICODE) # Remove spaces both in the BEGINNING and in the END of a string:\n",
        "    sentence = \" \".join(re.split(\"\\s+\", sentence, flags=re.UNICODE))  # Remove ONLY DUPLICATE spaces:\n",
        "    sentence = sentence.lower()\n",
        "    \n",
        "    return sentence"
      ],
      "execution_count": null,
      "outputs": []
    },
    {
      "cell_type": "markdown",
      "metadata": {
        "id": "6m2bG1GCvlT2"
      },
      "source": [
        "#### Predict"
      ]
    },
    {
      "cell_type": "code",
      "metadata": {
        "id": "sByLyoNLiXeS",
        "colab": {
          "base_uri": "https://localhost:8080/"
        },
        "outputId": "2441806e-6e52-4613-c918-cd935c19cbd9"
      },
      "source": [
        "# wszysktie etykiety\n",
        "print(labelencoder.classes_.tolist())"
      ],
      "execution_count": null,
      "outputs": [
        {
          "output_type": "stream",
          "text": [
            "['AddToPlaylist', 'BookRestaurant', 'GetWeather', 'PlayMusic', 'RateBook', 'SearchCreativeWork', 'SearchScreeningEvent']\n"
          ],
          "name": "stdout"
        }
      ]
    },
    {
      "cell_type": "code",
      "metadata": {
        "colab": {
          "base_uri": "https://localhost:8080/"
        },
        "id": "lNQXGA_EYZrP",
        "outputId": "a4be4825-5e49-40f1-f957-bf9d470742e0"
      },
      "source": [
        "# x = \"PLAY <dasf>M</html> my 32 favorite music\"\n",
        "# x = \"find my favorite book\"\n",
        "# x = \"check the 'Red Hot Chili Peppers' discography\"\n",
        "# x = \"play the 'Red Hot Chili Peppers' discography\"\n",
        "x = \"how will it be outside today\" #@param {type:\"string\"}\n",
        "\n",
        "x = process_text(x)\n",
        "x = tokenizer.texts_to_sequences([x])\n",
        "x = pad_sequences(x, padding=\"post\", truncating=\"post\", maxlen=maxlen)\n",
        "predicted_lstm_val = np.argmax(model.predict(x), axis=-1)\n",
        "y_pred = labelencoder.inverse_transform(predicted_lstm_val)[0]\n",
        "y_proba = round(model.predict_proba(x)[0][predicted_lstm_val[0]]*100,3)\n",
        "print(y_pred, \"- probability :\",y_proba  ,\"%\")"
      ],
      "execution_count": null,
      "outputs": [
        {
          "output_type": "stream",
          "text": [
            "GetWeather na : 99.983 %\n"
          ],
          "name": "stdout"
        }
      ]
    },
    {
      "cell_type": "markdown",
      "metadata": {
        "id": "owLBpgOmt7Hm"
      },
      "source": [
        "#### rozkład prawdopodobieństa wg wszsytkich etykiet"
      ]
    },
    {
      "cell_type": "code",
      "metadata": {
        "id": "-HsctyLNl1nJ",
        "colab": {
          "base_uri": "https://localhost:8080/",
          "height": 263
        },
        "outputId": "e7a82f6e-cd12-4e23-9aba-631391e7b063"
      },
      "source": [
        "model.predict_proba(x)\n",
        "classes_proba = [ round(i * 100,4) for i in model.predict_proba(x)[0] ]\n",
        "classes_id = labelencoder.transform(labelencoder.classes_)\n",
        "classes_list = labelencoder.classes_.tolist()\n",
        "\n",
        "import pandas as pd\n",
        "pd.DataFrame((zip(classes_list, classes_proba)), index=classes_id, columns=(\"classes_list\", \"classes_proba\" ))"
      ],
      "execution_count": null,
      "outputs": [
        {
          "output_type": "execute_result",
          "data": {
            "text/html": [
              "<div>\n",
              "<style scoped>\n",
              "    .dataframe tbody tr th:only-of-type {\n",
              "        vertical-align: middle;\n",
              "    }\n",
              "\n",
              "    .dataframe tbody tr th {\n",
              "        vertical-align: top;\n",
              "    }\n",
              "\n",
              "    .dataframe thead th {\n",
              "        text-align: right;\n",
              "    }\n",
              "</style>\n",
              "<table border=\"1\" class=\"dataframe\">\n",
              "  <thead>\n",
              "    <tr style=\"text-align: right;\">\n",
              "      <th></th>\n",
              "      <th>classes_list</th>\n",
              "      <th>classes_proba</th>\n",
              "    </tr>\n",
              "  </thead>\n",
              "  <tbody>\n",
              "    <tr>\n",
              "      <th>0</th>\n",
              "      <td>AddToPlaylist</td>\n",
              "      <td>0.0005</td>\n",
              "    </tr>\n",
              "    <tr>\n",
              "      <th>1</th>\n",
              "      <td>BookRestaurant</td>\n",
              "      <td>0.0012</td>\n",
              "    </tr>\n",
              "    <tr>\n",
              "      <th>2</th>\n",
              "      <td>GetWeather</td>\n",
              "      <td>99.9830</td>\n",
              "    </tr>\n",
              "    <tr>\n",
              "      <th>3</th>\n",
              "      <td>PlayMusic</td>\n",
              "      <td>0.0076</td>\n",
              "    </tr>\n",
              "    <tr>\n",
              "      <th>4</th>\n",
              "      <td>RateBook</td>\n",
              "      <td>0.0024</td>\n",
              "    </tr>\n",
              "    <tr>\n",
              "      <th>5</th>\n",
              "      <td>SearchCreativeWork</td>\n",
              "      <td>0.0037</td>\n",
              "    </tr>\n",
              "    <tr>\n",
              "      <th>6</th>\n",
              "      <td>SearchScreeningEvent</td>\n",
              "      <td>0.0016</td>\n",
              "    </tr>\n",
              "  </tbody>\n",
              "</table>\n",
              "</div>"
            ],
            "text/plain": [
              "           classes_list  classes_proba\n",
              "0         AddToPlaylist         0.0005\n",
              "1        BookRestaurant         0.0012\n",
              "2            GetWeather        99.9830\n",
              "3             PlayMusic         0.0076\n",
              "4              RateBook         0.0024\n",
              "5    SearchCreativeWork         0.0037\n",
              "6  SearchScreeningEvent         0.0016"
            ]
          },
          "metadata": {
            "tags": []
          },
          "execution_count": 218
        }
      ]
    },
    {
      "cell_type": "code",
      "metadata": {
        "id": "6gfBkIpgv8Cy"
      },
      "source": [
        ""
      ],
      "execution_count": null,
      "outputs": []
    }
  ]
}