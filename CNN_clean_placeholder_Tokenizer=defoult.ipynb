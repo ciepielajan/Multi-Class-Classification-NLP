{
  "nbformat": 4,
  "nbformat_minor": 0,
  "metadata": {
    "colab": {
      "name": "CNN_clean",
      "provenance": [],
      "collapsed_sections": [],
      "authorship_tag": "ABX9TyMHVSTXn8hZisMzHSK/MxzC",
      "include_colab_link": true
    },
    "kernelspec": {
      "name": "python3",
      "display_name": "Python 3"
    },
    "language_info": {
      "name": "python"
    }
  },
  "cells": [
    {
      "cell_type": "markdown",
      "metadata": {
        "id": "view-in-github",
        "colab_type": "text"
      },
      "source": [
        "<a href=\"https://colab.research.google.com/github/ciepielajan/Multi-Class-Classification-NLP/blob/main/CNN_clean_placeholder_Tokenizer%3Ddefoult.ipynb\" target=\"_parent\"><img src=\"https://colab.research.google.com/assets/colab-badge.svg\" alt=\"Open In Colab\"/></a>"
      ]
    },
    {
      "cell_type": "markdown",
      "metadata": {
        "id": "amL9NI-CqviO"
      },
      "source": [
        "CNN_clean_placeholder_Tokenizer=defoult"
      ]
    },
    {
      "cell_type": "markdown",
      "metadata": {
        "id": "us7PJ6w-n8ge"
      },
      "source": [
        "#### Pobranie danych"
      ]
    },
    {
      "cell_type": "code",
      "metadata": {
        "colab": {
          "base_uri": "https://localhost:8080/"
        },
        "id": "cZ_7ET22CAsA",
        "outputId": "d5df1705-dc94-4b63-93b4-8ae48dde72b7"
      },
      "source": [
        "# https://drive.google.com/file/d/1fI6EXyD9TMTC1jzdu206ljXOGNjdHprq/view?usp=sharing\n",
        "!gdown --id \"1fI6EXyD9TMTC1jzdu206ljXOGNjdHprq\""
      ],
      "execution_count": 1,
      "outputs": [
        {
          "output_type": "stream",
          "text": [
            "Downloading...\n",
            "From: https://drive.google.com/uc?id=1fI6EXyD9TMTC1jzdu206ljXOGNjdHprq\n",
            "To: /content/user_intent.zip\n",
            "\r  0% 0.00/271k [00:00<?, ?B/s]\r100% 271k/271k [00:00<00:00, 2.56MB/s]\n"
          ],
          "name": "stdout"
        }
      ]
    },
    {
      "cell_type": "code",
      "metadata": {
        "colab": {
          "base_uri": "https://localhost:8080/"
        },
        "id": "uWusnzuPCHqv",
        "outputId": "34a7bdb1-9cd7-4ba9-dac8-9f61c7b6ac34"
      },
      "source": [
        "!unzip \"user_intent.zip\""
      ],
      "execution_count": 2,
      "outputs": [
        {
          "output_type": "stream",
          "text": [
            "Archive:  user_intent.zip\n",
            "  inflating: train.csv               \n",
            "  inflating: __MACOSX/._train.csv    \n",
            "  inflating: validation.csv          \n"
          ],
          "name": "stdout"
        }
      ]
    },
    {
      "cell_type": "code",
      "metadata": {
        "id": "9CI1LZgj-Kin"
      },
      "source": [
        ""
      ],
      "execution_count": 58,
      "outputs": []
    },
    {
      "cell_type": "code",
      "metadata": {
        "colab": {
          "base_uri": "https://localhost:8080/"
        },
        "id": "NUKeVYWfCOdU",
        "outputId": "fa5784b5-4828-403b-903e-2a19dc63d4f2"
      },
      "source": [
        "import pandas as pd\n",
        "import numpy as np\n",
        "from datetime import datetime\n",
        "\n",
        "data_set_train = pd.read_csv(\"train.csv\")\n",
        "data_set_valid = pd.read_csv(\"validation.csv\")\n",
        "\n",
        "print(data_set_train.shape)\n",
        "print(data_set_valid.shape)\n",
        "\n",
        "print(data_set_train.columns)\n",
        "print(data_set_valid.columns)"
      ],
      "execution_count": 59,
      "outputs": [
        {
          "output_type": "stream",
          "text": [
            "(13784, 2)\n",
            "(700, 2)\n",
            "Index(['text', 'label'], dtype='object')\n",
            "Index(['text', 'label'], dtype='object')\n"
          ],
          "name": "stdout"
        }
      ]
    },
    {
      "cell_type": "markdown",
      "metadata": {
        "id": "wYy3aseotVWE"
      },
      "source": [
        "#### process text i placeholder"
      ]
    },
    {
      "cell_type": "code",
      "metadata": {
        "id": "g1kzE8fRtaTT"
      },
      "source": [
        "import re\n",
        "def placeholder(sentence):\n",
        "    sentence = re.sub(r\"<[^>]+>\", \" \", sentence) # remove html tag - na początku żeby nie usunął później placeholderów\n",
        "\n",
        "    #placehodlery\n",
        "    sentence = re.sub('[\\w\\.-]+@[\\w\\.-]+', ' <email> ', sentence)  # maile\n",
        "    sentence = re.sub('(https://|http://|)+[A-Za-z]+\\.+[A-Za-z]+(\\S)+', ' <link> ', sentence)  # linki\n",
        "    sentence = re.sub('([0-9]{4}|[0-9]{2}|[0-9]{1})(\\.|\\-|\\/)([0-9]{4}|[0-9]{2}|[0-9]{1})(\\.|\\-|\\/)([0-9]{4}|[0-9]{2}|[0-9]{1})', ' <date> ', sentence)  # date\n",
        "    sentence = re.sub('[0-9]{1,2}(\\:|am|pm| am| pm)([0-9]{1,2}|\\:|am|pm|)([0-9]{1,2}|\\:|am|pm| am| pm|)(([0-9]{1,10})?)', ' <time> ', sentence)  # time\n",
        "    sentence = re.sub('\\s\\d+(,\\d+)*(\\.\\d+)?(\\%)?\\s', ' <number> ', sentence)  # number\n",
        "    sentence = re.sub('@[A-Za-z0-9\\.]+', ' <montion> ', sentence)  # @montion\n",
        "    sentence = re.sub('#[A-Za-z0-9]+', ' <hashtag> ', sentence)  # #hastag\n",
        "\n",
        "    #czyszczenie\n",
        "    sentence = re.sub(r\"[^a-zA-Z\\<\\>\\s]\", \"\", sentence)  # remove punctuations and numbers   nie usuwać <PLACEHOLDERÓW>\n",
        "    sentence = re.sub('[A-Za-z0-9]+@[a-zA-z].[a-zA-Z]+', '', sentence)  # maile\n",
        "    sentence = re.sub('(http[s]*:[/][/])[a-zA-Z0-9]+', '', sentence)  # linki\n",
        "    sentence = re.sub(r\"\\b[A-Za-z]{1}\\b\", \"\", sentence)  # remove single characters\n",
        "    sentence = re.sub(\"^\\s+|\\s+$\", \"\", sentence, flags=re.UNICODE) # Remove spaces both in the BEGINNING and in the END of a string:\n",
        "    sentence = \" \".join(sentence.split(\" \"))  # Remove ONLY DUPLICATE spaces:\n",
        "    sentence = sentence.lower()\n",
        "    return sentence"
      ],
      "execution_count": 60,
      "outputs": []
    },
    {
      "cell_type": "code",
      "metadata": {
        "id": "5GQNuCjSlz0F"
      },
      "source": [
        "# import re\n",
        "# def process_text(sentence, placeholder=False):\n",
        "#     # sentence = re.sub('[A-Za-z0-9]+@[a-zA-z].[a-zA-Z]+', '', sentence)  # maile\n",
        "#     # sentence = re.sub('(http[s]*:[/][/])[a-zA-Z0-9]+', '', sentence)  # linki\n",
        "#     # sentence = re.sub(r\"<[^>]+>\", \" \", sentence) # remove html tag \n",
        "#     # sentence = re.sub(r\"[^a-zA-Z\\<\\>\\s]\", \"\", sentence)  # remove punctuations and numbers   nie usuwać <PLACEHOLDERÓW>\n",
        "#     # sentence = re.sub(r\"[^a-zA-Z\\s]\", \"\", sentence)  # remove punctuations and numbers  usuwać wszytko bo nie ma placeholderów\n",
        "#     # sentence = re.sub(r\"\\b[A-Za-z]{1}\\b\", \"\", sentence)  # remove single characters\n",
        "#     # sentence = re.sub(\"^\\s+|\\s+$\", \"\", sentence, flags=re.UNICODE) # Remove spaces both in the BEGINNING and in the END of a string:\n",
        "#     # sentence = \" \".join(re.split(\"\\s+\", sentence, flags=re.UNICODE))  # Remove ONLY DUPLICATE spaces:\n",
        "#     # sentence = sentence.lower()\n",
        "    \n",
        "#     return sentence"
      ],
      "execution_count": 61,
      "outputs": []
    },
    {
      "cell_type": "code",
      "metadata": {
        "id": "RZJOju1sFOwp"
      },
      "source": [
        "data_set_train[\"clean_text_placeholder\"] = data_set_train[\"text\"].apply(lambda x: placeholder(x))"
      ],
      "execution_count": 62,
      "outputs": []
    },
    {
      "cell_type": "markdown",
      "metadata": {
        "id": "7epaW5cXoXef"
      },
      "source": [
        "#### `LabelEncoder` oraz `to_categorical`"
      ]
    },
    {
      "cell_type": "code",
      "metadata": {
        "colab": {
          "base_uri": "https://localhost:8080/",
          "height": 204
        },
        "id": "022rNoaL-xbl",
        "outputId": "b6271902-12ea-4e48-b0ca-4e00c5fce563"
      },
      "source": [
        "from sklearn.preprocessing import LabelEncoder\n",
        "from keras.utils import to_categorical \n",
        "\n",
        "\n",
        "labelencoder = LabelEncoder()\n",
        "data_set_train[\"labelencoder\"] = labelencoder.fit_transform(data_set_train[\"label\"])\n",
        "\n",
        "dummy_y = to_categorical(data_set_train[\"labelencoder\"], dtype =\"float32\")\n",
        "\n",
        "data_set_train.head(5)"
      ],
      "execution_count": 63,
      "outputs": [
        {
          "output_type": "execute_result",
          "data": {
            "text/html": [
              "<div>\n",
              "<style scoped>\n",
              "    .dataframe tbody tr th:only-of-type {\n",
              "        vertical-align: middle;\n",
              "    }\n",
              "\n",
              "    .dataframe tbody tr th {\n",
              "        vertical-align: top;\n",
              "    }\n",
              "\n",
              "    .dataframe thead th {\n",
              "        text-align: right;\n",
              "    }\n",
              "</style>\n",
              "<table border=\"1\" class=\"dataframe\">\n",
              "  <thead>\n",
              "    <tr style=\"text-align: right;\">\n",
              "      <th></th>\n",
              "      <th>text</th>\n",
              "      <th>label</th>\n",
              "      <th>clean_text_placeholder</th>\n",
              "      <th>labelencoder</th>\n",
              "    </tr>\n",
              "  </thead>\n",
              "  <tbody>\n",
              "    <tr>\n",
              "      <th>0</th>\n",
              "      <td>find a cinema nearest for films</td>\n",
              "      <td>SearchScreeningEvent</td>\n",
              "      <td>find  cinema nearest for films</td>\n",
              "      <td>6</td>\n",
              "    </tr>\n",
              "    <tr>\n",
              "      <th>1</th>\n",
              "      <td>Give the current series two stars.</td>\n",
              "      <td>RateBook</td>\n",
              "      <td>give the current series two stars</td>\n",
              "      <td>4</td>\n",
              "    </tr>\n",
              "    <tr>\n",
              "      <th>2</th>\n",
              "      <td>find The Good Girl at a movie house\\n</td>\n",
              "      <td>SearchScreeningEvent</td>\n",
              "      <td>find the good girl at  movie house</td>\n",
              "      <td>6</td>\n",
              "    </tr>\n",
              "    <tr>\n",
              "      <th>3</th>\n",
              "      <td>Please make reservations for three at a kosher...</td>\n",
              "      <td>BookRestaurant</td>\n",
              "      <td>please make reservations for three at  kosher ...</td>\n",
              "      <td>1</td>\n",
              "    </tr>\n",
              "    <tr>\n",
              "      <th>4</th>\n",
              "      <td>what is the forecast for here one second from now</td>\n",
              "      <td>GetWeather</td>\n",
              "      <td>what is the forecast for here one second from now</td>\n",
              "      <td>2</td>\n",
              "    </tr>\n",
              "  </tbody>\n",
              "</table>\n",
              "</div>"
            ],
            "text/plain": [
              "                                                text  ... labelencoder\n",
              "0                    find a cinema nearest for films  ...            6\n",
              "1                 Give the current series two stars.  ...            4\n",
              "2              find The Good Girl at a movie house\\n  ...            6\n",
              "3  Please make reservations for three at a kosher...  ...            1\n",
              "4  what is the forecast for here one second from now  ...            2\n",
              "\n",
              "[5 rows x 4 columns]"
            ]
          },
          "metadata": {
            "tags": []
          },
          "execution_count": 63
        }
      ]
    },
    {
      "cell_type": "code",
      "metadata": {
        "colab": {
          "base_uri": "https://localhost:8080/"
        },
        "id": "-RfsD1LSpSag",
        "outputId": "371c0584-4f42-46e0-b27f-49c24d6f057c"
      },
      "source": [
        "dummy_y.shape"
      ],
      "execution_count": 64,
      "outputs": [
        {
          "output_type": "execute_result",
          "data": {
            "text/plain": [
              "(13784, 7)"
            ]
          },
          "metadata": {
            "tags": []
          },
          "execution_count": 64
        }
      ]
    },
    {
      "cell_type": "code",
      "metadata": {
        "colab": {
          "base_uri": "https://localhost:8080/"
        },
        "id": "S4dq1macoeQC",
        "outputId": "13daf8a2-afba-46e9-bb61-8fb1c6a0b47a"
      },
      "source": [
        "id_intention = 6\n",
        "print(\"Sprawdzenie poprawności LabelEncoder i to_categorical \\n\")\n",
        "print(\"Label - \", data_set_train[\"label\"].iloc[id_intention])\n",
        "print(\"LabelEncoder - \", data_set_train[\"labelencoder\"].iloc[id_intention])\n",
        "print()\n",
        "print(\"to_categorical - \", dummy_y[id_intention])\n",
        "print()\n",
        "print(\"return to LabelEncoder - \",np.argmax(dummy_y[id_intention], axis=-1))\n",
        "print(\"return to Label - \",labelencoder.inverse_transform([np.argmax(dummy_y[id_intention], axis=-1)]))"
      ],
      "execution_count": 65,
      "outputs": [
        {
          "output_type": "stream",
          "text": [
            "Sprawdzenie poprawności LabelEncoder i to_categorical \n",
            "\n",
            "Label -  BookRestaurant\n",
            "LabelEncoder -  1\n",
            "\n",
            "to_categorical -  [0. 1. 0. 0. 0. 0. 0.]\n",
            "\n",
            "return to LabelEncoder -  1\n",
            "return to Label -  ['BookRestaurant']\n"
          ],
          "name": "stdout"
        }
      ]
    },
    {
      "cell_type": "markdown",
      "metadata": {
        "id": "-lZTDFgGoSmT"
      },
      "source": [
        "#### Zdefiniowanie X i y"
      ]
    },
    {
      "cell_type": "code",
      "metadata": {
        "id": "JWd9mEjfBAS2"
      },
      "source": [
        "X = data_set_train[\"clean_text_placeholder\"]\n",
        "y = dummy_y"
      ],
      "execution_count": 66,
      "outputs": []
    },
    {
      "cell_type": "code",
      "metadata": {
        "colab": {
          "base_uri": "https://localhost:8080/"
        },
        "id": "8jUlcX2npzFs",
        "outputId": "5df14b68-30d8-4441-b352-4633263dbca8"
      },
      "source": [
        "X.shape, y.shape"
      ],
      "execution_count": 67,
      "outputs": [
        {
          "output_type": "execute_result",
          "data": {
            "text/plain": [
              "((13784,), (13784, 7))"
            ]
          },
          "metadata": {
            "tags": []
          },
          "execution_count": 67
        }
      ]
    },
    {
      "cell_type": "markdown",
      "metadata": {
        "id": "9mS_l8wZoO2R"
      },
      "source": [
        "#### Podział zbioru "
      ]
    },
    {
      "cell_type": "code",
      "metadata": {
        "id": "A18D02x5sjFd"
      },
      "source": [
        "from sklearn.model_selection import train_test_split\n",
        "\n",
        "X_train, X_test, y_train, y_test = train_test_split(X, y, test_size=0.2, random_state=42)"
      ],
      "execution_count": 68,
      "outputs": []
    },
    {
      "cell_type": "code",
      "metadata": {
        "colab": {
          "base_uri": "https://localhost:8080/"
        },
        "id": "i_xH9XIGuYCG",
        "outputId": "17bcacb5-1f2f-46ce-c97d-e06be8d0da1f"
      },
      "source": [
        "X_train.shape, X_test.shape, y_train.shape, y_test.shape"
      ],
      "execution_count": 69,
      "outputs": [
        {
          "output_type": "execute_result",
          "data": {
            "text/plain": [
              "((11027,), (2757,), (11027, 7), (2757, 7))"
            ]
          },
          "metadata": {
            "tags": []
          },
          "execution_count": 69
        }
      ]
    },
    {
      "cell_type": "code",
      "metadata": {
        "id": "-DR0gkd1_Uv0"
      },
      "source": [
        ""
      ],
      "execution_count": 69,
      "outputs": []
    },
    {
      "cell_type": "markdown",
      "metadata": {
        "id": "chWlDg9Mtmya"
      },
      "source": [
        "#### `Tokenizer` i `pad_sequences`"
      ]
    },
    {
      "cell_type": "code",
      "metadata": {
        "id": "LCm-rbaus6QG"
      },
      "source": [
        "from keras.preprocessing.sequence import pad_sequences\n",
        "from keras.preprocessing.text import Tokenizer"
      ],
      "execution_count": 70,
      "outputs": []
    },
    {
      "cell_type": "code",
      "metadata": {
        "id": "U-ihmlc-s6QG"
      },
      "source": [
        "tokenizer = Tokenizer()  # num_words=5000\n",
        "tokenizer.fit_on_texts(X_train)\n",
        "\n",
        "X_train = tokenizer.texts_to_sequences(X_train)\n",
        "X_test = tokenizer.texts_to_sequences(X_test)\n",
        "\n",
        "maxlen = 13\n",
        "vocab_size = len(tokenizer.word_index) + 1\n",
        "\n",
        "X_train = pad_sequences(X_train, padding=\"post\", truncating=\"post\", maxlen=maxlen)\n",
        "X_test = pad_sequences(X_test, padding=\"post\", truncating=\"post\", maxlen=maxlen)"
      ],
      "execution_count": 71,
      "outputs": []
    },
    {
      "cell_type": "markdown",
      "metadata": {
        "id": "_UAQ4RNONmda"
      },
      "source": [
        "#### Model"
      ]
    },
    {
      "cell_type": "code",
      "metadata": {
        "id": "PaRWehbu_VCe"
      },
      "source": [
        "from keras.models import Sequential\n",
        "from keras.layers.embeddings import Embedding\n",
        "from keras.models import Model\n",
        "from tensorflow.keras.callbacks import EarlyStopping"
      ],
      "execution_count": 72,
      "outputs": []
    },
    {
      "cell_type": "code",
      "metadata": {
        "id": "Hwih4PgGsS9k"
      },
      "source": [
        "from keras.layers import Dense, Activation, Embedding, Flatten, GlobalMaxPooling1D, Dropout, Conv1D"
      ],
      "execution_count": 73,
      "outputs": []
    },
    {
      "cell_type": "code",
      "metadata": {
        "id": "Ui9nW3K0_0bf",
        "colab": {
          "base_uri": "https://localhost:8080/"
        },
        "outputId": "f31b6c38-5cd5-4c35-c83f-2f9e8d495bbb"
      },
      "source": [
        "model = Sequential()\n",
        "model.add(Embedding(vocab_size, \n",
        "                           100,  \n",
        "                           input_length=maxlen,\n",
        "                           ))\n",
        "model.add(Conv1D(128, 5, activation='relu'))\n",
        "model.add(GlobalMaxPooling1D())  \n",
        "model.add(Dense(7, activation=\"softmax\")) # sigmoid / softmax\n",
        "model.compile(loss=\"categorical_crossentropy\", optimizer=\"adam\", metrics=[\"accuracy\"])\n",
        "print(model.summary())"
      ],
      "execution_count": 74,
      "outputs": [
        {
          "output_type": "stream",
          "text": [
            "Model: \"sequential_2\"\n",
            "_________________________________________________________________\n",
            "Layer (type)                 Output Shape              Param #   \n",
            "=================================================================\n",
            "embedding_2 (Embedding)      (None, 13, 100)           976000    \n",
            "_________________________________________________________________\n",
            "conv1d_2 (Conv1D)            (None, 9, 128)            64128     \n",
            "_________________________________________________________________\n",
            "global_max_pooling1d_2 (Glob (None, 128)               0         \n",
            "_________________________________________________________________\n",
            "dense_2 (Dense)              (None, 7)                 903       \n",
            "=================================================================\n",
            "Total params: 1,041,031\n",
            "Trainable params: 1,041,031\n",
            "Non-trainable params: 0\n",
            "_________________________________________________________________\n",
            "None\n"
          ],
          "name": "stdout"
        }
      ]
    },
    {
      "cell_type": "code",
      "metadata": {
        "id": "dJtnYTgA_06S",
        "colab": {
          "base_uri": "https://localhost:8080/"
        },
        "outputId": "6c801396-a16d-4fcc-fca7-78fcd9ca2fb2"
      },
      "source": [
        "from tensorflow.keras.callbacks import EarlyStopping\n",
        "\n",
        "EarlyStop = EarlyStopping(monitor='val_loss', \n",
        "                          patience=2,    # 5\n",
        "                          verbose=1)\n",
        "\n",
        "history = model.fit(X_train, \n",
        "                    y_train, \n",
        "                    epochs=20, \n",
        "                    batch_size=64, \n",
        "                    validation_split=0.2, \n",
        "                    callbacks = [EarlyStop] )\n",
        "scores = model.evaluate(X_test, y_test)\n",
        "print(f\"Accuracy {scores[1] * 100}\")"
      ],
      "execution_count": 75,
      "outputs": [
        {
          "output_type": "stream",
          "text": [
            "Epoch 1/20\n",
            "138/138 [==============================] - 3s 21ms/step - loss: 1.3501 - accuracy: 0.7092 - val_loss: 0.1246 - val_accuracy: 0.9701\n",
            "Epoch 2/20\n",
            "138/138 [==============================] - 3s 18ms/step - loss: 0.0720 - accuracy: 0.9859 - val_loss: 0.0754 - val_accuracy: 0.9755\n",
            "Epoch 3/20\n",
            "138/138 [==============================] - 3s 18ms/step - loss: 0.0223 - accuracy: 0.9966 - val_loss: 0.0635 - val_accuracy: 0.9801\n",
            "Epoch 4/20\n",
            "138/138 [==============================] - 2s 18ms/step - loss: 0.0094 - accuracy: 0.9994 - val_loss: 0.0615 - val_accuracy: 0.9814\n",
            "Epoch 5/20\n",
            "138/138 [==============================] - 3s 18ms/step - loss: 0.0050 - accuracy: 0.9995 - val_loss: 0.0611 - val_accuracy: 0.9810\n",
            "Epoch 6/20\n",
            "138/138 [==============================] - 2s 18ms/step - loss: 0.0026 - accuracy: 1.0000 - val_loss: 0.0609 - val_accuracy: 0.9814\n",
            "Epoch 7/20\n",
            "138/138 [==============================] - 3s 18ms/step - loss: 0.0015 - accuracy: 1.0000 - val_loss: 0.0612 - val_accuracy: 0.9805\n",
            "Epoch 8/20\n",
            "138/138 [==============================] - 2s 18ms/step - loss: 0.0011 - accuracy: 1.0000 - val_loss: 0.0627 - val_accuracy: 0.9801\n",
            "Epoch 00008: early stopping\n",
            "87/87 [==============================] - 0s 2ms/step - loss: 0.0406 - accuracy: 0.9877\n",
            "Accuracy 98.76677393913269\n"
          ],
          "name": "stdout"
        }
      ]
    },
    {
      "cell_type": "markdown",
      "metadata": {
        "id": "B0IdSKiJtzgd"
      },
      "source": [
        "#### Predykcja na zbiorze validacyjnym"
      ]
    },
    {
      "cell_type": "code",
      "metadata": {
        "colab": {
          "base_uri": "https://localhost:8080/"
        },
        "id": "27dr_LCO_1IW",
        "outputId": "d97f37b6-cca2-409b-d857-259a21b356a7"
      },
      "source": [
        "# oczysczenie danych\n",
        "data_set_valid[\"clean_text_placeholder\"] = data_set_valid[\"text\"].apply(lambda x: placeholder(x))\n",
        "\n",
        "# labelencoder \n",
        "data_set_valid[\"labelencoder\"] = labelencoder.fit_transform(data_set_valid[\"label\"])\n",
        "\n",
        "# tokenizacja weg przetrenowanego już tokenizera\n",
        "X_validate = tokenizer.texts_to_sequences(data_set_valid[\"clean_text_placeholder\"])\n",
        "\n",
        "# pad sequel\n",
        "X_validate = pad_sequences(X_validate, padding=\"post\", truncating=\"post\", maxlen=maxlen)\n",
        "X_validate"
      ],
      "execution_count": 76,
      "outputs": [
        {
          "output_type": "execute_result",
          "data": {
            "text/plain": [
              "array([[  16,   43,   52, ...,    0,    0,    0],\n",
              "       [ 244,  178,   22, ...,    0,    0,    0],\n",
              "       [  16,    9,    1, ...,    2,  175,  999],\n",
              "       ...,\n",
              "       [  29,    1,   84, ...,    0,    0,    0],\n",
              "       [  16,    9,    1, ...,    0,    0,    0],\n",
              "       [  47,   41,    4, ..., 1647,    0,    0]], dtype=int32)"
            ]
          },
          "metadata": {
            "tags": []
          },
          "execution_count": 76
        }
      ]
    },
    {
      "cell_type": "code",
      "metadata": {
        "colab": {
          "base_uri": "https://localhost:8080/"
        },
        "id": "UOPVqktyANNF",
        "outputId": "901baec4-c586-4568-edd5-c435b543885d"
      },
      "source": [
        "dummy_y_valid = data_set_valid[\"labelencoder\"].values\n",
        "dummy_y_valid[:5]"
      ],
      "execution_count": 77,
      "outputs": [
        {
          "output_type": "execute_result",
          "data": {
            "text/plain": [
              "array([6, 3, 2, 0, 6])"
            ]
          },
          "metadata": {
            "tags": []
          },
          "execution_count": 77
        }
      ]
    },
    {
      "cell_type": "code",
      "metadata": {
        "colab": {
          "base_uri": "https://localhost:8080/"
        },
        "id": "NAiFC304APqL",
        "outputId": "a96fd8ef-7d80-47a5-983d-db3b5aacde53"
      },
      "source": [
        "# Sprawdzenie rozmiaru zbiorów validacyjnego\n",
        "X_validate.shape, dummy_y_valid.shape"
      ],
      "execution_count": 78,
      "outputs": [
        {
          "output_type": "execute_result",
          "data": {
            "text/plain": [
              "((700, 13), (700,))"
            ]
          },
          "metadata": {
            "tags": []
          },
          "execution_count": 78
        }
      ]
    },
    {
      "cell_type": "code",
      "metadata": {
        "colab": {
          "base_uri": "https://localhost:8080/"
        },
        "id": "WRbEdb7AAXGy",
        "outputId": "886ed7a6-ec2e-411a-ee97-ddf52e0e8163"
      },
      "source": [
        "predicted_lstm_val = np.argmax(model.predict(X_validate), axis=-1)\n",
        "predicted_lstm_val[:5]"
      ],
      "execution_count": 79,
      "outputs": [
        {
          "output_type": "execute_result",
          "data": {
            "text/plain": [
              "array([6, 3, 2, 0, 6])"
            ]
          },
          "metadata": {
            "tags": []
          },
          "execution_count": 79
        }
      ]
    },
    {
      "cell_type": "markdown",
      "metadata": {
        "id": "_5wZwn-_uKE9"
      },
      "source": [
        "#### Rozkodowanie przewidzianych i prawidłowych etykiet"
      ]
    },
    {
      "cell_type": "code",
      "metadata": {
        "colab": {
          "base_uri": "https://localhost:8080/"
        },
        "id": "G4U9hYvnBJ9F",
        "outputId": "944472d0-a563-4dbb-8b53-410280da4fc9"
      },
      "source": [
        "y_pred = labelencoder.inverse_transform(predicted_lstm_val)\n",
        "y_pred = pd.Series(y_pred)\n",
        "y_pred.head()"
      ],
      "execution_count": 80,
      "outputs": [
        {
          "output_type": "execute_result",
          "data": {
            "text/plain": [
              "0    SearchScreeningEvent\n",
              "1               PlayMusic\n",
              "2              GetWeather\n",
              "3           AddToPlaylist\n",
              "4    SearchScreeningEvent\n",
              "dtype: object"
            ]
          },
          "metadata": {
            "tags": []
          },
          "execution_count": 80
        }
      ]
    },
    {
      "cell_type": "code",
      "metadata": {
        "colab": {
          "base_uri": "https://localhost:8080/"
        },
        "id": "EW03pUanA729",
        "outputId": "ff4c87b6-3338-4bd7-f96d-13c9bedd7405"
      },
      "source": [
        "y_val = labelencoder.inverse_transform(dummy_y_valid)\n",
        "y_val = pd.Series(y_val)\n",
        "y_val.head()"
      ],
      "execution_count": 81,
      "outputs": [
        {
          "output_type": "execute_result",
          "data": {
            "text/plain": [
              "0    SearchScreeningEvent\n",
              "1               PlayMusic\n",
              "2              GetWeather\n",
              "3           AddToPlaylist\n",
              "4    SearchScreeningEvent\n",
              "dtype: object"
            ]
          },
          "metadata": {
            "tags": []
          },
          "execution_count": 81
        }
      ]
    },
    {
      "cell_type": "markdown",
      "metadata": {
        "id": "RcGfyRgQudTZ"
      },
      "source": [
        "#### `Confusion matrix`"
      ]
    },
    {
      "cell_type": "code",
      "metadata": {
        "id": "GXVwswIsA9RT"
      },
      "source": [
        "from sklearn.metrics import accuracy_score, f1_score, classification_report, confusion_matrix\n",
        "%matplotlib inline\n",
        "from matplotlib import pyplot as plt\n",
        "import seaborn as sns"
      ],
      "execution_count": 82,
      "outputs": []
    },
    {
      "cell_type": "code",
      "metadata": {
        "colab": {
          "base_uri": "https://localhost:8080/",
          "height": 704
        },
        "id": "fGr6-cjzBFLc",
        "outputId": "97bc4595-ef62-48dc-afcf-790d4b4fb690"
      },
      "source": [
        "classes = np.unique(y_val)\n",
        "\n",
        "print('Accuracy:', round(accuracy_score(y_val, y_pred),2))\n",
        "print('F1_score:', round(f1_score(y_val, y_pred, average='weighted'),2))\n",
        "\n",
        "print(classification_report(y_val, y_pred))\n",
        "# Plot confusion matrix\n",
        "cm = confusion_matrix(y_val, y_pred)\n",
        "fig, ax = plt.subplots()\n",
        "sns.heatmap(cm, annot=True, fmt='d', ax=ax, cmap=plt.cm.Blues, cbar=False)\n",
        "ax.set(xlabel='Pred', ylabel='True', xticklabels=classes, yticklabels=classes, title='Confusion matrix')\n",
        "plt.yticks(rotation=0)\n",
        "plt.xticks(rotation=90)"
      ],
      "execution_count": 83,
      "outputs": [
        {
          "output_type": "stream",
          "text": [
            "Accuracy: 0.99\n",
            "F1_score: 0.99\n",
            "                      precision    recall  f1-score   support\n",
            "\n",
            "       AddToPlaylist       0.98      1.00      0.99       100\n",
            "      BookRestaurant       0.99      1.00      1.00       100\n",
            "          GetWeather       1.00      0.98      0.99       100\n",
            "           PlayMusic       1.00      0.97      0.98       100\n",
            "            RateBook       1.00      1.00      1.00       100\n",
            "  SearchCreativeWork       0.95      0.99      0.97       100\n",
            "SearchScreeningEvent       0.99      0.97      0.98       100\n",
            "\n",
            "            accuracy                           0.99       700\n",
            "           macro avg       0.99      0.99      0.99       700\n",
            "        weighted avg       0.99      0.99      0.99       700\n",
            "\n"
          ],
          "name": "stdout"
        },
        {
          "output_type": "execute_result",
          "data": {
            "text/plain": [
              "(array([0.5, 1.5, 2.5, 3.5, 4.5, 5.5, 6.5]),\n",
              " <a list of 7 Text major ticklabel objects>)"
            ]
          },
          "metadata": {
            "tags": []
          },
          "execution_count": 83
        },
        {
          "output_type": "display_data",
          "data": {
            "image/png": "[encoded data removed]",
            "text/plain": [
              "<Figure size 432x288 with 1 Axes>"
            ]
          },
          "metadata": {
            "tags": [],
            "needs_background": "light"
          }
        }
      ]
    },
    {
      "cell_type": "markdown",
      "metadata": {
        "id": "9uxfqF9uum32"
      },
      "source": [
        "#### Zapoznanie się z błędnymi predykcjami "
      ]
    },
    {
      "cell_type": "code",
      "metadata": {
        "colab": {
          "base_uri": "https://localhost:8080/"
        },
        "id": "28QYnOPM-mJz",
        "outputId": "76f0219c-3502-4479-a577-fea840005b11"
      },
      "source": [
        "# pobranie indexów błędnie przewidzianych etykiet \n",
        "indexes = []\n",
        "for i, phrase in enumerate(y_pred):\n",
        "  if phrase != y_val[i]:                                      #  Wszysktie błędne predykcje\n",
        "    # if phrase == 'SearchCreativeWork':            #  konkretna klasa 1\n",
        "    #   if y_val[i] == 'SearchScreeningEvent':      #  konkretna klasa 2\n",
        "        indexes.append(i)\n",
        "print(indexes)"
      ],
      "execution_count": 84,
      "outputs": [
        {
          "output_type": "stream",
          "text": [
            "[252, 284, 367, 481, 499, 519, 567, 648, 689]\n"
          ],
          "name": "stdout"
        }
      ]
    },
    {
      "cell_type": "code",
      "metadata": {
        "id": "B6WT2iSas4Ju",
        "outputId": "5c31c7f1-2a3a-4872-8f41-501666cb33e3",
        "colab": {
          "base_uri": "https://localhost:8080/"
        }
      },
      "source": [
        "# ustadaryzowanie obliczonego prawdopodobieństwa dla wystapienia danej etykiety \n",
        "import warnings\n",
        "warnings.filterwarnings('ignore')\n",
        "\n",
        "y_proba = [      [  round(j*100, 4) for j in i  ]       for i in model.predict_proba(X_validate)    ]\n",
        "y_proba[:2]"
      ],
      "execution_count": 85,
      "outputs": [
        {
          "output_type": "execute_result",
          "data": {
            "text/plain": [
              "[[0.0, 0.0, 0.0, 0.0, 0.0, 0.0, 100.0],\n",
              " [0.3965, 0.0227, 0.0069, 96.1216, 0.0337, 3.3857, 0.033]]"
            ]
          },
          "metadata": {
            "tags": []
          },
          "execution_count": 85
        }
      ]
    },
    {
      "cell_type": "code",
      "metadata": {
        "colab": {
          "base_uri": "https://localhost:8080/"
        },
        "id": "ouy1yzy8-048",
        "outputId": "3aaee7a0-824d-43d2-dd58-481c6c1ea55e"
      },
      "source": [
        "for i in indexes:\n",
        "  print(f\"----------------------------\\nTekst komendy id {i}:\\n{data_set_valid['text'][i]}\\n\")\n",
        "  print(f\"Oczyszczona komenda i skrócona do wartości maxlen={maxlen}:\\n{' '.join(data_set_valid['clean_text_placeholder'][i].split()[:maxlen])}\\n\")\n",
        "  print(f'True category: {y_val[i]} - probability - {y_proba[i][labelencoder.transform([y_val[i]])[0]]}%')\n",
        "  print(f'Predicted category: {y_pred[i]} - probability - {y_proba[i][labelencoder.transform([y_pred[i]])[0]]}%')\n",
        "  print(\"\\n\")"
      ],
      "execution_count": 86,
      "outputs": [
        {
          "output_type": "stream",
          "text": [
            "----------------------------\n",
            "Tekst komendy id 252:\n",
            "can you put on Like A Hurricane by Paul Landers\n",
            "\n",
            "Oczyszczona komenda i skrócona do wartości maxlen=13:\n",
            "can you put on like hurricane by paul landers\n",
            "\n",
            "True category: PlayMusic - probability - 9.8797%\n",
            "Predicted category: AddToPlaylist - probability - 89.8746%\n",
            "\n",
            "\n",
            "----------------------------\n",
            "Tekst komendy id 284:\n",
            "Find the album Orphan Girl at the Cemetery\n",
            "\n",
            "Oczyszczona komenda i skrócona do wartości maxlen=13:\n",
            "find the album orphan girl at the cemetery\n",
            "\n",
            "True category: SearchCreativeWork - probability - 38.5751%\n",
            "Predicted category: SearchScreeningEvent - probability - 61.2024%\n",
            "\n",
            "\n",
            "----------------------------\n",
            "Tekst komendy id 367:\n",
            "overcast on State Holiday in Pawling Nature Reserve  and neighboring places\n",
            "\n",
            "Oczyszczona komenda i skrócona do wartości maxlen=13:\n",
            "overcast on state holiday in pawling nature reserve and neighboring places\n",
            "\n",
            "True category: GetWeather - probability - 21.2288%\n",
            "Predicted category: BookRestaurant - probability - 77.0495%\n",
            "\n",
            "\n",
            "----------------------------\n",
            "Tekst komendy id 481:\n",
            "Live In L.aJoseph Meyer please\n",
            "\n",
            "Oczyszczona komenda i skrócona do wartości maxlen=13:\n",
            "live in <link> meyer please\n",
            "\n",
            "True category: PlayMusic - probability - 2.1072%\n",
            "Predicted category: SearchCreativeWork - probability - 94.1817%\n",
            "\n",
            "\n",
            "----------------------------\n",
            "Tekst komendy id 499:\n",
            "Put What Color Is Your Sky by Alana Davis on the stereo.\n",
            "\n",
            "Oczyszczona komenda i skrócona do wartości maxlen=13:\n",
            "put what color is your sky by alana davis on the stereo\n",
            "\n",
            "True category: PlayMusic - probability - 2.5651%\n",
            "Predicted category: AddToPlaylist - probability - 87.4375%\n",
            "\n",
            "\n",
            "----------------------------\n",
            "Tekst komendy id 519:\n",
            "i want to see JLA Adventures: Trapped In Time\n",
            "\n",
            "Oczyszczona komenda i skrócona do wartości maxlen=13:\n",
            "want to see jla adventures trapped in time\n",
            "\n",
            "True category: SearchScreeningEvent - probability - 31.6523%\n",
            "Predicted category: SearchCreativeWork - probability - 66.6103%\n",
            "\n",
            "\n",
            "----------------------------\n",
            "Tekst komendy id 567:\n",
            "Where is Belgium located\n",
            "\n",
            "Oczyszczona komenda i skrócona do wartości maxlen=13:\n",
            "where is belgium located\n",
            "\n",
            "True category: GetWeather - probability - 6.195%\n",
            "Predicted category: SearchCreativeWork - probability - 78.3892%\n",
            "\n",
            "\n",
            "----------------------------\n",
            "Tekst komendy id 648:\n",
            "I want to see Outcast.\n",
            "\n",
            "Oczyszczona komenda i skrócona do wartości maxlen=13:\n",
            "want to see outcast\n",
            "\n",
            "True category: SearchScreeningEvent - probability - 33.1666%\n",
            "Predicted category: SearchCreativeWork - probability - 65.003%\n",
            "\n",
            "\n",
            "----------------------------\n",
            "Tekst komendy id 689:\n",
            "I want to see Fear Chamber.\n",
            "\n",
            "Oczyszczona komenda i skrócona do wartości maxlen=13:\n",
            "want to see fear chamber\n",
            "\n",
            "True category: SearchScreeningEvent - probability - 30.1598%\n",
            "Predicted category: SearchCreativeWork - probability - 68.9372%\n",
            "\n",
            "\n"
          ],
          "name": "stdout"
        }
      ]
    },
    {
      "cell_type": "markdown",
      "metadata": {
        "id": "lm61MY9CSpLm"
      },
      "source": [
        "Wnioski:\n",
        "> "
      ]
    },
    {
      "cell_type": "code",
      "metadata": {
        "id": "Klnp99BGNgm8"
      },
      "source": [
        ""
      ],
      "execution_count": 86,
      "outputs": []
    }
  ]
}