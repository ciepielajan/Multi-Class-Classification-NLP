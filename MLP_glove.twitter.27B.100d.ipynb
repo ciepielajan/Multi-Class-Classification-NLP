{
  "nbformat": 4,
  "nbformat_minor": 0,
  "metadata": {
    "colab": {
      "name": "Detecting_intentions_MLP",
      "provenance": [],
      "collapsed_sections": [],
      "authorship_tag": "ABX9TyPtOnUaP6UYQTes1svKwL7y",
      "include_colab_link": true
    },
    "kernelspec": {
      "name": "python3",
      "display_name": "Python 3"
    },
    "language_info": {
      "name": "python"
    }
  },
  "cells": [
    {
      "cell_type": "markdown",
      "metadata": {
        "id": "view-in-github",
        "colab_type": "text"
      },
      "source": [
        "<a href=\"https://colab.research.google.com/github/ciepielajan/Multi-Class-Classification-NLP/blob/main/MLP_glove.twitter.27B.100d.ipynb\" target=\"_parent\"><img src=\"https://colab.research.google.com/assets/colab-badge.svg\" alt=\"Open In Colab\"/></a>"
      ]
    },
    {
      "cell_type": "markdown",
      "metadata": {
        "id": "1hGQwfjvao9d"
      },
      "source": [
        "MLP_glove.twitter.27B.100d"
      ]
    },
    {
      "cell_type": "markdown",
      "metadata": {
        "id": "us7PJ6w-n8ge"
      },
      "source": [
        "#### Pobranie danych"
      ]
    },
    {
      "cell_type": "code",
      "metadata": {
        "colab": {
          "base_uri": "https://localhost:8080/"
        },
        "id": "cZ_7ET22CAsA",
        "outputId": "432d79d7-864d-4144-bcf9-863545373099"
      },
      "source": [
        "# https://drive.google.com/file/d/1fI6EXyD9TMTC1jzdu206ljXOGNjdHprq/view?usp=sharing\n",
        "!gdown --id \"1fI6EXyD9TMTC1jzdu206ljXOGNjdHprq\""
      ],
      "execution_count": 1,
      "outputs": [
        {
          "output_type": "stream",
          "text": [
            "Downloading...\n",
            "From: https://drive.google.com/uc?id=1fI6EXyD9TMTC1jzdu206ljXOGNjdHprq\n",
            "To: /content/user_intent.zip\n",
            "\r  0% 0.00/271k [00:00<?, ?B/s]\r100% 271k/271k [00:00<00:00, 39.6MB/s]\n"
          ],
          "name": "stdout"
        }
      ]
    },
    {
      "cell_type": "code",
      "metadata": {
        "colab": {
          "base_uri": "https://localhost:8080/"
        },
        "id": "uWusnzuPCHqv",
        "outputId": "2728830c-36f0-4d5b-af08-fd2c1186a9a0"
      },
      "source": [
        "!unzip \"user_intent.zip\""
      ],
      "execution_count": 2,
      "outputs": [
        {
          "output_type": "stream",
          "text": [
            "Archive:  user_intent.zip\n",
            "  inflating: train.csv               \n",
            "  inflating: __MACOSX/._train.csv    \n",
            "  inflating: validation.csv          \n"
          ],
          "name": "stdout"
        }
      ]
    },
    {
      "cell_type": "code",
      "metadata": {
        "id": "9CI1LZgj-Kin"
      },
      "source": [
        ""
      ],
      "execution_count": 2,
      "outputs": []
    },
    {
      "cell_type": "code",
      "metadata": {
        "colab": {
          "base_uri": "https://localhost:8080/"
        },
        "id": "NUKeVYWfCOdU",
        "outputId": "14b1eee7-8bed-489e-c30e-ab888aa9c31d"
      },
      "source": [
        "import pandas as pd\n",
        "import numpy as np\n",
        "from datetime import datetime\n",
        "\n",
        "data_set_train = pd.read_csv(\"train.csv\")\n",
        "data_set_valid = pd.read_csv(\"validation.csv\")\n",
        "\n",
        "print(data_set_train.shape)\n",
        "print(data_set_valid.shape)\n",
        "\n",
        "print(data_set_train.columns)\n",
        "print(data_set_valid.columns)"
      ],
      "execution_count": 3,
      "outputs": [
        {
          "output_type": "stream",
          "text": [
            "(13784, 2)\n",
            "(700, 2)\n",
            "Index(['text', 'label'], dtype='object')\n",
            "Index(['text', 'label'], dtype='object')\n"
          ],
          "name": "stdout"
        }
      ]
    },
    {
      "cell_type": "markdown",
      "metadata": {
        "id": "8Vg1fqbGoCrp"
      },
      "source": [
        "#### Podstawowy process text"
      ]
    },
    {
      "cell_type": "code",
      "metadata": {
        "id": "5GQNuCjSlz0F"
      },
      "source": [
        "import re\n",
        "def process_text(sentence):\n",
        "    sentence = re.sub('[A-Za-z0-9]+@[a-zA-z].[a-zA-Z]+', '', sentence)  # maile\n",
        "    sentence = re.sub('(http[s]*:[/][/])[a-zA-Z0-9]+', '', sentence)  # linki\n",
        "    sentence = re.sub(r\"<[^>]+>\", \" \", sentence) # remove html tag\n",
        "    sentence = re.sub(r\"[^a-zA-Z\\s]\", \"\", sentence)  # remove punctuations and numbers   \n",
        "    sentence = re.sub(r\"\\b[A-Za-z]{1}\\b\", \"\", sentence)  # remove single characters\n",
        "\n",
        "    sentence = re.sub(\"^\\s+|\\s+$\", \"\", sentence, flags=re.UNICODE) # Remove spaces both in the BEGINNING and in the END of a string:\n",
        "    sentence = \" \".join(re.split(\"\\s+\", sentence, flags=re.UNICODE))  # Remove ONLY DUPLICATE spaces:\n",
        "    sentence = sentence.lower()\n",
        "    \n",
        "    return sentence"
      ],
      "execution_count": 4,
      "outputs": []
    },
    {
      "cell_type": "code",
      "metadata": {
        "id": "RZJOju1sFOwp"
      },
      "source": [
        "data_set_train[\"clean_text\"] = data_set_train[\"text\"].apply(lambda x: process_text(x))"
      ],
      "execution_count": 5,
      "outputs": []
    },
    {
      "cell_type": "markdown",
      "metadata": {
        "id": "7epaW5cXoXef"
      },
      "source": [
        "#### `LabelEncoder` oraz `to_categorical`"
      ]
    },
    {
      "cell_type": "code",
      "metadata": {
        "colab": {
          "base_uri": "https://localhost:8080/",
          "height": 195
        },
        "id": "022rNoaL-xbl",
        "outputId": "6cdd3ca3-505f-4b5f-df58-5f0886737ab8"
      },
      "source": [
        "from sklearn.preprocessing import LabelEncoder\n",
        "from keras.utils import to_categorical \n",
        "\n",
        "\n",
        "labelencoder = LabelEncoder()\n",
        "data_set_train[\"labelencoder\"] = labelencoder.fit_transform(data_set_train[\"label\"])\n",
        "\n",
        "dummy_y = to_categorical(data_set_train[\"labelencoder\"], dtype =\"float32\")\n",
        "\n",
        "data_set_train[[\"clean_text\",\"label\",\"labelencoder\"]].head(5)"
      ],
      "execution_count": 6,
      "outputs": [
        {
          "output_type": "execute_result",
          "data": {
            "text/html": [
              "<div>\n",
              "<style scoped>\n",
              "    .dataframe tbody tr th:only-of-type {\n",
              "        vertical-align: middle;\n",
              "    }\n",
              "\n",
              "    .dataframe tbody tr th {\n",
              "        vertical-align: top;\n",
              "    }\n",
              "\n",
              "    .dataframe thead th {\n",
              "        text-align: right;\n",
              "    }\n",
              "</style>\n",
              "<table border=\"1\" class=\"dataframe\">\n",
              "  <thead>\n",
              "    <tr style=\"text-align: right;\">\n",
              "      <th></th>\n",
              "      <th>clean_text</th>\n",
              "      <th>label</th>\n",
              "      <th>labelencoder</th>\n",
              "    </tr>\n",
              "  </thead>\n",
              "  <tbody>\n",
              "    <tr>\n",
              "      <th>0</th>\n",
              "      <td>find cinema nearest for films</td>\n",
              "      <td>SearchScreeningEvent</td>\n",
              "      <td>6</td>\n",
              "    </tr>\n",
              "    <tr>\n",
              "      <th>1</th>\n",
              "      <td>give the current series two stars</td>\n",
              "      <td>RateBook</td>\n",
              "      <td>4</td>\n",
              "    </tr>\n",
              "    <tr>\n",
              "      <th>2</th>\n",
              "      <td>find the good girl at movie house</td>\n",
              "      <td>SearchScreeningEvent</td>\n",
              "      <td>6</td>\n",
              "    </tr>\n",
              "    <tr>\n",
              "      <th>3</th>\n",
              "      <td>please make reservations for three at kosher t...</td>\n",
              "      <td>BookRestaurant</td>\n",
              "      <td>1</td>\n",
              "    </tr>\n",
              "    <tr>\n",
              "      <th>4</th>\n",
              "      <td>what is the forecast for here one second from now</td>\n",
              "      <td>GetWeather</td>\n",
              "      <td>2</td>\n",
              "    </tr>\n",
              "  </tbody>\n",
              "</table>\n",
              "</div>"
            ],
            "text/plain": [
              "                                          clean_text  ... labelencoder\n",
              "0                      find cinema nearest for films  ...            6\n",
              "1                  give the current series two stars  ...            4\n",
              "2                  find the good girl at movie house  ...            6\n",
              "3  please make reservations for three at kosher t...  ...            1\n",
              "4  what is the forecast for here one second from now  ...            2\n",
              "\n",
              "[5 rows x 3 columns]"
            ]
          },
          "metadata": {
            "tags": []
          },
          "execution_count": 6
        }
      ]
    },
    {
      "cell_type": "code",
      "metadata": {
        "colab": {
          "base_uri": "https://localhost:8080/"
        },
        "id": "-RfsD1LSpSag",
        "outputId": "5f74b7ec-8722-45f6-819a-063ed8bc14e7"
      },
      "source": [
        "dummy_y.shape"
      ],
      "execution_count": 7,
      "outputs": [
        {
          "output_type": "execute_result",
          "data": {
            "text/plain": [
              "(13784, 7)"
            ]
          },
          "metadata": {
            "tags": []
          },
          "execution_count": 7
        }
      ]
    },
    {
      "cell_type": "code",
      "metadata": {
        "colab": {
          "base_uri": "https://localhost:8080/"
        },
        "id": "S4dq1macoeQC",
        "outputId": "74b6ac86-962b-471e-e999-a4bc148ac793"
      },
      "source": [
        "id_intention = 6\n",
        "print(\"Sprawdzenie poprawności LabelEncoder i to_categorical \\n\")\n",
        "print(\"Label - \", data_set_train[\"label\"].iloc[id_intention])\n",
        "print(\"LabelEncoder - \", data_set_train[\"labelencoder\"].iloc[id_intention])\n",
        "print()\n",
        "print(\"to_categorical - \", dummy_y[id_intention])\n",
        "print()\n",
        "print(\"return to LabelEncoder - \",np.argmax(dummy_y[id_intention], axis=-1))\n",
        "print(\"return to Label - \",labelencoder.inverse_transform([np.argmax(dummy_y[id_intention], axis=-1)]))"
      ],
      "execution_count": 8,
      "outputs": [
        {
          "output_type": "stream",
          "text": [
            "Sprawdzenie poprawności LabelEncoder i to_categorical \n",
            "\n",
            "Label -  BookRestaurant\n",
            "LabelEncoder -  1\n",
            "\n",
            "to_categorical -  [0. 1. 0. 0. 0. 0. 0.]\n",
            "\n",
            "return to LabelEncoder -  1\n",
            "return to Label -  ['BookRestaurant']\n"
          ],
          "name": "stdout"
        }
      ]
    },
    {
      "cell_type": "markdown",
      "metadata": {
        "id": "-lZTDFgGoSmT"
      },
      "source": [
        "#### Zdefiniowanie X i y"
      ]
    },
    {
      "cell_type": "code",
      "metadata": {
        "id": "JWd9mEjfBAS2"
      },
      "source": [
        "X = data_set_train[\"clean_text\"]\n",
        "y = dummy_y"
      ],
      "execution_count": 9,
      "outputs": []
    },
    {
      "cell_type": "code",
      "metadata": {
        "colab": {
          "base_uri": "https://localhost:8080/"
        },
        "id": "8jUlcX2npzFs",
        "outputId": "fa27683f-1e6b-40dd-9cbf-83e989507b79"
      },
      "source": [
        "X.shape, y.shape"
      ],
      "execution_count": 10,
      "outputs": [
        {
          "output_type": "execute_result",
          "data": {
            "text/plain": [
              "((13784,), (13784, 7))"
            ]
          },
          "metadata": {
            "tags": []
          },
          "execution_count": 10
        }
      ]
    },
    {
      "cell_type": "markdown",
      "metadata": {
        "id": "9mS_l8wZoO2R"
      },
      "source": [
        "#### Podział zbioru "
      ]
    },
    {
      "cell_type": "code",
      "metadata": {
        "id": "A18D02x5sjFd"
      },
      "source": [
        "from sklearn.model_selection import train_test_split\n",
        "\n",
        "X_train, X_test, y_train, y_test = train_test_split(X, y, test_size=0.2, random_state=42)"
      ],
      "execution_count": 11,
      "outputs": []
    },
    {
      "cell_type": "code",
      "metadata": {
        "colab": {
          "base_uri": "https://localhost:8080/"
        },
        "id": "i_xH9XIGuYCG",
        "outputId": "9a140e58-3846-4b36-8fb3-40710f9e7af2"
      },
      "source": [
        "X_train.shape, X_test.shape, y_train.shape, y_test.shape"
      ],
      "execution_count": 12,
      "outputs": [
        {
          "output_type": "execute_result",
          "data": {
            "text/plain": [
              "((11027,), (2757,), (11027, 7), (2757, 7))"
            ]
          },
          "metadata": {
            "tags": []
          },
          "execution_count": 12
        }
      ]
    },
    {
      "cell_type": "code",
      "metadata": {
        "id": "-DR0gkd1_Uv0"
      },
      "source": [
        ""
      ],
      "execution_count": 12,
      "outputs": []
    },
    {
      "cell_type": "markdown",
      "metadata": {
        "id": "chWlDg9Mtmya"
      },
      "source": [
        "#### `Tokenizer` i `pad_sequences`"
      ]
    },
    {
      "cell_type": "code",
      "metadata": {
        "id": "LCm-rbaus6QG"
      },
      "source": [
        "from keras.preprocessing.sequence import pad_sequences\n",
        "from keras.preprocessing.text import Tokenizer"
      ],
      "execution_count": 13,
      "outputs": []
    },
    {
      "cell_type": "code",
      "metadata": {
        "id": "U-ihmlc-s6QG"
      },
      "source": [
        "tokenizer = Tokenizer(num_words=5000)\n",
        "tokenizer.fit_on_texts(X_train)\n",
        "\n",
        "X_train = tokenizer.texts_to_sequences(X_train)\n",
        "X_test = tokenizer.texts_to_sequences(X_test)\n",
        "\n",
        "maxlen = 13\n",
        "vocab_size = len(tokenizer.word_index) + 1\n",
        "\n",
        "X_train = pad_sequences(X_train, padding=\"post\", truncating=\"post\", maxlen=maxlen)\n",
        "X_test = pad_sequences(X_test, padding=\"post\", truncating=\"post\", maxlen=maxlen)"
      ],
      "execution_count": 14,
      "outputs": []
    },
    {
      "cell_type": "markdown",
      "metadata": {
        "id": "s1-W369vaxPo"
      },
      "source": [
        "#### Pobranie glove.twitter"
      ]
    },
    {
      "cell_type": "code",
      "metadata": {
        "id": "GXlya8aOa1d_",
        "colab": {
          "base_uri": "https://localhost:8080/"
        },
        "outputId": "95a1b583-18f0-4dae-84f0-890e62c3689a"
      },
      "source": [
        "# https://drive.google.com/uc?id=1NQ2hZDdQ0I-0k63m5p8LFcACbPe0DT1P\n",
        "# glove.twitter.27B.zip  \n",
        "  # inflating: glove.twitter.27B.25d.txt  \n",
        "  # inflating: glove.twitter.27B.50d.txt  \n",
        "  # inflating: glove.twitter.27B.100d.txt  \n",
        "  # inflating: glove.twitter.27B.200d.txt \n",
        "\n",
        "!gdown --id \"1NQ2hZDdQ0I-0k63m5p8LFcACbPe0DT1P\"\n",
        "!unzip \"glove.twitter.27B.zip\""
      ],
      "execution_count": 15,
      "outputs": [
        {
          "output_type": "stream",
          "text": [
            "Downloading...\n",
            "From: https://drive.google.com/uc?id=1NQ2hZDdQ0I-0k63m5p8LFcACbPe0DT1P\n",
            "To: /content/glove.twitter.27B.zip\n",
            "1.52GB [00:17, 86.1MB/s]\n",
            "Archive:  glove.twitter.27B.zip\n",
            "  inflating: glove.twitter.27B.25d.txt  \n",
            "  inflating: glove.twitter.27B.50d.txt  \n",
            "  inflating: glove.twitter.27B.100d.txt  \n",
            "  inflating: glove.twitter.27B.200d.txt  \n"
          ],
          "name": "stdout"
        }
      ]
    },
    {
      "cell_type": "code",
      "metadata": {
        "colab": {
          "base_uri": "https://localhost:8080/"
        },
        "id": "dZKjZoqJXw4F",
        "outputId": "4174363c-fdbc-4d20-e29c-dc7fdad8872b"
      },
      "source": [
        "!head -15 \"glove.twitter.27B.100d.txt\""
      ],
      "execution_count": 16,
      "outputs": [
        {
          "output_type": "stream",
          "text": [
            "<user> 0.63006 0.65177 0.25545 0.018593 0.043094 0.047194 0.23218 0.11613 0.17371 0.40487 0.022524 -0.076731 -2.2911 0.094127 0.43293 0.041801 0.063175 -0.64486 -0.43657 0.024114 -0.082989 0.21686 -0.13462 -0.22336 0.39436 -2.1724 -0.39544 0.16536 0.39438 -0.35182 -0.14996 0.10502 -0.45937 0.27729 0.8924 -0.042313 -0.009345 0.55017 0.095521 0.070504 -1.1781 0.013723 0.17742 0.74142 0.17716 0.038468 -0.31684 0.08941 0.20557 -0.34328 -0.64303 -0.878 -0.16293 -0.055925 0.33898 0.60664 -0.2774 0.33626 0.21603 -0.11051 0.0058673 -0.64757 -0.068222 -0.77414 0.13911 -0.15851 -0.61885 -0.10192 -0.47 0.19787 0.42175 -0.18458 0.080581 -0.22545 -0.065129 -0.15328 0.087726 -0.18817 -0.08371 0.21779 0.97899 0.1092 0.022705 -0.078234 0.15595 0.083105 -0.6824 0.57469 -0.19942 0.50566 -0.18277 0.37721 -0.12514 -0.42821 -0.81075 -0.39326 -0.17386 0.55096 0.64706 -0.6093\n",
            ". 0.18205 -0.048483 0.23966 0.32099 -0.27002 0.70431 -0.21257 0.235 0.090142 0.82141 0.37843 -0.56382 -2.4447 0.16827 0.24685 0.28649 0.062312 0.067508 -0.58459 -0.45414 -0.22158 0.17423 -0.35558 0.14485 0.49089 -1.7426 -0.54306 -0.51937 0.94795 -0.41739 -0.55238 -0.057398 -0.52663 0.62976 0.097275 0.20637 0.46261 0.089462 0.016019 -0.53854 -1.2043 0.080287 -0.65351 0.044617 0.79527 0.044508 0.53367 0.27444 -0.32461 -0.053683 -0.79304 0.11 0.39762 -0.044155 0.21701 0.27977 -0.25773 0.25085 0.39711 0.32318 0.10245 -0.030471 0.34113 0.17971 0.44436 0.054915 0.22461 -0.80843 -0.11052 0.42366 0.61091 0.55024 0.21958 -0.3029 0.14545 -0.46701 -0.23945 0.035106 -0.50933 -0.12392 0.24526 0.14758 -0.30313 -0.53052 0.80632 0.34566 -0.24541 0.71479 -0.15985 0.40129 -0.10851 -0.61427 -0.0035577 0.037739 -0.33055 -0.094383 0.38617 -0.3358 0.18884 -0.40786\n",
            ": 1.0674 0.45716 0.51463 0.26679 0.19921 -0.072329 0.078455 0.19458 0.42281 0.1928 0.34424 -0.41104 -1.8649 -0.14081 0.23753 0.023077 -0.1115 -0.087478 -0.16193 -0.61093 -0.31741 -0.33686 -0.10769 0.46179 0.17931 -1.6432 -0.20659 0.34077 0.38932 -0.016806 -0.34337 -0.60921 -1.019 0.26511 0.85287 0.28141 -0.012736 0.41456 0.068343 -0.087932 -1.483 -0.072203 0.19278 0.64113 0.074135 -0.36254 -0.24202 -0.12651 0.19001 -0.4018 -0.92765 -0.33716 -0.31579 -0.090995 0.68764 0.35058 -0.12254 0.053486 0.24523 -0.0028901 -0.77917 0.19829 -0.19521 -1.2721 0.71733 -0.73878 -0.16419 -0.31932 0.051843 -0.08174 0.20602 -0.28411 0.4526 -0.47428 -0.40245 -0.6144 -0.056346 -0.53072 0.39851 -7.2866e-05 0.70299 -0.072685 0.45967 0.3748 0.052649 0.1852 -0.61182 1.1638 -0.26429 -0.15449 -0.48257 -0.060027 -0.36757 -0.055639 -0.14887 -0.33543 0.22757 0.13974 0.76487 -0.17314\n",
            "rt 0.6047 0.89542 0.27923 0.033489 0.15873 0.18522 0.30722 0.47445 0.44484 0.7045 0.39528 -0.19818 -2.3884 0.095433 0.10782 0.26263 0.36582 -0.6385 -0.22938 -0.34722 0.10977 0.37367 -0.068053 -0.39421 0.43471 -2.1794 -0.47111 0.087237 0.57989 -0.020883 -0.0695 0.25771 -0.5019 0.41154 1.2178 0.47976 -0.31574 0.52983 0.041575 0.44973 -1.5363 -0.096062 -0.27531 0.52771 0.028587 0.047935 -0.5973 -0.051772 0.11377 -0.4049 -0.54857 -0.65916 -0.38132 -0.39519 0.42961 0.74531 -0.50838 0.40392 0.62699 -0.24798 -0.25386 0.21867 -0.072132 -0.51783 -0.054186 -0.66391 -0.58224 0.060621 -0.54001 0.72242 0.13349 -0.070261 -0.059061 -0.035474 -0.53649 -0.3755 0.11234 -0.3409 -0.13406 0.0078872 0.81973 -0.075774 0.10947 0.26919 -0.069167 0.27475 -0.90546 0.54632 -0.6847 0.35787 -0.015019 0.42209 -0.06252 -0.33265 -0.60945 -0.23269 -0.40932 0.51566 0.84726 0.020946\n",
            ", 0.32299 -0.58293 -0.23327 0.34409 -0.56934 1.3211 -0.086267 0.20526 0.5832 0.47516 0.45729 -0.26095 -2.9556 0.16734 0.4654 0.001953 0.31176 -0.49288 -0.49587 -0.28971 0.20519 -0.095402 -0.55419 0.25766 -0.55587 -2.4797 -0.56455 -0.1794 0.4226 -0.32263 -0.3376 0.4137 -0.26111 0.58089 -0.21375 0.1299 -0.010004 -0.14399 -0.18322 -0.30611 -1.4484 0.72222 -0.4705 0.40947 0.16963 -0.14548 0.10416 0.054201 -0.58036 -0.45506 -0.28475 -0.027517 0.10678 -0.10471 -0.067661 -0.16074 -0.34465 -0.14152 0.39862 0.2999 -0.028444 0.38092 -0.18922 -0.03784 0.27486 0.055035 -0.19807 -0.87173 -0.13253 0.39552 0.3629 0.46096 -0.17526 0.31682 -0.24622 -0.71199 0.17775 -0.93663 -0.10047 0.6859 0.54252 -0.072833 -0.19375 0.5751 0.27908 0.3072 0.18803 1.2644 -0.4354 0.49524 -0.51962 -0.62252 0.03495 0.20205 -0.18469 -0.54402 0.2475 -0.93883 -0.082771 -0.22574\n",
            "<repeat> 0.15955 0.26989 0.20858 0.30543 -0.078765 0.57171 -0.11096 0.40187 0.157 0.70075 0.17793 -0.16058 -2.0023 0.34172 0.06357 -0.00026815 -0.082191 -0.1224 -0.53392 -0.63666 -0.065473 0.22979 0.0038609 0.14067 0.70308 -1.7196 -0.26129 -0.39572 0.86836 -0.25373 -0.60829 -0.069807 -0.43805 0.58822 0.16711 0.28068 0.47312 0.089204 0.036153 -0.2428 -1.1554 0.1446 -0.56071 -0.024045 0.69194 0.064904 0.54029 0.29806 -0.053121 -0.02485 -1.1096 -0.04498 0.50792 0.012867 0.58161 0.25465 -0.12493 0.45379 0.36407 0.047338 -0.16498 -0.25395 0.34337 0.24567 0.36126 -0.09073 -0.01855 -0.83714 -0.29615 0.50266 0.7934 0.39469 0.24411 -0.096259 0.1157 -0.25216 -0.21291 0.41922 -0.36031 -0.40823 0.42863 0.051523 -0.24388 -0.8565 0.49252 0.55513 -0.36313 0.59899 -0.15685 0.24068 -0.27657 -0.39037 -0.03913 -0.0030325 -0.54934 0.089335 0.39065 -0.11433 0.32797 -0.66378\n",
            "<hashtag> 0.12632 -0.67049 0.36077 -0.59244 -0.20898 -0.38867 0.60406 0.11256 0.17291 0.75089 -0.41904 -0.24512 -2.5029 0.044884 -0.11681 -0.65162 -0.82035 0.2772 -0.63401 1.0864 0.20465 0.79896 -0.24333 -0.75383 0.78801 -1.6382 -0.64087 1.0505 0.90609 0.12356 -1.3677 -0.91896 -0.62909 0.16805 1.7366 -0.50556 -0.34257 -0.037407 -0.077894 0.035249 -1.0114 0.077162 -0.13277 -0.6073 1.4327 0.21274 0.49006 -0.12465 -0.31849 -0.48117 -0.71897 -0.31361 0.082422 -0.40866 0.45471 0.20882 0.087377 -0.35028 -0.11497 0.32167 0.20904 -0.59784 -0.64296 0.092053 -0.17296 -0.79641 -0.49189 0.60002 0.68936 -0.068849 0.31007 -0.3655 0.32889 0.54283 -0.037797 0.84533 -1.1667 1.2164 0.086391 -0.48441 1.2335 0.9405 0.90539 0.063121 0.4576 1.1538 -1.164 1.0212 -0.24575 -0.41846 0.30621 -0.49738 -0.030436 -0.20296 -0.34046 -0.0016077 -0.50538 0.66966 1.0386 0.3338\n",
            "<number> 0.41436 -0.066986 0.47485 -0.6039 0.13103 0.40182 -1.0205 0.55811 0.030847 0.88296 -0.20015 0.30581 -2.2959 0.27628 -0.5745 -0.65363 0.015981 -0.078754 0.29041 -0.10476 -0.32831 -0.60674 0.12636 -0.15849 -0.1296 -1.624 -0.43042 -0.8912 0.96105 0.81197 0.40817 -0.61422 -0.12197 0.38899 1.7551 0.67989 -0.26323 -0.72813 0.047063 -0.090324 -2.3259 0.11788 -0.5689 -0.058212 -0.087544 -0.77046 -0.31418 -0.70277 0.3376 -0.42649 -0.71333 -0.67349 -0.31198 0.62908 0.85631 0.42757 0.36119 -0.49708 -0.31234 0.64581 -0.10335 -0.60543 -0.12391 0.31221 -0.17433 0.60417 -0.31664 0.27621 0.70393 -0.75601 0.14436 -0.14913 0.13205 0.6797 0.27813 -0.95859 -0.5562 0.21086 0.6172 -0.68459 1.8256 -0.48079 -0.060844 -0.15566 0.022667 -0.39432 -0.2795 0.72409 0.55935 0.82758 -0.44102 0.091789 0.22119 0.36782 0.83826 -0.5405 0.030171 -0.48167 0.68211 0.36674\n",
            "<url> 0.33292 -0.54203 -0.11322 -0.27659 -0.026186 -0.82087 -0.21403 -0.16494 0.25512 0.73279 -0.28273 0.30562 -2.3428 0.57922 0.28763 -0.99739 -0.092065 -0.38625 -0.056712 0.22435 -0.30217 0.092644 0.23267 0.053841 0.5248 -1.4725 -0.21217 0.60497 1.0452 0.0067332 -0.50481 -1.1028 -1.1451 0.3235 0.89579 -0.42413 -0.17208 -0.086374 -0.62347 -0.25032 -0.91658 0.17972 -0.015353 0.52888 1.3924 0.34129 0.36661 0.052747 -0.3025 -1.0406 -0.31652 -1.1544 -0.42162 -0.17128 0.89121 0.19002 0.080897 0.41373 -0.094438 0.18039 0.54055 -0.98818 -0.23105 -0.36734 0.21701 -0.27166 -0.20397 0.48816 0.28361 0.078591 0.6951 -0.18313 0.7354 0.10051 -0.49952 -0.88482 -1.4918 0.91632 -0.24593 -0.69987 1.2849 0.13556 0.21557 -0.36722 0.70076 0.0094641 -0.53055 0.75533 -0.09199 -0.30924 -0.1522 -0.26417 0.065998 -0.93542 0.69566 -0.31284 0.36152 -0.11462 1.2662 -0.39507\n",
            "! 0.036185 0.29411 0.03156 0.21751 -0.16587 0.44929 0.49443 0.62368 -0.033922 0.19355 0.27376 0.43499 -2.3455 0.3244 0.012303 -0.23421 -0.24621 -0.27055 -0.55345 -0.51206 0.17412 0.16658 0.29378 -0.040161 0.62899 -1.8128 -0.022749 -0.12075 0.74374 -0.59627 -1.3206 0.30431 -0.93824 0.20701 0.73091 0.75277 0.82462 0.226 0.014603 -0.21819 -1.1185 -0.1165 -0.31423 0.026639 0.44155 -0.13145 0.066974 0.37567 0.14028 0.15789 -1.0272 -0.28404 0.82927 -0.48884 0.61885 0.097422 -0.085807 0.62459 -0.024291 0.36697 -0.025851 -0.19389 0.60966 0.64113 0.43067 0.099532 -0.15492 -0.4797 -0.42617 0.49288 1.2589 0.19441 0.089991 0.2043 -0.035499 -0.36655 -0.39695 0.42053 0.29321 0.037006 0.96617 0.325 -0.042747 -0.60854 1.0639 0.97298 -0.34578 0.41912 -0.15533 -0.33438 -0.44822 -0.23847 -0.022452 -0.26315 -0.14168 -0.075722 0.3188 -0.37525 0.47984 -0.87831\n",
            "i -0.00039621 0.4567 0.3389 0.29695 -0.36924 -0.26325 -0.27247 -0.5513 0.4582 0.63605 -0.0080225 -0.43155 -5.5607 0.2901 -0.18375 -0.11136 -0.09475 0.0038869 -0.66665 0.27977 -0.026449 -0.079124 -0.030858 -0.19652 -0.24584 -1.1291 -0.016832 -0.32932 0.12434 -0.27388 -0.51654 0.079321 -0.015876 0.20981 0.19013 0.28153 -0.016484 0.11702 0.5855 0.56655 -1.6504 0.032778 -0.29156 -0.049912 -0.25162 0.13975 0.80455 -0.50464 -0.47144 -0.43065 -0.48675 0.31117 -0.2025 0.017717 0.11674 0.32407 -0.0088009 -0.33196 0.63339 0.45964 0.08813 0.51968 -0.43081 -0.11251 -0.10954 -0.29048 -0.34017 0.6644 -0.2608 0.26643 0.36928 0.13031 0.085236 -1.0711 0.37554 -0.46702 -0.13096 0.31192 -0.19472 -0.48841 1.9495 0.99607 -1.1882 0.29569 0.50478 0.27843 -0.65944 -0.11715 0.41573 -0.25863 0.069533 0.094119 0.33187 -0.2492 -0.3049 -0.12693 -0.53502 -0.4291 1.0746 -0.3655\n",
            "a 0.86323 0.031356 0.10169 0.26639 0.19313 -0.076727 -0.22647 -0.69596 -0.63946 -0.8632 -0.29465 -0.31175 -4.4257 -0.16769 0.23197 -0.0085179 -0.063032 -0.044064 -0.23138 0.59465 -0.1334 -0.61637 -0.019008 -0.31235 -0.2403 -3.112 0.22267 -0.046524 -0.046095 1.1434 0.60818 0.34767 0.36155 0.35258 -0.16617 0.82837 0.35088 -0.23608 -0.25425 0.55587 -1.4276 0.06918 0.015027 -0.45487 0.63978 -0.16407 0.14985 0.94771 0.23274 -0.51445 0.70982 0.60018 0.047234 -0.39084 -0.14794 0.68263 -0.12995 -0.22846 0.43185 -0.10681 0.06544 0.34506 0.089428 0.19983 1.1775 -0.33236 -0.60181 0.38324 -0.090755 -0.15759 -0.23093 -0.88441 0.07837 0.19774 -0.10609 0.28091 0.14899 -0.224 0.20039 -0.23564 1.5186 0.3518 -0.10327 -0.14035 0.084164 0.76701 -0.54544 0.17372 -0.02784 0.4905 0.45353 0.13881 0.091135 0.31961 -0.077948 0.045671 -0.55133 -0.28853 -0.50833 -0.31382\n",
            "\" 0.28017 -0.16326 0.18209 0.66973 0.077076 0.37119 -0.061239 0.69895 0.46422 0.63252 0.81696 -0.28417 -2.3872 -0.23585 0.16898 0.31602 -0.28931 0.2308 0.21087 0.1455 -0.23818 -0.1974 -0.42011 -0.063655 1.1181 -1.7863 -0.32386 -0.35926 0.72493 -0.36847 -0.13781 -0.12918 -1.0358 0.78339 0.40107 0.39255 0.0078874 0.37016 -0.22997 -0.54979 -1.5083 -0.51606 0.011152 0.47872 0.69516 -0.18699 -0.076097 0.08632 0.23375 -0.32257 -0.35493 0.46485 -0.018071 -0.63288 0.41362 0.19549 -0.47004 -0.11707 -0.22639 0.059498 -0.46242 0.22416 -0.30455 -0.71315 0.32743 -0.65108 -0.16418 -0.63439 -0.0015787 0.55052 0.30992 0.18506 -0.23819 -0.84747 0.20124 -0.4709 -0.0049801 -0.3357 0.069329 0.29786 -0.057702 0.38975 -0.3445 0.20738 -0.017861 -0.23797 -0.67679 1.3449 -0.50881 0.21579 -0.13693 0.091773 -0.85289 -0.19282 -0.30348 0.094028 0.058382 -0.099381 0.54258 -0.57721\n",
            "the 0.095152 0.37024 0.54291 0.19621 0.048205 0.32033 -0.59638 0.015868 -0.12989 -0.63028 0.081944 0.24164 -6.099 -0.68557 0.50354 -0.034089 0.11705 -0.0077403 -0.086512 0.43617 -0.43982 0.26125 -0.040348 -0.19194 0.083204 -0.58246 -0.031923 0.1263 0.4012 0.068906 -0.10517 -0.20804 -0.42554 0.47799 0.34651 0.24057 0.050244 -0.072587 -0.0024347 -0.50342 -1.0601 -0.31586 -0.032457 -0.076317 0.79045 0.086367 -0.19632 0.057566 0.84129 -0.4202 -0.0011335 -0.085632 0.06191 0.21423 -0.10356 -0.036946 -0.26005 -0.35657 0.054321 0.030875 0.14092 -0.091998 -0.41841 -0.31135 -0.14937 -0.00022699 -0.33454 -0.14848 -0.11944 -0.27174 0.3132 -0.10998 -0.47524 0.14056 0.39641 -0.049413 -0.42601 -0.23576 0.061482 -0.035313 2.4161 0.28979 0.38882 0.36779 0.20685 0.13992 -0.42459 0.4459 0.26234 -0.44834 0.0037196 -0.22521 0.14764 -0.36417 -0.18493 0.22282 0.47626 -0.51083 0.46877 0.34882\n",
            "? 0.18764 -0.23672 -0.093466 0.18942 0.1447 0.60422 -0.10721 0.59073 0.4257 0.71432 0.12186 -0.84222 -3.355 0.19039 0.035512 0.13611 0.34534 -0.58382 -0.40108 0.03415 0.35675 0.042792 -0.12817 0.63331 -0.0099989 -2.5911 -0.27016 -0.38807 0.53367 -0.14324 0.19247 1.2303 0.17429 0.30818 0.19107 -0.50054 0.79188 0.080798 -0.30704 0.12613 -1.5086 0.14417 -0.29152 0.52337 0.092573 0.11887 -0.72877 0.46835 -0.073298 -0.67389 0.55402 -0.092545 0.015123 0.12066 0.027198 0.46634 0.077549 0.4335 -0.29856 0.14527 -0.29231 0.30907 0.43496 0.023063 -0.068818 -0.3677 -0.25194 -0.52521 0.18128 0.14718 0.66268 1.1287 0.17358 -0.20029 -0.4014 -0.75654 -0.54806 0.65335 -0.29535 0.070593 0.44817 -0.31514 0.38929 -0.38943 0.16661 -0.41322 -1.1952 0.25349 -0.59079 0.47218 -0.89528 -0.14385 -0.14595 0.28922 -0.42489 0.010669 0.15234 -0.20056 0.27297 -0.15433\n"
          ],
          "name": "stdout"
        }
      ]
    },
    {
      "cell_type": "markdown",
      "metadata": {
        "id": "QNM1TtFvbLzp"
      },
      "source": [
        "#### Utworzenie Embedding matrix"
      ]
    },
    {
      "cell_type": "code",
      "metadata": {
        "id": "2VJ63sXjhY26"
      },
      "source": [
        "import numpy as np\n",
        "\n",
        "def create_embedding_matrix(filepath, word_index, embedding_dim):\n",
        "    vocab_size = len(word_index) + 1  # Adding again 1 because of reserved 0 index\n",
        "    embedding_matrix = np.zeros((vocab_size, embedding_dim))\n",
        "\n",
        "    with open(filepath) as f:\n",
        "        for line in f:\n",
        "            word, *vector = line.split()\n",
        "            if word in word_index:\n",
        "                idx = word_index[word] \n",
        "                embedding_matrix[idx] = np.array(\n",
        "                    vector, dtype=np.float32)[:embedding_dim]\n",
        "\n",
        "    return embedding_matrix"
      ],
      "execution_count": 17,
      "outputs": []
    },
    {
      "cell_type": "code",
      "metadata": {
        "id": "Fqz69PLnheBy"
      },
      "source": [
        "embedding_dim = 100\n",
        "embedding_matrix = create_embedding_matrix('glove.twitter.27B.100d.txt', tokenizer.word_index, embedding_dim) # glove.twitter.27B.100d"
      ],
      "execution_count": 18,
      "outputs": []
    },
    {
      "cell_type": "markdown",
      "metadata": {
        "id": "TvSq8q8UavlW"
      },
      "source": [
        "#### Model"
      ]
    },
    {
      "cell_type": "code",
      "metadata": {
        "id": "PaRWehbu_VCe"
      },
      "source": [
        "from keras.models import Sequential\n",
        "from keras.layers import Flatten, Dense\n",
        "from keras.layers.embeddings import Embedding\n",
        "from keras.models import Model\n",
        "from tensorflow.keras.callbacks import EarlyStopping"
      ],
      "execution_count": 19,
      "outputs": []
    },
    {
      "cell_type": "code",
      "metadata": {
        "colab": {
          "base_uri": "https://localhost:8080/"
        },
        "id": "BGt7E_vj_f5D",
        "outputId": "2add0bbf-dec5-4a10-bda7-457890e5250d"
      },
      "source": [
        "model = Sequential()\n",
        "model.add(Embedding(vocab_size, 100,  # 100 to ilość vectorów. wiec jak importujemy zewnętrzny embedning to trzeba tą wartośc dać na vektory z zew.embedingu\n",
        "                           weights=[embedding_matrix], \n",
        "                           input_length=maxlen))\n",
        "model.add(Flatten())\n",
        "model.add(Dense(7, activation=\"softmax\")) # sigmoid / softmax\n",
        "model.compile(loss=\"categorical_crossentropy\", optimizer=\"adam\", metrics=[\"accuracy\"])\n",
        "print(model.summary())"
      ],
      "execution_count": 20,
      "outputs": [
        {
          "output_type": "stream",
          "text": [
            "Model: \"sequential\"\n",
            "_________________________________________________________________\n",
            "Layer (type)                 Output Shape              Param #   \n",
            "=================================================================\n",
            "embedding (Embedding)        (None, 13, 100)           976800    \n",
            "_________________________________________________________________\n",
            "flatten (Flatten)            (None, 1300)              0         \n",
            "_________________________________________________________________\n",
            "dense (Dense)                (None, 7)                 9107      \n",
            "=================================================================\n",
            "Total params: 985,907\n",
            "Trainable params: 985,907\n",
            "Non-trainable params: 0\n",
            "_________________________________________________________________\n",
            "None\n"
          ],
          "name": "stdout"
        }
      ]
    },
    {
      "cell_type": "markdown",
      "metadata": {
        "id": "TEwgLqcLe7sW"
      },
      "source": [
        "> przy zew. embeddingu  zwiększyłem liczbą epok z 20 na 30, ponieważ model przy 20 epoce nadal poprawiał wydajność. W razie problemów EarlyStop przerwie trening modelu wcześniej. \n",
        "\n",
        "> for outsite Embedding  I increaced the number of epochs from 20 to 30, as model in epoch 20 continued to improve perfonmance. In case of deterioration of the results, the EarlyStop will stop training model earlier. "
      ]
    },
    {
      "cell_type": "code",
      "metadata": {
        "colab": {
          "base_uri": "https://localhost:8080/"
        },
        "id": "wdnpnIhd_qLy",
        "outputId": "36a99978-c043-4de6-a3af-ad6719e30379"
      },
      "source": [
        "from tensorflow.keras.callbacks import EarlyStopping\n",
        "\n",
        "EarlyStop = EarlyStopping(monitor='val_loss', \n",
        "                          patience=5,\n",
        "                          verbose=1)\n",
        "\n",
        "history = model.fit(X_train, \n",
        "                    y_train, \n",
        "                    epochs=30,   # 20\n",
        "                    batch_size=64, \n",
        "                    validation_split=0.2, \n",
        "                    callbacks = [EarlyStop] )\n",
        "scores = model.evaluate(X_test, y_test)\n",
        "print(f\"Accuracy {scores[1] * 100}\")"
      ],
      "execution_count": 21,
      "outputs": [
        {
          "output_type": "stream",
          "text": [
            "Epoch 1/30\n",
            "138/138 [==============================] - 3s 15ms/step - loss: 1.1606 - accuracy: 0.6363 - val_loss: 0.2734 - val_accuracy: 0.9438\n",
            "Epoch 2/30\n",
            "138/138 [==============================] - 2s 11ms/step - loss: 0.2129 - accuracy: 0.9590 - val_loss: 0.1548 - val_accuracy: 0.9642\n",
            "Epoch 3/30\n",
            "138/138 [==============================] - 2s 12ms/step - loss: 0.1097 - accuracy: 0.9789 - val_loss: 0.1154 - val_accuracy: 0.9728\n",
            "Epoch 4/30\n",
            "138/138 [==============================] - 2s 12ms/step - loss: 0.0724 - accuracy: 0.9848 - val_loss: 0.0978 - val_accuracy: 0.9760\n",
            "Epoch 5/30\n",
            "138/138 [==============================] - 2s 12ms/step - loss: 0.0484 - accuracy: 0.9900 - val_loss: 0.0866 - val_accuracy: 0.9778\n",
            "Epoch 6/30\n",
            "138/138 [==============================] - 2s 12ms/step - loss: 0.0340 - accuracy: 0.9940 - val_loss: 0.0794 - val_accuracy: 0.9787\n",
            "Epoch 7/30\n",
            "138/138 [==============================] - 2s 12ms/step - loss: 0.0309 - accuracy: 0.9942 - val_loss: 0.0752 - val_accuracy: 0.9791\n",
            "Epoch 8/30\n",
            "138/138 [==============================] - 2s 12ms/step - loss: 0.0236 - accuracy: 0.9957 - val_loss: 0.0726 - val_accuracy: 0.9787\n",
            "Epoch 9/30\n",
            "138/138 [==============================] - 2s 12ms/step - loss: 0.0192 - accuracy: 0.9968 - val_loss: 0.0684 - val_accuracy: 0.9810\n",
            "Epoch 10/30\n",
            "138/138 [==============================] - 2s 12ms/step - loss: 0.0141 - accuracy: 0.9987 - val_loss: 0.0664 - val_accuracy: 0.9819\n",
            "Epoch 11/30\n",
            "138/138 [==============================] - 2s 12ms/step - loss: 0.0122 - accuracy: 0.9984 - val_loss: 0.0658 - val_accuracy: 0.9828\n",
            "Epoch 12/30\n",
            "138/138 [==============================] - 2s 12ms/step - loss: 0.0099 - accuracy: 0.9987 - val_loss: 0.0637 - val_accuracy: 0.9823\n",
            "Epoch 13/30\n",
            "138/138 [==============================] - 2s 12ms/step - loss: 0.0077 - accuracy: 0.9991 - val_loss: 0.0632 - val_accuracy: 0.9814\n",
            "Epoch 14/30\n",
            "138/138 [==============================] - 2s 12ms/step - loss: 0.0071 - accuracy: 0.9997 - val_loss: 0.0624 - val_accuracy: 0.9828\n",
            "Epoch 15/30\n",
            "138/138 [==============================] - 2s 12ms/step - loss: 0.0055 - accuracy: 0.9998 - val_loss: 0.0621 - val_accuracy: 0.9828\n",
            "Epoch 16/30\n",
            "138/138 [==============================] - 2s 12ms/step - loss: 0.0050 - accuracy: 0.9997 - val_loss: 0.0615 - val_accuracy: 0.9819\n",
            "Epoch 17/30\n",
            "138/138 [==============================] - 2s 12ms/step - loss: 0.0040 - accuracy: 0.9999 - val_loss: 0.0617 - val_accuracy: 0.9823\n",
            "Epoch 18/30\n",
            "138/138 [==============================] - 2s 12ms/step - loss: 0.0038 - accuracy: 1.0000 - val_loss: 0.0625 - val_accuracy: 0.9814\n",
            "Epoch 19/30\n",
            "138/138 [==============================] - 2s 12ms/step - loss: 0.0031 - accuracy: 1.0000 - val_loss: 0.0625 - val_accuracy: 0.9819\n",
            "Epoch 20/30\n",
            "138/138 [==============================] - 2s 12ms/step - loss: 0.0030 - accuracy: 0.9997 - val_loss: 0.0618 - val_accuracy: 0.9823\n",
            "Epoch 21/30\n",
            "138/138 [==============================] - 2s 12ms/step - loss: 0.0026 - accuracy: 0.9997 - val_loss: 0.0625 - val_accuracy: 0.9819\n",
            "Epoch 00021: early stopping\n",
            "87/87 [==============================] - 0s 1ms/step - loss: 0.0538 - accuracy: 0.9819\n",
            "Accuracy 98.1864333152771\n"
          ],
          "name": "stdout"
        }
      ]
    },
    {
      "cell_type": "code",
      "metadata": {
        "id": "Ui9nW3K0_0bf"
      },
      "source": [
        ""
      ],
      "execution_count": 21,
      "outputs": []
    },
    {
      "cell_type": "code",
      "metadata": {
        "id": "dJtnYTgA_06S"
      },
      "source": [
        ""
      ],
      "execution_count": 21,
      "outputs": []
    },
    {
      "cell_type": "markdown",
      "metadata": {
        "id": "B0IdSKiJtzgd"
      },
      "source": [
        "#### Predykcja na zbiorze validacyjnym"
      ]
    },
    {
      "cell_type": "code",
      "metadata": {
        "colab": {
          "base_uri": "https://localhost:8080/"
        },
        "id": "27dr_LCO_1IW",
        "outputId": "31972346-ab04-4014-c490-108c1d8175b6"
      },
      "source": [
        "# oczysczenie danych\n",
        "data_set_valid[\"clean_text\"] = data_set_valid[\"text\"].apply(lambda x: process_text(x))\n",
        "\n",
        "# labelencoder \n",
        "data_set_valid[\"labelencoder\"] = labelencoder.fit_transform(data_set_valid[\"label\"])\n",
        "\n",
        "# tokenizacja weg przetrenowanego już tokenizera\n",
        "X_validate = tokenizer.texts_to_sequences(data_set_valid[\"clean_text\"])\n",
        "\n",
        "# pad sequel\n",
        "X_validate = pad_sequences(X_validate, padding=\"post\", truncating=\"post\", maxlen=maxlen)\n",
        "X_validate"
      ],
      "execution_count": 22,
      "outputs": [
        {
          "output_type": "execute_result",
          "data": {
            "text/plain": [
              "array([[ 15,  42,  50, ...,   0,   0,   0],\n",
              "       [241, 177,  21, ...,   0,   0,   0],\n",
              "       [ 15,   8,   1, ...,   2, 174, 997],\n",
              "       ...,\n",
              "       [ 28,   1,  84, ...,   0,   0,   0],\n",
              "       [ 15,   8,   1, ...,   0,   0,   0],\n",
              "       [ 45,  40,   4, ...,   0,   0,   0]], dtype=int32)"
            ]
          },
          "metadata": {
            "tags": []
          },
          "execution_count": 22
        }
      ]
    },
    {
      "cell_type": "code",
      "metadata": {
        "colab": {
          "base_uri": "https://localhost:8080/"
        },
        "id": "UOPVqktyANNF",
        "outputId": "3ca9b378-aec9-4f00-d389-463112406e6c"
      },
      "source": [
        "dummy_y_valid = data_set_valid[\"labelencoder\"].values\n",
        "dummy_y_valid[:5]"
      ],
      "execution_count": 23,
      "outputs": [
        {
          "output_type": "execute_result",
          "data": {
            "text/plain": [
              "array([6, 3, 2, 0, 6])"
            ]
          },
          "metadata": {
            "tags": []
          },
          "execution_count": 23
        }
      ]
    },
    {
      "cell_type": "code",
      "metadata": {
        "colab": {
          "base_uri": "https://localhost:8080/"
        },
        "id": "NAiFC304APqL",
        "outputId": "d41c5b89-85cc-4ffd-aae3-fe0db889c8ca"
      },
      "source": [
        "# Sprawdzenie rozmiaru zbiorów validacyjnego\n",
        "X_validate.shape, dummy_y_valid.shape"
      ],
      "execution_count": 24,
      "outputs": [
        {
          "output_type": "execute_result",
          "data": {
            "text/plain": [
              "((700, 13), (700,))"
            ]
          },
          "metadata": {
            "tags": []
          },
          "execution_count": 24
        }
      ]
    },
    {
      "cell_type": "code",
      "metadata": {
        "colab": {
          "base_uri": "https://localhost:8080/"
        },
        "id": "WRbEdb7AAXGy",
        "outputId": "3e1dad6e-a4a7-4557-8d0b-219606ad383b"
      },
      "source": [
        "predicted_lstm_val = np.argmax(model.predict(X_validate), axis=-1)\n",
        "predicted_lstm_val[:5]"
      ],
      "execution_count": 25,
      "outputs": [
        {
          "output_type": "execute_result",
          "data": {
            "text/plain": [
              "array([6, 3, 2, 0, 6])"
            ]
          },
          "metadata": {
            "tags": []
          },
          "execution_count": 25
        }
      ]
    },
    {
      "cell_type": "markdown",
      "metadata": {
        "id": "_5wZwn-_uKE9"
      },
      "source": [
        "#### Rozkodowanie przewidzianych i prawidłowych etykiet"
      ]
    },
    {
      "cell_type": "code",
      "metadata": {
        "colab": {
          "base_uri": "https://localhost:8080/"
        },
        "id": "G4U9hYvnBJ9F",
        "outputId": "6cc987fc-ee20-4328-e629-dbd43d768c16"
      },
      "source": [
        "y_pred = labelencoder.inverse_transform(predicted_lstm_val)\n",
        "y_pred = pd.Series(y_pred)\n",
        "y_pred.head()"
      ],
      "execution_count": 26,
      "outputs": [
        {
          "output_type": "execute_result",
          "data": {
            "text/plain": [
              "0    SearchScreeningEvent\n",
              "1               PlayMusic\n",
              "2              GetWeather\n",
              "3           AddToPlaylist\n",
              "4    SearchScreeningEvent\n",
              "dtype: object"
            ]
          },
          "metadata": {
            "tags": []
          },
          "execution_count": 26
        }
      ]
    },
    {
      "cell_type": "code",
      "metadata": {
        "colab": {
          "base_uri": "https://localhost:8080/"
        },
        "id": "EW03pUanA729",
        "outputId": "2c6c2eae-4edc-402b-a11e-6f0a3d692c73"
      },
      "source": [
        "y_val = labelencoder.inverse_transform(dummy_y_valid)\n",
        "y_val = pd.Series(y_val)\n",
        "y_val.head()"
      ],
      "execution_count": 27,
      "outputs": [
        {
          "output_type": "execute_result",
          "data": {
            "text/plain": [
              "0    SearchScreeningEvent\n",
              "1               PlayMusic\n",
              "2              GetWeather\n",
              "3           AddToPlaylist\n",
              "4    SearchScreeningEvent\n",
              "dtype: object"
            ]
          },
          "metadata": {
            "tags": []
          },
          "execution_count": 27
        }
      ]
    },
    {
      "cell_type": "markdown",
      "metadata": {
        "id": "RcGfyRgQudTZ"
      },
      "source": [
        "#### `Confusion matrix`"
      ]
    },
    {
      "cell_type": "code",
      "metadata": {
        "id": "GXVwswIsA9RT"
      },
      "source": [
        "from sklearn.metrics import accuracy_score, f1_score, classification_report, confusion_matrix\n",
        "%matplotlib inline\n",
        "from matplotlib import pyplot as plt\n",
        "import seaborn as sns"
      ],
      "execution_count": 28,
      "outputs": []
    },
    {
      "cell_type": "code",
      "metadata": {
        "colab": {
          "base_uri": "https://localhost:8080/",
          "height": 701
        },
        "id": "fGr6-cjzBFLc",
        "outputId": "7fec2155-8b07-4eb4-d648-f3a58850ec01"
      },
      "source": [
        "classes = np.unique(y_val)\n",
        "\n",
        "print('Accuracy:', round(accuracy_score(y_val, y_pred),2))\n",
        "print('F1_score:', round(f1_score(y_val, y_pred, average='weighted'),2))\n",
        "\n",
        "print(classification_report(y_val, y_pred))\n",
        "# Plot confusion matrix\n",
        "cm = confusion_matrix(y_val, y_pred)\n",
        "fig, ax = plt.subplots()\n",
        "sns.heatmap(cm, annot=True, fmt='d', ax=ax, cmap=plt.cm.Blues, cbar=False)\n",
        "ax.set(xlabel='Pred', ylabel='True', xticklabels=classes, yticklabels=classes, title='Confusion matrix')\n",
        "plt.yticks(rotation=0)\n",
        "plt.xticks(rotation=90)"
      ],
      "execution_count": 29,
      "outputs": [
        {
          "output_type": "stream",
          "text": [
            "Accuracy: 0.98\n",
            "F1_score: 0.98\n",
            "                      precision    recall  f1-score   support\n",
            "\n",
            "       AddToPlaylist       0.99      1.00      1.00       100\n",
            "      BookRestaurant       1.00      0.99      0.99       100\n",
            "          GetWeather       0.99      0.99      0.99       100\n",
            "           PlayMusic       0.99      0.99      0.99       100\n",
            "            RateBook       1.00      0.99      0.99       100\n",
            "  SearchCreativeWork       0.92      0.98      0.95       100\n",
            "SearchScreeningEvent       0.97      0.92      0.94       100\n",
            "\n",
            "            accuracy                           0.98       700\n",
            "           macro avg       0.98      0.98      0.98       700\n",
            "        weighted avg       0.98      0.98      0.98       700\n",
            "\n"
          ],
          "name": "stdout"
        },
        {
          "output_type": "execute_result",
          "data": {
            "text/plain": [
              "(array([0.5, 1.5, 2.5, 3.5, 4.5, 5.5, 6.5]),\n",
              " <a list of 7 Text major ticklabel objects>)"
            ]
          },
          "metadata": {
            "tags": []
          },
          "execution_count": 29
        },
        {
          "output_type": "display_data",
          "data": {
            "image/png": "[encoded data removed]",
            "text/plain": [
              "<Figure size 432x288 with 1 Axes>"
            ]
          },
          "metadata": {
            "tags": [],
            "needs_background": "light"
          }
        }
      ]
    },
    {
      "cell_type": "markdown",
      "metadata": {
        "id": "9uxfqF9uum32"
      },
      "source": [
        "#### Zapoznanie się z błędnymi predykcjami "
      ]
    },
    {
      "cell_type": "code",
      "metadata": {
        "colab": {
          "base_uri": "https://localhost:8080/"
        },
        "id": "28QYnOPM-mJz",
        "outputId": "54f17193-0198-44e6-b0db-8706fcda2488"
      },
      "source": [
        "indexes = []\n",
        "for i, phrase in enumerate(y_pred):\n",
        "  if phrase == 'SearchCreativeWork':\n",
        "    if y_val[i] == 'SearchScreeningEvent':\n",
        "      indexes.append(i)\n",
        "print(indexes)"
      ],
      "execution_count": 30,
      "outputs": [
        {
          "output_type": "stream",
          "text": [
            "[145, 451, 519, 557, 568, 615, 648, 689]\n"
          ],
          "name": "stdout"
        }
      ]
    },
    {
      "cell_type": "code",
      "metadata": {
        "colab": {
          "base_uri": "https://localhost:8080/"
        },
        "id": "ouy1yzy8-048",
        "outputId": "cee9c5b7-ae13-480a-8d0f-959a21d80b4f"
      },
      "source": [
        "for i in indexes:\n",
        "  print(f\"----------------------------\\nTekst komendy:\\n{data_set_valid['text'][i]}\")\n",
        "  print(f\"Oczyszczona komenda:\\n{data_set_valid['clean_text'][i]}\")\n",
        "  print(f'True category: {y_val[i]}')\n",
        "  print(f'Predicted category: {y_pred[i]}')\n",
        "  print(\"\\n\")"
      ],
      "execution_count": 31,
      "outputs": [
        {
          "output_type": "stream",
          "text": [
            "----------------------------\n",
            "Tekst komendy:\n",
            "I want to see Medal for the General\n",
            "Oczyszczona komenda:\n",
            "want to see medal for the general\n",
            "True category: SearchScreeningEvent\n",
            "Predicted category: SearchCreativeWork\n",
            "\n",
            "\n",
            "----------------------------\n",
            "Tekst komendy:\n",
            "Can I see Ellis Island Revisited in 1 minute\n",
            "Oczyszczona komenda:\n",
            "can see ellis island revisited in minute\n",
            "True category: SearchScreeningEvent\n",
            "Predicted category: SearchCreativeWork\n",
            "\n",
            "\n",
            "----------------------------\n",
            "Tekst komendy:\n",
            "i want to see JLA Adventures: Trapped In Time\n",
            "Oczyszczona komenda:\n",
            "want to see jla adventures trapped in time\n",
            "True category: SearchScreeningEvent\n",
            "Predicted category: SearchCreativeWork\n",
            "\n",
            "\n",
            "----------------------------\n",
            "Tekst komendy:\n",
            "I want to see Shattered Image.\n",
            "Oczyszczona komenda:\n",
            "want to see shattered image\n",
            "True category: SearchScreeningEvent\n",
            "Predicted category: SearchCreativeWork\n",
            "\n",
            "\n",
            "----------------------------\n",
            "Tekst komendy:\n",
            "Can you check the timings for Super Sweet 16: The Movie?\n",
            "Oczyszczona komenda:\n",
            "can you check the timings for super sweet the movie\n",
            "True category: SearchScreeningEvent\n",
            "Predicted category: SearchCreativeWork\n",
            "\n",
            "\n",
            "----------------------------\n",
            "Tekst komendy:\n",
            "Where can I see The Prime Ministers: The Pioneers\n",
            "Oczyszczona komenda:\n",
            "where can see the prime ministers the pioneers\n",
            "True category: SearchScreeningEvent\n",
            "Predicted category: SearchCreativeWork\n",
            "\n",
            "\n",
            "----------------------------\n",
            "Tekst komendy:\n",
            "I want to see Outcast.\n",
            "Oczyszczona komenda:\n",
            "want to see outcast\n",
            "True category: SearchScreeningEvent\n",
            "Predicted category: SearchCreativeWork\n",
            "\n",
            "\n",
            "----------------------------\n",
            "Tekst komendy:\n",
            "I want to see Fear Chamber.\n",
            "Oczyszczona komenda:\n",
            "want to see fear chamber\n",
            "True category: SearchScreeningEvent\n",
            "Predicted category: SearchCreativeWork\n",
            "\n",
            "\n"
          ],
          "name": "stdout"
        }
      ]
    },
    {
      "cell_type": "markdown",
      "metadata": {
        "id": "lm61MY9CSpLm"
      },
      "source": [
        "Wnioski:\n",
        "> zauważyłem, że embeding tweeter zawiera placeholdery oraz znaki interpunkcyjne tj. < user> , < repeat> , < hashtag>, < number> , < url>  . Użyjmy placeholderów w preprocesingu może nawet nie usuwajac interpunkcji. Wcześniej sprawdźmy jak czesto występuje ! lub ?\n",
        "\n",
        "\n"
      ]
    },
    {
      "cell_type": "code",
      "metadata": {
        "id": "XqM1IjdncCMV"
      },
      "source": [
        ""
      ],
      "execution_count": 31,
      "outputs": []
    }
  ]
}