{
  "nbformat": 4,
  "nbformat_minor": 0,
  "metadata": {
    "colab": {
      "name": "Detecting_intentions_MLP",
      "provenance": [],
      "collapsed_sections": [],
      "authorship_tag": "ABX9TyPkaCNC95VCGBi11ic3qOmY",
      "include_colab_link": true
    },
    "kernelspec": {
      "name": "python3",
      "display_name": "Python 3"
    },
    "language_info": {
      "name": "python"
    }
  },
  "cells": [
    {
      "cell_type": "markdown",
      "metadata": {
        "id": "view-in-github",
        "colab_type": "text"
      },
      "source": [
        "<a href=\"https://colab.research.google.com/github/ciepielajan/Multi-Class-Classification-NLP/blob/main/LSTM-clean-lemma.ipynb\" target=\"_parent\"><img src=\"https://colab.research.google.com/assets/colab-badge.svg\" alt=\"Open In Colab\"/></a>"
      ]
    },
    {
      "cell_type": "markdown",
      "metadata": {
        "id": "Y_GrX_jsvA2m"
      },
      "source": [
        "LSTM-clean-lemma"
      ]
    },
    {
      "cell_type": "markdown",
      "metadata": {
        "id": "us7PJ6w-n8ge"
      },
      "source": [
        "#### Pobranie danych"
      ]
    },
    {
      "cell_type": "code",
      "metadata": {
        "colab": {
          "base_uri": "https://localhost:8080/"
        },
        "id": "cZ_7ET22CAsA",
        "outputId": "d7b37bc9-5c5c-4bf1-feb6-5710122311db"
      },
      "source": [
        "# https://drive.google.com/file/d/1fI6EXyD9TMTC1jzdu206ljXOGNjdHprq/view?usp=sharing\n",
        "!gdown --id \"1fI6EXyD9TMTC1jzdu206ljXOGNjdHprq\""
      ],
      "execution_count": 1,
      "outputs": [
        {
          "output_type": "stream",
          "text": [
            "Downloading...\n",
            "From: https://drive.google.com/uc?id=1fI6EXyD9TMTC1jzdu206ljXOGNjdHprq\n",
            "To: /content/user_intent.zip\n",
            "\r  0% 0.00/271k [00:00<?, ?B/s]\r100% 271k/271k [00:00<00:00, 39.5MB/s]\n"
          ],
          "name": "stdout"
        }
      ]
    },
    {
      "cell_type": "code",
      "metadata": {
        "colab": {
          "base_uri": "https://localhost:8080/"
        },
        "id": "uWusnzuPCHqv",
        "outputId": "3483d55b-1910-43ad-fd62-ae7b1091b58c"
      },
      "source": [
        "!unzip \"user_intent.zip\""
      ],
      "execution_count": 2,
      "outputs": [
        {
          "output_type": "stream",
          "text": [
            "Archive:  user_intent.zip\n",
            "  inflating: train.csv               \n",
            "  inflating: __MACOSX/._train.csv    \n",
            "  inflating: validation.csv          \n"
          ],
          "name": "stdout"
        }
      ]
    },
    {
      "cell_type": "code",
      "metadata": {
        "id": "9CI1LZgj-Kin"
      },
      "source": [
        ""
      ],
      "execution_count": 2,
      "outputs": []
    },
    {
      "cell_type": "code",
      "metadata": {
        "id": "NUKeVYWfCOdU",
        "colab": {
          "base_uri": "https://localhost:8080/"
        },
        "outputId": "175c3b92-ae8c-46bc-c297-d2f42f655fc3"
      },
      "source": [
        "import pandas as pd\n",
        "import numpy as np\n",
        "from datetime import datetime\n",
        "\n",
        "data_set_train = pd.read_csv(\"train.csv\")\n",
        "data_set_valid = pd.read_csv(\"validation.csv\")\n",
        "\n",
        "print(data_set_train.shape)\n",
        "print(data_set_valid.shape)\n",
        "\n",
        "print(data_set_train.columns)\n",
        "print(data_set_valid.columns)"
      ],
      "execution_count": 3,
      "outputs": [
        {
          "output_type": "stream",
          "text": [
            "(13784, 2)\n",
            "(700, 2)\n",
            "Index(['text', 'label'], dtype='object')\n",
            "Index(['text', 'label'], dtype='object')\n"
          ],
          "name": "stdout"
        }
      ]
    },
    {
      "cell_type": "markdown",
      "metadata": {
        "id": "8Vg1fqbGoCrp"
      },
      "source": [
        "#### Podstawowy process text"
      ]
    },
    {
      "cell_type": "code",
      "metadata": {
        "id": "5GQNuCjSlz0F"
      },
      "source": [
        "import re\n",
        "def process_text(sentence):\n",
        "    sentence = re.sub('[A-Za-z0-9]+@[a-zA-z].[a-zA-Z]+', '', sentence)  # maile\n",
        "    sentence = re.sub('(http[s]*:[/][/])[a-zA-Z0-9]+', '', sentence)  # linki\n",
        "    sentence = re.sub(r\"<[^>]+>\", \" \", sentence) # remove html tag\n",
        "    sentence = re.sub(r\"[^a-zA-Z\\s]\", \"\", sentence)  # remove punctuations and numbers   \n",
        "    sentence = re.sub(r\"\\b[A-Za-z]{1}\\b\", \"\", sentence)  # remove single characters\n",
        "\n",
        "    sentence = re.sub(\"^\\s+|\\s+$\", \"\", sentence, flags=re.UNICODE) # Remove spaces both in the BEGINNING and in the END of a string:\n",
        "    sentence = \" \".join(re.split(\"\\s+\", sentence, flags=re.UNICODE))  # Remove ONLY DUPLICATE spaces:\n",
        "    sentence = sentence.lower()\n",
        "    \n",
        "    return sentence"
      ],
      "execution_count": 4,
      "outputs": []
    },
    {
      "cell_type": "code",
      "metadata": {
        "id": "RZJOju1sFOwp"
      },
      "source": [
        "data_set_train[\"clean_text\"] = data_set_train[\"text\"].apply(lambda x: process_text(x))"
      ],
      "execution_count": 5,
      "outputs": []
    },
    {
      "cell_type": "markdown",
      "metadata": {
        "id": "OdmloYvmy5I2"
      },
      "source": [
        "#### `SpaCy` `Lemmatyzacja` "
      ]
    },
    {
      "cell_type": "code",
      "metadata": {
        "id": "hKacgC9TzJtn"
      },
      "source": [
        "import spacy\n",
        "\n",
        "# załadowanie angielskiego CORE \n",
        "nlp = spacy.load('en_core_web_sm')"
      ],
      "execution_count": 6,
      "outputs": []
    },
    {
      "cell_type": "code",
      "metadata": {
        "colab": {
          "base_uri": "https://localhost:8080/",
          "height": 35
        },
        "id": "gMzwt0bJzpNe",
        "outputId": "9dc86a2f-1fb1-4ef1-d8da-6954b9286e2c"
      },
      "source": [
        "spacy.__version__"
      ],
      "execution_count": 7,
      "outputs": [
        {
          "output_type": "execute_result",
          "data": {
            "application/vnd.google.colaboratory.intrinsic+json": {
              "type": "string"
            },
            "text/plain": [
              "'2.2.4'"
            ]
          },
          "metadata": {
            "tags": []
          },
          "execution_count": 7
        }
      ]
    },
    {
      "cell_type": "code",
      "metadata": {
        "colab": {
          "base_uri": "https://localhost:8080/"
        },
        "id": "CDGR8xz-zFa7",
        "outputId": "57ef0dc1-b8d0-4ebe-8da7-92bf6e5809c8"
      },
      "source": [
        "%%time\n",
        "data_set_train[\"tokens_lemma\"] = data_set_train[\"clean_text\"].apply(lambda x: \" \".join([str(i.lemma_ ) for i in nlp(x) if i.lemma_  != \"-PRON-\"  ]))"
      ],
      "execution_count": 8,
      "outputs": [
        {
          "output_type": "stream",
          "text": [
            "CPU times: user 1min 50s, sys: 247 ms, total: 1min 50s\n",
            "Wall time: 1min 50s\n"
          ],
          "name": "stdout"
        }
      ]
    },
    {
      "cell_type": "code",
      "metadata": {
        "colab": {
          "base_uri": "https://localhost:8080/",
          "height": 195
        },
        "id": "Qm19XsjF1FGx",
        "outputId": "c1ff05c3-0bbe-4804-9fe3-7bb9c9dab2c5"
      },
      "source": [
        "data_set_train.sample(5)"
      ],
      "execution_count": 9,
      "outputs": [
        {
          "output_type": "execute_result",
          "data": {
            "text/html": [
              "<div>\n",
              "<style scoped>\n",
              "    .dataframe tbody tr th:only-of-type {\n",
              "        vertical-align: middle;\n",
              "    }\n",
              "\n",
              "    .dataframe tbody tr th {\n",
              "        vertical-align: top;\n",
              "    }\n",
              "\n",
              "    .dataframe thead th {\n",
              "        text-align: right;\n",
              "    }\n",
              "</style>\n",
              "<table border=\"1\" class=\"dataframe\">\n",
              "  <thead>\n",
              "    <tr style=\"text-align: right;\">\n",
              "      <th></th>\n",
              "      <th>text</th>\n",
              "      <th>label</th>\n",
              "      <th>clean_text</th>\n",
              "      <th>tokens_lemma</th>\n",
              "    </tr>\n",
              "  </thead>\n",
              "  <tbody>\n",
              "    <tr>\n",
              "      <th>3872</th>\n",
              "      <td>Play Stevan Faddy on Google Music.</td>\n",
              "      <td>PlayMusic</td>\n",
              "      <td>play stevan faddy on google music</td>\n",
              "      <td>play stevan faddy on google music</td>\n",
              "    </tr>\n",
              "    <tr>\n",
              "      <th>12934</th>\n",
              "      <td>Please play something that's freak folk on Goo...</td>\n",
              "      <td>PlayMusic</td>\n",
              "      <td>please play something thats freak folk on goog...</td>\n",
              "      <td>please play something that s freak folk on goo...</td>\n",
              "    </tr>\n",
              "    <tr>\n",
              "      <th>13113</th>\n",
              "      <td>play a good 1952 symphony</td>\n",
              "      <td>PlayMusic</td>\n",
              "      <td>play good symphony</td>\n",
              "      <td>play good symphony</td>\n",
              "    </tr>\n",
              "    <tr>\n",
              "      <th>7890</th>\n",
              "      <td>give 1 out of 6 points to Revolution World</td>\n",
              "      <td>RateBook</td>\n",
              "      <td>give out of points to revolution world</td>\n",
              "      <td>give out of point to revolution world</td>\n",
              "    </tr>\n",
              "    <tr>\n",
              "      <th>6007</th>\n",
              "      <td>Tell me the weather forecast for Northern Mari...</td>\n",
              "      <td>GetWeather</td>\n",
              "      <td>tell me the weather forecast for northern mari...</td>\n",
              "      <td>tell the weather forecast for northern mariana...</td>\n",
              "    </tr>\n",
              "  </tbody>\n",
              "</table>\n",
              "</div>"
            ],
            "text/plain": [
              "                                                    text  ...                                       tokens_lemma\n",
              "3872                  Play Stevan Faddy on Google Music.  ...                  play stevan faddy on google music\n",
              "12934  Please play something that's freak folk on Goo...  ...  please play something that s freak folk on goo...\n",
              "13113                          play a good 1952 symphony  ...                                 play good symphony\n",
              "7890          give 1 out of 6 points to Revolution World  ...              give out of point to revolution world\n",
              "6007   Tell me the weather forecast for Northern Mari...  ...  tell the weather forecast for northern mariana...\n",
              "\n",
              "[5 rows x 4 columns]"
            ]
          },
          "metadata": {
            "tags": []
          },
          "execution_count": 9
        }
      ]
    },
    {
      "cell_type": "code",
      "metadata": {
        "colab": {
          "base_uri": "https://localhost:8080/"
        },
        "id": "_dEypyGx0KKL",
        "outputId": "86829bf1-5850-4a08-8f4f-122b8c3f58f7"
      },
      "source": [
        "id_intention = 6\n",
        "print(\"Surowy tekst\")\n",
        "print(data_set_train[\"text\"].iloc[id_intention])\n",
        "print(\"Po oczyszczeniu\")\n",
        "print(data_set_train[\"clean_text\"].iloc[id_intention])\n",
        "print(\"Po lematyzacji\")\n",
        "print(data_set_train[\"tokens_lemma\"].iloc[id_intention])"
      ],
      "execution_count": 10,
      "outputs": [
        {
          "output_type": "stream",
          "text": [
            "Surowy tekst\n",
            "Book a table for 10 people at a restaurant which offers internet.\n",
            "Po oczyszczeniu\n",
            "book table for people at restaurant which offers internet\n",
            "Po lematyzacji\n",
            "book table for people at restaurant which offer internet\n"
          ],
          "name": "stdout"
        }
      ]
    },
    {
      "cell_type": "markdown",
      "metadata": {
        "id": "7epaW5cXoXef"
      },
      "source": [
        "#### `LabelEncoder` oraz `to_categorical`"
      ]
    },
    {
      "cell_type": "code",
      "metadata": {
        "id": "022rNoaL-xbl",
        "colab": {
          "base_uri": "https://localhost:8080/",
          "height": 195
        },
        "outputId": "7549c207-c6f6-49a2-957c-1cf87e04fee6"
      },
      "source": [
        "from sklearn.preprocessing import LabelEncoder\n",
        "from keras.utils import to_categorical \n",
        "\n",
        "\n",
        "labelencoder = LabelEncoder()\n",
        "data_set_train[\"labelencoder\"] = labelencoder.fit_transform(data_set_train[\"label\"])\n",
        "\n",
        "dummy_y = to_categorical(data_set_train[\"labelencoder\"], dtype =\"float32\")\n",
        "\n",
        "data_set_train[[\"clean_text\",\"label\",\"labelencoder\"]].head(5)"
      ],
      "execution_count": 11,
      "outputs": [
        {
          "output_type": "execute_result",
          "data": {
            "text/html": [
              "<div>\n",
              "<style scoped>\n",
              "    .dataframe tbody tr th:only-of-type {\n",
              "        vertical-align: middle;\n",
              "    }\n",
              "\n",
              "    .dataframe tbody tr th {\n",
              "        vertical-align: top;\n",
              "    }\n",
              "\n",
              "    .dataframe thead th {\n",
              "        text-align: right;\n",
              "    }\n",
              "</style>\n",
              "<table border=\"1\" class=\"dataframe\">\n",
              "  <thead>\n",
              "    <tr style=\"text-align: right;\">\n",
              "      <th></th>\n",
              "      <th>clean_text</th>\n",
              "      <th>label</th>\n",
              "      <th>labelencoder</th>\n",
              "    </tr>\n",
              "  </thead>\n",
              "  <tbody>\n",
              "    <tr>\n",
              "      <th>0</th>\n",
              "      <td>find cinema nearest for films</td>\n",
              "      <td>SearchScreeningEvent</td>\n",
              "      <td>6</td>\n",
              "    </tr>\n",
              "    <tr>\n",
              "      <th>1</th>\n",
              "      <td>give the current series two stars</td>\n",
              "      <td>RateBook</td>\n",
              "      <td>4</td>\n",
              "    </tr>\n",
              "    <tr>\n",
              "      <th>2</th>\n",
              "      <td>find the good girl at movie house</td>\n",
              "      <td>SearchScreeningEvent</td>\n",
              "      <td>6</td>\n",
              "    </tr>\n",
              "    <tr>\n",
              "      <th>3</th>\n",
              "      <td>please make reservations for three at kosher t...</td>\n",
              "      <td>BookRestaurant</td>\n",
              "      <td>1</td>\n",
              "    </tr>\n",
              "    <tr>\n",
              "      <th>4</th>\n",
              "      <td>what is the forecast for here one second from now</td>\n",
              "      <td>GetWeather</td>\n",
              "      <td>2</td>\n",
              "    </tr>\n",
              "  </tbody>\n",
              "</table>\n",
              "</div>"
            ],
            "text/plain": [
              "                                          clean_text  ... labelencoder\n",
              "0                      find cinema nearest for films  ...            6\n",
              "1                  give the current series two stars  ...            4\n",
              "2                  find the good girl at movie house  ...            6\n",
              "3  please make reservations for three at kosher t...  ...            1\n",
              "4  what is the forecast for here one second from now  ...            2\n",
              "\n",
              "[5 rows x 3 columns]"
            ]
          },
          "metadata": {
            "tags": []
          },
          "execution_count": 11
        }
      ]
    },
    {
      "cell_type": "code",
      "metadata": {
        "id": "-RfsD1LSpSag",
        "colab": {
          "base_uri": "https://localhost:8080/"
        },
        "outputId": "c62b9204-a802-49a3-c032-d8176c28fe5c"
      },
      "source": [
        "dummy_y.shape"
      ],
      "execution_count": 12,
      "outputs": [
        {
          "output_type": "execute_result",
          "data": {
            "text/plain": [
              "(13784, 7)"
            ]
          },
          "metadata": {
            "tags": []
          },
          "execution_count": 12
        }
      ]
    },
    {
      "cell_type": "code",
      "metadata": {
        "id": "S4dq1macoeQC",
        "colab": {
          "base_uri": "https://localhost:8080/"
        },
        "outputId": "b76318fc-37e6-4728-bb3d-1d07e6393b3c"
      },
      "source": [
        "id_intention = 6\n",
        "print(\"Sprawdzenie poprawności LabelEncoder i to_categorical \\n\")\n",
        "print(\"Label - \", data_set_train[\"label\"].iloc[id_intention])\n",
        "print(\"LabelEncoder - \", data_set_train[\"labelencoder\"].iloc[id_intention])\n",
        "print()\n",
        "print(\"to_categorical - \", dummy_y[id_intention])\n",
        "print()\n",
        "print(\"return to LabelEncoder - \",np.argmax(dummy_y[id_intention], axis=-1))\n",
        "print(\"return to Label - \",labelencoder.inverse_transform([np.argmax(dummy_y[id_intention], axis=-1)]))"
      ],
      "execution_count": 13,
      "outputs": [
        {
          "output_type": "stream",
          "text": [
            "Sprawdzenie poprawności LabelEncoder i to_categorical \n",
            "\n",
            "Label -  BookRestaurant\n",
            "LabelEncoder -  1\n",
            "\n",
            "to_categorical -  [0. 1. 0. 0. 0. 0. 0.]\n",
            "\n",
            "return to LabelEncoder -  1\n",
            "return to Label -  ['BookRestaurant']\n"
          ],
          "name": "stdout"
        }
      ]
    },
    {
      "cell_type": "markdown",
      "metadata": {
        "id": "-lZTDFgGoSmT"
      },
      "source": [
        "#### Zdefiniowanie X i y"
      ]
    },
    {
      "cell_type": "code",
      "metadata": {
        "id": "JWd9mEjfBAS2"
      },
      "source": [
        "X = data_set_train[\"tokens_lemma\"]\n",
        "y = dummy_y"
      ],
      "execution_count": 14,
      "outputs": []
    },
    {
      "cell_type": "code",
      "metadata": {
        "id": "8jUlcX2npzFs",
        "colab": {
          "base_uri": "https://localhost:8080/"
        },
        "outputId": "42716f69-529a-4c18-ccc9-48e9348ca6aa"
      },
      "source": [
        "X.shape, y.shape"
      ],
      "execution_count": 15,
      "outputs": [
        {
          "output_type": "execute_result",
          "data": {
            "text/plain": [
              "((13784,), (13784, 7))"
            ]
          },
          "metadata": {
            "tags": []
          },
          "execution_count": 15
        }
      ]
    },
    {
      "cell_type": "markdown",
      "metadata": {
        "id": "9mS_l8wZoO2R"
      },
      "source": [
        "#### Podział zbioru "
      ]
    },
    {
      "cell_type": "code",
      "metadata": {
        "id": "A18D02x5sjFd"
      },
      "source": [
        "from sklearn.model_selection import train_test_split\n",
        "\n",
        "X_train, X_test, y_train, y_test = train_test_split(X, y, test_size=0.2, random_state=42)"
      ],
      "execution_count": 16,
      "outputs": []
    },
    {
      "cell_type": "code",
      "metadata": {
        "id": "i_xH9XIGuYCG",
        "colab": {
          "base_uri": "https://localhost:8080/"
        },
        "outputId": "2001758d-cb9d-40aa-d48f-d3b6e8e3b337"
      },
      "source": [
        "X_train.shape, X_test.shape, y_train.shape, y_test.shape"
      ],
      "execution_count": 17,
      "outputs": [
        {
          "output_type": "execute_result",
          "data": {
            "text/plain": [
              "((11027,), (2757,), (11027, 7), (2757, 7))"
            ]
          },
          "metadata": {
            "tags": []
          },
          "execution_count": 17
        }
      ]
    },
    {
      "cell_type": "code",
      "metadata": {
        "id": "-DR0gkd1_Uv0"
      },
      "source": [
        ""
      ],
      "execution_count": 17,
      "outputs": []
    },
    {
      "cell_type": "markdown",
      "metadata": {
        "id": "chWlDg9Mtmya"
      },
      "source": [
        "#### `Tokenizer` i `pad_sequences`"
      ]
    },
    {
      "cell_type": "code",
      "metadata": {
        "id": "LCm-rbaus6QG"
      },
      "source": [
        "from keras.preprocessing.sequence import pad_sequences\n",
        "from keras.preprocessing.text import Tokenizer"
      ],
      "execution_count": 18,
      "outputs": []
    },
    {
      "cell_type": "code",
      "metadata": {
        "id": "U-ihmlc-s6QG"
      },
      "source": [
        "tokenizer = Tokenizer(num_words=5000)\n",
        "tokenizer.fit_on_texts(X_train)\n",
        "\n",
        "X_train = tokenizer.texts_to_sequences(X_train)\n",
        "X_test = tokenizer.texts_to_sequences(X_test)\n",
        "\n",
        "maxlen = 13\n",
        "vocab_size = len(tokenizer.word_index) + 1\n",
        "\n",
        "X_train = pad_sequences(X_train, padding=\"post\", truncating=\"post\", maxlen=maxlen)\n",
        "X_test = pad_sequences(X_test, padding=\"post\", truncating=\"post\", maxlen=maxlen)"
      ],
      "execution_count": 19,
      "outputs": []
    },
    {
      "cell_type": "markdown",
      "metadata": {
        "id": "VHakANxM9lOb"
      },
      "source": [
        "#### Model"
      ]
    },
    {
      "cell_type": "code",
      "metadata": {
        "id": "6xCHiM6a9nEv"
      },
      "source": [
        "from keras.models import Sequential\n",
        "from keras.layers import LSTM, Dense\n",
        "from keras.layers.embeddings import Embedding\n",
        "from keras.models import Model\n",
        "from tensorflow.keras.callbacks import EarlyStopping"
      ],
      "execution_count": 20,
      "outputs": []
    },
    {
      "cell_type": "code",
      "metadata": {
        "id": "tIvlVQnasO3C",
        "colab": {
          "base_uri": "https://localhost:8080/"
        },
        "outputId": "7ba1ef67-98e9-43ba-ea2b-a0691d1b60d3"
      },
      "source": [
        "model = Sequential()\n",
        "model.add(Embedding(vocab_size, 100, input_length=maxlen))  \n",
        "model.add(LSTM(128)) \n",
        "model.add(Dense(7, activation=\"softmax\"))\n",
        "model.compile(loss=\"categorical_crossentropy\", optimizer=\"adam\", metrics=[\"accuracy\"])\n",
        "print(model.summary())\n",
        "\n",
        "EarlyStop = EarlyStopping(monitor='val_loss', \n",
        "                          patience=5,\n",
        "                          verbose=1)\n",
        "\n",
        "history = model.fit(X_train, \n",
        "                    y_train, \n",
        "                    epochs=20, \n",
        "                    batch_size=64, \n",
        "                    validation_split=0.2, \n",
        "                    callbacks = [EarlyStop] )\n",
        "scores = model.evaluate(X_test, y_test)\n",
        "print(f\"Accuracy {scores[1] * 100}\") "
      ],
      "execution_count": 21,
      "outputs": [
        {
          "output_type": "stream",
          "text": [
            "Model: \"sequential\"\n",
            "_________________________________________________________________\n",
            "Layer (type)                 Output Shape              Param #   \n",
            "=================================================================\n",
            "embedding (Embedding)        (None, 13, 100)           912200    \n",
            "_________________________________________________________________\n",
            "lstm (LSTM)                  (None, 128)               117248    \n",
            "_________________________________________________________________\n",
            "dense (Dense)                (None, 7)                 903       \n",
            "=================================================================\n",
            "Total params: 1,030,351\n",
            "Trainable params: 1,030,351\n",
            "Non-trainable params: 0\n",
            "_________________________________________________________________\n",
            "None\n",
            "Epoch 1/20\n",
            "138/138 [==============================] - 9s 48ms/step - loss: 1.2825 - accuracy: 0.5002 - val_loss: 0.1061 - val_accuracy: 0.9669\n",
            "Epoch 2/20\n",
            "138/138 [==============================] - 6s 41ms/step - loss: 0.0756 - accuracy: 0.9803 - val_loss: 0.0773 - val_accuracy: 0.9755\n",
            "Epoch 3/20\n",
            "138/138 [==============================] - 6s 41ms/step - loss: 0.0315 - accuracy: 0.9922 - val_loss: 0.1090 - val_accuracy: 0.9674\n",
            "Epoch 4/20\n",
            "138/138 [==============================] - 6s 41ms/step - loss: 0.0287 - accuracy: 0.9918 - val_loss: 0.0887 - val_accuracy: 0.9705\n",
            "Epoch 5/20\n",
            "138/138 [==============================] - 6s 42ms/step - loss: 0.0220 - accuracy: 0.9943 - val_loss: 0.1147 - val_accuracy: 0.9687\n",
            "Epoch 6/20\n",
            "138/138 [==============================] - 6s 42ms/step - loss: 0.0183 - accuracy: 0.9942 - val_loss: 0.1255 - val_accuracy: 0.9687\n",
            "Epoch 7/20\n",
            "138/138 [==============================] - 6s 41ms/step - loss: 0.0210 - accuracy: 0.9947 - val_loss: 0.1054 - val_accuracy: 0.9696\n",
            "Epoch 00007: early stopping\n",
            "87/87 [==============================] - 0s 6ms/step - loss: 0.1099 - accuracy: 0.9713\n",
            "Accuracy 97.13456630706787\n"
          ],
          "name": "stdout"
        }
      ]
    },
    {
      "cell_type": "code",
      "metadata": {
        "id": "bHv6PlrGrYUr",
        "colab": {
          "base_uri": "https://localhost:8080/",
          "height": 545
        },
        "outputId": "80cfefb9-d6e6-4bd3-e4cf-dd1d6bef928d"
      },
      "source": [
        "import matplotlib.pyplot as plt\n",
        "acc = history.history['accuracy']\n",
        "val_acc = history.history['val_accuracy']\n",
        "loss = history.history['loss']\n",
        "val_loss = history.history['val_loss']\n",
        "\n",
        "epochs = range(len(acc))\n",
        "\n",
        "plt.plot(epochs, acc, 'bo', label='Dokladnosc trenowania')\n",
        "plt.plot(epochs, val_acc, 'b', label='Dokladnosc walidacji')\n",
        "plt.title('Dokladnosc trenowania i walidacji')\n",
        "plt.legend()\n",
        "\n",
        "plt.figure()\n",
        "\n",
        "plt.plot(epochs, loss, 'bo', label='Strata trenowania')\n",
        "plt.plot(epochs, val_loss, 'b', label='Strata walidacji')\n",
        "plt.title('Strata trenowania i walidacji')\n",
        "plt.legend()\n",
        "\n",
        "plt.show()"
      ],
      "execution_count": 22,
      "outputs": [
        {
          "output_type": "display_data",
          "data": {
            "image/png": "[encoded data removed]",
            "text/plain": [
              "<Figure size 432x288 with 1 Axes>"
            ]
          },
          "metadata": {
            "tags": [],
            "needs_background": "light"
          }
        },
        {
          "output_type": "display_data",
          "data": {
            "image/png": "[encoded data removed]",
            "text/plain": [
              "<Figure size 432x288 with 1 Axes>"
            ]
          },
          "metadata": {
            "tags": [],
            "needs_background": "light"
          }
        }
      ]
    },
    {
      "cell_type": "code",
      "metadata": {
        "id": "Ui9nW3K0_0bf"
      },
      "source": [
        ""
      ],
      "execution_count": 22,
      "outputs": []
    },
    {
      "cell_type": "code",
      "metadata": {
        "id": "dJtnYTgA_06S"
      },
      "source": [
        ""
      ],
      "execution_count": 22,
      "outputs": []
    },
    {
      "cell_type": "markdown",
      "metadata": {
        "id": "B0IdSKiJtzgd"
      },
      "source": [
        "#### Predykcja na zbiorze validacyjnym"
      ]
    },
    {
      "cell_type": "code",
      "metadata": {
        "id": "27dr_LCO_1IW",
        "colab": {
          "base_uri": "https://localhost:8080/"
        },
        "outputId": "83bc8029-dc8e-42ef-c6ab-01e952520b66"
      },
      "source": [
        "# oczysczenie danych\n",
        "data_set_valid[\"clean_text\"] = data_set_valid[\"text\"].apply(lambda x: process_text(x))\n",
        "\n",
        "# labelencoder \n",
        "data_set_valid[\"labelencoder\"] = labelencoder.fit_transform(data_set_valid[\"label\"])\n",
        "\n",
        "# tokenizacja weg przetrenowanego już tokenizera\n",
        "X_validate = tokenizer.texts_to_sequences(data_set_valid[\"clean_text\"])\n",
        "\n",
        "# pad sequel\n",
        "X_validate = pad_sequences(X_validate, padding=\"post\", truncating=\"post\", maxlen=maxlen)\n",
        "X_validate"
      ],
      "execution_count": 23,
      "outputs": [
        {
          "output_type": "execute_result",
          "data": {
            "text/plain": [
              "array([[ 12, 421,  44, ...,   0,   0,   0],\n",
              "       [220, 285,  19, ...,   0,   0,   0],\n",
              "       [ 12,   1, 254, ..., 167, 963,   0],\n",
              "       ...,\n",
              "       [ 23,   1,  79, ...,   0,   0,   0],\n",
              "       [ 12,   1,  21, ...,   0,   0,   0],\n",
              "       [ 42,  37,   4, ...,   0,   0,   0]], dtype=int32)"
            ]
          },
          "metadata": {
            "tags": []
          },
          "execution_count": 23
        }
      ]
    },
    {
      "cell_type": "code",
      "metadata": {
        "id": "UOPVqktyANNF",
        "colab": {
          "base_uri": "https://localhost:8080/"
        },
        "outputId": "0e674a2a-b4b7-45ef-9f4b-de9b4d7daee2"
      },
      "source": [
        "dummy_y_valid = data_set_valid[\"labelencoder\"].values\n",
        "dummy_y_valid[:5]"
      ],
      "execution_count": 24,
      "outputs": [
        {
          "output_type": "execute_result",
          "data": {
            "text/plain": [
              "array([6, 3, 2, 0, 6])"
            ]
          },
          "metadata": {
            "tags": []
          },
          "execution_count": 24
        }
      ]
    },
    {
      "cell_type": "code",
      "metadata": {
        "id": "NAiFC304APqL",
        "colab": {
          "base_uri": "https://localhost:8080/"
        },
        "outputId": "8f49dcf9-d080-4fe2-9021-947dd67ac020"
      },
      "source": [
        "# Sprawdzenie rozmiaru zbiorów validacyjnego\n",
        "X_validate.shape, dummy_y_valid.shape"
      ],
      "execution_count": 25,
      "outputs": [
        {
          "output_type": "execute_result",
          "data": {
            "text/plain": [
              "((700, 13), (700,))"
            ]
          },
          "metadata": {
            "tags": []
          },
          "execution_count": 25
        }
      ]
    },
    {
      "cell_type": "code",
      "metadata": {
        "id": "WRbEdb7AAXGy",
        "colab": {
          "base_uri": "https://localhost:8080/"
        },
        "outputId": "07dd2cb4-5c46-4618-941d-a8be25482323"
      },
      "source": [
        "predicted_lstm_val = np.argmax(model.predict(X_validate), axis=-1)\n",
        "predicted_lstm_val[:5]"
      ],
      "execution_count": 26,
      "outputs": [
        {
          "output_type": "execute_result",
          "data": {
            "text/plain": [
              "array([6, 3, 2, 0, 6])"
            ]
          },
          "metadata": {
            "tags": []
          },
          "execution_count": 26
        }
      ]
    },
    {
      "cell_type": "markdown",
      "metadata": {
        "id": "_5wZwn-_uKE9"
      },
      "source": [
        "#### Rozkodowanie przewidzianych i prawidłowych etykiet"
      ]
    },
    {
      "cell_type": "code",
      "metadata": {
        "id": "G4U9hYvnBJ9F",
        "colab": {
          "base_uri": "https://localhost:8080/"
        },
        "outputId": "f5669204-1036-4473-c5ae-05a4cc2c7bb1"
      },
      "source": [
        "y_pred = labelencoder.inverse_transform(predicted_lstm_val)\n",
        "y_pred = pd.Series(y_pred)\n",
        "y_pred.head()"
      ],
      "execution_count": 27,
      "outputs": [
        {
          "output_type": "execute_result",
          "data": {
            "text/plain": [
              "0    SearchScreeningEvent\n",
              "1               PlayMusic\n",
              "2              GetWeather\n",
              "3           AddToPlaylist\n",
              "4    SearchScreeningEvent\n",
              "dtype: object"
            ]
          },
          "metadata": {
            "tags": []
          },
          "execution_count": 27
        }
      ]
    },
    {
      "cell_type": "code",
      "metadata": {
        "id": "EW03pUanA729",
        "colab": {
          "base_uri": "https://localhost:8080/"
        },
        "outputId": "51b1adbf-0d3d-42b3-b96a-5b9d3f8301fa"
      },
      "source": [
        "y_val = labelencoder.inverse_transform(dummy_y_valid)\n",
        "y_val = pd.Series(y_val)\n",
        "y_val.head()"
      ],
      "execution_count": 28,
      "outputs": [
        {
          "output_type": "execute_result",
          "data": {
            "text/plain": [
              "0    SearchScreeningEvent\n",
              "1               PlayMusic\n",
              "2              GetWeather\n",
              "3           AddToPlaylist\n",
              "4    SearchScreeningEvent\n",
              "dtype: object"
            ]
          },
          "metadata": {
            "tags": []
          },
          "execution_count": 28
        }
      ]
    },
    {
      "cell_type": "markdown",
      "metadata": {
        "id": "RcGfyRgQudTZ"
      },
      "source": [
        "#### `Confusion matrix`"
      ]
    },
    {
      "cell_type": "code",
      "metadata": {
        "id": "GXVwswIsA9RT"
      },
      "source": [
        "from sklearn.metrics import accuracy_score, f1_score, classification_report, confusion_matrix\n",
        "%matplotlib inline\n",
        "from matplotlib import pyplot as plt\n",
        "import seaborn as sns"
      ],
      "execution_count": 29,
      "outputs": []
    },
    {
      "cell_type": "code",
      "metadata": {
        "id": "fGr6-cjzBFLc",
        "colab": {
          "base_uri": "https://localhost:8080/",
          "height": 701
        },
        "outputId": "37e07316-d3fa-4d8d-afff-7726207b91d3"
      },
      "source": [
        "classes = np.unique(y_val)\n",
        "\n",
        "print('Accuracy:', round(accuracy_score(y_val, y_pred),2))\n",
        "print('F1_score:', round(f1_score(y_val, y_pred, average='weighted'),2))\n",
        "\n",
        "print(classification_report(y_val, y_pred))\n",
        "# Plot confusion matrix\n",
        "cm = confusion_matrix(y_val, y_pred)\n",
        "fig, ax = plt.subplots()\n",
        "sns.heatmap(cm, annot=True, fmt='d', ax=ax, cmap=plt.cm.Blues, cbar=False)\n",
        "ax.set(xlabel='Pred', ylabel='True', xticklabels=classes, yticklabels=classes, title='Confusion matrix')\n",
        "plt.yticks(rotation=0)\n",
        "plt.xticks(rotation=90)"
      ],
      "execution_count": 30,
      "outputs": [
        {
          "output_type": "stream",
          "text": [
            "Accuracy: 0.96\n",
            "F1_score: 0.96\n",
            "                      precision    recall  f1-score   support\n",
            "\n",
            "       AddToPlaylist       0.97      0.99      0.98       100\n",
            "      BookRestaurant       0.94      1.00      0.97       100\n",
            "          GetWeather       0.98      0.97      0.97       100\n",
            "           PlayMusic       0.99      0.95      0.97       100\n",
            "            RateBook       0.99      0.99      0.99       100\n",
            "  SearchCreativeWork       0.89      0.95      0.92       100\n",
            "SearchScreeningEvent       0.97      0.87      0.92       100\n",
            "\n",
            "            accuracy                           0.96       700\n",
            "           macro avg       0.96      0.96      0.96       700\n",
            "        weighted avg       0.96      0.96      0.96       700\n",
            "\n"
          ],
          "name": "stdout"
        },
        {
          "output_type": "execute_result",
          "data": {
            "text/plain": [
              "(array([0.5, 1.5, 2.5, 3.5, 4.5, 5.5, 6.5]),\n",
              " <a list of 7 Text major ticklabel objects>)"
            ]
          },
          "metadata": {
            "tags": []
          },
          "execution_count": 30
        },
        {
          "output_type": "display_data",
          "data": {
            "image/png": "[encoded data removed]",
            "text/plain": [
              "<Figure size 432x288 with 1 Axes>"
            ]
          },
          "metadata": {
            "tags": [],
            "needs_background": "light"
          }
        }
      ]
    },
    {
      "cell_type": "markdown",
      "metadata": {
        "id": "9uxfqF9uum32"
      },
      "source": [
        "#### Zapoznanie się z błędnymi predykcjami "
      ]
    },
    {
      "cell_type": "code",
      "metadata": {
        "id": "28QYnOPM-mJz",
        "colab": {
          "base_uri": "https://localhost:8080/"
        },
        "outputId": "e7e34ae7-20ad-4386-fce6-b6d0b3183162"
      },
      "source": [
        "indexes = []\n",
        "for i, phrase in enumerate(y_pred):\n",
        "  if phrase == 'SearchCreativeWork':\n",
        "    if y_val[i] == 'SearchScreeningEvent':\n",
        "      indexes.append(i)\n",
        "print(indexes)"
      ],
      "execution_count": 31,
      "outputs": [
        {
          "output_type": "stream",
          "text": [
            "[125, 153, 174, 413, 557, 568, 587, 615, 648, 689]\n"
          ],
          "name": "stdout"
        }
      ]
    },
    {
      "cell_type": "code",
      "metadata": {
        "id": "ouy1yzy8-048",
        "colab": {
          "base_uri": "https://localhost:8080/"
        },
        "outputId": "3e598c14-95b9-4cdd-b951-7c44ba2142b3"
      },
      "source": [
        "for i in indexes:\n",
        "  print(f\"----------------------------\\nTekst komendy:\\n{data_set_valid['text'][i]}\")\n",
        "  print(f\"Oczyszczona komenda:\\n{data_set_valid['clean_text'][i]}\")\n",
        "  print(f'True category: {y_val[i]}')\n",
        "  print(f'Predicted category: {y_pred[i]}')\n",
        "  print(\"\\n\")"
      ],
      "execution_count": 32,
      "outputs": [
        {
          "output_type": "stream",
          "text": [
            "----------------------------\n",
            "Tekst komendy:\n",
            "what are the times for The Gingerbread Man\n",
            "Oczyszczona komenda:\n",
            "what are the times for the gingerbread man\n",
            "True category: SearchScreeningEvent\n",
            "Predicted category: SearchCreativeWork\n",
            "\n",
            "\n",
            "----------------------------\n",
            "Tekst komendy:\n",
            "i want to see I Dream of Jeanie in a movie theatre\n",
            "Oczyszczona komenda:\n",
            "want to see dream of jeanie in movie theatre\n",
            "True category: SearchScreeningEvent\n",
            "Predicted category: SearchCreativeWork\n",
            "\n",
            "\n",
            "----------------------------\n",
            "Tekst komendy:\n",
            "What are the movie schedules for my favorite theaters \n",
            "Oczyszczona komenda:\n",
            "what are the movie schedules for my favorite theaters\n",
            "True category: SearchScreeningEvent\n",
            "Predicted category: SearchCreativeWork\n",
            "\n",
            "\n",
            "----------------------------\n",
            "Tekst komendy:\n",
            "Is Cowboy Canteen playing\n",
            "Oczyszczona komenda:\n",
            "is cowboy canteen playing\n",
            "True category: SearchScreeningEvent\n",
            "Predicted category: SearchCreativeWork\n",
            "\n",
            "\n",
            "----------------------------\n",
            "Tekst komendy:\n",
            "I want to see Shattered Image.\n",
            "Oczyszczona komenda:\n",
            "want to see shattered image\n",
            "True category: SearchScreeningEvent\n",
            "Predicted category: SearchCreativeWork\n",
            "\n",
            "\n",
            "----------------------------\n",
            "Tekst komendy:\n",
            "Can you check the timings for Super Sweet 16: The Movie?\n",
            "Oczyszczona komenda:\n",
            "can you check the timings for super sweet the movie\n",
            "True category: SearchScreeningEvent\n",
            "Predicted category: SearchCreativeWork\n",
            "\n",
            "\n",
            "----------------------------\n",
            "Tekst komendy:\n",
            "Is Any Which Way You Can playing in 15 seconds\n",
            "Oczyszczona komenda:\n",
            "is any which way you can playing in seconds\n",
            "True category: SearchScreeningEvent\n",
            "Predicted category: SearchCreativeWork\n",
            "\n",
            "\n",
            "----------------------------\n",
            "Tekst komendy:\n",
            "Where can I see The Prime Ministers: The Pioneers\n",
            "Oczyszczona komenda:\n",
            "where can see the prime ministers the pioneers\n",
            "True category: SearchScreeningEvent\n",
            "Predicted category: SearchCreativeWork\n",
            "\n",
            "\n",
            "----------------------------\n",
            "Tekst komendy:\n",
            "I want to see Outcast.\n",
            "Oczyszczona komenda:\n",
            "want to see outcast\n",
            "True category: SearchScreeningEvent\n",
            "Predicted category: SearchCreativeWork\n",
            "\n",
            "\n",
            "----------------------------\n",
            "Tekst komendy:\n",
            "I want to see Fear Chamber.\n",
            "Oczyszczona komenda:\n",
            "want to see fear chamber\n",
            "True category: SearchScreeningEvent\n",
            "Predicted category: SearchCreativeWork\n",
            "\n",
            "\n"
          ],
          "name": "stdout"
        }
      ]
    },
    {
      "cell_type": "markdown",
      "metadata": {
        "id": "lm61MY9CSpLm"
      },
      "source": [
        "Wnioski:\n",
        "> "
      ]
    },
    {
      "cell_type": "code",
      "metadata": {
        "id": "odMsYEUs-6wc"
      },
      "source": [
        ""
      ],
      "execution_count": 32,
      "outputs": []
    }
  ]
}