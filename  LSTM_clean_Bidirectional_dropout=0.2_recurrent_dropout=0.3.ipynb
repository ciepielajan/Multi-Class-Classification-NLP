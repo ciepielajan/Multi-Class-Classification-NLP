{
  "nbformat": 4,
  "nbformat_minor": 0,
  "metadata": {
    "colab": {
      "name": "Detecting_intentions_MLP",
      "provenance": [],
      "collapsed_sections": [],
      "authorship_tag": "ABX9TyPV3B7Wqwb5aD9v9yQ+NWGo",
      "include_colab_link": true
    },
    "kernelspec": {
      "name": "python3",
      "display_name": "Python 3"
    },
    "language_info": {
      "name": "python"
    }
  },
  "cells": [
    {
      "cell_type": "markdown",
      "metadata": {
        "id": "view-in-github",
        "colab_type": "text"
      },
      "source": [
        "<a href=\"https://colab.research.google.com/github/ciepielajan/Multi-Class-Classification-NLP/blob/main/%20LSTM_clean_Bidirectional_dropout%3D0.2_recurrent_dropout%3D0.3.ipynb\" target=\"_parent\"><img src=\"https://colab.research.google.com/assets/colab-badge.svg\" alt=\"Open In Colab\"/></a>"
      ]
    },
    {
      "cell_type": "markdown",
      "metadata": {
        "id": "7Km6JpAYykFE"
      },
      "source": [
        "LSTM_clean_Bidirectional_dropout=0.2_recurrent_dropout=0.3"
      ]
    },
    {
      "cell_type": "markdown",
      "metadata": {
        "id": "us7PJ6w-n8ge"
      },
      "source": [
        "#### Pobranie danych"
      ]
    },
    {
      "cell_type": "code",
      "metadata": {
        "colab": {
          "base_uri": "https://localhost:8080/"
        },
        "id": "cZ_7ET22CAsA",
        "outputId": "827128d8-874e-45cd-f91d-fbfafeffdb4b"
      },
      "source": [
        "# https://drive.google.com/file/d/1fI6EXyD9TMTC1jzdu206ljXOGNjdHprq/view?usp=sharing\n",
        "!gdown --id \"1fI6EXyD9TMTC1jzdu206ljXOGNjdHprq\""
      ],
      "execution_count": 1,
      "outputs": [
        {
          "output_type": "stream",
          "text": [
            "Downloading...\n",
            "From: https://drive.google.com/uc?id=1fI6EXyD9TMTC1jzdu206ljXOGNjdHprq\n",
            "To: /content/user_intent.zip\n",
            "\r  0% 0.00/271k [00:00<?, ?B/s]\r100% 271k/271k [00:00<00:00, 38.3MB/s]\n"
          ],
          "name": "stdout"
        }
      ]
    },
    {
      "cell_type": "code",
      "metadata": {
        "colab": {
          "base_uri": "https://localhost:8080/"
        },
        "id": "uWusnzuPCHqv",
        "outputId": "e96a93c9-d928-42d8-b978-40e2eb18ee00"
      },
      "source": [
        "!unzip \"user_intent.zip\""
      ],
      "execution_count": 2,
      "outputs": [
        {
          "output_type": "stream",
          "text": [
            "Archive:  user_intent.zip\n",
            "  inflating: train.csv               \n",
            "  inflating: __MACOSX/._train.csv    \n",
            "  inflating: validation.csv          \n"
          ],
          "name": "stdout"
        }
      ]
    },
    {
      "cell_type": "code",
      "metadata": {
        "id": "9CI1LZgj-Kin"
      },
      "source": [
        ""
      ],
      "execution_count": 2,
      "outputs": []
    },
    {
      "cell_type": "code",
      "metadata": {
        "id": "NUKeVYWfCOdU",
        "colab": {
          "base_uri": "https://localhost:8080/"
        },
        "outputId": "28204124-d4c9-4186-9d94-e0fcaa210161"
      },
      "source": [
        "import pandas as pd\n",
        "import numpy as np\n",
        "from datetime import datetime\n",
        "\n",
        "data_set_train = pd.read_csv(\"train.csv\")\n",
        "data_set_valid = pd.read_csv(\"validation.csv\")\n",
        "\n",
        "print(data_set_train.shape)\n",
        "print(data_set_valid.shape)\n",
        "\n",
        "print(data_set_train.columns)\n",
        "print(data_set_valid.columns)"
      ],
      "execution_count": 3,
      "outputs": [
        {
          "output_type": "stream",
          "text": [
            "(13784, 2)\n",
            "(700, 2)\n",
            "Index(['text', 'label'], dtype='object')\n",
            "Index(['text', 'label'], dtype='object')\n"
          ],
          "name": "stdout"
        }
      ]
    },
    {
      "cell_type": "markdown",
      "metadata": {
        "id": "8Vg1fqbGoCrp"
      },
      "source": [
        "#### Podstawowy process text"
      ]
    },
    {
      "cell_type": "code",
      "metadata": {
        "id": "5GQNuCjSlz0F"
      },
      "source": [
        "import re\n",
        "def process_text(sentence):\n",
        "    sentence = re.sub('[A-Za-z0-9]+@[a-zA-z].[a-zA-Z]+', '', sentence)  # maile\n",
        "    sentence = re.sub('(http[s]*:[/][/])[a-zA-Z0-9]+', '', sentence)  # linki\n",
        "    sentence = re.sub(r\"<[^>]+>\", \" \", sentence) # remove html tag\n",
        "    sentence = re.sub(r\"[^a-zA-Z\\s]\", \"\", sentence)  # remove punctuations and numbers   \n",
        "    sentence = re.sub(r\"\\b[A-Za-z]{1}\\b\", \"\", sentence)  # remove single characters\n",
        "\n",
        "    sentence = re.sub(\"^\\s+|\\s+$\", \"\", sentence, flags=re.UNICODE) # Remove spaces both in the BEGINNING and in the END of a string:\n",
        "    sentence = \" \".join(re.split(\"\\s+\", sentence, flags=re.UNICODE))  # Remove ONLY DUPLICATE spaces:\n",
        "    sentence = sentence.lower()\n",
        "    \n",
        "    return sentence"
      ],
      "execution_count": 4,
      "outputs": []
    },
    {
      "cell_type": "code",
      "metadata": {
        "id": "RZJOju1sFOwp"
      },
      "source": [
        "data_set_train[\"clean_text\"] = data_set_train[\"text\"].apply(lambda x: process_text(x))"
      ],
      "execution_count": 5,
      "outputs": []
    },
    {
      "cell_type": "markdown",
      "metadata": {
        "id": "7epaW5cXoXef"
      },
      "source": [
        "#### `LabelEncoder` oraz `to_categorical`"
      ]
    },
    {
      "cell_type": "code",
      "metadata": {
        "id": "022rNoaL-xbl",
        "colab": {
          "base_uri": "https://localhost:8080/",
          "height": 202
        },
        "outputId": "b74bb09d-d263-49b7-e297-f4ec38eac6fb"
      },
      "source": [
        "from sklearn.preprocessing import LabelEncoder\n",
        "from keras.utils import to_categorical \n",
        "\n",
        "\n",
        "labelencoder = LabelEncoder()\n",
        "data_set_train[\"labelencoder\"] = labelencoder.fit_transform(data_set_train[\"label\"])\n",
        "\n",
        "dummy_y = to_categorical(data_set_train[\"labelencoder\"], dtype =\"float32\")\n",
        "\n",
        "data_set_train[[\"clean_text\",\"label\",\"labelencoder\"]].head(5)"
      ],
      "execution_count": 6,
      "outputs": [
        {
          "output_type": "execute_result",
          "data": {
            "text/html": [
              "<div>\n",
              "<style scoped>\n",
              "    .dataframe tbody tr th:only-of-type {\n",
              "        vertical-align: middle;\n",
              "    }\n",
              "\n",
              "    .dataframe tbody tr th {\n",
              "        vertical-align: top;\n",
              "    }\n",
              "\n",
              "    .dataframe thead th {\n",
              "        text-align: right;\n",
              "    }\n",
              "</style>\n",
              "<table border=\"1\" class=\"dataframe\">\n",
              "  <thead>\n",
              "    <tr style=\"text-align: right;\">\n",
              "      <th></th>\n",
              "      <th>clean_text</th>\n",
              "      <th>label</th>\n",
              "      <th>labelencoder</th>\n",
              "    </tr>\n",
              "  </thead>\n",
              "  <tbody>\n",
              "    <tr>\n",
              "      <th>0</th>\n",
              "      <td>find cinema nearest for films</td>\n",
              "      <td>SearchScreeningEvent</td>\n",
              "      <td>6</td>\n",
              "    </tr>\n",
              "    <tr>\n",
              "      <th>1</th>\n",
              "      <td>give the current series two stars</td>\n",
              "      <td>RateBook</td>\n",
              "      <td>4</td>\n",
              "    </tr>\n",
              "    <tr>\n",
              "      <th>2</th>\n",
              "      <td>find the good girl at movie house</td>\n",
              "      <td>SearchScreeningEvent</td>\n",
              "      <td>6</td>\n",
              "    </tr>\n",
              "    <tr>\n",
              "      <th>3</th>\n",
              "      <td>please make reservations for three at kosher t...</td>\n",
              "      <td>BookRestaurant</td>\n",
              "      <td>1</td>\n",
              "    </tr>\n",
              "    <tr>\n",
              "      <th>4</th>\n",
              "      <td>what is the forecast for here one second from now</td>\n",
              "      <td>GetWeather</td>\n",
              "      <td>2</td>\n",
              "    </tr>\n",
              "  </tbody>\n",
              "</table>\n",
              "</div>"
            ],
            "text/plain": [
              "                                          clean_text  ... labelencoder\n",
              "0                      find cinema nearest for films  ...            6\n",
              "1                  give the current series two stars  ...            4\n",
              "2                  find the good girl at movie house  ...            6\n",
              "3  please make reservations for three at kosher t...  ...            1\n",
              "4  what is the forecast for here one second from now  ...            2\n",
              "\n",
              "[5 rows x 3 columns]"
            ]
          },
          "metadata": {
            "tags": []
          },
          "execution_count": 6
        }
      ]
    },
    {
      "cell_type": "code",
      "metadata": {
        "id": "-RfsD1LSpSag",
        "colab": {
          "base_uri": "https://localhost:8080/"
        },
        "outputId": "a4af0c4e-8917-49f8-9664-bf48f58e3313"
      },
      "source": [
        "dummy_y.shape"
      ],
      "execution_count": 7,
      "outputs": [
        {
          "output_type": "execute_result",
          "data": {
            "text/plain": [
              "(13784, 7)"
            ]
          },
          "metadata": {
            "tags": []
          },
          "execution_count": 7
        }
      ]
    },
    {
      "cell_type": "code",
      "metadata": {
        "id": "S4dq1macoeQC",
        "colab": {
          "base_uri": "https://localhost:8080/"
        },
        "outputId": "8d1359a0-0e4e-4626-de0e-6296d0d3c31f"
      },
      "source": [
        "id_intention = 6\n",
        "print(\"Sprawdzenie poprawności LabelEncoder i to_categorical \\n\")\n",
        "print(\"Label - \", data_set_train[\"label\"].iloc[id_intention])\n",
        "print(\"LabelEncoder - \", data_set_train[\"labelencoder\"].iloc[id_intention])\n",
        "print()\n",
        "print(\"to_categorical - \", dummy_y[id_intention])\n",
        "print()\n",
        "print(\"return to LabelEncoder - \",np.argmax(dummy_y[id_intention], axis=-1))\n",
        "print(\"return to Label - \",labelencoder.inverse_transform([np.argmax(dummy_y[id_intention], axis=-1)]))"
      ],
      "execution_count": 8,
      "outputs": [
        {
          "output_type": "stream",
          "text": [
            "Sprawdzenie poprawności LabelEncoder i to_categorical \n",
            "\n",
            "Label -  BookRestaurant\n",
            "LabelEncoder -  1\n",
            "\n",
            "to_categorical -  [0. 1. 0. 0. 0. 0. 0.]\n",
            "\n",
            "return to LabelEncoder -  1\n",
            "return to Label -  ['BookRestaurant']\n"
          ],
          "name": "stdout"
        }
      ]
    },
    {
      "cell_type": "markdown",
      "metadata": {
        "id": "-lZTDFgGoSmT"
      },
      "source": [
        "#### Zdefiniowanie X i y"
      ]
    },
    {
      "cell_type": "code",
      "metadata": {
        "id": "JWd9mEjfBAS2"
      },
      "source": [
        "X = data_set_train[\"clean_text\"]\n",
        "y = dummy_y"
      ],
      "execution_count": 9,
      "outputs": []
    },
    {
      "cell_type": "code",
      "metadata": {
        "id": "8jUlcX2npzFs",
        "colab": {
          "base_uri": "https://localhost:8080/"
        },
        "outputId": "f16680be-069e-4fd1-dc44-1a9110a78fff"
      },
      "source": [
        "X.shape, y.shape"
      ],
      "execution_count": 10,
      "outputs": [
        {
          "output_type": "execute_result",
          "data": {
            "text/plain": [
              "((13784,), (13784, 7))"
            ]
          },
          "metadata": {
            "tags": []
          },
          "execution_count": 10
        }
      ]
    },
    {
      "cell_type": "markdown",
      "metadata": {
        "id": "9mS_l8wZoO2R"
      },
      "source": [
        "#### Podział zbioru "
      ]
    },
    {
      "cell_type": "code",
      "metadata": {
        "id": "A18D02x5sjFd"
      },
      "source": [
        "from sklearn.model_selection import train_test_split\n",
        "\n",
        "X_train, X_test, y_train, y_test = train_test_split(X, y, test_size=0.2, random_state=42)"
      ],
      "execution_count": 11,
      "outputs": []
    },
    {
      "cell_type": "code",
      "metadata": {
        "id": "i_xH9XIGuYCG",
        "colab": {
          "base_uri": "https://localhost:8080/"
        },
        "outputId": "315729f6-7205-40f4-e2a3-031246d120a8"
      },
      "source": [
        "X_train.shape, X_test.shape, y_train.shape, y_test.shape"
      ],
      "execution_count": 12,
      "outputs": [
        {
          "output_type": "execute_result",
          "data": {
            "text/plain": [
              "((11027,), (2757,), (11027, 7), (2757, 7))"
            ]
          },
          "metadata": {
            "tags": []
          },
          "execution_count": 12
        }
      ]
    },
    {
      "cell_type": "code",
      "metadata": {
        "id": "-DR0gkd1_Uv0"
      },
      "source": [
        ""
      ],
      "execution_count": 12,
      "outputs": []
    },
    {
      "cell_type": "markdown",
      "metadata": {
        "id": "chWlDg9Mtmya"
      },
      "source": [
        "#### `Tokenizer` i `pad_sequences`"
      ]
    },
    {
      "cell_type": "code",
      "metadata": {
        "id": "LCm-rbaus6QG"
      },
      "source": [
        "from keras.preprocessing.sequence import pad_sequences\n",
        "from keras.preprocessing.text import Tokenizer"
      ],
      "execution_count": 13,
      "outputs": []
    },
    {
      "cell_type": "code",
      "metadata": {
        "id": "U-ihmlc-s6QG"
      },
      "source": [
        "tokenizer = Tokenizer(num_words=5000)\n",
        "tokenizer.fit_on_texts(X_train)\n",
        "\n",
        "X_train = tokenizer.texts_to_sequences(X_train)\n",
        "X_test = tokenizer.texts_to_sequences(X_test)\n",
        "\n",
        "maxlen = 13\n",
        "vocab_size = len(tokenizer.word_index) + 1\n",
        "\n",
        "X_train = pad_sequences(X_train, padding=\"post\", truncating=\"post\", maxlen=maxlen)\n",
        "X_test = pad_sequences(X_test, padding=\"post\", truncating=\"post\", maxlen=maxlen)"
      ],
      "execution_count": 14,
      "outputs": []
    },
    {
      "cell_type": "markdown",
      "metadata": {
        "id": "VHakANxM9lOb"
      },
      "source": [
        "#### Model"
      ]
    },
    {
      "cell_type": "code",
      "metadata": {
        "id": "6xCHiM6a9nEv"
      },
      "source": [
        "from keras.layers import LSTM, Dense\n",
        "\n",
        "from keras.models import Sequential\n",
        "from keras.layers.embeddings import Embedding\n",
        "from keras.models import Model\n",
        "from tensorflow.keras.callbacks import EarlyStopping"
      ],
      "execution_count": 18,
      "outputs": []
    },
    {
      "cell_type": "markdown",
      "metadata": {
        "id": "dlehhRzS_ADA"
      },
      "source": [
        "`Bidirectional` / `dwukierunkowe warstwy rekurencyjne`\n",
        "\n",
        "warstwy przedstawiające te same informacje w sieci rekurencyjnej, ale robiące to na różne sposoby; rozwiązanie to zwiększa dokładność i rozwiązuje problemy z ginięciem informacji"
      ]
    },
    {
      "cell_type": "code",
      "metadata": {
        "id": "iQbBTgv5-iXp"
      },
      "source": [
        "from keras.layers import Bidirectional"
      ],
      "execution_count": 41,
      "outputs": []
    },
    {
      "cell_type": "code",
      "metadata": {
        "id": "tIvlVQnasO3C",
        "colab": {
          "base_uri": "https://localhost:8080/"
        },
        "outputId": "47272a96-7333-41d6-dc71-002c28c05a5b"
      },
      "source": [
        "model = Sequential()\n",
        "model.add(Embedding(vocab_size, 100, input_length=maxlen))  \n",
        "# model.add(Bidirectional(LSTM(32, dropout=0.2, recurrent_dropout=0.3, return_sequences=False,kernel_initializer='he_uniform')))\n",
        "model.add(Bidirectional(LSTM(128, dropout=0.2, recurrent_dropout=0.3)))\n",
        "model.add(Dense(7, activation=\"softmax\"))\n",
        "model.compile(loss=\"categorical_crossentropy\", optimizer=\"adam\", metrics=[\"accuracy\"])\n",
        "print(model.summary())\n",
        "\n",
        "EarlyStop = EarlyStopping(monitor='val_loss', \n",
        "                          patience=5,\n",
        "                          verbose=1)\n",
        "\n"
      ],
      "execution_count": 42,
      "outputs": [
        {
          "output_type": "stream",
          "text": [
            "Model: \"sequential_6\"\n",
            "_________________________________________________________________\n",
            "Layer (type)                 Output Shape              Param #   \n",
            "=================================================================\n",
            "embedding_6 (Embedding)      (None, 13, 100)           976800    \n",
            "_________________________________________________________________\n",
            "bidirectional_6 (Bidirection (None, 256)               234496    \n",
            "_________________________________________________________________\n",
            "dense_6 (Dense)              (None, 7)                 1799      \n",
            "=================================================================\n",
            "Total params: 1,213,095\n",
            "Trainable params: 1,213,095\n",
            "Non-trainable params: 0\n",
            "_________________________________________________________________\n",
            "None\n"
          ],
          "name": "stdout"
        }
      ]
    },
    {
      "cell_type": "code",
      "metadata": {
        "colab": {
          "base_uri": "https://localhost:8080/"
        },
        "id": "jghnjjgzndpm",
        "outputId": "680b6788-ff9f-4a3c-e280-96092fb8ba51"
      },
      "source": [
        "history = model.fit(X_train, \n",
        "                    y_train, \n",
        "                    epochs=20, \n",
        "                    batch_size=64, \n",
        "                    validation_split=0.2, \n",
        "                    callbacks = [EarlyStop] )\n",
        "scores = model.evaluate(X_test, y_test)\n",
        "print(f\"Accuracy {scores[1] * 100}\") "
      ],
      "execution_count": 43,
      "outputs": [
        {
          "output_type": "stream",
          "text": [
            "Epoch 1/20\n",
            "138/138 [==============================] - 19s 100ms/step - loss: 1.2143 - accuracy: 0.5482 - val_loss: 0.0848 - val_accuracy: 0.9723\n",
            "Epoch 2/20\n",
            "138/138 [==============================] - 13s 96ms/step - loss: 0.0650 - accuracy: 0.9812 - val_loss: 0.0739 - val_accuracy: 0.9728\n",
            "Epoch 3/20\n",
            "138/138 [==============================] - 13s 96ms/step - loss: 0.0371 - accuracy: 0.9894 - val_loss: 0.0630 - val_accuracy: 0.9801\n",
            "Epoch 4/20\n",
            "138/138 [==============================] - 13s 96ms/step - loss: 0.0166 - accuracy: 0.9951 - val_loss: 0.0773 - val_accuracy: 0.9778\n",
            "Epoch 5/20\n",
            "138/138 [==============================] - 13s 95ms/step - loss: 0.0179 - accuracy: 0.9946 - val_loss: 0.0746 - val_accuracy: 0.9782\n",
            "Epoch 6/20\n",
            "138/138 [==============================] - 13s 96ms/step - loss: 0.0083 - accuracy: 0.9977 - val_loss: 0.0890 - val_accuracy: 0.9719\n",
            "Epoch 7/20\n",
            "138/138 [==============================] - 13s 96ms/step - loss: 0.0121 - accuracy: 0.9969 - val_loss: 0.0807 - val_accuracy: 0.9782\n",
            "Epoch 8/20\n",
            "138/138 [==============================] - 13s 97ms/step - loss: 0.0041 - accuracy: 0.9989 - val_loss: 0.0788 - val_accuracy: 0.9773\n",
            "Epoch 00008: early stopping\n",
            "87/87 [==============================] - 1s 9ms/step - loss: 0.0747 - accuracy: 0.9811\n",
            "Accuracy 98.11389446258545\n"
          ],
          "name": "stdout"
        }
      ]
    },
    {
      "cell_type": "code",
      "metadata": {
        "id": "bHv6PlrGrYUr",
        "colab": {
          "base_uri": "https://localhost:8080/",
          "height": 545
        },
        "outputId": "7b0b1a07-999f-4e1e-9b8a-115a7c9f3cc4"
      },
      "source": [
        "import matplotlib.pyplot as plt\n",
        "acc = history.history['accuracy']\n",
        "val_acc = history.history['val_accuracy']\n",
        "loss = history.history['loss']\n",
        "val_loss = history.history['val_loss']\n",
        "\n",
        "epochs = range(len(acc))\n",
        "\n",
        "plt.plot(epochs, acc, 'bo', label='Dokladnosc trenowania')\n",
        "plt.plot(epochs, val_acc, 'b', label='Dokladnosc walidacji')\n",
        "plt.title('Dokladnosc trenowania i walidacji')\n",
        "plt.legend()\n",
        "\n",
        "plt.figure()\n",
        "\n",
        "plt.plot(epochs, loss, 'bo', label='Strata trenowania')\n",
        "plt.plot(epochs, val_loss, 'b', label='Strata walidacji')\n",
        "plt.title('Strata trenowania i walidacji')\n",
        "plt.legend()\n",
        "\n",
        "plt.show()"
      ],
      "execution_count": 44,
      "outputs": [
        {
          "output_type": "display_data",
          "data": {
            "image/png": "[encoded data removed]",
            "text/plain": [
              "<Figure size 432x288 with 1 Axes>"
            ]
          },
          "metadata": {
            "tags": [],
            "needs_background": "light"
          }
        },
        {
          "output_type": "display_data",
          "data": {
            "image/png": "[encoded data removed]",
            "text/plain": [
              "<Figure size 432x288 with 1 Axes>"
            ]
          },
          "metadata": {
            "tags": [],
            "needs_background": "light"
          }
        }
      ]
    },
    {
      "cell_type": "code",
      "metadata": {
        "id": "Ui9nW3K0_0bf"
      },
      "source": [
        ""
      ],
      "execution_count": 44,
      "outputs": []
    },
    {
      "cell_type": "code",
      "metadata": {
        "id": "dJtnYTgA_06S"
      },
      "source": [
        ""
      ],
      "execution_count": 44,
      "outputs": []
    },
    {
      "cell_type": "markdown",
      "metadata": {
        "id": "B0IdSKiJtzgd"
      },
      "source": [
        "#### Predykcja na zbiorze validacyjnym"
      ]
    },
    {
      "cell_type": "code",
      "metadata": {
        "id": "27dr_LCO_1IW",
        "colab": {
          "base_uri": "https://localhost:8080/"
        },
        "outputId": "f4f37d7d-b7f6-44c9-e831-8b0a24831e98"
      },
      "source": [
        "# oczysczenie danych\n",
        "data_set_valid[\"clean_text\"] = data_set_valid[\"text\"].apply(lambda x: process_text(x))\n",
        "\n",
        "# labelencoder \n",
        "data_set_valid[\"labelencoder\"] = labelencoder.fit_transform(data_set_valid[\"label\"])\n",
        "\n",
        "# tokenizacja weg przetrenowanego już tokenizera\n",
        "X_validate = tokenizer.texts_to_sequences(data_set_valid[\"clean_text\"])\n",
        "\n",
        "# pad sequel\n",
        "X_validate = pad_sequences(X_validate, padding=\"post\", truncating=\"post\", maxlen=maxlen)\n",
        "X_validate"
      ],
      "execution_count": 45,
      "outputs": [
        {
          "output_type": "execute_result",
          "data": {
            "text/plain": [
              "array([[ 15,  42,  50, ...,   0,   0,   0],\n",
              "       [241, 177,  21, ...,   0,   0,   0],\n",
              "       [ 15,   8,   1, ...,   2, 174, 997],\n",
              "       ...,\n",
              "       [ 28,   1,  84, ...,   0,   0,   0],\n",
              "       [ 15,   8,   1, ...,   0,   0,   0],\n",
              "       [ 45,  40,   4, ...,   0,   0,   0]], dtype=int32)"
            ]
          },
          "metadata": {
            "tags": []
          },
          "execution_count": 45
        }
      ]
    },
    {
      "cell_type": "code",
      "metadata": {
        "id": "UOPVqktyANNF",
        "colab": {
          "base_uri": "https://localhost:8080/"
        },
        "outputId": "80e1b531-2b80-4b1a-f843-bdddb0e5043f"
      },
      "source": [
        "dummy_y_valid = data_set_valid[\"labelencoder\"].values\n",
        "dummy_y_valid[:5]"
      ],
      "execution_count": 46,
      "outputs": [
        {
          "output_type": "execute_result",
          "data": {
            "text/plain": [
              "array([6, 3, 2, 0, 6])"
            ]
          },
          "metadata": {
            "tags": []
          },
          "execution_count": 46
        }
      ]
    },
    {
      "cell_type": "code",
      "metadata": {
        "id": "NAiFC304APqL",
        "colab": {
          "base_uri": "https://localhost:8080/"
        },
        "outputId": "88a93c0f-0ff8-4203-df8a-ed6f0912c5c6"
      },
      "source": [
        "# Sprawdzenie rozmiaru zbiorów validacyjnego\n",
        "X_validate.shape, dummy_y_valid.shape"
      ],
      "execution_count": 47,
      "outputs": [
        {
          "output_type": "execute_result",
          "data": {
            "text/plain": [
              "((700, 13), (700,))"
            ]
          },
          "metadata": {
            "tags": []
          },
          "execution_count": 47
        }
      ]
    },
    {
      "cell_type": "code",
      "metadata": {
        "id": "WRbEdb7AAXGy",
        "colab": {
          "base_uri": "https://localhost:8080/"
        },
        "outputId": "428453f8-afa5-4bd2-e50e-3e28ce6a27fd"
      },
      "source": [
        "predicted_lstm_val = np.argmax(model.predict(X_validate), axis=-1)\n",
        "predicted_lstm_val[:5]"
      ],
      "execution_count": 48,
      "outputs": [
        {
          "output_type": "execute_result",
          "data": {
            "text/plain": [
              "array([6, 3, 2, 0, 6])"
            ]
          },
          "metadata": {
            "tags": []
          },
          "execution_count": 48
        }
      ]
    },
    {
      "cell_type": "markdown",
      "metadata": {
        "id": "_5wZwn-_uKE9"
      },
      "source": [
        "#### Rozkodowanie przewidzianych i prawidłowych etykiet"
      ]
    },
    {
      "cell_type": "code",
      "metadata": {
        "id": "G4U9hYvnBJ9F",
        "colab": {
          "base_uri": "https://localhost:8080/"
        },
        "outputId": "8b1f6fb0-67a9-46fe-dff3-98b3b20c07f3"
      },
      "source": [
        "y_pred = labelencoder.inverse_transform(predicted_lstm_val)\n",
        "y_pred = pd.Series(y_pred)\n",
        "y_pred.head()"
      ],
      "execution_count": 49,
      "outputs": [
        {
          "output_type": "execute_result",
          "data": {
            "text/plain": [
              "0    SearchScreeningEvent\n",
              "1               PlayMusic\n",
              "2              GetWeather\n",
              "3           AddToPlaylist\n",
              "4    SearchScreeningEvent\n",
              "dtype: object"
            ]
          },
          "metadata": {
            "tags": []
          },
          "execution_count": 49
        }
      ]
    },
    {
      "cell_type": "code",
      "metadata": {
        "id": "EW03pUanA729",
        "colab": {
          "base_uri": "https://localhost:8080/"
        },
        "outputId": "af54115b-aff3-4792-aaad-361325b217f8"
      },
      "source": [
        "y_val = labelencoder.inverse_transform(dummy_y_valid)\n",
        "y_val = pd.Series(y_val)\n",
        "y_val.head()"
      ],
      "execution_count": 50,
      "outputs": [
        {
          "output_type": "execute_result",
          "data": {
            "text/plain": [
              "0    SearchScreeningEvent\n",
              "1               PlayMusic\n",
              "2              GetWeather\n",
              "3           AddToPlaylist\n",
              "4    SearchScreeningEvent\n",
              "dtype: object"
            ]
          },
          "metadata": {
            "tags": []
          },
          "execution_count": 50
        }
      ]
    },
    {
      "cell_type": "markdown",
      "metadata": {
        "id": "RcGfyRgQudTZ"
      },
      "source": [
        "#### `Confusion matrix`"
      ]
    },
    {
      "cell_type": "code",
      "metadata": {
        "id": "GXVwswIsA9RT"
      },
      "source": [
        "from sklearn.metrics import accuracy_score, f1_score, classification_report, confusion_matrix\n",
        "%matplotlib inline\n",
        "from matplotlib import pyplot as plt\n",
        "import seaborn as sns"
      ],
      "execution_count": 51,
      "outputs": []
    },
    {
      "cell_type": "code",
      "metadata": {
        "id": "fGr6-cjzBFLc",
        "colab": {
          "base_uri": "https://localhost:8080/",
          "height": 710
        },
        "outputId": "ee8c6673-571f-4635-d68d-dd723db79dbf"
      },
      "source": [
        "classes = np.unique(y_val)\n",
        "\n",
        "print('Accuracy:', round(accuracy_score(y_val, y_pred),2))\n",
        "print('F1_score:', round(f1_score(y_val, y_pred, average='weighted'),2))\n",
        "\n",
        "print(classification_report(y_val, y_pred))\n",
        "# Plot confusion matrix\n",
        "cm = confusion_matrix(y_val, y_pred)\n",
        "fig, ax = plt.subplots()\n",
        "sns.heatmap(cm, annot=True, fmt='d', ax=ax, cmap=plt.cm.Blues, cbar=False)\n",
        "ax.set(xlabel='Pred', ylabel='True', xticklabels=classes, yticklabels=classes, title='Confusion matrix')\n",
        "plt.yticks(rotation=0)\n",
        "plt.xticks(rotation=90)"
      ],
      "execution_count": 52,
      "outputs": [
        {
          "output_type": "stream",
          "text": [
            "Accuracy: 0.98\n",
            "F1_score: 0.98\n",
            "                      precision    recall  f1-score   support\n",
            "\n",
            "       AddToPlaylist       0.97      1.00      0.99       100\n",
            "      BookRestaurant       1.00      0.99      0.99       100\n",
            "          GetWeather       0.99      0.97      0.98       100\n",
            "           PlayMusic       1.00      0.96      0.98       100\n",
            "            RateBook       1.00      1.00      1.00       100\n",
            "  SearchCreativeWork       0.92      1.00      0.96       100\n",
            "SearchScreeningEvent       0.99      0.94      0.96       100\n",
            "\n",
            "            accuracy                           0.98       700\n",
            "           macro avg       0.98      0.98      0.98       700\n",
            "        weighted avg       0.98      0.98      0.98       700\n",
            "\n"
          ],
          "name": "stdout"
        },
        {
          "output_type": "execute_result",
          "data": {
            "text/plain": [
              "(array([0.5, 1.5, 2.5, 3.5, 4.5, 5.5, 6.5]),\n",
              " <a list of 7 Text major ticklabel objects>)"
            ]
          },
          "metadata": {
            "tags": []
          },
          "execution_count": 52
        },
        {
          "output_type": "display_data",
          "data": {
            "image/png": "[encoded data removed]",
            "text/plain": [
              "<Figure size 432x288 with 1 Axes>"
            ]
          },
          "metadata": {
            "tags": [],
            "needs_background": "light"
          }
        }
      ]
    },
    {
      "cell_type": "markdown",
      "metadata": {
        "id": "9uxfqF9uum32"
      },
      "source": [
        "#### Zapoznanie się z błędnymi predykcjami "
      ]
    },
    {
      "cell_type": "code",
      "metadata": {
        "id": "28QYnOPM-mJz",
        "colab": {
          "base_uri": "https://localhost:8080/"
        },
        "outputId": "f9ee9967-a7da-4fa2-db8d-f6296ac89417"
      },
      "source": [
        "indexes = []\n",
        "for i, phrase in enumerate(y_pred):\n",
        "  if phrase == 'SearchCreativeWork':\n",
        "    if y_val[i] == 'SearchScreeningEvent':\n",
        "      indexes.append(i)\n",
        "print(indexes)"
      ],
      "execution_count": 53,
      "outputs": [
        {
          "output_type": "stream",
          "text": [
            "[153, 519, 557, 587, 648, 689]\n"
          ],
          "name": "stdout"
        }
      ]
    },
    {
      "cell_type": "code",
      "metadata": {
        "id": "ouy1yzy8-048",
        "colab": {
          "base_uri": "https://localhost:8080/"
        },
        "outputId": "83503ab4-ad08-46e5-fc1f-785a9e26f749"
      },
      "source": [
        "for i in indexes:\n",
        "  print(f\"----------------------------\\nTekst komendy:\\n{data_set_valid['text'][i]}\")\n",
        "  print(f\"Oczyszczona komenda:\\n{data_set_valid['clean_text'][i]}\")\n",
        "  print(f'True category: {y_val[i]}')\n",
        "  print(f'Predicted category: {y_pred[i]}')\n",
        "  print(\"\\n\")"
      ],
      "execution_count": 54,
      "outputs": [
        {
          "output_type": "stream",
          "text": [
            "----------------------------\n",
            "Tekst komendy:\n",
            "i want to see I Dream of Jeanie in a movie theatre\n",
            "Oczyszczona komenda:\n",
            "want to see dream of jeanie in movie theatre\n",
            "True category: SearchScreeningEvent\n",
            "Predicted category: SearchCreativeWork\n",
            "\n",
            "\n",
            "----------------------------\n",
            "Tekst komendy:\n",
            "i want to see JLA Adventures: Trapped In Time\n",
            "Oczyszczona komenda:\n",
            "want to see jla adventures trapped in time\n",
            "True category: SearchScreeningEvent\n",
            "Predicted category: SearchCreativeWork\n",
            "\n",
            "\n",
            "----------------------------\n",
            "Tekst komendy:\n",
            "I want to see Shattered Image.\n",
            "Oczyszczona komenda:\n",
            "want to see shattered image\n",
            "True category: SearchScreeningEvent\n",
            "Predicted category: SearchCreativeWork\n",
            "\n",
            "\n",
            "----------------------------\n",
            "Tekst komendy:\n",
            "Is Any Which Way You Can playing in 15 seconds\n",
            "Oczyszczona komenda:\n",
            "is any which way you can playing in seconds\n",
            "True category: SearchScreeningEvent\n",
            "Predicted category: SearchCreativeWork\n",
            "\n",
            "\n",
            "----------------------------\n",
            "Tekst komendy:\n",
            "I want to see Outcast.\n",
            "Oczyszczona komenda:\n",
            "want to see outcast\n",
            "True category: SearchScreeningEvent\n",
            "Predicted category: SearchCreativeWork\n",
            "\n",
            "\n",
            "----------------------------\n",
            "Tekst komendy:\n",
            "I want to see Fear Chamber.\n",
            "Oczyszczona komenda:\n",
            "want to see fear chamber\n",
            "True category: SearchScreeningEvent\n",
            "Predicted category: SearchCreativeWork\n",
            "\n",
            "\n"
          ],
          "name": "stdout"
        }
      ]
    },
    {
      "cell_type": "markdown",
      "metadata": {
        "id": "lm61MY9CSpLm"
      },
      "source": [
        "Wnioski:\n",
        "> "
      ]
    },
    {
      "cell_type": "code",
      "metadata": {
        "id": "odMsYEUs-6wc"
      },
      "source": [
        ""
      ],
      "execution_count": 54,
      "outputs": []
    }
  ]
}