{
  "nbformat": 4,
  "nbformat_minor": 0,
  "metadata": {
    "colab": {
      "name": "Detecting_intentions_MLP",
      "provenance": [],
      "collapsed_sections": [],
      "authorship_tag": "ABX9TyN2SbauuUh0AEpwUvwpOn/D",
      "include_colab_link": true
    },
    "kernelspec": {
      "name": "python3",
      "display_name": "Python 3"
    },
    "language_info": {
      "name": "python"
    }
  },
  "cells": [
    {
      "cell_type": "markdown",
      "metadata": {
        "id": "view-in-github",
        "colab_type": "text"
      },
      "source": [
        "<a href=\"https://colab.research.google.com/github/ciepielajan/Multi-Class-Classification-NLP/blob/main/Detecting_intentions_MLP.ipynb\" target=\"_parent\"><img src=\"https://colab.research.google.com/assets/colab-badge.svg\" alt=\"Open In Colab\"/></a>"
      ]
    },
    {
      "cell_type": "markdown",
      "metadata": {
        "id": "FeNbiQPho0OC"
      },
      "source": [
        "Detecting_intentions_MLP"
      ]
    },
    {
      "cell_type": "markdown",
      "metadata": {
        "id": "us7PJ6w-n8ge"
      },
      "source": [
        "#### Pobranie danych"
      ]
    },
    {
      "cell_type": "code",
      "metadata": {
        "colab": {
          "base_uri": "https://localhost:8080/"
        },
        "id": "cZ_7ET22CAsA",
        "outputId": "cceffd6d-972f-43e0-80d5-d8594fc8ab1d"
      },
      "source": [
        "# https://drive.google.com/file/d/1fI6EXyD9TMTC1jzdu206ljXOGNjdHprq/view?usp=sharing\n",
        "!gdown --id \"1fI6EXyD9TMTC1jzdu206ljXOGNjdHprq\""
      ],
      "execution_count": 1,
      "outputs": [
        {
          "output_type": "stream",
          "text": [
            "Downloading...\n",
            "From: https://drive.google.com/uc?id=1fI6EXyD9TMTC1jzdu206ljXOGNjdHprq\n",
            "To: /content/user_intent.zip\n",
            "\r  0% 0.00/271k [00:00<?, ?B/s]\r100% 271k/271k [00:00<00:00, 35.0MB/s]\n"
          ],
          "name": "stdout"
        }
      ]
    },
    {
      "cell_type": "code",
      "metadata": {
        "colab": {
          "base_uri": "https://localhost:8080/"
        },
        "id": "uWusnzuPCHqv",
        "outputId": "f1307560-579f-4021-e7c0-2a381cfdc5e8"
      },
      "source": [
        "!unzip \"user_intent.zip\""
      ],
      "execution_count": 2,
      "outputs": [
        {
          "output_type": "stream",
          "text": [
            "Archive:  user_intent.zip\n",
            "  inflating: train.csv               \n",
            "  inflating: __MACOSX/._train.csv    \n",
            "  inflating: validation.csv          \n"
          ],
          "name": "stdout"
        }
      ]
    },
    {
      "cell_type": "code",
      "metadata": {
        "id": "9CI1LZgj-Kin"
      },
      "source": [
        ""
      ],
      "execution_count": 2,
      "outputs": []
    },
    {
      "cell_type": "code",
      "metadata": {
        "colab": {
          "base_uri": "https://localhost:8080/"
        },
        "id": "NUKeVYWfCOdU",
        "outputId": "e21bf6dd-69cd-4cb6-d99f-09c850b14bc9"
      },
      "source": [
        "import pandas as pd\n",
        "import numpy as np\n",
        "\n",
        "data_set_train = pd.read_csv(\"train.csv\")\n",
        "data_set_valid = pd.read_csv(\"validation.csv\")\n",
        "\n",
        "print(data_set_train.shape)\n",
        "print(data_set_valid.shape)\n",
        "\n",
        "print(data_set_train.columns)\n",
        "print(data_set_valid.columns)"
      ],
      "execution_count": 3,
      "outputs": [
        {
          "output_type": "stream",
          "text": [
            "(13784, 2)\n",
            "(700, 2)\n",
            "Index(['text', 'label'], dtype='object')\n",
            "Index(['text', 'label'], dtype='object')\n"
          ],
          "name": "stdout"
        }
      ]
    },
    {
      "cell_type": "markdown",
      "metadata": {
        "id": "8Vg1fqbGoCrp"
      },
      "source": [
        "#### Podstawowy process text"
      ]
    },
    {
      "cell_type": "code",
      "metadata": {
        "id": "5GQNuCjSlz0F"
      },
      "source": [
        "import re\n",
        "def process_text(sentence):\n",
        "    sentence = re.sub('[A-Za-z0-9]+@[a-zA-z].[a-zA-Z]+', '', sentence)  # maile\n",
        "    sentence = re.sub('(http[s]*:[/][/])[a-zA-Z0-9]+', '', sentence)  # linki\n",
        "    sentence = re.sub(r\"<[^>]+>\", \" \", sentence) # remove html tag\n",
        "    sentence = re.sub(r\"[^a-zA-Z\\s]\", \"\", sentence)  # remove punctuations and numbers   \n",
        "    sentence = re.sub(r\"\\b[A-Za-z]{1}\\b\", \"\", sentence)  # remove single characters\n",
        "\n",
        "    sentence = re.sub(\"^\\s+|\\s+$\", \"\", sentence, flags=re.UNICODE) # Remove spaces both in the BEGINNING and in the END of a string:\n",
        "    sentence = \" \".join(re.split(\"\\s+\", sentence, flags=re.UNICODE))  # Remove ONLY DUPLICATE spaces:\n",
        "    sentence = sentence.lower()\n",
        "    \n",
        "    return sentence"
      ],
      "execution_count": 4,
      "outputs": []
    },
    {
      "cell_type": "code",
      "metadata": {
        "id": "RZJOju1sFOwp"
      },
      "source": [
        "data_set_train[\"clean_text\"] = data_set_train[\"text\"].apply(lambda x: process_text(x))"
      ],
      "execution_count": 5,
      "outputs": []
    },
    {
      "cell_type": "markdown",
      "metadata": {
        "id": "7epaW5cXoXef"
      },
      "source": [
        "#### `LabelEncoder` oraz `to_categorical`"
      ]
    },
    {
      "cell_type": "code",
      "metadata": {
        "colab": {
          "base_uri": "https://localhost:8080/",
          "height": 204
        },
        "id": "022rNoaL-xbl",
        "outputId": "d91f3446-7348-4daf-d971-95bc1555a9ab"
      },
      "source": [
        "from sklearn.preprocessing import LabelEncoder\n",
        "from keras.utils import to_categorical \n",
        "\n",
        "\n",
        "labelencoder = LabelEncoder()\n",
        "labelencoder.fit(data_set_train[\"label\"])\n",
        "\n",
        "data_set_train[\"labelencoder\"] = labelencoder.transform(data_set_train[\"label\"])\n",
        "\n",
        "dummy_y = to_categorical(data_set_train[\"labelencoder\"], dtype =\"float32\")\n",
        "\n",
        "data_set_train[[\"clean_text\",\"label\",\"labelencoder\"]].head(5)"
      ],
      "execution_count": 6,
      "outputs": [
        {
          "output_type": "execute_result",
          "data": {
            "text/html": [
              "<div>\n",
              "<style scoped>\n",
              "    .dataframe tbody tr th:only-of-type {\n",
              "        vertical-align: middle;\n",
              "    }\n",
              "\n",
              "    .dataframe tbody tr th {\n",
              "        vertical-align: top;\n",
              "    }\n",
              "\n",
              "    .dataframe thead th {\n",
              "        text-align: right;\n",
              "    }\n",
              "</style>\n",
              "<table border=\"1\" class=\"dataframe\">\n",
              "  <thead>\n",
              "    <tr style=\"text-align: right;\">\n",
              "      <th></th>\n",
              "      <th>clean_text</th>\n",
              "      <th>label</th>\n",
              "      <th>labelencoder</th>\n",
              "    </tr>\n",
              "  </thead>\n",
              "  <tbody>\n",
              "    <tr>\n",
              "      <th>0</th>\n",
              "      <td>find cinema nearest for films</td>\n",
              "      <td>SearchScreeningEvent</td>\n",
              "      <td>6</td>\n",
              "    </tr>\n",
              "    <tr>\n",
              "      <th>1</th>\n",
              "      <td>give the current series two stars</td>\n",
              "      <td>RateBook</td>\n",
              "      <td>4</td>\n",
              "    </tr>\n",
              "    <tr>\n",
              "      <th>2</th>\n",
              "      <td>find the good girl at movie house</td>\n",
              "      <td>SearchScreeningEvent</td>\n",
              "      <td>6</td>\n",
              "    </tr>\n",
              "    <tr>\n",
              "      <th>3</th>\n",
              "      <td>please make reservations for three at kosher t...</td>\n",
              "      <td>BookRestaurant</td>\n",
              "      <td>1</td>\n",
              "    </tr>\n",
              "    <tr>\n",
              "      <th>4</th>\n",
              "      <td>what is the forecast for here one second from now</td>\n",
              "      <td>GetWeather</td>\n",
              "      <td>2</td>\n",
              "    </tr>\n",
              "  </tbody>\n",
              "</table>\n",
              "</div>"
            ],
            "text/plain": [
              "                                          clean_text  ... labelencoder\n",
              "0                      find cinema nearest for films  ...            6\n",
              "1                  give the current series two stars  ...            4\n",
              "2                  find the good girl at movie house  ...            6\n",
              "3  please make reservations for three at kosher t...  ...            1\n",
              "4  what is the forecast for here one second from now  ...            2\n",
              "\n",
              "[5 rows x 3 columns]"
            ]
          },
          "metadata": {
            "tags": []
          },
          "execution_count": 6
        }
      ]
    },
    {
      "cell_type": "code",
      "metadata": {
        "colab": {
          "base_uri": "https://localhost:8080/"
        },
        "id": "-RfsD1LSpSag",
        "outputId": "13e47f4e-fdd3-4b3a-c2da-8f4ebe0a85ea"
      },
      "source": [
        "dummy_y.shape"
      ],
      "execution_count": 7,
      "outputs": [
        {
          "output_type": "execute_result",
          "data": {
            "text/plain": [
              "(13784, 7)"
            ]
          },
          "metadata": {
            "tags": []
          },
          "execution_count": 7
        }
      ]
    },
    {
      "cell_type": "code",
      "metadata": {
        "colab": {
          "base_uri": "https://localhost:8080/"
        },
        "id": "S4dq1macoeQC",
        "outputId": "2a146604-da6e-4a91-de9d-2987c7cd4acb"
      },
      "source": [
        "id_intention = 4\n",
        "print(\"Sprawdzenie poprawności LabelEncoder i to_categorical \\n\")\n",
        "print(\"Label - \", data_set_train[\"label\"].iloc[id_intention])\n",
        "print(\"LabelEncoder - \", data_set_train[\"labelencoder\"].iloc[id_intention])\n",
        "print()\n",
        "print(\"to_categorical - \", dummy_y[id_intention])\n",
        "print()\n",
        "print(\"return to LabelEncoder - \",np.argmax(dummy_y[id_intention], axis=-1))\n",
        "print(\"return to Label - \",labelencoder.inverse_transform([np.argmax(dummy_y[id_intention], axis=-1)]))"
      ],
      "execution_count": 8,
      "outputs": [
        {
          "output_type": "stream",
          "text": [
            "Sprawdzenie poprawności LabelEncoder i to_categorical \n",
            "\n",
            "Label -  GetWeather\n",
            "LabelEncoder -  2\n",
            "\n",
            "to_categorical -  [0. 0. 1. 0. 0. 0. 0.]\n",
            "\n",
            "return to LabelEncoder -  2\n",
            "return to Label -  ['GetWeather']\n"
          ],
          "name": "stdout"
        }
      ]
    },
    {
      "cell_type": "markdown",
      "metadata": {
        "id": "-lZTDFgGoSmT"
      },
      "source": [
        "#### Zdefiniowanie X i y"
      ]
    },
    {
      "cell_type": "code",
      "metadata": {
        "id": "JWd9mEjfBAS2"
      },
      "source": [
        "X = data_set_train[\"clean_text\"]\n",
        "y = dummy_y"
      ],
      "execution_count": 9,
      "outputs": []
    },
    {
      "cell_type": "code",
      "metadata": {
        "colab": {
          "base_uri": "https://localhost:8080/"
        },
        "id": "8jUlcX2npzFs",
        "outputId": "9c4ef3dc-71fb-4b78-e5f3-cbaf7511f54f"
      },
      "source": [
        "X.shape, y.shape"
      ],
      "execution_count": 10,
      "outputs": [
        {
          "output_type": "execute_result",
          "data": {
            "text/plain": [
              "((13784,), (13784, 7))"
            ]
          },
          "metadata": {
            "tags": []
          },
          "execution_count": 10
        }
      ]
    },
    {
      "cell_type": "markdown",
      "metadata": {
        "id": "9mS_l8wZoO2R"
      },
      "source": [
        "#### Podział zbioru "
      ]
    },
    {
      "cell_type": "code",
      "metadata": {
        "id": "A18D02x5sjFd"
      },
      "source": [
        "from sklearn.model_selection import train_test_split\n",
        "\n",
        "X_train, X_test, y_train, y_test = train_test_split(X, y, test_size=0.2, random_state=42)"
      ],
      "execution_count": 11,
      "outputs": []
    },
    {
      "cell_type": "code",
      "metadata": {
        "colab": {
          "base_uri": "https://localhost:8080/"
        },
        "id": "i_xH9XIGuYCG",
        "outputId": "88d48199-eaac-4e29-cba1-400cd0204810"
      },
      "source": [
        "X_train.shape, X_test.shape, y_train.shape, y_test.shape"
      ],
      "execution_count": 12,
      "outputs": [
        {
          "output_type": "execute_result",
          "data": {
            "text/plain": [
              "((11027,), (2757,), (11027, 7), (2757, 7))"
            ]
          },
          "metadata": {
            "tags": []
          },
          "execution_count": 12
        }
      ]
    },
    {
      "cell_type": "code",
      "metadata": {
        "id": "-DR0gkd1_Uv0"
      },
      "source": [
        ""
      ],
      "execution_count": 12,
      "outputs": []
    },
    {
      "cell_type": "markdown",
      "metadata": {
        "id": "chWlDg9Mtmya"
      },
      "source": [
        "#### `Tokenizer` i `pad_sequences`"
      ]
    },
    {
      "cell_type": "code",
      "metadata": {
        "id": "LCm-rbaus6QG"
      },
      "source": [
        "from keras.preprocessing.sequence import pad_sequences\n",
        "from keras.preprocessing.text import Tokenizer"
      ],
      "execution_count": 13,
      "outputs": []
    },
    {
      "cell_type": "code",
      "metadata": {
        "id": "U-ihmlc-s6QG"
      },
      "source": [
        "tokenizer = Tokenizer(num_words=5000)\n",
        "tokenizer.fit_on_texts(X_train)\n",
        "\n",
        "X_train = tokenizer.texts_to_sequences(X_train)\n",
        "X_test = tokenizer.texts_to_sequences(X_test)\n",
        "\n",
        "maxlen = 7\n",
        "vocab_size = len(tokenizer.word_index) + 1\n",
        "\n",
        "X_train = pad_sequences(X_train, padding=\"post\", truncating=\"post\", maxlen=maxlen)\n",
        "X_test = pad_sequences(X_test, padding=\"post\", truncating=\"post\", maxlen=maxlen)"
      ],
      "execution_count": 14,
      "outputs": []
    },
    {
      "cell_type": "markdown",
      "metadata": {
        "id": "pbeVSdurn-Ap"
      },
      "source": [
        "#### Model"
      ]
    },
    {
      "cell_type": "code",
      "metadata": {
        "id": "PaRWehbu_VCe"
      },
      "source": [
        "from keras.models import Sequential\n",
        "from keras.layers import Flatten, SimpleRNN, Dense\n",
        "from keras.layers.embeddings import Embedding\n",
        "from keras.models import Model\n",
        "from tensorflow.keras.callbacks import EarlyStopping"
      ],
      "execution_count": 15,
      "outputs": []
    },
    {
      "cell_type": "code",
      "metadata": {
        "colab": {
          "base_uri": "https://localhost:8080/"
        },
        "id": "BGt7E_vj_f5D",
        "outputId": "486ecf32-122e-40f4-f22c-04af067b05c9"
      },
      "source": [
        "model = Sequential()\n",
        "model.add(Embedding(vocab_size, 100, input_length=maxlen))  \n",
        "model.add(Flatten())\n",
        "model.add(Dense(7, activation=\"softmax\")) # sigmoid / softmax\n",
        "model.compile(loss=\"categorical_crossentropy\", optimizer=\"adam\", metrics=[\"accuracy\"])\n",
        "print(model.summary())"
      ],
      "execution_count": 16,
      "outputs": [
        {
          "output_type": "stream",
          "text": [
            "Model: \"sequential\"\n",
            "_________________________________________________________________\n",
            "Layer (type)                 Output Shape              Param #   \n",
            "=================================================================\n",
            "embedding (Embedding)        (None, 7, 100)            976800    \n",
            "_________________________________________________________________\n",
            "flatten (Flatten)            (None, 700)               0         \n",
            "_________________________________________________________________\n",
            "dense (Dense)                (None, 7)                 4907      \n",
            "=================================================================\n",
            "Total params: 981,707\n",
            "Trainable params: 981,707\n",
            "Non-trainable params: 0\n",
            "_________________________________________________________________\n",
            "None\n"
          ],
          "name": "stdout"
        }
      ]
    },
    {
      "cell_type": "code",
      "metadata": {
        "colab": {
          "base_uri": "https://localhost:8080/"
        },
        "id": "wdnpnIhd_qLy",
        "outputId": "fcb3c1d3-cb26-49f9-b6d7-f91322240664"
      },
      "source": [
        "from tensorflow.keras.callbacks import EarlyStopping\n",
        "\n",
        "EarlyStop = EarlyStopping(monitor='val_loss', \n",
        "                          patience=5,\n",
        "                          verbose=1)\n",
        "\n",
        "history = model.fit(X_train, \n",
        "                    y_train, \n",
        "                    epochs=20, \n",
        "                    batch_size=64, \n",
        "                    validation_split=0.2, \n",
        "                    callbacks = [EarlyStop] )\n",
        "scores = model.evaluate(X_test, y_test)\n",
        "print(f\"Accuracy {scores[1] * 100}\")"
      ],
      "execution_count": 17,
      "outputs": [
        {
          "output_type": "stream",
          "text": [
            "Epoch 1/20\n",
            "138/138 [==============================] - 3s 19ms/step - loss: 1.5719 - accuracy: 0.6944 - val_loss: 0.3967 - val_accuracy: 0.9420\n",
            "Epoch 2/20\n",
            "138/138 [==============================] - 2s 15ms/step - loss: 0.2917 - accuracy: 0.9525 - val_loss: 0.1612 - val_accuracy: 0.9637\n",
            "Epoch 3/20\n",
            "138/138 [==============================] - 2s 15ms/step - loss: 0.1123 - accuracy: 0.9803 - val_loss: 0.1116 - val_accuracy: 0.9719\n",
            "Epoch 4/20\n",
            "138/138 [==============================] - 2s 15ms/step - loss: 0.0628 - accuracy: 0.9891 - val_loss: 0.0920 - val_accuracy: 0.9742\n",
            "Epoch 5/20\n",
            "138/138 [==============================] - 2s 15ms/step - loss: 0.0420 - accuracy: 0.9934 - val_loss: 0.0821 - val_accuracy: 0.9751\n",
            "Epoch 6/20\n",
            "138/138 [==============================] - 2s 14ms/step - loss: 0.0283 - accuracy: 0.9945 - val_loss: 0.0766 - val_accuracy: 0.9773\n",
            "Epoch 7/20\n",
            "138/138 [==============================] - 2s 15ms/step - loss: 0.0203 - accuracy: 0.9976 - val_loss: 0.0731 - val_accuracy: 0.9787\n",
            "Epoch 8/20\n",
            "138/138 [==============================] - 2s 15ms/step - loss: 0.0155 - accuracy: 0.9983 - val_loss: 0.0715 - val_accuracy: 0.9791\n",
            "Epoch 9/20\n",
            "138/138 [==============================] - 2s 14ms/step - loss: 0.0122 - accuracy: 0.9985 - val_loss: 0.0700 - val_accuracy: 0.9782\n",
            "Epoch 10/20\n",
            "138/138 [==============================] - 2s 14ms/step - loss: 0.0103 - accuracy: 0.9991 - val_loss: 0.0690 - val_accuracy: 0.9787\n",
            "Epoch 11/20\n",
            "138/138 [==============================] - 2s 14ms/step - loss: 0.0077 - accuracy: 0.9990 - val_loss: 0.0684 - val_accuracy: 0.9791\n",
            "Epoch 12/20\n",
            "138/138 [==============================] - 2s 14ms/step - loss: 0.0068 - accuracy: 0.9991 - val_loss: 0.0687 - val_accuracy: 0.9787\n",
            "Epoch 13/20\n",
            "138/138 [==============================] - 2s 14ms/step - loss: 0.0052 - accuracy: 0.9996 - val_loss: 0.0696 - val_accuracy: 0.9782\n",
            "Epoch 14/20\n",
            "138/138 [==============================] - 2s 15ms/step - loss: 0.0046 - accuracy: 0.9998 - val_loss: 0.0691 - val_accuracy: 0.9787\n",
            "Epoch 15/20\n",
            "138/138 [==============================] - 2s 14ms/step - loss: 0.0040 - accuracy: 0.9997 - val_loss: 0.0693 - val_accuracy: 0.9773\n",
            "Epoch 16/20\n",
            "138/138 [==============================] - 2s 14ms/step - loss: 0.0036 - accuracy: 0.9996 - val_loss: 0.0703 - val_accuracy: 0.9773\n",
            "Epoch 00016: early stopping\n",
            "87/87 [==============================] - 0s 1ms/step - loss: 0.0579 - accuracy: 0.9801\n",
            "Accuracy 98.0050802230835\n"
          ],
          "name": "stdout"
        }
      ]
    },
    {
      "cell_type": "code",
      "metadata": {
        "id": "Ui9nW3K0_0bf"
      },
      "source": [
        ""
      ],
      "execution_count": 17,
      "outputs": []
    },
    {
      "cell_type": "markdown",
      "metadata": {
        "id": "bey7f4mAoAdK"
      },
      "source": [
        "#### save all files for develop"
      ]
    },
    {
      "cell_type": "code",
      "metadata": {
        "id": "qVT8bxhLlXsZ"
      },
      "source": [
        "import pickle\n",
        "from keras.models import load_model\n",
        "from datetime import datetime "
      ],
      "execution_count": 18,
      "outputs": []
    },
    {
      "cell_type": "code",
      "metadata": {
        "id": "N_MVzdHxtBs8"
      },
      "source": [
        "now = datetime.now().strftime(\"%Y_%m_%d_%H_%M_%S\")"
      ],
      "execution_count": 19,
      "outputs": []
    },
    {
      "cell_type": "code",
      "metadata": {
        "id": "JG6dtEb-ozpY"
      },
      "source": [
        "#save and del model \n",
        "model.save(f'MLP_develop_model_{now}.h5')  # creates a HDF5 file 'my_model.h5'"
      ],
      "execution_count": 20,
      "outputs": []
    },
    {
      "cell_type": "code",
      "metadata": {
        "id": "XTe3wIwslARK"
      },
      "source": [
        "MLP_develop = {\n",
        "    \"tokenizer\" :  tokenizer ,\n",
        "    \"maxlen\" :  maxlen ,\n",
        "    \"labelencoder\" :  labelencoder \n",
        "}"
      ],
      "execution_count": null,
      "outputs": []
    },
    {
      "cell_type": "code",
      "metadata": {
        "id": "WuXDxgailjNp"
      },
      "source": [
        "pickle.dump(MLP_develop, open(f\"MLP_develop_config_{now}.pickle\", \"wb\"))"
      ],
      "execution_count": 22,
      "outputs": []
    },
    {
      "cell_type": "markdown",
      "metadata": {
        "id": "B0IdSKiJtzgd"
      },
      "source": [
        "#### Predykcja na zbiorze validacyjnym"
      ]
    },
    {
      "cell_type": "code",
      "metadata": {
        "colab": {
          "base_uri": "https://localhost:8080/"
        },
        "id": "27dr_LCO_1IW",
        "outputId": "0ba4b001-af7a-46e6-a9ed-2cd2b1730fc5"
      },
      "source": [
        "# oczysczenie danych\n",
        "data_set_valid[\"clean_text\"] = data_set_valid[\"text\"].apply(lambda x: process_text(x))\n",
        "\n",
        "# labelencoder \n",
        "data_set_valid[\"labelencoder\"] = labelencoder.fit_transform(data_set_valid[\"label\"])\n",
        "\n",
        "# tokenizacja weg przetrenowanego już tokenizera\n",
        "X_validate = tokenizer.texts_to_sequences(data_set_valid[\"clean_text\"])\n",
        "\n",
        "# pad sequel\n",
        "X_validate = pad_sequences(X_validate, padding=\"post\", truncating=\"post\", maxlen=maxlen)\n",
        "X_validate"
      ],
      "execution_count": 25,
      "outputs": [
        {
          "output_type": "execute_result",
          "data": {
            "text/plain": [
              "array([[  15,   42,   50, ...,   44,    6,    1],\n",
              "       [ 241,  177,   21, ..., 1593,    3,  738],\n",
              "       [  15,    8,    1, ...,   36,    4,   48],\n",
              "       ...,\n",
              "       [  28,    1,   84, ...,   38,    0,    0],\n",
              "       [  15,    8,    1, ...,   36,    4, 2688],\n",
              "       [  45,   40,    4, ...,  152,  129,  404]], dtype=int32)"
            ]
          },
          "metadata": {
            "tags": []
          },
          "execution_count": 25
        }
      ]
    },
    {
      "cell_type": "code",
      "metadata": {
        "colab": {
          "base_uri": "https://localhost:8080/"
        },
        "id": "UOPVqktyANNF",
        "outputId": "26d1086e-9553-4d90-c019-bd5f834ec211"
      },
      "source": [
        "dummy_y_valid = data_set_valid[\"labelencoder\"].values\n",
        "dummy_y_valid[:5]"
      ],
      "execution_count": 26,
      "outputs": [
        {
          "output_type": "execute_result",
          "data": {
            "text/plain": [
              "array([6, 3, 2, 0, 6])"
            ]
          },
          "metadata": {
            "tags": []
          },
          "execution_count": 26
        }
      ]
    },
    {
      "cell_type": "code",
      "metadata": {
        "colab": {
          "base_uri": "https://localhost:8080/"
        },
        "id": "NAiFC304APqL",
        "outputId": "75da48f8-e2a3-49a6-be60-11b029ab0775"
      },
      "source": [
        "# Sprawdzenie rozmiaru zbiorów validacyjnego\n",
        "X_validate.shape, dummy_y_valid.shape"
      ],
      "execution_count": 27,
      "outputs": [
        {
          "output_type": "execute_result",
          "data": {
            "text/plain": [
              "((700, 7), (700,))"
            ]
          },
          "metadata": {
            "tags": []
          },
          "execution_count": 27
        }
      ]
    },
    {
      "cell_type": "code",
      "metadata": {
        "colab": {
          "base_uri": "https://localhost:8080/"
        },
        "id": "WRbEdb7AAXGy",
        "outputId": "246b86c7-241f-49e2-cd4c-f828d548f9c5"
      },
      "source": [
        "predicted_lstm_val = np.argmax(model.predict(X_validate), axis=-1)\n",
        "predicted_lstm_val[:5]"
      ],
      "execution_count": 28,
      "outputs": [
        {
          "output_type": "execute_result",
          "data": {
            "text/plain": [
              "array([6, 3, 2, 0, 6])"
            ]
          },
          "metadata": {
            "tags": []
          },
          "execution_count": 28
        }
      ]
    },
    {
      "cell_type": "markdown",
      "metadata": {
        "id": "_5wZwn-_uKE9"
      },
      "source": [
        "#### Rozkodowanie przewidzianych i prawidłowych etykiet"
      ]
    },
    {
      "cell_type": "code",
      "metadata": {
        "colab": {
          "base_uri": "https://localhost:8080/"
        },
        "id": "G4U9hYvnBJ9F",
        "outputId": "c100a4be-880e-4076-9db7-8a06274951bb"
      },
      "source": [
        "y_pred = labelencoder.inverse_transform(predicted_lstm_val)\n",
        "y_pred = pd.Series(y_pred)\n",
        "y_pred.head()"
      ],
      "execution_count": 29,
      "outputs": [
        {
          "output_type": "execute_result",
          "data": {
            "text/plain": [
              "0    SearchScreeningEvent\n",
              "1               PlayMusic\n",
              "2              GetWeather\n",
              "3           AddToPlaylist\n",
              "4    SearchScreeningEvent\n",
              "dtype: object"
            ]
          },
          "metadata": {
            "tags": []
          },
          "execution_count": 29
        }
      ]
    },
    {
      "cell_type": "code",
      "metadata": {
        "colab": {
          "base_uri": "https://localhost:8080/"
        },
        "id": "EW03pUanA729",
        "outputId": "ce817f5e-5beb-4bd8-e492-e5dc64f384a3"
      },
      "source": [
        "y_val = labelencoder.inverse_transform(dummy_y_valid)\n",
        "y_val = pd.Series(y_val)\n",
        "y_val.head()"
      ],
      "execution_count": 30,
      "outputs": [
        {
          "output_type": "execute_result",
          "data": {
            "text/plain": [
              "0    SearchScreeningEvent\n",
              "1               PlayMusic\n",
              "2              GetWeather\n",
              "3           AddToPlaylist\n",
              "4    SearchScreeningEvent\n",
              "dtype: object"
            ]
          },
          "metadata": {
            "tags": []
          },
          "execution_count": 30
        }
      ]
    },
    {
      "cell_type": "markdown",
      "metadata": {
        "id": "RcGfyRgQudTZ"
      },
      "source": [
        "#### `Confusion matrix`"
      ]
    },
    {
      "cell_type": "code",
      "metadata": {
        "id": "GXVwswIsA9RT"
      },
      "source": [
        "from sklearn.metrics import accuracy_score, f1_score, classification_report, confusion_matrix\n",
        "%matplotlib inline\n",
        "from matplotlib import pyplot as plt\n",
        "import seaborn as sns"
      ],
      "execution_count": 31,
      "outputs": []
    },
    {
      "cell_type": "code",
      "metadata": {
        "colab": {
          "base_uri": "https://localhost:8080/",
          "height": 704
        },
        "id": "fGr6-cjzBFLc",
        "outputId": "f6022519-fc35-45ae-bee9-64f78cfc6ab4"
      },
      "source": [
        "classes = np.unique(y_val)\n",
        "\n",
        "print('Accuracy:', round(accuracy_score(y_val, y_pred),2))\n",
        "print('F1_score:', round(f1_score(y_val, y_pred, average='weighted'),2))\n",
        "\n",
        "print(classification_report(y_val, y_pred))\n",
        "# Plot confusion matrix\n",
        "cm = confusion_matrix(y_val, y_pred)\n",
        "fig, ax = plt.subplots()\n",
        "sns.heatmap(cm, annot=True, fmt='d', ax=ax, cmap=plt.cm.Blues, cbar=False)\n",
        "ax.set(xlabel='Pred', ylabel='True', xticklabels=classes, yticklabels=classes, title='Confusion matrix')\n",
        "plt.yticks(rotation=0)\n",
        "plt.xticks(rotation=90)"
      ],
      "execution_count": 32,
      "outputs": [
        {
          "output_type": "stream",
          "text": [
            "Accuracy: 0.97\n",
            "F1_score: 0.97\n",
            "                      precision    recall  f1-score   support\n",
            "\n",
            "       AddToPlaylist       0.98      0.99      0.99       100\n",
            "      BookRestaurant       0.99      0.98      0.98       100\n",
            "          GetWeather       0.96      0.96      0.96       100\n",
            "           PlayMusic       0.99      0.97      0.98       100\n",
            "            RateBook       1.00      1.00      1.00       100\n",
            "  SearchCreativeWork       0.91      1.00      0.95       100\n",
            "SearchScreeningEvent       0.99      0.91      0.95       100\n",
            "\n",
            "            accuracy                           0.97       700\n",
            "           macro avg       0.97      0.97      0.97       700\n",
            "        weighted avg       0.97      0.97      0.97       700\n",
            "\n"
          ],
          "name": "stdout"
        },
        {
          "output_type": "execute_result",
          "data": {
            "text/plain": [
              "(array([0.5, 1.5, 2.5, 3.5, 4.5, 5.5, 6.5]),\n",
              " <a list of 7 Text major ticklabel objects>)"
            ]
          },
          "metadata": {
            "tags": []
          },
          "execution_count": 32
        },
        {
          "output_type": "display_data",
          "data": {
            "image/png": "[encoded data removed]",
            "text/plain": [
              "<Figure size 432x288 with 1 Axes>"
            ]
          },
          "metadata": {
            "tags": [],
            "needs_background": "light"
          }
        }
      ]
    },
    {
      "cell_type": "markdown",
      "metadata": {
        "id": "9uxfqF9uum32"
      },
      "source": [
        "#### Zapoznanie się z błędnymi predykcjami "
      ]
    },
    {
      "cell_type": "code",
      "metadata": {
        "colab": {
          "base_uri": "https://localhost:8080/"
        },
        "id": "28QYnOPM-mJz",
        "outputId": "b3153e17-d071-49a9-8242-3938374a75e3"
      },
      "source": [
        "indexes = []\n",
        "for i, phrase in enumerate(y_pred):\n",
        "  if phrase == 'SearchCreativeWork':\n",
        "    if y_val[i] == 'SearchScreeningEvent':\n",
        "      indexes.append(i)\n",
        "print(indexes)"
      ],
      "execution_count": 33,
      "outputs": [
        {
          "output_type": "stream",
          "text": [
            "[6, 346, 519, 557, 615, 648, 689]\n"
          ],
          "name": "stdout"
        }
      ]
    },
    {
      "cell_type": "code",
      "metadata": {
        "id": "hX9bcZHIpHyN",
        "colab": {
          "base_uri": "https://localhost:8080/",
          "height": 35
        },
        "outputId": "f6c83d35-550b-446a-9959-7ec99031aa41"
      },
      "source": [
        "\" \".join(data_set_valid['clean_text'][568].split()[:maxlen+1])"
      ],
      "execution_count": 34,
      "outputs": [
        {
          "output_type": "execute_result",
          "data": {
            "application/vnd.google.colaboratory.intrinsic+json": {
              "type": "string"
            },
            "text/plain": [
              "'can you check the timings for super sweet'"
            ]
          },
          "metadata": {
            "tags": []
          },
          "execution_count": 34
        }
      ]
    },
    {
      "cell_type": "code",
      "metadata": {
        "colab": {
          "base_uri": "https://localhost:8080/"
        },
        "id": "ouy1yzy8-048",
        "outputId": "3a4d388a-c0cd-4bc1-8321-77d6fcd6bdd0"
      },
      "source": [
        "for i in indexes:\n",
        "  print(f\"----------------------------\\nTekst komendy id {i}:\\n{data_set_valid['text'][i]}\")\n",
        "  print(f\"Oczyszczona komenda i skrócona do wartości maxlen={maxlen}:\\n{' '.join(data_set_valid['clean_text'][i].split()[:maxlen])}\")\n",
        "  print(f'True category: {y_val[i]}')\n",
        "  print(f'Predicted category: {y_pred[i]}')\n",
        "  print(\"\\n\")"
      ],
      "execution_count": 35,
      "outputs": [
        {
          "output_type": "stream",
          "text": [
            "----------------------------\n",
            "Tekst komendy id 6:\n",
            "I want to see While the Sun Shines at the closest movie house.\n",
            "Oczyszczona komenda i skrócona do wartości maxlen=7:\n",
            "want to see while the sun shines\n",
            "True category: SearchScreeningEvent\n",
            "Predicted category: SearchCreativeWork\n",
            "\n",
            "\n",
            "----------------------------\n",
            "Tekst komendy id 346:\n",
            "I want to see Those Kids from Town, when will it be showing?\n",
            "Oczyszczona komenda i skrócona do wartości maxlen=7:\n",
            "want to see those kids from town\n",
            "True category: SearchScreeningEvent\n",
            "Predicted category: SearchCreativeWork\n",
            "\n",
            "\n",
            "----------------------------\n",
            "Tekst komendy id 519:\n",
            "i want to see JLA Adventures: Trapped In Time\n",
            "Oczyszczona komenda i skrócona do wartości maxlen=7:\n",
            "want to see jla adventures trapped in\n",
            "True category: SearchScreeningEvent\n",
            "Predicted category: SearchCreativeWork\n",
            "\n",
            "\n",
            "----------------------------\n",
            "Tekst komendy id 557:\n",
            "I want to see Shattered Image.\n",
            "Oczyszczona komenda i skrócona do wartości maxlen=7:\n",
            "want to see shattered image\n",
            "True category: SearchScreeningEvent\n",
            "Predicted category: SearchCreativeWork\n",
            "\n",
            "\n",
            "----------------------------\n",
            "Tekst komendy id 615:\n",
            "Where can I see The Prime Ministers: The Pioneers\n",
            "Oczyszczona komenda i skrócona do wartości maxlen=7:\n",
            "where can see the prime ministers the\n",
            "True category: SearchScreeningEvent\n",
            "Predicted category: SearchCreativeWork\n",
            "\n",
            "\n",
            "----------------------------\n",
            "Tekst komendy id 648:\n",
            "I want to see Outcast.\n",
            "Oczyszczona komenda i skrócona do wartości maxlen=7:\n",
            "want to see outcast\n",
            "True category: SearchScreeningEvent\n",
            "Predicted category: SearchCreativeWork\n",
            "\n",
            "\n",
            "----------------------------\n",
            "Tekst komendy id 689:\n",
            "I want to see Fear Chamber.\n",
            "Oczyszczona komenda i skrócona do wartości maxlen=7:\n",
            "want to see fear chamber\n",
            "True category: SearchScreeningEvent\n",
            "Predicted category: SearchCreativeWork\n",
            "\n",
            "\n"
          ],
          "name": "stdout"
        }
      ]
    },
    {
      "cell_type": "markdown",
      "metadata": {
        "id": "lm61MY9CSpLm"
      },
      "source": [
        "Wnioski:\n",
        "> Model ma tendencję do faworyzowania etykiety SearchCreativeWork kosztem SearchScreeningEvent. Świadczy o tym `100% skutczeność predykcji SearchCreativeWork` przy `91% skuteczności predykcji SearchScreeningEvent`. Może to wynikać z przeuczenia modelu. \n",
        "\n",
        "> Błędne predykcje zawieraja takie słowa jak `want` i `see` może lemmatyzacja lub usunięcie stop wrordów poprawi wynik. \n",
        "\n",
        "> Istotne dla skuteczności modelu może być wartość parametru `maxlen` odpowiadającego za długość intencji która trafia do modelu. W obecnym przykładzie  załóżyłem `maxlen=7` czyli model analizuje tylko pierwsze 7 słów. Warto sprawdzić wyniki dla maxlen równe 7,15 i 30. "
      ]
    },
    {
      "cell_type": "code",
      "metadata": {
        "id": "eeRa09Z_ao7g"
      },
      "source": [
        ""
      ],
      "execution_count": null,
      "outputs": []
    },
    {
      "cell_type": "markdown",
      "metadata": {
        "id": "4DPDYgS6ez12"
      },
      "source": [
        "REAL PREDICT"
      ]
    },
    {
      "cell_type": "markdown",
      "metadata": {
        "id": "lormj7RQu-vl"
      },
      "source": [
        "#### loading the necessary files to predict in develop"
      ]
    },
    {
      "cell_type": "code",
      "metadata": {
        "id": "hhzm9LWSvggi",
        "outputId": "78a6ed2b-2ea2-4986-b261-5a0769b12437",
        "colab": {
          "base_uri": "https://localhost:8080/"
        }
      },
      "source": [
        "# https://drive.google.com/file/d/1LQzf7_SBpmee41X7ecupKFMGb8n9LXLk/view?usp=sharing\n",
        "!gdown --id \"1LQzf7_SBpmee41X7ecupKFMGb8n9LXLk\"\n",
        "# https://drive.google.com/file/d/11JehTWT6J_oHyVBAcdZtq8PRJ50pRKRz/view?usp=sharing\n",
        "!gdown --id \"11JehTWT6J_oHyVBAcdZtq8PRJ50pRKRz\""
      ],
      "execution_count": 1,
      "outputs": [
        {
          "output_type": "stream",
          "text": [
            "Downloading...\n",
            "From: https://drive.google.com/uc?id=1LQzf7_SBpmee41X7ecupKFMGb8n9LXLk\n",
            "To: /content/MLP_develop_model_2021_03_24_12_04_29.h5\n",
            "11.8MB [00:01, 11.0MB/s]\n",
            "Downloading...\n",
            "From: https://drive.google.com/uc?id=11JehTWT6J_oHyVBAcdZtq8PRJ50pRKRz\n",
            "To: /content/MLP_develop_config_2021_03_24_12_04_29.pickle\n",
            "100% 451k/451k [00:00<00:00, 66.0MB/s]\n"
          ],
          "name": "stdout"
        }
      ]
    },
    {
      "cell_type": "code",
      "metadata": {
        "id": "h0-SyxuxY55l"
      },
      "source": [
        "# - LOAD\n",
        "# - function process_text\n",
        "# - instancje tokenizera\n",
        "# - maxlen dla pad_sequences\n",
        "# - model\n",
        "# - instancje labelencoder - do odkodowania predykcji"
      ],
      "execution_count": 1,
      "outputs": []
    },
    {
      "cell_type": "code",
      "metadata": {
        "id": "fYLLoqfun65J",
        "outputId": "244c6581-3f9a-4a00-915b-3bfd08d3cca0",
        "colab": {
          "base_uri": "https://localhost:8080/"
        }
      },
      "source": [
        "from keras.models import load_model\n",
        "model = load_model('MLP_develop_model_2021_03_24_12_04_29.h5')\n",
        "model.summary()"
      ],
      "execution_count": 3,
      "outputs": [
        {
          "output_type": "stream",
          "text": [
            "Model: \"sequential\"\n",
            "_________________________________________________________________\n",
            "Layer (type)                 Output Shape              Param #   \n",
            "=================================================================\n",
            "embedding (Embedding)        (None, 7, 100)            976800    \n",
            "_________________________________________________________________\n",
            "flatten (Flatten)            (None, 700)               0         \n",
            "_________________________________________________________________\n",
            "dense (Dense)                (None, 7)                 4907      \n",
            "=================================================================\n",
            "Total params: 981,707\n",
            "Trainable params: 981,707\n",
            "Non-trainable params: 0\n",
            "_________________________________________________________________\n"
          ],
          "name": "stdout"
        }
      ]
    },
    {
      "cell_type": "code",
      "metadata": {
        "id": "z0o8XoZXlioh",
        "outputId": "4e30bf89-566b-4050-ec23-842316cd6912",
        "colab": {
          "base_uri": "https://localhost:8080/"
        }
      },
      "source": [
        "import pickle\n",
        "with open('MLP_develop_config_2021_03_24_12_04_29.pickle', 'rb') as f:\n",
        "  develop_config = pickle.load(f)\n",
        "\n",
        "develop_config"
      ],
      "execution_count": 4,
      "outputs": [
        {
          "output_type": "execute_result",
          "data": {
            "text/plain": [
              "{'labelencoder': LabelEncoder(),\n",
              " 'maxlen': 7,\n",
              " 'tokenizer': <keras_preprocessing.text.Tokenizer at 0x7fb00fdd6e50>}"
            ]
          },
          "metadata": {
            "tags": []
          },
          "execution_count": 4
        }
      ]
    },
    {
      "cell_type": "code",
      "metadata": {
        "id": "H4alhJFBI9yY"
      },
      "source": [
        "labelencoder = develop_config[\"labelencoder\"]\n",
        "maxlen = develop_config[\"maxlen\"]\n",
        "tokenizer = develop_config[\"tokenizer\"]"
      ],
      "execution_count": 10,
      "outputs": []
    },
    {
      "cell_type": "markdown",
      "metadata": {
        "id": "6m2bG1GCvlT2"
      },
      "source": [
        "#### Predict"
      ]
    },
    {
      "cell_type": "code",
      "metadata": {
        "id": "PxsrsxoBn4lP"
      },
      "source": [
        "import re\n",
        "import numpy as np\n",
        "from sklearn.preprocessing import LabelEncoder\n",
        "from keras.preprocessing.text import Tokenizer\n",
        "from keras.preprocessing.sequence import pad_sequences"
      ],
      "execution_count": 12,
      "outputs": []
    },
    {
      "cell_type": "code",
      "metadata": {
        "id": "75dlTtL-YZk2"
      },
      "source": [
        "# x = \"PLAY <dasf>M</html> my 32 favorite music\"\n",
        "# x = \"find my favorite book\"\n",
        "# x = \"check the 'Red Hot Chili Peppers' discography\"\n",
        "# x = \"play the 'Red Hot Chili Peppers'\"\n",
        "x = \"play the 'Red Hot Chili Peppers' discography\""
      ],
      "execution_count": 14,
      "outputs": []
    },
    {
      "cell_type": "code",
      "metadata": {
        "id": "gby_0xPSHS4X"
      },
      "source": [
        "def process_text(sentence):\n",
        "    sentence = re.sub('[A-Za-z0-9]+@[a-zA-z].[a-zA-Z]+', '', sentence)  # maile\n",
        "    sentence = re.sub('(http[s]*:[/][/])[a-zA-Z0-9]+', '', sentence)  # linki\n",
        "    sentence = re.sub(r\"<[^>]+>\", \" \", sentence) # remove html tag\n",
        "    sentence = re.sub(r\"[^a-zA-Z\\s]\", \"\", sentence)  # remove punctuations and numbers   \n",
        "    sentence = re.sub(r\"\\b[A-Za-z]{1}\\b\", \"\", sentence)  # remove single characters\n",
        "\n",
        "    sentence = re.sub(\"^\\s+|\\s+$\", \"\", sentence, flags=re.UNICODE) # Remove spaces both in the BEGINNING and in the END of a string:\n",
        "    sentence = \" \".join(re.split(\"\\s+\", sentence, flags=re.UNICODE))  # Remove ONLY DUPLICATE spaces:\n",
        "    sentence = sentence.lower()\n",
        "    \n",
        "    return sentence"
      ],
      "execution_count": 15,
      "outputs": []
    },
    {
      "cell_type": "code",
      "metadata": {
        "colab": {
          "base_uri": "https://localhost:8080/",
          "height": 35
        },
        "id": "lNQXGA_EYZrP",
        "outputId": "c8c34e61-42aa-43e3-aea6-da8b8ac37ea5"
      },
      "source": [
        "x = process_text(x)\n",
        "x = tokenizer.texts_to_sequences([x])\n",
        "x = pad_sequences(x, padding=\"post\", truncating=\"post\", maxlen=maxlen)\n",
        "predicted_lstm_val = np.argmax(model.predict(x), axis=-1)\n",
        "y_pred = labelencoder.inverse_transform(predicted_lstm_val)[0]\n",
        "y_pred"
      ],
      "execution_count": 16,
      "outputs": [
        {
          "output_type": "execute_result",
          "data": {
            "application/vnd.google.colaboratory.intrinsic+json": {
              "type": "string"
            },
            "text/plain": [
              "'SearchCreativeWork'"
            ]
          },
          "metadata": {
            "tags": []
          },
          "execution_count": 16
        }
      ]
    },
    {
      "cell_type": "code",
      "metadata": {
        "id": "sByLyoNLiXeS",
        "colab": {
          "base_uri": "https://localhost:8080/"
        },
        "outputId": "b92e9b2f-ea3f-40e0-97fe-6b2595de20ff"
      },
      "source": [
        "# wszysktie etykiety\n",
        "labelencoder.classes_.tolist()"
      ],
      "execution_count": 17,
      "outputs": [
        {
          "output_type": "execute_result",
          "data": {
            "text/plain": [
              "['AddToPlaylist',\n",
              " 'BookRestaurant',\n",
              " 'GetWeather',\n",
              " 'PlayMusic',\n",
              " 'RateBook',\n",
              " 'SearchCreativeWork',\n",
              " 'SearchScreeningEvent']"
            ]
          },
          "metadata": {
            "tags": []
          },
          "execution_count": 17
        }
      ]
    }
  ]
}