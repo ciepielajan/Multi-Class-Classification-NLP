{
  "nbformat": 4,
  "nbformat_minor": 0,
  "metadata": {
    "colab": {
      "name": "Detecting_intentions_MLP",
      "provenance": [],
      "collapsed_sections": [],
      "authorship_tag": "ABX9TyNTxm3Z56Ob+4H2U8dEYDg7",
      "include_colab_link": true
    },
    "kernelspec": {
      "name": "python3",
      "display_name": "Python 3"
    },
    "language_info": {
      "name": "python"
    }
  },
  "cells": [
    {
      "cell_type": "markdown",
      "metadata": {
        "id": "view-in-github",
        "colab_type": "text"
      },
      "source": [
        "<a href=\"https://colab.research.google.com/github/ciepielajan/Multi-Class-Classification-NLP/blob/main/Detecting_intentions_MLP.ipynb\" target=\"_parent\"><img src=\"https://colab.research.google.com/assets/colab-badge.svg\" alt=\"Open In Colab\"/></a>"
      ]
    },
    {
      "cell_type": "markdown",
      "metadata": {
        "id": "FeNbiQPho0OC"
      },
      "source": [
        "Detecting_intentions_MLP"
      ]
    },
    {
      "cell_type": "markdown",
      "metadata": {
        "id": "us7PJ6w-n8ge"
      },
      "source": [
        "#### Pobranie danych"
      ]
    },
    {
      "cell_type": "code",
      "metadata": {
        "colab": {
          "base_uri": "https://localhost:8080/"
        },
        "id": "cZ_7ET22CAsA",
        "outputId": "372bd98c-0474-409a-9cf5-7cc7fa111184"
      },
      "source": [
        "# https://drive.google.com/file/d/1fI6EXyD9TMTC1jzdu206ljXOGNjdHprq/view?usp=sharing\n",
        "!gdown --id \"1fI6EXyD9TMTC1jzdu206ljXOGNjdHprq\""
      ],
      "execution_count": 1,
      "outputs": [
        {
          "output_type": "stream",
          "text": [
            "Downloading...\n",
            "From: https://drive.google.com/uc?id=1fI6EXyD9TMTC1jzdu206ljXOGNjdHprq\n",
            "To: /content/user_intent.zip\n",
            "\r  0% 0.00/271k [00:00<?, ?B/s]\r100% 271k/271k [00:00<00:00, 38.4MB/s]\n"
          ],
          "name": "stdout"
        }
      ]
    },
    {
      "cell_type": "code",
      "metadata": {
        "colab": {
          "base_uri": "https://localhost:8080/"
        },
        "id": "uWusnzuPCHqv",
        "outputId": "44c99e79-ac9c-408f-ce6f-4a62fcf0a01b"
      },
      "source": [
        "!unzip \"user_intent.zip\""
      ],
      "execution_count": 2,
      "outputs": [
        {
          "output_type": "stream",
          "text": [
            "Archive:  user_intent.zip\n",
            "  inflating: train.csv               \n",
            "  inflating: __MACOSX/._train.csv    \n",
            "  inflating: validation.csv          \n"
          ],
          "name": "stdout"
        }
      ]
    },
    {
      "cell_type": "code",
      "metadata": {
        "id": "9CI1LZgj-Kin"
      },
      "source": [
        ""
      ],
      "execution_count": 2,
      "outputs": []
    },
    {
      "cell_type": "code",
      "metadata": {
        "colab": {
          "base_uri": "https://localhost:8080/"
        },
        "id": "NUKeVYWfCOdU",
        "outputId": "dda8a977-bda2-4217-b6f8-2225d3a93303"
      },
      "source": [
        "import pandas as pd\n",
        "import numpy as np\n",
        "\n",
        "data_set_train = pd.read_csv(\"train.csv\")\n",
        "data_set_valid = pd.read_csv(\"validation.csv\")\n",
        "\n",
        "print(data_set_train.shape)\n",
        "print(data_set_valid.shape)\n",
        "\n",
        "print(data_set_train.columns)\n",
        "print(data_set_valid.columns)"
      ],
      "execution_count": 3,
      "outputs": [
        {
          "output_type": "stream",
          "text": [
            "(13784, 2)\n",
            "(700, 2)\n",
            "Index(['text', 'label'], dtype='object')\n",
            "Index(['text', 'label'], dtype='object')\n"
          ],
          "name": "stdout"
        }
      ]
    },
    {
      "cell_type": "markdown",
      "metadata": {
        "id": "8Vg1fqbGoCrp"
      },
      "source": [
        "#### Podstawowy process text"
      ]
    },
    {
      "cell_type": "code",
      "metadata": {
        "id": "5GQNuCjSlz0F"
      },
      "source": [
        "import re\n",
        "def process_text(sentence):\n",
        "    sentence = re.sub('[A-Za-z0-9]+@[a-zA-z].[a-zA-Z]+', '', sentence)  # maile\n",
        "    sentence = re.sub('(http[s]*:[/][/])[a-zA-Z0-9]+', '', sentence)  # linki\n",
        "    sentence = re.sub(r\"<[^>]+>\", \" \", sentence) # remove html tag\n",
        "    sentence = re.sub(r\"[^a-zA-Z\\s]\", \"\", sentence)  # remove punctuations and numbers   \n",
        "    sentence = re.sub(r\"\\b[A-Za-z]{1}\\b\", \"\", sentence)  # remove single characters\n",
        "\n",
        "    sentence = re.sub(\"^\\s+|\\s+$\", \"\", sentence, flags=re.UNICODE) # Remove spaces both in the BEGINNING and in the END of a string:\n",
        "    sentence = \" \".join(re.split(\"\\s+\", sentence, flags=re.UNICODE))  # Remove ONLY DUPLICATE spaces:\n",
        "    sentence = sentence.lower()\n",
        "    \n",
        "    return sentence"
      ],
      "execution_count": 4,
      "outputs": []
    },
    {
      "cell_type": "code",
      "metadata": {
        "id": "RZJOju1sFOwp"
      },
      "source": [
        "data_set_train[\"clean_text\"] = data_set_train[\"text\"].apply(lambda x: process_text(x))"
      ],
      "execution_count": 5,
      "outputs": []
    },
    {
      "cell_type": "markdown",
      "metadata": {
        "id": "7epaW5cXoXef"
      },
      "source": [
        "#### `LabelEncoder` oraz `to_categorical`"
      ]
    },
    {
      "cell_type": "code",
      "metadata": {
        "colab": {
          "base_uri": "https://localhost:8080/",
          "height": 202
        },
        "id": "022rNoaL-xbl",
        "outputId": "81cbcd5b-b3cc-487c-9e1a-d21d553e63a3"
      },
      "source": [
        "from sklearn.preprocessing import LabelEncoder\n",
        "from keras.utils import to_categorical \n",
        "\n",
        "\n",
        "labelencoder = LabelEncoder()\n",
        "labelencoder.fit(data_set_train[\"label\"])\n",
        "\n",
        "data_set_train[\"labelencoder\"] = labelencoder.transform(data_set_train[\"label\"])\n",
        "\n",
        "dummy_y = to_categorical(data_set_train[\"labelencoder\"], dtype =\"float32\")\n",
        "\n",
        "data_set_train[[\"clean_text\",\"label\",\"labelencoder\"]].head(5)"
      ],
      "execution_count": 6,
      "outputs": [
        {
          "output_type": "execute_result",
          "data": {
            "text/html": [
              "<div>\n",
              "<style scoped>\n",
              "    .dataframe tbody tr th:only-of-type {\n",
              "        vertical-align: middle;\n",
              "    }\n",
              "\n",
              "    .dataframe tbody tr th {\n",
              "        vertical-align: top;\n",
              "    }\n",
              "\n",
              "    .dataframe thead th {\n",
              "        text-align: right;\n",
              "    }\n",
              "</style>\n",
              "<table border=\"1\" class=\"dataframe\">\n",
              "  <thead>\n",
              "    <tr style=\"text-align: right;\">\n",
              "      <th></th>\n",
              "      <th>clean_text</th>\n",
              "      <th>label</th>\n",
              "      <th>labelencoder</th>\n",
              "    </tr>\n",
              "  </thead>\n",
              "  <tbody>\n",
              "    <tr>\n",
              "      <th>0</th>\n",
              "      <td>find cinema nearest for films</td>\n",
              "      <td>SearchScreeningEvent</td>\n",
              "      <td>6</td>\n",
              "    </tr>\n",
              "    <tr>\n",
              "      <th>1</th>\n",
              "      <td>give the current series two stars</td>\n",
              "      <td>RateBook</td>\n",
              "      <td>4</td>\n",
              "    </tr>\n",
              "    <tr>\n",
              "      <th>2</th>\n",
              "      <td>find the good girl at movie house</td>\n",
              "      <td>SearchScreeningEvent</td>\n",
              "      <td>6</td>\n",
              "    </tr>\n",
              "    <tr>\n",
              "      <th>3</th>\n",
              "      <td>please make reservations for three at kosher t...</td>\n",
              "      <td>BookRestaurant</td>\n",
              "      <td>1</td>\n",
              "    </tr>\n",
              "    <tr>\n",
              "      <th>4</th>\n",
              "      <td>what is the forecast for here one second from now</td>\n",
              "      <td>GetWeather</td>\n",
              "      <td>2</td>\n",
              "    </tr>\n",
              "  </tbody>\n",
              "</table>\n",
              "</div>"
            ],
            "text/plain": [
              "                                          clean_text  ... labelencoder\n",
              "0                      find cinema nearest for films  ...            6\n",
              "1                  give the current series two stars  ...            4\n",
              "2                  find the good girl at movie house  ...            6\n",
              "3  please make reservations for three at kosher t...  ...            1\n",
              "4  what is the forecast for here one second from now  ...            2\n",
              "\n",
              "[5 rows x 3 columns]"
            ]
          },
          "metadata": {
            "tags": []
          },
          "execution_count": 6
        }
      ]
    },
    {
      "cell_type": "code",
      "metadata": {
        "colab": {
          "base_uri": "https://localhost:8080/"
        },
        "id": "-RfsD1LSpSag",
        "outputId": "c4a8968e-c6dc-41a6-9f5d-2cfd02beaa80"
      },
      "source": [
        "dummy_y.shape"
      ],
      "execution_count": 7,
      "outputs": [
        {
          "output_type": "execute_result",
          "data": {
            "text/plain": [
              "(13784, 7)"
            ]
          },
          "metadata": {
            "tags": []
          },
          "execution_count": 7
        }
      ]
    },
    {
      "cell_type": "code",
      "metadata": {
        "colab": {
          "base_uri": "https://localhost:8080/"
        },
        "id": "S4dq1macoeQC",
        "outputId": "197772e2-5318-49f3-ec80-adc5281d4101"
      },
      "source": [
        "id_intention = 4\n",
        "print(\"Sprawdzenie poprawności LabelEncoder i to_categorical \\n\")\n",
        "print(\"Label - \", data_set_train[\"label\"].iloc[id_intention])\n",
        "print(\"LabelEncoder - \", data_set_train[\"labelencoder\"].iloc[id_intention])\n",
        "print()\n",
        "print(\"to_categorical - \", dummy_y[id_intention])\n",
        "print()\n",
        "print(\"return to LabelEncoder - \",np.argmax(dummy_y[id_intention], axis=-1))\n",
        "print(\"return to Label - \",labelencoder.inverse_transform([np.argmax(dummy_y[id_intention], axis=-1)]))"
      ],
      "execution_count": 8,
      "outputs": [
        {
          "output_type": "stream",
          "text": [
            "Sprawdzenie poprawności LabelEncoder i to_categorical \n",
            "\n",
            "Label -  GetWeather\n",
            "LabelEncoder -  2\n",
            "\n",
            "to_categorical -  [0. 0. 1. 0. 0. 0. 0.]\n",
            "\n",
            "return to LabelEncoder -  2\n",
            "return to Label -  ['GetWeather']\n"
          ],
          "name": "stdout"
        }
      ]
    },
    {
      "cell_type": "markdown",
      "metadata": {
        "id": "-lZTDFgGoSmT"
      },
      "source": [
        "#### Zdefiniowanie X i y"
      ]
    },
    {
      "cell_type": "code",
      "metadata": {
        "id": "JWd9mEjfBAS2"
      },
      "source": [
        "X = data_set_train[\"clean_text\"]\n",
        "y = dummy_y"
      ],
      "execution_count": 9,
      "outputs": []
    },
    {
      "cell_type": "code",
      "metadata": {
        "colab": {
          "base_uri": "https://localhost:8080/"
        },
        "id": "8jUlcX2npzFs",
        "outputId": "51b56fd2-71e8-45d5-d759-75ef9e84957b"
      },
      "source": [
        "X.shape, y.shape"
      ],
      "execution_count": 10,
      "outputs": [
        {
          "output_type": "execute_result",
          "data": {
            "text/plain": [
              "((13784,), (13784, 7))"
            ]
          },
          "metadata": {
            "tags": []
          },
          "execution_count": 10
        }
      ]
    },
    {
      "cell_type": "markdown",
      "metadata": {
        "id": "9mS_l8wZoO2R"
      },
      "source": [
        "#### Podział zbioru "
      ]
    },
    {
      "cell_type": "code",
      "metadata": {
        "id": "A18D02x5sjFd"
      },
      "source": [
        "from sklearn.model_selection import train_test_split\n",
        "\n",
        "X_train, X_test, y_train, y_test = train_test_split(X, y, test_size=0.2, random_state=42)"
      ],
      "execution_count": 11,
      "outputs": []
    },
    {
      "cell_type": "code",
      "metadata": {
        "colab": {
          "base_uri": "https://localhost:8080/"
        },
        "id": "i_xH9XIGuYCG",
        "outputId": "cbda17f9-b8f4-4b37-cca0-a195ac3b5aa8"
      },
      "source": [
        "X_train.shape, X_test.shape, y_train.shape, y_test.shape"
      ],
      "execution_count": 12,
      "outputs": [
        {
          "output_type": "execute_result",
          "data": {
            "text/plain": [
              "((11027,), (2757,), (11027, 7), (2757, 7))"
            ]
          },
          "metadata": {
            "tags": []
          },
          "execution_count": 12
        }
      ]
    },
    {
      "cell_type": "code",
      "metadata": {
        "id": "-DR0gkd1_Uv0"
      },
      "source": [
        ""
      ],
      "execution_count": 12,
      "outputs": []
    },
    {
      "cell_type": "markdown",
      "metadata": {
        "id": "chWlDg9Mtmya"
      },
      "source": [
        "#### `Tokenizer` i `pad_sequences`"
      ]
    },
    {
      "cell_type": "code",
      "metadata": {
        "id": "LCm-rbaus6QG"
      },
      "source": [
        "from keras.preprocessing.sequence import pad_sequences\n",
        "from keras.preprocessing.text import Tokenizer"
      ],
      "execution_count": 13,
      "outputs": []
    },
    {
      "cell_type": "code",
      "metadata": {
        "id": "U-ihmlc-s6QG"
      },
      "source": [
        "tokenizer = Tokenizer(num_words=5000)\n",
        "tokenizer.fit_on_texts(X_train)\n",
        "\n",
        "X_train = tokenizer.texts_to_sequences(X_train)\n",
        "X_test = tokenizer.texts_to_sequences(X_test)\n",
        "\n",
        "maxlen = 7\n",
        "vocab_size = len(tokenizer.word_index) + 1\n",
        "\n",
        "X_train = pad_sequences(X_train, padding=\"post\", truncating=\"post\", maxlen=maxlen)\n",
        "X_test = pad_sequences(X_test, padding=\"post\", truncating=\"post\", maxlen=maxlen)"
      ],
      "execution_count": 14,
      "outputs": []
    },
    {
      "cell_type": "markdown",
      "metadata": {
        "id": "pbeVSdurn-Ap"
      },
      "source": [
        "#### Model"
      ]
    },
    {
      "cell_type": "code",
      "metadata": {
        "id": "PaRWehbu_VCe"
      },
      "source": [
        "from keras.models import Sequential\n",
        "from keras.layers import Flatten, SimpleRNN, Dense\n",
        "from keras.layers.embeddings import Embedding\n",
        "from keras.models import Model\n",
        "from tensorflow.keras.callbacks import EarlyStopping"
      ],
      "execution_count": 15,
      "outputs": []
    },
    {
      "cell_type": "code",
      "metadata": {
        "colab": {
          "base_uri": "https://localhost:8080/"
        },
        "id": "BGt7E_vj_f5D",
        "outputId": "ab3e0ba9-92ce-4d1f-b73e-1c50ca23c4e4"
      },
      "source": [
        "model = Sequential()\n",
        "model.add(Embedding(vocab_size, 100, input_length=maxlen))  \n",
        "model.add(Flatten())\n",
        "model.add(Dense(7, activation=\"softmax\")) # sigmoid / softmax\n",
        "model.compile(loss=\"categorical_crossentropy\", optimizer=\"adam\", metrics=[\"accuracy\"])\n",
        "print(model.summary())"
      ],
      "execution_count": 16,
      "outputs": [
        {
          "output_type": "stream",
          "text": [
            "Model: \"sequential\"\n",
            "_________________________________________________________________\n",
            "Layer (type)                 Output Shape              Param #   \n",
            "=================================================================\n",
            "embedding (Embedding)        (None, 7, 100)            976800    \n",
            "_________________________________________________________________\n",
            "flatten (Flatten)            (None, 700)               0         \n",
            "_________________________________________________________________\n",
            "dense (Dense)                (None, 7)                 4907      \n",
            "=================================================================\n",
            "Total params: 981,707\n",
            "Trainable params: 981,707\n",
            "Non-trainable params: 0\n",
            "_________________________________________________________________\n",
            "None\n"
          ],
          "name": "stdout"
        }
      ]
    },
    {
      "cell_type": "code",
      "metadata": {
        "colab": {
          "base_uri": "https://localhost:8080/"
        },
        "id": "wdnpnIhd_qLy",
        "outputId": "1c89cf47-01ac-4aec-fabc-ace53d5f0da4"
      },
      "source": [
        "from tensorflow.keras.callbacks import EarlyStopping\n",
        "\n",
        "EarlyStop = EarlyStopping(monitor='val_loss', \n",
        "                          patience=5,\n",
        "                          verbose=1)\n",
        "\n",
        "history = model.fit(X_train, \n",
        "                    y_train, \n",
        "                    epochs=20, \n",
        "                    batch_size=64, \n",
        "                    validation_split=0.2, \n",
        "                    callbacks = [EarlyStop] )\n",
        "scores = model.evaluate(X_test, y_test)\n",
        "print(f\"Accuracy {scores[1] * 100}\")"
      ],
      "execution_count": 17,
      "outputs": [
        {
          "output_type": "stream",
          "text": [
            "Epoch 1/20\n",
            "138/138 [==============================] - 3s 19ms/step - loss: 1.5841 - accuracy: 0.6923 - val_loss: 0.3900 - val_accuracy: 0.9433\n",
            "Epoch 2/20\n",
            "138/138 [==============================] - 2s 15ms/step - loss: 0.2748 - accuracy: 0.9571 - val_loss: 0.1594 - val_accuracy: 0.9628\n",
            "Epoch 3/20\n",
            "138/138 [==============================] - 2s 15ms/step - loss: 0.1112 - accuracy: 0.9800 - val_loss: 0.1124 - val_accuracy: 0.9719\n",
            "Epoch 4/20\n",
            "138/138 [==============================] - 2s 14ms/step - loss: 0.0629 - accuracy: 0.9878 - val_loss: 0.0938 - val_accuracy: 0.9746\n",
            "Epoch 5/20\n",
            "138/138 [==============================] - 2s 15ms/step - loss: 0.0408 - accuracy: 0.9934 - val_loss: 0.0847 - val_accuracy: 0.9755\n",
            "Epoch 6/20\n",
            "138/138 [==============================] - 2s 16ms/step - loss: 0.0293 - accuracy: 0.9955 - val_loss: 0.0785 - val_accuracy: 0.9760\n",
            "Epoch 7/20\n",
            "138/138 [==============================] - 2s 15ms/step - loss: 0.0190 - accuracy: 0.9978 - val_loss: 0.0755 - val_accuracy: 0.9760\n",
            "Epoch 8/20\n",
            "138/138 [==============================] - 2s 15ms/step - loss: 0.0153 - accuracy: 0.9976 - val_loss: 0.0739 - val_accuracy: 0.9769\n",
            "Epoch 9/20\n",
            "138/138 [==============================] - 2s 15ms/step - loss: 0.0124 - accuracy: 0.9976 - val_loss: 0.0727 - val_accuracy: 0.9764\n",
            "Epoch 10/20\n",
            "138/138 [==============================] - 2s 15ms/step - loss: 0.0088 - accuracy: 0.9994 - val_loss: 0.0717 - val_accuracy: 0.9769\n",
            "Epoch 11/20\n",
            "138/138 [==============================] - 2s 15ms/step - loss: 0.0077 - accuracy: 0.9995 - val_loss: 0.0713 - val_accuracy: 0.9760\n",
            "Epoch 12/20\n",
            "138/138 [==============================] - 2s 15ms/step - loss: 0.0061 - accuracy: 0.9995 - val_loss: 0.0721 - val_accuracy: 0.9769\n",
            "Epoch 13/20\n",
            "138/138 [==============================] - 2s 15ms/step - loss: 0.0055 - accuracy: 0.9996 - val_loss: 0.0718 - val_accuracy: 0.9773\n",
            "Epoch 14/20\n",
            "138/138 [==============================] - 2s 15ms/step - loss: 0.0051 - accuracy: 0.9992 - val_loss: 0.0719 - val_accuracy: 0.9773\n",
            "Epoch 15/20\n",
            "138/138 [==============================] - 2s 15ms/step - loss: 0.0035 - accuracy: 0.9996 - val_loss: 0.0727 - val_accuracy: 0.9773\n",
            "Epoch 16/20\n",
            "138/138 [==============================] - 2s 16ms/step - loss: 0.0033 - accuracy: 1.0000 - val_loss: 0.0730 - val_accuracy: 0.9773\n",
            "Epoch 00016: early stopping\n",
            "87/87 [==============================] - 0s 1ms/step - loss: 0.0587 - accuracy: 0.9797\n",
            "Accuracy 97.9688048362732\n"
          ],
          "name": "stdout"
        }
      ]
    },
    {
      "cell_type": "code",
      "metadata": {
        "id": "Ui9nW3K0_0bf"
      },
      "source": [
        ""
      ],
      "execution_count": 17,
      "outputs": []
    },
    {
      "cell_type": "markdown",
      "metadata": {
        "id": "bey7f4mAoAdK"
      },
      "source": [
        "#### save all files for develop"
      ]
    },
    {
      "cell_type": "code",
      "metadata": {
        "id": "qVT8bxhLlXsZ"
      },
      "source": [
        "import pickle\n",
        "from keras.models import load_model\n",
        "from datetime import datetime "
      ],
      "execution_count": 18,
      "outputs": []
    },
    {
      "cell_type": "code",
      "metadata": {
        "id": "N_MVzdHxtBs8"
      },
      "source": [
        "now = datetime.now().strftime(\"%Y_%m_%d_%H_%M_%S\")"
      ],
      "execution_count": 19,
      "outputs": []
    },
    {
      "cell_type": "code",
      "metadata": {
        "id": "JG6dtEb-ozpY"
      },
      "source": [
        "#save and del model \n",
        "model.save(f'MLP_develop_model_{now}.h5')  "
      ],
      "execution_count": 20,
      "outputs": []
    },
    {
      "cell_type": "code",
      "metadata": {
        "id": "XTe3wIwslARK"
      },
      "source": [
        "MLP_develop = {\n",
        "    \"tokenizer\" :  tokenizer ,\n",
        "    \"maxlen\" :  maxlen ,\n",
        "    \"labelencoder\" :  labelencoder \n",
        "}"
      ],
      "execution_count": 21,
      "outputs": []
    },
    {
      "cell_type": "code",
      "metadata": {
        "id": "WuXDxgailjNp"
      },
      "source": [
        "pickle.dump(MLP_develop, open(f\"MLP_develop_config_{now}.pickle\", \"wb\"))"
      ],
      "execution_count": 22,
      "outputs": []
    },
    {
      "cell_type": "markdown",
      "metadata": {
        "id": "B0IdSKiJtzgd"
      },
      "source": [
        "#### Predykcja na zbiorze validacyjnym"
      ]
    },
    {
      "cell_type": "code",
      "metadata": {
        "colab": {
          "base_uri": "https://localhost:8080/"
        },
        "id": "27dr_LCO_1IW",
        "outputId": "85ea4a2c-61f7-40b7-efe0-dbf91f971ebc"
      },
      "source": [
        "# oczysczenie danych\n",
        "data_set_valid[\"clean_text\"] = data_set_valid[\"text\"].apply(lambda x: process_text(x))\n",
        "\n",
        "# labelencoder \n",
        "data_set_valid[\"labelencoder\"] = labelencoder.fit_transform(data_set_valid[\"label\"])\n",
        "\n",
        "# tokenizacja weg przetrenowanego już tokenizera\n",
        "X_validate = tokenizer.texts_to_sequences(data_set_valid[\"clean_text\"])\n",
        "\n",
        "# pad sequel\n",
        "X_validate = pad_sequences(X_validate, padding=\"post\", truncating=\"post\", maxlen=maxlen)\n",
        "X_validate"
      ],
      "execution_count": 23,
      "outputs": [
        {
          "output_type": "execute_result",
          "data": {
            "text/plain": [
              "array([[  15,   42,   50, ...,   44,    6,    1],\n",
              "       [ 241,  177,   21, ..., 1593,    3,  738],\n",
              "       [  15,    8,    1, ...,   36,    4,   48],\n",
              "       ...,\n",
              "       [  28,    1,   84, ...,   38,    0,    0],\n",
              "       [  15,    8,    1, ...,   36,    4, 2688],\n",
              "       [  45,   40,    4, ...,  152,  129,  404]], dtype=int32)"
            ]
          },
          "metadata": {
            "tags": []
          },
          "execution_count": 23
        }
      ]
    },
    {
      "cell_type": "code",
      "metadata": {
        "colab": {
          "base_uri": "https://localhost:8080/"
        },
        "id": "UOPVqktyANNF",
        "outputId": "d9984890-7a92-42f0-9511-85543d72befc"
      },
      "source": [
        "dummy_y_valid = data_set_valid[\"labelencoder\"].values\n",
        "dummy_y_valid[:5]"
      ],
      "execution_count": 24,
      "outputs": [
        {
          "output_type": "execute_result",
          "data": {
            "text/plain": [
              "array([6, 3, 2, 0, 6])"
            ]
          },
          "metadata": {
            "tags": []
          },
          "execution_count": 24
        }
      ]
    },
    {
      "cell_type": "code",
      "metadata": {
        "colab": {
          "base_uri": "https://localhost:8080/"
        },
        "id": "NAiFC304APqL",
        "outputId": "9cd14eff-f3ee-4275-d04f-78f52b30900c"
      },
      "source": [
        "# Sprawdzenie rozmiaru zbiorów validacyjnego\n",
        "X_validate.shape, dummy_y_valid.shape"
      ],
      "execution_count": 25,
      "outputs": [
        {
          "output_type": "execute_result",
          "data": {
            "text/plain": [
              "((700, 7), (700,))"
            ]
          },
          "metadata": {
            "tags": []
          },
          "execution_count": 25
        }
      ]
    },
    {
      "cell_type": "code",
      "metadata": {
        "colab": {
          "base_uri": "https://localhost:8080/"
        },
        "id": "WRbEdb7AAXGy",
        "outputId": "4a9f7ed6-32f3-49a8-fadf-870fe590446e"
      },
      "source": [
        "predicted_lstm_val = np.argmax(model.predict(X_validate), axis=-1)\n",
        "predicted_lstm_val[:5]"
      ],
      "execution_count": 26,
      "outputs": [
        {
          "output_type": "execute_result",
          "data": {
            "text/plain": [
              "array([6, 3, 2, 0, 6])"
            ]
          },
          "metadata": {
            "tags": []
          },
          "execution_count": 26
        }
      ]
    },
    {
      "cell_type": "markdown",
      "metadata": {
        "id": "_5wZwn-_uKE9"
      },
      "source": [
        "#### Rozkodowanie przewidzianych i prawidłowych etykiet"
      ]
    },
    {
      "cell_type": "code",
      "metadata": {
        "colab": {
          "base_uri": "https://localhost:8080/"
        },
        "id": "G4U9hYvnBJ9F",
        "outputId": "a65939b6-796a-420f-c38c-25a5656e5898"
      },
      "source": [
        "y_pred = labelencoder.inverse_transform(predicted_lstm_val)\n",
        "y_pred = pd.Series(y_pred)\n",
        "y_pred.head()"
      ],
      "execution_count": 27,
      "outputs": [
        {
          "output_type": "execute_result",
          "data": {
            "text/plain": [
              "0    SearchScreeningEvent\n",
              "1               PlayMusic\n",
              "2              GetWeather\n",
              "3           AddToPlaylist\n",
              "4    SearchScreeningEvent\n",
              "dtype: object"
            ]
          },
          "metadata": {
            "tags": []
          },
          "execution_count": 27
        }
      ]
    },
    {
      "cell_type": "code",
      "metadata": {
        "colab": {
          "base_uri": "https://localhost:8080/"
        },
        "id": "EW03pUanA729",
        "outputId": "b640a60b-2862-43bc-ede8-102d2a868e22"
      },
      "source": [
        "y_val = labelencoder.inverse_transform(dummy_y_valid)\n",
        "y_val = pd.Series(y_val)\n",
        "y_val.head()"
      ],
      "execution_count": 28,
      "outputs": [
        {
          "output_type": "execute_result",
          "data": {
            "text/plain": [
              "0    SearchScreeningEvent\n",
              "1               PlayMusic\n",
              "2              GetWeather\n",
              "3           AddToPlaylist\n",
              "4    SearchScreeningEvent\n",
              "dtype: object"
            ]
          },
          "metadata": {
            "tags": []
          },
          "execution_count": 28
        }
      ]
    },
    {
      "cell_type": "markdown",
      "metadata": {
        "id": "RcGfyRgQudTZ"
      },
      "source": [
        "#### `Confusion matrix`"
      ]
    },
    {
      "cell_type": "code",
      "metadata": {
        "id": "GXVwswIsA9RT"
      },
      "source": [
        "from sklearn.metrics import accuracy_score, f1_score, classification_report, confusion_matrix\n",
        "%matplotlib inline\n",
        "from matplotlib import pyplot as plt\n",
        "import seaborn as sns"
      ],
      "execution_count": 29,
      "outputs": []
    },
    {
      "cell_type": "code",
      "metadata": {
        "colab": {
          "base_uri": "https://localhost:8080/",
          "height": 710
        },
        "id": "fGr6-cjzBFLc",
        "outputId": "d904da78-09be-42f7-cb7b-c98da54045f0"
      },
      "source": [
        "classes = np.unique(y_val)\n",
        "\n",
        "print('Accuracy:', round(accuracy_score(y_val, y_pred),2))\n",
        "print('F1_score:', round(f1_score(y_val, y_pred, average='weighted'),2))\n",
        "\n",
        "print(classification_report(y_val, y_pred))\n",
        "# Plot confusion matrix\n",
        "cm = confusion_matrix(y_val, y_pred)\n",
        "fig, ax = plt.subplots()\n",
        "sns.heatmap(cm, annot=True, fmt='d', ax=ax, cmap=plt.cm.Blues, cbar=False)\n",
        "ax.set(xlabel='Pred', ylabel='True', xticklabels=classes, yticklabels=classes, title='Confusion matrix')\n",
        "plt.yticks(rotation=0)\n",
        "plt.xticks(rotation=90)"
      ],
      "execution_count": 30,
      "outputs": [
        {
          "output_type": "stream",
          "text": [
            "Accuracy: 0.97\n",
            "F1_score: 0.97\n",
            "                      precision    recall  f1-score   support\n",
            "\n",
            "       AddToPlaylist       0.98      0.99      0.99       100\n",
            "      BookRestaurant       0.99      0.98      0.98       100\n",
            "          GetWeather       0.96      0.97      0.97       100\n",
            "           PlayMusic       1.00      0.97      0.98       100\n",
            "            RateBook       1.00      1.00      1.00       100\n",
            "  SearchCreativeWork       0.90      1.00      0.95       100\n",
            "SearchScreeningEvent       0.99      0.90      0.94       100\n",
            "\n",
            "            accuracy                           0.97       700\n",
            "           macro avg       0.97      0.97      0.97       700\n",
            "        weighted avg       0.97      0.97      0.97       700\n",
            "\n"
          ],
          "name": "stdout"
        },
        {
          "output_type": "execute_result",
          "data": {
            "text/plain": [
              "(array([0.5, 1.5, 2.5, 3.5, 4.5, 5.5, 6.5]),\n",
              " <a list of 7 Text major ticklabel objects>)"
            ]
          },
          "metadata": {
            "tags": []
          },
          "execution_count": 30
        },
        {
          "output_type": "display_data",
          "data": {
            "image/png": "[encoded data removed]",
            "text/plain": [
              "<Figure size 432x288 with 1 Axes>"
            ]
          },
          "metadata": {
            "tags": [],
            "needs_background": "light"
          }
        }
      ]
    },
    {
      "cell_type": "markdown",
      "metadata": {
        "id": "9uxfqF9uum32"
      },
      "source": [
        "#### Zapoznanie się z błędnymi predykcjami "
      ]
    },
    {
      "cell_type": "code",
      "metadata": {
        "colab": {
          "base_uri": "https://localhost:8080/"
        },
        "id": "28QYnOPM-mJz",
        "outputId": "30e2a622-9f70-450b-d8d5-ae839b5b84c6"
      },
      "source": [
        "# pobranie indexów błędnie przewidzianych etykiet \n",
        "indexes = []\n",
        "for i, phrase in enumerate(y_pred):\n",
        "  if phrase == 'SearchCreativeWork':\n",
        "    if y_val[i] == 'SearchScreeningEvent':\n",
        "      indexes.append(i)\n",
        "print(indexes)"
      ],
      "execution_count": 31,
      "outputs": [
        {
          "output_type": "stream",
          "text": [
            "[6, 346, 519, 557, 568, 615, 648, 689]\n"
          ],
          "name": "stdout"
        }
      ]
    },
    {
      "cell_type": "code",
      "metadata": {
        "id": "8Z_F9W831sYg",
        "outputId": "49c55bdc-973e-4a25-fb56-d0f8fcb56403",
        "colab": {
          "base_uri": "https://localhost:8080/"
        }
      },
      "source": [
        "# normalizacja obliczonego prawdopodobieństwa dla wystapienia danej etykiety \n",
        "import warnings\n",
        "warnings.filterwarnings('ignore')\n",
        "\n",
        "y_proba = [      [  round(j*100, 4) for j in i  ]       for i in model.predict_proba(X_validate)    ]\n",
        "y_proba[:2]"
      ],
      "execution_count": 88,
      "outputs": [
        {
          "output_type": "execute_result",
          "data": {
            "text/plain": [
              "[[0.0, 0.0001, 0.0001, 0.0, 0.0, 0.0, 99.9998],\n",
              " [0.077, 0.028, 0.0005, 99.8802, 0.0039, 0.0081, 0.0023]]"
            ]
          },
          "metadata": {
            "tags": []
          },
          "execution_count": 88
        }
      ]
    },
    {
      "cell_type": "code",
      "metadata": {
        "colab": {
          "base_uri": "https://localhost:8080/"
        },
        "id": "ouy1yzy8-048",
        "outputId": "071b5811-e09f-4073-d2bb-cbea5e6ed612"
      },
      "source": [
        "for i in indexes:\n",
        "  print(f\"----------------------------\\nTekst komendy id {i}:\\n{data_set_valid['text'][i]}\\n\")\n",
        "  print(f\"Oczyszczona komenda i skrócona do wartości maxlen={maxlen}:\\n{' '.join(data_set_valid['clean_text'][i].split()[:maxlen])}\\n\")\n",
        "  print(f'True category: {y_val[i]} - probability - {y_proba[i][labelencoder.transform([y_val[i]])[0]]}%')\n",
        "  print(f'Predicted category: {y_pred[i]} - probability - {y_proba[i][labelencoder.transform([y_pred[i]])[0]]}%')\n",
        "  print(\"\\n\")"
      ],
      "execution_count": 83,
      "outputs": [
        {
          "output_type": "stream",
          "text": [
            "----------------------------\n",
            "Tekst komendy id 6:\n",
            "I want to see While the Sun Shines at the closest movie house.\n",
            "\n",
            "Oczyszczona komenda i skrócona do wartości maxlen=7:\n",
            "want to see while the sun shines\n",
            "\n",
            "True category: SearchScreeningEvent - probability - 38.326%\n",
            "Predicted category: SearchCreativeWork - probability - 43.5771%\n",
            "\n",
            "\n",
            "----------------------------\n",
            "Tekst komendy id 346:\n",
            "I want to see Those Kids from Town, when will it be showing?\n",
            "\n",
            "Oczyszczona komenda i skrócona do wartości maxlen=7:\n",
            "want to see those kids from town\n",
            "\n",
            "True category: SearchScreeningEvent - probability - 36.1213%\n",
            "Predicted category: SearchCreativeWork - probability - 41.1839%\n",
            "\n",
            "\n",
            "----------------------------\n",
            "Tekst komendy id 519:\n",
            "i want to see JLA Adventures: Trapped In Time\n",
            "\n",
            "Oczyszczona komenda i skrócona do wartości maxlen=7:\n",
            "want to see jla adventures trapped in\n",
            "\n",
            "True category: SearchScreeningEvent - probability - 1.3516%\n",
            "Predicted category: SearchCreativeWork - probability - 97.8258%\n",
            "\n",
            "\n",
            "----------------------------\n",
            "Tekst komendy id 557:\n",
            "I want to see Shattered Image.\n",
            "\n",
            "Oczyszczona komenda i skrócona do wartości maxlen=7:\n",
            "want to see shattered image\n",
            "\n",
            "True category: SearchScreeningEvent - probability - 7.0619%\n",
            "Predicted category: SearchCreativeWork - probability - 91.7046%\n",
            "\n",
            "\n",
            "----------------------------\n",
            "Tekst komendy id 568:\n",
            "Can you check the timings for Super Sweet 16: The Movie?\n",
            "\n",
            "Oczyszczona komenda i skrócona do wartości maxlen=7:\n",
            "can you check the timings for super\n",
            "\n",
            "True category: SearchScreeningEvent - probability - 35.2891%\n",
            "Predicted category: SearchCreativeWork - probability - 37.7639%\n",
            "\n",
            "\n",
            "----------------------------\n",
            "Tekst komendy id 615:\n",
            "Where can I see The Prime Ministers: The Pioneers\n",
            "\n",
            "Oczyszczona komenda i skrócona do wartości maxlen=7:\n",
            "where can see the prime ministers the\n",
            "\n",
            "True category: SearchScreeningEvent - probability - 20.3483%\n",
            "Predicted category: SearchCreativeWork - probability - 79.6401%\n",
            "\n",
            "\n",
            "----------------------------\n",
            "Tekst komendy id 648:\n",
            "I want to see Outcast.\n",
            "\n",
            "Oczyszczona komenda i skrócona do wartości maxlen=7:\n",
            "want to see outcast\n",
            "\n",
            "True category: SearchScreeningEvent - probability - 5.9041%\n",
            "Predicted category: SearchCreativeWork - probability - 91.9333%\n",
            "\n",
            "\n",
            "----------------------------\n",
            "Tekst komendy id 689:\n",
            "I want to see Fear Chamber.\n",
            "\n",
            "Oczyszczona komenda i skrócona do wartości maxlen=7:\n",
            "want to see fear chamber\n",
            "\n",
            "True category: SearchScreeningEvent - probability - 9.7654%\n",
            "Predicted category: SearchCreativeWork - probability - 88.9479%\n",
            "\n",
            "\n"
          ],
          "name": "stdout"
        }
      ]
    },
    {
      "cell_type": "markdown",
      "metadata": {
        "id": "lm61MY9CSpLm"
      },
      "source": [
        "Wnioski:\n",
        "> Model ma tendencję do faworyzowania etykiety SearchCreativeWork kosztem SearchScreeningEvent. Świadczy o tym `100% skutczeność predykcji SearchCreativeWork` przy `91% skuteczności predykcji SearchScreeningEvent`. Może to wynikać z przeuczenia modelu. \n",
        "\n",
        "> Błędne predykcje zawieraja takie słowa jak `want` i `see` może lemmatyzacja lub usunięcie stop wrordów poprawi wynik. "
      ]
    },
    {
      "cell_type": "code",
      "metadata": {
        "id": "AWG-60iK8dj8"
      },
      "source": [
        ""
      ],
      "execution_count": null,
      "outputs": []
    }
  ]
}