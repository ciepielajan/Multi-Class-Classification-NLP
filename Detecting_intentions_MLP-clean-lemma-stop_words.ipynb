{
  "nbformat": 4,
  "nbformat_minor": 0,
  "metadata": {
    "colab": {
      "name": "SDA NLP + RNN  Detekcja intencji  14.03.2021 -v3 praca własny",
      "provenance": [],
      "collapsed_sections": [],
      "authorship_tag": "ABX9TyPHdQNXI2DC1g5nmTc4chLJ",
      "include_colab_link": true
    },
    "kernelspec": {
      "name": "python3",
      "display_name": "Python 3"
    },
    "language_info": {
      "name": "python"
    }
  },
  "cells": [
    {
      "cell_type": "markdown",
      "metadata": {
        "id": "view-in-github",
        "colab_type": "text"
      },
      "source": [
        "<a href=\"https://colab.research.google.com/github/ciepielajan/Multi-Class-Classification-NLP/blob/main/Detecting_intentions_MLP-clean-lemma-stop_words.ipynb\" target=\"_parent\"><img src=\"https://colab.research.google.com/assets/colab-badge.svg\" alt=\"Open In Colab\"/></a>"
      ]
    },
    {
      "cell_type": "markdown",
      "metadata": {
        "id": "us7PJ6w-n8ge"
      },
      "source": [
        "#### Pobranie danych"
      ]
    },
    {
      "cell_type": "code",
      "metadata": {
        "colab": {
          "base_uri": "https://localhost:8080/"
        },
        "id": "cZ_7ET22CAsA",
        "outputId": "42d4faaa-842c-4a33-e58c-5e412c0a98ec"
      },
      "source": [
        "# https://drive.google.com/file/d/1fI6EXyD9TMTC1jzdu206ljXOGNjdHprq/view?usp=sharing\n",
        "!gdown --id \"1fI6EXyD9TMTC1jzdu206ljXOGNjdHprq\""
      ],
      "execution_count": 1,
      "outputs": [
        {
          "output_type": "stream",
          "text": [
            "Downloading...\n",
            "From: https://drive.google.com/uc?id=1fI6EXyD9TMTC1jzdu206ljXOGNjdHprq\n",
            "To: /content/user_intent.zip\n",
            "\r  0% 0.00/271k [00:00<?, ?B/s]\r100% 271k/271k [00:00<00:00, 39.4MB/s]\n"
          ],
          "name": "stdout"
        }
      ]
    },
    {
      "cell_type": "code",
      "metadata": {
        "colab": {
          "base_uri": "https://localhost:8080/"
        },
        "id": "uWusnzuPCHqv",
        "outputId": "a26fe87c-1f92-4678-a9c9-2db13130613a"
      },
      "source": [
        "!unzip \"user_intent.zip\""
      ],
      "execution_count": 2,
      "outputs": [
        {
          "output_type": "stream",
          "text": [
            "Archive:  user_intent.zip\n",
            "  inflating: train.csv               \n",
            "  inflating: __MACOSX/._train.csv    \n",
            "  inflating: validation.csv          \n"
          ],
          "name": "stdout"
        }
      ]
    },
    {
      "cell_type": "code",
      "metadata": {
        "id": "9CI1LZgj-Kin"
      },
      "source": [
        ""
      ],
      "execution_count": 2,
      "outputs": []
    },
    {
      "cell_type": "code",
      "metadata": {
        "colab": {
          "base_uri": "https://localhost:8080/"
        },
        "id": "NUKeVYWfCOdU",
        "outputId": "0d8c3eb8-b971-4570-8156-b7dfe753084f"
      },
      "source": [
        "import pandas as pd\n",
        "import numpy as np\n",
        "from datetime import datetime\n",
        "\n",
        "data_set_train = pd.read_csv(\"train.csv\")\n",
        "data_set_valid = pd.read_csv(\"validation.csv\")\n",
        "\n",
        "print(data_set_train.shape)\n",
        "print(data_set_valid.shape)\n",
        "\n",
        "print(data_set_train.columns)\n",
        "print(data_set_valid.columns)"
      ],
      "execution_count": 3,
      "outputs": [
        {
          "output_type": "stream",
          "text": [
            "(13784, 2)\n",
            "(700, 2)\n",
            "Index(['text', 'label'], dtype='object')\n",
            "Index(['text', 'label'], dtype='object')\n"
          ],
          "name": "stdout"
        }
      ]
    },
    {
      "cell_type": "markdown",
      "metadata": {
        "id": "8Vg1fqbGoCrp"
      },
      "source": [
        "#### Podstawowy process text"
      ]
    },
    {
      "cell_type": "code",
      "metadata": {
        "id": "5GQNuCjSlz0F"
      },
      "source": [
        "import re\n",
        "def process_text(sentence):\n",
        "    sentence = re.sub('[A-Za-z0-9]+@[a-zA-z].[a-zA-Z]+', '', sentence)  # maile\n",
        "    sentence = re.sub('(http[s]*:[/][/])[a-zA-Z0-9]+', '', sentence)  # linki\n",
        "    sentence = re.sub(r\"<[^>]+>\", \" \", sentence) # remove html tag\n",
        "    sentence = re.sub(r\"[^a-zA-Z\\s]\", \"\", sentence)  # remove punctuations and numbers   \n",
        "    sentence = re.sub(r\"\\b[A-Za-z]{1}\\b\", \"\", sentence)  # remove single characters\n",
        "\n",
        "    sentence = re.sub(\"^\\s+|\\s+$\", \"\", sentence, flags=re.UNICODE) # Remove spaces both in the BEGINNING and in the END of a string:\n",
        "    sentence = \" \".join(re.split(\"\\s+\", sentence, flags=re.UNICODE))  # Remove ONLY DUPLICATE spaces:\n",
        "    sentence = sentence.lower()\n",
        "    \n",
        "    return sentence"
      ],
      "execution_count": 4,
      "outputs": []
    },
    {
      "cell_type": "code",
      "metadata": {
        "id": "RZJOju1sFOwp"
      },
      "source": [
        "data_set_train[\"clean_text\"] = data_set_train[\"text\"].apply(lambda x: process_text(x))"
      ],
      "execution_count": 5,
      "outputs": []
    },
    {
      "cell_type": "markdown",
      "metadata": {
        "id": "OdmloYvmy5I2"
      },
      "source": [
        "#### `SpaCy` `Lemmatyzacja` i usunięcie `stop_words`"
      ]
    },
    {
      "cell_type": "code",
      "metadata": {
        "colab": {
          "base_uri": "https://localhost:8080/"
        },
        "id": "hKacgC9TzJtn",
        "outputId": "54022ad6-4ded-4c8b-cb51-3ff3a35fc3b9"
      },
      "source": [
        "import spacy\n",
        "# pobranie angielskich STOP WORDS (słów nie mających znaczenia)\n",
        "from spacy.lang.en.stop_words import STOP_WORDS\n",
        "stopwords = list(STOP_WORDS)\n",
        "print(stopwords)\n",
        "\n",
        "# załadowanie angielskiego CORE \n",
        "nlp = spacy.load('en_core_web_sm')"
      ],
      "execution_count": 6,
      "outputs": [
        {
          "output_type": "stream",
          "text": [
            "['also', 'much', 'fifty', 'us', '’d', 'off', 'when', 'none', 'over', 'anywhere', 'more', 'have', 'her', 'bottom', 'cannot', 'this', 'whoever', 'has', 'without', 'otherwise', 'your', 'elsewhere', 'serious', 'she', 'herself', 'thru', 'through', 'be', 'whence', 'hence', 'yourselves', 'hereby', 'almost', 'others', 'seem', 'done', 'go', 'forty', 'hereafter', 'below', 'give', 'into', 'from', 'everywhere', 'own', 'a', 'where', 'toward', 'unless', 'such', 'back', 'name', 'alone', 'using', 'twelve', 'before', 'quite', 'the', 'which', 'whom', 'well', 'amount', 'else', 'himself', 'about', 'thereupon', 'get', 'whereafter', 'nobody', 'being', 'whole', '‘ll', 'onto', 'however', 'two', '’m', 'if', 'too', 'neither', 'never', 'now', 'had', 'among', 'nowhere', 'afterwards', 'could', 'for', 'as', '’ve', 'what', 'though', 'yourself', 'often', 'everyone', 'keep', 'must', \"'d\", 'then', 'part', 'even', 'above', 'you', '’s', 'that', 'become', \"'ve\", 'down', 'former', 'thence', 'perhaps', 'am', 'after', 'made', 'eight', 'my', 'whereas', 'upon', 'will', 'beside', \"'m\", 'out', 'full', 'put', 'nor', 'hereupon', 'anyway', 'here', \"'s\", 'these', 'any', 'so', 'whither', 'its', 'are', 'at', 'some', '‘re', 'hundred', 'everything', 'up', 'why', 'since', 'than', 'latter', 'various', 'make', 'been', 'towards', 'another', 'nevertheless', 'in', 'formerly', 'mine', 'amongst', 'they', 'moreover', 'was', 'top', 'few', 'eleven', 'ourselves', 'on', 'were', 'already', \"n't\", 'last', 'wherever', 'move', 'four', 'latterly', 'someone', 'not', 'please', 'who', 'twenty', 'becoming', 'of', 'still', 'and', 'nothing', 'whatever', 'sixty', 'we', 'sometime', 'other', 'third', 'therefore', 'nine', 'an', 'whenever', 'n’t', 'very', 'one', \"'re\", 'his', 'used', 'itself', 'enough', 'each', 'him', 'becomes', 'to', 'do', 'within', 'whereby', 'further', 'least', 'between', 'somewhere', 'during', 'myself', 'see', 'thus', 'ours', 'sometimes', 'anything', 'herein', 'might', \"'ll\", 'except', 'he', 'by', 'along', 'ten', 'yours', 'seeming', 'rather', 'together', 'besides', 'me', 'fifteen', 'say', 'their', 'how', 'doing', 'again', 'either', 'something', 'therein', '‘d', 'behind', 'many', 'somehow', 'several', 'across', 'seems', 'ca', 'while', 'n‘t', 'front', 'thereafter', 'whereupon', 'just', 'call', 'it', '‘s', '‘m', 'side', 'take', 'all', 'always', 'indeed', 'may', 'five', 'regarding', 'those', 'around', 'empty', 'with', 'can', 'there', 'whose', 'because', 'most', 'throughout', 'less', 'first', 'should', 'every', 'hers', 'against', 'but', 'namely', 'via', 'themselves', 'i', 'beyond', 'only', 'really', 'next', 'wherein', '’ll', 'show', 'whether', 'or', 're', 'meanwhile', 'due', 'anyhow', 'would', 'seemed', 'does', 'ever', 'same', 'although', 'once', 'until', 'them', 'no', 'under', 'did', 'became', 'beforehand', 'yet', 'noone', 'our', 'thereby', 'six', '‘ve', 'both', 'mostly', '’re', 'anyone', 'is', 'three', 'per']\n"
          ],
          "name": "stdout"
        }
      ]
    },
    {
      "cell_type": "code",
      "metadata": {
        "colab": {
          "base_uri": "https://localhost:8080/",
          "height": 35
        },
        "id": "gMzwt0bJzpNe",
        "outputId": "c359962f-9e07-4ec8-8777-d63d4218276a"
      },
      "source": [
        "spacy.__version__"
      ],
      "execution_count": 7,
      "outputs": [
        {
          "output_type": "execute_result",
          "data": {
            "application/vnd.google.colaboratory.intrinsic+json": {
              "type": "string"
            },
            "text/plain": [
              "'2.2.4'"
            ]
          },
          "metadata": {
            "tags": []
          },
          "execution_count": 7
        }
      ]
    },
    {
      "cell_type": "code",
      "metadata": {
        "colab": {
          "base_uri": "https://localhost:8080/"
        },
        "id": "CDGR8xz-zFa7",
        "outputId": "0f7687b7-6661-4fdf-836a-5e5d1f7334fb"
      },
      "source": [
        "%%time\n",
        "data_set_train[\"tokens_lemma_without_stop\"] = data_set_train[\"clean_text\"].apply(lambda x: \" \".join([str(i.lemma_ ) for i in nlp(x) if i.lemma_  != \"-PRON-\" and i.lemma_ not in stopwords ]))"
      ],
      "execution_count": 8,
      "outputs": [
        {
          "output_type": "stream",
          "text": [
            "CPU times: user 2min 46s, sys: 172 ms, total: 2min 46s\n",
            "Wall time: 2min 47s\n"
          ],
          "name": "stdout"
        }
      ]
    },
    {
      "cell_type": "code",
      "metadata": {
        "colab": {
          "base_uri": "https://localhost:8080/",
          "height": 254
        },
        "id": "Qm19XsjF1FGx",
        "outputId": "28ea2206-26ec-4bb5-b26f-aaf16441670f"
      },
      "source": [
        "data_set_train.sample(5)"
      ],
      "execution_count": 9,
      "outputs": [
        {
          "output_type": "execute_result",
          "data": {
            "text/html": [
              "<div>\n",
              "<style scoped>\n",
              "    .dataframe tbody tr th:only-of-type {\n",
              "        vertical-align: middle;\n",
              "    }\n",
              "\n",
              "    .dataframe tbody tr th {\n",
              "        vertical-align: top;\n",
              "    }\n",
              "\n",
              "    .dataframe thead th {\n",
              "        text-align: right;\n",
              "    }\n",
              "</style>\n",
              "<table border=\"1\" class=\"dataframe\">\n",
              "  <thead>\n",
              "    <tr style=\"text-align: right;\">\n",
              "      <th></th>\n",
              "      <th>text</th>\n",
              "      <th>label</th>\n",
              "      <th>clean_text</th>\n",
              "      <th>tokens_lemma_without_stop</th>\n",
              "    </tr>\n",
              "  </thead>\n",
              "  <tbody>\n",
              "    <tr>\n",
              "      <th>9462</th>\n",
              "      <td>Include Badmeaningood Volume4 in jaime's Anima...</td>\n",
              "      <td>AddToPlaylist</td>\n",
              "      <td>include badmeaningood volume in jaimes animal ...</td>\n",
              "      <td>include badmeaningood volume jaime animal stor...</td>\n",
              "    </tr>\n",
              "    <tr>\n",
              "      <th>6497</th>\n",
              "      <td>The Songs to Sing in the Car playlist needs k ...</td>\n",
              "      <td>AddToPlaylist</td>\n",
              "      <td>the songs to sing in the car playlist needs ye...</td>\n",
              "      <td>song sing car playlist need yesudas discography</td>\n",
              "    </tr>\n",
              "    <tr>\n",
              "      <th>8925</th>\n",
              "      <td>I'd like a table for 3 at a brasserie in Hillv...</td>\n",
              "      <td>BookRestaurant</td>\n",
              "      <td>id like table for at brasserie in hillview ne ...</td>\n",
              "      <td>like table brasserie hillview ne mineiro</td>\n",
              "    </tr>\n",
              "    <tr>\n",
              "      <th>11692</th>\n",
              "      <td>Can you make reservations for 1 person in IL</td>\n",
              "      <td>BookRestaurant</td>\n",
              "      <td>can you make reservations for person in il</td>\n",
              "      <td>reservation person il</td>\n",
              "    </tr>\n",
              "    <tr>\n",
              "      <th>5244</th>\n",
              "      <td>Fine movie times for Loews Cineplex Entertainm...</td>\n",
              "      <td>SearchScreeningEvent</td>\n",
              "      <td>fine movie times for loews cineplex entertainment</td>\n",
              "      <td>fine movie time loews cineplex entertainment</td>\n",
              "    </tr>\n",
              "  </tbody>\n",
              "</table>\n",
              "</div>"
            ],
            "text/plain": [
              "                                                    text  ...                          tokens_lemma_without_stop\n",
              "9462   Include Badmeaningood Volume4 in jaime's Anima...  ...  include badmeaningood volume jaime animal stor...\n",
              "6497   The Songs to Sing in the Car playlist needs k ...  ...    song sing car playlist need yesudas discography\n",
              "8925   I'd like a table for 3 at a brasserie in Hillv...  ...           like table brasserie hillview ne mineiro\n",
              "11692       Can you make reservations for 1 person in IL  ...                              reservation person il\n",
              "5244   Fine movie times for Loews Cineplex Entertainm...  ...       fine movie time loews cineplex entertainment\n",
              "\n",
              "[5 rows x 4 columns]"
            ]
          },
          "metadata": {
            "tags": []
          },
          "execution_count": 9
        }
      ]
    },
    {
      "cell_type": "code",
      "metadata": {
        "colab": {
          "base_uri": "https://localhost:8080/"
        },
        "id": "_dEypyGx0KKL",
        "outputId": "6ba5f096-90fd-4e35-ea2b-f9691e97cbd8"
      },
      "source": [
        "id_intention = 6\n",
        "print(\"Surowy tekst\")\n",
        "print(data_set_train[\"text\"].iloc[id_intention])\n",
        "print(\"Po oczyszczeniu\")\n",
        "print(data_set_train[\"clean_text\"].iloc[id_intention])\n",
        "print(\"Po lematyzacji i usunięciu stop words\")\n",
        "print(data_set_train[\"tokens_lemma_without_stop\"].iloc[id_intention])"
      ],
      "execution_count": 10,
      "outputs": [
        {
          "output_type": "stream",
          "text": [
            "Surowy tekst\n",
            "Book a table for 10 people at a restaurant which offers internet.\n",
            "Po oczyszczeniu\n",
            "book table for people at restaurant which offers internet\n",
            "Po lematyzacji i usunięciu stop words\n",
            "book table people restaurant offer internet\n"
          ],
          "name": "stdout"
        }
      ]
    },
    {
      "cell_type": "markdown",
      "metadata": {
        "id": "7epaW5cXoXef"
      },
      "source": [
        "#### `LabelEncoder` oraz `to_categorical`"
      ]
    },
    {
      "cell_type": "code",
      "metadata": {
        "colab": {
          "base_uri": "https://localhost:8080/",
          "height": 202
        },
        "id": "022rNoaL-xbl",
        "outputId": "dc55a2ad-13a2-4e5c-8b0d-5b8311e40ed5"
      },
      "source": [
        "from sklearn.preprocessing import LabelEncoder\n",
        "from keras.utils import to_categorical \n",
        "\n",
        "\n",
        "labelencoder = LabelEncoder()\n",
        "data_set_train[\"labelencoder\"] = labelencoder.fit_transform(data_set_train[\"label\"])\n",
        "\n",
        "dummy_y = to_categorical(data_set_train[\"labelencoder\"], dtype =\"float32\")\n",
        "\n",
        "data_set_train[[\"clean_text\",\"label\",\"labelencoder\"]].head(5)"
      ],
      "execution_count": 11,
      "outputs": [
        {
          "output_type": "execute_result",
          "data": {
            "text/html": [
              "<div>\n",
              "<style scoped>\n",
              "    .dataframe tbody tr th:only-of-type {\n",
              "        vertical-align: middle;\n",
              "    }\n",
              "\n",
              "    .dataframe tbody tr th {\n",
              "        vertical-align: top;\n",
              "    }\n",
              "\n",
              "    .dataframe thead th {\n",
              "        text-align: right;\n",
              "    }\n",
              "</style>\n",
              "<table border=\"1\" class=\"dataframe\">\n",
              "  <thead>\n",
              "    <tr style=\"text-align: right;\">\n",
              "      <th></th>\n",
              "      <th>clean_text</th>\n",
              "      <th>label</th>\n",
              "      <th>labelencoder</th>\n",
              "    </tr>\n",
              "  </thead>\n",
              "  <tbody>\n",
              "    <tr>\n",
              "      <th>0</th>\n",
              "      <td>find cinema nearest for films</td>\n",
              "      <td>SearchScreeningEvent</td>\n",
              "      <td>6</td>\n",
              "    </tr>\n",
              "    <tr>\n",
              "      <th>1</th>\n",
              "      <td>give the current series two stars</td>\n",
              "      <td>RateBook</td>\n",
              "      <td>4</td>\n",
              "    </tr>\n",
              "    <tr>\n",
              "      <th>2</th>\n",
              "      <td>find the good girl at movie house</td>\n",
              "      <td>SearchScreeningEvent</td>\n",
              "      <td>6</td>\n",
              "    </tr>\n",
              "    <tr>\n",
              "      <th>3</th>\n",
              "      <td>please make reservations for three at kosher t...</td>\n",
              "      <td>BookRestaurant</td>\n",
              "      <td>1</td>\n",
              "    </tr>\n",
              "    <tr>\n",
              "      <th>4</th>\n",
              "      <td>what is the forecast for here one second from now</td>\n",
              "      <td>GetWeather</td>\n",
              "      <td>2</td>\n",
              "    </tr>\n",
              "  </tbody>\n",
              "</table>\n",
              "</div>"
            ],
            "text/plain": [
              "                                          clean_text  ... labelencoder\n",
              "0                      find cinema nearest for films  ...            6\n",
              "1                  give the current series two stars  ...            4\n",
              "2                  find the good girl at movie house  ...            6\n",
              "3  please make reservations for three at kosher t...  ...            1\n",
              "4  what is the forecast for here one second from now  ...            2\n",
              "\n",
              "[5 rows x 3 columns]"
            ]
          },
          "metadata": {
            "tags": []
          },
          "execution_count": 11
        }
      ]
    },
    {
      "cell_type": "code",
      "metadata": {
        "colab": {
          "base_uri": "https://localhost:8080/"
        },
        "id": "-RfsD1LSpSag",
        "outputId": "34f9534f-24fa-4b42-8b9b-0f95bdcdc4cc"
      },
      "source": [
        "dummy_y.shape"
      ],
      "execution_count": 12,
      "outputs": [
        {
          "output_type": "execute_result",
          "data": {
            "text/plain": [
              "(13784, 7)"
            ]
          },
          "metadata": {
            "tags": []
          },
          "execution_count": 12
        }
      ]
    },
    {
      "cell_type": "code",
      "metadata": {
        "colab": {
          "base_uri": "https://localhost:8080/"
        },
        "id": "S4dq1macoeQC",
        "outputId": "88088352-7300-42b9-fa64-920db859ae82"
      },
      "source": [
        "id_intention = 6\n",
        "print(\"Sprawdzenie poprawności LabelEncoder i to_categorical \\n\")\n",
        "print(\"Label - \", data_set_train[\"label\"].iloc[id_intention])\n",
        "print(\"LabelEncoder - \", data_set_train[\"labelencoder\"].iloc[id_intention])\n",
        "print()\n",
        "print(\"to_categorical - \", dummy_y[id_intention])\n",
        "print()\n",
        "print(\"return to LabelEncoder - \",np.argmax(dummy_y[id_intention], axis=-1))\n",
        "print(\"return to Label - \",labelencoder.inverse_transform([np.argmax(dummy_y[id_intention], axis=-1)]))"
      ],
      "execution_count": 13,
      "outputs": [
        {
          "output_type": "stream",
          "text": [
            "Sprawdzenie poprawności LabelEncoder i to_categorical \n",
            "\n",
            "Label -  BookRestaurant\n",
            "LabelEncoder -  1\n",
            "\n",
            "to_categorical -  [0. 1. 0. 0. 0. 0. 0.]\n",
            "\n",
            "return to LabelEncoder -  1\n",
            "return to Label -  ['BookRestaurant']\n"
          ],
          "name": "stdout"
        }
      ]
    },
    {
      "cell_type": "markdown",
      "metadata": {
        "id": "-lZTDFgGoSmT"
      },
      "source": [
        "#### Zdefiniowanie X i y"
      ]
    },
    {
      "cell_type": "code",
      "metadata": {
        "id": "JWd9mEjfBAS2"
      },
      "source": [
        "X = data_set_train[\"tokens_lemma_without_stop\"]\n",
        "y = dummy_y"
      ],
      "execution_count": 14,
      "outputs": []
    },
    {
      "cell_type": "code",
      "metadata": {
        "colab": {
          "base_uri": "https://localhost:8080/"
        },
        "id": "8jUlcX2npzFs",
        "outputId": "09a09c25-9b60-463e-f957-d0c637a43d77"
      },
      "source": [
        "X.shape, y.shape"
      ],
      "execution_count": 15,
      "outputs": [
        {
          "output_type": "execute_result",
          "data": {
            "text/plain": [
              "((13784,), (13784, 7))"
            ]
          },
          "metadata": {
            "tags": []
          },
          "execution_count": 15
        }
      ]
    },
    {
      "cell_type": "markdown",
      "metadata": {
        "id": "9mS_l8wZoO2R"
      },
      "source": [
        "#### Podział zbioru "
      ]
    },
    {
      "cell_type": "code",
      "metadata": {
        "id": "A18D02x5sjFd"
      },
      "source": [
        "from sklearn.model_selection import train_test_split\n",
        "\n",
        "X_train, X_test, y_train, y_test = train_test_split(X, y, test_size=0.2, random_state=42)"
      ],
      "execution_count": 16,
      "outputs": []
    },
    {
      "cell_type": "code",
      "metadata": {
        "colab": {
          "base_uri": "https://localhost:8080/"
        },
        "id": "i_xH9XIGuYCG",
        "outputId": "61579460-3629-47d6-8717-6841096436e1"
      },
      "source": [
        "X_train.shape, X_test.shape, y_train.shape, y_test.shape"
      ],
      "execution_count": 17,
      "outputs": [
        {
          "output_type": "execute_result",
          "data": {
            "text/plain": [
              "((11027,), (2757,), (11027, 7), (2757, 7))"
            ]
          },
          "metadata": {
            "tags": []
          },
          "execution_count": 17
        }
      ]
    },
    {
      "cell_type": "code",
      "metadata": {
        "id": "-DR0gkd1_Uv0"
      },
      "source": [
        ""
      ],
      "execution_count": 17,
      "outputs": []
    },
    {
      "cell_type": "markdown",
      "metadata": {
        "id": "chWlDg9Mtmya"
      },
      "source": [
        "#### `Tokenizer` i `pad_sequences`"
      ]
    },
    {
      "cell_type": "code",
      "metadata": {
        "id": "LCm-rbaus6QG"
      },
      "source": [
        "from keras.preprocessing.sequence import pad_sequences\n",
        "from keras.preprocessing.text import Tokenizer"
      ],
      "execution_count": 18,
      "outputs": []
    },
    {
      "cell_type": "code",
      "metadata": {
        "id": "U-ihmlc-s6QG"
      },
      "source": [
        "tokenizer = Tokenizer(num_words=5000)\n",
        "tokenizer.fit_on_texts(X_train)\n",
        "\n",
        "X_train = tokenizer.texts_to_sequences(X_train)\n",
        "X_test = tokenizer.texts_to_sequences(X_test)\n",
        "\n",
        "maxlen = 7\n",
        "vocab_size = len(tokenizer.word_index) + 1\n",
        "\n",
        "X_train = pad_sequences(X_train, padding=\"post\", truncating=\"post\", maxlen=maxlen)\n",
        "X_test = pad_sequences(X_test, padding=\"post\", truncating=\"post\", maxlen=maxlen)"
      ],
      "execution_count": 19,
      "outputs": []
    },
    {
      "cell_type": "code",
      "metadata": {
        "id": "PaRWehbu_VCe"
      },
      "source": [
        "from keras.models import Sequential\n",
        "from keras.layers import Flatten, SimpleRNN, Dense\n",
        "from keras.layers.embeddings import Embedding\n",
        "from keras.models import Model\n",
        "from tensorflow.keras.callbacks import EarlyStopping"
      ],
      "execution_count": 20,
      "outputs": []
    },
    {
      "cell_type": "code",
      "metadata": {
        "colab": {
          "base_uri": "https://localhost:8080/"
        },
        "id": "BGt7E_vj_f5D",
        "outputId": "d2b0ea7e-9795-40b1-e882-27708d04fbe8"
      },
      "source": [
        "model = Sequential()\n",
        "model.add(Embedding(vocab_size, 100, input_length=maxlen))  \n",
        "model.add(Flatten())\n",
        "model.add(Dense(7, activation=\"softmax\")) # sigmoid / softmax\n",
        "model.compile(loss=\"categorical_crossentropy\", optimizer=\"adam\", metrics=[\"accuracy\"])\n",
        "print(model.summary())"
      ],
      "execution_count": 21,
      "outputs": [
        {
          "output_type": "stream",
          "text": [
            "Model: \"sequential\"\n",
            "_________________________________________________________________\n",
            "Layer (type)                 Output Shape              Param #   \n",
            "=================================================================\n",
            "embedding (Embedding)        (None, 7, 100)            894300    \n",
            "_________________________________________________________________\n",
            "flatten (Flatten)            (None, 700)               0         \n",
            "_________________________________________________________________\n",
            "dense (Dense)                (None, 7)                 4907      \n",
            "=================================================================\n",
            "Total params: 899,207\n",
            "Trainable params: 899,207\n",
            "Non-trainable params: 0\n",
            "_________________________________________________________________\n",
            "None\n"
          ],
          "name": "stdout"
        }
      ]
    },
    {
      "cell_type": "code",
      "metadata": {
        "colab": {
          "base_uri": "https://localhost:8080/"
        },
        "id": "wdnpnIhd_qLy",
        "outputId": "75ff063a-1504-49f0-8056-ca15e8b833c6"
      },
      "source": [
        "from tensorflow.keras.callbacks import EarlyStopping\n",
        "\n",
        "EarlyStop = EarlyStopping(monitor='val_loss', \n",
        "                          patience=5,\n",
        "                          verbose=1)\n",
        "\n",
        "history = model.fit(X_train, \n",
        "                    y_train, \n",
        "                    epochs=20, \n",
        "                    batch_size=64, \n",
        "                    validation_split=0.2, \n",
        "                    callbacks = [EarlyStop] )\n",
        "scores = model.evaluate(X_test, y_test)\n",
        "print(f\"Accuracy {scores[1] * 100}\")"
      ],
      "execution_count": 22,
      "outputs": [
        {
          "output_type": "stream",
          "text": [
            "Epoch 1/20\n",
            "138/138 [==============================] - 2s 11ms/step - loss: 1.6639 - accuracy: 0.5910 - val_loss: 0.5472 - val_accuracy: 0.9207\n",
            "Epoch 2/20\n",
            "138/138 [==============================] - 1s 7ms/step - loss: 0.3851 - accuracy: 0.9455 - val_loss: 0.2234 - val_accuracy: 0.9492\n",
            "Epoch 3/20\n",
            "138/138 [==============================] - 1s 7ms/step - loss: 0.1439 - accuracy: 0.9748 - val_loss: 0.1590 - val_accuracy: 0.9578\n",
            "Epoch 4/20\n",
            "138/138 [==============================] - 1s 7ms/step - loss: 0.0856 - accuracy: 0.9834 - val_loss: 0.1343 - val_accuracy: 0.9624\n",
            "Epoch 5/20\n",
            "138/138 [==============================] - 1s 7ms/step - loss: 0.0619 - accuracy: 0.9867 - val_loss: 0.1238 - val_accuracy: 0.9615\n",
            "Epoch 6/20\n",
            "138/138 [==============================] - 1s 7ms/step - loss: 0.0436 - accuracy: 0.9912 - val_loss: 0.1173 - val_accuracy: 0.9642\n",
            "Epoch 7/20\n",
            "138/138 [==============================] - 1s 7ms/step - loss: 0.0355 - accuracy: 0.9920 - val_loss: 0.1129 - val_accuracy: 0.9642\n",
            "Epoch 8/20\n",
            "138/138 [==============================] - 1s 7ms/step - loss: 0.0285 - accuracy: 0.9951 - val_loss: 0.1119 - val_accuracy: 0.9637\n",
            "Epoch 9/20\n",
            "138/138 [==============================] - 1s 7ms/step - loss: 0.0220 - accuracy: 0.9962 - val_loss: 0.1107 - val_accuracy: 0.9628\n",
            "Epoch 10/20\n",
            "138/138 [==============================] - 1s 7ms/step - loss: 0.0166 - accuracy: 0.9963 - val_loss: 0.1105 - val_accuracy: 0.9619\n",
            "Epoch 11/20\n",
            "138/138 [==============================] - 1s 7ms/step - loss: 0.0170 - accuracy: 0.9966 - val_loss: 0.1123 - val_accuracy: 0.9619\n",
            "Epoch 12/20\n",
            "138/138 [==============================] - 1s 7ms/step - loss: 0.0158 - accuracy: 0.9963 - val_loss: 0.1141 - val_accuracy: 0.9637\n",
            "Epoch 13/20\n",
            "138/138 [==============================] - 1s 7ms/step - loss: 0.0151 - accuracy: 0.9960 - val_loss: 0.1153 - val_accuracy: 0.9642\n",
            "Epoch 14/20\n",
            "138/138 [==============================] - 1s 7ms/step - loss: 0.0114 - accuracy: 0.9973 - val_loss: 0.1165 - val_accuracy: 0.9624\n",
            "Epoch 15/20\n",
            "138/138 [==============================] - 1s 8ms/step - loss: 0.0116 - accuracy: 0.9977 - val_loss: 0.1176 - val_accuracy: 0.9615\n",
            "Epoch 00015: early stopping\n",
            "87/87 [==============================] - 0s 981us/step - loss: 0.1126 - accuracy: 0.9677\n",
            "Accuracy 96.77185416221619\n"
          ],
          "name": "stdout"
        }
      ]
    },
    {
      "cell_type": "code",
      "metadata": {
        "id": "Ui9nW3K0_0bf",
        "colab": {
          "base_uri": "https://localhost:8080/"
        },
        "outputId": "09865b58-339c-4ca5-b2a9-d103a251875d"
      },
      "source": [
        "print(f\"Accuracy {scores[1] * 100}\")"
      ],
      "execution_count": 23,
      "outputs": [
        {
          "output_type": "stream",
          "text": [
            "Accuracy 96.77185416221619\n"
          ],
          "name": "stdout"
        }
      ]
    },
    {
      "cell_type": "code",
      "metadata": {
        "id": "dJtnYTgA_06S"
      },
      "source": [
        ""
      ],
      "execution_count": 23,
      "outputs": []
    },
    {
      "cell_type": "markdown",
      "metadata": {
        "id": "B0IdSKiJtzgd"
      },
      "source": [
        "#### Predykcja na zbiorze validacyjnym"
      ]
    },
    {
      "cell_type": "code",
      "metadata": {
        "colab": {
          "base_uri": "https://localhost:8080/"
        },
        "id": "27dr_LCO_1IW",
        "outputId": "e8efe598-5a9d-43fc-a471-992c6c931172"
      },
      "source": [
        "# oczysczenie danych\n",
        "data_set_valid[\"clean_text\"] = data_set_valid[\"text\"].apply(lambda x: process_text(x))\n",
        "data_set_valid[\"tokens_lemma_without_stop\"] = data_set_valid[\"clean_text\"].apply(lambda x: \" \".join([str(i.lemma_ ) for i in nlp(x) if i.lemma_  != \"-PRON-\" and i.lemma_ not in stopwords ]))\n",
        "\n",
        "# labelencoder \n",
        "data_set_valid[\"labelencoder\"] = labelencoder.fit_transform(data_set_valid[\"label\"])\n",
        "\n",
        "# tokenizacja weg przetrenowanego już tokenizera\n",
        "X_validate = tokenizer.texts_to_sequences(data_set_valid[\"clean_text\"])\n",
        "\n",
        "# pad sequel\n",
        "X_validate = pad_sequences(X_validate, padding=\"post\", truncating=\"post\", maxlen=maxlen)\n",
        "X_validate"
      ],
      "execution_count": 24,
      "outputs": [
        {
          "output_type": "execute_result",
          "data": {
            "text/plain": [
              "array([[ 337,   31,    0, ...,    0,    0,    0],\n",
              "       [ 152,  210,    1, ...,  300,    0,    0],\n",
              "       [ 183,   16,   56, ...,  849,    0,    0],\n",
              "       ...,\n",
              "       [  43,    0,    0, ...,    0,    0,    0],\n",
              "       [   8,   16, 2406, ...,    0,    0,    0],\n",
              "       [  23,   19,   93, ..., 1458,    0,    0]], dtype=int32)"
            ]
          },
          "metadata": {
            "tags": []
          },
          "execution_count": 24
        }
      ]
    },
    {
      "cell_type": "code",
      "metadata": {
        "colab": {
          "base_uri": "https://localhost:8080/"
        },
        "id": "UOPVqktyANNF",
        "outputId": "f36f5c5c-af9e-4fc6-d64f-48ddc99ce0f1"
      },
      "source": [
        "dummy_y_valid = data_set_valid[\"labelencoder\"].values\n",
        "dummy_y_valid[:5]"
      ],
      "execution_count": 25,
      "outputs": [
        {
          "output_type": "execute_result",
          "data": {
            "text/plain": [
              "array([6, 3, 2, 0, 6])"
            ]
          },
          "metadata": {
            "tags": []
          },
          "execution_count": 25
        }
      ]
    },
    {
      "cell_type": "code",
      "metadata": {
        "colab": {
          "base_uri": "https://localhost:8080/"
        },
        "id": "NAiFC304APqL",
        "outputId": "3ed5e430-3c0b-4651-faac-a1c5539296ff"
      },
      "source": [
        "# Sprawdzenie rozmiaru zbiorów validacyjnego\n",
        "X_validate.shape, dummy_y_valid.shape"
      ],
      "execution_count": 26,
      "outputs": [
        {
          "output_type": "execute_result",
          "data": {
            "text/plain": [
              "((700, 7), (700,))"
            ]
          },
          "metadata": {
            "tags": []
          },
          "execution_count": 26
        }
      ]
    },
    {
      "cell_type": "code",
      "metadata": {
        "colab": {
          "base_uri": "https://localhost:8080/"
        },
        "id": "WRbEdb7AAXGy",
        "outputId": "bae64232-e8fa-4d57-a20d-69d06a8acdc5"
      },
      "source": [
        "predicted_lstm_val = np.argmax(model.predict(X_validate), axis=-1)\n",
        "predicted_lstm_val[:5]"
      ],
      "execution_count": 27,
      "outputs": [
        {
          "output_type": "execute_result",
          "data": {
            "text/plain": [
              "array([6, 3, 2, 0, 6])"
            ]
          },
          "metadata": {
            "tags": []
          },
          "execution_count": 27
        }
      ]
    },
    {
      "cell_type": "markdown",
      "metadata": {
        "id": "_5wZwn-_uKE9"
      },
      "source": [
        "#### Rozkodowanie przewidzianych i prawidłowych etykiet"
      ]
    },
    {
      "cell_type": "code",
      "metadata": {
        "colab": {
          "base_uri": "https://localhost:8080/"
        },
        "id": "G4U9hYvnBJ9F",
        "outputId": "6636bd5a-7f1d-4572-f55e-1d3bc15b8d3a"
      },
      "source": [
        "y_pred = labelencoder.inverse_transform(predicted_lstm_val)\n",
        "y_pred = pd.Series(y_pred)\n",
        "y_pred.head()"
      ],
      "execution_count": 28,
      "outputs": [
        {
          "output_type": "execute_result",
          "data": {
            "text/plain": [
              "0    SearchScreeningEvent\n",
              "1               PlayMusic\n",
              "2              GetWeather\n",
              "3           AddToPlaylist\n",
              "4    SearchScreeningEvent\n",
              "dtype: object"
            ]
          },
          "metadata": {
            "tags": []
          },
          "execution_count": 28
        }
      ]
    },
    {
      "cell_type": "code",
      "metadata": {
        "colab": {
          "base_uri": "https://localhost:8080/"
        },
        "id": "EW03pUanA729",
        "outputId": "41af1cf1-bf8a-4d5e-d789-3d4a34b08ed6"
      },
      "source": [
        "y_val = labelencoder.inverse_transform(dummy_y_valid)\n",
        "y_val = pd.Series(y_val)\n",
        "y_val.head()"
      ],
      "execution_count": 29,
      "outputs": [
        {
          "output_type": "execute_result",
          "data": {
            "text/plain": [
              "0    SearchScreeningEvent\n",
              "1               PlayMusic\n",
              "2              GetWeather\n",
              "3           AddToPlaylist\n",
              "4    SearchScreeningEvent\n",
              "dtype: object"
            ]
          },
          "metadata": {
            "tags": []
          },
          "execution_count": 29
        }
      ]
    },
    {
      "cell_type": "markdown",
      "metadata": {
        "id": "RcGfyRgQudTZ"
      },
      "source": [
        "#### `Confusion matrix`"
      ]
    },
    {
      "cell_type": "code",
      "metadata": {
        "id": "GXVwswIsA9RT"
      },
      "source": [
        "from sklearn.metrics import accuracy_score, f1_score, classification_report, confusion_matrix\n",
        "%matplotlib inline\n",
        "from matplotlib import pyplot as plt\n",
        "import seaborn as sns"
      ],
      "execution_count": 30,
      "outputs": []
    },
    {
      "cell_type": "code",
      "metadata": {
        "colab": {
          "base_uri": "https://localhost:8080/",
          "height": 710
        },
        "id": "fGr6-cjzBFLc",
        "outputId": "f4b70447-6276-4f13-dd83-091e43fff07b"
      },
      "source": [
        "classes = np.unique(y_val)\n",
        "\n",
        "print('Accuracy:', round(accuracy_score(y_val, y_pred),2))\n",
        "print('F1_score:', round(f1_score(y_val, y_pred, average='weighted'),2))\n",
        "\n",
        "print(classification_report(y_val, y_pred))\n",
        "# Plot confusion matrix\n",
        "cm = confusion_matrix(y_val, y_pred)\n",
        "fig, ax = plt.subplots()\n",
        "sns.heatmap(cm, annot=True, fmt='d', ax=ax, cmap=plt.cm.Blues, cbar=False)\n",
        "ax.set(xlabel='Pred', ylabel='True', xticklabels=classes, yticklabels=classes, title='Confusion matrix')\n",
        "plt.yticks(rotation=0)\n",
        "plt.xticks(rotation=90)"
      ],
      "execution_count": 31,
      "outputs": [
        {
          "output_type": "stream",
          "text": [
            "Accuracy: 0.94\n",
            "F1_score: 0.94\n",
            "                      precision    recall  f1-score   support\n",
            "\n",
            "       AddToPlaylist       0.99      1.00      1.00       100\n",
            "      BookRestaurant       0.99      0.97      0.98       100\n",
            "          GetWeather       0.96      0.99      0.98       100\n",
            "           PlayMusic       1.00      0.93      0.96       100\n",
            "            RateBook       0.97      0.87      0.92       100\n",
            "  SearchCreativeWork       0.78      0.97      0.87       100\n",
            "SearchScreeningEvent       0.92      0.84      0.88       100\n",
            "\n",
            "            accuracy                           0.94       700\n",
            "           macro avg       0.94      0.94      0.94       700\n",
            "        weighted avg       0.94      0.94      0.94       700\n",
            "\n"
          ],
          "name": "stdout"
        },
        {
          "output_type": "execute_result",
          "data": {
            "text/plain": [
              "(array([0.5, 1.5, 2.5, 3.5, 4.5, 5.5, 6.5]),\n",
              " <a list of 7 Text major ticklabel objects>)"
            ]
          },
          "metadata": {
            "tags": []
          },
          "execution_count": 31
        },
        {
          "output_type": "display_data",
          "data": {
            "image/png": "[encoded data removed]",
            "text/plain": [
              "<Figure size 432x288 with 1 Axes>"
            ]
          },
          "metadata": {
            "tags": [],
            "needs_background": "light"
          }
        }
      ]
    },
    {
      "cell_type": "markdown",
      "metadata": {
        "id": "9uxfqF9uum32"
      },
      "source": [
        "#### Zapoznanie się z błędnymi predykcjami "
      ]
    },
    {
      "cell_type": "code",
      "metadata": {
        "colab": {
          "base_uri": "https://localhost:8080/"
        },
        "id": "28QYnOPM-mJz",
        "outputId": "647f21c1-629d-49b5-9e98-0561972ffa85"
      },
      "source": [
        "indexes = []\n",
        "for i, phrase in enumerate(y_pred):\n",
        "  if phrase == 'SearchCreativeWork':\n",
        "    if y_val[i] == 'SearchScreeningEvent':\n",
        "      indexes.append(i)\n",
        "print(indexes)"
      ],
      "execution_count": 32,
      "outputs": [
        {
          "output_type": "stream",
          "text": [
            "[6, 125, 145, 346, 381, 402, 519, 557, 568, 590, 615, 648, 689]\n"
          ],
          "name": "stdout"
        }
      ]
    },
    {
      "cell_type": "code",
      "metadata": {
        "colab": {
          "base_uri": "https://localhost:8080/"
        },
        "id": "ouy1yzy8-048",
        "outputId": "3512bfa9-ab05-46e2-a126-298a350894f9"
      },
      "source": [
        "for i in indexes:\n",
        "  print(f\"----------------------------\\nTekst komendy:\\n{data_set_valid['text'][i]}\")\n",
        "  print(f\"Oczyszczona komenda:\\n{data_set_valid['tokens_lemma_without_stop'][i]}\")\n",
        "  print(f'True category: {y_val[i]}')\n",
        "  print(f'Predicted category: {y_pred[i]}')\n",
        "  print(\"\\n\")"
      ],
      "execution_count": 33,
      "outputs": [
        {
          "output_type": "stream",
          "text": [
            "----------------------------\n",
            "Tekst komendy:\n",
            "I want to see While the Sun Shines at the closest movie house.\n",
            "Oczyszczona komenda:\n",
            "want sun shine close movie house\n",
            "True category: SearchScreeningEvent\n",
            "Predicted category: SearchCreativeWork\n",
            "\n",
            "\n",
            "----------------------------\n",
            "Tekst komendy:\n",
            "what are the times for The Gingerbread Man\n",
            "Oczyszczona komenda:\n",
            "time gingerbread man\n",
            "True category: SearchScreeningEvent\n",
            "Predicted category: SearchCreativeWork\n",
            "\n",
            "\n",
            "----------------------------\n",
            "Tekst komendy:\n",
            "I want to see Medal for the General\n",
            "Oczyszczona komenda:\n",
            "want medal general\n",
            "True category: SearchScreeningEvent\n",
            "Predicted category: SearchCreativeWork\n",
            "\n",
            "\n",
            "----------------------------\n",
            "Tekst komendy:\n",
            "I want to see Those Kids from Town, when will it be showing?\n",
            "Oczyszczona komenda:\n",
            "want kid town\n",
            "True category: SearchScreeningEvent\n",
            "Predicted category: SearchCreativeWork\n",
            "\n",
            "\n",
            "----------------------------\n",
            "Tekst komendy:\n",
            "Show me the movies at Harkins Theatres.\n",
            "Oczyszczona komenda:\n",
            "movie harkin theatre\n",
            "True category: SearchScreeningEvent\n",
            "Predicted category: SearchCreativeWork\n",
            "\n",
            "\n",
            "----------------------------\n",
            "Tekst komendy:\n",
            "I want animated movies at MJR Theatres\n",
            "Oczyszczona komenda:\n",
            "want animate movie mjr theatre\n",
            "True category: SearchScreeningEvent\n",
            "Predicted category: SearchCreativeWork\n",
            "\n",
            "\n",
            "----------------------------\n",
            "Tekst komendy:\n",
            "i want to see JLA Adventures: Trapped In Time\n",
            "Oczyszczona komenda:\n",
            "want jla adventures trap time\n",
            "True category: SearchScreeningEvent\n",
            "Predicted category: SearchCreativeWork\n",
            "\n",
            "\n",
            "----------------------------\n",
            "Tekst komendy:\n",
            "I want to see Shattered Image.\n",
            "Oczyszczona komenda:\n",
            "want shatter image\n",
            "True category: SearchScreeningEvent\n",
            "Predicted category: SearchCreativeWork\n",
            "\n",
            "\n",
            "----------------------------\n",
            "Tekst komendy:\n",
            "Can you check the timings for Super Sweet 16: The Movie?\n",
            "Oczyszczona komenda:\n",
            "check timing super sweet movie\n",
            "True category: SearchScreeningEvent\n",
            "Predicted category: SearchCreativeWork\n",
            "\n",
            "\n",
            "----------------------------\n",
            "Tekst komendy:\n",
            "Where can I find the movie schedules\n",
            "Oczyszczona komenda:\n",
            "find movie schedule\n",
            "True category: SearchScreeningEvent\n",
            "Predicted category: SearchCreativeWork\n",
            "\n",
            "\n",
            "----------------------------\n",
            "Tekst komendy:\n",
            "Where can I see The Prime Ministers: The Pioneers\n",
            "Oczyszczona komenda:\n",
            "prime minister pioneer\n",
            "True category: SearchScreeningEvent\n",
            "Predicted category: SearchCreativeWork\n",
            "\n",
            "\n",
            "----------------------------\n",
            "Tekst komendy:\n",
            "I want to see Outcast.\n",
            "Oczyszczona komenda:\n",
            "want outcast\n",
            "True category: SearchScreeningEvent\n",
            "Predicted category: SearchCreativeWork\n",
            "\n",
            "\n",
            "----------------------------\n",
            "Tekst komendy:\n",
            "I want to see Fear Chamber.\n",
            "Oczyszczona komenda:\n",
            "want fear chamber\n",
            "True category: SearchScreeningEvent\n",
            "Predicted category: SearchCreativeWork\n",
            "\n",
            "\n"
          ],
          "name": "stdout"
        }
      ]
    },
    {
      "cell_type": "markdown",
      "metadata": {
        "id": "IlchnRFT3XPb"
      },
      "source": [
        "\n",
        "#### Wnioski: \n",
        "> stop_words  usuneło słowa tj `show`, `see` które powtarzają się w kilku błędnie przewidzianych predykcjach. Aby przewidzieć intencje czasowniki są istotne i nie mogą zostać usunięte. \n",
        "\n"
      ]
    },
    {
      "cell_type": "code",
      "metadata": {
        "id": "09L7w_zP8rOK",
        "outputId": "60231715-6c8e-4880-b19a-cbcd3959d9ee",
        "colab": {
          "base_uri": "https://localhost:8080/"
        }
      },
      "source": [
        "doc = nlp(\"show see\")\n",
        "print(doc)\n",
        "\n",
        "[ i for i in doc if i.text in stopwords]"
      ],
      "execution_count": 69,
      "outputs": [
        {
          "output_type": "stream",
          "text": [
            "show see\n"
          ],
          "name": "stdout"
        },
        {
          "output_type": "execute_result",
          "data": {
            "text/plain": [
              "[show, see]"
            ]
          },
          "metadata": {
            "tags": []
          },
          "execution_count": 69
        }
      ]
    },
    {
      "cell_type": "code",
      "metadata": {
        "id": "7ESFtxEQCgOZ",
        "outputId": "4872bae6-112d-42f7-a76b-147094d13c31",
        "colab": {
          "base_uri": "https://localhost:8080/"
        }
      },
      "source": [
        "print(stopwords)"
      ],
      "execution_count": 72,
      "outputs": [
        {
          "output_type": "stream",
          "text": [
            "['also', 'much', 'fifty', 'us', '’d', 'off', 'when', 'none', 'over', 'anywhere', 'more', 'have', 'her', 'bottom', 'cannot', 'this', 'whoever', 'has', 'without', 'otherwise', 'your', 'elsewhere', 'serious', 'she', 'herself', 'thru', 'through', 'be', 'whence', 'hence', 'yourselves', 'hereby', 'almost', 'others', 'seem', 'done', 'go', 'forty', 'hereafter', 'below', 'give', 'into', 'from', 'everywhere', 'own', 'a', 'where', 'toward', 'unless', 'such', 'back', 'name', 'alone', 'using', 'twelve', 'before', 'quite', 'the', 'which', 'whom', 'well', 'amount', 'else', 'himself', 'about', 'thereupon', 'get', 'whereafter', 'nobody', 'being', 'whole', '‘ll', 'onto', 'however', 'two', '’m', 'if', 'too', 'neither', 'never', 'now', 'had', 'among', 'nowhere', 'afterwards', 'could', 'for', 'as', '’ve', 'what', 'though', 'yourself', 'often', 'everyone', 'keep', 'must', \"'d\", 'then', 'part', 'even', 'above', 'you', '’s', 'that', 'become', \"'ve\", 'down', 'former', 'thence', 'perhaps', 'am', 'after', 'made', 'eight', 'my', 'whereas', 'upon', 'will', 'beside', \"'m\", 'out', 'full', 'put', 'nor', 'hereupon', 'anyway', 'here', \"'s\", 'these', 'any', 'so', 'whither', 'its', 'are', 'at', 'some', '‘re', 'hundred', 'everything', 'up', 'why', 'since', 'than', 'latter', 'various', 'make', 'been', 'towards', 'another', 'nevertheless', 'in', 'formerly', 'mine', 'amongst', 'they', 'moreover', 'was', 'top', 'few', 'eleven', 'ourselves', 'on', 'were', 'already', \"n't\", 'last', 'wherever', 'move', 'four', 'latterly', 'someone', 'not', 'please', 'who', 'twenty', 'becoming', 'of', 'still', 'and', 'nothing', 'whatever', 'sixty', 'we', 'sometime', 'other', 'third', 'therefore', 'nine', 'an', 'whenever', 'n’t', 'very', 'one', \"'re\", 'his', 'used', 'itself', 'enough', 'each', 'him', 'becomes', 'to', 'do', 'within', 'whereby', 'further', 'least', 'between', 'somewhere', 'during', 'myself', 'see', 'thus', 'ours', 'sometimes', 'anything', 'herein', 'might', \"'ll\", 'except', 'he', 'by', 'along', 'ten', 'yours', 'seeming', 'rather', 'together', 'besides', 'me', 'fifteen', 'say', 'their', 'how', 'doing', 'again', 'either', 'something', 'therein', '‘d', 'behind', 'many', 'somehow', 'several', 'across', 'seems', 'ca', 'while', 'n‘t', 'front', 'thereafter', 'whereupon', 'just', 'call', 'it', '‘s', '‘m', 'side', 'take', 'all', 'always', 'indeed', 'may', 'five', 'regarding', 'those', 'around', 'empty', 'with', 'can', 'there', 'whose', 'because', 'most', 'throughout', 'less', 'first', 'should', 'every', 'hers', 'against', 'but', 'namely', 'via', 'themselves', 'i', 'beyond', 'only', 'really', 'next', 'wherein', '’ll', 'show', 'whether', 'or', 're', 'meanwhile', 'due', 'anyhow', 'would', 'seemed', 'does', 'ever', 'same', 'although', 'once', 'until', 'them', 'no', 'under', 'did', 'became', 'beforehand', 'yet', 'noone', 'our', 'thereby', 'six', '‘ve', 'both', 'mostly', '’re', 'anyone', 'is', 'three', 'per']\n"
          ],
          "name": "stdout"
        }
      ]
    },
    {
      "cell_type": "code",
      "metadata": {
        "id": "7yy7thSq-7Tk",
        "outputId": "24f8ede7-c492-4f11-f492-31629733d624",
        "colab": {
          "base_uri": "https://localhost:8080/"
        }
      },
      "source": [
        "# sprawdzmy ile innych czasowników znajduje się w liście stopwords\n",
        "\n",
        "doc = nlp(\" \".join(stopwords))\n",
        "VERB_list_stopwords = []\n",
        "for token in doc:\n",
        "  if token.pos_ == \"VERB\":\n",
        "    VERB_list_stopwords.append(token.text)\n",
        "\n",
        "print(VERB_list_stopwords)"
      ],
      "execution_count": 76,
      "outputs": [
        {
          "output_type": "stream",
          "text": [
            "['can', 'seem', 'done', 'go', 'give', 'own', 'using', 'get', 'll', 'could', 'keep', \"'d\", 'part', 'become', 've', 'made', 'will', 're', 'move', 'becoming', 'used', 'becomes', 'see', 'might', 'seeming', 'say', 'doing', 'seems', 'call', '‘s', 'take', 'may', 'regarding', 'can', 'should', '’ll', 'show', 're', 'would', 'seemed', 'became', '’re']\n"
          ],
          "name": "stdout"
        }
      ]
    },
    {
      "cell_type": "markdown",
      "metadata": {
        "id": "ioUayvUoDP-D"
      },
      "source": [
        ">W liście stop_words znajdują się czasowniki, które są ważne z puntku widzenia wykrycia intencji. Dlatego trzeba je usunać z listy stop_words lub w ogole nie używać tej listy\n",
        "\n",
        "Czasowniki wydające się istotne dla wykrcia intencji z listy stop words:\n",
        "`'give',  'using', 're', 'move',  'see', 'seeming', 'say', 'doing', 'seems', 'call', 'take','show'`"
      ]
    },
    {
      "cell_type": "code",
      "metadata": {
        "id": "INKNNKPRDLnA"
      },
      "source": [
        ""
      ],
      "execution_count": null,
      "outputs": []
    }
  ]
}