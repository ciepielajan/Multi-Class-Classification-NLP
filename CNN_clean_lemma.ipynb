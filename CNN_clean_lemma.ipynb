{
  "nbformat": 4,
  "nbformat_minor": 0,
  "metadata": {
    "colab": {
      "name": "Detecting_intentions_MLP",
      "provenance": [],
      "collapsed_sections": [],
      "authorship_tag": "ABX9TyNlCtIv4d268P8rujpn/k0r",
      "include_colab_link": true
    },
    "kernelspec": {
      "name": "python3",
      "display_name": "Python 3"
    },
    "language_info": {
      "name": "python"
    }
  },
  "cells": [
    {
      "cell_type": "markdown",
      "metadata": {
        "id": "view-in-github",
        "colab_type": "text"
      },
      "source": [
        "<a href=\"https://colab.research.google.com/github/ciepielajan/Multi-Class-Classification-NLP/blob/main/CNN-clean-lemma.ipynb\" target=\"_parent\"><img src=\"https://colab.research.google.com/assets/colab-badge.svg\" alt=\"Open In Colab\"/></a>"
      ]
    },
    {
      "cell_type": "markdown",
      "metadata": {
        "id": "amL9NI-CqviO"
      },
      "source": [
        "CNN-clean-lemma"
      ]
    },
    {
      "cell_type": "markdown",
      "metadata": {
        "id": "us7PJ6w-n8ge"
      },
      "source": [
        "#### Pobranie danych"
      ]
    },
    {
      "cell_type": "code",
      "metadata": {
        "colab": {
          "base_uri": "https://localhost:8080/"
        },
        "id": "cZ_7ET22CAsA",
        "outputId": "afb53524-ef09-41f9-ad8e-8fe450d6c849"
      },
      "source": [
        "# https://drive.google.com/file/d/1fI6EXyD9TMTC1jzdu206ljXOGNjdHprq/view?usp=sharing\n",
        "!gdown --id \"1fI6EXyD9TMTC1jzdu206ljXOGNjdHprq\""
      ],
      "execution_count": 1,
      "outputs": [
        {
          "output_type": "stream",
          "text": [
            "Downloading...\n",
            "From: https://drive.google.com/uc?id=1fI6EXyD9TMTC1jzdu206ljXOGNjdHprq\n",
            "To: /content/user_intent.zip\n",
            "\r  0% 0.00/271k [00:00<?, ?B/s]\r100% 271k/271k [00:00<00:00, 40.4MB/s]\n"
          ],
          "name": "stdout"
        }
      ]
    },
    {
      "cell_type": "code",
      "metadata": {
        "colab": {
          "base_uri": "https://localhost:8080/"
        },
        "id": "uWusnzuPCHqv",
        "outputId": "30a0d91c-efe0-4246-d868-e931905e94ce"
      },
      "source": [
        "!unzip \"user_intent.zip\""
      ],
      "execution_count": 2,
      "outputs": [
        {
          "output_type": "stream",
          "text": [
            "Archive:  user_intent.zip\n",
            "  inflating: train.csv               \n",
            "  inflating: __MACOSX/._train.csv    \n",
            "  inflating: validation.csv          \n"
          ],
          "name": "stdout"
        }
      ]
    },
    {
      "cell_type": "code",
      "metadata": {
        "id": "9CI1LZgj-Kin"
      },
      "source": [
        ""
      ],
      "execution_count": 2,
      "outputs": []
    },
    {
      "cell_type": "code",
      "metadata": {
        "colab": {
          "base_uri": "https://localhost:8080/"
        },
        "id": "NUKeVYWfCOdU",
        "outputId": "865cca85-0063-40b2-a34d-e1f51c15dc61"
      },
      "source": [
        "import pandas as pd\n",
        "import numpy as np\n",
        "from datetime import datetime\n",
        "\n",
        "data_set_train = pd.read_csv(\"train.csv\")\n",
        "data_set_valid = pd.read_csv(\"validation.csv\")\n",
        "\n",
        "print(data_set_train.shape)\n",
        "print(data_set_valid.shape)\n",
        "\n",
        "print(data_set_train.columns)\n",
        "print(data_set_valid.columns)"
      ],
      "execution_count": 3,
      "outputs": [
        {
          "output_type": "stream",
          "text": [
            "(13784, 2)\n",
            "(700, 2)\n",
            "Index(['text', 'label'], dtype='object')\n",
            "Index(['text', 'label'], dtype='object')\n"
          ],
          "name": "stdout"
        }
      ]
    },
    {
      "cell_type": "markdown",
      "metadata": {
        "id": "8Vg1fqbGoCrp"
      },
      "source": [
        "#### Podstawowy process text"
      ]
    },
    {
      "cell_type": "code",
      "metadata": {
        "id": "5GQNuCjSlz0F"
      },
      "source": [
        "import re\n",
        "def process_text(sentence):\n",
        "    sentence = re.sub('[A-Za-z0-9]+@[a-zA-z].[a-zA-Z]+', '', sentence)  # maile\n",
        "    sentence = re.sub('(http[s]*:[/][/])[a-zA-Z0-9]+', '', sentence)  # linki\n",
        "    sentence = re.sub(r\"<[^>]+>\", \" \", sentence) # remove html tag\n",
        "    sentence = re.sub(r\"[^a-zA-Z\\s]\", \"\", sentence)  # remove punctuations and numbers   \n",
        "    sentence = re.sub(r\"\\b[A-Za-z]{1}\\b\", \"\", sentence)  # remove single characters\n",
        "\n",
        "    sentence = re.sub(\"^\\s+|\\s+$\", \"\", sentence, flags=re.UNICODE) # Remove spaces both in the BEGINNING and in the END of a string:\n",
        "    sentence = \" \".join(re.split(\"\\s+\", sentence, flags=re.UNICODE))  # Remove ONLY DUPLICATE spaces:\n",
        "    sentence = sentence.lower()\n",
        "    \n",
        "    return sentence"
      ],
      "execution_count": 4,
      "outputs": []
    },
    {
      "cell_type": "code",
      "metadata": {
        "id": "RZJOju1sFOwp"
      },
      "source": [
        "data_set_train[\"clean_text\"] = data_set_train[\"text\"].apply(lambda x: process_text(x))"
      ],
      "execution_count": 5,
      "outputs": []
    },
    {
      "cell_type": "markdown",
      "metadata": {
        "id": "OdmloYvmy5I2"
      },
      "source": [
        "#### `SpaCy` `Lemmatyzacja` "
      ]
    },
    {
      "cell_type": "code",
      "metadata": {
        "id": "hKacgC9TzJtn"
      },
      "source": [
        "import spacy\n",
        "\n",
        "# załadowanie angielskiego CORE \n",
        "nlp = spacy.load('en_core_web_sm')"
      ],
      "execution_count": 6,
      "outputs": []
    },
    {
      "cell_type": "code",
      "metadata": {
        "colab": {
          "base_uri": "https://localhost:8080/",
          "height": 35
        },
        "id": "gMzwt0bJzpNe",
        "outputId": "bed62c3f-19d9-4eb8-ab9b-047753948167"
      },
      "source": [
        "spacy.__version__"
      ],
      "execution_count": 7,
      "outputs": [
        {
          "output_type": "execute_result",
          "data": {
            "application/vnd.google.colaboratory.intrinsic+json": {
              "type": "string"
            },
            "text/plain": [
              "'2.2.4'"
            ]
          },
          "metadata": {
            "tags": []
          },
          "execution_count": 7
        }
      ]
    },
    {
      "cell_type": "code",
      "metadata": {
        "colab": {
          "base_uri": "https://localhost:8080/"
        },
        "id": "CDGR8xz-zFa7",
        "outputId": "b1cc567b-6353-4ae6-deb5-667054eec62b"
      },
      "source": [
        "%%time\n",
        "data_set_train[\"tokens_lemma\"] = data_set_train[\"clean_text\"].apply(lambda x: \" \".join([str(i.lemma_ ) for i in nlp(x) if i.lemma_  != \"-PRON-\"  ]))"
      ],
      "execution_count": 8,
      "outputs": [
        {
          "output_type": "stream",
          "text": [
            "CPU times: user 1min 58s, sys: 255 ms, total: 1min 58s\n",
            "Wall time: 1min 58s\n"
          ],
          "name": "stdout"
        }
      ]
    },
    {
      "cell_type": "code",
      "metadata": {
        "colab": {
          "base_uri": "https://localhost:8080/",
          "height": 195
        },
        "id": "Qm19XsjF1FGx",
        "outputId": "ccd92349-ea89-42bb-e3ad-138923b66887"
      },
      "source": [
        "data_set_train.sample(5)"
      ],
      "execution_count": 9,
      "outputs": [
        {
          "output_type": "execute_result",
          "data": {
            "text/html": [
              "<div>\n",
              "<style scoped>\n",
              "    .dataframe tbody tr th:only-of-type {\n",
              "        vertical-align: middle;\n",
              "    }\n",
              "\n",
              "    .dataframe tbody tr th {\n",
              "        vertical-align: top;\n",
              "    }\n",
              "\n",
              "    .dataframe thead th {\n",
              "        text-align: right;\n",
              "    }\n",
              "</style>\n",
              "<table border=\"1\" class=\"dataframe\">\n",
              "  <thead>\n",
              "    <tr style=\"text-align: right;\">\n",
              "      <th></th>\n",
              "      <th>text</th>\n",
              "      <th>label</th>\n",
              "      <th>clean_text</th>\n",
              "      <th>tokens_lemma</th>\n",
              "    </tr>\n",
              "  </thead>\n",
              "  <tbody>\n",
              "    <tr>\n",
              "      <th>2905</th>\n",
              "      <td>find an album called From the Terrace</td>\n",
              "      <td>SearchCreativeWork</td>\n",
              "      <td>find an album called from the terrace</td>\n",
              "      <td>find an album call from the terrace</td>\n",
              "    </tr>\n",
              "    <tr>\n",
              "      <th>3472</th>\n",
              "      <td>rate this series two of 6</td>\n",
              "      <td>RateBook</td>\n",
              "      <td>rate this series two of</td>\n",
              "      <td>rate this series two of</td>\n",
              "    </tr>\n",
              "    <tr>\n",
              "      <th>4085</th>\n",
              "      <td>I'd like to watch movies close by</td>\n",
              "      <td>SearchScreeningEvent</td>\n",
              "      <td>id like to watch movies close by</td>\n",
              "      <td>would like to watch movie close by</td>\n",
              "    </tr>\n",
              "    <tr>\n",
              "      <th>12953</th>\n",
              "      <td>Play Brian Clifton off Groove Shark.</td>\n",
              "      <td>PlayMusic</td>\n",
              "      <td>play brian clifton off groove shark</td>\n",
              "      <td>play brian clifton off groove shark</td>\n",
              "    </tr>\n",
              "    <tr>\n",
              "      <th>1248</th>\n",
              "      <td>I need seating at Floating restaurant in Tenne...</td>\n",
              "      <td>BookRestaurant</td>\n",
              "      <td>need seating at floating restaurant in tenness...</td>\n",
              "      <td>need seat at float restaurant in tennessee for...</td>\n",
              "    </tr>\n",
              "  </tbody>\n",
              "</table>\n",
              "</div>"
            ],
            "text/plain": [
              "                                                    text  ...                                       tokens_lemma\n",
              "2905               find an album called From the Terrace  ...                find an album call from the terrace\n",
              "3472                           rate this series two of 6  ...                            rate this series two of\n",
              "4085                   I'd like to watch movies close by  ...                 would like to watch movie close by\n",
              "12953               Play Brian Clifton off Groove Shark.  ...                play brian clifton off groove shark\n",
              "1248   I need seating at Floating restaurant in Tenne...  ...  need seat at float restaurant in tennessee for...\n",
              "\n",
              "[5 rows x 4 columns]"
            ]
          },
          "metadata": {
            "tags": []
          },
          "execution_count": 9
        }
      ]
    },
    {
      "cell_type": "code",
      "metadata": {
        "colab": {
          "base_uri": "https://localhost:8080/"
        },
        "id": "_dEypyGx0KKL",
        "outputId": "87a1393a-4037-4f36-b473-9ad9b5dc9401"
      },
      "source": [
        "id_intention = 6\n",
        "print(\"Surowy tekst\")\n",
        "print(data_set_train[\"text\"].iloc[id_intention])\n",
        "print(\"Po oczyszczeniu\")\n",
        "print(data_set_train[\"clean_text\"].iloc[id_intention])\n",
        "print(\"Po lematyzacji\")\n",
        "print(data_set_train[\"tokens_lemma\"].iloc[id_intention])"
      ],
      "execution_count": 10,
      "outputs": [
        {
          "output_type": "stream",
          "text": [
            "Surowy tekst\n",
            "Book a table for 10 people at a restaurant which offers internet.\n",
            "Po oczyszczeniu\n",
            "book table for people at restaurant which offers internet\n",
            "Po lematyzacji\n",
            "book table for people at restaurant which offer internet\n"
          ],
          "name": "stdout"
        }
      ]
    },
    {
      "cell_type": "markdown",
      "metadata": {
        "id": "7epaW5cXoXef"
      },
      "source": [
        "#### `LabelEncoder` oraz `to_categorical`"
      ]
    },
    {
      "cell_type": "code",
      "metadata": {
        "colab": {
          "base_uri": "https://localhost:8080/",
          "height": 195
        },
        "id": "022rNoaL-xbl",
        "outputId": "23e3e246-9103-4779-f499-4d7e65fa8e9d"
      },
      "source": [
        "from sklearn.preprocessing import LabelEncoder\n",
        "from keras.utils import to_categorical \n",
        "\n",
        "\n",
        "labelencoder = LabelEncoder()\n",
        "data_set_train[\"labelencoder\"] = labelencoder.fit_transform(data_set_train[\"label\"])\n",
        "\n",
        "dummy_y = to_categorical(data_set_train[\"labelencoder\"], dtype =\"float32\")\n",
        "\n",
        "data_set_train[[\"clean_text\",\"label\",\"labelencoder\"]].head(5)"
      ],
      "execution_count": 11,
      "outputs": [
        {
          "output_type": "execute_result",
          "data": {
            "text/html": [
              "<div>\n",
              "<style scoped>\n",
              "    .dataframe tbody tr th:only-of-type {\n",
              "        vertical-align: middle;\n",
              "    }\n",
              "\n",
              "    .dataframe tbody tr th {\n",
              "        vertical-align: top;\n",
              "    }\n",
              "\n",
              "    .dataframe thead th {\n",
              "        text-align: right;\n",
              "    }\n",
              "</style>\n",
              "<table border=\"1\" class=\"dataframe\">\n",
              "  <thead>\n",
              "    <tr style=\"text-align: right;\">\n",
              "      <th></th>\n",
              "      <th>clean_text</th>\n",
              "      <th>label</th>\n",
              "      <th>labelencoder</th>\n",
              "    </tr>\n",
              "  </thead>\n",
              "  <tbody>\n",
              "    <tr>\n",
              "      <th>0</th>\n",
              "      <td>find cinema nearest for films</td>\n",
              "      <td>SearchScreeningEvent</td>\n",
              "      <td>6</td>\n",
              "    </tr>\n",
              "    <tr>\n",
              "      <th>1</th>\n",
              "      <td>give the current series two stars</td>\n",
              "      <td>RateBook</td>\n",
              "      <td>4</td>\n",
              "    </tr>\n",
              "    <tr>\n",
              "      <th>2</th>\n",
              "      <td>find the good girl at movie house</td>\n",
              "      <td>SearchScreeningEvent</td>\n",
              "      <td>6</td>\n",
              "    </tr>\n",
              "    <tr>\n",
              "      <th>3</th>\n",
              "      <td>please make reservations for three at kosher t...</td>\n",
              "      <td>BookRestaurant</td>\n",
              "      <td>1</td>\n",
              "    </tr>\n",
              "    <tr>\n",
              "      <th>4</th>\n",
              "      <td>what is the forecast for here one second from now</td>\n",
              "      <td>GetWeather</td>\n",
              "      <td>2</td>\n",
              "    </tr>\n",
              "  </tbody>\n",
              "</table>\n",
              "</div>"
            ],
            "text/plain": [
              "                                          clean_text  ... labelencoder\n",
              "0                      find cinema nearest for films  ...            6\n",
              "1                  give the current series two stars  ...            4\n",
              "2                  find the good girl at movie house  ...            6\n",
              "3  please make reservations for three at kosher t...  ...            1\n",
              "4  what is the forecast for here one second from now  ...            2\n",
              "\n",
              "[5 rows x 3 columns]"
            ]
          },
          "metadata": {
            "tags": []
          },
          "execution_count": 11
        }
      ]
    },
    {
      "cell_type": "code",
      "metadata": {
        "colab": {
          "base_uri": "https://localhost:8080/"
        },
        "id": "-RfsD1LSpSag",
        "outputId": "9382aa4d-51b6-4a39-a594-4ed83c694dcc"
      },
      "source": [
        "dummy_y.shape"
      ],
      "execution_count": 12,
      "outputs": [
        {
          "output_type": "execute_result",
          "data": {
            "text/plain": [
              "(13784, 7)"
            ]
          },
          "metadata": {
            "tags": []
          },
          "execution_count": 12
        }
      ]
    },
    {
      "cell_type": "code",
      "metadata": {
        "colab": {
          "base_uri": "https://localhost:8080/"
        },
        "id": "S4dq1macoeQC",
        "outputId": "30efaf36-144f-477c-9ed3-696ba45722e0"
      },
      "source": [
        "id_intention = 6\n",
        "print(\"Sprawdzenie poprawności LabelEncoder i to_categorical \\n\")\n",
        "print(\"Label - \", data_set_train[\"label\"].iloc[id_intention])\n",
        "print(\"LabelEncoder - \", data_set_train[\"labelencoder\"].iloc[id_intention])\n",
        "print()\n",
        "print(\"to_categorical - \", dummy_y[id_intention])\n",
        "print()\n",
        "print(\"return to LabelEncoder - \",np.argmax(dummy_y[id_intention], axis=-1))\n",
        "print(\"return to Label - \",labelencoder.inverse_transform([np.argmax(dummy_y[id_intention], axis=-1)]))"
      ],
      "execution_count": 13,
      "outputs": [
        {
          "output_type": "stream",
          "text": [
            "Sprawdzenie poprawności LabelEncoder i to_categorical \n",
            "\n",
            "Label -  BookRestaurant\n",
            "LabelEncoder -  1\n",
            "\n",
            "to_categorical -  [0. 1. 0. 0. 0. 0. 0.]\n",
            "\n",
            "return to LabelEncoder -  1\n",
            "return to Label -  ['BookRestaurant']\n"
          ],
          "name": "stdout"
        }
      ]
    },
    {
      "cell_type": "markdown",
      "metadata": {
        "id": "-lZTDFgGoSmT"
      },
      "source": [
        "#### Zdefiniowanie X i y"
      ]
    },
    {
      "cell_type": "code",
      "metadata": {
        "id": "JWd9mEjfBAS2"
      },
      "source": [
        "X = data_set_train[\"tokens_lemma\"]\n",
        "y = dummy_y"
      ],
      "execution_count": 14,
      "outputs": []
    },
    {
      "cell_type": "code",
      "metadata": {
        "colab": {
          "base_uri": "https://localhost:8080/"
        },
        "id": "8jUlcX2npzFs",
        "outputId": "7e561257-ace3-4b6c-a87c-3d49b7b78b38"
      },
      "source": [
        "X.shape, y.shape"
      ],
      "execution_count": 15,
      "outputs": [
        {
          "output_type": "execute_result",
          "data": {
            "text/plain": [
              "((13784,), (13784, 7))"
            ]
          },
          "metadata": {
            "tags": []
          },
          "execution_count": 15
        }
      ]
    },
    {
      "cell_type": "markdown",
      "metadata": {
        "id": "9mS_l8wZoO2R"
      },
      "source": [
        "#### Podział zbioru "
      ]
    },
    {
      "cell_type": "code",
      "metadata": {
        "id": "A18D02x5sjFd"
      },
      "source": [
        "from sklearn.model_selection import train_test_split\n",
        "\n",
        "X_train, X_test, y_train, y_test = train_test_split(X, y, test_size=0.2, random_state=42)"
      ],
      "execution_count": 16,
      "outputs": []
    },
    {
      "cell_type": "code",
      "metadata": {
        "colab": {
          "base_uri": "https://localhost:8080/"
        },
        "id": "i_xH9XIGuYCG",
        "outputId": "dfd65161-7ac3-4f4f-ab27-795e10dd79af"
      },
      "source": [
        "X_train.shape, X_test.shape, y_train.shape, y_test.shape"
      ],
      "execution_count": 17,
      "outputs": [
        {
          "output_type": "execute_result",
          "data": {
            "text/plain": [
              "((11027,), (2757,), (11027, 7), (2757, 7))"
            ]
          },
          "metadata": {
            "tags": []
          },
          "execution_count": 17
        }
      ]
    },
    {
      "cell_type": "code",
      "metadata": {
        "id": "-DR0gkd1_Uv0"
      },
      "source": [
        ""
      ],
      "execution_count": 17,
      "outputs": []
    },
    {
      "cell_type": "markdown",
      "metadata": {
        "id": "chWlDg9Mtmya"
      },
      "source": [
        "#### `Tokenizer` i `pad_sequences`"
      ]
    },
    {
      "cell_type": "code",
      "metadata": {
        "id": "LCm-rbaus6QG"
      },
      "source": [
        "from keras.preprocessing.sequence import pad_sequences\n",
        "from keras.preprocessing.text import Tokenizer"
      ],
      "execution_count": 18,
      "outputs": []
    },
    {
      "cell_type": "code",
      "metadata": {
        "id": "U-ihmlc-s6QG"
      },
      "source": [
        "tokenizer = Tokenizer(num_words=5000)\n",
        "tokenizer.fit_on_texts(X_train)\n",
        "\n",
        "X_train = tokenizer.texts_to_sequences(X_train)\n",
        "X_test = tokenizer.texts_to_sequences(X_test)\n",
        "\n",
        "maxlen = 13\n",
        "vocab_size = len(tokenizer.word_index) + 1\n",
        "\n",
        "X_train = pad_sequences(X_train, padding=\"post\", truncating=\"post\", maxlen=maxlen)\n",
        "X_test = pad_sequences(X_test, padding=\"post\", truncating=\"post\", maxlen=maxlen)"
      ],
      "execution_count": 19,
      "outputs": []
    },
    {
      "cell_type": "markdown",
      "metadata": {
        "id": "_UAQ4RNONmda"
      },
      "source": [
        "#### Model"
      ]
    },
    {
      "cell_type": "code",
      "metadata": {
        "id": "PaRWehbu_VCe"
      },
      "source": [
        "from keras.models import Sequential\n",
        "from keras.layers.embeddings import Embedding\n",
        "from keras.models import Model\n",
        "from tensorflow.keras.callbacks import EarlyStopping"
      ],
      "execution_count": 20,
      "outputs": []
    },
    {
      "cell_type": "code",
      "metadata": {
        "id": "Hwih4PgGsS9k"
      },
      "source": [
        "from keras.layers import Dense, Activation, Embedding, Flatten, GlobalMaxPooling1D, Dropout, Conv1D"
      ],
      "execution_count": 21,
      "outputs": []
    },
    {
      "cell_type": "code",
      "metadata": {
        "id": "Ui9nW3K0_0bf",
        "colab": {
          "base_uri": "https://localhost:8080/"
        },
        "outputId": "7ee58be7-d24a-4d2c-faea-2972901751fc"
      },
      "source": [
        "model = Sequential()\n",
        "model.add(Embedding(vocab_size, \n",
        "                           100,  \n",
        "                           input_length=maxlen,\n",
        "                           ))\n",
        "model.add(Conv1D(128, 5, activation='relu'))\n",
        "model.add(GlobalMaxPooling1D())  \n",
        "model.add(Dense(7, activation=\"softmax\")) # sigmoid / softmax\n",
        "model.compile(loss=\"categorical_crossentropy\", optimizer=\"adam\", metrics=[\"accuracy\"])\n",
        "print(model.summary())"
      ],
      "execution_count": 22,
      "outputs": [
        {
          "output_type": "stream",
          "text": [
            "Model: \"sequential\"\n",
            "_________________________________________________________________\n",
            "Layer (type)                 Output Shape              Param #   \n",
            "=================================================================\n",
            "embedding (Embedding)        (None, 13, 100)           912200    \n",
            "_________________________________________________________________\n",
            "conv1d (Conv1D)              (None, 9, 128)            64128     \n",
            "_________________________________________________________________\n",
            "global_max_pooling1d (Global (None, 128)               0         \n",
            "_________________________________________________________________\n",
            "dense (Dense)                (None, 7)                 903       \n",
            "=================================================================\n",
            "Total params: 977,231\n",
            "Trainable params: 977,231\n",
            "Non-trainable params: 0\n",
            "_________________________________________________________________\n",
            "None\n"
          ],
          "name": "stdout"
        }
      ]
    },
    {
      "cell_type": "code",
      "metadata": {
        "id": "dJtnYTgA_06S",
        "colab": {
          "base_uri": "https://localhost:8080/"
        },
        "outputId": "25e5a392-25c5-42c5-b8e8-09f0f1be2ed4"
      },
      "source": [
        "from tensorflow.keras.callbacks import EarlyStopping\n",
        "\n",
        "EarlyStop = EarlyStopping(monitor='val_loss', \n",
        "                          patience=5,\n",
        "                          verbose=1)\n",
        "\n",
        "history = model.fit(X_train, \n",
        "                    y_train, \n",
        "                    epochs=20, \n",
        "                    batch_size=64, \n",
        "                    validation_split=0.2, \n",
        "                    callbacks = [EarlyStop] )\n",
        "scores = model.evaluate(X_test, y_test)\n",
        "print(f\"Accuracy {scores[1] * 100}\")"
      ],
      "execution_count": 23,
      "outputs": [
        {
          "output_type": "stream",
          "text": [
            "Epoch 1/20\n",
            "138/138 [==============================] - 4s 23ms/step - loss: 1.3523 - accuracy: 0.7135 - val_loss: 0.1208 - val_accuracy: 0.9701\n",
            "Epoch 2/20\n",
            "138/138 [==============================] - 3s 19ms/step - loss: 0.0767 - accuracy: 0.9837 - val_loss: 0.0736 - val_accuracy: 0.9760\n",
            "Epoch 3/20\n",
            "138/138 [==============================] - 3s 19ms/step - loss: 0.0322 - accuracy: 0.9930 - val_loss: 0.0619 - val_accuracy: 0.9823\n",
            "Epoch 4/20\n",
            "138/138 [==============================] - 3s 19ms/step - loss: 0.0176 - accuracy: 0.9964 - val_loss: 0.0602 - val_accuracy: 0.9828\n",
            "Epoch 5/20\n",
            "138/138 [==============================] - 3s 19ms/step - loss: 0.0082 - accuracy: 0.9984 - val_loss: 0.0594 - val_accuracy: 0.9832\n",
            "Epoch 6/20\n",
            "138/138 [==============================] - 3s 19ms/step - loss: 0.0052 - accuracy: 0.9993 - val_loss: 0.0627 - val_accuracy: 0.9814\n",
            "Epoch 7/20\n",
            "138/138 [==============================] - 3s 19ms/step - loss: 0.0031 - accuracy: 0.9998 - val_loss: 0.0637 - val_accuracy: 0.9832\n",
            "Epoch 8/20\n",
            "138/138 [==============================] - 3s 19ms/step - loss: 0.0023 - accuracy: 0.9998 - val_loss: 0.0632 - val_accuracy: 0.9828\n",
            "Epoch 9/20\n",
            "138/138 [==============================] - 3s 19ms/step - loss: 0.0020 - accuracy: 0.9996 - val_loss: 0.0656 - val_accuracy: 0.9819\n",
            "Epoch 10/20\n",
            "138/138 [==============================] - 3s 19ms/step - loss: 0.0017 - accuracy: 0.9996 - val_loss: 0.0659 - val_accuracy: 0.9828\n",
            "Epoch 00010: early stopping\n",
            "87/87 [==============================] - 0s 2ms/step - loss: 0.0542 - accuracy: 0.9837\n",
            "Accuracy 98.36779236793518\n"
          ],
          "name": "stdout"
        }
      ]
    },
    {
      "cell_type": "markdown",
      "metadata": {
        "id": "B0IdSKiJtzgd"
      },
      "source": [
        "#### Predykcja na zbiorze validacyjnym"
      ]
    },
    {
      "cell_type": "code",
      "metadata": {
        "colab": {
          "base_uri": "https://localhost:8080/"
        },
        "id": "27dr_LCO_1IW",
        "outputId": "1759bfae-bd32-4576-cc6e-1ab4c6210dd1"
      },
      "source": [
        "# oczysczenie danych\n",
        "data_set_valid[\"clean_text\"] = data_set_valid[\"text\"].apply(lambda x: process_text(x))\n",
        "\n",
        "# labelencoder \n",
        "data_set_valid[\"labelencoder\"] = labelencoder.fit_transform(data_set_valid[\"label\"])\n",
        "\n",
        "# tokenizacja weg przetrenowanego już tokenizera\n",
        "X_validate = tokenizer.texts_to_sequences(data_set_valid[\"clean_text\"])\n",
        "\n",
        "# pad sequel\n",
        "X_validate = pad_sequences(X_validate, padding=\"post\", truncating=\"post\", maxlen=maxlen)\n",
        "X_validate"
      ],
      "execution_count": 24,
      "outputs": [
        {
          "output_type": "execute_result",
          "data": {
            "text/plain": [
              "array([[ 12, 421,  44, ...,   0,   0,   0],\n",
              "       [220, 285,  19, ...,   0,   0,   0],\n",
              "       [ 12,   1, 254, ..., 167, 963,   0],\n",
              "       ...,\n",
              "       [ 23,   1,  79, ...,   0,   0,   0],\n",
              "       [ 12,   1,  21, ...,   0,   0,   0],\n",
              "       [ 42,  37,   4, ...,   0,   0,   0]], dtype=int32)"
            ]
          },
          "metadata": {
            "tags": []
          },
          "execution_count": 24
        }
      ]
    },
    {
      "cell_type": "code",
      "metadata": {
        "colab": {
          "base_uri": "https://localhost:8080/"
        },
        "id": "UOPVqktyANNF",
        "outputId": "5bf1ffe1-cb3c-4982-d4eb-c2d02da977aa"
      },
      "source": [
        "dummy_y_valid = data_set_valid[\"labelencoder\"].values\n",
        "dummy_y_valid[:5]"
      ],
      "execution_count": 25,
      "outputs": [
        {
          "output_type": "execute_result",
          "data": {
            "text/plain": [
              "array([6, 3, 2, 0, 6])"
            ]
          },
          "metadata": {
            "tags": []
          },
          "execution_count": 25
        }
      ]
    },
    {
      "cell_type": "code",
      "metadata": {
        "colab": {
          "base_uri": "https://localhost:8080/"
        },
        "id": "NAiFC304APqL",
        "outputId": "9eef3823-77bd-441e-db79-5a44ec0f94c1"
      },
      "source": [
        "# Sprawdzenie rozmiaru zbiorów validacyjnego\n",
        "X_validate.shape, dummy_y_valid.shape"
      ],
      "execution_count": 26,
      "outputs": [
        {
          "output_type": "execute_result",
          "data": {
            "text/plain": [
              "((700, 13), (700,))"
            ]
          },
          "metadata": {
            "tags": []
          },
          "execution_count": 26
        }
      ]
    },
    {
      "cell_type": "code",
      "metadata": {
        "colab": {
          "base_uri": "https://localhost:8080/"
        },
        "id": "WRbEdb7AAXGy",
        "outputId": "25b14203-3bed-41a9-e219-dabfd2aabfa4"
      },
      "source": [
        "predicted_lstm_val = np.argmax(model.predict(X_validate), axis=-1)\n",
        "predicted_lstm_val[:5]"
      ],
      "execution_count": 27,
      "outputs": [
        {
          "output_type": "execute_result",
          "data": {
            "text/plain": [
              "array([6, 3, 2, 0, 6])"
            ]
          },
          "metadata": {
            "tags": []
          },
          "execution_count": 27
        }
      ]
    },
    {
      "cell_type": "markdown",
      "metadata": {
        "id": "_5wZwn-_uKE9"
      },
      "source": [
        "#### Rozkodowanie przewidzianych i prawidłowych etykiet"
      ]
    },
    {
      "cell_type": "code",
      "metadata": {
        "colab": {
          "base_uri": "https://localhost:8080/"
        },
        "id": "G4U9hYvnBJ9F",
        "outputId": "bced152b-223f-4983-ad84-deadab6940b7"
      },
      "source": [
        "y_pred = labelencoder.inverse_transform(predicted_lstm_val)\n",
        "y_pred = pd.Series(y_pred)\n",
        "y_pred.head()"
      ],
      "execution_count": 28,
      "outputs": [
        {
          "output_type": "execute_result",
          "data": {
            "text/plain": [
              "0    SearchScreeningEvent\n",
              "1               PlayMusic\n",
              "2              GetWeather\n",
              "3           AddToPlaylist\n",
              "4    SearchScreeningEvent\n",
              "dtype: object"
            ]
          },
          "metadata": {
            "tags": []
          },
          "execution_count": 28
        }
      ]
    },
    {
      "cell_type": "code",
      "metadata": {
        "colab": {
          "base_uri": "https://localhost:8080/"
        },
        "id": "EW03pUanA729",
        "outputId": "5a5b1730-548b-4847-bbe1-4a7b0775407d"
      },
      "source": [
        "y_val = labelencoder.inverse_transform(dummy_y_valid)\n",
        "y_val = pd.Series(y_val)\n",
        "y_val.head()"
      ],
      "execution_count": 29,
      "outputs": [
        {
          "output_type": "execute_result",
          "data": {
            "text/plain": [
              "0    SearchScreeningEvent\n",
              "1               PlayMusic\n",
              "2              GetWeather\n",
              "3           AddToPlaylist\n",
              "4    SearchScreeningEvent\n",
              "dtype: object"
            ]
          },
          "metadata": {
            "tags": []
          },
          "execution_count": 29
        }
      ]
    },
    {
      "cell_type": "markdown",
      "metadata": {
        "id": "RcGfyRgQudTZ"
      },
      "source": [
        "#### `Confusion matrix`"
      ]
    },
    {
      "cell_type": "code",
      "metadata": {
        "id": "GXVwswIsA9RT"
      },
      "source": [
        "from sklearn.metrics import accuracy_score, f1_score, classification_report, confusion_matrix\n",
        "%matplotlib inline\n",
        "from matplotlib import pyplot as plt\n",
        "import seaborn as sns"
      ],
      "execution_count": 30,
      "outputs": []
    },
    {
      "cell_type": "code",
      "metadata": {
        "colab": {
          "base_uri": "https://localhost:8080/",
          "height": 701
        },
        "id": "fGr6-cjzBFLc",
        "outputId": "49cbd363-236a-4345-b86b-a0e3b52c4388"
      },
      "source": [
        "classes = np.unique(y_val)\n",
        "\n",
        "print('Accuracy:', round(accuracy_score(y_val, y_pred),2))\n",
        "print('F1_score:', round(f1_score(y_val, y_pred, average='weighted'),2))\n",
        "\n",
        "print(classification_report(y_val, y_pred))\n",
        "# Plot confusion matrix\n",
        "cm = confusion_matrix(y_val, y_pred)\n",
        "fig, ax = plt.subplots()\n",
        "sns.heatmap(cm, annot=True, fmt='d', ax=ax, cmap=plt.cm.Blues, cbar=False)\n",
        "ax.set(xlabel='Pred', ylabel='True', xticklabels=classes, yticklabels=classes, title='Confusion matrix')\n",
        "plt.yticks(rotation=0)\n",
        "plt.xticks(rotation=90)"
      ],
      "execution_count": 31,
      "outputs": [
        {
          "output_type": "stream",
          "text": [
            "Accuracy: 0.96\n",
            "F1_score: 0.96\n",
            "                      precision    recall  f1-score   support\n",
            "\n",
            "       AddToPlaylist       0.97      1.00      0.99       100\n",
            "      BookRestaurant       0.98      0.99      0.99       100\n",
            "          GetWeather       0.99      0.97      0.98       100\n",
            "           PlayMusic       0.99      0.96      0.97       100\n",
            "            RateBook       0.98      1.00      0.99       100\n",
            "  SearchCreativeWork       0.86      0.98      0.92       100\n",
            "SearchScreeningEvent       0.98      0.83      0.90       100\n",
            "\n",
            "            accuracy                           0.96       700\n",
            "           macro avg       0.96      0.96      0.96       700\n",
            "        weighted avg       0.96      0.96      0.96       700\n",
            "\n"
          ],
          "name": "stdout"
        },
        {
          "output_type": "execute_result",
          "data": {
            "text/plain": [
              "(array([0.5, 1.5, 2.5, 3.5, 4.5, 5.5, 6.5]),\n",
              " <a list of 7 Text major ticklabel objects>)"
            ]
          },
          "metadata": {
            "tags": []
          },
          "execution_count": 31
        },
        {
          "output_type": "display_data",
          "data": {
            "image/png": "[encoded data removed]",
            "text/plain": [
              "<Figure size 432x288 with 1 Axes>"
            ]
          },
          "metadata": {
            "tags": [],
            "needs_background": "light"
          }
        }
      ]
    },
    {
      "cell_type": "markdown",
      "metadata": {
        "id": "9uxfqF9uum32"
      },
      "source": [
        "#### Zapoznanie się z błędnymi predykcjami "
      ]
    },
    {
      "cell_type": "code",
      "metadata": {
        "colab": {
          "base_uri": "https://localhost:8080/"
        },
        "id": "28QYnOPM-mJz",
        "outputId": "21eb06b6-f647-4493-fd67-e300ac7928aa"
      },
      "source": [
        "indexes = []\n",
        "for i, phrase in enumerate(y_pred):\n",
        "  if phrase == 'SearchCreativeWork':\n",
        "    if y_val[i] == 'SearchScreeningEvent':\n",
        "      indexes.append(i)\n",
        "print(indexes)"
      ],
      "execution_count": 32,
      "outputs": [
        {
          "output_type": "stream",
          "text": [
            "[125, 326, 381, 454, 557, 568, 590, 615, 648, 672, 675, 678, 680, 689]\n"
          ],
          "name": "stdout"
        }
      ]
    },
    {
      "cell_type": "code",
      "metadata": {
        "colab": {
          "base_uri": "https://localhost:8080/"
        },
        "id": "ouy1yzy8-048",
        "outputId": "be6249f0-af31-46b2-b828-4ed183199b50"
      },
      "source": [
        "for i in indexes:\n",
        "  print(f\"----------------------------\\nTekst komendy:\\n{data_set_valid['text'][i]}\")\n",
        "  print(f\"Oczyszczona komenda:\\n{data_set_valid['clean_text'][i]}\")\n",
        "  print(f'True category: {y_val[i]}')\n",
        "  print(f'Predicted category: {y_pred[i]}')\n",
        "  print(\"\\n\")"
      ],
      "execution_count": 33,
      "outputs": [
        {
          "output_type": "stream",
          "text": [
            "----------------------------\n",
            "Tekst komendy:\n",
            "what are the times for The Gingerbread Man\n",
            "Oczyszczona komenda:\n",
            "what are the times for the gingerbread man\n",
            "True category: SearchScreeningEvent\n",
            "Predicted category: SearchCreativeWork\n",
            "\n",
            "\n",
            "----------------------------\n",
            "Tekst komendy:\n",
            "Can I get the movie times\n",
            "Oczyszczona komenda:\n",
            "can get the movie times\n",
            "True category: SearchScreeningEvent\n",
            "Predicted category: SearchCreativeWork\n",
            "\n",
            "\n",
            "----------------------------\n",
            "Tekst komendy:\n",
            "Show me the movies at Harkins Theatres.\n",
            "Oczyszczona komenda:\n",
            "show me the movies at harkins theatres\n",
            "True category: SearchScreeningEvent\n",
            "Predicted category: SearchCreativeWork\n",
            "\n",
            "\n",
            "----------------------------\n",
            "Tekst komendy:\n",
            "What are the movie times\n",
            "Oczyszczona komenda:\n",
            "what are the movie times\n",
            "True category: SearchScreeningEvent\n",
            "Predicted category: SearchCreativeWork\n",
            "\n",
            "\n",
            "----------------------------\n",
            "Tekst komendy:\n",
            "I want to see Shattered Image.\n",
            "Oczyszczona komenda:\n",
            "want to see shattered image\n",
            "True category: SearchScreeningEvent\n",
            "Predicted category: SearchCreativeWork\n",
            "\n",
            "\n",
            "----------------------------\n",
            "Tekst komendy:\n",
            "Can you check the timings for Super Sweet 16: The Movie?\n",
            "Oczyszczona komenda:\n",
            "can you check the timings for super sweet the movie\n",
            "True category: SearchScreeningEvent\n",
            "Predicted category: SearchCreativeWork\n",
            "\n",
            "\n",
            "----------------------------\n",
            "Tekst komendy:\n",
            "Where can I find the movie schedules\n",
            "Oczyszczona komenda:\n",
            "where can find the movie schedules\n",
            "True category: SearchScreeningEvent\n",
            "Predicted category: SearchCreativeWork\n",
            "\n",
            "\n",
            "----------------------------\n",
            "Tekst komendy:\n",
            "Where can I see The Prime Ministers: The Pioneers\n",
            "Oczyszczona komenda:\n",
            "where can see the prime ministers the pioneers\n",
            "True category: SearchScreeningEvent\n",
            "Predicted category: SearchCreativeWork\n",
            "\n",
            "\n",
            "----------------------------\n",
            "Tekst komendy:\n",
            "I want to see Outcast.\n",
            "Oczyszczona komenda:\n",
            "want to see outcast\n",
            "True category: SearchScreeningEvent\n",
            "Predicted category: SearchCreativeWork\n",
            "\n",
            "\n",
            "----------------------------\n",
            "Tekst komendy:\n",
            "what are the movie times\n",
            "Oczyszczona komenda:\n",
            "what are the movie times\n",
            "True category: SearchScreeningEvent\n",
            "Predicted category: SearchCreativeWork\n",
            "\n",
            "\n",
            "----------------------------\n",
            "Tekst komendy:\n",
            "Show the times for Cheers for Miss Bishop at Dipson Theatres.\n",
            "Oczyszczona komenda:\n",
            "show the times for cheers for miss bishop at dipson theatres\n",
            "True category: SearchScreeningEvent\n",
            "Predicted category: SearchCreativeWork\n",
            "\n",
            "\n",
            "----------------------------\n",
            "Tekst komendy:\n",
            "Show me Southern Theatres movie times\n",
            "Oczyszczona komenda:\n",
            "show me southern theatres movie times\n",
            "True category: SearchScreeningEvent\n",
            "Predicted category: SearchCreativeWork\n",
            "\n",
            "\n",
            "----------------------------\n",
            "Tekst komendy:\n",
            "Is Rumor Has It playing\n",
            "Oczyszczona komenda:\n",
            "is rumor has it playing\n",
            "True category: SearchScreeningEvent\n",
            "Predicted category: SearchCreativeWork\n",
            "\n",
            "\n",
            "----------------------------\n",
            "Tekst komendy:\n",
            "I want to see Fear Chamber.\n",
            "Oczyszczona komenda:\n",
            "want to see fear chamber\n",
            "True category: SearchScreeningEvent\n",
            "Predicted category: SearchCreativeWork\n",
            "\n",
            "\n"
          ],
          "name": "stdout"
        }
      ]
    },
    {
      "cell_type": "markdown",
      "metadata": {
        "id": "lm61MY9CSpLm"
      },
      "source": [
        "Wnioski:\n",
        "> "
      ]
    },
    {
      "cell_type": "code",
      "metadata": {
        "id": "Klnp99BGNgm8"
      },
      "source": [
        ""
      ],
      "execution_count": 33,
      "outputs": []
    }
  ]
}
