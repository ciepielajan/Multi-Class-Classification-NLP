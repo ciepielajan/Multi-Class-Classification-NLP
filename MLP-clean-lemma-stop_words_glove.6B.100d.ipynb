{
  "nbformat": 4,
  "nbformat_minor": 0,
  "metadata": {
    "colab": {
      "name": "Detecting_intentions_MLP-clean-lemma-stop_wordsy",
      "provenance": [],
      "collapsed_sections": [],
      "authorship_tag": "ABX9TyMwTkqtjnWVi3EEj0wEstgj",
      "include_colab_link": true
    },
    "kernelspec": {
      "name": "python3",
      "display_name": "Python 3"
    },
    "language_info": {
      "name": "python"
    }
  },
  "cells": [
    {
      "cell_type": "markdown",
      "metadata": {
        "id": "view-in-github",
        "colab_type": "text"
      },
      "source": [
        "<a href=\"https://colab.research.google.com/github/ciepielajan/Multi-Class-Classification-NLP/blob/main/MLP-clean-lemma-stop_words_glove.6B.100d.ipynb\" target=\"_parent\"><img src=\"https://colab.research.google.com/assets/colab-badge.svg\" alt=\"Open In Colab\"/></a>"
      ]
    },
    {
      "cell_type": "markdown",
      "metadata": {
        "id": "8AZPAKjZzukF"
      },
      "source": [
        "MLP-clean-lemma-stop_words_glove.6B.100d.ipynb"
      ]
    },
    {
      "cell_type": "markdown",
      "metadata": {
        "id": "us7PJ6w-n8ge"
      },
      "source": [
        "#### Pobranie danych"
      ]
    },
    {
      "cell_type": "code",
      "metadata": {
        "colab": {
          "base_uri": "https://localhost:8080/"
        },
        "id": "cZ_7ET22CAsA",
        "outputId": "1ea03845-bc44-4ce9-85bd-ac89977332d9"
      },
      "source": [
        "# https://drive.google.com/file/d/1fI6EXyD9TMTC1jzdu206ljXOGNjdHprq/view?usp=sharing\n",
        "!gdown --id \"1fI6EXyD9TMTC1jzdu206ljXOGNjdHprq\""
      ],
      "execution_count": 1,
      "outputs": [
        {
          "output_type": "stream",
          "text": [
            "Downloading...\n",
            "From: https://drive.google.com/uc?id=1fI6EXyD9TMTC1jzdu206ljXOGNjdHprq\n",
            "To: /content/user_intent.zip\n",
            "\r  0% 0.00/271k [00:00<?, ?B/s]\r100% 271k/271k [00:00<00:00, 34.9MB/s]\n"
          ],
          "name": "stdout"
        }
      ]
    },
    {
      "cell_type": "code",
      "metadata": {
        "colab": {
          "base_uri": "https://localhost:8080/"
        },
        "id": "uWusnzuPCHqv",
        "outputId": "be45060a-bfc0-4096-b7ea-de7df692c660"
      },
      "source": [
        "!unzip \"user_intent.zip\""
      ],
      "execution_count": 2,
      "outputs": [
        {
          "output_type": "stream",
          "text": [
            "Archive:  user_intent.zip\n",
            "  inflating: train.csv               \n",
            "  inflating: __MACOSX/._train.csv    \n",
            "  inflating: validation.csv          \n"
          ],
          "name": "stdout"
        }
      ]
    },
    {
      "cell_type": "code",
      "metadata": {
        "id": "9CI1LZgj-Kin"
      },
      "source": [
        ""
      ],
      "execution_count": 2,
      "outputs": []
    },
    {
      "cell_type": "code",
      "metadata": {
        "colab": {
          "base_uri": "https://localhost:8080/"
        },
        "id": "NUKeVYWfCOdU",
        "outputId": "4d86f3eb-46b3-4688-a5f1-e1857ec27b4a"
      },
      "source": [
        "import pandas as pd\n",
        "import numpy as np\n",
        "from datetime import datetime\n",
        "\n",
        "data_set_train = pd.read_csv(\"train.csv\")\n",
        "data_set_valid = pd.read_csv(\"validation.csv\")\n",
        "\n",
        "print(data_set_train.shape)\n",
        "print(data_set_valid.shape)\n",
        "\n",
        "print(data_set_train.columns)\n",
        "print(data_set_valid.columns)"
      ],
      "execution_count": 3,
      "outputs": [
        {
          "output_type": "stream",
          "text": [
            "(13784, 2)\n",
            "(700, 2)\n",
            "Index(['text', 'label'], dtype='object')\n",
            "Index(['text', 'label'], dtype='object')\n"
          ],
          "name": "stdout"
        }
      ]
    },
    {
      "cell_type": "markdown",
      "metadata": {
        "id": "8Vg1fqbGoCrp"
      },
      "source": [
        "#### Podstawowy process text"
      ]
    },
    {
      "cell_type": "code",
      "metadata": {
        "id": "5GQNuCjSlz0F"
      },
      "source": [
        "import re\n",
        "def process_text(sentence):\n",
        "    sentence = re.sub('[A-Za-z0-9]+@[a-zA-z].[a-zA-Z]+', '', sentence)  # maile\n",
        "    sentence = re.sub('(http[s]*:[/][/])[a-zA-Z0-9]+', '', sentence)  # linki\n",
        "    sentence = re.sub(r\"<[^>]+>\", \" \", sentence) # remove html tag\n",
        "    sentence = re.sub(r\"[^a-zA-Z\\s]\", \"\", sentence)  # remove punctuations and numbers   \n",
        "    sentence = re.sub(r\"\\b[A-Za-z]{1}\\b\", \"\", sentence)  # remove single characters\n",
        "\n",
        "    sentence = re.sub(\"^\\s+|\\s+$\", \"\", sentence, flags=re.UNICODE) # Remove spaces both in the BEGINNING and in the END of a string:\n",
        "    sentence = \" \".join(re.split(\"\\s+\", sentence, flags=re.UNICODE))  # Remove ONLY DUPLICATE spaces:\n",
        "    sentence = sentence.lower()\n",
        "    \n",
        "    return sentence"
      ],
      "execution_count": 4,
      "outputs": []
    },
    {
      "cell_type": "code",
      "metadata": {
        "id": "RZJOju1sFOwp"
      },
      "source": [
        "data_set_train[\"clean_text\"] = data_set_train[\"text\"].apply(lambda x: process_text(x))"
      ],
      "execution_count": 5,
      "outputs": []
    },
    {
      "cell_type": "markdown",
      "metadata": {
        "id": "OdmloYvmy5I2"
      },
      "source": [
        "#### `SpaCy` `Lemmatyzacja` i usunięcie `stop_words`"
      ]
    },
    {
      "cell_type": "code",
      "metadata": {
        "colab": {
          "base_uri": "https://localhost:8080/"
        },
        "id": "hKacgC9TzJtn",
        "outputId": "d3ef3e9c-7ecc-477e-dd8e-a81a9a08a7c8"
      },
      "source": [
        "import spacy\n",
        "# pobranie angielskich STOP WORDS (słów nie mających znaczenia)\n",
        "from spacy.lang.en.stop_words import STOP_WORDS\n",
        "stopwords = list(STOP_WORDS)\n",
        "print(stopwords)\n",
        "\n",
        "# załadowanie angielskiego CORE \n",
        "nlp = spacy.load('en_core_web_sm')"
      ],
      "execution_count": 6,
      "outputs": [
        {
          "output_type": "stream",
          "text": [
            "['in', 'with', 'whatever', 'back', 'just', 'any', 'off', 'whither', 'side', 'them', 'since', 'the', 'say', 'show', 'will', 'yourselves', 'hereafter', 'onto', 'eight', 'noone', 'becoming', 'call', 'everywhere', 'somehow', 'six', 'first', 'whole', 'give', 'what', 'wherever', 'everything', 'was', 'now', 'than', \"n't\", 'several', 'sixty', 'quite', 'my', 'wherein', 'am', 'your', 'nine', 'much', 'formerly', 'a', 'amongst', 'perhaps', 'anywhere', 'within', 'they', \"'ll\", 'together', 'namely', 'had', 'mostly', 'although', 'name', 'really', 'few', 'such', 'twenty', 'this', 'unless', \"'m\", 'someone', 'via', 'about', 'herein', 'thereafter', 'can', 'against', 'him', 'on', 'top', 'make', 'bottom', 'except', 'not', 'but', 'regarding', 'some', 'forty', '’m', 'or', 'me', 'yours', 'have', 'at', 're', 'anyone', 'an', 'does', 'should', 'who', 'across', '‘ll', 'became', 'else', 'thereby', 'various', 'nobody', 'every', 'seem', 'do', 'nor', 'by', 'to', 'down', 'her', 'i', 'it', 'done', 'that', 'too', 'go', 'whom', '’s', 'seeming', 'until', 'then', 'very', 'did', 'last', 'behind', 'nothing', 'almost', 'between', 'somewhere', 'twelve', 'yet', 'beforehand', 'among', 'when', 'up', 'ours', 'afterwards', 'often', 'whose', 'please', 'into', 'four', 'whether', 'myself', 'its', 'own', 'because', 'during', 'all', 'where', 'must', \"'s\", 'neither', 'which', '‘d', 'n’t', 'and', 'anything', 'others', 'therefore', 'above', 'less', 'rather', 'due', '‘ve', 'before', 'herself', 'ourselves', 'besides', 'elsewhere', 'five', 'these', 'whoever', 'everyone', 'take', 'she', 'himself', 'whereas', 'empty', 'eleven', 'same', 'you', 'whence', 'us', 'under', 'two', 'nowhere', 'their', 'though', 'amount', 'why', 'once', 'those', 'of', 'more', 'many', 'further', 'none', 'has', 'after', 'around', 'from', 'he', 'beside', 'yourself', 'see', 'our', 'becomes', 'enough', 'third', 'anyway', \"'d\", 'how', 'sometime', 'hereby', 'serious', 'thru', 'even', 'might', 'upon', 'otherwise', 'as', 'doing', 'only', 'whereupon', 'could', 'keep', 'each', 'seems', 'other', 'ever', '‘m', 'beyond', 'indeed', 'put', 'already', 'made', 'hence', 'towards', \"'re\", 'hereupon', 'his', 'ca', 'never', 'cannot', 'three', 'being', 'themselves', 'front', 'is', 'no', 'latter', 'alone', 'also', 'most', 'get', 'moreover', 'over', 'full', 'either', 'thus', 'fifty', 'next', 'toward', 'fifteen', 'something', 'here', 'nevertheless', 'be', '‘s', 'are', 'along', 'least', 'throughout', 'anyhow', 'again', 'one', 'still', 'always', 'mine', 'using', 'whereafter', 'would', 'may', '’d', 'thereupon', 'hundred', 'thence', 'been', 'used', 'however', 'both', 'per', 'therein', 'below', 'become', 'whenever', 'through', 'move', '’ll', 'out', 'meanwhile', 'whereby', '’re', 'there', 'hers', 'well', '‘re', 'seemed', 'sometimes', 'part', 'another', 'without', 'we', 'itself', '’ve', 'n‘t', 'were', \"'ve\", 'latterly', 'if', 'while', 'former', 'ten', 'for', 'so']\n"
          ],
          "name": "stdout"
        }
      ]
    },
    {
      "cell_type": "code",
      "metadata": {
        "colab": {
          "base_uri": "https://localhost:8080/",
          "height": 35
        },
        "id": "gMzwt0bJzpNe",
        "outputId": "022e6608-b298-4ef4-9ec4-fe3dba2c4dcb"
      },
      "source": [
        "spacy.__version__"
      ],
      "execution_count": 7,
      "outputs": [
        {
          "output_type": "execute_result",
          "data": {
            "application/vnd.google.colaboratory.intrinsic+json": {
              "type": "string"
            },
            "text/plain": [
              "'2.2.4'"
            ]
          },
          "metadata": {
            "tags": []
          },
          "execution_count": 7
        }
      ]
    },
    {
      "cell_type": "code",
      "metadata": {
        "colab": {
          "base_uri": "https://localhost:8080/"
        },
        "id": "CDGR8xz-zFa7",
        "outputId": "06c63860-0eec-4cba-92dc-77e5a8c1778b"
      },
      "source": [
        "%%time\n",
        "data_set_train[\"tokens_lemma_without_stop\"] = data_set_train[\"clean_text\"].apply(lambda x: \" \".join([str(i.lemma_ ) for i in nlp(x) if i.lemma_  != \"-PRON-\" and i.lemma_ not in stopwords ]))"
      ],
      "execution_count": 8,
      "outputs": [
        {
          "output_type": "stream",
          "text": [
            "CPU times: user 2min 2s, sys: 270 ms, total: 2min 2s\n",
            "Wall time: 2min 2s\n"
          ],
          "name": "stdout"
        }
      ]
    },
    {
      "cell_type": "code",
      "metadata": {
        "colab": {
          "base_uri": "https://localhost:8080/",
          "height": 221
        },
        "id": "Qm19XsjF1FGx",
        "outputId": "33f21f67-b3af-4b70-d927-7b7a9d4a1549"
      },
      "source": [
        "data_set_train.sample(5)"
      ],
      "execution_count": 9,
      "outputs": [
        {
          "output_type": "execute_result",
          "data": {
            "text/html": [
              "<div>\n",
              "<style scoped>\n",
              "    .dataframe tbody tr th:only-of-type {\n",
              "        vertical-align: middle;\n",
              "    }\n",
              "\n",
              "    .dataframe tbody tr th {\n",
              "        vertical-align: top;\n",
              "    }\n",
              "\n",
              "    .dataframe thead th {\n",
              "        text-align: right;\n",
              "    }\n",
              "</style>\n",
              "<table border=\"1\" class=\"dataframe\">\n",
              "  <thead>\n",
              "    <tr style=\"text-align: right;\">\n",
              "      <th></th>\n",
              "      <th>text</th>\n",
              "      <th>label</th>\n",
              "      <th>clean_text</th>\n",
              "      <th>tokens_lemma_without_stop</th>\n",
              "    </tr>\n",
              "  </thead>\n",
              "  <tbody>\n",
              "    <tr>\n",
              "      <th>13364</th>\n",
              "      <td>rate How to Eat Fried Worms two stars</td>\n",
              "      <td>RateBook</td>\n",
              "      <td>rate how to eat fried worms two stars</td>\n",
              "      <td>rate eat fried worm star</td>\n",
              "    </tr>\n",
              "    <tr>\n",
              "      <th>6197</th>\n",
              "      <td>Are there movies at Malco Theatres</td>\n",
              "      <td>SearchScreeningEvent</td>\n",
              "      <td>are there movies at malco theatres</td>\n",
              "      <td>movie malco theatre</td>\n",
              "    </tr>\n",
              "    <tr>\n",
              "      <th>5277</th>\n",
              "      <td>What is the forecast for Sanibel</td>\n",
              "      <td>GetWeather</td>\n",
              "      <td>what is the forecast for sanibel</td>\n",
              "      <td>forecast sanibel</td>\n",
              "    </tr>\n",
              "    <tr>\n",
              "      <th>8966</th>\n",
              "      <td>Play music on the playlist Electronic Gaming</td>\n",
              "      <td>PlayMusic</td>\n",
              "      <td>play music on the playlist electronic gaming</td>\n",
              "      <td>play music playlist electronic gaming</td>\n",
              "    </tr>\n",
              "    <tr>\n",
              "      <th>11485</th>\n",
              "      <td>book a table for ten in Pollock PA</td>\n",
              "      <td>BookRestaurant</td>\n",
              "      <td>book table for ten in pollock pa</td>\n",
              "      <td>book table pollock pa</td>\n",
              "    </tr>\n",
              "  </tbody>\n",
              "</table>\n",
              "</div>"
            ],
            "text/plain": [
              "                                               text  ...              tokens_lemma_without_stop\n",
              "13364         rate How to Eat Fried Worms two stars  ...               rate eat fried worm star\n",
              "6197             Are there movies at Malco Theatres  ...                    movie malco theatre\n",
              "5277               What is the forecast for Sanibel  ...                       forecast sanibel\n",
              "8966   Play music on the playlist Electronic Gaming  ...  play music playlist electronic gaming\n",
              "11485            book a table for ten in Pollock PA  ...                  book table pollock pa\n",
              "\n",
              "[5 rows x 4 columns]"
            ]
          },
          "metadata": {
            "tags": []
          },
          "execution_count": 9
        }
      ]
    },
    {
      "cell_type": "code",
      "metadata": {
        "colab": {
          "base_uri": "https://localhost:8080/"
        },
        "id": "_dEypyGx0KKL",
        "outputId": "9b2c2a22-e024-46c0-8bd8-41c24f3875d8"
      },
      "source": [
        "id_intention = 6\n",
        "print(\"Surowy tekst\")\n",
        "print(data_set_train[\"text\"].iloc[id_intention])\n",
        "print(\"Po oczyszczeniu\")\n",
        "print(data_set_train[\"clean_text\"].iloc[id_intention])\n",
        "print(\"Po lematyzacji i usunięciu stop words\")\n",
        "print(data_set_train[\"tokens_lemma_without_stop\"].iloc[id_intention])"
      ],
      "execution_count": 10,
      "outputs": [
        {
          "output_type": "stream",
          "text": [
            "Surowy tekst\n",
            "Book a table for 10 people at a restaurant which offers internet.\n",
            "Po oczyszczeniu\n",
            "book table for people at restaurant which offers internet\n",
            "Po lematyzacji i usunięciu stop words\n",
            "book table people restaurant offer internet\n"
          ],
          "name": "stdout"
        }
      ]
    },
    {
      "cell_type": "markdown",
      "metadata": {
        "id": "7epaW5cXoXef"
      },
      "source": [
        "#### `LabelEncoder` oraz `to_categorical`"
      ]
    },
    {
      "cell_type": "code",
      "metadata": {
        "colab": {
          "base_uri": "https://localhost:8080/",
          "height": 204
        },
        "id": "022rNoaL-xbl",
        "outputId": "db5341f1-3a75-4dc2-cb64-2b18f27a6467"
      },
      "source": [
        "from sklearn.preprocessing import LabelEncoder\n",
        "from keras.utils import to_categorical \n",
        "\n",
        "\n",
        "labelencoder = LabelEncoder()\n",
        "data_set_train[\"labelencoder\"] = labelencoder.fit_transform(data_set_train[\"label\"])\n",
        "\n",
        "dummy_y = to_categorical(data_set_train[\"labelencoder\"], dtype =\"float32\")\n",
        "\n",
        "data_set_train[[\"clean_text\",\"label\",\"labelencoder\"]].head(5)"
      ],
      "execution_count": 11,
      "outputs": [
        {
          "output_type": "execute_result",
          "data": {
            "text/html": [
              "<div>\n",
              "<style scoped>\n",
              "    .dataframe tbody tr th:only-of-type {\n",
              "        vertical-align: middle;\n",
              "    }\n",
              "\n",
              "    .dataframe tbody tr th {\n",
              "        vertical-align: top;\n",
              "    }\n",
              "\n",
              "    .dataframe thead th {\n",
              "        text-align: right;\n",
              "    }\n",
              "</style>\n",
              "<table border=\"1\" class=\"dataframe\">\n",
              "  <thead>\n",
              "    <tr style=\"text-align: right;\">\n",
              "      <th></th>\n",
              "      <th>clean_text</th>\n",
              "      <th>label</th>\n",
              "      <th>labelencoder</th>\n",
              "    </tr>\n",
              "  </thead>\n",
              "  <tbody>\n",
              "    <tr>\n",
              "      <th>0</th>\n",
              "      <td>find cinema nearest for films</td>\n",
              "      <td>SearchScreeningEvent</td>\n",
              "      <td>6</td>\n",
              "    </tr>\n",
              "    <tr>\n",
              "      <th>1</th>\n",
              "      <td>give the current series two stars</td>\n",
              "      <td>RateBook</td>\n",
              "      <td>4</td>\n",
              "    </tr>\n",
              "    <tr>\n",
              "      <th>2</th>\n",
              "      <td>find the good girl at movie house</td>\n",
              "      <td>SearchScreeningEvent</td>\n",
              "      <td>6</td>\n",
              "    </tr>\n",
              "    <tr>\n",
              "      <th>3</th>\n",
              "      <td>please make reservations for three at kosher t...</td>\n",
              "      <td>BookRestaurant</td>\n",
              "      <td>1</td>\n",
              "    </tr>\n",
              "    <tr>\n",
              "      <th>4</th>\n",
              "      <td>what is the forecast for here one second from now</td>\n",
              "      <td>GetWeather</td>\n",
              "      <td>2</td>\n",
              "    </tr>\n",
              "  </tbody>\n",
              "</table>\n",
              "</div>"
            ],
            "text/plain": [
              "                                          clean_text  ... labelencoder\n",
              "0                      find cinema nearest for films  ...            6\n",
              "1                  give the current series two stars  ...            4\n",
              "2                  find the good girl at movie house  ...            6\n",
              "3  please make reservations for three at kosher t...  ...            1\n",
              "4  what is the forecast for here one second from now  ...            2\n",
              "\n",
              "[5 rows x 3 columns]"
            ]
          },
          "metadata": {
            "tags": []
          },
          "execution_count": 11
        }
      ]
    },
    {
      "cell_type": "code",
      "metadata": {
        "colab": {
          "base_uri": "https://localhost:8080/"
        },
        "id": "-RfsD1LSpSag",
        "outputId": "d7c73a1b-ec7b-46a8-9c4a-18a0c387c98f"
      },
      "source": [
        "dummy_y.shape"
      ],
      "execution_count": 12,
      "outputs": [
        {
          "output_type": "execute_result",
          "data": {
            "text/plain": [
              "(13784, 7)"
            ]
          },
          "metadata": {
            "tags": []
          },
          "execution_count": 12
        }
      ]
    },
    {
      "cell_type": "code",
      "metadata": {
        "colab": {
          "base_uri": "https://localhost:8080/"
        },
        "id": "S4dq1macoeQC",
        "outputId": "9bffa3f1-361f-4254-9cbf-a7e350e3cb40"
      },
      "source": [
        "id_intention = 6\n",
        "print(\"Sprawdzenie poprawności LabelEncoder i to_categorical \\n\")\n",
        "print(\"Label - \", data_set_train[\"label\"].iloc[id_intention])\n",
        "print(\"LabelEncoder - \", data_set_train[\"labelencoder\"].iloc[id_intention])\n",
        "print()\n",
        "print(\"to_categorical - \", dummy_y[id_intention])\n",
        "print()\n",
        "print(\"return to LabelEncoder - \",np.argmax(dummy_y[id_intention], axis=-1))\n",
        "print(\"return to Label - \",labelencoder.inverse_transform([np.argmax(dummy_y[id_intention], axis=-1)]))"
      ],
      "execution_count": 13,
      "outputs": [
        {
          "output_type": "stream",
          "text": [
            "Sprawdzenie poprawności LabelEncoder i to_categorical \n",
            "\n",
            "Label -  BookRestaurant\n",
            "LabelEncoder -  1\n",
            "\n",
            "to_categorical -  [0. 1. 0. 0. 0. 0. 0.]\n",
            "\n",
            "return to LabelEncoder -  1\n",
            "return to Label -  ['BookRestaurant']\n"
          ],
          "name": "stdout"
        }
      ]
    },
    {
      "cell_type": "markdown",
      "metadata": {
        "id": "-lZTDFgGoSmT"
      },
      "source": [
        "#### Zdefiniowanie X i y"
      ]
    },
    {
      "cell_type": "code",
      "metadata": {
        "id": "JWd9mEjfBAS2"
      },
      "source": [
        "X = data_set_train[\"tokens_lemma_without_stop\"]\n",
        "y = dummy_y"
      ],
      "execution_count": 14,
      "outputs": []
    },
    {
      "cell_type": "code",
      "metadata": {
        "colab": {
          "base_uri": "https://localhost:8080/"
        },
        "id": "8jUlcX2npzFs",
        "outputId": "33e886af-f9b3-42d8-e24d-3b4426773ded"
      },
      "source": [
        "X.shape, y.shape"
      ],
      "execution_count": 15,
      "outputs": [
        {
          "output_type": "execute_result",
          "data": {
            "text/plain": [
              "((13784,), (13784, 7))"
            ]
          },
          "metadata": {
            "tags": []
          },
          "execution_count": 15
        }
      ]
    },
    {
      "cell_type": "markdown",
      "metadata": {
        "id": "9mS_l8wZoO2R"
      },
      "source": [
        "#### Podział zbioru "
      ]
    },
    {
      "cell_type": "code",
      "metadata": {
        "id": "A18D02x5sjFd"
      },
      "source": [
        "from sklearn.model_selection import train_test_split\n",
        "\n",
        "X_train, X_test, y_train, y_test = train_test_split(X, y, test_size=0.2, random_state=42)"
      ],
      "execution_count": 16,
      "outputs": []
    },
    {
      "cell_type": "code",
      "metadata": {
        "colab": {
          "base_uri": "https://localhost:8080/"
        },
        "id": "i_xH9XIGuYCG",
        "outputId": "9bf4fcc4-9193-4891-aa71-80f697aae3ff"
      },
      "source": [
        "X_train.shape, X_test.shape, y_train.shape, y_test.shape"
      ],
      "execution_count": 17,
      "outputs": [
        {
          "output_type": "execute_result",
          "data": {
            "text/plain": [
              "((11027,), (2757,), (11027, 7), (2757, 7))"
            ]
          },
          "metadata": {
            "tags": []
          },
          "execution_count": 17
        }
      ]
    },
    {
      "cell_type": "code",
      "metadata": {
        "id": "-DR0gkd1_Uv0"
      },
      "source": [
        ""
      ],
      "execution_count": 17,
      "outputs": []
    },
    {
      "cell_type": "markdown",
      "metadata": {
        "id": "chWlDg9Mtmya"
      },
      "source": [
        "#### `Tokenizer` i `pad_sequences`"
      ]
    },
    {
      "cell_type": "code",
      "metadata": {
        "id": "LCm-rbaus6QG"
      },
      "source": [
        "from keras.preprocessing.sequence import pad_sequences\n",
        "from keras.preprocessing.text import Tokenizer"
      ],
      "execution_count": 18,
      "outputs": []
    },
    {
      "cell_type": "code",
      "metadata": {
        "id": "U-ihmlc-s6QG"
      },
      "source": [
        "tokenizer = Tokenizer(num_words=5000)\n",
        "tokenizer.fit_on_texts(X_train)\n",
        "\n",
        "X_train = tokenizer.texts_to_sequences(X_train)\n",
        "X_test = tokenizer.texts_to_sequences(X_test)\n",
        "\n",
        "maxlen = 13\n",
        "vocab_size = len(tokenizer.word_index) + 1\n",
        "\n",
        "X_train = pad_sequences(X_train, padding=\"post\", truncating=\"post\", maxlen=maxlen)\n",
        "X_test = pad_sequences(X_test, padding=\"post\", truncating=\"post\", maxlen=maxlen)"
      ],
      "execution_count": 19,
      "outputs": []
    },
    {
      "cell_type": "code",
      "metadata": {
        "id": "PaRWehbu_VCe"
      },
      "source": [
        "from keras.models import Sequential\n",
        "from keras.layers import Flatten, SimpleRNN, Dense\n",
        "from keras.layers.embeddings import Embedding\n",
        "from keras.models import Model\n",
        "from tensorflow.keras.callbacks import EarlyStopping"
      ],
      "execution_count": 20,
      "outputs": []
    },
    {
      "cell_type": "markdown",
      "metadata": {
        "id": "s1-W369vaxPo"
      },
      "source": [
        "#### Pobranie Glove"
      ]
    },
    {
      "cell_type": "code",
      "metadata": {
        "id": "GXlya8aOa1d_",
        "colab": {
          "base_uri": "https://localhost:8080/"
        },
        "outputId": "4ca94eb1-37d8-42f6-f30a-b4d877ad80fc"
      },
      "source": [
        "!gdown \"http://nlp.stanford.edu/data/glove.6B.zip\""
      ],
      "execution_count": 21,
      "outputs": [
        {
          "output_type": "stream",
          "text": [
            "Downloading...\n",
            "From: http://nlp.stanford.edu/data/glove.6B.zip\n",
            "To: /content/glove.6B.zip\n",
            "100% 862M/862M [03:11<00:00, 4.50MB/s]\n"
          ],
          "name": "stdout"
        }
      ]
    },
    {
      "cell_type": "code",
      "metadata": {
        "colab": {
          "base_uri": "https://localhost:8080/"
        },
        "id": "G_AltESOjY3d",
        "outputId": "ae893533-b874-4704-db91-08303b8bb685"
      },
      "source": [
        "!unzip \"glove.6B.zip\""
      ],
      "execution_count": 22,
      "outputs": [
        {
          "output_type": "stream",
          "text": [
            "Archive:  glove.6B.zip\n",
            "  inflating: glove.6B.50d.txt        \n",
            "  inflating: glove.6B.100d.txt       \n",
            "  inflating: glove.6B.200d.txt       \n",
            "  inflating: glove.6B.300d.txt       \n"
          ],
          "name": "stdout"
        }
      ]
    },
    {
      "cell_type": "code",
      "metadata": {
        "colab": {
          "base_uri": "https://localhost:8080/"
        },
        "id": "dZKjZoqJXw4F",
        "outputId": "6140e836-ab66-47e4-e745-53dd35d09a59"
      },
      "source": [
        "!head -10 \"glove.6B.100d.txt\""
      ],
      "execution_count": 23,
      "outputs": [
        {
          "output_type": "stream",
          "text": [
            "the -0.038194 -0.24487 0.72812 -0.39961 0.083172 0.043953 -0.39141 0.3344 -0.57545 0.087459 0.28787 -0.06731 0.30906 -0.26384 -0.13231 -0.20757 0.33395 -0.33848 -0.31743 -0.48336 0.1464 -0.37304 0.34577 0.052041 0.44946 -0.46971 0.02628 -0.54155 -0.15518 -0.14107 -0.039722 0.28277 0.14393 0.23464 -0.31021 0.086173 0.20397 0.52624 0.17164 -0.082378 -0.71787 -0.41531 0.20335 -0.12763 0.41367 0.55187 0.57908 -0.33477 -0.36559 -0.54857 -0.062892 0.26584 0.30205 0.99775 -0.80481 -3.0243 0.01254 -0.36942 2.2167 0.72201 -0.24978 0.92136 0.034514 0.46745 1.1079 -0.19358 -0.074575 0.23353 -0.052062 -0.22044 0.057162 -0.15806 -0.30798 -0.41625 0.37972 0.15006 -0.53212 -0.2055 -1.2526 0.071624 0.70565 0.49744 -0.42063 0.26148 -1.538 -0.30223 -0.073438 -0.28312 0.37104 -0.25217 0.016215 -0.017099 -0.38984 0.87424 -0.72569 -0.51058 -0.52028 -0.1459 0.8278 0.27062\n",
            ", -0.10767 0.11053 0.59812 -0.54361 0.67396 0.10663 0.038867 0.35481 0.06351 -0.094189 0.15786 -0.81665 0.14172 0.21939 0.58505 -0.52158 0.22783 -0.16642 -0.68228 0.3587 0.42568 0.19021 0.91963 0.57555 0.46185 0.42363 -0.095399 -0.42749 -0.16567 -0.056842 -0.29595 0.26037 -0.26606 -0.070404 -0.27662 0.15821 0.69825 0.43081 0.27952 -0.45437 -0.33801 -0.58184 0.22364 -0.5778 -0.26862 -0.20425 0.56394 -0.58524 -0.14365 -0.64218 0.0054697 -0.35248 0.16162 1.1796 -0.47674 -2.7553 -0.1321 -0.047729 1.0655 1.1034 -0.2208 0.18669 0.13177 0.15117 0.7131 -0.35215 0.91348 0.61783 0.70992 0.23955 -0.14571 -0.37859 -0.045959 -0.47368 0.2385 0.20536 -0.18996 0.32507 -1.1112 -0.36341 0.98679 -0.084776 -0.54008 0.11726 -1.0194 -0.24424 0.12771 0.013884 0.080374 -0.35414 0.34951 -0.7226 0.37549 0.4441 -0.99059 0.61214 -0.35111 -0.83155 0.45293 0.082577\n",
            ". -0.33979 0.20941 0.46348 -0.64792 -0.38377 0.038034 0.17127 0.15978 0.46619 -0.019169 0.41479 -0.34349 0.26872 0.04464 0.42131 -0.41032 0.15459 0.022239 -0.64653 0.25256 0.043136 -0.19445 0.46516 0.45651 0.68588 0.091295 0.21875 -0.70351 0.16785 -0.35079 -0.12634 0.66384 -0.2582 0.036542 -0.13605 0.40253 0.14289 0.38132 -0.12283 -0.45886 -0.25282 -0.30432 -0.11215 -0.26182 -0.22482 -0.44554 0.2991 -0.85612 -0.14503 -0.49086 0.0082973 -0.17491 0.27524 1.4401 -0.21239 -2.8435 -0.27958 -0.45722 1.6386 0.78808 -0.55262 0.65 0.086426 0.39012 1.0632 -0.35379 0.48328 0.346 0.84174 0.098707 -0.24213 -0.27053 0.045287 -0.40147 0.11395 0.0062226 0.036673 0.018518 -1.0213 -0.20806 0.64072 -0.068763 -0.58635 0.33476 -1.1432 -0.1148 -0.25091 -0.45907 -0.096819 -0.17946 -0.063351 -0.67412 -0.068895 0.53604 -0.87773 0.31802 -0.39242 -0.23394 0.47298 -0.028803\n",
            "of -0.1529 -0.24279 0.89837 0.16996 0.53516 0.48784 -0.58826 -0.17982 -1.3581 0.42541 0.15377 0.24215 0.13474 0.41193 0.67043 -0.56418 0.42985 -0.012183 -0.11677 0.31781 0.054177 -0.054273 0.35516 -0.30241 0.31434 -0.33846 0.71715 -0.26855 -0.15837 -0.47467 0.051581 -0.33252 0.15003 -0.1299 -0.54617 -0.37843 0.64261 0.82187 -0.080006 0.078479 -0.96976 -0.57741 0.56491 -0.39873 -0.057099 0.19743 0.065706 -0.48092 -0.20125 -0.40834 0.39456 -0.02642 -0.11838 1.012 -0.53171 -2.7474 -0.042981 -0.74849 1.7574 0.59085 0.04885 0.78267 0.38497 0.42097 0.67882 0.10337 0.6328 -0.026595 0.58647 -0.44332 0.33057 -0.12022 -0.55645 0.073611 0.20915 0.43395 -0.012761 0.089874 -1.7991 0.084808 0.77112 0.63105 -0.90685 0.60326 -1.7515 0.18596 -0.50687 -0.70203 0.66578 -0.81304 0.18712 -0.018488 -0.26757 0.727 -0.59363 -0.34839 -0.56094 -0.591 1.0039 0.20664\n",
            "to -0.1897 0.050024 0.19084 -0.049184 -0.089737 0.21006 -0.54952 0.098377 -0.20135 0.34241 -0.092677 0.161 -0.13268 -0.2816 0.18737 -0.42959 0.96039 0.13972 -1.0781 0.40518 0.50539 -0.55064 0.4844 0.38044 -0.0029055 -0.34942 -0.099696 -0.78368 1.0363 -0.2314 -0.47121 0.57126 -0.21454 0.35958 -0.48319 1.0875 0.28524 0.12447 -0.039248 -0.076732 -0.76343 -0.32409 -0.5749 -1.0893 -0.41811 0.4512 0.12112 -0.51367 -0.13349 -1.1378 -0.28768 0.16774 0.55804 1.5387 0.018859 -2.9721 -0.24216 -0.92495 2.1992 0.28234 -0.3478 0.51621 -0.43387 0.36852 0.74573 0.072102 0.27931 0.92569 -0.050336 -0.85856 -0.1358 -0.92551 -0.33991 -1.0394 -0.067203 -0.21379 -0.4769 0.21377 -0.84008 0.052536 0.59298 0.29604 -0.67644 0.13916 -1.5504 -0.20765 0.7222 0.52056 -0.076221 -0.15194 -0.13134 0.058617 -0.31869 -0.61419 -0.62393 -0.41548 -0.038175 -0.39804 0.47647 -0.15983\n",
            "and -0.071953 0.23127 0.023731 -0.50638 0.33923 0.1959 -0.32943 0.18364 -0.18057 0.28963 0.20448 -0.5496 0.27399 0.58327 0.20468 -0.49228 0.19974 -0.070237 -0.88049 0.29485 0.14071 -0.1009 0.99449 0.36973 0.44554 0.28998 -0.1376 -0.56365 -0.029365 -0.4122 -0.25269 0.63181 -0.44767 0.24363 -0.10813 0.25164 0.46967 0.3755 -0.23613 -0.14129 -0.44537 -0.65737 -0.042421 -0.28636 -0.28811 0.063766 0.20281 -0.53542 0.41307 -0.59722 -0.38614 0.19389 -0.17809 1.6618 -0.011819 -2.3737 0.058427 -0.2698 1.2823 0.81925 -0.22322 0.72932 -0.053211 0.43507 0.85011 -0.42935 0.92664 0.39051 1.0585 -0.24561 -0.18265 -0.5328 0.059518 -0.66019 0.18991 0.28836 -0.2434 0.52784 -0.65762 -0.14081 1.0491 0.5134 -0.23816 0.69895 -1.4813 -0.2487 -0.17936 -0.059137 -0.08056 -0.48782 0.014487 -0.6259 -0.32367 0.41862 -1.0807 0.46742 -0.49931 -0.71895 0.86894 0.19539\n",
            "in 0.085703 -0.22201 0.16569 0.13373 0.38239 0.35401 0.01287 0.22461 -0.43817 0.50164 -0.35874 -0.34983 0.055156 0.69648 -0.17958 0.067926 0.39101 0.16039 -0.26635 -0.21138 0.53698 0.49379 0.9366 0.66902 0.21793 -0.46642 0.22383 -0.36204 -0.17656 0.1748 -0.20367 0.13931 0.019832 -0.10413 -0.20244 0.55003 -0.1546 0.98655 -0.26863 -0.2909 -0.32866 -0.34188 -0.16943 -0.42001 -0.046727 -0.16327 0.70824 -0.74911 -0.091559 -0.96178 -0.19747 0.10282 0.55221 1.3816 -0.65636 -3.2502 -0.31556 -1.2055 1.7709 0.4026 -0.79827 1.1597 -0.33042 0.31382 0.77386 0.22595 0.52471 -0.034053 0.32048 0.079948 0.17752 -0.49426 -0.70045 -0.44569 0.17244 0.20278 0.023292 -0.20677 -1.0158 0.18325 0.56752 0.31821 -0.65011 0.68277 -0.86585 -0.059392 -0.29264 -0.55668 -0.34705 -0.32895 0.40215 -0.12746 -0.20228 0.87368 -0.545 0.79205 -0.20695 -0.074273 0.75808 -0.34243\n",
            "a -0.27086 0.044006 -0.02026 -0.17395 0.6444 0.71213 0.3551 0.47138 -0.29637 0.54427 -0.72294 -0.0047612 0.040611 0.043236 0.29729 0.10725 0.40156 -0.53662 0.033382 0.067396 0.64556 -0.085523 0.14103 0.094539 0.74947 -0.194 -0.68739 -0.41741 -0.22807 0.12 -0.48999 0.80945 0.045138 -0.11898 0.20161 0.39276 -0.20121 0.31354 0.75304 0.25907 -0.11566 -0.029319 0.93499 -0.36067 0.5242 0.23706 0.52715 0.22869 -0.51958 -0.79349 -0.20368 -0.50187 0.18748 0.94282 -0.44834 -3.6792 0.044183 -0.26751 2.1997 0.241 -0.033425 0.69553 -0.64472 -0.0072277 0.89575 0.20015 0.46493 0.61933 -0.1066 0.08691 -0.4623 0.18262 -0.15849 0.020791 0.19373 0.063426 -0.31673 -0.48177 -1.3848 0.13669 0.96859 0.049965 -0.2738 -0.035686 -1.0577 -0.24467 0.90366 -0.12442 0.080776 -0.83401 0.57201 0.088945 -0.42532 -0.018253 -0.079995 -0.28581 -0.01089 -0.4923 0.63687 0.23642\n",
            "\" -0.30457 -0.23645 0.17576 -0.72854 -0.28343 -0.2564 0.26587 0.025309 -0.074775 -0.3766 -0.057774 0.12159 0.34384 0.41928 -0.23236 -0.31547 0.60939 0.25117 -0.68667 0.70873 1.2162 -0.1824 -0.48442 -0.33445 0.30343 1.086 0.49992 -0.20198 0.27959 0.68352 -0.33566 -0.12405 0.059656 0.33617 0.37501 0.56552 0.44867 0.11284 -0.16196 -0.94346 -0.67961 0.18581 0.060653 0.43776 0.13834 -0.48207 -0.56141 -0.25422 -0.52445 0.097003 -0.48925 0.19077 0.21481 1.4969 -0.86665 -3.2846 0.56854 0.41971 1.2294 0.78522 -0.29369 0.63803 -1.5926 -0.20437 1.5306 0.13548 0.50722 0.18742 0.48552 -0.28995 0.19573 0.0046515 0.092879 -0.42444 0.64987 0.52839 0.077908 0.8263 -1.2208 -0.34955 0.49855 -0.64155 -0.72308 0.26566 -1.3643 -0.46364 -0.52048 -1.0525 0.22895 -0.3456 -0.658 -0.16735 0.35158 0.74337 0.26074 0.061104 -0.39079 -0.84557 -0.035432 0.17036\n",
            "'s 0.58854 -0.2025 0.73479 -0.68338 -0.19675 -0.1802 -0.39177 0.34172 -0.60561 0.63816 -0.26695 0.36486 -0.40379 -0.1134 -0.58718 0.2838 0.8025 -0.35303 0.30083 0.078935 0.44416 -0.45906 0.79294 0.50365 0.32805 0.28027 -0.4933 -0.38482 -0.039284 -0.2483 -0.1988 1.1469 0.13228 0.91691 -0.36739 0.89425 0.5426 0.61738 -0.62205 -0.31132 -0.50933 0.23335 1.0826 -0.044637 -0.12767 0.27628 -0.032617 -0.27397 0.77764 -0.50861 0.038307 -0.33679 0.42344 1.2271 -0.53826 -3.2411 0.42626 0.025189 1.3948 0.65085 0.03325 0.37141 0.4044 0.35558 0.98265 -0.61724 0.53901 0.76219 0.30689 0.33065 0.30956 -0.15161 -0.11313 -0.81281 0.6145 -0.44341 -0.19163 -0.089551 -1.5927 0.37405 0.85857 0.54613 -0.31928 0.52598 -1.4802 -0.97931 -0.2939 -0.14724 0.25803 -0.1817 1.0149 0.77649 0.12598 0.54779 -1.0316 0.064599 -0.37523 -0.94475 0.61802 0.39591\n"
          ],
          "name": "stdout"
        }
      ]
    },
    {
      "cell_type": "markdown",
      "metadata": {
        "id": "QNM1TtFvbLzp"
      },
      "source": [
        "#### Utworzenie Embedding matrix"
      ]
    },
    {
      "cell_type": "code",
      "metadata": {
        "id": "2VJ63sXjhY26"
      },
      "source": [
        "import numpy as np\n",
        "\n",
        "def create_embedding_matrix(filepath, word_index, embedding_dim):\n",
        "    vocab_size = len(word_index) + 1  # Adding again 1 because of reserved 0 index\n",
        "    embedding_matrix = np.zeros((vocab_size, embedding_dim))\n",
        "\n",
        "    with open(filepath) as f:\n",
        "        for line in f:\n",
        "            word, *vector = line.split()\n",
        "            if word in word_index:\n",
        "                idx = word_index[word] \n",
        "                embedding_matrix[idx] = np.array(\n",
        "                    vector, dtype=np.float32)[:embedding_dim]\n",
        "\n",
        "    return embedding_matrix"
      ],
      "execution_count": 24,
      "outputs": []
    },
    {
      "cell_type": "code",
      "metadata": {
        "id": "Fqz69PLnheBy"
      },
      "source": [
        "embedding_dim = 100\n",
        "embedding_matrix = create_embedding_matrix('glove.6B.100d.txt', tokenizer.word_index, embedding_dim) # glove.twitter.27B.100d"
      ],
      "execution_count": 25,
      "outputs": []
    },
    {
      "cell_type": "markdown",
      "metadata": {
        "id": "1D4AgqKVdvwT"
      },
      "source": [
        "####Model"
      ]
    },
    {
      "cell_type": "code",
      "metadata": {
        "colab": {
          "base_uri": "https://localhost:8080/"
        },
        "id": "BGt7E_vj_f5D",
        "outputId": "679705d1-c4a0-4236-c93e-ea7a521c7ba9"
      },
      "source": [
        "model = Sequential()\n",
        "model.add(Embedding(vocab_size, 100,  # 100 to ilość vectorów. wiec jak importujemy zewnętrzny embedning to trzeba tą wartośc dać na vektory z zew.embedingu\n",
        "                           weights=[embedding_matrix], \n",
        "                           input_length=maxlen))\n",
        "model.add(Flatten())\n",
        "model.add(Dense(7, activation=\"softmax\")) # sigmoid / softmax\n",
        "model.compile(loss=\"categorical_crossentropy\", optimizer=\"adam\", metrics=[\"accuracy\"])\n",
        "print(model.summary())"
      ],
      "execution_count": 26,
      "outputs": [
        {
          "output_type": "stream",
          "text": [
            "Model: \"sequential\"\n",
            "_________________________________________________________________\n",
            "Layer (type)                 Output Shape              Param #   \n",
            "=================================================================\n",
            "embedding (Embedding)        (None, 13, 100)           894300    \n",
            "_________________________________________________________________\n",
            "flatten (Flatten)            (None, 1300)              0         \n",
            "_________________________________________________________________\n",
            "dense (Dense)                (None, 7)                 9107      \n",
            "=================================================================\n",
            "Total params: 903,407\n",
            "Trainable params: 903,407\n",
            "Non-trainable params: 0\n",
            "_________________________________________________________________\n",
            "None\n"
          ],
          "name": "stdout"
        }
      ]
    },
    {
      "cell_type": "code",
      "metadata": {
        "colab": {
          "base_uri": "https://localhost:8080/"
        },
        "id": "wdnpnIhd_qLy",
        "outputId": "2a2d0d85-2b78-4a56-9942-f6bae50922c5"
      },
      "source": [
        "from tensorflow.keras.callbacks import EarlyStopping\n",
        "\n",
        "EarlyStop = EarlyStopping(monitor='val_loss', \n",
        "                          patience=5,\n",
        "                          verbose=1)\n",
        "\n",
        "history = model.fit(X_train, \n",
        "                    y_train, \n",
        "                    epochs=20, \n",
        "                    batch_size=64, \n",
        "                    validation_split=0.2, \n",
        "                    callbacks = [EarlyStop] )\n",
        "scores = model.evaluate(X_test, y_test)\n",
        "print(f\"Accuracy {scores[1] * 100}\")"
      ],
      "execution_count": 27,
      "outputs": [
        {
          "output_type": "stream",
          "text": [
            "Epoch 1/20\n",
            "138/138 [==============================] - 3s 16ms/step - loss: 1.2656 - accuracy: 0.6152 - val_loss: 0.3780 - val_accuracy: 0.9125\n",
            "Epoch 2/20\n",
            "138/138 [==============================] - 2s 12ms/step - loss: 0.3040 - accuracy: 0.9344 - val_loss: 0.2325 - val_accuracy: 0.9383\n",
            "Epoch 3/20\n",
            "138/138 [==============================] - 2s 12ms/step - loss: 0.1750 - accuracy: 0.9574 - val_loss: 0.1816 - val_accuracy: 0.9501\n",
            "Epoch 4/20\n",
            "138/138 [==============================] - 2s 12ms/step - loss: 0.1204 - accuracy: 0.9698 - val_loss: 0.1544 - val_accuracy: 0.9551\n",
            "Epoch 5/20\n",
            "138/138 [==============================] - 2s 12ms/step - loss: 0.0889 - accuracy: 0.9785 - val_loss: 0.1403 - val_accuracy: 0.9578\n",
            "Epoch 6/20\n",
            "138/138 [==============================] - 2s 12ms/step - loss: 0.0715 - accuracy: 0.9818 - val_loss: 0.1314 - val_accuracy: 0.9569\n",
            "Epoch 7/20\n",
            "138/138 [==============================] - 2s 12ms/step - loss: 0.0583 - accuracy: 0.9853 - val_loss: 0.1257 - val_accuracy: 0.9619\n",
            "Epoch 8/20\n",
            "138/138 [==============================] - 2s 12ms/step - loss: 0.0433 - accuracy: 0.9923 - val_loss: 0.1211 - val_accuracy: 0.9642\n",
            "Epoch 9/20\n",
            "138/138 [==============================] - 2s 12ms/step - loss: 0.0359 - accuracy: 0.9942 - val_loss: 0.1189 - val_accuracy: 0.9642\n",
            "Epoch 10/20\n",
            "138/138 [==============================] - 2s 12ms/step - loss: 0.0323 - accuracy: 0.9942 - val_loss: 0.1162 - val_accuracy: 0.9624\n",
            "Epoch 11/20\n",
            "138/138 [==============================] - 2s 12ms/step - loss: 0.0320 - accuracy: 0.9931 - val_loss: 0.1159 - val_accuracy: 0.9633\n",
            "Epoch 12/20\n",
            "138/138 [==============================] - 2s 12ms/step - loss: 0.0241 - accuracy: 0.9957 - val_loss: 0.1155 - val_accuracy: 0.9628\n",
            "Epoch 13/20\n",
            "138/138 [==============================] - 2s 13ms/step - loss: 0.0233 - accuracy: 0.9957 - val_loss: 0.1151 - val_accuracy: 0.9637\n",
            "Epoch 14/20\n",
            "138/138 [==============================] - 2s 13ms/step - loss: 0.0191 - accuracy: 0.9954 - val_loss: 0.1164 - val_accuracy: 0.9628\n",
            "Epoch 15/20\n",
            "138/138 [==============================] - 2s 12ms/step - loss: 0.0167 - accuracy: 0.9967 - val_loss: 0.1175 - val_accuracy: 0.9615\n",
            "Epoch 16/20\n",
            "138/138 [==============================] - 2s 12ms/step - loss: 0.0149 - accuracy: 0.9977 - val_loss: 0.1174 - val_accuracy: 0.9633\n",
            "Epoch 17/20\n",
            "138/138 [==============================] - 2s 12ms/step - loss: 0.0137 - accuracy: 0.9975 - val_loss: 0.1173 - val_accuracy: 0.9615\n",
            "Epoch 18/20\n",
            "138/138 [==============================] - 2s 12ms/step - loss: 0.0134 - accuracy: 0.9976 - val_loss: 0.1217 - val_accuracy: 0.9633\n",
            "Epoch 00018: early stopping\n",
            "87/87 [==============================] - 0s 1ms/step - loss: 0.1089 - accuracy: 0.9688\n",
            "Accuracy 96.88066840171814\n"
          ],
          "name": "stdout"
        }
      ]
    },
    {
      "cell_type": "code",
      "metadata": {
        "id": "Ui9nW3K0_0bf",
        "colab": {
          "base_uri": "https://localhost:8080/"
        },
        "outputId": "f484a263-4cbb-46f0-cece-623226d60d15"
      },
      "source": [
        "print(f\"Accuracy {scores[1] * 100}\")"
      ],
      "execution_count": 28,
      "outputs": [
        {
          "output_type": "stream",
          "text": [
            "Accuracy 96.88066840171814\n"
          ],
          "name": "stdout"
        }
      ]
    },
    {
      "cell_type": "code",
      "metadata": {
        "id": "dJtnYTgA_06S"
      },
      "source": [
        ""
      ],
      "execution_count": 28,
      "outputs": []
    },
    {
      "cell_type": "markdown",
      "metadata": {
        "id": "B0IdSKiJtzgd"
      },
      "source": [
        "#### Predykcja na zbiorze validacyjnym"
      ]
    },
    {
      "cell_type": "code",
      "metadata": {
        "colab": {
          "base_uri": "https://localhost:8080/"
        },
        "id": "27dr_LCO_1IW",
        "outputId": "48915142-a301-438b-f473-e2aa39e6d210"
      },
      "source": [
        "# oczysczenie danych\n",
        "data_set_valid[\"clean_text\"] = data_set_valid[\"text\"].apply(lambda x: process_text(x))\n",
        "data_set_valid[\"tokens_lemma_without_stop\"] = data_set_valid[\"clean_text\"].apply(lambda x: \" \".join([str(i.lemma_ ) for i in nlp(x) if i.lemma_  != \"-PRON-\" and i.lemma_ not in stopwords ]))\n",
        "\n",
        "# labelencoder \n",
        "data_set_valid[\"labelencoder\"] = labelencoder.fit_transform(data_set_valid[\"label\"])\n",
        "\n",
        "# tokenizacja weg przetrenowanego już tokenizera\n",
        "X_validate = tokenizer.texts_to_sequences(data_set_valid[\"clean_text\"])\n",
        "\n",
        "# pad sequel\n",
        "X_validate = pad_sequences(X_validate, padding=\"post\", truncating=\"post\", maxlen=maxlen)\n",
        "X_validate"
      ],
      "execution_count": 29,
      "outputs": [
        {
          "output_type": "execute_result",
          "data": {
            "text/plain": [
              "array([[ 337,   31,    0, ...,    0,    0,    0],\n",
              "       [ 152,  210,    1, ...,    0,    0,    0],\n",
              "       [ 183,   16,   56, ...,    0,    0,    0],\n",
              "       ...,\n",
              "       [  43,    0,    0, ...,    0,    0,    0],\n",
              "       [   8,   16, 2406, ...,    0,    0,    0],\n",
              "       [  23,   19,   93, ...,    0,    0,    0]], dtype=int32)"
            ]
          },
          "metadata": {
            "tags": []
          },
          "execution_count": 29
        }
      ]
    },
    {
      "cell_type": "code",
      "metadata": {
        "colab": {
          "base_uri": "https://localhost:8080/"
        },
        "id": "UOPVqktyANNF",
        "outputId": "78cf4ab2-d41e-4488-eb91-d42bdd5fa886"
      },
      "source": [
        "dummy_y_valid = data_set_valid[\"labelencoder\"].values\n",
        "dummy_y_valid[:5]"
      ],
      "execution_count": 30,
      "outputs": [
        {
          "output_type": "execute_result",
          "data": {
            "text/plain": [
              "array([6, 3, 2, 0, 6])"
            ]
          },
          "metadata": {
            "tags": []
          },
          "execution_count": 30
        }
      ]
    },
    {
      "cell_type": "code",
      "metadata": {
        "colab": {
          "base_uri": "https://localhost:8080/"
        },
        "id": "NAiFC304APqL",
        "outputId": "d5ece02b-c325-46a6-bb20-981cee9adf12"
      },
      "source": [
        "# Sprawdzenie rozmiaru zbiorów validacyjnego\n",
        "X_validate.shape, dummy_y_valid.shape"
      ],
      "execution_count": 31,
      "outputs": [
        {
          "output_type": "execute_result",
          "data": {
            "text/plain": [
              "((700, 13), (700,))"
            ]
          },
          "metadata": {
            "tags": []
          },
          "execution_count": 31
        }
      ]
    },
    {
      "cell_type": "code",
      "metadata": {
        "colab": {
          "base_uri": "https://localhost:8080/"
        },
        "id": "WRbEdb7AAXGy",
        "outputId": "22eaed78-85d6-41c0-a39a-8c912f776445"
      },
      "source": [
        "predicted_lstm_val = np.argmax(model.predict(X_validate), axis=-1)\n",
        "predicted_lstm_val[:5]"
      ],
      "execution_count": 32,
      "outputs": [
        {
          "output_type": "execute_result",
          "data": {
            "text/plain": [
              "array([6, 3, 2, 0, 6])"
            ]
          },
          "metadata": {
            "tags": []
          },
          "execution_count": 32
        }
      ]
    },
    {
      "cell_type": "markdown",
      "metadata": {
        "id": "_5wZwn-_uKE9"
      },
      "source": [
        "#### Rozkodowanie przewidzianych i prawidłowych etykiet"
      ]
    },
    {
      "cell_type": "code",
      "metadata": {
        "colab": {
          "base_uri": "https://localhost:8080/"
        },
        "id": "G4U9hYvnBJ9F",
        "outputId": "63a5b037-9f43-4c46-910a-f6006534751d"
      },
      "source": [
        "y_pred = labelencoder.inverse_transform(predicted_lstm_val)\n",
        "y_pred = pd.Series(y_pred)\n",
        "y_pred.head()"
      ],
      "execution_count": 33,
      "outputs": [
        {
          "output_type": "execute_result",
          "data": {
            "text/plain": [
              "0    SearchScreeningEvent\n",
              "1               PlayMusic\n",
              "2              GetWeather\n",
              "3           AddToPlaylist\n",
              "4    SearchScreeningEvent\n",
              "dtype: object"
            ]
          },
          "metadata": {
            "tags": []
          },
          "execution_count": 33
        }
      ]
    },
    {
      "cell_type": "code",
      "metadata": {
        "colab": {
          "base_uri": "https://localhost:8080/"
        },
        "id": "EW03pUanA729",
        "outputId": "7b307d70-0bda-4278-adf4-ed18fb4e9b20"
      },
      "source": [
        "y_val = labelencoder.inverse_transform(dummy_y_valid)\n",
        "y_val = pd.Series(y_val)\n",
        "y_val.head()"
      ],
      "execution_count": 34,
      "outputs": [
        {
          "output_type": "execute_result",
          "data": {
            "text/plain": [
              "0    SearchScreeningEvent\n",
              "1               PlayMusic\n",
              "2              GetWeather\n",
              "3           AddToPlaylist\n",
              "4    SearchScreeningEvent\n",
              "dtype: object"
            ]
          },
          "metadata": {
            "tags": []
          },
          "execution_count": 34
        }
      ]
    },
    {
      "cell_type": "markdown",
      "metadata": {
        "id": "RcGfyRgQudTZ"
      },
      "source": [
        "#### `Confusion matrix`"
      ]
    },
    {
      "cell_type": "code",
      "metadata": {
        "id": "GXVwswIsA9RT"
      },
      "source": [
        "from sklearn.metrics import accuracy_score, f1_score, classification_report, confusion_matrix\n",
        "%matplotlib inline\n",
        "from matplotlib import pyplot as plt\n",
        "import seaborn as sns"
      ],
      "execution_count": 35,
      "outputs": []
    },
    {
      "cell_type": "code",
      "metadata": {
        "colab": {
          "base_uri": "https://localhost:8080/",
          "height": 704
        },
        "id": "fGr6-cjzBFLc",
        "outputId": "90274bd1-02f2-4703-9b0e-279bd3169a94"
      },
      "source": [
        "classes = np.unique(y_val)\n",
        "\n",
        "print('Accuracy:', round(accuracy_score(y_val, y_pred),2))\n",
        "print('F1_score:', round(f1_score(y_val, y_pred, average='weighted'),2))\n",
        "\n",
        "print(classification_report(y_val, y_pred))\n",
        "# Plot confusion matrix\n",
        "cm = confusion_matrix(y_val, y_pred)\n",
        "fig, ax = plt.subplots()\n",
        "sns.heatmap(cm, annot=True, fmt='d', ax=ax, cmap=plt.cm.Blues, cbar=False)\n",
        "ax.set(xlabel='Pred', ylabel='True', xticklabels=classes, yticklabels=classes, title='Confusion matrix')\n",
        "plt.yticks(rotation=0)\n",
        "plt.xticks(rotation=90)"
      ],
      "execution_count": 36,
      "outputs": [
        {
          "output_type": "stream",
          "text": [
            "Accuracy: 0.94\n",
            "F1_score: 0.94\n",
            "                      precision    recall  f1-score   support\n",
            "\n",
            "       AddToPlaylist       0.99      0.99      0.99       100\n",
            "      BookRestaurant       1.00      1.00      1.00       100\n",
            "          GetWeather       0.99      0.97      0.98       100\n",
            "           PlayMusic       1.00      0.94      0.97       100\n",
            "            RateBook       0.96      0.88      0.92       100\n",
            "  SearchCreativeWork       0.77      0.96      0.86       100\n",
            "SearchScreeningEvent       0.92      0.85      0.89       100\n",
            "\n",
            "            accuracy                           0.94       700\n",
            "           macro avg       0.95      0.94      0.94       700\n",
            "        weighted avg       0.95      0.94      0.94       700\n",
            "\n"
          ],
          "name": "stdout"
        },
        {
          "output_type": "execute_result",
          "data": {
            "text/plain": [
              "(array([0.5, 1.5, 2.5, 3.5, 4.5, 5.5, 6.5]),\n",
              " <a list of 7 Text major ticklabel objects>)"
            ]
          },
          "metadata": {
            "tags": []
          },
          "execution_count": 36
        },
        {
          "output_type": "display_data",
          "data": {
            "image/png": "[encoded data removed]",
            "text/plain": [
              "<Figure size 432x288 with 1 Axes>"
            ]
          },
          "metadata": {
            "tags": [],
            "needs_background": "light"
          }
        }
      ]
    },
    {
      "cell_type": "markdown",
      "metadata": {
        "id": "9uxfqF9uum32"
      },
      "source": [
        "#### Zapoznanie się z błędnymi predykcjami "
      ]
    },
    {
      "cell_type": "code",
      "metadata": {
        "colab": {
          "base_uri": "https://localhost:8080/"
        },
        "id": "28QYnOPM-mJz",
        "outputId": "53f1c0a0-0d42-446f-a506-c352a9c8b988"
      },
      "source": [
        "indexes = []\n",
        "for i, phrase in enumerate(y_pred):\n",
        "  if phrase == 'SearchCreativeWork':\n",
        "    if y_val[i] == 'SearchScreeningEvent':\n",
        "      indexes.append(i)\n",
        "print(indexes)"
      ],
      "execution_count": 37,
      "outputs": [
        {
          "output_type": "stream",
          "text": [
            "[6, 326, 346, 397, 454, 519, 557, 568, 590, 615, 648, 672, 689]\n"
          ],
          "name": "stdout"
        }
      ]
    },
    {
      "cell_type": "code",
      "metadata": {
        "colab": {
          "base_uri": "https://localhost:8080/"
        },
        "id": "ouy1yzy8-048",
        "outputId": "c7e49394-faec-445d-dafa-037e8ce59dc5"
      },
      "source": [
        "for i in indexes:\n",
        "  print(f\"----------------------------\\nTekst komendy:\\n{data_set_valid['text'][i]}\")\n",
        "  print(f\"Oczyszczona komenda:\\n{data_set_valid['tokens_lemma_without_stop'][i]}\")\n",
        "  print(f'True category: {y_val[i]}')\n",
        "  print(f'Predicted category: {y_pred[i]}')\n",
        "  print(\"\\n\")"
      ],
      "execution_count": 38,
      "outputs": [
        {
          "output_type": "stream",
          "text": [
            "----------------------------\n",
            "Tekst komendy:\n",
            "I want to see While the Sun Shines at the closest movie house.\n",
            "Oczyszczona komenda:\n",
            "want sun shine close movie house\n",
            "True category: SearchScreeningEvent\n",
            "Predicted category: SearchCreativeWork\n",
            "\n",
            "\n",
            "----------------------------\n",
            "Tekst komendy:\n",
            "Can I get the movie times\n",
            "Oczyszczona komenda:\n",
            "movie time\n",
            "True category: SearchScreeningEvent\n",
            "Predicted category: SearchCreativeWork\n",
            "\n",
            "\n",
            "----------------------------\n",
            "Tekst komendy:\n",
            "I want to see Those Kids from Town, when will it be showing?\n",
            "Oczyszczona komenda:\n",
            "want kid town\n",
            "True category: SearchScreeningEvent\n",
            "Predicted category: SearchCreativeWork\n",
            "\n",
            "\n",
            "----------------------------\n",
            "Tekst komendy:\n",
            "Find the schedule for Great Mail Robbery.\n",
            "Oczyszczona komenda:\n",
            "find schedule great mail robbery\n",
            "True category: SearchScreeningEvent\n",
            "Predicted category: SearchCreativeWork\n",
            "\n",
            "\n",
            "----------------------------\n",
            "Tekst komendy:\n",
            "What are the movie times\n",
            "Oczyszczona komenda:\n",
            "movie time\n",
            "True category: SearchScreeningEvent\n",
            "Predicted category: SearchCreativeWork\n",
            "\n",
            "\n",
            "----------------------------\n",
            "Tekst komendy:\n",
            "i want to see JLA Adventures: Trapped In Time\n",
            "Oczyszczona komenda:\n",
            "want jla adventures trap time\n",
            "True category: SearchScreeningEvent\n",
            "Predicted category: SearchCreativeWork\n",
            "\n",
            "\n",
            "----------------------------\n",
            "Tekst komendy:\n",
            "I want to see Shattered Image.\n",
            "Oczyszczona komenda:\n",
            "want shatter image\n",
            "True category: SearchScreeningEvent\n",
            "Predicted category: SearchCreativeWork\n",
            "\n",
            "\n",
            "----------------------------\n",
            "Tekst komendy:\n",
            "Can you check the timings for Super Sweet 16: The Movie?\n",
            "Oczyszczona komenda:\n",
            "check timing super sweet movie\n",
            "True category: SearchScreeningEvent\n",
            "Predicted category: SearchCreativeWork\n",
            "\n",
            "\n",
            "----------------------------\n",
            "Tekst komendy:\n",
            "Where can I find the movie schedules\n",
            "Oczyszczona komenda:\n",
            "find movie schedule\n",
            "True category: SearchScreeningEvent\n",
            "Predicted category: SearchCreativeWork\n",
            "\n",
            "\n",
            "----------------------------\n",
            "Tekst komendy:\n",
            "Where can I see The Prime Ministers: The Pioneers\n",
            "Oczyszczona komenda:\n",
            "prime minister pioneer\n",
            "True category: SearchScreeningEvent\n",
            "Predicted category: SearchCreativeWork\n",
            "\n",
            "\n",
            "----------------------------\n",
            "Tekst komendy:\n",
            "I want to see Outcast.\n",
            "Oczyszczona komenda:\n",
            "want outcast\n",
            "True category: SearchScreeningEvent\n",
            "Predicted category: SearchCreativeWork\n",
            "\n",
            "\n",
            "----------------------------\n",
            "Tekst komendy:\n",
            "what are the movie times\n",
            "Oczyszczona komenda:\n",
            "movie time\n",
            "True category: SearchScreeningEvent\n",
            "Predicted category: SearchCreativeWork\n",
            "\n",
            "\n",
            "----------------------------\n",
            "Tekst komendy:\n",
            "I want to see Fear Chamber.\n",
            "Oczyszczona komenda:\n",
            "want fear chamber\n",
            "True category: SearchScreeningEvent\n",
            "Predicted category: SearchCreativeWork\n",
            "\n",
            "\n"
          ],
          "name": "stdout"
        }
      ]
    },
    {
      "cell_type": "markdown",
      "metadata": {
        "id": "IlchnRFT3XPb"
      },
      "source": [
        "\n",
        "#### Wnioski: \n",
        "> stop_words  usuneło słowa tj `show`, `see` które powtarzają się w kilku błędnie przewidzianych predykcjach. Aby przewidzieć intencje czasowniki są istotne i nie mogą zostać usunięte. \n",
        "\n"
      ]
    },
    {
      "cell_type": "code",
      "metadata": {
        "id": "09L7w_zP8rOK",
        "colab": {
          "base_uri": "https://localhost:8080/"
        },
        "outputId": "d8b032b1-82fa-4081-80ab-39373aa97893"
      },
      "source": [
        "doc = nlp(\"show see\")\n",
        "print(doc)\n",
        "\n",
        "[ i for i in doc if i.text in stopwords]"
      ],
      "execution_count": 39,
      "outputs": [
        {
          "output_type": "stream",
          "text": [
            "show see\n"
          ],
          "name": "stdout"
        },
        {
          "output_type": "execute_result",
          "data": {
            "text/plain": [
              "[show, see]"
            ]
          },
          "metadata": {
            "tags": []
          },
          "execution_count": 39
        }
      ]
    },
    {
      "cell_type": "code",
      "metadata": {
        "id": "7ESFtxEQCgOZ",
        "colab": {
          "base_uri": "https://localhost:8080/"
        },
        "outputId": "36ecbe65-35de-4fcb-f637-2a89cbe24069"
      },
      "source": [
        "print(stopwords)"
      ],
      "execution_count": 40,
      "outputs": [
        {
          "output_type": "stream",
          "text": [
            "['in', 'with', 'whatever', 'back', 'just', 'any', 'off', 'whither', 'side', 'them', 'since', 'the', 'say', 'show', 'will', 'yourselves', 'hereafter', 'onto', 'eight', 'noone', 'becoming', 'call', 'everywhere', 'somehow', 'six', 'first', 'whole', 'give', 'what', 'wherever', 'everything', 'was', 'now', 'than', \"n't\", 'several', 'sixty', 'quite', 'my', 'wherein', 'am', 'your', 'nine', 'much', 'formerly', 'a', 'amongst', 'perhaps', 'anywhere', 'within', 'they', \"'ll\", 'together', 'namely', 'had', 'mostly', 'although', 'name', 'really', 'few', 'such', 'twenty', 'this', 'unless', \"'m\", 'someone', 'via', 'about', 'herein', 'thereafter', 'can', 'against', 'him', 'on', 'top', 'make', 'bottom', 'except', 'not', 'but', 'regarding', 'some', 'forty', '’m', 'or', 'me', 'yours', 'have', 'at', 're', 'anyone', 'an', 'does', 'should', 'who', 'across', '‘ll', 'became', 'else', 'thereby', 'various', 'nobody', 'every', 'seem', 'do', 'nor', 'by', 'to', 'down', 'her', 'i', 'it', 'done', 'that', 'too', 'go', 'whom', '’s', 'seeming', 'until', 'then', 'very', 'did', 'last', 'behind', 'nothing', 'almost', 'between', 'somewhere', 'twelve', 'yet', 'beforehand', 'among', 'when', 'up', 'ours', 'afterwards', 'often', 'whose', 'please', 'into', 'four', 'whether', 'myself', 'its', 'own', 'because', 'during', 'all', 'where', 'must', \"'s\", 'neither', 'which', '‘d', 'n’t', 'and', 'anything', 'others', 'therefore', 'above', 'less', 'rather', 'due', '‘ve', 'before', 'herself', 'ourselves', 'besides', 'elsewhere', 'five', 'these', 'whoever', 'everyone', 'take', 'she', 'himself', 'whereas', 'empty', 'eleven', 'same', 'you', 'whence', 'us', 'under', 'two', 'nowhere', 'their', 'though', 'amount', 'why', 'once', 'those', 'of', 'more', 'many', 'further', 'none', 'has', 'after', 'around', 'from', 'he', 'beside', 'yourself', 'see', 'our', 'becomes', 'enough', 'third', 'anyway', \"'d\", 'how', 'sometime', 'hereby', 'serious', 'thru', 'even', 'might', 'upon', 'otherwise', 'as', 'doing', 'only', 'whereupon', 'could', 'keep', 'each', 'seems', 'other', 'ever', '‘m', 'beyond', 'indeed', 'put', 'already', 'made', 'hence', 'towards', \"'re\", 'hereupon', 'his', 'ca', 'never', 'cannot', 'three', 'being', 'themselves', 'front', 'is', 'no', 'latter', 'alone', 'also', 'most', 'get', 'moreover', 'over', 'full', 'either', 'thus', 'fifty', 'next', 'toward', 'fifteen', 'something', 'here', 'nevertheless', 'be', '‘s', 'are', 'along', 'least', 'throughout', 'anyhow', 'again', 'one', 'still', 'always', 'mine', 'using', 'whereafter', 'would', 'may', '’d', 'thereupon', 'hundred', 'thence', 'been', 'used', 'however', 'both', 'per', 'therein', 'below', 'become', 'whenever', 'through', 'move', '’ll', 'out', 'meanwhile', 'whereby', '’re', 'there', 'hers', 'well', '‘re', 'seemed', 'sometimes', 'part', 'another', 'without', 'we', 'itself', '’ve', 'n‘t', 'were', \"'ve\", 'latterly', 'if', 'while', 'former', 'ten', 'for', 'so']\n"
          ],
          "name": "stdout"
        }
      ]
    },
    {
      "cell_type": "code",
      "metadata": {
        "id": "7yy7thSq-7Tk",
        "colab": {
          "base_uri": "https://localhost:8080/"
        },
        "outputId": "dfea8bdf-2c42-47bd-fee8-1acd30c91e2c"
      },
      "source": [
        "# sprawdzmy ile innych czasowników znajduje się w liście stopwords\n",
        "\n",
        "doc = nlp(\" \".join(stopwords))\n",
        "VERB_list_stopwords = []\n",
        "for token in doc:\n",
        "  if token.pos_ == \"VERB\":\n",
        "    VERB_list_stopwords.append(token.text)\n",
        "\n",
        "print(VERB_list_stopwords)"
      ],
      "execution_count": 41,
      "outputs": [
        {
          "output_type": "stream",
          "text": [
            "['will', 'becoming', 'give', \"'ll\", 'can', 'make', 'regarding', 'should', 'became', 'done', 'go', '’s', 'seeming', 'must', 'take', 'whence', 'see', 'becomes', 'might', 'doing', 'could', 'keep', 'seems', 'put', 'made', 'ca', 'can', 'get', 'using', 'would', 'may', '’d', 'used', 'become', '’ll', '’re', 'seemed', 'part']\n"
          ],
          "name": "stdout"
        }
      ]
    },
    {
      "cell_type": "markdown",
      "metadata": {
        "id": "ioUayvUoDP-D"
      },
      "source": [
        ">W liście stop_words znajdują się czasowniki, które są ważne z puntku widzenia wykrycia intencji. Dlatego trzeba je usunać z listy stop_words lub w ogole nie używać tej listy\n",
        "\n",
        "Czasowniki wydające się istotne dla wykrcia intencji z listy stop words:\n",
        "`'give',  'using', 're', 'move',  'see', 'seeming', 'say', 'doing', 'seems', 'call', 'take','show'`"
      ]
    },
    {
      "cell_type": "code",
      "metadata": {
        "id": "INKNNKPRDLnA"
      },
      "source": [
        ""
      ],
      "execution_count": 41,
      "outputs": []
    }
  ]
}