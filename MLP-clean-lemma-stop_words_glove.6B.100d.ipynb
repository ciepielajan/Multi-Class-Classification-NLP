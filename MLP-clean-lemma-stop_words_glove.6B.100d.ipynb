{
  "nbformat": 4,
  "nbformat_minor": 0,
  "metadata": {
    "colab": {
      "name": "Detecting_intentions_MLP-clean-lemma-stop_wordsy",
      "provenance": [],
      "collapsed_sections": [],
      "authorship_tag": "ABX9TyPKh5R7yqy3QgH64ZR1IR+K",
      "include_colab_link": true
    },
    "kernelspec": {
      "name": "python3",
      "display_name": "Python 3"
    },
    "language_info": {
      "name": "python"
    }
  },
  "cells": [
    {
      "cell_type": "markdown",
      "metadata": {
        "id": "view-in-github",
        "colab_type": "text"
      },
      "source": [
        "<a href=\"https://colab.research.google.com/github/ciepielajan/Multi-Class-Classification-NLP/blob/main/MLP-clean-lemma-stop_words_glove.6B.100d.ipynb\" target=\"_parent\"><img src=\"https://colab.research.google.com/assets/colab-badge.svg\" alt=\"Open In Colab\"/></a>"
      ]
    },
    {
      "cell_type": "markdown",
      "metadata": {
        "id": "8AZPAKjZzukF"
      },
      "source": [
        "MLP-clean-lemma-stop_words_glove.6B.100d.ipynb"
      ]
    },
    {
      "cell_type": "markdown",
      "metadata": {
        "id": "us7PJ6w-n8ge"
      },
      "source": [
        "#### Pobranie danych"
      ]
    },
    {
      "cell_type": "code",
      "metadata": {
        "colab": {
          "base_uri": "https://localhost:8080/"
        },
        "id": "cZ_7ET22CAsA",
        "outputId": "d0b45e0f-99da-494d-8a02-768f749b21d7"
      },
      "source": [
        "# https://drive.google.com/file/d/1fI6EXyD9TMTC1jzdu206ljXOGNjdHprq/view?usp=sharing\n",
        "!gdown --id \"1fI6EXyD9TMTC1jzdu206ljXOGNjdHprq\""
      ],
      "execution_count": null,
      "outputs": [
        {
          "output_type": "stream",
          "text": [
            "Downloading...\n",
            "From: https://drive.google.com/uc?id=1fI6EXyD9TMTC1jzdu206ljXOGNjdHprq\n",
            "To: /content/user_intent.zip\n",
            "\r  0% 0.00/271k [00:00<?, ?B/s]\r100% 271k/271k [00:00<00:00, 39.3MB/s]\n"
          ],
          "name": "stdout"
        }
      ]
    },
    {
      "cell_type": "code",
      "metadata": {
        "colab": {
          "base_uri": "https://localhost:8080/"
        },
        "id": "uWusnzuPCHqv",
        "outputId": "6b26f467-324b-421d-f879-9fd062137cd2"
      },
      "source": [
        "!unzip \"user_intent.zip\""
      ],
      "execution_count": null,
      "outputs": [
        {
          "output_type": "stream",
          "text": [
            "Archive:  user_intent.zip\n",
            "  inflating: train.csv               \n",
            "  inflating: __MACOSX/._train.csv    \n",
            "  inflating: validation.csv          \n"
          ],
          "name": "stdout"
        }
      ]
    },
    {
      "cell_type": "code",
      "metadata": {
        "id": "9CI1LZgj-Kin"
      },
      "source": [
        ""
      ],
      "execution_count": null,
      "outputs": []
    },
    {
      "cell_type": "code",
      "metadata": {
        "colab": {
          "base_uri": "https://localhost:8080/"
        },
        "id": "NUKeVYWfCOdU",
        "outputId": "9ba70ca2-f601-481b-aa8c-8514157ddb80"
      },
      "source": [
        "import pandas as pd\n",
        "import numpy as np\n",
        "from datetime import datetime\n",
        "\n",
        "data_set_train = pd.read_csv(\"train.csv\")\n",
        "data_set_valid = pd.read_csv(\"validation.csv\")\n",
        "\n",
        "print(data_set_train.shape)\n",
        "print(data_set_valid.shape)\n",
        "\n",
        "print(data_set_train.columns)\n",
        "print(data_set_valid.columns)"
      ],
      "execution_count": null,
      "outputs": [
        {
          "output_type": "stream",
          "text": [
            "(13784, 2)\n",
            "(700, 2)\n",
            "Index(['text', 'label'], dtype='object')\n",
            "Index(['text', 'label'], dtype='object')\n"
          ],
          "name": "stdout"
        }
      ]
    },
    {
      "cell_type": "markdown",
      "metadata": {
        "id": "8Vg1fqbGoCrp"
      },
      "source": [
        "#### Podstawowy process text"
      ]
    },
    {
      "cell_type": "code",
      "metadata": {
        "id": "5GQNuCjSlz0F"
      },
      "source": [
        "import re\n",
        "def process_text(sentence):\n",
        "    sentence = re.sub('[A-Za-z0-9]+@[a-zA-z].[a-zA-Z]+', '', sentence)  # maile\n",
        "    sentence = re.sub('(http[s]*:[/][/])[a-zA-Z0-9]+', '', sentence)  # linki\n",
        "    sentence = re.sub(r\"<[^>]+>\", \" \", sentence) # remove html tag\n",
        "    sentence = re.sub(r\"[^a-zA-Z\\s]\", \"\", sentence)  # remove punctuations and numbers   \n",
        "    sentence = re.sub(r\"\\b[A-Za-z]{1}\\b\", \"\", sentence)  # remove single characters\n",
        "\n",
        "    sentence = re.sub(\"^\\s+|\\s+$\", \"\", sentence, flags=re.UNICODE) # Remove spaces both in the BEGINNING and in the END of a string:\n",
        "    sentence = \" \".join(re.split(\"\\s+\", sentence, flags=re.UNICODE))  # Remove ONLY DUPLICATE spaces:\n",
        "    sentence = sentence.lower()\n",
        "    \n",
        "    return sentence"
      ],
      "execution_count": null,
      "outputs": []
    },
    {
      "cell_type": "code",
      "metadata": {
        "id": "RZJOju1sFOwp"
      },
      "source": [
        "data_set_train[\"clean_text\"] = data_set_train[\"text\"].apply(lambda x: process_text(x))"
      ],
      "execution_count": null,
      "outputs": []
    },
    {
      "cell_type": "markdown",
      "metadata": {
        "id": "OdmloYvmy5I2"
      },
      "source": [
        "#### `SpaCy` `Lemmatyzacja` i usunięcie `stop_words`"
      ]
    },
    {
      "cell_type": "code",
      "metadata": {
        "colab": {
          "base_uri": "https://localhost:8080/"
        },
        "id": "hKacgC9TzJtn",
        "outputId": "6bce7611-e571-46e8-c926-8cfec986b01c"
      },
      "source": [
        "import spacy\n",
        "# pobranie angielskich STOP WORDS (słów nie mających znaczenia)\n",
        "from spacy.lang.en.stop_words import STOP_WORDS\n",
        "stopwords = list(STOP_WORDS)\n",
        "print(stopwords)\n",
        "\n",
        "# załadowanie angielskiego CORE \n",
        "nlp = spacy.load('en_core_web_sm')"
      ],
      "execution_count": null,
      "outputs": [
        {
          "output_type": "stream",
          "text": [
            "['least', 'third', 'thru', \"'d\", '‘ll', 'everything', 'anywhere', 'four', 'sometime', 'more', 'serious', 'wherein', 'had', '‘d', 'below', 'toward', '’re', 'into', 'thereby', 'thereupon', 'whereas', 'others', 'either', 'still', 'same', 'two', 'not', 'seemed', 'me', 'hereupon', 'thereafter', 'someone', 'will', '’s', 'against', 'yet', 'very', 'those', 'latterly', '’ve', 'none', 'bottom', 'being', 'eight', 'elsewhere', 'whom', 'see', 'nothing', 'noone', 'their', 'a', 'he', 'whither', 'various', 'twenty', 'would', 'first', 'using', 'well', 'quite', 'many', 'nowhere', 'whence', 'all', 'unless', 'it', 'among', 'amongst', '’ll', 'except', 'does', 'other', 'seems', 'which', 'by', \"'re\", 'perhaps', 'please', 'between', 'ca', 'you', 'further', 'there', 'afterwards', 'former', 'any', 'above', 'why', 'was', 'regarding', 'otherwise', 'ourselves', 'front', 'almost', 'be', 'nobody', 'each', 'become', 'its', 'how', 'so', 'whenever', 'five', 'give', 'namely', 'keep', 'nor', 'with', 'top', 'whereafter', 'fifty', 'since', 'besides', 'yourselves', 'itself', 'amount', 'made', 'used', 'mine', 'beforehand', 'about', 'i', 'due', 'move', 'doing', 'whose', 'several', 'under', 'than', 'hereby', 'who', 'beside', 'no', 'an', \"'s\", \"n't\", 'is', 'these', 'within', 'yours', 'were', 'have', 'such', 'somehow', 'forty', 'whether', 'ever', 'has', 'where', 'must', 'three', 'most', 'she', 'whatever', 'them', 'twelve', \"'ve\", 'moreover', 'also', 'cannot', 'may', 'always', 'his', 'therein', 'might', 'together', 'nine', 'even', 'her', 'before', 'few', 'full', 'put', 'take', 'are', 'beyond', 'already', '‘s', 'often', 'some', 'here', 'n‘t', 'six', 'else', 'alone', 'however', 'that', 'empty', 'meanwhile', 'or', 'down', 'another', 'did', 'through', 'back', 'every', 'next', 'somewhere', 'they', 'when', 'anyhow', '‘m', \"'m\", 'everywhere', 'both', 'can', 'say', '‘re', 'anyone', 'throughout', 'up', 'much', 'ours', 'at', 'just', 'call', 'less', 'whole', 'hence', 'herself', 'never', 'done', 'but', 'this', 'us', 'across', 'around', 'everyone', 'for', 'could', 'in', 'hereafter', 'name', 'seeming', 're', 'again', 'him', 'himself', 'towards', 'do', 'though', 'mostly', 'along', 'once', 'whereby', 'after', 'thence', 'latter', 'therefore', 'out', 'thus', 'make', 'part', 'although', 'the', 'becomes', 'enough', 'been', 'of', 'ten', 'we', 'onto', 'became', 'anything', 'anyway', 'too', 'if', 'only', 'behind', 'as', 'last', 'seem', 'our', 'my', 'sometimes', 'hundred', 'whereupon', 'show', 'to', 'n’t', 'what', 'because', 'one', 'fifteen', 'go', 'via', '’m', 'get', 'sixty', 'myself', 'hers', '’d', 'really', 'something', 'neither', 'formerly', 'over', 'your', 'side', 'am', 'herein', 'whoever', 'off', 'until', 'on', 'from', 'wherever', 'during', '‘ve', 'own', 'yourself', 'rather', \"'ll\", 'should', 'themselves', 'indeed', 'eleven', 'and', 'now', 'becoming', 'without', 'per', 'then', 'while', 'nevertheless', 'upon']\n"
          ],
          "name": "stdout"
        }
      ]
    },
    {
      "cell_type": "code",
      "metadata": {
        "colab": {
          "base_uri": "https://localhost:8080/",
          "height": 35
        },
        "id": "gMzwt0bJzpNe",
        "outputId": "896e39c7-b6e4-4661-dcba-a31194f76768"
      },
      "source": [
        "spacy.__version__"
      ],
      "execution_count": null,
      "outputs": [
        {
          "output_type": "execute_result",
          "data": {
            "application/vnd.google.colaboratory.intrinsic+json": {
              "type": "string"
            },
            "text/plain": [
              "'2.2.4'"
            ]
          },
          "metadata": {
            "tags": []
          },
          "execution_count": 7
        }
      ]
    },
    {
      "cell_type": "code",
      "metadata": {
        "colab": {
          "base_uri": "https://localhost:8080/"
        },
        "id": "CDGR8xz-zFa7",
        "outputId": "46205a8a-c660-4aa5-de39-7418a4bc23b7"
      },
      "source": [
        "%%time\n",
        "data_set_train[\"tokens_lemma_without_stop\"] = data_set_train[\"clean_text\"].apply(lambda x: \" \".join([str(i.lemma_ ) for i in nlp(x) if i.lemma_  != \"-PRON-\" and i.lemma_ not in stopwords ]))"
      ],
      "execution_count": null,
      "outputs": [
        {
          "output_type": "stream",
          "text": [
            "CPU times: user 1min 58s, sys: 220 ms, total: 1min 58s\n",
            "Wall time: 1min 58s\n"
          ],
          "name": "stdout"
        }
      ]
    },
    {
      "cell_type": "code",
      "metadata": {
        "colab": {
          "base_uri": "https://localhost:8080/",
          "height": 195
        },
        "id": "Qm19XsjF1FGx",
        "outputId": "a14010a2-2ab2-491e-96b6-ca4d06a4584d"
      },
      "source": [
        "data_set_train.sample(5)"
      ],
      "execution_count": null,
      "outputs": [
        {
          "output_type": "execute_result",
          "data": {
            "text/html": [
              "<div>\n",
              "<style scoped>\n",
              "    .dataframe tbody tr th:only-of-type {\n",
              "        vertical-align: middle;\n",
              "    }\n",
              "\n",
              "    .dataframe tbody tr th {\n",
              "        vertical-align: top;\n",
              "    }\n",
              "\n",
              "    .dataframe thead th {\n",
              "        text-align: right;\n",
              "    }\n",
              "</style>\n",
              "<table border=\"1\" class=\"dataframe\">\n",
              "  <thead>\n",
              "    <tr style=\"text-align: right;\">\n",
              "      <th></th>\n",
              "      <th>text</th>\n",
              "      <th>label</th>\n",
              "      <th>clean_text</th>\n",
              "      <th>tokens_lemma_without_stop</th>\n",
              "    </tr>\n",
              "  </thead>\n",
              "  <tbody>\n",
              "    <tr>\n",
              "      <th>39</th>\n",
              "      <td>Rate The Scoop 4 of 6 stars</td>\n",
              "      <td>RateBook</td>\n",
              "      <td>rate the scoop of stars</td>\n",
              "      <td>rate scoop star</td>\n",
              "    </tr>\n",
              "    <tr>\n",
              "      <th>8052</th>\n",
              "      <td>rate the last book 0 stars</td>\n",
              "      <td>RateBook</td>\n",
              "      <td>rate the last book stars</td>\n",
              "      <td>rate book star</td>\n",
              "    </tr>\n",
              "    <tr>\n",
              "      <th>6933</th>\n",
              "      <td>Is it freezing near Medley?</td>\n",
              "      <td>GetWeather</td>\n",
              "      <td>is it freezing near medley</td>\n",
              "      <td>freeze near medley</td>\n",
              "    </tr>\n",
              "    <tr>\n",
              "      <th>4242</th>\n",
              "      <td>Is it going to be nice in Sandoval Belgium</td>\n",
              "      <td>GetWeather</td>\n",
              "      <td>is it going to be nice in sandoval belgium</td>\n",
              "      <td>nice sandoval belgium</td>\n",
              "    </tr>\n",
              "    <tr>\n",
              "      <th>8005</th>\n",
              "      <td>show movie schedules</td>\n",
              "      <td>SearchScreeningEvent</td>\n",
              "      <td>show movie schedules</td>\n",
              "      <td>movie schedule</td>\n",
              "    </tr>\n",
              "  </tbody>\n",
              "</table>\n",
              "</div>"
            ],
            "text/plain": [
              "                                            text  ... tokens_lemma_without_stop\n",
              "39                   Rate The Scoop 4 of 6 stars  ...           rate scoop star\n",
              "8052                  rate the last book 0 stars  ...            rate book star\n",
              "6933                 Is it freezing near Medley?  ...        freeze near medley\n",
              "4242  Is it going to be nice in Sandoval Belgium  ...     nice sandoval belgium\n",
              "8005                        show movie schedules  ...            movie schedule\n",
              "\n",
              "[5 rows x 4 columns]"
            ]
          },
          "metadata": {
            "tags": []
          },
          "execution_count": 9
        }
      ]
    },
    {
      "cell_type": "code",
      "metadata": {
        "colab": {
          "base_uri": "https://localhost:8080/"
        },
        "id": "_dEypyGx0KKL",
        "outputId": "8bcc06d4-ff1c-4a5e-b3b0-933ed16acd78"
      },
      "source": [
        "id_intention = 6\n",
        "print(\"Surowy tekst\")\n",
        "print(data_set_train[\"text\"].iloc[id_intention])\n",
        "print(\"Po oczyszczeniu\")\n",
        "print(data_set_train[\"clean_text\"].iloc[id_intention])\n",
        "print(\"Po lematyzacji i usunięciu stop words\")\n",
        "print(data_set_train[\"tokens_lemma_without_stop\"].iloc[id_intention])"
      ],
      "execution_count": null,
      "outputs": [
        {
          "output_type": "stream",
          "text": [
            "Surowy tekst\n",
            "Book a table for 10 people at a restaurant which offers internet.\n",
            "Po oczyszczeniu\n",
            "book table for people at restaurant which offers internet\n",
            "Po lematyzacji i usunięciu stop words\n",
            "book table people restaurant offer internet\n"
          ],
          "name": "stdout"
        }
      ]
    },
    {
      "cell_type": "markdown",
      "metadata": {
        "id": "7epaW5cXoXef"
      },
      "source": [
        "#### `LabelEncoder` oraz `to_categorical`"
      ]
    },
    {
      "cell_type": "code",
      "metadata": {
        "colab": {
          "base_uri": "https://localhost:8080/",
          "height": 195
        },
        "id": "022rNoaL-xbl",
        "outputId": "5e336b10-0a83-4fd8-f6b3-2af08032c52f"
      },
      "source": [
        "from sklearn.preprocessing import LabelEncoder\n",
        "from keras.utils import to_categorical \n",
        "\n",
        "\n",
        "labelencoder = LabelEncoder()\n",
        "data_set_train[\"labelencoder\"] = labelencoder.fit_transform(data_set_train[\"label\"])\n",
        "\n",
        "dummy_y = to_categorical(data_set_train[\"labelencoder\"], dtype =\"float32\")\n",
        "\n",
        "data_set_train[[\"clean_text\",\"label\",\"labelencoder\"]].head(5)"
      ],
      "execution_count": null,
      "outputs": [
        {
          "output_type": "execute_result",
          "data": {
            "text/html": [
              "<div>\n",
              "<style scoped>\n",
              "    .dataframe tbody tr th:only-of-type {\n",
              "        vertical-align: middle;\n",
              "    }\n",
              "\n",
              "    .dataframe tbody tr th {\n",
              "        vertical-align: top;\n",
              "    }\n",
              "\n",
              "    .dataframe thead th {\n",
              "        text-align: right;\n",
              "    }\n",
              "</style>\n",
              "<table border=\"1\" class=\"dataframe\">\n",
              "  <thead>\n",
              "    <tr style=\"text-align: right;\">\n",
              "      <th></th>\n",
              "      <th>clean_text</th>\n",
              "      <th>label</th>\n",
              "      <th>labelencoder</th>\n",
              "    </tr>\n",
              "  </thead>\n",
              "  <tbody>\n",
              "    <tr>\n",
              "      <th>0</th>\n",
              "      <td>find cinema nearest for films</td>\n",
              "      <td>SearchScreeningEvent</td>\n",
              "      <td>6</td>\n",
              "    </tr>\n",
              "    <tr>\n",
              "      <th>1</th>\n",
              "      <td>give the current series two stars</td>\n",
              "      <td>RateBook</td>\n",
              "      <td>4</td>\n",
              "    </tr>\n",
              "    <tr>\n",
              "      <th>2</th>\n",
              "      <td>find the good girl at movie house</td>\n",
              "      <td>SearchScreeningEvent</td>\n",
              "      <td>6</td>\n",
              "    </tr>\n",
              "    <tr>\n",
              "      <th>3</th>\n",
              "      <td>please make reservations for three at kosher t...</td>\n",
              "      <td>BookRestaurant</td>\n",
              "      <td>1</td>\n",
              "    </tr>\n",
              "    <tr>\n",
              "      <th>4</th>\n",
              "      <td>what is the forecast for here one second from now</td>\n",
              "      <td>GetWeather</td>\n",
              "      <td>2</td>\n",
              "    </tr>\n",
              "  </tbody>\n",
              "</table>\n",
              "</div>"
            ],
            "text/plain": [
              "                                          clean_text  ... labelencoder\n",
              "0                      find cinema nearest for films  ...            6\n",
              "1                  give the current series two stars  ...            4\n",
              "2                  find the good girl at movie house  ...            6\n",
              "3  please make reservations for three at kosher t...  ...            1\n",
              "4  what is the forecast for here one second from now  ...            2\n",
              "\n",
              "[5 rows x 3 columns]"
            ]
          },
          "metadata": {
            "tags": []
          },
          "execution_count": 11
        }
      ]
    },
    {
      "cell_type": "code",
      "metadata": {
        "colab": {
          "base_uri": "https://localhost:8080/"
        },
        "id": "-RfsD1LSpSag",
        "outputId": "7702d3b1-96da-414b-c069-9d6cbc12ff81"
      },
      "source": [
        "dummy_y.shape"
      ],
      "execution_count": null,
      "outputs": [
        {
          "output_type": "execute_result",
          "data": {
            "text/plain": [
              "(13784, 7)"
            ]
          },
          "metadata": {
            "tags": []
          },
          "execution_count": 12
        }
      ]
    },
    {
      "cell_type": "code",
      "metadata": {
        "colab": {
          "base_uri": "https://localhost:8080/"
        },
        "id": "S4dq1macoeQC",
        "outputId": "f29cc751-e5c4-49ab-ec94-72e43864612b"
      },
      "source": [
        "id_intention = 6\n",
        "print(\"Sprawdzenie poprawności LabelEncoder i to_categorical \\n\")\n",
        "print(\"Label - \", data_set_train[\"label\"].iloc[id_intention])\n",
        "print(\"LabelEncoder - \", data_set_train[\"labelencoder\"].iloc[id_intention])\n",
        "print()\n",
        "print(\"to_categorical - \", dummy_y[id_intention])\n",
        "print()\n",
        "print(\"return to LabelEncoder - \",np.argmax(dummy_y[id_intention], axis=-1))\n",
        "print(\"return to Label - \",labelencoder.inverse_transform([np.argmax(dummy_y[id_intention], axis=-1)]))"
      ],
      "execution_count": null,
      "outputs": [
        {
          "output_type": "stream",
          "text": [
            "Sprawdzenie poprawności LabelEncoder i to_categorical \n",
            "\n",
            "Label -  BookRestaurant\n",
            "LabelEncoder -  1\n",
            "\n",
            "to_categorical -  [0. 1. 0. 0. 0. 0. 0.]\n",
            "\n",
            "return to LabelEncoder -  1\n",
            "return to Label -  ['BookRestaurant']\n"
          ],
          "name": "stdout"
        }
      ]
    },
    {
      "cell_type": "markdown",
      "metadata": {
        "id": "-lZTDFgGoSmT"
      },
      "source": [
        "#### Zdefiniowanie X i y"
      ]
    },
    {
      "cell_type": "code",
      "metadata": {
        "id": "JWd9mEjfBAS2"
      },
      "source": [
        "X = data_set_train[\"tokens_lemma_without_stop\"]\n",
        "y = dummy_y"
      ],
      "execution_count": null,
      "outputs": []
    },
    {
      "cell_type": "code",
      "metadata": {
        "colab": {
          "base_uri": "https://localhost:8080/"
        },
        "id": "8jUlcX2npzFs",
        "outputId": "5e6148ba-8176-401e-9204-5e62a71f99db"
      },
      "source": [
        "X.shape, y.shape"
      ],
      "execution_count": null,
      "outputs": [
        {
          "output_type": "execute_result",
          "data": {
            "text/plain": [
              "((13784,), (13784, 7))"
            ]
          },
          "metadata": {
            "tags": []
          },
          "execution_count": 15
        }
      ]
    },
    {
      "cell_type": "markdown",
      "metadata": {
        "id": "9mS_l8wZoO2R"
      },
      "source": [
        "#### Podział zbioru "
      ]
    },
    {
      "cell_type": "code",
      "metadata": {
        "id": "A18D02x5sjFd"
      },
      "source": [
        "from sklearn.model_selection import train_test_split\n",
        "\n",
        "X_train, X_test, y_train, y_test = train_test_split(X, y, test_size=0.2, random_state=42)"
      ],
      "execution_count": null,
      "outputs": []
    },
    {
      "cell_type": "code",
      "metadata": {
        "colab": {
          "base_uri": "https://localhost:8080/"
        },
        "id": "i_xH9XIGuYCG",
        "outputId": "8ced7784-648a-4bce-d869-eec700fa8fe6"
      },
      "source": [
        "X_train.shape, X_test.shape, y_train.shape, y_test.shape"
      ],
      "execution_count": null,
      "outputs": [
        {
          "output_type": "execute_result",
          "data": {
            "text/plain": [
              "((11027,), (2757,), (11027, 7), (2757, 7))"
            ]
          },
          "metadata": {
            "tags": []
          },
          "execution_count": 17
        }
      ]
    },
    {
      "cell_type": "code",
      "metadata": {
        "id": "-DR0gkd1_Uv0"
      },
      "source": [
        ""
      ],
      "execution_count": null,
      "outputs": []
    },
    {
      "cell_type": "markdown",
      "metadata": {
        "id": "chWlDg9Mtmya"
      },
      "source": [
        "#### `Tokenizer` i `pad_sequences`"
      ]
    },
    {
      "cell_type": "code",
      "metadata": {
        "id": "LCm-rbaus6QG"
      },
      "source": [
        "from keras.preprocessing.sequence import pad_sequences\n",
        "from keras.preprocessing.text import Tokenizer"
      ],
      "execution_count": null,
      "outputs": []
    },
    {
      "cell_type": "code",
      "metadata": {
        "id": "U-ihmlc-s6QG"
      },
      "source": [
        "tokenizer = Tokenizer(num_words=5000)\n",
        "tokenizer.fit_on_texts(X_train)\n",
        "\n",
        "X_train = tokenizer.texts_to_sequences(X_train)\n",
        "X_test = tokenizer.texts_to_sequences(X_test)\n",
        "\n",
        "maxlen = 13\n",
        "vocab_size = len(tokenizer.word_index) + 1\n",
        "\n",
        "X_train = pad_sequences(X_train, padding=\"post\", truncating=\"post\", maxlen=maxlen)\n",
        "X_test = pad_sequences(X_test, padding=\"post\", truncating=\"post\", maxlen=maxlen)"
      ],
      "execution_count": null,
      "outputs": []
    },
    {
      "cell_type": "code",
      "metadata": {
        "id": "PaRWehbu_VCe"
      },
      "source": [
        "from keras.models import Sequential\n",
        "from keras.layers import Flatten, SimpleRNN, Dense\n",
        "from keras.layers.embeddings import Embedding\n",
        "from keras.models import Model\n",
        "from tensorflow.keras.callbacks import EarlyStopping"
      ],
      "execution_count": null,
      "outputs": []
    },
    {
      "cell_type": "code",
      "metadata": {
        "colab": {
          "base_uri": "https://localhost:8080/"
        },
        "id": "BGt7E_vj_f5D",
        "outputId": "eb29ce32-8ed1-4bcc-9cb6-ce08c61150e2"
      },
      "source": [
        "model = Sequential()\n",
        "model.add(Embedding(vocab_size, 100, input_length=maxlen))  \n",
        "model.add(Flatten())\n",
        "model.add(Dense(7, activation=\"softmax\")) # sigmoid / softmax\n",
        "model.compile(loss=\"categorical_crossentropy\", optimizer=\"adam\", metrics=[\"accuracy\"])\n",
        "print(model.summary())"
      ],
      "execution_count": null,
      "outputs": [
        {
          "output_type": "stream",
          "text": [
            "Model: \"sequential\"\n",
            "_________________________________________________________________\n",
            "Layer (type)                 Output Shape              Param #   \n",
            "=================================================================\n",
            "embedding (Embedding)        (None, 13, 100)           894300    \n",
            "_________________________________________________________________\n",
            "flatten (Flatten)            (None, 1300)              0         \n",
            "_________________________________________________________________\n",
            "dense (Dense)                (None, 7)                 9107      \n",
            "=================================================================\n",
            "Total params: 903,407\n",
            "Trainable params: 903,407\n",
            "Non-trainable params: 0\n",
            "_________________________________________________________________\n",
            "None\n"
          ],
          "name": "stdout"
        }
      ]
    },
    {
      "cell_type": "code",
      "metadata": {
        "colab": {
          "base_uri": "https://localhost:8080/"
        },
        "id": "wdnpnIhd_qLy",
        "outputId": "e7a1aacf-eb11-4f21-c373-1c0f9ddcedd8"
      },
      "source": [
        "from tensorflow.keras.callbacks import EarlyStopping\n",
        "\n",
        "EarlyStop = EarlyStopping(monitor='val_loss', \n",
        "                          patience=5,\n",
        "                          verbose=1)\n",
        "\n",
        "history = model.fit(X_train, \n",
        "                    y_train, \n",
        "                    epochs=20, \n",
        "                    batch_size=64, \n",
        "                    validation_split=0.2, \n",
        "                    callbacks = [EarlyStop] )\n",
        "scores = model.evaluate(X_test, y_test)\n",
        "print(f\"Accuracy {scores[1] * 100}\")"
      ],
      "execution_count": null,
      "outputs": [
        {
          "output_type": "stream",
          "text": [
            "Epoch 1/20\n",
            "138/138 [==============================] - 3s 15ms/step - loss: 1.6734 - accuracy: 0.5911 - val_loss: 0.5285 - val_accuracy: 0.9216\n",
            "Epoch 2/20\n",
            "138/138 [==============================] - 2s 12ms/step - loss: 0.3643 - accuracy: 0.9514 - val_loss: 0.2159 - val_accuracy: 0.9529\n",
            "Epoch 3/20\n",
            "138/138 [==============================] - 2s 12ms/step - loss: 0.1470 - accuracy: 0.9704 - val_loss: 0.1557 - val_accuracy: 0.9610\n",
            "Epoch 4/20\n",
            "138/138 [==============================] - 2s 12ms/step - loss: 0.0810 - accuracy: 0.9822 - val_loss: 0.1345 - val_accuracy: 0.9615\n",
            "Epoch 5/20\n",
            "138/138 [==============================] - 2s 11ms/step - loss: 0.0581 - accuracy: 0.9888 - val_loss: 0.1219 - val_accuracy: 0.9628\n",
            "Epoch 6/20\n",
            "138/138 [==============================] - 2s 11ms/step - loss: 0.0429 - accuracy: 0.9908 - val_loss: 0.1170 - val_accuracy: 0.9615\n",
            "Epoch 7/20\n",
            "138/138 [==============================] - 2s 12ms/step - loss: 0.0310 - accuracy: 0.9943 - val_loss: 0.1137 - val_accuracy: 0.9646\n",
            "Epoch 8/20\n",
            "138/138 [==============================] - 2s 11ms/step - loss: 0.0286 - accuracy: 0.9942 - val_loss: 0.1112 - val_accuracy: 0.9646\n",
            "Epoch 9/20\n",
            "138/138 [==============================] - 2s 11ms/step - loss: 0.0211 - accuracy: 0.9960 - val_loss: 0.1130 - val_accuracy: 0.9619\n",
            "Epoch 10/20\n",
            "138/138 [==============================] - 2s 11ms/step - loss: 0.0195 - accuracy: 0.9953 - val_loss: 0.1107 - val_accuracy: 0.9646\n",
            "Epoch 11/20\n",
            "138/138 [==============================] - 2s 11ms/step - loss: 0.0169 - accuracy: 0.9964 - val_loss: 0.1108 - val_accuracy: 0.9615\n",
            "Epoch 12/20\n",
            "138/138 [==============================] - 2s 12ms/step - loss: 0.0149 - accuracy: 0.9968 - val_loss: 0.1142 - val_accuracy: 0.9646\n",
            "Epoch 13/20\n",
            "138/138 [==============================] - 2s 12ms/step - loss: 0.0151 - accuracy: 0.9963 - val_loss: 0.1152 - val_accuracy: 0.9633\n",
            "Epoch 14/20\n",
            "138/138 [==============================] - 2s 12ms/step - loss: 0.0131 - accuracy: 0.9975 - val_loss: 0.1171 - val_accuracy: 0.9646\n",
            "Epoch 15/20\n",
            "138/138 [==============================] - 2s 11ms/step - loss: 0.0106 - accuracy: 0.9979 - val_loss: 0.1185 - val_accuracy: 0.9637\n",
            "Epoch 00015: early stopping\n",
            "87/87 [==============================] - 0s 1ms/step - loss: 0.1142 - accuracy: 0.9670\n",
            "Accuracy 96.69930934906006\n"
          ],
          "name": "stdout"
        }
      ]
    },
    {
      "cell_type": "code",
      "metadata": {
        "id": "Ui9nW3K0_0bf",
        "colab": {
          "base_uri": "https://localhost:8080/"
        },
        "outputId": "93747f75-5b70-489f-80b2-b2cb211f315b"
      },
      "source": [
        "print(f\"Accuracy {scores[1] * 100}\")"
      ],
      "execution_count": null,
      "outputs": [
        {
          "output_type": "stream",
          "text": [
            "Accuracy 96.69930934906006\n"
          ],
          "name": "stdout"
        }
      ]
    },
    {
      "cell_type": "code",
      "metadata": {
        "id": "dJtnYTgA_06S"
      },
      "source": [
        ""
      ],
      "execution_count": null,
      "outputs": []
    },
    {
      "cell_type": "markdown",
      "metadata": {
        "id": "B0IdSKiJtzgd"
      },
      "source": [
        "#### Predykcja na zbiorze validacyjnym"
      ]
    },
    {
      "cell_type": "code",
      "metadata": {
        "colab": {
          "base_uri": "https://localhost:8080/"
        },
        "id": "27dr_LCO_1IW",
        "outputId": "0782a1cc-4e65-4be8-f091-e7720171c300"
      },
      "source": [
        "# oczysczenie danych\n",
        "data_set_valid[\"clean_text\"] = data_set_valid[\"text\"].apply(lambda x: process_text(x))\n",
        "data_set_valid[\"tokens_lemma_without_stop\"] = data_set_valid[\"clean_text\"].apply(lambda x: \" \".join([str(i.lemma_ ) for i in nlp(x) if i.lemma_  != \"-PRON-\" and i.lemma_ not in stopwords ]))\n",
        "\n",
        "# labelencoder \n",
        "data_set_valid[\"labelencoder\"] = labelencoder.fit_transform(data_set_valid[\"label\"])\n",
        "\n",
        "# tokenizacja weg przetrenowanego już tokenizera\n",
        "X_validate = tokenizer.texts_to_sequences(data_set_valid[\"clean_text\"])\n",
        "\n",
        "# pad sequel\n",
        "X_validate = pad_sequences(X_validate, padding=\"post\", truncating=\"post\", maxlen=maxlen)\n",
        "X_validate"
      ],
      "execution_count": null,
      "outputs": [
        {
          "output_type": "execute_result",
          "data": {
            "text/plain": [
              "array([[ 337,   31,    0, ...,    0,    0,    0],\n",
              "       [ 152,  210,    1, ...,    0,    0,    0],\n",
              "       [ 183,   16,   56, ...,    0,    0,    0],\n",
              "       ...,\n",
              "       [  43,    0,    0, ...,    0,    0,    0],\n",
              "       [   8,   16, 2406, ...,    0,    0,    0],\n",
              "       [  23,   19,   93, ...,    0,    0,    0]], dtype=int32)"
            ]
          },
          "metadata": {
            "tags": []
          },
          "execution_count": 24
        }
      ]
    },
    {
      "cell_type": "code",
      "metadata": {
        "colab": {
          "base_uri": "https://localhost:8080/"
        },
        "id": "UOPVqktyANNF",
        "outputId": "fd69c9e1-8a4b-4c43-863d-0fb26f9fe9dc"
      },
      "source": [
        "dummy_y_valid = data_set_valid[\"labelencoder\"].values\n",
        "dummy_y_valid[:5]"
      ],
      "execution_count": null,
      "outputs": [
        {
          "output_type": "execute_result",
          "data": {
            "text/plain": [
              "array([6, 3, 2, 0, 6])"
            ]
          },
          "metadata": {
            "tags": []
          },
          "execution_count": 25
        }
      ]
    },
    {
      "cell_type": "code",
      "metadata": {
        "colab": {
          "base_uri": "https://localhost:8080/"
        },
        "id": "NAiFC304APqL",
        "outputId": "f8dd7c50-0ed4-424d-9e1f-c5241e6670d2"
      },
      "source": [
        "# Sprawdzenie rozmiaru zbiorów validacyjnego\n",
        "X_validate.shape, dummy_y_valid.shape"
      ],
      "execution_count": null,
      "outputs": [
        {
          "output_type": "execute_result",
          "data": {
            "text/plain": [
              "((700, 13), (700,))"
            ]
          },
          "metadata": {
            "tags": []
          },
          "execution_count": 26
        }
      ]
    },
    {
      "cell_type": "code",
      "metadata": {
        "colab": {
          "base_uri": "https://localhost:8080/"
        },
        "id": "WRbEdb7AAXGy",
        "outputId": "b348e7f2-dad4-4d4d-dc0f-cad7d774839f"
      },
      "source": [
        "predicted_lstm_val = np.argmax(model.predict(X_validate), axis=-1)\n",
        "predicted_lstm_val[:5]"
      ],
      "execution_count": null,
      "outputs": [
        {
          "output_type": "execute_result",
          "data": {
            "text/plain": [
              "array([6, 3, 2, 0, 6])"
            ]
          },
          "metadata": {
            "tags": []
          },
          "execution_count": 27
        }
      ]
    },
    {
      "cell_type": "markdown",
      "metadata": {
        "id": "_5wZwn-_uKE9"
      },
      "source": [
        "#### Rozkodowanie przewidzianych i prawidłowych etykiet"
      ]
    },
    {
      "cell_type": "code",
      "metadata": {
        "colab": {
          "base_uri": "https://localhost:8080/"
        },
        "id": "G4U9hYvnBJ9F",
        "outputId": "56430f4a-2cdb-424b-caee-d9815e894bca"
      },
      "source": [
        "y_pred = labelencoder.inverse_transform(predicted_lstm_val)\n",
        "y_pred = pd.Series(y_pred)\n",
        "y_pred.head()"
      ],
      "execution_count": null,
      "outputs": [
        {
          "output_type": "execute_result",
          "data": {
            "text/plain": [
              "0    SearchScreeningEvent\n",
              "1               PlayMusic\n",
              "2              GetWeather\n",
              "3           AddToPlaylist\n",
              "4    SearchScreeningEvent\n",
              "dtype: object"
            ]
          },
          "metadata": {
            "tags": []
          },
          "execution_count": 28
        }
      ]
    },
    {
      "cell_type": "code",
      "metadata": {
        "colab": {
          "base_uri": "https://localhost:8080/"
        },
        "id": "EW03pUanA729",
        "outputId": "22f5d10e-7672-40b8-c74b-e1a58cbaf8dc"
      },
      "source": [
        "y_val = labelencoder.inverse_transform(dummy_y_valid)\n",
        "y_val = pd.Series(y_val)\n",
        "y_val.head()"
      ],
      "execution_count": null,
      "outputs": [
        {
          "output_type": "execute_result",
          "data": {
            "text/plain": [
              "0    SearchScreeningEvent\n",
              "1               PlayMusic\n",
              "2              GetWeather\n",
              "3           AddToPlaylist\n",
              "4    SearchScreeningEvent\n",
              "dtype: object"
            ]
          },
          "metadata": {
            "tags": []
          },
          "execution_count": 29
        }
      ]
    },
    {
      "cell_type": "markdown",
      "metadata": {
        "id": "RcGfyRgQudTZ"
      },
      "source": [
        "#### `Confusion matrix`"
      ]
    },
    {
      "cell_type": "code",
      "metadata": {
        "id": "GXVwswIsA9RT"
      },
      "source": [
        "from sklearn.metrics import accuracy_score, f1_score, classification_report, confusion_matrix\n",
        "%matplotlib inline\n",
        "from matplotlib import pyplot as plt\n",
        "import seaborn as sns"
      ],
      "execution_count": null,
      "outputs": []
    },
    {
      "cell_type": "code",
      "metadata": {
        "colab": {
          "base_uri": "https://localhost:8080/",
          "height": 701
        },
        "id": "fGr6-cjzBFLc",
        "outputId": "b66b3630-d3df-4195-c098-87bd8af1dc9f"
      },
      "source": [
        "classes = np.unique(y_val)\n",
        "\n",
        "print('Accuracy:', round(accuracy_score(y_val, y_pred),2))\n",
        "print('F1_score:', round(f1_score(y_val, y_pred, average='weighted'),2))\n",
        "\n",
        "print(classification_report(y_val, y_pred))\n",
        "# Plot confusion matrix\n",
        "cm = confusion_matrix(y_val, y_pred)\n",
        "fig, ax = plt.subplots()\n",
        "sns.heatmap(cm, annot=True, fmt='d', ax=ax, cmap=plt.cm.Blues, cbar=False)\n",
        "ax.set(xlabel='Pred', ylabel='True', xticklabels=classes, yticklabels=classes, title='Confusion matrix')\n",
        "plt.yticks(rotation=0)\n",
        "plt.xticks(rotation=90)"
      ],
      "execution_count": null,
      "outputs": [
        {
          "output_type": "stream",
          "text": [
            "Accuracy: 0.94\n",
            "F1_score: 0.94\n",
            "                      precision    recall  f1-score   support\n",
            "\n",
            "       AddToPlaylist       1.00      0.99      0.99       100\n",
            "      BookRestaurant       1.00      0.97      0.98       100\n",
            "          GetWeather       0.96      0.98      0.97       100\n",
            "           PlayMusic       1.00      0.94      0.97       100\n",
            "            RateBook       0.97      0.88      0.92       100\n",
            "  SearchCreativeWork       0.78      0.97      0.86       100\n",
            "SearchScreeningEvent       0.92      0.85      0.89       100\n",
            "\n",
            "            accuracy                           0.94       700\n",
            "           macro avg       0.95      0.94      0.94       700\n",
            "        weighted avg       0.95      0.94      0.94       700\n",
            "\n"
          ],
          "name": "stdout"
        },
        {
          "output_type": "execute_result",
          "data": {
            "text/plain": [
              "(array([0.5, 1.5, 2.5, 3.5, 4.5, 5.5, 6.5]),\n",
              " <a list of 7 Text major ticklabel objects>)"
            ]
          },
          "metadata": {
            "tags": []
          },
          "execution_count": 31
        },
        {
          "output_type": "display_data",
          "data": {
            "image/png": "[encoded data removed]",
            "text/plain": [
              "<Figure size 432x288 with 1 Axes>"
            ]
          },
          "metadata": {
            "tags": [],
            "needs_background": "light"
          }
        }
      ]
    },
    {
      "cell_type": "markdown",
      "metadata": {
        "id": "9uxfqF9uum32"
      },
      "source": [
        "#### Zapoznanie się z błędnymi predykcjami "
      ]
    },
    {
      "cell_type": "code",
      "metadata": {
        "colab": {
          "base_uri": "https://localhost:8080/"
        },
        "id": "28QYnOPM-mJz",
        "outputId": "fc1ac46b-a458-478d-a4bc-f320b3badf28"
      },
      "source": [
        "indexes = []\n",
        "for i, phrase in enumerate(y_pred):\n",
        "  if phrase == 'SearchCreativeWork':\n",
        "    if y_val[i] == 'SearchScreeningEvent':\n",
        "      indexes.append(i)\n",
        "print(indexes)"
      ],
      "execution_count": null,
      "outputs": [
        {
          "output_type": "stream",
          "text": [
            "[6, 125, 145, 346, 381, 519, 557, 568, 584, 590, 615, 648, 689]\n"
          ],
          "name": "stdout"
        }
      ]
    },
    {
      "cell_type": "code",
      "metadata": {
        "colab": {
          "base_uri": "https://localhost:8080/"
        },
        "id": "ouy1yzy8-048",
        "outputId": "17b1ccd5-fad7-4915-f82a-f4c1b062afdc"
      },
      "source": [
        "for i in indexes:\n",
        "  print(f\"----------------------------\\nTekst komendy:\\n{data_set_valid['text'][i]}\")\n",
        "  print(f\"Oczyszczona komenda:\\n{data_set_valid['tokens_lemma_without_stop'][i]}\")\n",
        "  print(f'True category: {y_val[i]}')\n",
        "  print(f'Predicted category: {y_pred[i]}')\n",
        "  print(\"\\n\")"
      ],
      "execution_count": null,
      "outputs": [
        {
          "output_type": "stream",
          "text": [
            "----------------------------\n",
            "Tekst komendy:\n",
            "I want to see While the Sun Shines at the closest movie house.\n",
            "Oczyszczona komenda:\n",
            "want sun shine close movie house\n",
            "True category: SearchScreeningEvent\n",
            "Predicted category: SearchCreativeWork\n",
            "\n",
            "\n",
            "----------------------------\n",
            "Tekst komendy:\n",
            "what are the times for The Gingerbread Man\n",
            "Oczyszczona komenda:\n",
            "time gingerbread man\n",
            "True category: SearchScreeningEvent\n",
            "Predicted category: SearchCreativeWork\n",
            "\n",
            "\n",
            "----------------------------\n",
            "Tekst komendy:\n",
            "I want to see Medal for the General\n",
            "Oczyszczona komenda:\n",
            "want medal general\n",
            "True category: SearchScreeningEvent\n",
            "Predicted category: SearchCreativeWork\n",
            "\n",
            "\n",
            "----------------------------\n",
            "Tekst komendy:\n",
            "I want to see Those Kids from Town, when will it be showing?\n",
            "Oczyszczona komenda:\n",
            "want kid town\n",
            "True category: SearchScreeningEvent\n",
            "Predicted category: SearchCreativeWork\n",
            "\n",
            "\n",
            "----------------------------\n",
            "Tekst komendy:\n",
            "Show me the movies at Harkins Theatres.\n",
            "Oczyszczona komenda:\n",
            "movie harkin theatre\n",
            "True category: SearchScreeningEvent\n",
            "Predicted category: SearchCreativeWork\n",
            "\n",
            "\n",
            "----------------------------\n",
            "Tekst komendy:\n",
            "i want to see JLA Adventures: Trapped In Time\n",
            "Oczyszczona komenda:\n",
            "want jla adventures trap time\n",
            "True category: SearchScreeningEvent\n",
            "Predicted category: SearchCreativeWork\n",
            "\n",
            "\n",
            "----------------------------\n",
            "Tekst komendy:\n",
            "I want to see Shattered Image.\n",
            "Oczyszczona komenda:\n",
            "want shatter image\n",
            "True category: SearchScreeningEvent\n",
            "Predicted category: SearchCreativeWork\n",
            "\n",
            "\n",
            "----------------------------\n",
            "Tekst komendy:\n",
            "Can you check the timings for Super Sweet 16: The Movie?\n",
            "Oczyszczona komenda:\n",
            "check timing super sweet movie\n",
            "True category: SearchScreeningEvent\n",
            "Predicted category: SearchCreativeWork\n",
            "\n",
            "\n",
            "----------------------------\n",
            "Tekst komendy:\n",
            "I need times for A Yiddish World Remembered at Dipson Theatres\n",
            "Oczyszczona komenda:\n",
            "need time yiddish world remember dipson theatre\n",
            "True category: SearchScreeningEvent\n",
            "Predicted category: SearchCreativeWork\n",
            "\n",
            "\n",
            "----------------------------\n",
            "Tekst komendy:\n",
            "Where can I find the movie schedules\n",
            "Oczyszczona komenda:\n",
            "find movie schedule\n",
            "True category: SearchScreeningEvent\n",
            "Predicted category: SearchCreativeWork\n",
            "\n",
            "\n",
            "----------------------------\n",
            "Tekst komendy:\n",
            "Where can I see The Prime Ministers: The Pioneers\n",
            "Oczyszczona komenda:\n",
            "prime minister pioneer\n",
            "True category: SearchScreeningEvent\n",
            "Predicted category: SearchCreativeWork\n",
            "\n",
            "\n",
            "----------------------------\n",
            "Tekst komendy:\n",
            "I want to see Outcast.\n",
            "Oczyszczona komenda:\n",
            "want outcast\n",
            "True category: SearchScreeningEvent\n",
            "Predicted category: SearchCreativeWork\n",
            "\n",
            "\n",
            "----------------------------\n",
            "Tekst komendy:\n",
            "I want to see Fear Chamber.\n",
            "Oczyszczona komenda:\n",
            "want fear chamber\n",
            "True category: SearchScreeningEvent\n",
            "Predicted category: SearchCreativeWork\n",
            "\n",
            "\n"
          ],
          "name": "stdout"
        }
      ]
    },
    {
      "cell_type": "markdown",
      "metadata": {
        "id": "IlchnRFT3XPb"
      },
      "source": [
        "\n",
        "#### Wnioski: \n",
        "> stop_words  usuneło słowa tj `show`, `see` które powtarzają się w kilku błędnie przewidzianych predykcjach. Aby przewidzieć intencje czasowniki są istotne i nie mogą zostać usunięte. \n",
        "\n"
      ]
    },
    {
      "cell_type": "code",
      "metadata": {
        "id": "09L7w_zP8rOK",
        "colab": {
          "base_uri": "https://localhost:8080/"
        },
        "outputId": "f962d9a4-11a4-4170-e133-fffe95bf7a53"
      },
      "source": [
        "doc = nlp(\"show see\")\n",
        "print(doc)\n",
        "\n",
        "[ i for i in doc if i.text in stopwords]"
      ],
      "execution_count": null,
      "outputs": [
        {
          "output_type": "stream",
          "text": [
            "show see\n"
          ],
          "name": "stdout"
        },
        {
          "output_type": "execute_result",
          "data": {
            "text/plain": [
              "[show, see]"
            ]
          },
          "metadata": {
            "tags": []
          },
          "execution_count": 34
        }
      ]
    },
    {
      "cell_type": "code",
      "metadata": {
        "id": "7ESFtxEQCgOZ",
        "colab": {
          "base_uri": "https://localhost:8080/"
        },
        "outputId": "9cb209f3-030e-4993-bd75-a91d20845604"
      },
      "source": [
        "print(stopwords)"
      ],
      "execution_count": null,
      "outputs": [
        {
          "output_type": "stream",
          "text": [
            "['least', 'third', 'thru', \"'d\", '‘ll', 'everything', 'anywhere', 'four', 'sometime', 'more', 'serious', 'wherein', 'had', '‘d', 'below', 'toward', '’re', 'into', 'thereby', 'thereupon', 'whereas', 'others', 'either', 'still', 'same', 'two', 'not', 'seemed', 'me', 'hereupon', 'thereafter', 'someone', 'will', '’s', 'against', 'yet', 'very', 'those', 'latterly', '’ve', 'none', 'bottom', 'being', 'eight', 'elsewhere', 'whom', 'see', 'nothing', 'noone', 'their', 'a', 'he', 'whither', 'various', 'twenty', 'would', 'first', 'using', 'well', 'quite', 'many', 'nowhere', 'whence', 'all', 'unless', 'it', 'among', 'amongst', '’ll', 'except', 'does', 'other', 'seems', 'which', 'by', \"'re\", 'perhaps', 'please', 'between', 'ca', 'you', 'further', 'there', 'afterwards', 'former', 'any', 'above', 'why', 'was', 'regarding', 'otherwise', 'ourselves', 'front', 'almost', 'be', 'nobody', 'each', 'become', 'its', 'how', 'so', 'whenever', 'five', 'give', 'namely', 'keep', 'nor', 'with', 'top', 'whereafter', 'fifty', 'since', 'besides', 'yourselves', 'itself', 'amount', 'made', 'used', 'mine', 'beforehand', 'about', 'i', 'due', 'move', 'doing', 'whose', 'several', 'under', 'than', 'hereby', 'who', 'beside', 'no', 'an', \"'s\", \"n't\", 'is', 'these', 'within', 'yours', 'were', 'have', 'such', 'somehow', 'forty', 'whether', 'ever', 'has', 'where', 'must', 'three', 'most', 'she', 'whatever', 'them', 'twelve', \"'ve\", 'moreover', 'also', 'cannot', 'may', 'always', 'his', 'therein', 'might', 'together', 'nine', 'even', 'her', 'before', 'few', 'full', 'put', 'take', 'are', 'beyond', 'already', '‘s', 'often', 'some', 'here', 'n‘t', 'six', 'else', 'alone', 'however', 'that', 'empty', 'meanwhile', 'or', 'down', 'another', 'did', 'through', 'back', 'every', 'next', 'somewhere', 'they', 'when', 'anyhow', '‘m', \"'m\", 'everywhere', 'both', 'can', 'say', '‘re', 'anyone', 'throughout', 'up', 'much', 'ours', 'at', 'just', 'call', 'less', 'whole', 'hence', 'herself', 'never', 'done', 'but', 'this', 'us', 'across', 'around', 'everyone', 'for', 'could', 'in', 'hereafter', 'name', 'seeming', 're', 'again', 'him', 'himself', 'towards', 'do', 'though', 'mostly', 'along', 'once', 'whereby', 'after', 'thence', 'latter', 'therefore', 'out', 'thus', 'make', 'part', 'although', 'the', 'becomes', 'enough', 'been', 'of', 'ten', 'we', 'onto', 'became', 'anything', 'anyway', 'too', 'if', 'only', 'behind', 'as', 'last', 'seem', 'our', 'my', 'sometimes', 'hundred', 'whereupon', 'show', 'to', 'n’t', 'what', 'because', 'one', 'fifteen', 'go', 'via', '’m', 'get', 'sixty', 'myself', 'hers', '’d', 'really', 'something', 'neither', 'formerly', 'over', 'your', 'side', 'am', 'herein', 'whoever', 'off', 'until', 'on', 'from', 'wherever', 'during', '‘ve', 'own', 'yourself', 'rather', \"'ll\", 'should', 'themselves', 'indeed', 'eleven', 'and', 'now', 'becoming', 'without', 'per', 'then', 'while', 'nevertheless', 'upon']\n"
          ],
          "name": "stdout"
        }
      ]
    },
    {
      "cell_type": "code",
      "metadata": {
        "id": "7yy7thSq-7Tk",
        "colab": {
          "base_uri": "https://localhost:8080/"
        },
        "outputId": "2e6068bd-58ac-4b3e-dbe9-dfea55131a1b"
      },
      "source": [
        "# sprawdzmy ile innych czasowników znajduje się w liście stopwords\n",
        "\n",
        "doc = nlp(\" \".join(stopwords))\n",
        "VERB_list_stopwords = []\n",
        "for token in doc:\n",
        "  if token.pos_ == \"VERB\":\n",
        "    VERB_list_stopwords.append(token.text)\n",
        "\n",
        "print(VERB_list_stopwords)"
      ],
      "execution_count": null,
      "outputs": [
        {
          "output_type": "stream",
          "text": [
            "['seemed', 'will', '’s', 've', 'see', 'would', 'using', '’ll', 'seems', 'ca', 'regarding', 'become', 'give', 'keep', 'made', 'doing', 'must', 'can', 'may', 'might', '‘s', 'empty', 'can', 'say', 'call', 'done', 'could', 'make', 'became', 'seem', 'show', 'n’t', 'go', 'own', \"'ll\", 'should', 'becoming']\n"
          ],
          "name": "stdout"
        }
      ]
    },
    {
      "cell_type": "markdown",
      "metadata": {
        "id": "ioUayvUoDP-D"
      },
      "source": [
        ">W liście stop_words znajdują się czasowniki, które są ważne z puntku widzenia wykrycia intencji. Dlatego trzeba je usunać z listy stop_words lub w ogole nie używać tej listy\n",
        "\n",
        "Czasowniki wydające się istotne dla wykrcia intencji z listy stop words:\n",
        "`'give',  'using', 're', 'move',  'see', 'seeming', 'say', 'doing', 'seems', 'call', 'take','show'`"
      ]
    },
    {
      "cell_type": "code",
      "metadata": {
        "id": "INKNNKPRDLnA"
      },
      "source": [
        ""
      ],
      "execution_count": null,
      "outputs": []
    }
  ]
}