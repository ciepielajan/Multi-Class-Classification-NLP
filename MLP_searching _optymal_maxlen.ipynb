{
  "nbformat": 4,
  "nbformat_minor": 0,
  "metadata": {
    "colab": {
      "name": "Detecting_intentions_MLP",
      "provenance": [],
      "collapsed_sections": [],
      "authorship_tag": "ABX9TyM/YYXggnKjJjobFYzbu6Pz",
      "include_colab_link": true
    },
    "kernelspec": {
      "name": "python3",
      "display_name": "Python 3"
    },
    "language_info": {
      "name": "python"
    }
  },
  "cells": [
    {
      "cell_type": "markdown",
      "metadata": {
        "id": "view-in-github",
        "colab_type": "text"
      },
      "source": [
        "<a href=\"https://colab.research.google.com/github/ciepielajan/Multi-Class-Classification-NLP/blob/main/Detecting_intentions_MLP_searching%20_optymal_maxlen.ipynb\" target=\"_parent\"><img src=\"https://colab.research.google.com/assets/colab-badge.svg\" alt=\"Open In Colab\"/></a>"
      ]
    },
    {
      "cell_type": "markdown",
      "metadata": {
        "id": "FeNbiQPho0OC"
      },
      "source": [
        "Detecting_intentions_MLP_searching _optymal_maxlen"
      ]
    },
    {
      "cell_type": "markdown",
      "metadata": {
        "id": "us7PJ6w-n8ge"
      },
      "source": [
        "#### Pobranie danych"
      ]
    },
    {
      "cell_type": "code",
      "metadata": {
        "colab": {
          "base_uri": "https://localhost:8080/"
        },
        "id": "cZ_7ET22CAsA",
        "outputId": "2028204b-0c7f-4cb5-a201-518cd77d29e3"
      },
      "source": [
        "# https://drive.google.com/file/d/1fI6EXyD9TMTC1jzdu206ljXOGNjdHprq/view?usp=sharing\n",
        "!gdown --id \"1fI6EXyD9TMTC1jzdu206ljXOGNjdHprq\""
      ],
      "execution_count": 1,
      "outputs": [
        {
          "output_type": "stream",
          "text": [
            "Downloading...\n",
            "From: https://drive.google.com/uc?id=1fI6EXyD9TMTC1jzdu206ljXOGNjdHprq\n",
            "To: /content/user_intent.zip\n",
            "\r  0% 0.00/271k [00:00<?, ?B/s]\r100% 271k/271k [00:00<00:00, 39.5MB/s]\n"
          ],
          "name": "stdout"
        }
      ]
    },
    {
      "cell_type": "code",
      "metadata": {
        "colab": {
          "base_uri": "https://localhost:8080/"
        },
        "id": "uWusnzuPCHqv",
        "outputId": "9566dbce-0b6e-47a7-a669-13bbfa617647"
      },
      "source": [
        "!unzip \"user_intent.zip\""
      ],
      "execution_count": 2,
      "outputs": [
        {
          "output_type": "stream",
          "text": [
            "Archive:  user_intent.zip\n",
            "  inflating: train.csv               \n",
            "  inflating: __MACOSX/._train.csv    \n",
            "  inflating: validation.csv          \n"
          ],
          "name": "stdout"
        }
      ]
    },
    {
      "cell_type": "code",
      "metadata": {
        "id": "9CI1LZgj-Kin"
      },
      "source": [
        ""
      ],
      "execution_count": 2,
      "outputs": []
    },
    {
      "cell_type": "code",
      "metadata": {
        "colab": {
          "base_uri": "https://localhost:8080/"
        },
        "id": "NUKeVYWfCOdU",
        "outputId": "f879d7a5-d75e-4dd0-fa8e-0d76aad4ff4e"
      },
      "source": [
        "import pandas as pd\n",
        "import numpy as np\n",
        "from datetime import datetime\n",
        "\n",
        "data_set_train = pd.read_csv(\"train.csv\")\n",
        "data_set_valid = pd.read_csv(\"validation.csv\")\n",
        "\n",
        "print(data_set_train.shape)\n",
        "print(data_set_valid.shape)\n",
        "\n",
        "print(data_set_train.columns)\n",
        "print(data_set_valid.columns)"
      ],
      "execution_count": 3,
      "outputs": [
        {
          "output_type": "stream",
          "text": [
            "(13784, 2)\n",
            "(700, 2)\n",
            "Index(['text', 'label'], dtype='object')\n",
            "Index(['text', 'label'], dtype='object')\n"
          ],
          "name": "stdout"
        }
      ]
    },
    {
      "cell_type": "markdown",
      "metadata": {
        "id": "8Vg1fqbGoCrp"
      },
      "source": [
        "#### Podstawowy process text"
      ]
    },
    {
      "cell_type": "code",
      "metadata": {
        "id": "5GQNuCjSlz0F"
      },
      "source": [
        "import re\n",
        "def process_text(sentence):\n",
        "    sentence = re.sub('[A-Za-z0-9]+@[a-zA-z].[a-zA-Z]+', '', sentence)  # maile\n",
        "    sentence = re.sub('(http[s]*:[/][/])[a-zA-Z0-9]+', '', sentence)  # linki\n",
        "    sentence = re.sub(r\"<[^>]+>\", \" \", sentence) # remove html tag\n",
        "    sentence = re.sub(r\"[^a-zA-Z\\s]\", \"\", sentence)  # remove punctuations and numbers   \n",
        "    sentence = re.sub(r\"\\b[A-Za-z]{1}\\b\", \"\", sentence)  # remove single characters\n",
        "\n",
        "    sentence = re.sub(\"^\\s+|\\s+$\", \"\", sentence, flags=re.UNICODE) # Remove spaces both in the BEGINNING and in the END of a string:\n",
        "    sentence = \" \".join(re.split(\"\\s+\", sentence, flags=re.UNICODE))  # Remove ONLY DUPLICATE spaces:\n",
        "    sentence = sentence.lower()\n",
        "    \n",
        "    return sentence"
      ],
      "execution_count": 4,
      "outputs": []
    },
    {
      "cell_type": "code",
      "metadata": {
        "id": "RZJOju1sFOwp"
      },
      "source": [
        "data_set_train[\"clean_text\"] = data_set_train[\"text\"].apply(lambda x: process_text(x))"
      ],
      "execution_count": 5,
      "outputs": []
    },
    {
      "cell_type": "markdown",
      "metadata": {
        "id": "p_v25o7A2CuN"
      },
      "source": [
        "#### Zapoznanie się z rozkłądem intencji\n",
        "#### Get acquainted with the distribution of words."
      ]
    },
    {
      "cell_type": "code",
      "metadata": {
        "colab": {
          "base_uri": "https://localhost:8080/"
        },
        "id": "EGzaQcG2wjW2",
        "outputId": "1be9377a-884e-413d-ce42-e00aee276b1b"
      },
      "source": [
        "df_maxlen = data_set_train['clean_text'].str.split().map(len).describe([0.75, 0.9, 0.95])\n",
        "df_maxlen"
      ],
      "execution_count": 6,
      "outputs": [
        {
          "output_type": "execute_result",
          "data": {
            "text/plain": [
              "count    13784.000000\n",
              "mean         8.135882\n",
              "std          2.847301\n",
              "min          2.000000\n",
              "50%          8.000000\n",
              "75%         10.000000\n",
              "90%         12.000000\n",
              "95%         13.000000\n",
              "max         33.000000\n",
              "Name: clean_text, dtype: float64"
            ]
          },
          "metadata": {
            "tags": []
          },
          "execution_count": 6
        }
      ]
    },
    {
      "cell_type": "code",
      "metadata": {
        "colab": {
          "base_uri": "https://localhost:8080/",
          "height": 297
        },
        "id": "8RW-llLbxxo7",
        "outputId": "1ae8adb9-ca39-4477-975f-0de2c529279d"
      },
      "source": [
        "import seaborn as sns\n",
        "sns.histplot(data_set_train['clean_text'].str.split().map(len))"
      ],
      "execution_count": 7,
      "outputs": [
        {
          "output_type": "execute_result",
          "data": {
            "text/plain": [
              "<matplotlib.axes._subplots.AxesSubplot at 0x7fae4c630dd0>"
            ]
          },
          "metadata": {
            "tags": []
          },
          "execution_count": 7
        },
        {
          "output_type": "display_data",
          "data": {
            "image/png": "[encoded data removed]",
            "text/plain": [
              "<Figure size 432x288 with 1 Axes>"
            ]
          },
          "metadata": {
            "tags": [],
            "needs_background": "light"
          }
        }
      ]
    },
    {
      "cell_type": "markdown",
      "metadata": {
        "id": "b1ZZEgUp93hY"
      },
      "source": [
        "> W dalszej analizy spradzimy najlepsze rezultaty dla intencji o długości średniej (8), maksymalnej (33) oraz stanowiącej 95% wszystkich wartości(13). 95% ponieważ między 75% a średnią różnica wynosci tylko 2 słowa. 95% jest wartościa pomiędzy średnią a max."
      ]
    },
    {
      "cell_type": "code",
      "metadata": {
        "colab": {
          "base_uri": "https://localhost:8080/"
        },
        "id": "viNm_o2J8QSq",
        "outputId": "52f50612-7e87-4f7b-b65f-14c94063306a"
      },
      "source": [
        "max_len_mean = int(df_maxlen.loc[\"mean\"])\n",
        "max_len_95 = int(df_maxlen.loc[\"95%\"])\n",
        "max_len_max = int(df_maxlen.loc[\"max\"])\n",
        "\n",
        "list_optymal_maxlen = [max_len_mean, max_len_95, max_len_max]\n",
        "print(\"lista optymal maxlen\",list_optymal_maxlen)"
      ],
      "execution_count": 8,
      "outputs": [
        {
          "output_type": "stream",
          "text": [
            "lista optymal maxlen [8, 13, 33]\n"
          ],
          "name": "stdout"
        }
      ]
    },
    {
      "cell_type": "code",
      "metadata": {
        "id": "y_Pl6eV_6sgL"
      },
      "source": [
        "# Max \n",
        "# AVG "
      ],
      "execution_count": 9,
      "outputs": []
    },
    {
      "cell_type": "markdown",
      "metadata": {
        "id": "7epaW5cXoXef"
      },
      "source": [
        "#### `LabelEncoder` oraz `to_categorical`"
      ]
    },
    {
      "cell_type": "code",
      "metadata": {
        "colab": {
          "base_uri": "https://localhost:8080/",
          "height": 198
        },
        "id": "022rNoaL-xbl",
        "outputId": "29c54327-0597-41ba-aba1-e0f4a29c9541"
      },
      "source": [
        "from sklearn.preprocessing import LabelEncoder\n",
        "from keras.utils import to_categorical \n",
        "\n",
        "\n",
        "labelencoder = LabelEncoder()\n",
        "data_set_train[\"labelencoder\"] = labelencoder.fit_transform(data_set_train[\"label\"])\n",
        "\n",
        "dummy_y = to_categorical(data_set_train[\"labelencoder\"], dtype =\"float32\")\n",
        "\n",
        "data_set_train[[\"clean_text\",\"label\",\"labelencoder\"]].head(5)"
      ],
      "execution_count": 10,
      "outputs": [
        {
          "output_type": "execute_result",
          "data": {
            "text/html": [
              "<div>\n",
              "<style scoped>\n",
              "    .dataframe tbody tr th:only-of-type {\n",
              "        vertical-align: middle;\n",
              "    }\n",
              "\n",
              "    .dataframe tbody tr th {\n",
              "        vertical-align: top;\n",
              "    }\n",
              "\n",
              "    .dataframe thead th {\n",
              "        text-align: right;\n",
              "    }\n",
              "</style>\n",
              "<table border=\"1\" class=\"dataframe\">\n",
              "  <thead>\n",
              "    <tr style=\"text-align: right;\">\n",
              "      <th></th>\n",
              "      <th>clean_text</th>\n",
              "      <th>label</th>\n",
              "      <th>labelencoder</th>\n",
              "    </tr>\n",
              "  </thead>\n",
              "  <tbody>\n",
              "    <tr>\n",
              "      <th>0</th>\n",
              "      <td>find cinema nearest for films</td>\n",
              "      <td>SearchScreeningEvent</td>\n",
              "      <td>6</td>\n",
              "    </tr>\n",
              "    <tr>\n",
              "      <th>1</th>\n",
              "      <td>give the current series two stars</td>\n",
              "      <td>RateBook</td>\n",
              "      <td>4</td>\n",
              "    </tr>\n",
              "    <tr>\n",
              "      <th>2</th>\n",
              "      <td>find the good girl at movie house</td>\n",
              "      <td>SearchScreeningEvent</td>\n",
              "      <td>6</td>\n",
              "    </tr>\n",
              "    <tr>\n",
              "      <th>3</th>\n",
              "      <td>please make reservations for three at kosher t...</td>\n",
              "      <td>BookRestaurant</td>\n",
              "      <td>1</td>\n",
              "    </tr>\n",
              "    <tr>\n",
              "      <th>4</th>\n",
              "      <td>what is the forecast for here one second from now</td>\n",
              "      <td>GetWeather</td>\n",
              "      <td>2</td>\n",
              "    </tr>\n",
              "  </tbody>\n",
              "</table>\n",
              "</div>"
            ],
            "text/plain": [
              "                                          clean_text  ... labelencoder\n",
              "0                      find cinema nearest for films  ...            6\n",
              "1                  give the current series two stars  ...            4\n",
              "2                  find the good girl at movie house  ...            6\n",
              "3  please make reservations for three at kosher t...  ...            1\n",
              "4  what is the forecast for here one second from now  ...            2\n",
              "\n",
              "[5 rows x 3 columns]"
            ]
          },
          "metadata": {
            "tags": []
          },
          "execution_count": 10
        }
      ]
    },
    {
      "cell_type": "code",
      "metadata": {
        "colab": {
          "base_uri": "https://localhost:8080/"
        },
        "id": "-RfsD1LSpSag",
        "outputId": "738d36db-e6a4-42a0-c978-6b9cb62af950"
      },
      "source": [
        "dummy_y.shape"
      ],
      "execution_count": 11,
      "outputs": [
        {
          "output_type": "execute_result",
          "data": {
            "text/plain": [
              "(13784, 7)"
            ]
          },
          "metadata": {
            "tags": []
          },
          "execution_count": 11
        }
      ]
    },
    {
      "cell_type": "code",
      "metadata": {
        "colab": {
          "base_uri": "https://localhost:8080/"
        },
        "id": "S4dq1macoeQC",
        "outputId": "185a933e-75e3-482e-ba40-f19169902c04"
      },
      "source": [
        "id_intention = 6\n",
        "print(\"Sprawdzenie poprawności LabelEncoder i to_categorical \\n\")\n",
        "print(\"Label - \", data_set_train[\"label\"].iloc[id_intention])\n",
        "print(\"LabelEncoder - \", data_set_train[\"labelencoder\"].iloc[id_intention])\n",
        "print()\n",
        "print(\"to_categorical - \", dummy_y[id_intention])\n",
        "print()\n",
        "print(\"return to LabelEncoder - \",np.argmax(dummy_y[id_intention], axis=-1))\n",
        "print(\"return to Label - \",labelencoder.inverse_transform([np.argmax(dummy_y[id_intention], axis=-1)]))"
      ],
      "execution_count": 12,
      "outputs": [
        {
          "output_type": "stream",
          "text": [
            "Sprawdzenie poprawności LabelEncoder i to_categorical \n",
            "\n",
            "Label -  BookRestaurant\n",
            "LabelEncoder -  1\n",
            "\n",
            "to_categorical -  [0. 1. 0. 0. 0. 0. 0.]\n",
            "\n",
            "return to LabelEncoder -  1\n",
            "return to Label -  ['BookRestaurant']\n"
          ],
          "name": "stdout"
        }
      ]
    },
    {
      "cell_type": "markdown",
      "metadata": {
        "id": "-lZTDFgGoSmT"
      },
      "source": [
        "#### Zdefiniowanie X i y"
      ]
    },
    {
      "cell_type": "code",
      "metadata": {
        "id": "JWd9mEjfBAS2"
      },
      "source": [
        "X = data_set_train[\"clean_text\"]\n",
        "y = dummy_y"
      ],
      "execution_count": 13,
      "outputs": []
    },
    {
      "cell_type": "markdown",
      "metadata": {
        "id": "pbeVSdurn-Ap"
      },
      "source": [
        "#### Searching  optymal maxlen"
      ]
    },
    {
      "cell_type": "code",
      "metadata": {
        "id": "Phq0-K2Q0ZIc"
      },
      "source": [
        "from sklearn.model_selection import train_test_split"
      ],
      "execution_count": 14,
      "outputs": []
    },
    {
      "cell_type": "code",
      "metadata": {
        "id": "PaRWehbu_VCe"
      },
      "source": [
        "from keras.models import Sequential\n",
        "from keras.layers import Flatten, SimpleRNN, Dense\n",
        "from keras.layers.embeddings import Embedding\n",
        "from keras.models import Model\n",
        "from tensorflow.keras.callbacks import EarlyStopping\n",
        "\n",
        "from keras.preprocessing.sequence import pad_sequences\n",
        "from keras.preprocessing.text import Tokenizer\n",
        "\n",
        "from keras.models import load_model"
      ],
      "execution_count": 16,
      "outputs": []
    },
    {
      "cell_type": "code",
      "metadata": {
        "colab": {
          "base_uri": "https://localhost:8080/",
          "height": 48
        },
        "id": "Xu1nek1pwwnN",
        "outputId": "9b335cfa-37c6-4e7c-d524-271160cc4f7b"
      },
      "source": [
        "# df z wynikami  \n",
        "wyniki = pd.DataFrame(columns=[\"maxlen\",\"Accuracy\",\"model_name\"])\n",
        "wyniki"
      ],
      "execution_count": 17,
      "outputs": [
        {
          "output_type": "execute_result",
          "data": {
            "text/html": [
              "<div>\n",
              "<style scoped>\n",
              "    .dataframe tbody tr th:only-of-type {\n",
              "        vertical-align: middle;\n",
              "    }\n",
              "\n",
              "    .dataframe tbody tr th {\n",
              "        vertical-align: top;\n",
              "    }\n",
              "\n",
              "    .dataframe thead th {\n",
              "        text-align: right;\n",
              "    }\n",
              "</style>\n",
              "<table border=\"1\" class=\"dataframe\">\n",
              "  <thead>\n",
              "    <tr style=\"text-align: right;\">\n",
              "      <th></th>\n",
              "      <th>maxlen</th>\n",
              "      <th>Accuracy</th>\n",
              "      <th>model_name</th>\n",
              "    </tr>\n",
              "  </thead>\n",
              "  <tbody>\n",
              "  </tbody>\n",
              "</table>\n",
              "</div>"
            ],
            "text/plain": [
              "Empty DataFrame\n",
              "Columns: [maxlen, Accuracy, model_name]\n",
              "Index: []"
            ]
          },
          "metadata": {
            "tags": []
          },
          "execution_count": 17
        }
      ]
    },
    {
      "cell_type": "code",
      "metadata": {
        "colab": {
          "base_uri": "https://localhost:8080/"
        },
        "id": "xu6-ABhE_dvs",
        "outputId": "ad732b18-2751-4f0b-ee84-3aa3996c9494"
      },
      "source": [
        "list_optymal_maxlen"
      ],
      "execution_count": 18,
      "outputs": [
        {
          "output_type": "execute_result",
          "data": {
            "text/plain": [
              "[8, 13, 33]"
            ]
          },
          "metadata": {
            "tags": []
          },
          "execution_count": 18
        }
      ]
    },
    {
      "cell_type": "code",
      "metadata": {
        "id": "U-ihmlc-s6QG",
        "colab": {
          "base_uri": "https://localhost:8080/"
        },
        "outputId": "38ff48c0-c44e-48ae-938a-017a1f52203f"
      },
      "source": [
        "for maxlen in list_optymal_maxlen:\n",
        "  # Zdefiniowanie X i y\n",
        "  X = data_set_train[\"clean_text\"]\n",
        "  y = dummy_y\n",
        "\n",
        "  #podział na zbiór train i test\n",
        "  X_train, X_test, y_train, y_test = train_test_split(X, y, test_size=0.2, random_state=42)\n",
        "\n",
        "  # `Tokenizer` i `pad_sequences`\n",
        "  tokenizer = Tokenizer(num_words=5000)\n",
        "  tokenizer.fit_on_texts(X_train)\n",
        "\n",
        "  X_train = tokenizer.texts_to_sequences(X_train)\n",
        "  X_test = tokenizer.texts_to_sequences(X_test)\n",
        "\n",
        "  vocab_size = len(tokenizer.word_index) + 1\n",
        "\n",
        "  X_train = pad_sequences(X_train, padding=\"post\", truncating=\"post\", maxlen=maxlen)\n",
        "  X_test = pad_sequences(X_test, padding=\"post\", truncating=\"post\", maxlen=maxlen)\n",
        "\n",
        "  model = Sequential()\n",
        "  model.add(Embedding(vocab_size, 100, input_length=maxlen))  \n",
        "  model.add(Flatten())\n",
        "  model.add(Dense(7, activation=\"softmax\")) # sigmoid / softmax\n",
        "  model.compile(loss=\"categorical_crossentropy\", optimizer=\"adam\", metrics=[\"accuracy\"])\n",
        "  print(model.summary())\n",
        "\n",
        "  EarlyStop = EarlyStopping(monitor='val_loss', \n",
        "                            patience=5,\n",
        "                            verbose=1)\n",
        "\n",
        "  history = model.fit(X_train, \n",
        "                      y_train, \n",
        "                      epochs=30, \n",
        "                      batch_size=64, \n",
        "                      validation_split=0.2, \n",
        "                      callbacks = [EarlyStop] )\n",
        "  scores = model.evaluate(X_test, y_test)\n",
        "  print(f\"Accuracy {scores[1] * 100}\")\n",
        "  \n",
        "  #save and del model \n",
        "  model.save(f'model_maxlen_{maxlen}.h5')  # creates a HDF5 file 'my_model.h5'\n",
        "  del model  # deletes the existing model\n",
        "\n",
        "  wyniki = wyniki.append({\"maxlen\":maxlen ,\"Accuracy\":scores[1] * 100,\"model_name\":f'model_maxlen_{maxlen}'},ignore_index=True)\n",
        "\n",
        "  \n",
        "  print(\"\\n=======================================================\\n\")"
      ],
      "execution_count": 19,
      "outputs": [
        {
          "output_type": "stream",
          "text": [
            "Model: \"sequential\"\n",
            "_________________________________________________________________\n",
            "Layer (type)                 Output Shape              Param #   \n",
            "=================================================================\n",
            "embedding (Embedding)        (None, 8, 100)            976800    \n",
            "_________________________________________________________________\n",
            "flatten (Flatten)            (None, 800)               0         \n",
            "_________________________________________________________________\n",
            "dense (Dense)                (None, 7)                 5607      \n",
            "=================================================================\n",
            "Total params: 982,407\n",
            "Trainable params: 982,407\n",
            "Non-trainable params: 0\n",
            "_________________________________________________________________\n",
            "None\n",
            "Epoch 1/30\n",
            "138/138 [==============================] - 3s 16ms/step - loss: 1.5886 - accuracy: 0.6644 - val_loss: 0.3926 - val_accuracy: 0.9479\n",
            "Epoch 2/30\n",
            "138/138 [==============================] - 2s 12ms/step - loss: 0.2780 - accuracy: 0.9589 - val_loss: 0.1536 - val_accuracy: 0.9683\n",
            "Epoch 3/30\n",
            "138/138 [==============================] - 2s 12ms/step - loss: 0.1013 - accuracy: 0.9852 - val_loss: 0.1070 - val_accuracy: 0.9733\n",
            "Epoch 4/30\n",
            "138/138 [==============================] - 2s 12ms/step - loss: 0.0620 - accuracy: 0.9903 - val_loss: 0.0882 - val_accuracy: 0.9764\n",
            "Epoch 5/30\n",
            "138/138 [==============================] - 2s 13ms/step - loss: 0.0368 - accuracy: 0.9952 - val_loss: 0.0790 - val_accuracy: 0.9760\n",
            "Epoch 6/30\n",
            "138/138 [==============================] - 2s 12ms/step - loss: 0.0257 - accuracy: 0.9964 - val_loss: 0.0740 - val_accuracy: 0.9769\n",
            "Epoch 7/30\n",
            "138/138 [==============================] - 2s 12ms/step - loss: 0.0215 - accuracy: 0.9962 - val_loss: 0.0710 - val_accuracy: 0.9773\n",
            "Epoch 8/30\n",
            "138/138 [==============================] - 2s 12ms/step - loss: 0.0143 - accuracy: 0.9979 - val_loss: 0.0685 - val_accuracy: 0.9764\n",
            "Epoch 9/30\n",
            "138/138 [==============================] - 2s 12ms/step - loss: 0.0112 - accuracy: 0.9991 - val_loss: 0.0678 - val_accuracy: 0.9773\n",
            "Epoch 10/30\n",
            "138/138 [==============================] - 2s 12ms/step - loss: 0.0084 - accuracy: 0.9989 - val_loss: 0.0666 - val_accuracy: 0.9778\n",
            "Epoch 11/30\n",
            "138/138 [==============================] - 2s 13ms/step - loss: 0.0068 - accuracy: 0.9994 - val_loss: 0.0662 - val_accuracy: 0.9782\n",
            "Epoch 12/30\n",
            "138/138 [==============================] - 2s 12ms/step - loss: 0.0060 - accuracy: 0.9996 - val_loss: 0.0661 - val_accuracy: 0.9787\n",
            "Epoch 13/30\n",
            "138/138 [==============================] - 2s 12ms/step - loss: 0.0051 - accuracy: 0.9998 - val_loss: 0.0655 - val_accuracy: 0.9782\n",
            "Epoch 14/30\n",
            "138/138 [==============================] - 2s 13ms/step - loss: 0.0040 - accuracy: 0.9997 - val_loss: 0.0658 - val_accuracy: 0.9782\n",
            "Epoch 15/30\n",
            "138/138 [==============================] - 2s 12ms/step - loss: 0.0038 - accuracy: 0.9998 - val_loss: 0.0661 - val_accuracy: 0.9782\n",
            "Epoch 16/30\n",
            "138/138 [==============================] - 2s 12ms/step - loss: 0.0034 - accuracy: 0.9993 - val_loss: 0.0664 - val_accuracy: 0.9782\n",
            "Epoch 17/30\n",
            "138/138 [==============================] - 2s 13ms/step - loss: 0.0031 - accuracy: 0.9995 - val_loss: 0.0675 - val_accuracy: 0.9787\n",
            "Epoch 18/30\n",
            "138/138 [==============================] - 2s 13ms/step - loss: 0.0021 - accuracy: 1.0000 - val_loss: 0.0681 - val_accuracy: 0.9782\n",
            "Epoch 00018: early stopping\n",
            "87/87 [==============================] - 0s 1ms/step - loss: 0.0496 - accuracy: 0.9830\n",
            "Accuracy 98.29524755477905\n",
            "\n",
            "=======================================================\n",
            "\n",
            "Model: \"sequential_1\"\n",
            "_________________________________________________________________\n",
            "Layer (type)                 Output Shape              Param #   \n",
            "=================================================================\n",
            "embedding_1 (Embedding)      (None, 13, 100)           976800    \n",
            "_________________________________________________________________\n",
            "flatten_1 (Flatten)          (None, 1300)              0         \n",
            "_________________________________________________________________\n",
            "dense_1 (Dense)              (None, 7)                 9107      \n",
            "=================================================================\n",
            "Total params: 985,907\n",
            "Trainable params: 985,907\n",
            "Non-trainable params: 0\n",
            "_________________________________________________________________\n",
            "None\n",
            "Epoch 1/30\n",
            "138/138 [==============================] - 2s 15ms/step - loss: 1.5755 - accuracy: 0.6537 - val_loss: 0.3509 - val_accuracy: 0.9465\n",
            "Epoch 2/30\n",
            "138/138 [==============================] - 2s 13ms/step - loss: 0.2456 - accuracy: 0.9642 - val_loss: 0.1378 - val_accuracy: 0.9696\n",
            "Epoch 3/30\n",
            "138/138 [==============================] - 2s 13ms/step - loss: 0.0947 - accuracy: 0.9831 - val_loss: 0.0953 - val_accuracy: 0.9782\n",
            "Epoch 4/30\n",
            "138/138 [==============================] - 2s 13ms/step - loss: 0.0500 - accuracy: 0.9912 - val_loss: 0.0789 - val_accuracy: 0.9791\n",
            "Epoch 5/30\n",
            "138/138 [==============================] - 2s 13ms/step - loss: 0.0313 - accuracy: 0.9950 - val_loss: 0.0702 - val_accuracy: 0.9801\n",
            "Epoch 6/30\n",
            "138/138 [==============================] - 2s 14ms/step - loss: 0.0251 - accuracy: 0.9949 - val_loss: 0.0657 - val_accuracy: 0.9810\n",
            "Epoch 7/30\n",
            "138/138 [==============================] - 2s 13ms/step - loss: 0.0190 - accuracy: 0.9963 - val_loss: 0.0622 - val_accuracy: 0.9819\n",
            "Epoch 8/30\n",
            "138/138 [==============================] - 2s 13ms/step - loss: 0.0130 - accuracy: 0.9982 - val_loss: 0.0606 - val_accuracy: 0.9814\n",
            "Epoch 9/30\n",
            "138/138 [==============================] - 2s 14ms/step - loss: 0.0109 - accuracy: 0.9976 - val_loss: 0.0594 - val_accuracy: 0.9832\n",
            "Epoch 10/30\n",
            "138/138 [==============================] - 2s 14ms/step - loss: 0.0087 - accuracy: 0.9990 - val_loss: 0.0580 - val_accuracy: 0.9828\n",
            "Epoch 11/30\n",
            "138/138 [==============================] - 2s 14ms/step - loss: 0.0066 - accuracy: 0.9997 - val_loss: 0.0580 - val_accuracy: 0.9823\n",
            "Epoch 12/30\n",
            "138/138 [==============================] - 2s 13ms/step - loss: 0.0056 - accuracy: 0.9996 - val_loss: 0.0587 - val_accuracy: 0.9828\n",
            "Epoch 13/30\n",
            "138/138 [==============================] - 2s 13ms/step - loss: 0.0047 - accuracy: 0.9996 - val_loss: 0.0585 - val_accuracy: 0.9832\n",
            "Epoch 14/30\n",
            "138/138 [==============================] - 2s 13ms/step - loss: 0.0042 - accuracy: 0.9996 - val_loss: 0.0576 - val_accuracy: 0.9828\n",
            "Epoch 15/30\n",
            "138/138 [==============================] - 2s 13ms/step - loss: 0.0035 - accuracy: 0.9998 - val_loss: 0.0584 - val_accuracy: 0.9828\n",
            "Epoch 16/30\n",
            "138/138 [==============================] - 2s 13ms/step - loss: 0.0031 - accuracy: 0.9997 - val_loss: 0.0598 - val_accuracy: 0.9832\n",
            "Epoch 17/30\n",
            "138/138 [==============================] - 2s 13ms/step - loss: 0.0025 - accuracy: 1.0000 - val_loss: 0.0602 - val_accuracy: 0.9828\n",
            "Epoch 18/30\n",
            "138/138 [==============================] - 2s 13ms/step - loss: 0.0022 - accuracy: 0.9999 - val_loss: 0.0601 - val_accuracy: 0.9828\n",
            "Epoch 19/30\n",
            "138/138 [==============================] - 2s 13ms/step - loss: 0.0016 - accuracy: 1.0000 - val_loss: 0.0610 - val_accuracy: 0.9828\n",
            "Epoch 00019: early stopping\n",
            "87/87 [==============================] - 0s 1ms/step - loss: 0.0487 - accuracy: 0.9837\n",
            "Accuracy 98.36779236793518\n",
            "\n",
            "=======================================================\n",
            "\n",
            "Model: \"sequential_2\"\n",
            "_________________________________________________________________\n",
            "Layer (type)                 Output Shape              Param #   \n",
            "=================================================================\n",
            "embedding_2 (Embedding)      (None, 33, 100)           976800    \n",
            "_________________________________________________________________\n",
            "flatten_2 (Flatten)          (None, 3300)              0         \n",
            "_________________________________________________________________\n",
            "dense_2 (Dense)              (None, 7)                 23107     \n",
            "=================================================================\n",
            "Total params: 999,907\n",
            "Trainable params: 999,907\n",
            "Non-trainable params: 0\n",
            "_________________________________________________________________\n",
            "None\n",
            "Epoch 1/30\n",
            "138/138 [==============================] - 3s 16ms/step - loss: 1.6027 - accuracy: 0.5308 - val_loss: 0.3300 - val_accuracy: 0.9524\n",
            "Epoch 2/30\n",
            "138/138 [==============================] - 2s 15ms/step - loss: 0.2414 - accuracy: 0.9620 - val_loss: 0.1287 - val_accuracy: 0.9737\n",
            "Epoch 3/30\n",
            "138/138 [==============================] - 2s 14ms/step - loss: 0.0850 - accuracy: 0.9856 - val_loss: 0.0903 - val_accuracy: 0.9796\n",
            "Epoch 4/30\n",
            "138/138 [==============================] - 2s 14ms/step - loss: 0.0472 - accuracy: 0.9920 - val_loss: 0.0761 - val_accuracy: 0.9796\n",
            "Epoch 5/30\n",
            "138/138 [==============================] - 2s 14ms/step - loss: 0.0321 - accuracy: 0.9943 - val_loss: 0.0687 - val_accuracy: 0.9819\n",
            "Epoch 6/30\n",
            "138/138 [==============================] - 2s 15ms/step - loss: 0.0239 - accuracy: 0.9953 - val_loss: 0.0640 - val_accuracy: 0.9814\n",
            "Epoch 7/30\n",
            "138/138 [==============================] - 2s 14ms/step - loss: 0.0179 - accuracy: 0.9972 - val_loss: 0.0613 - val_accuracy: 0.9819\n",
            "Epoch 8/30\n",
            "138/138 [==============================] - 2s 14ms/step - loss: 0.0138 - accuracy: 0.9980 - val_loss: 0.0603 - val_accuracy: 0.9814\n",
            "Epoch 9/30\n",
            "138/138 [==============================] - 2s 14ms/step - loss: 0.0097 - accuracy: 0.9989 - val_loss: 0.0582 - val_accuracy: 0.9832\n",
            "Epoch 10/30\n",
            "138/138 [==============================] - 2s 15ms/step - loss: 0.0086 - accuracy: 0.9987 - val_loss: 0.0576 - val_accuracy: 0.9828\n",
            "Epoch 11/30\n",
            "138/138 [==============================] - 2s 14ms/step - loss: 0.0069 - accuracy: 0.9992 - val_loss: 0.0577 - val_accuracy: 0.9828\n",
            "Epoch 12/30\n",
            "138/138 [==============================] - 2s 14ms/step - loss: 0.0048 - accuracy: 0.9998 - val_loss: 0.0587 - val_accuracy: 0.9832\n",
            "Epoch 13/30\n",
            "138/138 [==============================] - 2s 14ms/step - loss: 0.0045 - accuracy: 0.9999 - val_loss: 0.0590 - val_accuracy: 0.9823\n",
            "Epoch 14/30\n",
            "138/138 [==============================] - 2s 14ms/step - loss: 0.0034 - accuracy: 0.9999 - val_loss: 0.0585 - val_accuracy: 0.9823\n",
            "Epoch 15/30\n",
            "138/138 [==============================] - 2s 14ms/step - loss: 0.0032 - accuracy: 1.0000 - val_loss: 0.0582 - val_accuracy: 0.9823\n",
            "Epoch 00015: early stopping\n",
            "87/87 [==============================] - 0s 1ms/step - loss: 0.0471 - accuracy: 0.9833\n",
            "Accuracy 98.33151698112488\n",
            "\n",
            "=======================================================\n",
            "\n"
          ],
          "name": "stdout"
        }
      ]
    },
    {
      "cell_type": "code",
      "metadata": {
        "id": "dJtnYTgA_06S",
        "colab": {
          "base_uri": "https://localhost:8080/",
          "height": 138
        },
        "outputId": "225e84c5-9f29-4ae4-97c3-c3b5cf5fc448"
      },
      "source": [
        "wyniki"
      ],
      "execution_count": 20,
      "outputs": [
        {
          "output_type": "execute_result",
          "data": {
            "text/html": [
              "<div>\n",
              "<style scoped>\n",
              "    .dataframe tbody tr th:only-of-type {\n",
              "        vertical-align: middle;\n",
              "    }\n",
              "\n",
              "    .dataframe tbody tr th {\n",
              "        vertical-align: top;\n",
              "    }\n",
              "\n",
              "    .dataframe thead th {\n",
              "        text-align: right;\n",
              "    }\n",
              "</style>\n",
              "<table border=\"1\" class=\"dataframe\">\n",
              "  <thead>\n",
              "    <tr style=\"text-align: right;\">\n",
              "      <th></th>\n",
              "      <th>maxlen</th>\n",
              "      <th>Accuracy</th>\n",
              "      <th>model_name</th>\n",
              "    </tr>\n",
              "  </thead>\n",
              "  <tbody>\n",
              "    <tr>\n",
              "      <th>0</th>\n",
              "      <td>8</td>\n",
              "      <td>98.295248</td>\n",
              "      <td>model_maxlen_8</td>\n",
              "    </tr>\n",
              "    <tr>\n",
              "      <th>1</th>\n",
              "      <td>13</td>\n",
              "      <td>98.367792</td>\n",
              "      <td>model_maxlen_13</td>\n",
              "    </tr>\n",
              "    <tr>\n",
              "      <th>2</th>\n",
              "      <td>33</td>\n",
              "      <td>98.331517</td>\n",
              "      <td>model_maxlen_33</td>\n",
              "    </tr>\n",
              "  </tbody>\n",
              "</table>\n",
              "</div>"
            ],
            "text/plain": [
              "  maxlen   Accuracy       model_name\n",
              "0      8  98.295248   model_maxlen_8\n",
              "1     13  98.367792  model_maxlen_13\n",
              "2     33  98.331517  model_maxlen_33"
            ]
          },
          "metadata": {
            "tags": []
          },
          "execution_count": 20
        }
      ]
    },
    {
      "cell_type": "markdown",
      "metadata": {
        "id": "gRRUi8vl_h15"
      },
      "source": [
        "#### Wyłonienie najlepszego maxlen"
      ]
    },
    {
      "cell_type": "code",
      "metadata": {
        "colab": {
          "base_uri": "https://localhost:8080/"
        },
        "id": "82L-Ne9uDfmw",
        "outputId": "c931f5f4-3881-4a03-fb5f-ab8ab37628a9"
      },
      "source": [
        "maxlen_index = wyniki[wyniki[\"Accuracy\"] == wyniki[\"Accuracy\"].max()].index[0]  # index pierwszego najlepszego wyniku dla Accuracy\n",
        "maxlen = int(wyniki[\"maxlen\"].iloc[maxlen_index]) # pobranie maxlen dla wskazanego indexu\n",
        "model_name = wyniki[\"model_name\"].iloc[maxlen_index] # pobranie nazwy modelu dla wskazanego indexu\n",
        "\n",
        "wyniki.iloc[maxlen_index]"
      ],
      "execution_count": 26,
      "outputs": [
        {
          "output_type": "execute_result",
          "data": {
            "text/plain": [
              "maxlen                     13\n",
              "Accuracy              98.3678\n",
              "model_name    model_maxlen_13\n",
              "Name: 1, dtype: object"
            ]
          },
          "metadata": {
            "tags": []
          },
          "execution_count": 26
        }
      ]
    },
    {
      "cell_type": "markdown",
      "metadata": {
        "id": "_i5_jTVUKbZS"
      },
      "source": [
        "#### Wczytanie modelu z największym accuracy "
      ]
    },
    {
      "cell_type": "code",
      "metadata": {
        "colab": {
          "base_uri": "https://localhost:8080/"
        },
        "id": "tO5ar_LSThtM",
        "outputId": "2a366827-1933-4299-ddcd-daf041c9dfb5"
      },
      "source": [
        "model = load_model(f'{model_name}.h5')\n",
        "model.summary()"
      ],
      "execution_count": 27,
      "outputs": [
        {
          "output_type": "stream",
          "text": [
            "Model: \"sequential_1\"\n",
            "_________________________________________________________________\n",
            "Layer (type)                 Output Shape              Param #   \n",
            "=================================================================\n",
            "embedding_1 (Embedding)      (None, 13, 100)           976800    \n",
            "_________________________________________________________________\n",
            "flatten_1 (Flatten)          (None, 1300)              0         \n",
            "_________________________________________________________________\n",
            "dense_1 (Dense)              (None, 7)                 9107      \n",
            "=================================================================\n",
            "Total params: 985,907\n",
            "Trainable params: 985,907\n",
            "Non-trainable params: 0\n",
            "_________________________________________________________________\n"
          ],
          "name": "stdout"
        }
      ]
    },
    {
      "cell_type": "markdown",
      "metadata": {
        "id": "B0IdSKiJtzgd"
      },
      "source": [
        "#### Predykcja na zbiorze validacyjnym"
      ]
    },
    {
      "cell_type": "code",
      "metadata": {
        "colab": {
          "base_uri": "https://localhost:8080/"
        },
        "id": "27dr_LCO_1IW",
        "outputId": "568e26dd-087f-433b-8e21-4054c7455854"
      },
      "source": [
        "# oczysczenie danych\n",
        "data_set_valid[\"clean_text\"] = data_set_valid[\"text\"].apply(lambda x: process_text(x))\n",
        "\n",
        "# labelencoder \n",
        "data_set_valid[\"labelencoder\"] = labelencoder.fit_transform(data_set_valid[\"label\"])\n",
        "\n",
        "# tokenizacja weg przetrenowanego już tokenizera\n",
        "X_validate = tokenizer.texts_to_sequences(data_set_valid[\"clean_text\"])\n",
        "\n",
        "# pad sequel\n",
        "X_validate = pad_sequences(X_validate, padding=\"post\", truncating=\"post\", maxlen=maxlen)\n",
        "X_validate"
      ],
      "execution_count": 28,
      "outputs": [
        {
          "output_type": "execute_result",
          "data": {
            "text/plain": [
              "array([[ 15,  42,  50, ...,   0,   0,   0],\n",
              "       [241, 177,  21, ...,   0,   0,   0],\n",
              "       [ 15,   8,   1, ...,   2, 174, 997],\n",
              "       ...,\n",
              "       [ 28,   1,  84, ...,   0,   0,   0],\n",
              "       [ 15,   8,   1, ...,   0,   0,   0],\n",
              "       [ 45,  40,   4, ...,   0,   0,   0]], dtype=int32)"
            ]
          },
          "metadata": {
            "tags": []
          },
          "execution_count": 28
        }
      ]
    },
    {
      "cell_type": "code",
      "metadata": {
        "colab": {
          "base_uri": "https://localhost:8080/"
        },
        "id": "UOPVqktyANNF",
        "outputId": "c753dc73-a328-41b5-d516-94f11e7b0a45"
      },
      "source": [
        "dummy_y_valid = data_set_valid[\"labelencoder\"].values\n",
        "dummy_y_valid[:5]"
      ],
      "execution_count": 29,
      "outputs": [
        {
          "output_type": "execute_result",
          "data": {
            "text/plain": [
              "array([6, 3, 2, 0, 6])"
            ]
          },
          "metadata": {
            "tags": []
          },
          "execution_count": 29
        }
      ]
    },
    {
      "cell_type": "code",
      "metadata": {
        "colab": {
          "base_uri": "https://localhost:8080/"
        },
        "id": "NAiFC304APqL",
        "outputId": "b37ca46c-01e7-472e-cc12-da966da9163b"
      },
      "source": [
        "# Sprawdzenie rozmiaru zbiorów validacyjnego\n",
        "X_validate.shape, dummy_y_valid.shape"
      ],
      "execution_count": 30,
      "outputs": [
        {
          "output_type": "execute_result",
          "data": {
            "text/plain": [
              "((700, 13), (700,))"
            ]
          },
          "metadata": {
            "tags": []
          },
          "execution_count": 30
        }
      ]
    },
    {
      "cell_type": "code",
      "metadata": {
        "colab": {
          "base_uri": "https://localhost:8080/"
        },
        "id": "WRbEdb7AAXGy",
        "outputId": "49ac20af-4a43-4f82-ca1d-ef6a48a06954"
      },
      "source": [
        "predicted_lstm_val = np.argmax(model.predict(X_validate), axis=-1)\n",
        "predicted_lstm_val[:5]"
      ],
      "execution_count": 31,
      "outputs": [
        {
          "output_type": "execute_result",
          "data": {
            "text/plain": [
              "array([6, 3, 2, 0, 6])"
            ]
          },
          "metadata": {
            "tags": []
          },
          "execution_count": 31
        }
      ]
    },
    {
      "cell_type": "markdown",
      "metadata": {
        "id": "_5wZwn-_uKE9"
      },
      "source": [
        "#### Rozkodowanie przewidzianych i prawidłowych etykiet"
      ]
    },
    {
      "cell_type": "code",
      "metadata": {
        "colab": {
          "base_uri": "https://localhost:8080/"
        },
        "id": "G4U9hYvnBJ9F",
        "outputId": "6b2a7824-1198-49e9-ff6a-ecfba6ae39c3"
      },
      "source": [
        "y_pred = labelencoder.inverse_transform(predicted_lstm_val)\n",
        "y_pred = pd.Series(y_pred)\n",
        "y_pred.head()"
      ],
      "execution_count": 32,
      "outputs": [
        {
          "output_type": "execute_result",
          "data": {
            "text/plain": [
              "0    SearchScreeningEvent\n",
              "1               PlayMusic\n",
              "2              GetWeather\n",
              "3           AddToPlaylist\n",
              "4    SearchScreeningEvent\n",
              "dtype: object"
            ]
          },
          "metadata": {
            "tags": []
          },
          "execution_count": 32
        }
      ]
    },
    {
      "cell_type": "code",
      "metadata": {
        "colab": {
          "base_uri": "https://localhost:8080/"
        },
        "id": "EW03pUanA729",
        "outputId": "2012aeb4-6d4f-4592-ce0d-2304bb3b8d1c"
      },
      "source": [
        "y_val = labelencoder.inverse_transform(dummy_y_valid)\n",
        "y_val = pd.Series(y_val)\n",
        "y_val.head()"
      ],
      "execution_count": 33,
      "outputs": [
        {
          "output_type": "execute_result",
          "data": {
            "text/plain": [
              "0    SearchScreeningEvent\n",
              "1               PlayMusic\n",
              "2              GetWeather\n",
              "3           AddToPlaylist\n",
              "4    SearchScreeningEvent\n",
              "dtype: object"
            ]
          },
          "metadata": {
            "tags": []
          },
          "execution_count": 33
        }
      ]
    },
    {
      "cell_type": "markdown",
      "metadata": {
        "id": "RcGfyRgQudTZ"
      },
      "source": [
        "#### `Confusion matrix`"
      ]
    },
    {
      "cell_type": "code",
      "metadata": {
        "id": "GXVwswIsA9RT"
      },
      "source": [
        "from sklearn.metrics import accuracy_score, f1_score, classification_report, confusion_matrix\n",
        "%matplotlib inline\n",
        "from matplotlib import pyplot as plt\n",
        "import seaborn as sns"
      ],
      "execution_count": 34,
      "outputs": []
    },
    {
      "cell_type": "code",
      "metadata": {
        "colab": {
          "base_uri": "https://localhost:8080/",
          "height": 709
        },
        "id": "fGr6-cjzBFLc",
        "outputId": "e480ad54-2689-442d-89b5-d6e7e8bcfecf"
      },
      "source": [
        "classes = np.unique(y_val)\n",
        "\n",
        "print('Accuracy:', round(accuracy_score(y_val, y_pred),2))\n",
        "print('F1_score:', round(f1_score(y_val, y_pred, average='weighted'),2))\n",
        "\n",
        "print(classification_report(y_val, y_pred))\n",
        "# Plot confusion matrix\n",
        "cm = confusion_matrix(y_val, y_pred)\n",
        "fig, ax = plt.subplots()\n",
        "sns.heatmap(cm, annot=True, fmt='d', ax=ax, cmap=plt.cm.Blues, cbar=False)\n",
        "ax.set(xlabel='Pred', ylabel='True', xticklabels=classes, yticklabels=classes, title='Confusion matrix')\n",
        "plt.yticks(rotation=0)\n",
        "plt.xticks(rotation=90)"
      ],
      "execution_count": 35,
      "outputs": [
        {
          "output_type": "stream",
          "text": [
            "Accuracy: 0.98\n",
            "F1_score: 0.98\n",
            "                      precision    recall  f1-score   support\n",
            "\n",
            "       AddToPlaylist       0.98      1.00      0.99       100\n",
            "      BookRestaurant       1.00      0.99      0.99       100\n",
            "          GetWeather       0.99      0.99      0.99       100\n",
            "           PlayMusic       1.00      0.97      0.98       100\n",
            "            RateBook       1.00      1.00      1.00       100\n",
            "  SearchCreativeWork       0.92      1.00      0.96       100\n",
            "SearchScreeningEvent       1.00      0.93      0.96       100\n",
            "\n",
            "            accuracy                           0.98       700\n",
            "           macro avg       0.98      0.98      0.98       700\n",
            "        weighted avg       0.98      0.98      0.98       700\n",
            "\n"
          ],
          "name": "stdout"
        },
        {
          "output_type": "execute_result",
          "data": {
            "text/plain": [
              "(array([0.5, 1.5, 2.5, 3.5, 4.5, 5.5, 6.5]),\n",
              " <a list of 7 Text major ticklabel objects>)"
            ]
          },
          "metadata": {
            "tags": []
          },
          "execution_count": 35
        },
        {
          "output_type": "display_data",
          "data": {
            "image/png": "[encoded data removed]",
            "text/plain": [
              "<Figure size 432x288 with 1 Axes>"
            ]
          },
          "metadata": {
            "tags": [],
            "needs_background": "light"
          }
        }
      ]
    },
    {
      "cell_type": "markdown",
      "metadata": {
        "id": "9uxfqF9uum32"
      },
      "source": [
        "#### Zapoznanie się z błędnymi predykcjami "
      ]
    },
    {
      "cell_type": "code",
      "metadata": {
        "colab": {
          "base_uri": "https://localhost:8080/"
        },
        "id": "28QYnOPM-mJz",
        "outputId": "00216a62-29d8-4491-b444-bdc88a05d608"
      },
      "source": [
        "indexes = []\n",
        "for i, phrase in enumerate(y_pred):\n",
        "  if phrase == 'SearchCreativeWork':\n",
        "    if y_val[i] == 'SearchScreeningEvent':\n",
        "      indexes.append(i)\n",
        "print(indexes)"
      ],
      "execution_count": 36,
      "outputs": [
        {
          "output_type": "stream",
          "text": [
            "[451, 519, 557, 568, 615, 648, 689]\n"
          ],
          "name": "stdout"
        }
      ]
    },
    {
      "cell_type": "code",
      "metadata": {
        "colab": {
          "base_uri": "https://localhost:8080/"
        },
        "id": "ouy1yzy8-048",
        "outputId": "c041da7e-477a-4d83-9949-40f90c3fbbec"
      },
      "source": [
        "for i in indexes:\n",
        "  print(f\"----------------------------\\nTekst komendy id {i}:\\n{data_set_valid['text'][i]}\")\n",
        "  print(f\"Oczyszczona komenda i skrócona do wartości maxlen={maxlen}:\\n{' '.join(data_set_valid['clean_text'][i].split()[:maxlen])}\")\n",
        "  print(f'True category: {y_val[i]}')\n",
        "  print(f'Predicted category: {y_pred[i]}')\n",
        "  print(\"\\n\")"
      ],
      "execution_count": 38,
      "outputs": [
        {
          "output_type": "stream",
          "text": [
            "----------------------------\n",
            "Tekst komendy id 451:\n",
            "Can I see Ellis Island Revisited in 1 minute\n",
            "Oczyszczona komenda i skrócona do wartości maxlen=13:\n",
            "can see ellis island revisited in minute\n",
            "True category: SearchScreeningEvent\n",
            "Predicted category: SearchCreativeWork\n",
            "\n",
            "\n",
            "----------------------------\n",
            "Tekst komendy id 519:\n",
            "i want to see JLA Adventures: Trapped In Time\n",
            "Oczyszczona komenda i skrócona do wartości maxlen=13:\n",
            "want to see jla adventures trapped in time\n",
            "True category: SearchScreeningEvent\n",
            "Predicted category: SearchCreativeWork\n",
            "\n",
            "\n",
            "----------------------------\n",
            "Tekst komendy id 557:\n",
            "I want to see Shattered Image.\n",
            "Oczyszczona komenda i skrócona do wartości maxlen=13:\n",
            "want to see shattered image\n",
            "True category: SearchScreeningEvent\n",
            "Predicted category: SearchCreativeWork\n",
            "\n",
            "\n",
            "----------------------------\n",
            "Tekst komendy id 568:\n",
            "Can you check the timings for Super Sweet 16: The Movie?\n",
            "Oczyszczona komenda i skrócona do wartości maxlen=13:\n",
            "can you check the timings for super sweet the movie\n",
            "True category: SearchScreeningEvent\n",
            "Predicted category: SearchCreativeWork\n",
            "\n",
            "\n",
            "----------------------------\n",
            "Tekst komendy id 615:\n",
            "Where can I see The Prime Ministers: The Pioneers\n",
            "Oczyszczona komenda i skrócona do wartości maxlen=13:\n",
            "where can see the prime ministers the pioneers\n",
            "True category: SearchScreeningEvent\n",
            "Predicted category: SearchCreativeWork\n",
            "\n",
            "\n",
            "----------------------------\n",
            "Tekst komendy id 648:\n",
            "I want to see Outcast.\n",
            "Oczyszczona komenda i skrócona do wartości maxlen=13:\n",
            "want to see outcast\n",
            "True category: SearchScreeningEvent\n",
            "Predicted category: SearchCreativeWork\n",
            "\n",
            "\n",
            "----------------------------\n",
            "Tekst komendy id 689:\n",
            "I want to see Fear Chamber.\n",
            "Oczyszczona komenda i skrócona do wartości maxlen=13:\n",
            "want to see fear chamber\n",
            "True category: SearchScreeningEvent\n",
            "Predicted category: SearchCreativeWork\n",
            "\n",
            "\n"
          ],
          "name": "stdout"
        }
      ]
    },
    {
      "cell_type": "markdown",
      "metadata": {
        "id": "lm61MY9CSpLm"
      },
      "source": [
        "Wnioski:\n",
        "> Najlepszy wynik Accuracy: 0.98 i  F1_score: 0.98 osiągneliśmy na parametrze `maxlen` o wartości 13 ( czyli ilość słow która określa 95% wszystkich intencji w zbiorze)"
      ]
    },
    {
      "cell_type": "code",
      "metadata": {
        "colab": {
          "base_uri": "https://localhost:8080/"
        },
        "id": "qs6mCBahWmhY",
        "outputId": "9eebaeb2-22a8-46dd-c286-bc0eff189cb4"
      },
      "source": [
        "print(wyniki.to_markdown())"
      ],
      "execution_count": 41,
      "outputs": [
        {
          "output_type": "stream",
          "text": [
            "|    |   maxlen |   Accuracy | model_name      |\n",
            "|---:|---------:|-----------:|:----------------|\n",
            "|  0 |        8 |    98.2952 | model_maxlen_8  |\n",
            "|  1 |       13 |    98.3678 | model_maxlen_13 |\n",
            "|  2 |       33 |    98.3315 | model_maxlen_33 |\n"
          ],
          "name": "stdout"
        }
      ]
    },
    {
      "cell_type": "code",
      "metadata": {
        "id": "EGTbKWZQYpWG"
      },
      "source": [
        ""
      ],
      "execution_count": null,
      "outputs": []
    }
  ]
}
