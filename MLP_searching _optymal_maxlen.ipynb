{
  "nbformat": 4,
  "nbformat_minor": 0,
  "metadata": {
    "colab": {
      "name": "Detecting_intentions_MLP",
      "provenance": [],
      "collapsed_sections": [],
      "authorship_tag": "ABX9TyPIINuKnMwMSYoq96hzoTRg",
      "include_colab_link": true
    },
    "kernelspec": {
      "name": "python3",
      "display_name": "Python 3"
    },
    "language_info": {
      "name": "python"
    }
  },
  "cells": [
    {
      "cell_type": "markdown",
      "metadata": {
        "id": "view-in-github",
        "colab_type": "text"
      },
      "source": [
        "<a href=\"https://colab.research.google.com/github/ciepielajan/Multi-Class-Classification-NLP/blob/main/MLP_searching%20_optymal_maxlen.ipynb\" target=\"_parent\"><img src=\"https://colab.research.google.com/assets/colab-badge.svg\" alt=\"Open In Colab\"/></a>"
      ]
    },
    {
      "cell_type": "markdown",
      "metadata": {
        "id": "FeNbiQPho0OC"
      },
      "source": [
        "MLP_searching _optymal_maxlen"
      ]
    },
    {
      "cell_type": "markdown",
      "metadata": {
        "id": "us7PJ6w-n8ge"
      },
      "source": [
        "#### Pobranie danych"
      ]
    },
    {
      "cell_type": "code",
      "metadata": {
        "colab": {
          "base_uri": "https://localhost:8080/"
        },
        "id": "cZ_7ET22CAsA",
        "outputId": "b9bb6871-f4bf-441b-beaf-c8941d7c06de"
      },
      "source": [
        "# https://drive.google.com/file/d/1fI6EXyD9TMTC1jzdu206ljXOGNjdHprq/view?usp=sharing\n",
        "!gdown --id \"1fI6EXyD9TMTC1jzdu206ljXOGNjdHprq\""
      ],
      "execution_count": 1,
      "outputs": [
        {
          "output_type": "stream",
          "text": [
            "Downloading...\n",
            "From: https://drive.google.com/uc?id=1fI6EXyD9TMTC1jzdu206ljXOGNjdHprq\n",
            "To: /content/user_intent.zip\n",
            "\r  0% 0.00/271k [00:00<?, ?B/s]\r100% 271k/271k [00:00<00:00, 39.6MB/s]\n"
          ],
          "name": "stdout"
        }
      ]
    },
    {
      "cell_type": "code",
      "metadata": {
        "colab": {
          "base_uri": "https://localhost:8080/"
        },
        "id": "uWusnzuPCHqv",
        "outputId": "fa68070d-bdd5-48d6-f975-7eeb9138917e"
      },
      "source": [
        "!unzip \"user_intent.zip\""
      ],
      "execution_count": 2,
      "outputs": [
        {
          "output_type": "stream",
          "text": [
            "Archive:  user_intent.zip\n",
            "  inflating: train.csv               \n",
            "  inflating: __MACOSX/._train.csv    \n",
            "  inflating: validation.csv          \n"
          ],
          "name": "stdout"
        }
      ]
    },
    {
      "cell_type": "code",
      "metadata": {
        "id": "9CI1LZgj-Kin"
      },
      "source": [
        ""
      ],
      "execution_count": 2,
      "outputs": []
    },
    {
      "cell_type": "code",
      "metadata": {
        "colab": {
          "base_uri": "https://localhost:8080/"
        },
        "id": "NUKeVYWfCOdU",
        "outputId": "ccbb6012-d6e0-4f0d-b7aa-e1489a8614e9"
      },
      "source": [
        "import pandas as pd\n",
        "import numpy as np\n",
        "from datetime import datetime\n",
        "\n",
        "data_set_train = pd.read_csv(\"train.csv\")\n",
        "data_set_valid = pd.read_csv(\"validation.csv\")\n",
        "\n",
        "print(data_set_train.shape)\n",
        "print(data_set_valid.shape)\n",
        "\n",
        "print(data_set_train.columns)\n",
        "print(data_set_valid.columns)"
      ],
      "execution_count": 3,
      "outputs": [
        {
          "output_type": "stream",
          "text": [
            "(13784, 2)\n",
            "(700, 2)\n",
            "Index(['text', 'label'], dtype='object')\n",
            "Index(['text', 'label'], dtype='object')\n"
          ],
          "name": "stdout"
        }
      ]
    },
    {
      "cell_type": "markdown",
      "metadata": {
        "id": "8Vg1fqbGoCrp"
      },
      "source": [
        "#### Podstawowy process text"
      ]
    },
    {
      "cell_type": "code",
      "metadata": {
        "id": "5GQNuCjSlz0F"
      },
      "source": [
        "import re\n",
        "def process_text(sentence):\n",
        "    sentence = re.sub('[A-Za-z0-9]+@[a-zA-z].[a-zA-Z]+', '', sentence)  # maile\n",
        "    sentence = re.sub('(http[s]*:[/][/])[a-zA-Z0-9]+', '', sentence)  # linki\n",
        "    sentence = re.sub(r\"<[^>]+>\", \" \", sentence) # remove html tag\n",
        "    sentence = re.sub(r\"[^a-zA-Z\\s]\", \"\", sentence)  # remove punctuations and numbers   \n",
        "    sentence = re.sub(r\"\\b[A-Za-z]{1}\\b\", \"\", sentence)  # remove single characters\n",
        "\n",
        "    sentence = re.sub(\"^\\s+|\\s+$\", \"\", sentence, flags=re.UNICODE) # Remove spaces both in the BEGINNING and in the END of a string:\n",
        "    sentence = \" \".join(re.split(\"\\s+\", sentence, flags=re.UNICODE))  # Remove ONLY DUPLICATE spaces:\n",
        "    sentence = sentence.lower()\n",
        "    \n",
        "    return sentence"
      ],
      "execution_count": 4,
      "outputs": []
    },
    {
      "cell_type": "code",
      "metadata": {
        "id": "RZJOju1sFOwp"
      },
      "source": [
        "data_set_train[\"clean_text\"] = data_set_train[\"text\"].apply(lambda x: process_text(x))"
      ],
      "execution_count": 5,
      "outputs": []
    },
    {
      "cell_type": "markdown",
      "metadata": {
        "id": "p_v25o7A2CuN"
      },
      "source": [
        "#### Zapoznanie się z rozkłądem intencji\n",
        "#### Get acquainted with the distribution of words."
      ]
    },
    {
      "cell_type": "code",
      "metadata": {
        "colab": {
          "base_uri": "https://localhost:8080/"
        },
        "id": "EGzaQcG2wjW2",
        "outputId": "83387c40-d846-4835-bc9c-2c49d126fcd6"
      },
      "source": [
        "df_maxlen = data_set_train['clean_text'].str.split().map(len).describe([0.75, 0.9, 0.95])\n",
        "df_maxlen"
      ],
      "execution_count": 6,
      "outputs": [
        {
          "output_type": "execute_result",
          "data": {
            "text/plain": [
              "count    13784.000000\n",
              "mean         8.135882\n",
              "std          2.847301\n",
              "min          2.000000\n",
              "50%          8.000000\n",
              "75%         10.000000\n",
              "90%         12.000000\n",
              "95%         13.000000\n",
              "max         33.000000\n",
              "Name: clean_text, dtype: float64"
            ]
          },
          "metadata": {
            "tags": []
          },
          "execution_count": 6
        }
      ]
    },
    {
      "cell_type": "code",
      "metadata": {
        "colab": {
          "base_uri": "https://localhost:8080/",
          "height": 297
        },
        "id": "8RW-llLbxxo7",
        "outputId": "196c4d74-b6d3-4beb-e21b-bb50b139c407"
      },
      "source": [
        "import seaborn as sns\n",
        "sns.histplot(data_set_train['clean_text'].str.split().map(len))"
      ],
      "execution_count": 7,
      "outputs": [
        {
          "output_type": "execute_result",
          "data": {
            "text/plain": [
              "<matplotlib.axes._subplots.AxesSubplot at 0x7f0a67dcaed0>"
            ]
          },
          "metadata": {
            "tags": []
          },
          "execution_count": 7
        },
        {
          "output_type": "display_data",
          "data": {
            "image/png": "[encoded data removed]",
            "text/plain": [
              "<Figure size 432x288 with 1 Axes>"
            ]
          },
          "metadata": {
            "tags": [],
            "needs_background": "light"
          }
        }
      ]
    },
    {
      "cell_type": "markdown",
      "metadata": {
        "id": "b1ZZEgUp93hY"
      },
      "source": [
        "> W dalszej analizy spradzimy najlepsze rezultaty dla intencji o długości: \n",
        "('min', 2), ('50%', 8), ('75%', 10), ('90%', 12), ('95%', 13), ('max', 33)"
      ]
    },
    {
      "cell_type": "code",
      "metadata": {
        "colab": {
          "base_uri": "https://localhost:8080/"
        },
        "id": "viNm_o2J8QSq",
        "outputId": "99563d4a-b727-480d-daae-905097290c52"
      },
      "source": [
        "list_optymal_maxlen = df_maxlen.map(int).values[3:].tolist()\n",
        "print(\"lista optymal maxlen\",list_optymal_maxlen)"
      ],
      "execution_count": 8,
      "outputs": [
        {
          "output_type": "stream",
          "text": [
            "lista optymal maxlen [2, 8, 10, 12, 13, 33]\n"
          ],
          "name": "stdout"
        }
      ]
    },
    {
      "cell_type": "code",
      "metadata": {
        "id": "y_Pl6eV_6sgL"
      },
      "source": [
        "# Max \n",
        "# AVG "
      ],
      "execution_count": 9,
      "outputs": []
    },
    {
      "cell_type": "markdown",
      "metadata": {
        "id": "7epaW5cXoXef"
      },
      "source": [
        "#### `LabelEncoder` oraz `to_categorical`"
      ]
    },
    {
      "cell_type": "code",
      "metadata": {
        "colab": {
          "base_uri": "https://localhost:8080/",
          "height": 195
        },
        "id": "022rNoaL-xbl",
        "outputId": "8eff7186-24c0-447b-a8a9-c28d6ebb9bb4"
      },
      "source": [
        "from sklearn.preprocessing import LabelEncoder\n",
        "from keras.utils import to_categorical \n",
        "\n",
        "\n",
        "labelencoder = LabelEncoder()\n",
        "data_set_train[\"labelencoder\"] = labelencoder.fit_transform(data_set_train[\"label\"])\n",
        "\n",
        "dummy_y = to_categorical(data_set_train[\"labelencoder\"], dtype =\"float32\")\n",
        "\n",
        "data_set_train[[\"clean_text\",\"label\",\"labelencoder\"]].head(5)"
      ],
      "execution_count": 10,
      "outputs": [
        {
          "output_type": "execute_result",
          "data": {
            "text/html": [
              "<div>\n",
              "<style scoped>\n",
              "    .dataframe tbody tr th:only-of-type {\n",
              "        vertical-align: middle;\n",
              "    }\n",
              "\n",
              "    .dataframe tbody tr th {\n",
              "        vertical-align: top;\n",
              "    }\n",
              "\n",
              "    .dataframe thead th {\n",
              "        text-align: right;\n",
              "    }\n",
              "</style>\n",
              "<table border=\"1\" class=\"dataframe\">\n",
              "  <thead>\n",
              "    <tr style=\"text-align: right;\">\n",
              "      <th></th>\n",
              "      <th>clean_text</th>\n",
              "      <th>label</th>\n",
              "      <th>labelencoder</th>\n",
              "    </tr>\n",
              "  </thead>\n",
              "  <tbody>\n",
              "    <tr>\n",
              "      <th>0</th>\n",
              "      <td>find cinema nearest for films</td>\n",
              "      <td>SearchScreeningEvent</td>\n",
              "      <td>6</td>\n",
              "    </tr>\n",
              "    <tr>\n",
              "      <th>1</th>\n",
              "      <td>give the current series two stars</td>\n",
              "      <td>RateBook</td>\n",
              "      <td>4</td>\n",
              "    </tr>\n",
              "    <tr>\n",
              "      <th>2</th>\n",
              "      <td>find the good girl at movie house</td>\n",
              "      <td>SearchScreeningEvent</td>\n",
              "      <td>6</td>\n",
              "    </tr>\n",
              "    <tr>\n",
              "      <th>3</th>\n",
              "      <td>please make reservations for three at kosher t...</td>\n",
              "      <td>BookRestaurant</td>\n",
              "      <td>1</td>\n",
              "    </tr>\n",
              "    <tr>\n",
              "      <th>4</th>\n",
              "      <td>what is the forecast for here one second from now</td>\n",
              "      <td>GetWeather</td>\n",
              "      <td>2</td>\n",
              "    </tr>\n",
              "  </tbody>\n",
              "</table>\n",
              "</div>"
            ],
            "text/plain": [
              "                                          clean_text  ... labelencoder\n",
              "0                      find cinema nearest for films  ...            6\n",
              "1                  give the current series two stars  ...            4\n",
              "2                  find the good girl at movie house  ...            6\n",
              "3  please make reservations for three at kosher t...  ...            1\n",
              "4  what is the forecast for here one second from now  ...            2\n",
              "\n",
              "[5 rows x 3 columns]"
            ]
          },
          "metadata": {
            "tags": []
          },
          "execution_count": 10
        }
      ]
    },
    {
      "cell_type": "code",
      "metadata": {
        "colab": {
          "base_uri": "https://localhost:8080/"
        },
        "id": "-RfsD1LSpSag",
        "outputId": "f7cf256d-f869-48ea-cf7f-4cfaac050faf"
      },
      "source": [
        "dummy_y.shape"
      ],
      "execution_count": 11,
      "outputs": [
        {
          "output_type": "execute_result",
          "data": {
            "text/plain": [
              "(13784, 7)"
            ]
          },
          "metadata": {
            "tags": []
          },
          "execution_count": 11
        }
      ]
    },
    {
      "cell_type": "code",
      "metadata": {
        "colab": {
          "base_uri": "https://localhost:8080/"
        },
        "id": "S4dq1macoeQC",
        "outputId": "ea983bd2-8033-4e46-a933-54740cc0d0e1"
      },
      "source": [
        "id_intention = 6\n",
        "print(\"Sprawdzenie poprawności LabelEncoder i to_categorical \\n\")\n",
        "print(\"Label - \", data_set_train[\"label\"].iloc[id_intention])\n",
        "print(\"LabelEncoder - \", data_set_train[\"labelencoder\"].iloc[id_intention])\n",
        "print()\n",
        "print(\"to_categorical - \", dummy_y[id_intention])\n",
        "print()\n",
        "print(\"return to LabelEncoder - \",np.argmax(dummy_y[id_intention], axis=-1))\n",
        "print(\"return to Label - \",labelencoder.inverse_transform([np.argmax(dummy_y[id_intention], axis=-1)]))"
      ],
      "execution_count": 12,
      "outputs": [
        {
          "output_type": "stream",
          "text": [
            "Sprawdzenie poprawności LabelEncoder i to_categorical \n",
            "\n",
            "Label -  BookRestaurant\n",
            "LabelEncoder -  1\n",
            "\n",
            "to_categorical -  [0. 1. 0. 0. 0. 0. 0.]\n",
            "\n",
            "return to LabelEncoder -  1\n",
            "return to Label -  ['BookRestaurant']\n"
          ],
          "name": "stdout"
        }
      ]
    },
    {
      "cell_type": "markdown",
      "metadata": {
        "id": "-lZTDFgGoSmT"
      },
      "source": [
        "#### Zdefiniowanie X i y"
      ]
    },
    {
      "cell_type": "code",
      "metadata": {
        "id": "JWd9mEjfBAS2"
      },
      "source": [
        "X = data_set_train[\"clean_text\"]\n",
        "y = dummy_y"
      ],
      "execution_count": 13,
      "outputs": []
    },
    {
      "cell_type": "markdown",
      "metadata": {
        "id": "pbeVSdurn-Ap"
      },
      "source": [
        "#### Searching  optymal maxlen"
      ]
    },
    {
      "cell_type": "code",
      "metadata": {
        "id": "Phq0-K2Q0ZIc"
      },
      "source": [
        "from sklearn.model_selection import train_test_split"
      ],
      "execution_count": 14,
      "outputs": []
    },
    {
      "cell_type": "code",
      "metadata": {
        "id": "PaRWehbu_VCe"
      },
      "source": [
        "from keras.models import Sequential\n",
        "from keras.layers import Flatten, SimpleRNN, Dense\n",
        "from keras.layers.embeddings import Embedding\n",
        "from keras.models import Model\n",
        "from tensorflow.keras.callbacks import EarlyStopping\n",
        "\n",
        "from keras.preprocessing.sequence import pad_sequences\n",
        "from keras.preprocessing.text import Tokenizer\n",
        "\n",
        "from keras.models import load_model"
      ],
      "execution_count": 15,
      "outputs": []
    },
    {
      "cell_type": "code",
      "metadata": {
        "colab": {
          "base_uri": "https://localhost:8080/",
          "height": 47
        },
        "id": "Xu1nek1pwwnN",
        "outputId": "ce0867b5-76f0-4714-8a92-a89ff3d12851"
      },
      "source": [
        "# df z wynikami  \n",
        "wyniki = pd.DataFrame(columns=[\"maxlen\",\"Accuracy\",\"model_name\"])\n",
        "wyniki"
      ],
      "execution_count": 16,
      "outputs": [
        {
          "output_type": "execute_result",
          "data": {
            "text/html": [
              "<div>\n",
              "<style scoped>\n",
              "    .dataframe tbody tr th:only-of-type {\n",
              "        vertical-align: middle;\n",
              "    }\n",
              "\n",
              "    .dataframe tbody tr th {\n",
              "        vertical-align: top;\n",
              "    }\n",
              "\n",
              "    .dataframe thead th {\n",
              "        text-align: right;\n",
              "    }\n",
              "</style>\n",
              "<table border=\"1\" class=\"dataframe\">\n",
              "  <thead>\n",
              "    <tr style=\"text-align: right;\">\n",
              "      <th></th>\n",
              "      <th>maxlen</th>\n",
              "      <th>Accuracy</th>\n",
              "      <th>model_name</th>\n",
              "    </tr>\n",
              "  </thead>\n",
              "  <tbody>\n",
              "  </tbody>\n",
              "</table>\n",
              "</div>"
            ],
            "text/plain": [
              "Empty DataFrame\n",
              "Columns: [maxlen, Accuracy, model_name]\n",
              "Index: []"
            ]
          },
          "metadata": {
            "tags": []
          },
          "execution_count": 16
        }
      ]
    },
    {
      "cell_type": "code",
      "metadata": {
        "id": "U-ihmlc-s6QG",
        "colab": {
          "base_uri": "https://localhost:8080/"
        },
        "outputId": "7f436b62-d95c-4510-d348-08e0b7641ef7"
      },
      "source": [
        "for maxlen in list_optymal_maxlen:\n",
        "  # Zdefiniowanie X i y\n",
        "  X = data_set_train[\"clean_text\"]\n",
        "  y = dummy_y\n",
        "\n",
        "  #podział na zbiór train i test\n",
        "  X_train, X_test, y_train, y_test = train_test_split(X, y, test_size=0.2, random_state=42)\n",
        "\n",
        "  # `Tokenizer` i `pad_sequences`\n",
        "  tokenizer = Tokenizer(num_words=5000)\n",
        "  tokenizer.fit_on_texts(X_train)\n",
        "\n",
        "  X_train = tokenizer.texts_to_sequences(X_train)\n",
        "  X_test = tokenizer.texts_to_sequences(X_test)\n",
        "\n",
        "  vocab_size = len(tokenizer.word_index) + 1\n",
        "\n",
        "  X_train = pad_sequences(X_train, padding=\"post\", truncating=\"post\", maxlen=maxlen)\n",
        "  X_test = pad_sequences(X_test, padding=\"post\", truncating=\"post\", maxlen=maxlen)\n",
        "\n",
        "  model = Sequential()\n",
        "  model.add(Embedding(vocab_size, 100, input_length=maxlen))  \n",
        "  model.add(Flatten())\n",
        "  model.add(Dense(7, activation=\"softmax\")) # sigmoid / softmax\n",
        "  model.compile(loss=\"categorical_crossentropy\", optimizer=\"adam\", metrics=[\"accuracy\"])\n",
        "  print(model.summary())\n",
        "\n",
        "  EarlyStop = EarlyStopping(monitor='val_loss', \n",
        "                            patience=5,\n",
        "                            verbose=1)\n",
        "\n",
        "  history = model.fit(X_train, \n",
        "                      y_train, \n",
        "                      epochs=30, \n",
        "                      batch_size=64, \n",
        "                      validation_split=0.2, \n",
        "                      callbacks = [EarlyStop] )\n",
        "  scores = model.evaluate(X_test, y_test)\n",
        "  print(f\"Accuracy {scores[1] * 100}\")\n",
        "  \n",
        "  #save and del model \n",
        "  model.save(f'model_maxlen_{maxlen}.h5')  # creates a HDF5 file 'my_model.h5'\n",
        "  del model  # deletes the existing model\n",
        "\n",
        "  wyniki = wyniki.append({\"maxlen\":maxlen ,\"Accuracy\":scores[1] * 100,\"model_name\":f'model_maxlen_{maxlen}'},ignore_index=True)\n",
        "\n",
        "  \n",
        "  print(\"\\n=======================================================\\n\")"
      ],
      "execution_count": 18,
      "outputs": [
        {
          "output_type": "stream",
          "text": [
            "Model: \"sequential\"\n",
            "_________________________________________________________________\n",
            "Layer (type)                 Output Shape              Param #   \n",
            "=================================================================\n",
            "embedding (Embedding)        (None, 2, 100)            976800    \n",
            "_________________________________________________________________\n",
            "flatten (Flatten)            (None, 200)               0         \n",
            "_________________________________________________________________\n",
            "dense (Dense)                (None, 7)                 1407      \n",
            "=================================================================\n",
            "Total params: 978,207\n",
            "Trainable params: 978,207\n",
            "Non-trainable params: 0\n",
            "_________________________________________________________________\n",
            "None\n",
            "Epoch 1/30\n",
            "138/138 [==============================] - 4s 25ms/step - loss: 1.6453 - accuracy: 0.6598 - val_loss: 0.7135 - val_accuracy: 0.8187\n",
            "Epoch 2/30\n",
            "138/138 [==============================] - 3s 23ms/step - loss: 0.6159 - accuracy: 0.8259 - val_loss: 0.4985 - val_accuracy: 0.8318\n",
            "Epoch 3/30\n",
            "138/138 [==============================] - 3s 23ms/step - loss: 0.4555 - accuracy: 0.8516 - val_loss: 0.4496 - val_accuracy: 0.8445\n",
            "Epoch 4/30\n",
            "138/138 [==============================] - 3s 21ms/step - loss: 0.4090 - accuracy: 0.8590 - val_loss: 0.4270 - val_accuracy: 0.8504\n",
            "Epoch 5/30\n",
            "138/138 [==============================] - 3s 22ms/step - loss: 0.3847 - accuracy: 0.8587 - val_loss: 0.4163 - val_accuracy: 0.8545\n",
            "Epoch 6/30\n",
            "138/138 [==============================] - 3s 22ms/step - loss: 0.3677 - accuracy: 0.8675 - val_loss: 0.4090 - val_accuracy: 0.8513\n",
            "Epoch 7/30\n",
            "138/138 [==============================] - 3s 21ms/step - loss: 0.3537 - accuracy: 0.8631 - val_loss: 0.4054 - val_accuracy: 0.8554\n",
            "Epoch 8/30\n",
            "138/138 [==============================] - 3s 21ms/step - loss: 0.3443 - accuracy: 0.8702 - val_loss: 0.4038 - val_accuracy: 0.8554\n",
            "Epoch 9/30\n",
            "138/138 [==============================] - 3s 22ms/step - loss: 0.3479 - accuracy: 0.8673 - val_loss: 0.4038 - val_accuracy: 0.8563\n",
            "Epoch 10/30\n",
            "138/138 [==============================] - 3s 22ms/step - loss: 0.3409 - accuracy: 0.8681 - val_loss: 0.4025 - val_accuracy: 0.8549\n",
            "Epoch 11/30\n",
            "138/138 [==============================] - 3s 22ms/step - loss: 0.3389 - accuracy: 0.8687 - val_loss: 0.4018 - val_accuracy: 0.8558\n",
            "Epoch 12/30\n",
            "138/138 [==============================] - 3s 21ms/step - loss: 0.3222 - accuracy: 0.8792 - val_loss: 0.4041 - val_accuracy: 0.8527\n",
            "Epoch 13/30\n",
            "138/138 [==============================] - 3s 21ms/step - loss: 0.3325 - accuracy: 0.8705 - val_loss: 0.4036 - val_accuracy: 0.8577\n",
            "Epoch 14/30\n",
            "138/138 [==============================] - 3s 21ms/step - loss: 0.3247 - accuracy: 0.8718 - val_loss: 0.4038 - val_accuracy: 0.8577\n",
            "Epoch 15/30\n",
            "138/138 [==============================] - 3s 22ms/step - loss: 0.3102 - accuracy: 0.8787 - val_loss: 0.4059 - val_accuracy: 0.8586\n",
            "Epoch 16/30\n",
            "138/138 [==============================] - 3s 22ms/step - loss: 0.3366 - accuracy: 0.8725 - val_loss: 0.4062 - val_accuracy: 0.8590\n",
            "Epoch 00016: early stopping\n",
            "87/87 [==============================] - 0s 1ms/step - loss: 0.3933 - accuracy: 0.8553\n",
            "Accuracy 85.52774786949158\n",
            "\n",
            "=======================================================\n",
            "\n",
            "Model: \"sequential_1\"\n",
            "_________________________________________________________________\n",
            "Layer (type)                 Output Shape              Param #   \n",
            "=================================================================\n",
            "embedding_1 (Embedding)      (None, 8, 100)            976800    \n",
            "_________________________________________________________________\n",
            "flatten_1 (Flatten)          (None, 800)               0         \n",
            "_________________________________________________________________\n",
            "dense_1 (Dense)              (None, 7)                 5607      \n",
            "=================================================================\n",
            "Total params: 982,407\n",
            "Trainable params: 982,407\n",
            "Non-trainable params: 0\n",
            "_________________________________________________________________\n",
            "None\n",
            "Epoch 1/30\n",
            "138/138 [==============================] - 3s 19ms/step - loss: 1.5908 - accuracy: 0.6681 - val_loss: 0.3753 - val_accuracy: 0.9515\n",
            "Epoch 2/30\n",
            "138/138 [==============================] - 2s 17ms/step - loss: 0.2710 - accuracy: 0.9595 - val_loss: 0.1495 - val_accuracy: 0.9674\n",
            "Epoch 3/30\n",
            "138/138 [==============================] - 2s 18ms/step - loss: 0.1012 - accuracy: 0.9851 - val_loss: 0.1050 - val_accuracy: 0.9751\n",
            "Epoch 4/30\n",
            "138/138 [==============================] - 2s 17ms/step - loss: 0.0563 - accuracy: 0.9909 - val_loss: 0.0875 - val_accuracy: 0.9773\n",
            "Epoch 5/30\n",
            "138/138 [==============================] - 2s 17ms/step - loss: 0.0353 - accuracy: 0.9950 - val_loss: 0.0784 - val_accuracy: 0.9778\n",
            "Epoch 6/30\n",
            "138/138 [==============================] - 2s 18ms/step - loss: 0.0280 - accuracy: 0.9951 - val_loss: 0.0728 - val_accuracy: 0.9801\n",
            "Epoch 7/30\n",
            "138/138 [==============================] - 2s 18ms/step - loss: 0.0195 - accuracy: 0.9972 - val_loss: 0.0696 - val_accuracy: 0.9791\n",
            "Epoch 8/30\n",
            "138/138 [==============================] - 2s 18ms/step - loss: 0.0147 - accuracy: 0.9982 - val_loss: 0.0672 - val_accuracy: 0.9796\n",
            "Epoch 9/30\n",
            "138/138 [==============================] - 3s 19ms/step - loss: 0.0113 - accuracy: 0.9988 - val_loss: 0.0666 - val_accuracy: 0.9801\n",
            "Epoch 10/30\n",
            "138/138 [==============================] - 3s 18ms/step - loss: 0.0085 - accuracy: 0.9994 - val_loss: 0.0664 - val_accuracy: 0.9805\n",
            "Epoch 11/30\n",
            "138/138 [==============================] - 3s 20ms/step - loss: 0.0068 - accuracy: 0.9993 - val_loss: 0.0656 - val_accuracy: 0.9810\n",
            "Epoch 12/30\n",
            "138/138 [==============================] - 3s 19ms/step - loss: 0.0053 - accuracy: 0.9998 - val_loss: 0.0659 - val_accuracy: 0.9810\n",
            "Epoch 13/30\n",
            "138/138 [==============================] - 2s 18ms/step - loss: 0.0049 - accuracy: 0.9996 - val_loss: 0.0659 - val_accuracy: 0.9805\n",
            "Epoch 14/30\n",
            "138/138 [==============================] - 2s 18ms/step - loss: 0.0041 - accuracy: 0.9998 - val_loss: 0.0654 - val_accuracy: 0.9805\n",
            "Epoch 15/30\n",
            "138/138 [==============================] - 2s 18ms/step - loss: 0.0032 - accuracy: 1.0000 - val_loss: 0.0671 - val_accuracy: 0.9810\n",
            "Epoch 16/30\n",
            "138/138 [==============================] - 2s 17ms/step - loss: 0.0028 - accuracy: 1.0000 - val_loss: 0.0670 - val_accuracy: 0.9805\n",
            "Epoch 17/30\n",
            "138/138 [==============================] - 2s 17ms/step - loss: 0.0026 - accuracy: 0.9996 - val_loss: 0.0676 - val_accuracy: 0.9801\n",
            "Epoch 18/30\n",
            "138/138 [==============================] - 2s 17ms/step - loss: 0.0024 - accuracy: 0.9995 - val_loss: 0.0672 - val_accuracy: 0.9796\n",
            "Epoch 19/30\n",
            "138/138 [==============================] - 2s 17ms/step - loss: 0.0019 - accuracy: 0.9999 - val_loss: 0.0683 - val_accuracy: 0.9791\n",
            "Epoch 00019: early stopping\n",
            "87/87 [==============================] - 0s 1ms/step - loss: 0.0524 - accuracy: 0.9833\n",
            "Accuracy 98.33151698112488\n",
            "\n",
            "=======================================================\n",
            "\n",
            "Model: \"sequential_2\"\n",
            "_________________________________________________________________\n",
            "Layer (type)                 Output Shape              Param #   \n",
            "=================================================================\n",
            "embedding_2 (Embedding)      (None, 10, 100)           976800    \n",
            "_________________________________________________________________\n",
            "flatten_2 (Flatten)          (None, 1000)              0         \n",
            "_________________________________________________________________\n",
            "dense_2 (Dense)              (None, 7)                 7007      \n",
            "=================================================================\n",
            "Total params: 983,807\n",
            "Trainable params: 983,807\n",
            "Non-trainable params: 0\n",
            "_________________________________________________________________\n",
            "None\n",
            "Epoch 1/30\n",
            "138/138 [==============================] - 3s 19ms/step - loss: 1.5868 - accuracy: 0.6662 - val_loss: 0.3690 - val_accuracy: 0.9461\n",
            "Epoch 2/30\n",
            "138/138 [==============================] - 2s 17ms/step - loss: 0.2618 - accuracy: 0.9600 - val_loss: 0.1447 - val_accuracy: 0.9683\n",
            "Epoch 3/30\n",
            "138/138 [==============================] - 2s 16ms/step - loss: 0.0979 - accuracy: 0.9842 - val_loss: 0.1007 - val_accuracy: 0.9760\n",
            "Epoch 4/30\n",
            "138/138 [==============================] - 2s 18ms/step - loss: 0.0532 - accuracy: 0.9904 - val_loss: 0.0851 - val_accuracy: 0.9764\n",
            "Epoch 5/30\n",
            "138/138 [==============================] - 2s 18ms/step - loss: 0.0319 - accuracy: 0.9954 - val_loss: 0.0758 - val_accuracy: 0.9796\n",
            "Epoch 6/30\n",
            "138/138 [==============================] - 2s 16ms/step - loss: 0.0232 - accuracy: 0.9964 - val_loss: 0.0701 - val_accuracy: 0.9782\n",
            "Epoch 7/30\n",
            "138/138 [==============================] - 2s 16ms/step - loss: 0.0188 - accuracy: 0.9972 - val_loss: 0.0669 - val_accuracy: 0.9782\n",
            "Epoch 8/30\n",
            "138/138 [==============================] - 2s 17ms/step - loss: 0.0139 - accuracy: 0.9977 - val_loss: 0.0666 - val_accuracy: 0.9801\n",
            "Epoch 9/30\n",
            "138/138 [==============================] - 2s 16ms/step - loss: 0.0101 - accuracy: 0.9989 - val_loss: 0.0635 - val_accuracy: 0.9805\n",
            "Epoch 10/30\n",
            "138/138 [==============================] - 2s 16ms/step - loss: 0.0090 - accuracy: 0.9983 - val_loss: 0.0625 - val_accuracy: 0.9801\n",
            "Epoch 11/30\n",
            "138/138 [==============================] - 2s 17ms/step - loss: 0.0070 - accuracy: 0.9993 - val_loss: 0.0637 - val_accuracy: 0.9805\n",
            "Epoch 12/30\n",
            "138/138 [==============================] - 2s 17ms/step - loss: 0.0053 - accuracy: 0.9999 - val_loss: 0.0627 - val_accuracy: 0.9801\n",
            "Epoch 13/30\n",
            "138/138 [==============================] - 2s 18ms/step - loss: 0.0043 - accuracy: 0.9997 - val_loss: 0.0622 - val_accuracy: 0.9801\n",
            "Epoch 14/30\n",
            "138/138 [==============================] - 2s 16ms/step - loss: 0.0040 - accuracy: 0.9997 - val_loss: 0.0634 - val_accuracy: 0.9801\n",
            "Epoch 15/30\n",
            "138/138 [==============================] - 2s 16ms/step - loss: 0.0030 - accuracy: 1.0000 - val_loss: 0.0640 - val_accuracy: 0.9814\n",
            "Epoch 16/30\n",
            "138/138 [==============================] - 2s 17ms/step - loss: 0.0030 - accuracy: 0.9997 - val_loss: 0.0640 - val_accuracy: 0.9805\n",
            "Epoch 17/30\n",
            "138/138 [==============================] - 3s 18ms/step - loss: 0.0025 - accuracy: 0.9999 - val_loss: 0.0634 - val_accuracy: 0.9801\n",
            "Epoch 18/30\n",
            "138/138 [==============================] - 2s 18ms/step - loss: 0.0023 - accuracy: 0.9997 - val_loss: 0.0650 - val_accuracy: 0.9805\n",
            "Epoch 00018: early stopping\n",
            "87/87 [==============================] - 0s 2ms/step - loss: 0.0484 - accuracy: 0.9830\n",
            "Accuracy 98.29524755477905\n",
            "\n",
            "=======================================================\n",
            "\n",
            "Model: \"sequential_3\"\n",
            "_________________________________________________________________\n",
            "Layer (type)                 Output Shape              Param #   \n",
            "=================================================================\n",
            "embedding_3 (Embedding)      (None, 12, 100)           976800    \n",
            "_________________________________________________________________\n",
            "flatten_3 (Flatten)          (None, 1200)              0         \n",
            "_________________________________________________________________\n",
            "dense_3 (Dense)              (None, 7)                 8407      \n",
            "=================================================================\n",
            "Total params: 985,207\n",
            "Trainable params: 985,207\n",
            "Non-trainable params: 0\n",
            "_________________________________________________________________\n",
            "None\n",
            "Epoch 1/30\n",
            "138/138 [==============================] - 3s 19ms/step - loss: 1.5905 - accuracy: 0.6151 - val_loss: 0.3637 - val_accuracy: 0.9451\n",
            "Epoch 2/30\n",
            "138/138 [==============================] - 3s 19ms/step - loss: 0.2587 - accuracy: 0.9594 - val_loss: 0.1375 - val_accuracy: 0.9746\n",
            "Epoch 3/30\n",
            "138/138 [==============================] - 3s 19ms/step - loss: 0.0962 - accuracy: 0.9833 - val_loss: 0.0948 - val_accuracy: 0.9778\n",
            "Epoch 4/30\n",
            "138/138 [==============================] - 3s 20ms/step - loss: 0.0527 - accuracy: 0.9904 - val_loss: 0.0794 - val_accuracy: 0.9791\n",
            "Epoch 5/30\n",
            "138/138 [==============================] - 3s 18ms/step - loss: 0.0346 - accuracy: 0.9936 - val_loss: 0.0700 - val_accuracy: 0.9805\n",
            "Epoch 6/30\n",
            "138/138 [==============================] - 2s 18ms/step - loss: 0.0260 - accuracy: 0.9947 - val_loss: 0.0665 - val_accuracy: 0.9805\n",
            "Epoch 7/30\n",
            "138/138 [==============================] - 2s 18ms/step - loss: 0.0182 - accuracy: 0.9970 - val_loss: 0.0639 - val_accuracy: 0.9810\n",
            "Epoch 8/30\n",
            "138/138 [==============================] - 2s 17ms/step - loss: 0.0131 - accuracy: 0.9979 - val_loss: 0.0616 - val_accuracy: 0.9823\n",
            "Epoch 9/30\n",
            "138/138 [==============================] - 2s 18ms/step - loss: 0.0106 - accuracy: 0.9980 - val_loss: 0.0612 - val_accuracy: 0.9805\n",
            "Epoch 10/30\n",
            "138/138 [==============================] - 3s 18ms/step - loss: 0.0077 - accuracy: 0.9992 - val_loss: 0.0592 - val_accuracy: 0.9814\n",
            "Epoch 11/30\n",
            "138/138 [==============================] - 2s 17ms/step - loss: 0.0064 - accuracy: 0.9999 - val_loss: 0.0594 - val_accuracy: 0.9810\n",
            "Epoch 12/30\n",
            "138/138 [==============================] - 2s 17ms/step - loss: 0.0053 - accuracy: 0.9998 - val_loss: 0.0612 - val_accuracy: 0.9832\n",
            "Epoch 13/30\n",
            "138/138 [==============================] - 2s 18ms/step - loss: 0.0046 - accuracy: 0.9996 - val_loss: 0.0596 - val_accuracy: 0.9823\n",
            "Epoch 14/30\n",
            "138/138 [==============================] - 3s 18ms/step - loss: 0.0036 - accuracy: 0.9998 - val_loss: 0.0609 - val_accuracy: 0.9837\n",
            "Epoch 15/30\n",
            "138/138 [==============================] - 2s 18ms/step - loss: 0.0037 - accuracy: 0.9992 - val_loss: 0.0597 - val_accuracy: 0.9823\n",
            "Epoch 00015: early stopping\n",
            "87/87 [==============================] - 0s 2ms/step - loss: 0.0482 - accuracy: 0.9848\n",
            "Accuracy 98.47660660743713\n",
            "\n",
            "=======================================================\n",
            "\n",
            "Model: \"sequential_4\"\n",
            "_________________________________________________________________\n",
            "Layer (type)                 Output Shape              Param #   \n",
            "=================================================================\n",
            "embedding_4 (Embedding)      (None, 13, 100)           976800    \n",
            "_________________________________________________________________\n",
            "flatten_4 (Flatten)          (None, 1300)              0         \n",
            "_________________________________________________________________\n",
            "dense_4 (Dense)              (None, 7)                 9107      \n",
            "=================================================================\n",
            "Total params: 985,907\n",
            "Trainable params: 985,907\n",
            "Non-trainable params: 0\n",
            "_________________________________________________________________\n",
            "None\n",
            "Epoch 1/30\n",
            "138/138 [==============================] - 3s 21ms/step - loss: 1.5812 - accuracy: 0.6374 - val_loss: 0.3531 - val_accuracy: 0.9547\n",
            "Epoch 2/30\n",
            "138/138 [==============================] - 3s 20ms/step - loss: 0.2492 - accuracy: 0.9631 - val_loss: 0.1381 - val_accuracy: 0.9696\n",
            "Epoch 3/30\n",
            "138/138 [==============================] - 3s 20ms/step - loss: 0.0912 - accuracy: 0.9849 - val_loss: 0.0957 - val_accuracy: 0.9778\n",
            "Epoch 4/30\n",
            "138/138 [==============================] - 3s 20ms/step - loss: 0.0505 - accuracy: 0.9923 - val_loss: 0.0791 - val_accuracy: 0.9791\n",
            "Epoch 5/30\n",
            "138/138 [==============================] - 3s 19ms/step - loss: 0.0364 - accuracy: 0.9923 - val_loss: 0.0719 - val_accuracy: 0.9787\n",
            "Epoch 6/30\n",
            "138/138 [==============================] - 3s 20ms/step - loss: 0.0240 - accuracy: 0.9955 - val_loss: 0.0661 - val_accuracy: 0.9805\n",
            "Epoch 7/30\n",
            "138/138 [==============================] - 3s 20ms/step - loss: 0.0204 - accuracy: 0.9955 - val_loss: 0.0643 - val_accuracy: 0.9810\n",
            "Epoch 8/30\n",
            "138/138 [==============================] - 3s 19ms/step - loss: 0.0140 - accuracy: 0.9980 - val_loss: 0.0626 - val_accuracy: 0.9801\n",
            "Epoch 9/30\n",
            "138/138 [==============================] - 3s 19ms/step - loss: 0.0102 - accuracy: 0.9982 - val_loss: 0.0609 - val_accuracy: 0.9810\n",
            "Epoch 10/30\n",
            "138/138 [==============================] - 3s 19ms/step - loss: 0.0076 - accuracy: 0.9993 - val_loss: 0.0608 - val_accuracy: 0.9805\n",
            "Epoch 11/30\n",
            "138/138 [==============================] - 3s 20ms/step - loss: 0.0064 - accuracy: 0.9992 - val_loss: 0.0595 - val_accuracy: 0.9814\n",
            "Epoch 12/30\n",
            "138/138 [==============================] - 3s 20ms/step - loss: 0.0051 - accuracy: 0.9997 - val_loss: 0.0598 - val_accuracy: 0.9810\n",
            "Epoch 13/30\n",
            "138/138 [==============================] - 3s 19ms/step - loss: 0.0044 - accuracy: 0.9998 - val_loss: 0.0596 - val_accuracy: 0.9814\n",
            "Epoch 14/30\n",
            "138/138 [==============================] - 3s 19ms/step - loss: 0.0037 - accuracy: 0.9999 - val_loss: 0.0601 - val_accuracy: 0.9814\n",
            "Epoch 15/30\n",
            "138/138 [==============================] - 3s 20ms/step - loss: 0.0032 - accuracy: 0.9998 - val_loss: 0.0610 - val_accuracy: 0.9814\n",
            "Epoch 16/30\n",
            "138/138 [==============================] - 3s 19ms/step - loss: 0.0031 - accuracy: 0.9996 - val_loss: 0.0611 - val_accuracy: 0.9819\n",
            "Epoch 00016: early stopping\n",
            "87/87 [==============================] - 0s 2ms/step - loss: 0.0473 - accuracy: 0.9851\n",
            "Accuracy 98.51287603378296\n",
            "\n",
            "=======================================================\n",
            "\n",
            "Model: \"sequential_5\"\n",
            "_________________________________________________________________\n",
            "Layer (type)                 Output Shape              Param #   \n",
            "=================================================================\n",
            "embedding_5 (Embedding)      (None, 33, 100)           976800    \n",
            "_________________________________________________________________\n",
            "flatten_5 (Flatten)          (None, 3300)              0         \n",
            "_________________________________________________________________\n",
            "dense_5 (Dense)              (None, 7)                 23107     \n",
            "=================================================================\n",
            "Total params: 999,907\n",
            "Trainable params: 999,907\n",
            "Non-trainable params: 0\n",
            "_________________________________________________________________\n",
            "None\n",
            "Epoch 1/30\n",
            "138/138 [==============================] - 4s 24ms/step - loss: 1.6069 - accuracy: 0.5540 - val_loss: 0.3279 - val_accuracy: 0.9492\n",
            "Epoch 2/30\n",
            "138/138 [==============================] - 3s 21ms/step - loss: 0.2267 - accuracy: 0.9635 - val_loss: 0.1285 - val_accuracy: 0.9733\n",
            "Epoch 3/30\n",
            "138/138 [==============================] - 3s 21ms/step - loss: 0.0867 - accuracy: 0.9845 - val_loss: 0.0907 - val_accuracy: 0.9791\n",
            "Epoch 4/30\n",
            "138/138 [==============================] - 3s 21ms/step - loss: 0.0497 - accuracy: 0.9910 - val_loss: 0.0759 - val_accuracy: 0.9810\n",
            "Epoch 5/30\n",
            "138/138 [==============================] - 3s 22ms/step - loss: 0.0335 - accuracy: 0.9932 - val_loss: 0.0689 - val_accuracy: 0.9810\n",
            "Epoch 6/30\n",
            "138/138 [==============================] - 3s 21ms/step - loss: 0.0218 - accuracy: 0.9965 - val_loss: 0.0648 - val_accuracy: 0.9819\n",
            "Epoch 7/30\n",
            "138/138 [==============================] - 3s 21ms/step - loss: 0.0168 - accuracy: 0.9967 - val_loss: 0.0619 - val_accuracy: 0.9814\n",
            "Epoch 8/30\n",
            "138/138 [==============================] - 3s 21ms/step - loss: 0.0126 - accuracy: 0.9985 - val_loss: 0.0605 - val_accuracy: 0.9814\n",
            "Epoch 9/30\n",
            "138/138 [==============================] - 3s 21ms/step - loss: 0.0106 - accuracy: 0.9981 - val_loss: 0.0588 - val_accuracy: 0.9823\n",
            "Epoch 10/30\n",
            "138/138 [==============================] - 3s 21ms/step - loss: 0.0078 - accuracy: 0.9992 - val_loss: 0.0586 - val_accuracy: 0.9819\n",
            "Epoch 11/30\n",
            "138/138 [==============================] - 3s 22ms/step - loss: 0.0065 - accuracy: 0.9994 - val_loss: 0.0589 - val_accuracy: 0.9819\n",
            "Epoch 12/30\n",
            "138/138 [==============================] - 3s 21ms/step - loss: 0.0060 - accuracy: 0.9992 - val_loss: 0.0592 - val_accuracy: 0.9823\n",
            "Epoch 13/30\n",
            "138/138 [==============================] - 3s 20ms/step - loss: 0.0048 - accuracy: 0.9995 - val_loss: 0.0583 - val_accuracy: 0.9828\n",
            "Epoch 14/30\n",
            "138/138 [==============================] - 3s 20ms/step - loss: 0.0035 - accuracy: 0.9996 - val_loss: 0.0594 - val_accuracy: 0.9823\n",
            "Epoch 15/30\n",
            "138/138 [==============================] - 3s 22ms/step - loss: 0.0028 - accuracy: 0.9999 - val_loss: 0.0596 - val_accuracy: 0.9828\n",
            "Epoch 16/30\n",
            "138/138 [==============================] - 3s 23ms/step - loss: 0.0025 - accuracy: 1.0000 - val_loss: 0.0595 - val_accuracy: 0.9828\n",
            "Epoch 17/30\n",
            "138/138 [==============================] - 3s 21ms/step - loss: 0.0027 - accuracy: 0.9998 - val_loss: 0.0608 - val_accuracy: 0.9828\n",
            "Epoch 18/30\n",
            "138/138 [==============================] - 3s 21ms/step - loss: 0.0019 - accuracy: 1.0000 - val_loss: 0.0616 - val_accuracy: 0.9819\n",
            "Epoch 00018: early stopping\n",
            "87/87 [==============================] - 0s 2ms/step - loss: 0.0501 - accuracy: 0.9837\n",
            "Accuracy 98.36779236793518\n",
            "\n",
            "=======================================================\n",
            "\n"
          ],
          "name": "stdout"
        }
      ]
    },
    {
      "cell_type": "code",
      "metadata": {
        "id": "dJtnYTgA_06S",
        "colab": {
          "base_uri": "https://localhost:8080/",
          "height": 225
        },
        "outputId": "2505927b-b03d-4c0d-c71b-22c2d35d9145"
      },
      "source": [
        "wyniki"
      ],
      "execution_count": 19,
      "outputs": [
        {
          "output_type": "execute_result",
          "data": {
            "text/html": [
              "<div>\n",
              "<style scoped>\n",
              "    .dataframe tbody tr th:only-of-type {\n",
              "        vertical-align: middle;\n",
              "    }\n",
              "\n",
              "    .dataframe tbody tr th {\n",
              "        vertical-align: top;\n",
              "    }\n",
              "\n",
              "    .dataframe thead th {\n",
              "        text-align: right;\n",
              "    }\n",
              "</style>\n",
              "<table border=\"1\" class=\"dataframe\">\n",
              "  <thead>\n",
              "    <tr style=\"text-align: right;\">\n",
              "      <th></th>\n",
              "      <th>maxlen</th>\n",
              "      <th>Accuracy</th>\n",
              "      <th>model_name</th>\n",
              "    </tr>\n",
              "  </thead>\n",
              "  <tbody>\n",
              "    <tr>\n",
              "      <th>0</th>\n",
              "      <td>2</td>\n",
              "      <td>85.527748</td>\n",
              "      <td>model_maxlen_2</td>\n",
              "    </tr>\n",
              "    <tr>\n",
              "      <th>1</th>\n",
              "      <td>8</td>\n",
              "      <td>98.331517</td>\n",
              "      <td>model_maxlen_8</td>\n",
              "    </tr>\n",
              "    <tr>\n",
              "      <th>2</th>\n",
              "      <td>10</td>\n",
              "      <td>98.295248</td>\n",
              "      <td>model_maxlen_10</td>\n",
              "    </tr>\n",
              "    <tr>\n",
              "      <th>3</th>\n",
              "      <td>12</td>\n",
              "      <td>98.476607</td>\n",
              "      <td>model_maxlen_12</td>\n",
              "    </tr>\n",
              "    <tr>\n",
              "      <th>4</th>\n",
              "      <td>13</td>\n",
              "      <td>98.512876</td>\n",
              "      <td>model_maxlen_13</td>\n",
              "    </tr>\n",
              "    <tr>\n",
              "      <th>5</th>\n",
              "      <td>33</td>\n",
              "      <td>98.367792</td>\n",
              "      <td>model_maxlen_33</td>\n",
              "    </tr>\n",
              "  </tbody>\n",
              "</table>\n",
              "</div>"
            ],
            "text/plain": [
              "  maxlen   Accuracy       model_name\n",
              "0      2  85.527748   model_maxlen_2\n",
              "1      8  98.331517   model_maxlen_8\n",
              "2     10  98.295248  model_maxlen_10\n",
              "3     12  98.476607  model_maxlen_12\n",
              "4     13  98.512876  model_maxlen_13\n",
              "5     33  98.367792  model_maxlen_33"
            ]
          },
          "metadata": {
            "tags": []
          },
          "execution_count": 19
        }
      ]
    },
    {
      "cell_type": "markdown",
      "metadata": {
        "id": "gRRUi8vl_h15"
      },
      "source": [
        "#### Wyłonienie najlepszego maxlen"
      ]
    },
    {
      "cell_type": "code",
      "metadata": {
        "colab": {
          "base_uri": "https://localhost:8080/"
        },
        "id": "82L-Ne9uDfmw",
        "outputId": "3e7d0580-a371-4c6e-f1d6-00c4b6fec6b9"
      },
      "source": [
        "maxlen_index = wyniki[wyniki[\"Accuracy\"] == wyniki[\"Accuracy\"].max()].index[0]  # index pierwszego najlepszego wyniku dla Accuracy\n",
        "maxlen = int(wyniki[\"maxlen\"].iloc[maxlen_index]) # pobranie maxlen dla wskazanego indexu\n",
        "model_name = wyniki[\"model_name\"].iloc[maxlen_index] # pobranie nazwy modelu dla wskazanego indexu\n",
        "\n",
        "wyniki.iloc[maxlen_index]"
      ],
      "execution_count": 20,
      "outputs": [
        {
          "output_type": "execute_result",
          "data": {
            "text/plain": [
              "maxlen                     13\n",
              "Accuracy              98.5129\n",
              "model_name    model_maxlen_13\n",
              "Name: 4, dtype: object"
            ]
          },
          "metadata": {
            "tags": []
          },
          "execution_count": 20
        }
      ]
    },
    {
      "cell_type": "markdown",
      "metadata": {
        "id": "_i5_jTVUKbZS"
      },
      "source": [
        "#### Wczytanie modelu z największym accuracy "
      ]
    },
    {
      "cell_type": "code",
      "metadata": {
        "colab": {
          "base_uri": "https://localhost:8080/"
        },
        "id": "tO5ar_LSThtM",
        "outputId": "a73d0d23-ae70-400a-a4c9-bdabb1e669cb"
      },
      "source": [
        "model = load_model(f'{model_name}.h5')\n",
        "model.summary()"
      ],
      "execution_count": 21,
      "outputs": [
        {
          "output_type": "stream",
          "text": [
            "Model: \"sequential_4\"\n",
            "_________________________________________________________________\n",
            "Layer (type)                 Output Shape              Param #   \n",
            "=================================================================\n",
            "embedding_4 (Embedding)      (None, 13, 100)           976800    \n",
            "_________________________________________________________________\n",
            "flatten_4 (Flatten)          (None, 1300)              0         \n",
            "_________________________________________________________________\n",
            "dense_4 (Dense)              (None, 7)                 9107      \n",
            "=================================================================\n",
            "Total params: 985,907\n",
            "Trainable params: 985,907\n",
            "Non-trainable params: 0\n",
            "_________________________________________________________________\n"
          ],
          "name": "stdout"
        }
      ]
    },
    {
      "cell_type": "markdown",
      "metadata": {
        "id": "B0IdSKiJtzgd"
      },
      "source": [
        "#### Predykcja na zbiorze validacyjnym"
      ]
    },
    {
      "cell_type": "code",
      "metadata": {
        "colab": {
          "base_uri": "https://localhost:8080/"
        },
        "id": "27dr_LCO_1IW",
        "outputId": "906d58ad-800d-4ce0-a229-8196a5eaca4d"
      },
      "source": [
        "# oczysczenie danych\n",
        "data_set_valid[\"clean_text\"] = data_set_valid[\"text\"].apply(lambda x: process_text(x))\n",
        "\n",
        "# labelencoder \n",
        "data_set_valid[\"labelencoder\"] = labelencoder.fit_transform(data_set_valid[\"label\"])\n",
        "\n",
        "# tokenizacja weg przetrenowanego już tokenizera\n",
        "X_validate = tokenizer.texts_to_sequences(data_set_valid[\"clean_text\"])\n",
        "\n",
        "# pad sequel\n",
        "X_validate = pad_sequences(X_validate, padding=\"post\", truncating=\"post\", maxlen=maxlen)\n",
        "X_validate"
      ],
      "execution_count": 22,
      "outputs": [
        {
          "output_type": "execute_result",
          "data": {
            "text/plain": [
              "array([[ 15,  42,  50, ...,   0,   0,   0],\n",
              "       [241, 177,  21, ...,   0,   0,   0],\n",
              "       [ 15,   8,   1, ...,   2, 174, 997],\n",
              "       ...,\n",
              "       [ 28,   1,  84, ...,   0,   0,   0],\n",
              "       [ 15,   8,   1, ...,   0,   0,   0],\n",
              "       [ 45,  40,   4, ...,   0,   0,   0]], dtype=int32)"
            ]
          },
          "metadata": {
            "tags": []
          },
          "execution_count": 22
        }
      ]
    },
    {
      "cell_type": "code",
      "metadata": {
        "colab": {
          "base_uri": "https://localhost:8080/"
        },
        "id": "UOPVqktyANNF",
        "outputId": "e9c23d8a-053e-48d8-d2c7-f7908d6d84b2"
      },
      "source": [
        "dummy_y_valid = data_set_valid[\"labelencoder\"].values\n",
        "dummy_y_valid[:5]"
      ],
      "execution_count": 23,
      "outputs": [
        {
          "output_type": "execute_result",
          "data": {
            "text/plain": [
              "array([6, 3, 2, 0, 6])"
            ]
          },
          "metadata": {
            "tags": []
          },
          "execution_count": 23
        }
      ]
    },
    {
      "cell_type": "code",
      "metadata": {
        "colab": {
          "base_uri": "https://localhost:8080/"
        },
        "id": "NAiFC304APqL",
        "outputId": "6db5212e-7104-42f4-d072-e73834dc8006"
      },
      "source": [
        "# Sprawdzenie rozmiaru zbiorów validacyjnego\n",
        "X_validate.shape, dummy_y_valid.shape"
      ],
      "execution_count": 24,
      "outputs": [
        {
          "output_type": "execute_result",
          "data": {
            "text/plain": [
              "((700, 13), (700,))"
            ]
          },
          "metadata": {
            "tags": []
          },
          "execution_count": 24
        }
      ]
    },
    {
      "cell_type": "code",
      "metadata": {
        "colab": {
          "base_uri": "https://localhost:8080/"
        },
        "id": "WRbEdb7AAXGy",
        "outputId": "61e8a05f-0406-482f-f86f-3b418d69b605"
      },
      "source": [
        "predicted_lstm_val = np.argmax(model.predict(X_validate), axis=-1)\n",
        "predicted_lstm_val[:5]"
      ],
      "execution_count": 25,
      "outputs": [
        {
          "output_type": "execute_result",
          "data": {
            "text/plain": [
              "array([6, 3, 2, 0, 6])"
            ]
          },
          "metadata": {
            "tags": []
          },
          "execution_count": 25
        }
      ]
    },
    {
      "cell_type": "markdown",
      "metadata": {
        "id": "_5wZwn-_uKE9"
      },
      "source": [
        "#### Rozkodowanie przewidzianych i prawidłowych etykiet"
      ]
    },
    {
      "cell_type": "code",
      "metadata": {
        "colab": {
          "base_uri": "https://localhost:8080/"
        },
        "id": "G4U9hYvnBJ9F",
        "outputId": "c6d48a22-7a50-4c3b-d4cd-8de65a969bbe"
      },
      "source": [
        "y_pred = labelencoder.inverse_transform(predicted_lstm_val)\n",
        "y_pred = pd.Series(y_pred)\n",
        "y_pred.head()"
      ],
      "execution_count": 26,
      "outputs": [
        {
          "output_type": "execute_result",
          "data": {
            "text/plain": [
              "0    SearchScreeningEvent\n",
              "1               PlayMusic\n",
              "2              GetWeather\n",
              "3           AddToPlaylist\n",
              "4    SearchScreeningEvent\n",
              "dtype: object"
            ]
          },
          "metadata": {
            "tags": []
          },
          "execution_count": 26
        }
      ]
    },
    {
      "cell_type": "code",
      "metadata": {
        "colab": {
          "base_uri": "https://localhost:8080/"
        },
        "id": "EW03pUanA729",
        "outputId": "9708f65b-3eae-495e-f34d-16dc65a2753c"
      },
      "source": [
        "y_val = labelencoder.inverse_transform(dummy_y_valid)\n",
        "y_val = pd.Series(y_val)\n",
        "y_val.head()"
      ],
      "execution_count": 27,
      "outputs": [
        {
          "output_type": "execute_result",
          "data": {
            "text/plain": [
              "0    SearchScreeningEvent\n",
              "1               PlayMusic\n",
              "2              GetWeather\n",
              "3           AddToPlaylist\n",
              "4    SearchScreeningEvent\n",
              "dtype: object"
            ]
          },
          "metadata": {
            "tags": []
          },
          "execution_count": 27
        }
      ]
    },
    {
      "cell_type": "markdown",
      "metadata": {
        "id": "RcGfyRgQudTZ"
      },
      "source": [
        "#### `Confusion matrix`"
      ]
    },
    {
      "cell_type": "code",
      "metadata": {
        "id": "GXVwswIsA9RT"
      },
      "source": [
        "from sklearn.metrics import accuracy_score, f1_score, classification_report, confusion_matrix\n",
        "%matplotlib inline\n",
        "from matplotlib import pyplot as plt\n",
        "import seaborn as sns"
      ],
      "execution_count": 28,
      "outputs": []
    },
    {
      "cell_type": "code",
      "metadata": {
        "colab": {
          "base_uri": "https://localhost:8080/",
          "height": 701
        },
        "id": "fGr6-cjzBFLc",
        "outputId": "6e9e8805-8531-47a1-f426-a6fdb17a3d82"
      },
      "source": [
        "classes = np.unique(y_val)\n",
        "\n",
        "print('Accuracy:', round(accuracy_score(y_val, y_pred),2))\n",
        "print('F1_score:', round(f1_score(y_val, y_pred, average='weighted'),2))\n",
        "\n",
        "print(classification_report(y_val, y_pred))\n",
        "# Plot confusion matrix\n",
        "cm = confusion_matrix(y_val, y_pred)\n",
        "fig, ax = plt.subplots()\n",
        "sns.heatmap(cm, annot=True, fmt='d', ax=ax, cmap=plt.cm.Blues, cbar=False)\n",
        "ax.set(xlabel='Pred', ylabel='True', xticklabels=classes, yticklabels=classes, title='Confusion matrix')\n",
        "plt.yticks(rotation=0)\n",
        "plt.xticks(rotation=90)"
      ],
      "execution_count": 29,
      "outputs": [
        {
          "output_type": "stream",
          "text": [
            "Accuracy: 0.98\n",
            "F1_score: 0.98\n",
            "                      precision    recall  f1-score   support\n",
            "\n",
            "       AddToPlaylist       0.98      1.00      0.99       100\n",
            "      BookRestaurant       0.99      0.99      0.99       100\n",
            "          GetWeather       0.98      0.98      0.98       100\n",
            "           PlayMusic       1.00      0.97      0.98       100\n",
            "            RateBook       1.00      1.00      1.00       100\n",
            "  SearchCreativeWork       0.93      1.00      0.96       100\n",
            "SearchScreeningEvent       1.00      0.93      0.96       100\n",
            "\n",
            "            accuracy                           0.98       700\n",
            "           macro avg       0.98      0.98      0.98       700\n",
            "        weighted avg       0.98      0.98      0.98       700\n",
            "\n"
          ],
          "name": "stdout"
        },
        {
          "output_type": "execute_result",
          "data": {
            "text/plain": [
              "(array([0.5, 1.5, 2.5, 3.5, 4.5, 5.5, 6.5]),\n",
              " <a list of 7 Text major ticklabel objects>)"
            ]
          },
          "metadata": {
            "tags": []
          },
          "execution_count": 29
        },
        {
          "output_type": "display_data",
          "data": {
            "image/png": "[encoded data removed]",
            "text/plain": [
              "<Figure size 432x288 with 1 Axes>"
            ]
          },
          "metadata": {
            "tags": [],
            "needs_background": "light"
          }
        }
      ]
    },
    {
      "cell_type": "markdown",
      "metadata": {
        "id": "9uxfqF9uum32"
      },
      "source": [
        "#### Zapoznanie się z błędnymi predykcjami "
      ]
    },
    {
      "cell_type": "code",
      "metadata": {
        "colab": {
          "base_uri": "https://localhost:8080/"
        },
        "id": "28QYnOPM-mJz",
        "outputId": "9be1e5e1-bc69-41df-e979-a51d74888ff9"
      },
      "source": [
        "indexes = []\n",
        "for i, phrase in enumerate(y_pred):\n",
        "  if phrase == 'SearchCreativeWork':\n",
        "    if y_val[i] == 'SearchScreeningEvent':\n",
        "      indexes.append(i)\n",
        "print(indexes)"
      ],
      "execution_count": 30,
      "outputs": [
        {
          "output_type": "stream",
          "text": [
            "[519, 557, 568, 615, 648, 689]\n"
          ],
          "name": "stdout"
        }
      ]
    },
    {
      "cell_type": "code",
      "metadata": {
        "colab": {
          "base_uri": "https://localhost:8080/"
        },
        "id": "ouy1yzy8-048",
        "outputId": "5900ae08-dc4d-4429-f850-6c76be71a722"
      },
      "source": [
        "for i in indexes:\n",
        "  print(f\"----------------------------\\nTekst komendy id {i}:\\n{data_set_valid['text'][i]}\")\n",
        "  print(f\"Oczyszczona komenda i skrócona do wartości maxlen={maxlen}:\\n{' '.join(data_set_valid['clean_text'][i].split()[:maxlen])}\")\n",
        "  print(f'True category: {y_val[i]}')\n",
        "  print(f'Predicted category: {y_pred[i]}')\n",
        "  print(\"\\n\")"
      ],
      "execution_count": 31,
      "outputs": [
        {
          "output_type": "stream",
          "text": [
            "----------------------------\n",
            "Tekst komendy id 519:\n",
            "i want to see JLA Adventures: Trapped In Time\n",
            "Oczyszczona komenda i skrócona do wartości maxlen=13:\n",
            "want to see jla adventures trapped in time\n",
            "True category: SearchScreeningEvent\n",
            "Predicted category: SearchCreativeWork\n",
            "\n",
            "\n",
            "----------------------------\n",
            "Tekst komendy id 557:\n",
            "I want to see Shattered Image.\n",
            "Oczyszczona komenda i skrócona do wartości maxlen=13:\n",
            "want to see shattered image\n",
            "True category: SearchScreeningEvent\n",
            "Predicted category: SearchCreativeWork\n",
            "\n",
            "\n",
            "----------------------------\n",
            "Tekst komendy id 568:\n",
            "Can you check the timings for Super Sweet 16: The Movie?\n",
            "Oczyszczona komenda i skrócona do wartości maxlen=13:\n",
            "can you check the timings for super sweet the movie\n",
            "True category: SearchScreeningEvent\n",
            "Predicted category: SearchCreativeWork\n",
            "\n",
            "\n",
            "----------------------------\n",
            "Tekst komendy id 615:\n",
            "Where can I see The Prime Ministers: The Pioneers\n",
            "Oczyszczona komenda i skrócona do wartości maxlen=13:\n",
            "where can see the prime ministers the pioneers\n",
            "True category: SearchScreeningEvent\n",
            "Predicted category: SearchCreativeWork\n",
            "\n",
            "\n",
            "----------------------------\n",
            "Tekst komendy id 648:\n",
            "I want to see Outcast.\n",
            "Oczyszczona komenda i skrócona do wartości maxlen=13:\n",
            "want to see outcast\n",
            "True category: SearchScreeningEvent\n",
            "Predicted category: SearchCreativeWork\n",
            "\n",
            "\n",
            "----------------------------\n",
            "Tekst komendy id 689:\n",
            "I want to see Fear Chamber.\n",
            "Oczyszczona komenda i skrócona do wartości maxlen=13:\n",
            "want to see fear chamber\n",
            "True category: SearchScreeningEvent\n",
            "Predicted category: SearchCreativeWork\n",
            "\n",
            "\n"
          ],
          "name": "stdout"
        }
      ]
    },
    {
      "cell_type": "markdown",
      "metadata": {
        "id": "lm61MY9CSpLm"
      },
      "source": [
        "Wnioski:\n",
        "> Najlepszy wynik Accuracy: 0.98 i  F1_score: 0.98 osiągneliśmy na parametrze `maxlen` o wartości 13 ( czyli ilość słow która określa 95% wszystkich intencji w zbiorze)"
      ]
    },
    {
      "cell_type": "code",
      "metadata": {
        "colab": {
          "base_uri": "https://localhost:8080/"
        },
        "id": "qs6mCBahWmhY",
        "outputId": "52149752-e052-4373-c197-6f524b58f845"
      },
      "source": [
        "print(wyniki.to_markdown())"
      ],
      "execution_count": 32,
      "outputs": [
        {
          "output_type": "stream",
          "text": [
            "|    |   maxlen |   Accuracy | model_name      |\n",
            "|---:|---------:|-----------:|:----------------|\n",
            "|  0 |        2 |    85.5277 | model_maxlen_2  |\n",
            "|  1 |        8 |    98.3315 | model_maxlen_8  |\n",
            "|  2 |       10 |    98.2952 | model_maxlen_10 |\n",
            "|  3 |       12 |    98.4766 | model_maxlen_12 |\n",
            "|  4 |       13 |    98.5129 | model_maxlen_13 |\n",
            "|  5 |       33 |    98.3678 | model_maxlen_33 |\n"
          ],
          "name": "stdout"
        }
      ]
    },
    {
      "cell_type": "code",
      "metadata": {
        "id": "EGTbKWZQYpWG"
      },
      "source": [
        ""
      ],
      "execution_count": 32,
      "outputs": []
    }
  ]
}